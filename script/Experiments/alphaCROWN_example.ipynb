{
 "cells": [
  {
   "cell_type": "code",
   "execution_count": 1,
   "id": "8995eeac-c4f2-412a-85ff-118fe0977139",
   "metadata": {
    "tags": [],
    "ExecuteTime": {
     "end_time": "2024-04-08T23:23:28.732776285Z",
     "start_time": "2024-04-08T23:23:27.884817087Z"
    }
   },
   "outputs": [],
   "source": [
    "import onnx\n",
    "from onnx2pytorch import ConvertModel\n",
    "from auto_LiRPA import BoundedModule, BoundedTensor, PerturbationLpNorm\n",
    "\n",
    "from vnnlib.compat import read_vnnlib_simple\n",
    "\n",
    "import torch\n",
    "import numpy as np\n",
    "\n",
    "from collections import OrderedDict\n",
    "\n",
    "import csv\n",
    "\n",
    "import os\n",
    "from timeit import default_timer as timer"
   ]
  },
  {
   "cell_type": "markdown",
   "id": "6f8aeb1a-ec64-4099-9e22-4d2d4484688b",
   "metadata": {},
   "source": [
    "# Loading ONNX and VNNLib Specifications"
   ]
  },
  {
   "cell_type": "code",
   "execution_count": 2,
   "id": "3c1a82ed-410e-45bb-8309-390af59f692c",
   "metadata": {
    "tags": [],
    "ExecuteTime": {
     "end_time": "2024-04-08T23:23:30.875841536Z",
     "start_time": "2024-04-08T23:23:30.871757267Z"
    }
   },
   "outputs": [],
   "source": [
    "def load_onnx_model(onnx_path, input_shape):\n",
    "    onnx_model = onnx.load(onnx_path)\n",
    "    torch_model = ConvertModel(onnx_model)\n",
    "    \n",
    "    x_concrete = torch.zeros(input_shape)\n",
    "    model = BoundedModule(torch_model, x_concrete)\n",
    "    return model"
   ]
  },
  {
   "cell_type": "code",
   "execution_count": 3,
   "id": "f98348bc-a6ca-41a1-8491-41dfbc1759d4",
   "metadata": {
    "tags": [],
    "ExecuteTime": {
     "end_time": "2024-04-08T23:23:31.357838340Z",
     "start_time": "2024-04-08T23:23:31.353166741Z"
    }
   },
   "outputs": [],
   "source": [
    "def load_vnnlib_spec(vnnlib_path, input_shape, n_out):\n",
    "    n_in = np.prod(input_shape)\n",
    "    res = read_vnnlib_simple(vnnlib_path, n_in, n_out)\n",
    "    bnds, spec = res[0]\n",
    "    \n",
    "    bnds = np.array(bnds)\n",
    "    lbs = bnds[:,0]\n",
    "    ubs = bnds[:,1]\n",
    "    \n",
    "    data_min = torch.tensor(lbs, dtype=torch.float32).reshape(input_shape)\n",
    "    data_max = torch.tensor(ubs, dtype=torch.float32).reshape(input_shape)\n",
    "    center = 0.5*(data_min + data_max)\n",
    "\n",
    "    ptb = PerturbationLpNorm(x_L=data_min, x_U=data_max)\n",
    "    x = BoundedTensor(center, ptb)\n",
    "    \n",
    "    return x"
   ]
  },
  {
   "cell_type": "code",
   "outputs": [
    {
     "name": "stdout",
     "output_type": "stream",
     "text": [
      "/home/ufuk/Documents/Programming/ICNN_verification\n"
     ]
    }
   ],
   "source": [
    "%cd /home/ufuk/Documents/Programming/ICNN_verification"
   ],
   "metadata": {
    "collapsed": false,
    "ExecuteTime": {
     "end_time": "2024-04-08T23:36:17.854776179Z",
     "start_time": "2024-04-08T23:36:17.849742886Z"
    }
   },
   "id": "7fa5f8ccde39c013",
   "execution_count": 11
  },
  {
   "cell_type": "code",
   "execution_count": 21,
   "id": "764a36c2-3378-4bfb-a997-7b5cc1e96903",
   "metadata": {
    "tags": [],
    "ExecuteTime": {
     "end_time": "2024-04-08T23:38:15.893002756Z",
     "start_time": "2024-04-08T23:38:15.891473988Z"
    }
   },
   "outputs": [],
   "source": [
    "onnx_path = 'script/Experiments/mnist-net_256x4.onnx'\n",
    "vnnlib_path = 'script/Experiments/prop_0_spiral_25.vnnlib'"
   ]
  },
  {
   "cell_type": "markdown",
   "source": [],
   "metadata": {
    "collapsed": false
   },
   "id": "ddd581ffc616457d"
  },
  {
   "cell_type": "code",
   "execution_count": 22,
   "id": "8fab04bf-c040-4b7e-ab18-93d7414134fe",
   "metadata": {
    "tags": [],
    "ExecuteTime": {
     "end_time": "2024-04-08T23:38:16.864672421Z",
     "start_time": "2024-04-08T23:38:16.832621870Z"
    }
   },
   "outputs": [
    {
     "name": "stderr",
     "output_type": "stream",
     "text": [
      "/home/ufuk/miniconda3/envs/autolirpa_icnn/lib/python3.10/site-packages/onnx2pytorch/convert/model.py:163: TracerWarning: Converting a tensor to a Python boolean might cause the trace to be incorrect. We can't record the data flow of Python values, so this value will be treated as a constant in the future. This means that the trace might not generalize to other inputs!\n",
      "  if not self.experimental and inputs[0].shape[self.batch_dim] > 1:\n",
      "/home/ufuk/miniconda3/envs/autolirpa_icnn/lib/python3.10/site-packages/auto_LiRPA/parse_graph.py:154: FutureWarning: 'torch.onnx.symbolic_helper._set_opset_version' is deprecated in version 1.13 and will be removed in 2.0. Please remove its usage and avoid setting internal variables directly.\n",
      "  _set_opset_version(12)\n"
     ]
    }
   ],
   "source": [
    "model = load_onnx_model(onnx_path, [1,1,1,784])\n",
    "x = load_vnnlib_spec(vnnlib_path, [1,1,1,784], 10)"
   ]
  },
  {
   "cell_type": "markdown",
   "id": "f0ab3486-51a1-48ce-aa12-d8937dc4da0d",
   "metadata": {},
   "source": [
    "# Helper Methods"
   ]
  },
  {
   "cell_type": "code",
   "execution_count": 23,
   "id": "c6ae127f-1b84-42e2-954e-d65dcffde529",
   "metadata": {
    "tags": [],
    "ExecuteTime": {
     "end_time": "2024-04-08T23:38:19.032017431Z",
     "start_time": "2024-04-08T23:38:19.031340452Z"
    }
   },
   "outputs": [],
   "source": [
    "def get_layers(model):\n",
    "    return [l for l in model.nodes() if l.perturbed]"
   ]
  },
  {
   "cell_type": "code",
   "execution_count": 24,
   "id": "0cd1e80e-10db-4e9b-9c23-394d829d580e",
   "metadata": {
    "tags": [],
    "ExecuteTime": {
     "end_time": "2024-04-08T23:38:19.384382954Z",
     "start_time": "2024-04-08T23:38:19.380755070Z"
    }
   },
   "outputs": [],
   "source": [
    "def get_intermediate_bounds(model):\n",
    "    \"\"\"\n",
    "    Returns a dictionary containing the concrete lower and upper bounds of each layer.\n",
    "    \n",
    "    Implemented own method to filter out bounds for weight matrices.\n",
    "    \n",
    "    Only call this method after compute_bounds()!\n",
    "    \"\"\"\n",
    "    od = OrderedDict()\n",
    "    for l in get_layers(model):\n",
    "        if hasattr(l, 'lower'):\n",
    "            od[l.name] = (l.lower, l.upper)\n",
    "            \n",
    "    return od"
   ]
  },
  {
   "cell_type": "markdown",
   "id": "9f560f8c-df6b-4ac1-833c-834e07349be7",
   "metadata": {},
   "source": [
    "# Get Intermediate Bounds"
   ]
  },
  {
   "cell_type": "code",
   "execution_count": 25,
   "id": "d908f042-6132-4fac-92cc-d9c01e158c20",
   "metadata": {
    "tags": [],
    "ExecuteTime": {
     "end_time": "2024-04-08T23:38:20.123647527Z",
     "start_time": "2024-04-08T23:38:20.118829575Z"
    }
   },
   "outputs": [
    {
     "data": {
      "text/plain": "(tensor([[-447.2314, -373.2225, -492.4267, -520.7729, -479.3799, -425.8518,\n          -413.6321, -447.6174, -532.3359, -408.0772]], grad_fn=<AddBackward0>),\n tensor([[356.4533, 318.0782, 320.3527, 274.7251, 371.1610, 338.5822, 395.8803,\n          377.8232, 375.9247, 400.2977]], grad_fn=<AddBackward0>))"
     },
     "execution_count": 25,
     "metadata": {},
     "output_type": "execute_result"
    }
   ],
   "source": [
    "model.compute_bounds(x=(x,), method='ibp')"
   ]
  },
  {
   "cell_type": "code",
   "execution_count": 26,
   "id": "f5fb62c8-e2d4-46bd-9304-161aac9aebde",
   "metadata": {
    "tags": [],
    "ExecuteTime": {
     "end_time": "2024-04-08T23:38:20.485987765Z",
     "start_time": "2024-04-08T23:38:20.484501168Z"
    }
   },
   "outputs": [
    {
     "name": "stdout",
     "output_type": "stream",
     "text": [
      "/0: torch.Size([1, 1, 1, 784])\n",
      "/21: torch.Size([1, 784])\n",
      "/input: torch.Size([1, 256])\n",
      "/23: torch.Size([1, 256])\n",
      "/input.3: torch.Size([1, 256])\n",
      "/25: torch.Size([1, 256])\n",
      "/input.7: torch.Size([1, 256])\n",
      "/27: torch.Size([1, 256])\n",
      "/input.11: torch.Size([1, 256])\n",
      "/29: torch.Size([1, 256])\n",
      "/30: torch.Size([1, 10])\n"
     ]
    }
   ],
   "source": [
    "bounds_dict = get_intermediate_bounds(model)\n",
    "for k, (lbs, ubs) in bounds_dict.items():\n",
    "    print(f\"{k}: {lbs.shape}\")"
   ]
  },
  {
   "cell_type": "code",
   "execution_count": 27,
   "id": "23b50fbc-87e5-4727-bff6-59fe510773ec",
   "metadata": {
    "tags": [],
    "ExecuteTime": {
     "end_time": "2024-04-08T23:38:20.787531817Z",
     "start_time": "2024-04-08T23:38:20.786168939Z"
    }
   },
   "outputs": [
    {
     "data": {
      "text/plain": "(tensor([[-447.2314, -373.2225, -492.4267, -520.7729, -479.3799, -425.8518,\n          -413.6321, -447.6174, -532.3359, -408.0772]], grad_fn=<AddBackward0>),\n tensor([[356.4533, 318.0782, 320.3527, 274.7251, 371.1610, 338.5822, 395.8803,\n          377.8232, 375.9247, 400.2977]], grad_fn=<AddBackward0>))"
     },
     "execution_count": 27,
     "metadata": {},
     "output_type": "execute_result"
    }
   ],
   "source": [
    "bounds_dict['/30']"
   ]
  },
  {
   "cell_type": "code",
   "execution_count": 28,
   "id": "708a54d3-a379-4d9f-b1fa-29d0600d15d6",
   "metadata": {
    "tags": [],
    "ExecuteTime": {
     "end_time": "2024-04-08T23:38:21.163954303Z",
     "start_time": "2024-04-08T23:38:21.130597145Z"
    }
   },
   "outputs": [
    {
     "data": {
      "text/plain": "(tensor([[-0.4672, -0.4103, -0.4026, -0.3573, -0.4667, -0.4770, -0.3886, -0.4031,\n          -0.5523, -0.4308]], grad_fn=<ViewBackward0>),\n tensor([[0.6201, 0.4692, 0.6307, 0.4833, 1.8194, 0.5396, 0.9479, 0.4172, 0.6483,\n          0.6467]], grad_fn=<ViewBackward0>))"
     },
     "execution_count": 28,
     "metadata": {},
     "output_type": "execute_result"
    }
   ],
   "source": [
    "model.compute_bounds(x=(x,), method='crown')"
   ]
  },
  {
   "cell_type": "code",
   "execution_count": 29,
   "id": "873f7e73-c1a6-4067-8511-bb7240ae6c83",
   "metadata": {
    "tags": [],
    "ExecuteTime": {
     "end_time": "2024-04-08T23:38:21.413026606Z",
     "start_time": "2024-04-08T23:38:21.411723908Z"
    }
   },
   "outputs": [
    {
     "data": {
      "text/plain": "(tensor([[-447.2314, -373.2225, -492.4267, -520.7729, -479.3799, -425.8518,\n          -413.6321, -447.6174, -532.3359, -408.0772]], grad_fn=<AddBackward0>),\n tensor([[356.4533, 318.0782, 320.3527, 274.7251, 371.1610, 338.5822, 395.8803,\n          377.8232, 375.9247, 400.2977]], grad_fn=<AddBackward0>))"
     },
     "execution_count": 29,
     "metadata": {},
     "output_type": "execute_result"
    }
   ],
   "source": [
    "bounds_dict['/30']"
   ]
  },
  {
   "cell_type": "code",
   "execution_count": 30,
   "id": "80db1299-3f22-4b4e-aa48-92b2b4f33099",
   "metadata": {
    "tags": [],
    "ExecuteTime": {
     "end_time": "2024-04-08T23:38:22.183011820Z",
     "start_time": "2024-04-08T23:38:22.180618344Z"
    }
   },
   "outputs": [
    {
     "data": {
      "text/plain": "(tensor([[-0.4672, -0.4103, -0.4026, -0.3573, -0.4667, -0.4770, -0.3886, -0.4031,\n          -0.5523, -0.4308]], grad_fn=<ViewBackward0>),\n tensor([[0.6201, 0.4692, 0.6307, 0.4833, 1.8194, 0.5396, 0.9479, 0.4172, 0.6483,\n          0.6467]], grad_fn=<ViewBackward0>))"
     },
     "execution_count": 30,
     "metadata": {},
     "output_type": "execute_result"
    }
   ],
   "source": [
    "bounds_dict_crown = get_intermediate_bounds(model)\n",
    "bounds_dict_crown['/30']"
   ]
  },
  {
   "cell_type": "markdown",
   "id": "baad5ac4-ea3b-4026-8026-cfb42669717b",
   "metadata": {},
   "source": [
    "**Attention**: CROWN-bounds are only saved for pre-activation nodes and the output!\n",
    "(in contrast to interval propagation bounds, that are saved for every layer)"
   ]
  },
  {
   "cell_type": "code",
   "execution_count": 31,
   "id": "df9b80ac-d1f4-42e3-b524-f029468805e7",
   "metadata": {
    "tags": [],
    "ExecuteTime": {
     "end_time": "2024-04-08T23:38:24.140390110Z",
     "start_time": "2024-04-08T23:38:24.096969407Z"
    }
   },
   "outputs": [
    {
     "data": {
      "text/plain": "odict_keys(['/0', '/input', '/input.3', '/input.7', '/input.11', '/30'])"
     },
     "execution_count": 31,
     "metadata": {},
     "output_type": "execute_result"
    }
   ],
   "source": [
    "bounds_dict_crown.keys()"
   ]
  },
  {
   "cell_type": "code",
   "execution_count": 33,
   "id": "9fdd5318-b352-42f2-b5f6-d423faa1063f",
   "metadata": {
    "tags": [],
    "ExecuteTime": {
     "end_time": "2024-04-08T23:40:34.668331221Z",
     "start_time": "2024-04-08T23:39:00.111151351Z"
    }
   },
   "outputs": [
    {
     "name": "stdout",
     "output_type": "stream",
     "text": [
      "tensor([[-171.4623, -160.4540, -304.7760, -128.2996, -153.7493, -117.9111,\n",
      "         -123.5061, -278.8083, -158.6687, -207.4034]],\n",
      "       grad_fn=<SliceBackward0>)\n"
     ]
    },
    {
     "ename": "KeyboardInterrupt",
     "evalue": "",
     "output_type": "error",
     "traceback": [
      "\u001B[0;31m---------------------------------------------------------------------------\u001B[0m",
      "\u001B[0;31mKeyboardInterrupt\u001B[0m                         Traceback (most recent call last)",
      "Cell \u001B[0;32mIn[33], line 5\u001B[0m\n\u001B[1;32m      2\u001B[0m lbs11_crown, ubs11_crown \u001B[38;5;241m=\u001B[39m bounds_dict_crown[\u001B[38;5;124m'\u001B[39m\u001B[38;5;124m/input.11\u001B[39m\u001B[38;5;124m'\u001B[39m]\n\u001B[1;32m      4\u001B[0m \u001B[38;5;28mprint\u001B[39m(lbs11_ibp[:,:\u001B[38;5;241m10\u001B[39m])\n\u001B[0;32m----> 5\u001B[0m \u001B[38;5;28;43mprint\u001B[39;49m(lbs11_crown[:,:\u001B[38;5;241m10\u001B[39m])\n",
      "Cell \u001B[0;32mIn[33], line 5\u001B[0m\n\u001B[1;32m      2\u001B[0m lbs11_crown, ubs11_crown \u001B[38;5;241m=\u001B[39m bounds_dict_crown[\u001B[38;5;124m'\u001B[39m\u001B[38;5;124m/input.11\u001B[39m\u001B[38;5;124m'\u001B[39m]\n\u001B[1;32m      4\u001B[0m \u001B[38;5;28mprint\u001B[39m(lbs11_ibp[:,:\u001B[38;5;241m10\u001B[39m])\n\u001B[0;32m----> 5\u001B[0m \u001B[38;5;28;43mprint\u001B[39;49m(lbs11_crown[:,:\u001B[38;5;241m10\u001B[39m])\n",
      "File \u001B[0;32m~/.local/share/JetBrains/Toolbox/apps/pycharm-professional/plugins/python/helpers/pydev/_pydevd_bundle/pydevd_frame.py:755\u001B[0m, in \u001B[0;36mPyDBFrame.trace_dispatch\u001B[0;34m(self, frame, event, arg)\u001B[0m\n\u001B[1;32m    753\u001B[0m \u001B[38;5;66;03m# if thread has a suspend flag, we suspend with a busy wait\u001B[39;00m\n\u001B[1;32m    754\u001B[0m \u001B[38;5;28;01mif\u001B[39;00m info\u001B[38;5;241m.\u001B[39mpydev_state \u001B[38;5;241m==\u001B[39m STATE_SUSPEND:\n\u001B[0;32m--> 755\u001B[0m     \u001B[38;5;28;43mself\u001B[39;49m\u001B[38;5;241;43m.\u001B[39;49m\u001B[43mdo_wait_suspend\u001B[49m\u001B[43m(\u001B[49m\u001B[43mthread\u001B[49m\u001B[43m,\u001B[49m\u001B[43m \u001B[49m\u001B[43mframe\u001B[49m\u001B[43m,\u001B[49m\u001B[43m \u001B[49m\u001B[43mevent\u001B[49m\u001B[43m,\u001B[49m\u001B[43m \u001B[49m\u001B[43marg\u001B[49m\u001B[43m)\u001B[49m\n\u001B[1;32m    756\u001B[0m     \u001B[38;5;66;03m# No need to reset frame.f_trace to keep the same trace function.\u001B[39;00m\n\u001B[1;32m    757\u001B[0m     \u001B[38;5;28;01mreturn\u001B[39;00m \u001B[38;5;28mself\u001B[39m\u001B[38;5;241m.\u001B[39mtrace_dispatch\n",
      "File \u001B[0;32m~/.local/share/JetBrains/Toolbox/apps/pycharm-professional/plugins/python/helpers/pydev/_pydevd_bundle/pydevd_frame.py:412\u001B[0m, in \u001B[0;36mPyDBFrame.do_wait_suspend\u001B[0;34m(self, *args, **kwargs)\u001B[0m\n\u001B[1;32m    411\u001B[0m \u001B[38;5;28;01mdef\u001B[39;00m \u001B[38;5;21mdo_wait_suspend\u001B[39m(\u001B[38;5;28mself\u001B[39m, \u001B[38;5;241m*\u001B[39margs, \u001B[38;5;241m*\u001B[39m\u001B[38;5;241m*\u001B[39mkwargs):\n\u001B[0;32m--> 412\u001B[0m     \u001B[38;5;28;43mself\u001B[39;49m\u001B[38;5;241;43m.\u001B[39;49m\u001B[43m_args\u001B[49m\u001B[43m[\u001B[49m\u001B[38;5;241;43m0\u001B[39;49m\u001B[43m]\u001B[49m\u001B[38;5;241;43m.\u001B[39;49m\u001B[43mdo_wait_suspend\u001B[49m\u001B[43m(\u001B[49m\u001B[38;5;241;43m*\u001B[39;49m\u001B[43margs\u001B[49m\u001B[43m,\u001B[49m\u001B[43m \u001B[49m\u001B[38;5;241;43m*\u001B[39;49m\u001B[38;5;241;43m*\u001B[39;49m\u001B[43mkwargs\u001B[49m\u001B[43m)\u001B[49m\n",
      "File \u001B[0;32m~/.local/share/JetBrains/Toolbox/apps/pycharm-professional/plugins/python/helpers/pydev/pydevd.py:1184\u001B[0m, in \u001B[0;36mPyDB.do_wait_suspend\u001B[0;34m(self, thread, frame, event, arg, send_suspend_message, is_unhandled_exception)\u001B[0m\n\u001B[1;32m   1181\u001B[0m         from_this_thread\u001B[38;5;241m.\u001B[39mappend(frame_id)\n\u001B[1;32m   1183\u001B[0m \u001B[38;5;28;01mwith\u001B[39;00m \u001B[38;5;28mself\u001B[39m\u001B[38;5;241m.\u001B[39m_threads_suspended_single_notification\u001B[38;5;241m.\u001B[39mnotify_thread_suspended(thread_id, stop_reason):\n\u001B[0;32m-> 1184\u001B[0m     \u001B[38;5;28;43mself\u001B[39;49m\u001B[38;5;241;43m.\u001B[39;49m\u001B[43m_do_wait_suspend\u001B[49m\u001B[43m(\u001B[49m\u001B[43mthread\u001B[49m\u001B[43m,\u001B[49m\u001B[43m \u001B[49m\u001B[43mframe\u001B[49m\u001B[43m,\u001B[49m\u001B[43m \u001B[49m\u001B[43mevent\u001B[49m\u001B[43m,\u001B[49m\u001B[43m \u001B[49m\u001B[43marg\u001B[49m\u001B[43m,\u001B[49m\u001B[43m \u001B[49m\u001B[43msuspend_type\u001B[49m\u001B[43m,\u001B[49m\u001B[43m \u001B[49m\u001B[43mfrom_this_thread\u001B[49m\u001B[43m)\u001B[49m\n",
      "File \u001B[0;32m~/.local/share/JetBrains/Toolbox/apps/pycharm-professional/plugins/python/helpers/pydev/pydevd.py:1199\u001B[0m, in \u001B[0;36mPyDB._do_wait_suspend\u001B[0;34m(self, thread, frame, event, arg, suspend_type, from_this_thread)\u001B[0m\n\u001B[1;32m   1196\u001B[0m             \u001B[38;5;28mself\u001B[39m\u001B[38;5;241m.\u001B[39m_call_mpl_hook()\n\u001B[1;32m   1198\u001B[0m         \u001B[38;5;28mself\u001B[39m\u001B[38;5;241m.\u001B[39mprocess_internal_commands()\n\u001B[0;32m-> 1199\u001B[0m         \u001B[43mtime\u001B[49m\u001B[38;5;241;43m.\u001B[39;49m\u001B[43msleep\u001B[49m\u001B[43m(\u001B[49m\u001B[38;5;241;43m0.01\u001B[39;49m\u001B[43m)\u001B[49m\n\u001B[1;32m   1201\u001B[0m \u001B[38;5;28mself\u001B[39m\u001B[38;5;241m.\u001B[39mcancel_async_evaluation(get_current_thread_id(thread), \u001B[38;5;28mstr\u001B[39m(\u001B[38;5;28mid\u001B[39m(frame)))\n\u001B[1;32m   1203\u001B[0m \u001B[38;5;66;03m# process any stepping instructions\u001B[39;00m\n",
      "\u001B[0;31mKeyboardInterrupt\u001B[0m: "
     ]
    }
   ],
   "source": [
    "lbs11_ibp, ubs11_ibp = bounds_dict['/input.11']\n",
    "lbs11_crown, ubs11_crown = bounds_dict_crown['/input.11']\n",
    "\n",
    "print(lbs11_ibp[:,:10])\n",
    "print(lbs11_crown[:,:10])"
   ]
  },
  {
   "cell_type": "code",
   "outputs": [],
   "source": [],
   "metadata": {
    "collapsed": false
   },
   "id": "902291485060ba36"
  },
  {
   "cell_type": "markdown",
   "id": "2cd89d77-3247-41b2-9750-761c8db65dd4",
   "metadata": {},
   "source": [
    "# Sampling via CROWN\n",
    "\n",
    "In order to use CROWN to calculate bounds for the sampled directions, we make use of the possibility to supply\n",
    "- a constraint matrix (which we use to represent the sampled directions) and\n",
    "- to specify the output layer (which we just set to the layer, for which we want to sample)\n",
    "\n",
    "The shape of the constraint matrix is `(batch, n_directions, n_neurons)`, where we just set `batch=1`.\n",
    "\n",
    "The output layer is specified via the node names in the node dictionary."
   ]
  },
  {
   "cell_type": "code",
   "execution_count": 4,
   "id": "26b77cc7-aef4-4b38-aa22-f1fefa101b86",
   "metadata": {
    "tags": [],
    "ExecuteTime": {
     "end_time": "2024-05-02T23:40:46.251298176Z",
     "start_time": "2024-05-02T23:40:46.203112911Z"
    }
   },
   "outputs": [
    {
     "ename": "NameError",
     "evalue": "name 'model' is not defined",
     "output_type": "error",
     "traceback": [
      "\u001B[0;31m---------------------------------------------------------------------------\u001B[0m",
      "\u001B[0;31mNameError\u001B[0m                                 Traceback (most recent call last)",
      "Cell \u001B[0;32mIn[4], line 6\u001B[0m\n\u001B[1;32m      3\u001B[0m n_neurons \u001B[38;5;241m=\u001B[39m \u001B[38;5;241m256\u001B[39m\n\u001B[1;32m      4\u001B[0m C \u001B[38;5;241m=\u001B[39m torch\u001B[38;5;241m.\u001B[39mrandn(n_batch, n_dirs, n_neurons)\n\u001B[0;32m----> 6\u001B[0m \u001B[43mmodel\u001B[49m\u001B[38;5;241m.\u001B[39mcompute_bounds(x\u001B[38;5;241m=\u001B[39m(x,), final_node_name\u001B[38;5;241m=\u001B[39m\u001B[38;5;124m'\u001B[39m\u001B[38;5;124m/input.11\u001B[39m\u001B[38;5;124m'\u001B[39m, C\u001B[38;5;241m=\u001B[39mC, method\u001B[38;5;241m=\u001B[39m\u001B[38;5;124m'\u001B[39m\u001B[38;5;124mcrown\u001B[39m\u001B[38;5;124m'\u001B[39m)\n",
      "\u001B[0;31mNameError\u001B[0m: name 'model' is not defined"
     ]
    }
   ],
   "source": [
    "n_batch = 1\n",
    "n_dirs = 5\n",
    "n_neurons = 256\n",
    "C = torch.randn(n_batch, n_dirs, n_neurons)\n",
    "\n",
    "model.compute_bounds(x=(x,), final_node_name='/input.11', C=C, method='crown')"
   ]
  },
  {
   "cell_type": "markdown",
   "id": "1e104ab9-2483-4d38-a689-d9e30bd0e89a",
   "metadata": {},
   "source": [
    "We can also use $\\alpha$-CROWN to optimize the bounds of the directions."
   ]
  },
  {
   "cell_type": "code",
   "execution_count": 17,
   "id": "00566dcc-eb57-447a-9eef-5872290cc4da",
   "metadata": {
    "tags": [],
    "ExecuteTime": {
     "end_time": "2024-04-08T23:23:48.043106585Z",
     "start_time": "2024-04-08T23:23:47.777887994Z"
    }
   },
   "outputs": [
    {
     "data": {
      "text/plain": "(tensor([[  13.3784,  -36.1162,  -60.9758, -128.4353,  -66.3043]]),\n tensor([[ 76.5662,  -7.1403,  -8.4030, -21.8835, -14.1343]]))"
     },
     "execution_count": 17,
     "metadata": {},
     "output_type": "execute_result"
    }
   ],
   "source": [
    "model.compute_bounds(x=(x,), final_node_name='/input.11', C=C, method='alpha-crown')"
   ]
  },
  {
   "cell_type": "markdown",
   "id": "30cec03c-35cd-4ac8-a910-d84bb8c17d80",
   "metadata": {},
   "source": [
    "When using more iterations, the bounds may get slightly better."
   ]
  },
  {
   "cell_type": "code",
   "execution_count": 18,
   "id": "51f598e9-f0f3-4bb0-827a-673e37122841",
   "metadata": {
    "collapsed": true,
    "jupyter": {
     "outputs_hidden": true
    },
    "tags": [],
    "ExecuteTime": {
     "end_time": "2024-04-08T23:23:49.721991166Z",
     "start_time": "2024-04-08T23:23:49.720094096Z"
    }
   },
   "outputs": [
    {
     "data": {
      "text/plain": "{'conv_mode': 'patches',\n 'sparse_intermediate_bounds': True,\n 'sparse_conv_intermediate_bounds': True,\n 'sparse_intermediate_bounds_with_ibp': True,\n 'sparse_features_alpha': True,\n 'sparse_spec_alpha': True,\n 'minimum_sparsity': 0.9,\n 'enable_opt_interm_bounds': False,\n 'crown_batch_size': inf,\n 'forward_refinement': False,\n 'dynamic_forward': False,\n 'forward_max_dim': 1000000000,\n 'use_full_conv_alpha': True,\n 'disabled_optimization': [],\n 'use_full_conv_alpha_thresh': 512,\n 'verbosity': 0,\n 'optimize_graph': {'optimizer': None},\n 'optimize_bound_args': {'enable_alpha_crown': True,\n  'enable_beta_crown': False,\n  'apply_output_constraints_to': None,\n  'iteration': 20,\n  'use_shared_alpha': False,\n  'optimizer': 'adam',\n  'keep_best': True,\n  'fix_interm_bounds': True,\n  'lr_alpha': 0.5,\n  'lr_beta': 0.05,\n  'lr_cut_beta': 0.005,\n  'init_alpha': True,\n  'lr_coeffs': 0.01,\n  'intermediate_refinement_layers': [-1],\n  'loss_reduction_func': <function auto_LiRPA.utils.<lambda>(x)>,\n  'stop_criterion_func': <function auto_LiRPA.optimized_bounds.<lambda>(x)>,\n  'lr_decay': 0.98,\n  'early_stop_patience': 10,\n  'start_save_best': 0.5,\n  'use_float64_in_last_iteration': False,\n  'pruning_in_iteration': False,\n  'pruning_in_iteration_threshold': 0.2,\n  'multi_spec_keep_func': <function auto_LiRPA.utils.multi_spec_keep_func_all(x)>,\n  'deterministic': False},\n 'final_shape': torch.Size([1, 5])}"
     },
     "execution_count": 18,
     "metadata": {},
     "output_type": "execute_result"
    }
   ],
   "source": [
    "model.bound_opts"
   ]
  },
  {
   "cell_type": "code",
   "execution_count": 19,
   "id": "47d2abd9-95e9-4786-9678-35ae926a1968",
   "metadata": {
    "tags": [],
    "ExecuteTime": {
     "end_time": "2024-04-08T23:23:50.787008669Z",
     "start_time": "2024-04-08T23:23:50.784737129Z"
    }
   },
   "outputs": [],
   "source": [
    "def set_params(model, use_shared_alpha=False, iteration=20, early_stop_patience=10):\n",
    "    model.bound_opts['optimize_bound_args']['use_shared_alpha'] = use_shared_alpha\n",
    "    model.bound_opts['optimize_bound_args']['iteration'] = iteration\n",
    "    model.bound_opts['optimize_bound_args']['early_stop_patience'] = early_stop_patience"
   ]
  },
  {
   "cell_type": "code",
   "execution_count": 20,
   "id": "2d1d6c7a-74d1-4990-8407-e07237a8e2bd",
   "metadata": {
    "tags": [],
    "ExecuteTime": {
     "end_time": "2024-04-08T23:23:52.886666586Z",
     "start_time": "2024-04-08T23:23:51.964846139Z"
    }
   },
   "outputs": [
    {
     "data": {
      "text/plain": "(tensor([[  13.4349,  -36.1024,  -60.9277, -128.4019,  -66.2657]]),\n tensor([[ 76.5378,  -7.1574,  -8.4328, -21.9471, -14.1642]]))"
     },
     "execution_count": 20,
     "metadata": {},
     "output_type": "execute_result"
    }
   ],
   "source": [
    "set_params(model, iteration=100)\n",
    "model.compute_bounds(x=(x,), final_node_name='/input.11', C=C, method='alpha-crown')"
   ]
  },
  {
   "cell_type": "markdown",
   "id": "b1bb7905-d221-4ce7-ad3e-1dd276037107",
   "metadata": {},
   "source": [
    "# Building LP Model\n",
    "\n",
    "There is at least some code available to build LP and MILP models, but it doesn't seem to be maintained/is broken now. Maybe we can repair and use it."
   ]
  },
  {
   "cell_type": "code",
   "execution_count": 89,
   "id": "15fab111-98b9-4717-8725-92b94fced7b5",
   "metadata": {
    "tags": []
   },
   "outputs": [
    {
     "ename": "AttributeError",
     "evalue": "'function' object has no attribute 'CONTINUOUS'",
     "output_type": "error",
     "traceback": [
      "\u001B[0;31m---------------------------------------------------------------------------\u001B[0m",
      "\u001B[0;31mAttributeError\u001B[0m                            Traceback (most recent call last)",
      "Cell \u001B[0;32mIn[89], line 1\u001B[0m\n\u001B[0;32m----> 1\u001B[0m \u001B[43mmodel\u001B[49m\u001B[38;5;241;43m.\u001B[39;49m\u001B[43mbuild_solver_module\u001B[49m\u001B[43m(\u001B[49m\u001B[43mmodel_type\u001B[49m\u001B[38;5;241;43m=\u001B[39;49m\u001B[38;5;124;43m'\u001B[39;49m\u001B[38;5;124;43mlp\u001B[39;49m\u001B[38;5;124;43m'\u001B[39;49m\u001B[43m)\u001B[49m\n",
      "File \u001B[0;32m~/anaconda3/envs/autoLiRPA/lib/python3.10/site-packages/auto_LiRPA-0.4.0-py3.10.egg/auto_LiRPA/solver_module.py:50\u001B[0m, in \u001B[0;36mbuild_solver_module\u001B[0;34m(self, x, C, interm_bounds, final_node_name, model_type, solver_pkg)\u001B[0m\n\u001B[1;32m     47\u001B[0m \u001B[38;5;66;03m# if isinstance(root[i], BoundInput) and not isinstance(root[i], BoundParams):\u001B[39;00m\n\u001B[1;32m     48\u001B[0m \u001B[38;5;28;01mif\u001B[39;00m \u001B[38;5;28mtype\u001B[39m(roots[i]) \u001B[38;5;129;01mis\u001B[39;00m BoundInput:\n\u001B[1;32m     49\u001B[0m     \u001B[38;5;66;03m# create input vars for gurobi self.model\u001B[39;00m\n\u001B[0;32m---> 50\u001B[0m     inp_gurobi_vars \u001B[38;5;241m=\u001B[39m \u001B[38;5;28;43mself\u001B[39;49m\u001B[38;5;241;43m.\u001B[39;49m\u001B[43m_build_solver_input\u001B[49m\u001B[43m(\u001B[49m\u001B[43mroots\u001B[49m\u001B[43m[\u001B[49m\u001B[43mi\u001B[49m\u001B[43m]\u001B[49m\u001B[43m)\u001B[49m\n\u001B[1;32m     51\u001B[0m \u001B[38;5;28;01melse\u001B[39;00m:\n\u001B[1;32m     52\u001B[0m     \u001B[38;5;66;03m# regular weights\u001B[39;00m\n\u001B[1;32m     53\u001B[0m     roots[i]\u001B[38;5;241m.\u001B[39msolver_vars \u001B[38;5;241m=\u001B[39m value\n",
      "File \u001B[0;32m~/anaconda3/envs/autoLiRPA/lib/python3.10/site-packages/auto_LiRPA-0.4.0-py3.10.egg/auto_LiRPA/solver_module.py:97\u001B[0m, in \u001B[0;36m_build_solver_input\u001B[0;34m(self, node)\u001B[0m\n\u001B[1;32m     95\u001B[0m inp_gurobi_vars \u001B[38;5;241m=\u001B[39m []\n\u001B[1;32m     96\u001B[0m \u001B[38;5;66;03m# zero var will be shared within the solver model\u001B[39;00m\n\u001B[0;32m---> 97\u001B[0m zero_var \u001B[38;5;241m=\u001B[39m \u001B[38;5;28mself\u001B[39m\u001B[38;5;241m.\u001B[39mmodel\u001B[38;5;241m.\u001B[39maddVar(lb\u001B[38;5;241m=\u001B[39m\u001B[38;5;241m0\u001B[39m, ub\u001B[38;5;241m=\u001B[39m\u001B[38;5;241m0\u001B[39m, obj\u001B[38;5;241m=\u001B[39m\u001B[38;5;241m0\u001B[39m, vtype\u001B[38;5;241m=\u001B[39m\u001B[43mgrb\u001B[49m\u001B[38;5;241;43m.\u001B[39;49m\u001B[43mGRB\u001B[49m\u001B[38;5;241;43m.\u001B[39;49m\u001B[43mCONTINUOUS\u001B[49m, name\u001B[38;5;241m=\u001B[39m\u001B[38;5;124m'\u001B[39m\u001B[38;5;124mzero\u001B[39m\u001B[38;5;124m'\u001B[39m)\n\u001B[1;32m     98\u001B[0m one_var \u001B[38;5;241m=\u001B[39m \u001B[38;5;28mself\u001B[39m\u001B[38;5;241m.\u001B[39mmodel\u001B[38;5;241m.\u001B[39maddVar(lb\u001B[38;5;241m=\u001B[39m\u001B[38;5;241m1\u001B[39m, ub\u001B[38;5;241m=\u001B[39m\u001B[38;5;241m1\u001B[39m, obj\u001B[38;5;241m=\u001B[39m\u001B[38;5;241m0\u001B[39m, vtype\u001B[38;5;241m=\u001B[39mgrb\u001B[38;5;241m.\u001B[39mGRB\u001B[38;5;241m.\u001B[39mCONTINUOUS, name\u001B[38;5;241m=\u001B[39m\u001B[38;5;124m'\u001B[39m\u001B[38;5;124mone\u001B[39m\u001B[38;5;124m'\u001B[39m)\n\u001B[1;32m     99\u001B[0m neg_one_var \u001B[38;5;241m=\u001B[39m \u001B[38;5;28mself\u001B[39m\u001B[38;5;241m.\u001B[39mmodel\u001B[38;5;241m.\u001B[39maddVar(lb\u001B[38;5;241m=\u001B[39m\u001B[38;5;241m-\u001B[39m\u001B[38;5;241m1\u001B[39m, ub\u001B[38;5;241m=\u001B[39m\u001B[38;5;241m-\u001B[39m\u001B[38;5;241m1\u001B[39m, obj\u001B[38;5;241m=\u001B[39m\u001B[38;5;241m0\u001B[39m, vtype\u001B[38;5;241m=\u001B[39mgrb\u001B[38;5;241m.\u001B[39mGRB\u001B[38;5;241m.\u001B[39mCONTINUOUS, name\u001B[38;5;241m=\u001B[39m\u001B[38;5;124m'\u001B[39m\u001B[38;5;124mneg_one\u001B[39m\u001B[38;5;124m'\u001B[39m)\n",
      "\u001B[0;31mAttributeError\u001B[0m: 'function' object has no attribute 'CONTINUOUS'"
     ]
    }
   ],
   "source": [
    "model.build_solver_module(model_type='lp')"
   ]
  },
  {
   "cell_type": "code",
   "execution_count": 86,
   "id": "cd596ff5-2235-431d-afc4-e2cc608ce858",
   "metadata": {
    "tags": []
   },
   "outputs": [],
   "source": [
    "import gurobipy as grb"
   ]
  },
  {
   "cell_type": "code",
   "execution_count": 88,
   "id": "be9cf783-6807-4e40-991e-6974109ad9ec",
   "metadata": {
    "tags": []
   },
   "outputs": [
    {
     "name": "stdout",
     "output_type": "stream",
     "text": [
      "Set parameter Username\n",
      "Academic license - for non-commercial use only - expires 2024-11-27\n"
     ]
    }
   ],
   "source": [
    "model.model = grb.Model()"
   ]
  },
  {
   "cell_type": "code",
   "execution_count": null,
   "id": "d179d2d7-87f3-448a-a1ca-f3552ff0fa5b",
   "metadata": {},
   "outputs": [],
   "source": []
  }
 ],
 "metadata": {
  "kernelspec": {
   "name": "python3",
   "language": "python",
   "display_name": "Python 3 (ipykernel)"
  },
  "language_info": {
   "codemirror_mode": {
    "name": "ipython",
    "version": 3
   },
   "file_extension": ".py",
   "mimetype": "text/x-python",
   "name": "python",
   "nbconvert_exporter": "python",
   "pygments_lexer": "ipython3",
   "version": "3.10.13"
  }
 },
 "nbformat": 4,
 "nbformat_minor": 5
}
