{
 "cells": [
  {
   "cell_type": "code",
   "execution_count": 1,
   "id": "initial_id",
   "metadata": {
    "collapsed": true,
    "ExecuteTime": {
     "end_time": "2024-05-08T01:41:22.422023105Z",
     "start_time": "2024-05-08T01:41:21.462220655Z"
    }
   },
   "outputs": [],
   "source": [
    "import os\n",
    "import contextlib\n",
    "\n",
    "import torch\n",
    "import time\n",
    "from script.NeuralNets.Networks import SequentialNN\n",
    "from script.settings import device, data_type\n",
    "import script.DHOV.MultiDHOV as multidhov\n",
    "import gurobipy as grp\n",
    "from torchvision.datasets import MNIST\n",
    "from torchvision.transforms import Compose, ToTensor, Normalize\n",
    "from script.NeuralNets.ICNNFactory import ICNNFactory\n",
    "import matplotlib.pyplot as plt\n",
    "import numpy as np\n",
    "import csv\n",
    "from script.DHOV.Sampling.PerGroupLineSearchSampling import PerGroupLineSearchSamplingStrategy\n",
    "from script.DHOV.Sampling.PerGroupSamplingStrategy import PerGroupSamplingStrategy\n",
    "from script.DHOV.Sampling.PerGroupFeasibleSamplingStrategy import PerGroupFeasibleSamplingStrategy\n",
    "from script.DHOV.Sampling.ZonotopeSamplingStrategy import ZonotopeSamplingStrategy"
   ]
  },
  {
   "cell_type": "code",
   "outputs": [],
   "source": [
    "import onnx\n",
    "from onnx2pytorch import ConvertModel\n",
    "from auto_LiRPA import BoundedModule, BoundedTensor, PerturbationLpNorm\n",
    "\n",
    "from vnnlib.compat import read_vnnlib_simple\n",
    "from collections import OrderedDict"
   ],
   "metadata": {
    "collapsed": false,
    "ExecuteTime": {
     "end_time": "2024-05-08T01:41:22.651447531Z",
     "start_time": "2024-05-08T01:41:22.421918876Z"
    }
   },
   "id": "f0822bc3823089a5",
   "execution_count": 2
  },
  {
   "cell_type": "code",
   "outputs": [],
   "source": [
    "onnx_name = \"mnist_relu_9_200.onnx\"\n",
    "vnnlib_name = \"1000_mnist_eps_015\"\n",
    "\n",
    "onnx_path = 'nets/' + onnx_name\n",
    "vnnlib_dir_path = \"specs/\" + vnnlib_name"
   ],
   "metadata": {
    "collapsed": false,
    "ExecuteTime": {
     "end_time": "2024-05-08T01:41:22.653748510Z",
     "start_time": "2024-05-08T01:41:22.652400007Z"
    }
   },
   "id": "2cac90c448c123e2",
   "execution_count": 3
  },
  {
   "cell_type": "markdown",
   "source": [
    "# Import the onnx model and convert it to a SequentialNN\n",
    "It has to bee a SequentialNN"
   ],
   "metadata": {
    "collapsed": false
   },
   "id": "43857ff221b9ea71"
  },
  {
   "cell_type": "markdown",
   "source": [
    "The SequentialNN needs to have one additional output layer, as its last layer never has relu activation but the imported network has. The last layer then gets initialized with the identity matrix and gets skipped during the verification"
   ],
   "metadata": {
    "collapsed": false
   },
   "id": "72bcacbdec4990e4"
  },
  {
   "cell_type": "code",
   "outputs": [
    {
     "name": "stderr",
     "output_type": "stream",
     "text": [
      "/home/ufuk/miniconda3/envs/autolirpa_icnn/lib/python3.10/site-packages/onnx2pytorch/convert/layer.py:30: UserWarning: The given NumPy array is not writable, and PyTorch does not support non-writable tensors. This means writing to this tensor will result in undefined behavior. You may want to copy the array to protect its data or make it writable before converting it to a tensor. This type of warning will be suppressed for the rest of this program. (Triggered internally at ../torch/csrc/utils/tensor_numpy.cpp:206.)\n",
      "  layer.weight.data = torch.from_numpy(numpy_helper.to_array(weight))\n"
     ]
    }
   ],
   "source": [
    "onnx_model = onnx.load(onnx_path)\n",
    "pytorch_model = ConvertModel(onnx_model)\n",
    "nn = SequentialNN([28 * 28 * 1, 200, 200, 200, 200, 200, 200, 200, 200, 10, 10])\n",
    "\n",
    "\n",
    "parameter_list_onnx = list(pytorch_model.parameters())\n",
    "parameter_list_sequential = list(nn.parameters())\n",
    "for i in range(0, len(parameter_list_onnx), 2):\n",
    "    parameter_list_sequential[i].data = parameter_list_onnx[i].data\n",
    "    parameter_list_sequential[i+1].data = parameter_list_onnx[i+1].data\n",
    "parameter_list_sequential[-2].data = torch.eye(10, dtype=data_type)\n",
    "parameter_list_sequential[-1].data = torch.zeros(10, dtype=data_type)"
   ],
   "metadata": {
    "collapsed": false,
    "ExecuteTime": {
     "end_time": "2024-05-08T01:41:22.668307930Z",
     "start_time": "2024-05-08T01:41:22.654765935Z"
    }
   },
   "id": "7ece6141625b3884",
   "execution_count": 4
  },
  {
   "cell_type": "code",
   "outputs": [],
   "source": [
    "parameter_list = list(pytorch_model.parameters()) # don't use nn here as we have added an extra layer\n",
    "output_size = 10\n",
    "number_layer = (len(parameter_list) - 2) // 2"
   ],
   "metadata": {
    "collapsed": false,
    "ExecuteTime": {
     "end_time": "2024-05-08T01:41:22.710021429Z",
     "start_time": "2024-05-08T01:41:22.665093356Z"
    }
   },
   "id": "2e0b30bcf0bc5ed3",
   "execution_count": 5
  },
  {
   "cell_type": "markdown",
   "source": [
    "# Load the data to apply the verification process for"
   ],
   "metadata": {
    "collapsed": false
   },
   "id": "32ac993914cba497"
  },
  {
   "cell_type": "code",
   "outputs": [],
   "source": [
    "def imshow(img):\n",
    "    img = img / 2 + .05  # revert normalization for viewing\n",
    "    npimg = img.to(\"cpu\").numpy()\n",
    "    plt.imshow(npimg, cmap=\"gray\")\n",
    "    plt.show()"
   ],
   "metadata": {
    "collapsed": false,
    "ExecuteTime": {
     "end_time": "2024-05-08T01:41:22.710573787Z",
     "start_time": "2024-05-08T01:41:22.709957090Z"
    }
   },
   "id": "813c48a4e74d2cfd",
   "execution_count": 6
  },
  {
   "cell_type": "code",
   "outputs": [],
   "source": [
    "transform = Compose([ToTensor()])\n",
    "training_data = MNIST(root=\"../../../mnist\", train=True, download=True, transform=transform)"
   ],
   "metadata": {
    "collapsed": false,
    "ExecuteTime": {
     "end_time": "2024-05-08T01:41:22.710949465Z",
     "start_time": "2024-05-08T01:41:22.710040569Z"
    }
   },
   "id": "e93b71692992f90e",
   "execution_count": 7
  },
  {
   "cell_type": "code",
   "outputs": [],
   "source": [
    "def accuracy_test(model, converted_model, data):\n",
    "    total_correct = 0\n",
    "    total_wrong = 0\n",
    "    for image, label in data:\n",
    "        test_image = torch.unsqueeze(image, 0).to(dtype=data_type).to(device)   \n",
    "        model_test = model(test_image)\n",
    "        converted_test = converted_model(test_image)\n",
    "        if not torch.isclose(model_test, converted_test).all():\n",
    "            print(\"is not close\")\n",
    "            break\n",
    "        if torch.argmax(model_test).item() == label:\n",
    "            total_correct += 1\n",
    "        else:\n",
    "            total_wrong += 1\n",
    "    \n",
    "    print(\"is close\")    \n",
    "    print(f\"accuracy {total_correct/ len(training_data)}\")\n",
    "    \n",
    "\n",
    "\n",
    "do_test = False\n",
    "if do_test:\n",
    "    accuracy_test(pytorch_model, nn, training_data)\n"
   ],
   "metadata": {
    "collapsed": false,
    "ExecuteTime": {
     "end_time": "2024-05-08T01:41:22.712563477Z",
     "start_time": "2024-05-08T01:41:22.710879275Z"
    }
   },
   "id": "7708d17e62f8ed3c",
   "execution_count": 8
  },
  {
   "cell_type": "code",
   "outputs": [],
   "source": [
    "def add_output_constraints(model, nn_layer_out_bounds, label, output_vars, sovler_bound=1e-3):\n",
    "    \"\"\"\n",
    "    \n",
    "    :param model: the optimization problem in gurobi encoding the NN\n",
    "    :param nn_layer_out_bounds: torch.Tensor, approximating the upper and lower bounding the output layer of the NN\n",
    "    :param label: index of the label or target neuron which is compared against\n",
    "    :param output_vars: the gurobi variables from the model of the NN describing the output neurons of the NN\n",
    "    :param sovler_bound: provides a bound for the gurobi solver. If this bound is achieved, the optimizer stops\n",
    "    \"\"\"\n",
    "    \n",
    "    out_lb = nn_layer_out_bounds[-1][0].detach().cpu().numpy()\n",
    "    out_ub = nn_layer_out_bounds[-1][1].detach().cpu().numpy()\n",
    "    \n",
    "    difference_lb = out_lb - out_ub[label]\n",
    "    difference_ub = out_ub - out_lb[label]\n",
    "    difference_lb = difference_lb.tolist()\n",
    "    difference_ub = difference_ub.tolist()\n",
    "    \n",
    "    difference_lb.pop(label)\n",
    "    difference_ub.pop(label)\n",
    "    \n",
    "    min_diff = min(difference_lb)\n",
    "    max_diff = max(difference_ub)\n",
    "    \n",
    "    difference = model.addVars(9, lb=difference_lb, ub=difference_ub, name=\"diff_var\")\n",
    "    model.addConstrs((difference[i] == output_vars.tolist()[i] - output_vars.tolist()[label] for i in range(0, label)), name=\"diff_const0\")\n",
    "    model.addConstrs((difference[i - 1] == output_vars.tolist()[i] - output_vars.tolist()[label] for i in range(label + 1, 10)), name=\"diff_const1\")\n",
    "\n",
    "    max_var = model.addVar(lb=min_diff, ub=max_diff, name=\"max_var\")\n",
    "    model.addConstr(max_var == grp.max_(difference))\n",
    "\n",
    "    if sovler_bound != None:\n",
    "        model.setParam(\"BestObjStop\", sovler_bound)\n",
    "\n",
    "    model.update()\n",
    "    model.setObjective(max_var, grp.GRB.MAXIMIZE)"
   ],
   "metadata": {
    "collapsed": false,
    "ExecuteTime": {
     "end_time": "2024-05-08T01:41:22.745889386Z",
     "start_time": "2024-05-08T01:41:22.713760401Z"
    }
   },
   "id": "18307fa1201eb3d6",
   "execution_count": 9
  },
  {
   "cell_type": "code",
   "outputs": [],
   "source": [
    "def get_output_vars_dhov(model, output_size, output_layer_index):\n",
    "    output_vars = []\n",
    "    for i in range(output_size):\n",
    "        output_vars.append(model.getVarByName(\"output_layer_[{}]_[{}]\".format(output_layer_index, i)))\n",
    "    output_vars = grp.MVar.fromlist(output_vars)\n",
    "    return output_vars"
   ],
   "metadata": {
    "collapsed": false,
    "ExecuteTime": {
     "end_time": "2024-05-08T01:41:22.746465994Z",
     "start_time": "2024-05-08T01:41:22.737167399Z"
    }
   },
   "id": "d30a13deca625b13",
   "execution_count": 10
  },
  {
   "cell_type": "code",
   "outputs": [],
   "source": [
    "def optimize_model(model, output_vars, start_overall_time, time_limit=60*60, verbose=True, csv_to_write_to=None, csv_row_name=\"No name\"):\n",
    "    \"\"\"\n",
    "    \n",
    "    :param model: the optimization problem in gurobi encoding the NN and the objective \n",
    "    :param output_vars: the gurobi variables from the model of the NN describing the output neurons of the NN\n",
    "    :return True if verification was successful, else false \n",
    "    \"\"\"\n",
    "    \n",
    "    model.setParam(\"TimeLimit\", time_limit)\n",
    "    \n",
    "    start_solving_time = time.time()\n",
    "    model.update()\n",
    "    model.optimize()\n",
    "    \n",
    "    end_time = time.time()\n",
    "    time_just_solving = end_time - start_solving_time\n",
    "    time_overall = end_time - start_overall_time\n",
    "    \n",
    "    if verbose:\n",
    "        print(\"time for verification {}\".format(time_just_solving))\n",
    "        print(\"overall time {}\".format(time_overall))\n",
    "    \n",
    "    if model.Status == grp.GRB.OPTIMAL or model.Status == grp.GRB.USER_OBJ_LIMIT:\n",
    "                    \n",
    "        max_var = model.getVarByName(\"max_var\").getAttr(\"x\")\n",
    "        verification_successful = max_var < 0\n",
    "        \n",
    "        if csv_to_write_to is not None:\n",
    "            new_row = [csv_row_name, \"finished\", time_just_solving, time_overall, verification_successful, max_var]\n",
    "            with open(csv_to_write_to, 'a', newline='') as file_obj:\n",
    "                writer_object = csv.writer(file_obj)\n",
    "             \n",
    "                writer_object.writerow(new_row)\n",
    "                file_obj.close()\n",
    "        \n",
    "        if verbose:\n",
    "            for i, var in enumerate(output_vars.tolist()):\n",
    "                print(\"var {}: {}\".format(i, var.getAttr(\"x\")))\n",
    "                \n",
    "            if verification_successful:\n",
    "                print(\"property verified with max difference {}\".format(max_var))\n",
    "                return True\n",
    "            else:\n",
    "                 print(\"property NOT verified with max difference {}\".format(max_var))\n",
    "                \n",
    "                \n",
    "        \n",
    "        \n",
    "        return verification_successful\n",
    "    \n",
    "    elif model.Status == grp.GRB.TIME_LIMIT:        \n",
    "        \n",
    "        max_var_upper_bound = model.getAttr(\"ObjBound\")\n",
    "        \n",
    "        verification_failed_with_upper_bound = max_var_upper_bound > 0\n",
    "        \n",
    "        if verbose:\n",
    "            if verification_failed_with_upper_bound:\n",
    "                print(\"property NOT verified with upper bound for max difference {}\".format(max_var_upper_bound))\n",
    "            else:\n",
    "                print(\"time out and upper bound could not disprove the setting\")\n",
    "            \n",
    "        if csv_to_write_to is not None:\n",
    "            new_row = [csv_row_name, \"time_out\", time_just_solving, time_overall, verification_failed_with_upper_bound, max_var_upper_bound]\n",
    "            with open(csv_to_write_to, 'a', newline='') as file_obj:\n",
    "                writer_object = csv.writer(file_obj)\n",
    "             \n",
    "                writer_object.writerow(new_row)\n",
    "                file_obj.close()\n",
    "                \n",
    "                \n",
    "        return verification_failed_with_upper_bound\n",
    "\n",
    "    elif model.Status == grp.GRB.INFEASIBLE:\n",
    "        \n",
    "        if csv_to_write_to is not None:\n",
    "            new_row = [csv_row_name, \"infeasible\", time_just_solving, time_overall, False]\n",
    "            with open(csv_to_write_to, 'a', newline='') as file_obj:\n",
    "                writer_object = csv.writer(file_obj)\n",
    "             \n",
    "                writer_object.writerow(new_row)\n",
    "                file_obj.close()\n",
    "        \n",
    "        if verbose:\n",
    "            print(\"model infeasible\")\n",
    "    \n",
    "            model.computeIIS()\n",
    "            print(\"constraint\")\n",
    "            all_constr = model.getConstrs()\n",
    "    \n",
    "            for const in all_constr:\n",
    "                if const.IISConstr:\n",
    "                    print(\"{}\".format(const))\n",
    "    \n",
    "            print(\"lower bound\")\n",
    "            all_var = model.getVars()\n",
    "            for var in all_var:\n",
    "                if var.IISLB:\n",
    "                    print(\"{}, lb: {}, ub: {}\".format(var, var.getAttr(\"lb\"), var.getAttr(\"ub\")))\n",
    "    \n",
    "            print(\"upper bound\")\n",
    "            all_var = model.getVars()\n",
    "            for var in all_var:\n",
    "                if var.IISUB:\n",
    "                    print(\"{}, lb: {}, ub: {}\".format(var, var.getAttr(\"lb\"), var.getAttr(\"ub\")))\n",
    "                \n",
    "        \n",
    "\n",
    "    return False"
   ],
   "metadata": {
    "collapsed": false,
    "ExecuteTime": {
     "end_time": "2024-05-08T01:41:22.746985431Z",
     "start_time": "2024-05-08T01:41:22.737243158Z"
    }
   },
   "id": "dc139c863ddc89fa",
   "execution_count": 11
  },
  {
   "cell_type": "code",
   "outputs": [],
   "source": [
    "def load_vnnlib_bounds(vnnlib_path, input_shape, n_out):\n",
    "    n_in = np.prod(input_shape)\n",
    "    res = read_vnnlib_simple(vnnlib_path, n_in, n_out)\n",
    "    bnds, spec = res[0]\n",
    "    \n",
    "    bnds = np.array(bnds)\n",
    "    lbs = bnds[:,0]\n",
    "    ubs = bnds[:,1]\n",
    "    \n",
    "    data_min = torch.tensor(lbs, dtype=data_type).reshape(input_shape).to(device)\n",
    "    data_max = torch.tensor(ubs, dtype=data_type).reshape(input_shape).to(device)\n",
    "\n",
    "    return [data_min, data_max]"
   ],
   "metadata": {
    "collapsed": false,
    "ExecuteTime": {
     "end_time": "2024-05-08T01:41:22.747440289Z",
     "start_time": "2024-05-08T01:41:22.737283768Z"
    }
   },
   "id": "ee77c603c2d29b5c",
   "execution_count": 12
  },
  {
   "cell_type": "markdown",
   "source": [
    "# get bounds with crown"
   ],
   "metadata": {
    "collapsed": false
   },
   "id": "3b09947b5d45122e"
  },
  {
   "cell_type": "code",
   "outputs": [],
   "source": [
    "def onnx_to_bounded_model(onnx_path, input_shape):\n",
    "    onnx_model = onnx.load(onnx_path)\n",
    "    torch_model = ConvertModel(onnx_model)\n",
    "    \n",
    "    x_concrete = torch.zeros(input_shape)\n",
    "    model = BoundedModule(torch_model, x_concrete)\n",
    "    return model"
   ],
   "metadata": {
    "collapsed": false,
    "ExecuteTime": {
     "end_time": "2024-05-08T01:41:22.747942857Z",
     "start_time": "2024-05-08T01:41:22.737349698Z"
    }
   },
   "id": "554027a243f269d8",
   "execution_count": 13
  },
  {
   "cell_type": "code",
   "outputs": [],
   "source": [
    "def load_vnnlib_spec_for_auto_lirpa(vnnlib_path, input_shape, n_out):\n",
    "    n_in = np.prod(input_shape)\n",
    "    res = read_vnnlib_simple(vnnlib_path, n_in, n_out)\n",
    "    bnds, spec = res[0]\n",
    "    \n",
    "    bnds = np.array(bnds)\n",
    "    lbs = bnds[:,0]\n",
    "    ubs = bnds[:,1]\n",
    "    \n",
    "    data_min = torch.tensor(lbs, dtype=data_type).reshape(input_shape)\n",
    "    data_max = torch.tensor(ubs, dtype=data_type).reshape(input_shape)\n",
    "    center = 0.5*(data_min + data_max)\n",
    "\n",
    "    ptb = PerturbationLpNorm(x_L=data_min, x_U=data_max)\n",
    "    x = BoundedTensor(center, ptb)\n",
    "    \n",
    "    return x, center"
   ],
   "metadata": {
    "collapsed": false,
    "ExecuteTime": {
     "end_time": "2024-05-08T01:41:22.748428384Z",
     "start_time": "2024-05-08T01:41:22.737374698Z"
    }
   },
   "id": "b42ade07de97121a",
   "execution_count": 14
  },
  {
   "cell_type": "code",
   "outputs": [],
   "source": [
    "def get_layers(model):\n",
    "    return [l for l in model.nodes() if l.perturbed]"
   ],
   "metadata": {
    "collapsed": false,
    "ExecuteTime": {
     "end_time": "2024-05-08T01:41:22.748917592Z",
     "start_time": "2024-05-08T01:41:22.737394828Z"
    }
   },
   "id": "236afc883215fbaf",
   "execution_count": 15
  },
  {
   "cell_type": "code",
   "outputs": [],
   "source": [
    "def get_intermediate_bounds(model):\n",
    "    \"\"\"\n",
    "    Returns a dictionary containing the concrete lower and upper bounds of each layer.\n",
    "    \n",
    "    Implemented own method to filter out bounds for weight matrices.\n",
    "    \n",
    "    Only call this method after compute_bounds()!\n",
    "    \"\"\"\n",
    "    od = OrderedDict()\n",
    "    for l in get_layers(model):\n",
    "        if hasattr(l, 'lower'):\n",
    "            od[l.name] = (l.lower, l.upper)\n",
    "            \n",
    "    return od"
   ],
   "metadata": {
    "collapsed": false,
    "ExecuteTime": {
     "end_time": "2024-05-08T01:41:22.749376530Z",
     "start_time": "2024-05-08T01:41:22.737417618Z"
    }
   },
   "id": "5e6033fd22f9b945",
   "execution_count": 16
  },
  {
   "cell_type": "code",
   "outputs": [],
   "source": [
    "def get_bounds_auto_lirpa(x: BoundedTensor, model: BoundedModule, method=\"crown\"):\n",
    "    model.compute_bounds(x=(x,), method=method)\n",
    "    bounds_dict_crown = get_intermediate_bounds(model)\n",
    "    crown_bounds_affine_out = []\n",
    "    for i, key in enumerate(bounds_dict_crown.keys()):\n",
    "        if i == 0: # use this if ibp is used (or i % 2 == 1:)\n",
    "            continue\n",
    "        elif method == \"alpha-crown\" and \"59\" in key:\n",
    "            continue # todo WTF, why do i need to do this?\n",
    "            \n",
    "        lb, ub = bounds_dict_crown[key]\n",
    "        crown_bounds_affine_out.append([lb.type(data_type).view(-1).to(device), ub.type(data_type).view(-1).to(device)])\n",
    "        \n",
    "    crown_bounds_layer_out = []\n",
    "    relu = torch.nn.ReLU()\n",
    "    for i, (lb, ub) in enumerate(crown_bounds_affine_out):\n",
    "        if i == len(crown_bounds_affine_out) - 1:\n",
    "            crown_bounds_layer_out.append([lb, ub])\n",
    "        else:\n",
    "            lb_layer = relu(lb)\n",
    "            ub_layer = relu(ub)\n",
    "            crown_bounds_layer_out.append([lb_layer, ub_layer])\n",
    "            \n",
    "    return crown_bounds_affine_out, crown_bounds_layer_out"
   ],
   "metadata": {
    "collapsed": false,
    "ExecuteTime": {
     "end_time": "2024-05-08T01:41:22.749870538Z",
     "start_time": "2024-05-08T01:41:22.737438047Z"
    }
   },
   "id": "41468184eb04a1b1",
   "execution_count": 17
  },
  {
   "cell_type": "markdown",
   "source": [
    "# Create new csv"
   ],
   "metadata": {
    "collapsed": false
   },
   "id": "d53a434138b1b701"
  },
  {
   "cell_type": "code",
   "outputs": [],
   "source": [
    "def create_csv_file(csv_file_path):\n",
    "    data = [['Input name', 'State of optimization', 'time for just solving', \"time overall\", \"was successful?\", \"max distance\"]]\n",
    "    # File path for the CSV file\n",
    "    if os.path.isfile(csv_file_path):\n",
    "        raise RuntimeError(\"File name {} already exists\".format(csv_file_path))\n",
    "    \n",
    "    # Open the file in write mode\n",
    "    with open(csv_file_path, mode='a+', newline='') as file_obj:\n",
    "        # Create a csv.writer object\n",
    "        writer_object = csv.writer(file_obj)\n",
    "        # Write data to the CSV file\n",
    "        writer_object.writerows(data)\n",
    "     \n",
    "    # Print a confirmation message\n",
    "    print(f\"CSV file '{csv_file_path}' created successfully.\")"
   ],
   "metadata": {
    "collapsed": false,
    "ExecuteTime": {
     "end_time": "2024-05-08T01:41:22.750350325Z",
     "start_time": "2024-05-08T01:41:22.737458627Z"
    }
   },
   "id": "2f97d8bc608761dc",
   "execution_count": 18
  },
  {
   "cell_type": "code",
   "outputs": [],
   "source": [
    "def check_if_image_is_labeled_correctly(nn_model, image, label):\n",
    "    test_image = torch.unsqueeze(image, 0).to(dtype=data_type).to(device)\n",
    "    output = nn_model(test_image)\n",
    "    return torch.argmax(output).item() == label"
   ],
   "metadata": {
    "collapsed": false,
    "ExecuteTime": {
     "end_time": "2024-05-08T01:41:22.782015173Z",
     "start_time": "2024-05-08T01:41:22.739297098Z"
    }
   },
   "id": "c4e068c1d61a4714",
   "execution_count": 19
  },
  {
   "cell_type": "code",
   "outputs": [],
   "source": [
    "def check_if_auto_lirpa_already_verifies(x, output_size, label, method=\"crown\"):\n",
    "    c_matrix = torch.zeros((1, output_size - 1, output_size))\n",
    "    for i in range(output_size - 1):\n",
    "        if i < label:\n",
    "            index = i\n",
    "        elif i >= label:\n",
    "            index = i + 1\n",
    "        \n",
    "        c_matrix[0][i][index] = 1\n",
    "        c_matrix[0][i][label] = -1\n",
    "    \n",
    "    lb, ub = model.compute_bounds(x=(x,), C=c_matrix, method=method)\n",
    "    \n",
    "    return ub.max() < 0"
   ],
   "metadata": {
    "collapsed": false,
    "ExecuteTime": {
     "end_time": "2024-05-08T01:41:22.782369201Z",
     "start_time": "2024-05-08T01:41:22.781983623Z"
    }
   },
   "id": "4db18c087bbe41ee",
   "execution_count": 20
  },
  {
   "cell_type": "markdown",
   "source": [
    "# Do Verification SNR with MILP in last layer"
   ],
   "metadata": {
    "collapsed": false
   },
   "id": "3acab87b527a78c2"
  },
  {
   "cell_type": "code",
   "outputs": [],
   "source": [
    "csv_file_path = \"alpha_crown_result_snv+milp_mnist_9x200_eps_015.csv\"\n",
    "#create_csv_file(csv_file_path)\n",
    "\n",
    "def get_bounds_auto_lirpa(x: BoundedTensor, model: BoundedModule, method=\"crown\"):\n",
    "    model.compute_bounds(x=(x,), method=method, bound_lower=True, bound_upper=True)\n",
    "    bounds_dict_crown = get_intermediate_bounds(model)\n",
    "    crown_bounds_affine_out = []\n",
    "    prev_key = None\n",
    "    for i, key in enumerate(bounds_dict_crown.keys()):\n",
    "        if i == 0: # use this if ibp is used (or i % 2 == 1:)\n",
    "            continue\n",
    "        elif method == \"alpha-crown\" and \"59\" in key:\n",
    "            # todo WTF, why do i need to do this?\n",
    "            lb, ub = bounds_dict_crown[key][0], bounds_dict_crown[prev_key][1]\n",
    "            crown_bounds_affine_out.append([lb.type(data_type).view(-1).to(device), ub.type(data_type).view(-1).to(device)])\n",
    "        else: \n",
    "            lb, ub = bounds_dict_crown[key]\n",
    "            crown_bounds_affine_out.append([lb.type(data_type).view(-1).to(device), ub.type(data_type).view(-1).to(device)])\n",
    "        prev_key = key\n",
    "        \n",
    "    crown_bounds_layer_out = []\n",
    "    relu = torch.nn.ReLU()\n",
    "    for i, (lb, ub) in enumerate(crown_bounds_affine_out):\n",
    "        if i == len(crown_bounds_affine_out) - 1:\n",
    "            crown_bounds_layer_out.append([lb, ub])\n",
    "        else:\n",
    "            lb_layer = relu(lb)\n",
    "            ub_layer = relu(ub)\n",
    "            crown_bounds_layer_out.append([lb_layer, ub_layer])\n",
    "            \n",
    "    return crown_bounds_affine_out, crown_bounds_layer_out\n",
    "\n",
    "\n",
    "for num, vnnlib_path in enumerate(sorted(os.listdir(vnnlib_dir_path))): \n",
    "\n",
    "    if num == 50:\n",
    "        break\n",
    "    break\n",
    "    \n",
    "    print(\"{} ================================================\".format(num))\n",
    "    \n",
    "    full_path = vnnlib_dir_path + \"/\" + vnnlib_path\n",
    "    input_bounds = load_vnnlib_bounds(full_path, [784,], 10)\n",
    "    model = onnx_to_bounded_model(onnx_path, [1,1,1,784])\n",
    "    image, label = training_data[num]\n",
    "    x, center = load_vnnlib_spec_for_auto_lirpa(full_path, [1,1,1,784], 10)\n",
    "    \n",
    "    if not check_if_image_is_labeled_correctly(nn, image, label):\n",
    "        print(\"skipped because wrong classification from the network\")\n",
    "        \n",
    "        new_row = [vnnlib_path, \"wrong classification\"]\n",
    "        with open(csv_file_path, 'a', newline='') as file_obj:\n",
    "            writer_object = csv.writer(file_obj)\n",
    "         \n",
    "            writer_object.writerow(new_row)\n",
    "            file_obj.close()\n",
    "            \n",
    "            \n",
    "        continue\n",
    "    \n",
    "    if check_if_auto_lirpa_already_verifies(x, 10, label, method=\"alpha-crown\"):\n",
    "        print(\"skipped because auto lirpa already verified\")\n",
    "        \n",
    "        new_row = [vnnlib_path, \"lirpa classified\"]\n",
    "        with open(csv_file_path, 'a', newline='') as file_obj:\n",
    "            writer_object = csv.writer(file_obj)\n",
    "         \n",
    "            writer_object.writerow(new_row)\n",
    "            file_obj.close()\n",
    "            \n",
    "        continue\n",
    "    \n",
    "    overall_time = time.time()\n",
    "    # weirdly the box bounds are faster for snr+milp\n",
    "    bounds_affine_out, bounds_layer_out = get_bounds_auto_lirpa(x, model, method=\"alpha-crown\")\n",
    "    \n",
    "    # we need to pick these parameters, but for the SNR+MILP case these don't matter\n",
    "    sampling_strategy = PerGroupLineSearchSamplingStrategy(center, input_bounds, nn, sample_count=100)\n",
    "    group_size = 20\n",
    "    net_size = [5, 1]\n",
    "    icnn_factory = ICNNFactory(\"logical\", net_size, always_use_logical_layer=False)\n",
    "    \n",
    "    \n",
    "    \n",
    "    dhov_verifier = multidhov.MultiDHOV()\n",
    "    \n",
    "    # block prints\n",
    "    with open(os.devnull, \"w\") as f, contextlib.redirect_stdout(f):\n",
    "        dhov_verifier.start_verification(nn, center, icnn_factory, group_size, input_bounds, sampling_strategy, init_affine_bounds=bounds_affine_out, init_layer_bounds=bounds_layer_out,\n",
    "                                         skip_last_layer=True,\n",
    "                                         tighten_bounds=False, layers_as_snr=[0, 1, 2, 3, 4, 5, 6, 7], layers_as_milp=[8])\n",
    "    \n",
    "\n",
    "    \n",
    "    dhov_model = dhov_verifier.nn_encoding_model.copy()\n",
    "    dhov_model.update()\n",
    "    dhov_out_vars = get_output_vars_dhov(dhov_model, output_size, number_layer)\n",
    "    \n",
    "    add_output_constraints(dhov_model, dhov_verifier.bounds_layer_out, label, dhov_out_vars, sovler_bound=100000)\n",
    "    \n",
    "    optimize_model(dhov_model, dhov_out_vars, overall_time, verbose=False, csv_to_write_to=csv_file_path, csv_row_name=vnnlib_path)"
   ],
   "metadata": {
    "collapsed": false,
    "ExecuteTime": {
     "end_time": "2024-05-08T01:41:22.782888939Z",
     "start_time": "2024-05-08T01:41:22.782046543Z"
    }
   },
   "id": "5fa48a5e8cadf1f2",
   "execution_count": 21
  },
  {
   "cell_type": "code",
   "outputs": [
    {
     "data": {
      "text/plain": "'csv_file_path = \"result_dhov_20_3000_mnist_9x200_eps_015.csv\"\\nnew_row = [\"prop_004_0.015.vnnlib\", \"time_out of DHOV\", \"-\", 3600, False]\\nwith open(csv_file_path, \\'a\\', newline=\\'\\') as file_obj:\\n    writer_object = csv.writer(file_obj)\\n \\n    writer_object.writerow(new_row)\\n    file_obj.close()'"
     },
     "execution_count": 22,
     "metadata": {},
     "output_type": "execute_result"
    }
   ],
   "source": [
    "\"\"\"csv_file_path = \"result_dhov_20_3000_mnist_9x200_eps_015.csv\"\n",
    "new_row = [\"prop_004_0.015.vnnlib\", \"time_out of DHOV\", \"-\", 3600, False]\n",
    "with open(csv_file_path, 'a', newline='') as file_obj:\n",
    "    writer_object = csv.writer(file_obj)\n",
    " \n",
    "    writer_object.writerow(new_row)\n",
    "    file_obj.close()\"\"\""
   ],
   "metadata": {
    "collapsed": false,
    "ExecuteTime": {
     "end_time": "2024-05-08T01:41:22.783243017Z",
     "start_time": "2024-05-08T01:41:22.782085932Z"
    }
   },
   "id": "723f3aea6fd6e15d",
   "execution_count": 22
  },
  {
   "cell_type": "markdown",
   "source": [
    "# Do DHOV Verification"
   ],
   "metadata": {
    "collapsed": false
   },
   "id": "81f784dcbd39453c"
  },
  {
   "cell_type": "code",
   "outputs": [
    {
     "name": "stdout",
     "output_type": "stream",
     "text": [
      "0 ================================================\n",
      "skipped because wrong classification from the network\n",
      "1 ================================================\n"
     ]
    },
    {
     "name": "stderr",
     "output_type": "stream",
     "text": [
      "/home/ufuk/miniconda3/envs/autolirpa_icnn/lib/python3.10/site-packages/vnnlib/compat.py:283: UserWarning: literal negation does not strictly follow SMT-LIB\n",
      "  ast_node = parse_file(vnnlib_filename, strict=False)\n",
      "/home/ufuk/miniconda3/envs/autolirpa_icnn/lib/python3.10/site-packages/onnx2pytorch/convert/model.py:163: TracerWarning: Converting a tensor to a Python boolean might cause the trace to be incorrect. We can't record the data flow of Python values, so this value will be treated as a constant in the future. This means that the trace might not generalize to other inputs!\n",
      "  if not self.experimental and inputs[0].shape[self.batch_dim] > 1:\n",
      "/home/ufuk/miniconda3/envs/autolirpa_icnn/lib/python3.10/site-packages/auto_LiRPA/parse_graph.py:154: FutureWarning: 'torch.onnx.symbolic_helper._set_opset_version' is deprecated in version 1.13 and will be removed in 2.0. Please remove its usage and avoid setting internal variables directly.\n",
      "  _set_opset_version(12)\n"
     ]
    },
    {
     "name": "stdout",
     "output_type": "stream",
     "text": [
      "Set parameter Username\n",
      "Academic license - for non-commercial use only - expires 2025-02-14\n"
     ]
    },
    {
     "name": "stderr",
     "output_type": "stream",
     "text": [
      "/home/ufuk/Documents/Programming/ICNN_verification/script/DHOV/MultiDHOV.py:152: UserWarning: value for group number multiplier is given with grouping method consecutive. consecutive grouping does not use variable number of groups\n",
      "  warnings.warn(\"value for group number multiplier is given with grouping method consecutive. \"\n"
     ]
    },
    {
     "name": "stdout",
     "output_type": "stream",
     "text": [
      "\n",
      "approximation of layer: 0\n",
      "    number of fixed neurons for current layer: 154\n",
      "        time for sampling: 0.010742902755737305\n",
      "    layer progress, group 1 of 3 \n",
      "        time for training: 2.3564505577087402\n",
      "    layer progress, group 2 of 3 \n",
      "        time for training: 2.2324090003967285\n",
      "    layer progress, group 3 of 3 \n",
      "        time for training: 1.6846966743469238\n",
      "        actual verification time 0.023779869079589844\n",
      "        actual verification time 0.2538433074951172\n",
      "        actual verification time 0.2620837688446045\n",
      "        time for verification: 0.4416618347167969\n",
      "total time for current layer: 6.813248157501221\n",
      "\n",
      "approximation of layer: 1\n",
      "    time for icnn_bound calculation: 1.442263126373291\n",
      "    number of fixed neurons for current layer: 155\n",
      "        time for sampling: 1.505629301071167\n",
      "    layer progress, group 1 of 3 \n",
      "        time for training: 2.24422287940979\n",
      "    layer progress, group 2 of 3 \n",
      "        time for training: 2.1447460651397705\n",
      "    layer progress, group 3 of 3 \n",
      "        time for training: 1.7729146480560303\n",
      "        actual verification time 0.22173428535461426\n",
      "        actual verification time 0.4775233268737793\n",
      "        actual verification time 0.7172398567199707\n",
      "        time for verification: 0.9200248718261719\n",
      "total time for current layer: 10.119133472442627\n",
      "\n",
      "approximation of layer: 2\n",
      "    time for icnn_bound calculation: 2.341886043548584\n",
      "    number of fixed neurons for current layer: 147\n",
      "        time for sampling: 1.7276301383972168\n",
      "    layer progress, group 1 of 3 \n",
      "        time for training: 2.2609002590179443\n",
      "    layer progress, group 2 of 3 \n",
      "        time for training: 2.174680471420288\n",
      "    layer progress, group 3 of 3 \n",
      "        time for training: 1.9332327842712402\n",
      "        actual verification time 0.7456481456756592\n",
      "        actual verification time 1.0666959285736084\n",
      "        actual verification time 1.3965840339660645\n",
      "        time for verification: 1.600414752960205\n",
      "total time for current layer: 12.14795470237732\n",
      "\n",
      "approximation of layer: 3\n",
      "    time for icnn_bound calculation: 3.6378164291381836\n",
      "    number of fixed neurons for current layer: 155\n",
      "        time for sampling: 1.9276328086853027\n",
      "    layer progress, group 1 of 3 \n",
      "        time for training: 2.2211954593658447\n",
      "    layer progress, group 2 of 3 \n",
      "        time for training: 2.1733860969543457\n",
      "    layer progress, group 3 of 3 \n",
      "        time for training: 1.7172496318817139\n",
      "        actual verification time 0.3659679889678955\n",
      "        actual verification time 2.155301332473755\n",
      "        actual verification time 3.7089602947235107\n",
      "        time for verification: 3.914158821105957\n",
      "total time for current layer: 15.68443775177002\n",
      "\n",
      "approximation of layer: 4\n",
      "    time for icnn_bound calculation: 5.6985414028167725\n",
      "    number of fixed neurons for current layer: 154\n",
      "        time for sampling: 2.065371513366699\n",
      "    layer progress, group 1 of 3 \n",
      "        time for training: 0.6865675449371338\n",
      "    layer progress, group 2 of 3 \n",
      "        time for training: 2.237807273864746\n",
      "    layer progress, group 3 of 3 \n",
      "        time for training: 1.9938018321990967\n",
      "        actual verification time 0.6894996166229248\n",
      "        actual verification time 4.218136787414551\n",
      "        actual verification time 6.929992437362671\n",
      "        time for verification: 7.162037372589111\n",
      "total time for current layer: 19.940296173095703\n",
      "\n",
      "approximation of layer: 5\n",
      "    time for icnn_bound calculation: 9.93982481956482\n",
      "    number of fixed neurons for current layer: 165\n",
      "        time for sampling: 1.294788122177124\n",
      "    layer progress, group 1 of 2 \n",
      "        time for training: 2.2135000228881836\n",
      "    layer progress, group 2 of 2 \n",
      "        time for training: 2.205906391143799\n",
      "        actual verification time 2.26149845123291\n",
      "        actual verification time 3.3432679176330566\n",
      "        time for verification: 3.5620906352996826\n",
      "total time for current layer: 19.29635787010193\n",
      "\n",
      "approximation of layer: 6\n",
      "    time for icnn_bound calculation: 16.8739070892334\n",
      "    number of fixed neurons for current layer: 161\n",
      "        time for sampling: 1.4709031581878662\n",
      "    layer progress, group 1 of 2 \n",
      "        time for training: 2.190361976623535\n",
      "    layer progress, group 2 of 2 \n",
      "        time for training: 3.3371853828430176\n",
      "        actual verification time 3.0027809143066406\n",
      "        actual verification time 7.3775529861450195\n",
      "        time for verification: 7.608076095581055\n",
      "total time for current layer: 31.563287019729614\n",
      "\n",
      "approximation of layer: 7\n",
      "    time for icnn_bound calculation: 27.830126523971558\n",
      "    number of fixed neurons for current layer: 177\n",
      "        time for sampling: 1.7390007972717285\n",
      "    layer progress, group 1 of 2 \n",
      "        time for training: 2.2310097217559814\n",
      "    layer progress, group 2 of 2 \n",
      "        time for training: 1.691545009613037\n",
      "        actual verification time 0.5601274967193604\n",
      "        actual verification time 5.713089227676392\n",
      "        time for verification: 5.9422125816345215\n",
      "total time for current layer: 39.50180792808533\n",
      "\n",
      "approximation of layer: 8\n",
      "    time for icnn_bound calculation: 2.19429349899292\n",
      "    number of fixed neurons for current layer: 7\n",
      "    encode layer 8 as MILP\n",
      "the last layer was skipped, as requested\n"
     ]
    }
   ],
   "source": [
    "csv_file_path = \"alpha_crown_result_dhov_ibp_20_3000_mnist_9x200_eps_015.csv\"\n",
    "#create_csv_file(csv_file_path)\n",
    "\n",
    "for num, vnnlib_path in enumerate(sorted(os.listdir(vnnlib_dir_path))):\n",
    "\n",
    "    if num == 2:\n",
    "        break\n",
    "        \n",
    "    if num == 50:\n",
    "        break\n",
    "        \n",
    "    print(\"{} ================================================\".format(num))\n",
    "    \n",
    "    full_path = vnnlib_dir_path + \"/\" + vnnlib_path\n",
    "    input_bounds = load_vnnlib_bounds(full_path, [784,], 10)\n",
    "    model = onnx_to_bounded_model(onnx_path, [1,1,1,784])\n",
    "    image, label = training_data[num]\n",
    "    x, center = load_vnnlib_spec_for_auto_lirpa(full_path, [1,1,1,784], 10)\n",
    "    \n",
    "    if not check_if_image_is_labeled_correctly(nn, image, label):\n",
    "        print(\"skipped because wrong classification from the network\")\n",
    "        \n",
    "        new_row = [vnnlib_path, \"wrong classification\"]\n",
    "        with open(csv_file_path, 'a', newline='') as file_obj:\n",
    "            writer_object = csv.writer(file_obj)\n",
    "         \n",
    "            writer_object.writerow(new_row)\n",
    "            file_obj.close()\n",
    "            \n",
    "            \n",
    "        continue\n",
    "    \n",
    "    if check_if_auto_lirpa_already_verifies(x, 10, label, method=\"crown\"):\n",
    "        print(\"skipped because auto lirpa already verified\")\n",
    "        \n",
    "        new_row = [vnnlib_path, \"lirpa classified\"]\n",
    "        with open(csv_file_path, 'a', newline='') as file_obj:\n",
    "            writer_object = csv.writer(file_obj)\n",
    "         \n",
    "            writer_object.writerow(new_row)\n",
    "            file_obj.close()\n",
    "            \n",
    "        continue\n",
    "    \n",
    "    overall_time = time.time()\n",
    "    \n",
    "    bounds_affine_out, bounds_layer_out = get_bounds_auto_lirpa(x, model, method=\"crown\")\n",
    "    sampling_strategy = PerGroupLineSearchSamplingStrategy(center, input_bounds, nn, sample_count=3000)\n",
    "    group_size = 20\n",
    "    net_size = [5, 1]\n",
    "    #icnn_factory = ICNNFactory(\"approx_max\", net_size, maximum_function=\"SMU\", function_parameter=0.3)\n",
    "    icnn_factory = ICNNFactory(\"logical\", net_size, always_use_logical_layer=False)\n",
    "    #icnn_factory = ICNNFactory(\"standard\", net_size, adapt_layer_for_init=True)\n",
    "    \n",
    "    \n",
    "    \n",
    "    dhov_verifier = multidhov.MultiDHOV()\n",
    "    with open(os.devnull, \"w\") as f: # , contextlib.redirect_stdout(f):\n",
    "            return_without_time_out = dhov_verifier.start_verification(nn, center, icnn_factory, group_size, input_bounds, sampling_strategy, \n",
    "                                                                    init_affine_bounds=bounds_affine_out, \n",
    "                                                                    init_layer_bounds=bounds_layer_out, \n",
    "                                                                    skip_last_layer=True,\n",
    "                                                                    icnn_epochs=200, \n",
    "                                                                    icnn_batch_size=10000, \n",
    "                                                                    use_over_approximation=True, \n",
    "                                                                    tighten_bounds=True, \n",
    "                                                                    use_fixed_neurons_in_grouping=False, \n",
    "                                                                    layers_as_snr=[], \n",
    "                                                                    layers_as_milp=[8], \n",
    "                                                                    force_inclusion_steps=3, \n",
    "                                                                    preemptive_stop=True, \n",
    "                                                                    grouping_method=\"consecutive\", \n",
    "                                                                    group_num_multiplier=5,\n",
    "                                                                    optimizer=\"SdLBFGS\", \n",
    "                                                                    init_network=True, \n",
    "                                                                    adapt_lambda=\"included\",\n",
    "                                                                    encode_icnn_enlargement_as_lp=False, \n",
    "                                                                    encode_relu_enlargement_as_lp=False,\n",
    "                                                                    time_out=60*60,\n",
    "                                                                    #time_per_neuron_refinement=10,\n",
    "                                                                    #time_per_icnn_refinement=0.1,\n",
    "                                                                    allow_heuristic_timeout_estimate=True,\n",
    "                                                                    break_after=None, print_training_loss=False, print_new_bounds=False, store_samples=False, print_optimization_steps=False, print_last_loss=False)\n",
    "    \n",
    "    if not return_without_time_out:\n",
    "        new_row = [vnnlib_path, \"time_out of DHOV\", \"-\", time.time() - overall_time, False]\n",
    "        with open(csv_file_path, 'a', newline='') as file_obj:\n",
    "            writer_object = csv.writer(file_obj)\n",
    "         \n",
    "            writer_object.writerow(new_row)\n",
    "            file_obj.close()\n",
    "        continue\n",
    "        \n",
    "    dhov_model = dhov_verifier.nn_encoding_model.copy()\n",
    "    dhov_model.update()\n",
    "    dhov_out_vars = get_output_vars_dhov(dhov_model, output_size, number_layer)\n",
    "    \n",
    "    add_output_constraints(dhov_model, dhov_verifier.bounds_layer_out, label, dhov_out_vars, sovler_bound=100000)\n",
    "    \n",
    "    optimize_model(dhov_model, dhov_out_vars, overall_time, verbose=False, csv_to_write_to=csv_file_path, csv_row_name=vnnlib_path)"
   ],
   "metadata": {
    "collapsed": false,
    "ExecuteTime": {
     "end_time": "2024-05-08T01:44:05.229091131Z",
     "start_time": "2024-05-08T01:41:26.415569819Z"
    }
   },
   "id": "f62c64884d022034",
   "execution_count": 23
  },
  {
   "cell_type": "code",
   "outputs": [],
   "source": [
    "print(\"done\")"
   ],
   "metadata": {
    "collapsed": false,
    "ExecuteTime": {
     "start_time": "2024-05-04T12:38:32.613032644Z"
    }
   },
   "id": "a444d3433f05a154"
  }
 ],
 "metadata": {
  "kernelspec": {
   "display_name": "Python 3",
   "language": "python",
   "name": "python3"
  },
  "language_info": {
   "codemirror_mode": {
    "name": "ipython",
    "version": 2
   },
   "file_extension": ".py",
   "mimetype": "text/x-python",
   "name": "python",
   "nbconvert_exporter": "python",
   "pygments_lexer": "ipython2",
   "version": "2.7.6"
  }
 },
 "nbformat": 4,
 "nbformat_minor": 5
}
