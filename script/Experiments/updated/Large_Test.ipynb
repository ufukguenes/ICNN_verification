{
 "cells": [
  {
   "cell_type": "code",
   "execution_count": 1,
   "id": "ac9c32e3a6d0eda8",
   "metadata": {
    "collapsed": false,
    "execution": {
     "iopub.execute_input": "2024-05-29T10:23:36.678805Z",
     "iopub.status.busy": "2024-05-29T10:23:36.678727Z",
     "iopub.status.idle": "2024-05-29T10:23:36.682232Z",
     "shell.execute_reply": "2024-05-29T10:23:36.682037Z"
    },
    "ExecuteTime": {
     "end_time": "2024-05-29T14:56:13.358319547Z",
     "start_time": "2024-05-29T14:56:13.356666582Z"
    }
   },
   "outputs": [
    {
     "name": "stdout",
     "output_type": "stream",
     "text": [
      "/home/ufuk/Documents/Programming/ICNN_verification/script/Experiments/updated\n"
     ]
    }
   ],
   "source": [
    "import os\n",
    "path = %pwd\n",
    "print(path)\n",
    "os.chdir(path)\n",
    "os.chdir(\"../../..\")"
   ]
  },
  {
   "cell_type": "code",
   "execution_count": 2,
   "id": "35bb42448ecc3d69",
   "metadata": {
    "collapsed": false,
    "execution": {
     "iopub.execute_input": "2024-05-29T10:23:36.683237Z",
     "iopub.status.busy": "2024-05-29T10:23:36.683172Z",
     "iopub.status.idle": "2024-05-29T10:23:36.685580Z",
     "shell.execute_reply": "2024-05-29T10:23:36.685418Z"
    },
    "ExecuteTime": {
     "end_time": "2024-05-29T14:56:13.377406230Z",
     "start_time": "2024-05-29T14:56:13.359430935Z"
    }
   },
   "outputs": [
    {
     "data": {
      "text/plain": "'/home/ufuk/Documents/Programming/ICNN_verification'"
     },
     "execution_count": 2,
     "metadata": {},
     "output_type": "execute_result"
    }
   ],
   "source": [
    "%pwd"
   ]
  },
  {
   "cell_type": "code",
   "execution_count": 3,
   "id": "initial_id",
   "metadata": {
    "collapsed": true,
    "execution": {
     "iopub.execute_input": "2024-05-29T10:23:36.686473Z",
     "iopub.status.busy": "2024-05-29T10:23:36.686353Z",
     "iopub.status.idle": "2024-05-29T10:23:37.817341Z",
     "shell.execute_reply": "2024-05-29T10:23:37.817093Z"
    },
    "ExecuteTime": {
     "end_time": "2024-05-29T14:56:14.257269179Z",
     "start_time": "2024-05-29T14:56:13.376413069Z"
    }
   },
   "outputs": [],
   "source": [
    "import os\n",
    "import contextlib\n",
    "\n",
    "import torch\n",
    "import time\n",
    "from script.NeuralNets.Networks import SequentialNN\n",
    "from script.settings import device, data_type\n",
    "import script.DHOV.MultiDHOV as multidhov\n",
    "import gurobipy as grp\n",
    "from torchvision.datasets import MNIST\n",
    "from torchvision.transforms import Compose, ToTensor, Normalize\n",
    "from script.NeuralNets.ICNNFactory import ICNNFactory\n",
    "import matplotlib.pyplot as plt\n",
    "from script.Profiling import Timings\n",
    "import numpy as np\n",
    "import csv\n",
    "from script.DHOV.Sampling.PerGroupLineSearchSampling import PerGroupLineSearchSamplingStrategy\n",
    "from script.DHOV.Sampling.PerGroupSamplingStrategy import PerGroupSamplingStrategy\n",
    "from script.DHOV.Sampling.PerGroupFeasibleSamplingStrategy import PerGroupFeasibleSamplingStrategy\n",
    "from script.DHOV.Sampling.ZonotopeSamplingStrategy import ZonotopeSamplingStrategy"
   ]
  },
  {
   "cell_type": "code",
   "execution_count": 4,
   "id": "f0822bc3823089a5",
   "metadata": {
    "collapsed": false,
    "execution": {
     "iopub.execute_input": "2024-05-29T10:23:37.818641Z",
     "iopub.status.busy": "2024-05-29T10:23:37.818519Z",
     "iopub.status.idle": "2024-05-29T10:23:38.110151Z",
     "shell.execute_reply": "2024-05-29T10:23:38.109825Z"
    },
    "ExecuteTime": {
     "end_time": "2024-05-29T14:56:14.473242948Z",
     "start_time": "2024-05-29T14:56:14.257181774Z"
    }
   },
   "outputs": [],
   "source": [
    "import onnx\n",
    "from onnx2pytorch import ConvertModel\n",
    "from auto_LiRPA import BoundedModule, BoundedTensor, PerturbationLpNorm\n",
    "\n",
    "from vnnlib.compat import read_vnnlib_simple\n",
    "from collections import OrderedDict"
   ]
  },
  {
   "cell_type": "code",
   "execution_count": 5,
   "id": "e5f31a00be8f319",
   "metadata": {
    "collapsed": false,
    "execution": {
     "iopub.execute_input": "2024-05-29T10:23:38.111714Z",
     "iopub.status.busy": "2024-05-29T10:23:38.111592Z",
     "iopub.status.idle": "2024-05-29T10:23:38.113158Z",
     "shell.execute_reply": "2024-05-29T10:23:38.112983Z"
    },
    "ExecuteTime": {
     "end_time": "2024-05-29T14:56:14.475377390Z",
     "start_time": "2024-05-29T14:56:14.474317534Z"
    }
   },
   "outputs": [],
   "source": [
    "os.chdir(path)"
   ]
  },
  {
   "cell_type": "code",
   "execution_count": 6,
   "id": "2cac90c448c123e2",
   "metadata": {
    "collapsed": false,
    "execution": {
     "iopub.execute_input": "2024-05-29T10:23:38.114024Z",
     "iopub.status.busy": "2024-05-29T10:23:38.113954Z",
     "iopub.status.idle": "2024-05-29T10:23:38.115378Z",
     "shell.execute_reply": "2024-05-29T10:23:38.115205Z"
    },
    "ExecuteTime": {
     "end_time": "2024-05-29T14:56:14.479453822Z",
     "start_time": "2024-05-29T14:56:14.476132439Z"
    }
   },
   "outputs": [],
   "source": [
    "onnx_name = \"mnist_relu_9_200.onnx\"\n",
    "vnnlib_name = \"1000_mnist_eps_015\"\n",
    "\n",
    "onnx_path = 'nets/' + onnx_name\n",
    "vnnlib_dir_path = \"specs/\" + vnnlib_name\n",
    "cpu_core_count = os.cpu_count()"
   ]
  },
  {
   "cell_type": "code",
   "execution_count": 6,
   "id": "76f90072a2e894",
   "metadata": {
    "collapsed": false,
    "ExecuteTime": {
     "end_time": "2024-05-29T14:56:14.479929427Z",
     "start_time": "2024-05-29T14:56:14.478066490Z"
    }
   },
   "outputs": [],
   "source": []
  },
  {
   "cell_type": "code",
   "execution_count": 6,
   "id": "7ee8af4f85372d15",
   "metadata": {
    "collapsed": false,
    "ExecuteTime": {
     "end_time": "2024-05-29T14:56:14.521300470Z",
     "start_time": "2024-05-29T14:56:14.479565588Z"
    }
   },
   "outputs": [],
   "source": []
  },
  {
   "cell_type": "markdown",
   "id": "43857ff221b9ea71",
   "metadata": {
    "collapsed": false
   },
   "source": [
    "# Import the onnx model and convert it to a SequentialNN\n",
    "It has to bee a SequentialNN"
   ]
  },
  {
   "cell_type": "markdown",
   "id": "72bcacbdec4990e4",
   "metadata": {
    "collapsed": false
   },
   "source": [
    "The SequentialNN needs to have one additional output layer, as its last layer never has relu activation but the imported network has. The last layer then gets initialized with the identity matrix and gets skipped during the verification"
   ]
  },
  {
   "cell_type": "code",
   "execution_count": 7,
   "id": "7ece6141625b3884",
   "metadata": {
    "collapsed": false,
    "execution": {
     "iopub.execute_input": "2024-05-29T10:23:38.116320Z",
     "iopub.status.busy": "2024-05-29T10:23:38.116250Z",
     "iopub.status.idle": "2024-05-29T10:23:38.127351Z",
     "shell.execute_reply": "2024-05-29T10:23:38.127154Z"
    },
    "ExecuteTime": {
     "end_time": "2024-05-29T14:56:14.521946214Z",
     "start_time": "2024-05-29T14:56:14.521220396Z"
    }
   },
   "outputs": [
    {
     "name": "stderr",
     "output_type": "stream",
     "text": [
      "/home/ufuk/miniconda3/envs/autolirpa_icnn/lib/python3.10/site-packages/onnx2pytorch/convert/layer.py:30: UserWarning: The given NumPy array is not writable, and PyTorch does not support non-writable tensors. This means writing to this tensor will result in undefined behavior. You may want to copy the array to protect its data or make it writable before converting it to a tensor. This type of warning will be suppressed for the rest of this program. (Triggered internally at ../torch/csrc/utils/tensor_numpy.cpp:206.)\n",
      "  layer.weight.data = torch.from_numpy(numpy_helper.to_array(weight))\n"
     ]
    }
   ],
   "source": [
    "onnx_model = onnx.load(onnx_path)\n",
    "pytorch_model = ConvertModel(onnx_model)\n",
    "nn = SequentialNN([28 * 28 * 1, 200, 200, 200, 200, 200, 200, 200, 200, 10, 10])\n",
    "\n",
    "\n",
    "parameter_list_onnx = list(pytorch_model.parameters())\n",
    "parameter_list_sequential = list(nn.parameters())\n",
    "for i in range(0, len(parameter_list_onnx), 2):\n",
    "    parameter_list_sequential[i].data = parameter_list_onnx[i].data\n",
    "    parameter_list_sequential[i+1].data = parameter_list_onnx[i+1].data\n",
    "parameter_list_sequential[-2].data = torch.eye(10, dtype=data_type)\n",
    "parameter_list_sequential[-1].data = torch.zeros(10, dtype=data_type)"
   ]
  },
  {
   "cell_type": "code",
   "execution_count": 8,
   "id": "2e0b30bcf0bc5ed3",
   "metadata": {
    "collapsed": false,
    "execution": {
     "iopub.execute_input": "2024-05-29T10:23:38.128297Z",
     "iopub.status.busy": "2024-05-29T10:23:38.128223Z",
     "iopub.status.idle": "2024-05-29T10:23:38.129670Z",
     "shell.execute_reply": "2024-05-29T10:23:38.129490Z"
    },
    "ExecuteTime": {
     "end_time": "2024-05-29T14:56:14.522407308Z",
     "start_time": "2024-05-29T14:56:14.521315691Z"
    }
   },
   "outputs": [],
   "source": [
    "parameter_list = list(pytorch_model.parameters()) # don't use nn here as we have added an extra layer\n",
    "output_size = 10\n",
    "number_layer = (len(parameter_list) - 2) // 2"
   ]
  },
  {
   "cell_type": "markdown",
   "id": "32ac993914cba497",
   "metadata": {
    "collapsed": false
   },
   "source": [
    "# Load the data to apply the verification process for"
   ]
  },
  {
   "cell_type": "code",
   "execution_count": 9,
   "id": "813c48a4e74d2cfd",
   "metadata": {
    "collapsed": false,
    "execution": {
     "iopub.execute_input": "2024-05-29T10:23:38.130423Z",
     "iopub.status.busy": "2024-05-29T10:23:38.130354Z",
     "iopub.status.idle": "2024-05-29T10:23:38.131825Z",
     "shell.execute_reply": "2024-05-29T10:23:38.131653Z"
    },
    "ExecuteTime": {
     "end_time": "2024-05-29T14:56:14.522838450Z",
     "start_time": "2024-05-29T14:56:14.521347783Z"
    }
   },
   "outputs": [],
   "source": [
    "def imshow(img):\n",
    "    img = img / 2 + .05  # revert normalization for viewing\n",
    "    npimg = img.to(\"cpu\").numpy()\n",
    "    plt.imshow(npimg, cmap=\"gray\")\n",
    "    plt.show()"
   ]
  },
  {
   "cell_type": "code",
   "execution_count": 10,
   "id": "e93b71692992f90e",
   "metadata": {
    "collapsed": false,
    "execution": {
     "iopub.execute_input": "2024-05-29T10:23:38.132554Z",
     "iopub.status.busy": "2024-05-29T10:23:38.132484Z",
     "iopub.status.idle": "2024-05-29T10:23:38.180285Z",
     "shell.execute_reply": "2024-05-29T10:23:38.179995Z"
    },
    "ExecuteTime": {
     "end_time": "2024-05-29T14:56:14.533972500Z",
     "start_time": "2024-05-29T14:56:14.521369444Z"
    }
   },
   "outputs": [],
   "source": [
    "transform = Compose([ToTensor()])\n",
    "training_data = MNIST(root=\"../../../mnist\", train=True, download=True, transform=transform)"
   ]
  },
  {
   "cell_type": "code",
   "execution_count": 11,
   "id": "7708d17e62f8ed3c",
   "metadata": {
    "collapsed": false,
    "execution": {
     "iopub.execute_input": "2024-05-29T10:23:38.181682Z",
     "iopub.status.busy": "2024-05-29T10:23:38.181602Z",
     "iopub.status.idle": "2024-05-29T10:23:38.183784Z",
     "shell.execute_reply": "2024-05-29T10:23:38.183611Z"
    },
    "ExecuteTime": {
     "end_time": "2024-05-29T14:56:14.564525860Z",
     "start_time": "2024-05-29T14:56:14.535835527Z"
    }
   },
   "outputs": [],
   "source": [
    "def accuracy_test(model, converted_model, data):\n",
    "    total_correct = 0\n",
    "    total_wrong = 0\n",
    "    for image, label in data:\n",
    "        test_image = torch.unsqueeze(image, 0).to(dtype=data_type).to(device)   \n",
    "        model_test = model(test_image)\n",
    "        converted_test = converted_model(test_image)\n",
    "        if not torch.isclose(model_test, converted_test).all():\n",
    "            print(\"is not close\")\n",
    "            break\n",
    "        if torch.argmax(model_test).item() == label:\n",
    "            total_correct += 1\n",
    "        else:\n",
    "            total_wrong += 1\n",
    "    \n",
    "    print(\"is close\")    \n",
    "    print(f\"accuracy {total_correct/ len(training_data)}\")\n",
    "    \n",
    "\n",
    "\n",
    "do_test = False\n",
    "if do_test:\n",
    "    accuracy_test(pytorch_model, nn, training_data)\n"
   ]
  },
  {
   "cell_type": "code",
   "execution_count": 12,
   "id": "18307fa1201eb3d6",
   "metadata": {
    "collapsed": false,
    "execution": {
     "iopub.execute_input": "2024-05-29T10:23:38.184735Z",
     "iopub.status.busy": "2024-05-29T10:23:38.184662Z",
     "iopub.status.idle": "2024-05-29T10:23:38.187604Z",
     "shell.execute_reply": "2024-05-29T10:23:38.187392Z"
    },
    "ExecuteTime": {
     "end_time": "2024-05-29T14:56:14.564974803Z",
     "start_time": "2024-05-29T14:56:14.558766770Z"
    }
   },
   "outputs": [],
   "source": [
    "def add_output_constraints(model, nn_layer_out_bounds, label, output_vars, sovler_bound=1e-3):\n",
    "    \"\"\"\n",
    "    \n",
    "    :param model: the optimization problem in gurobi encoding the NN\n",
    "    :param nn_layer_out_bounds: torch.Tensor, approximating the upper and lower bounding the output layer of the NN\n",
    "    :param label: index of the label or target neuron which is compared against\n",
    "    :param output_vars: the gurobi variables from the model of the NN describing the output neurons of the NN\n",
    "    :param sovler_bound: provides a bound for the gurobi solver. If this bound is achieved, the optimizer stops\n",
    "    \"\"\"\n",
    "    \n",
    "    out_lb = nn_layer_out_bounds[-1][0].detach().cpu().numpy()\n",
    "    out_ub = nn_layer_out_bounds[-1][1].detach().cpu().numpy()\n",
    "    \n",
    "    difference_lb = out_lb - out_ub[label]\n",
    "    difference_ub = out_ub - out_lb[label]\n",
    "    difference_lb = difference_lb.tolist()\n",
    "    difference_ub = difference_ub.tolist()\n",
    "    \n",
    "    difference_lb.pop(label)\n",
    "    difference_ub.pop(label)\n",
    "    \n",
    "    min_diff = min(difference_lb)\n",
    "    max_diff = max(difference_ub)\n",
    "    \n",
    "    difference = model.addVars(9, lb=difference_lb, ub=difference_ub, name=\"diff_var\")\n",
    "    model.addConstrs((difference[i] == output_vars.tolist()[i] - output_vars.tolist()[label] for i in range(0, label)), name=\"diff_const0\")\n",
    "    model.addConstrs((difference[i - 1] == output_vars.tolist()[i] - output_vars.tolist()[label] for i in range(label + 1, 10)), name=\"diff_const1\")\n",
    "\n",
    "    max_var = model.addVar(lb=min_diff, ub=max_diff, name=\"max_var\")\n",
    "    model.addConstr(max_var == grp.max_(difference))\n",
    "\n",
    "    if sovler_bound != None:\n",
    "        model.setParam(\"BestObjStop\", sovler_bound)\n",
    "\n",
    "    model.update()\n",
    "    model.setObjective(max_var, grp.GRB.MAXIMIZE)"
   ]
  },
  {
   "cell_type": "code",
   "execution_count": 13,
   "id": "d30a13deca625b13",
   "metadata": {
    "collapsed": false,
    "execution": {
     "iopub.execute_input": "2024-05-29T10:23:38.188556Z",
     "iopub.status.busy": "2024-05-29T10:23:38.188478Z",
     "iopub.status.idle": "2024-05-29T10:23:38.190058Z",
     "shell.execute_reply": "2024-05-29T10:23:38.189880Z"
    },
    "ExecuteTime": {
     "end_time": "2024-05-29T14:56:14.565357423Z",
     "start_time": "2024-05-29T14:56:14.558848154Z"
    }
   },
   "outputs": [],
   "source": [
    "def get_output_vars_dhov(model, output_size, output_layer_index):\n",
    "    output_vars = []\n",
    "    for i in range(output_size):\n",
    "        output_vars.append(model.getVarByName(\"output_layer_[{}]_[{}]\".format(output_layer_index, i)))\n",
    "    output_vars = grp.MVar.fromlist(output_vars)\n",
    "    return output_vars"
   ]
  },
  {
   "cell_type": "code",
   "execution_count": 14,
   "id": "dc139c863ddc89fa",
   "metadata": {
    "collapsed": false,
    "execution": {
     "iopub.execute_input": "2024-05-29T10:23:38.190974Z",
     "iopub.status.busy": "2024-05-29T10:23:38.190902Z",
     "iopub.status.idle": "2024-05-29T10:23:38.195832Z",
     "shell.execute_reply": "2024-05-29T10:23:38.195612Z"
    },
    "ExecuteTime": {
     "end_time": "2024-05-29T14:56:14.565705051Z",
     "start_time": "2024-05-29T14:56:14.558888296Z"
    }
   },
   "outputs": [],
   "source": [
    "def optimize_model(model, output_vars, start_overall_time, dhov_timings, time_limit=60*60, verbose=True, csv_to_write_to=None, csv_row_name=\"No name\"):\n",
    "    \"\"\"\n",
    "    \n",
    "    :param model: the optimization problem in gurobi encoding the NN and the objective \n",
    "    :param output_vars: the gurobi variables from the model of the NN describing the output neurons of the NN\n",
    "    :return True if verification was successful, else false \n",
    "    \"\"\"\n",
    "    \n",
    "    model.setParam(\"TimeLimit\", time_limit)\n",
    "    \n",
    "    start_solving_time = time.time()\n",
    "    model.update()\n",
    "    model.optimize()\n",
    "    \n",
    "    end_time = time.time()\n",
    "    time_just_solving = end_time - start_solving_time\n",
    "    time_overall = end_time - start_overall_time\n",
    "    \n",
    "    \n",
    "    if verbose:\n",
    "        print(\"time for verification {}\".format(time_just_solving))\n",
    "        print(\"overall time {}\".format(time_overall))\n",
    "    \n",
    "    if model.Status == grp.GRB.OPTIMAL or model.Status == grp.GRB.USER_OBJ_LIMIT:\n",
    "                    \n",
    "        max_var = model.getVarByName(\"max_var\").getAttr(\"x\")\n",
    "        verification_successful = max_var < 0\n",
    "        \n",
    "        if csv_to_write_to is not None:\n",
    "            new_row = [csv_row_name, \"finished\", time_just_solving, time_overall, verification_successful, max_var] +  dhov_timings.get_all_results(do_round=True)\n",
    "            \n",
    "            with open(csv_to_write_to, 'a', newline='') as file_obj:\n",
    "                writer_object = csv.writer(file_obj)\n",
    "             \n",
    "                writer_object.writerow(new_row)\n",
    "                file_obj.close()\n",
    "        \n",
    "        if verbose:\n",
    "            for i, var in enumerate(output_vars.tolist()):\n",
    "                print(\"var {}: {}\".format(i, var.getAttr(\"x\")))\n",
    "                \n",
    "            if verification_successful:\n",
    "                print(\"property verified with max difference {}\".format(max_var))\n",
    "                return True\n",
    "            else:\n",
    "                 print(\"property NOT verified with max difference {}\".format(max_var))\n",
    "                \n",
    "                \n",
    "        \n",
    "        \n",
    "        return verification_successful\n",
    "    \n",
    "    elif model.Status == grp.GRB.TIME_LIMIT:        \n",
    "        \n",
    "        max_var_upper_bound = model.getAttr(\"ObjBound\")\n",
    "        \n",
    "        verification_failed_with_upper_bound = max_var_upper_bound > 0\n",
    "        \n",
    "        if verbose:\n",
    "            if verification_failed_with_upper_bound:\n",
    "                print(\"property NOT verified with upper bound for max difference {}\".format(max_var_upper_bound))\n",
    "            else:\n",
    "                print(\"time out and upper bound could not disprove the setting\")\n",
    "            \n",
    "        if csv_to_write_to is not None:\n",
    "            new_row = [csv_row_name, \"time_out\", time_just_solving, time_overall, verification_failed_with_upper_bound, max_var_upper_bound] + dhov_timings.get_all_results()\n",
    "            with open(csv_to_write_to, 'a', newline='') as file_obj:\n",
    "                writer_object = csv.writer(file_obj)\n",
    "             \n",
    "                writer_object.writerow(new_row)\n",
    "                file_obj.close()\n",
    "                \n",
    "                \n",
    "        return verification_failed_with_upper_bound\n",
    "\n",
    "    elif model.Status == grp.GRB.INFEASIBLE:\n",
    "        \n",
    "        if csv_to_write_to is not None:\n",
    "            new_row = [csv_row_name, \"infeasible\", time_just_solving, time_overall, False,]\n",
    "            with open(csv_to_write_to, 'a', newline='') as file_obj:\n",
    "                writer_object = csv.writer(file_obj)\n",
    "             \n",
    "                writer_object.writerow(new_row)\n",
    "                file_obj.close()\n",
    "        \n",
    "        if verbose:\n",
    "            print(\"model infeasible\")\n",
    "    \n",
    "            model.computeIIS()\n",
    "            print(\"constraint\")\n",
    "            all_constr = model.getConstrs()\n",
    "    \n",
    "            for const in all_constr:\n",
    "                if const.IISConstr:\n",
    "                    print(\"{}\".format(const))\n",
    "    \n",
    "            print(\"lower bound\")\n",
    "            all_var = model.getVars()\n",
    "            for var in all_var:\n",
    "                if var.IISLB:\n",
    "                    print(\"{}, lb: {}, ub: {}\".format(var, var.getAttr(\"lb\"), var.getAttr(\"ub\")))\n",
    "    \n",
    "            print(\"upper bound\")\n",
    "            all_var = model.getVars()\n",
    "            for var in all_var:\n",
    "                if var.IISUB:\n",
    "                    print(\"{}, lb: {}, ub: {}\".format(var, var.getAttr(\"lb\"), var.getAttr(\"ub\")))\n",
    "                \n",
    "        \n",
    "\n",
    "    return False"
   ]
  },
  {
   "cell_type": "code",
   "execution_count": 15,
   "id": "ee77c603c2d29b5c",
   "metadata": {
    "collapsed": false,
    "execution": {
     "iopub.execute_input": "2024-05-29T10:23:38.196764Z",
     "iopub.status.busy": "2024-05-29T10:23:38.196683Z",
     "iopub.status.idle": "2024-05-29T10:23:38.198522Z",
     "shell.execute_reply": "2024-05-29T10:23:38.198341Z"
    },
    "ExecuteTime": {
     "end_time": "2024-05-29T14:56:14.566054009Z",
     "start_time": "2024-05-29T14:56:14.558974660Z"
    }
   },
   "outputs": [],
   "source": [
    "def load_vnnlib_bounds(vnnlib_path, input_shape, n_out):\n",
    "    n_in = np.prod(input_shape)\n",
    "    res = read_vnnlib_simple(vnnlib_path, n_in, n_out)\n",
    "    bnds, spec = res[0]\n",
    "    \n",
    "    bnds = np.array(bnds)\n",
    "    lbs = bnds[:,0]\n",
    "    ubs = bnds[:,1]\n",
    "    \n",
    "    data_min = torch.tensor(lbs, dtype=data_type).reshape(input_shape).to(device)\n",
    "    data_max = torch.tensor(ubs, dtype=data_type).reshape(input_shape).to(device)\n",
    "\n",
    "    return [data_min, data_max]"
   ]
  },
  {
   "cell_type": "markdown",
   "id": "3b09947b5d45122e",
   "metadata": {
    "collapsed": false
   },
   "source": [
    "# get bounds with crown"
   ]
  },
  {
   "cell_type": "code",
   "execution_count": 16,
   "id": "554027a243f269d8",
   "metadata": {
    "collapsed": false,
    "execution": {
     "iopub.execute_input": "2024-05-29T10:23:38.199385Z",
     "iopub.status.busy": "2024-05-29T10:23:38.199314Z",
     "iopub.status.idle": "2024-05-29T10:23:38.200763Z",
     "shell.execute_reply": "2024-05-29T10:23:38.200596Z"
    },
    "ExecuteTime": {
     "end_time": "2024-05-29T14:56:14.566386387Z",
     "start_time": "2024-05-29T14:56:14.559009972Z"
    }
   },
   "outputs": [],
   "source": [
    "def onnx_to_bounded_model(onnx_path, input_shape):\n",
    "    onnx_model = onnx.load(onnx_path)\n",
    "    torch_model = ConvertModel(onnx_model)\n",
    "    \n",
    "    x_concrete = torch.zeros(input_shape)\n",
    "    model = BoundedModule(torch_model, x_concrete)\n",
    "    return model"
   ]
  },
  {
   "cell_type": "code",
   "execution_count": 17,
   "id": "b42ade07de97121a",
   "metadata": {
    "collapsed": false,
    "execution": {
     "iopub.execute_input": "2024-05-29T10:23:38.201643Z",
     "iopub.status.busy": "2024-05-29T10:23:38.201573Z",
     "iopub.status.idle": "2024-05-29T10:23:38.203498Z",
     "shell.execute_reply": "2024-05-29T10:23:38.203315Z"
    },
    "ExecuteTime": {
     "end_time": "2024-05-29T14:56:14.566720374Z",
     "start_time": "2024-05-29T14:56:14.559042244Z"
    }
   },
   "outputs": [],
   "source": [
    "def load_vnnlib_spec_for_auto_lirpa(vnnlib_path, input_shape, n_out):\n",
    "    n_in = np.prod(input_shape)\n",
    "    res = read_vnnlib_simple(vnnlib_path, n_in, n_out)\n",
    "    bnds, spec = res[0]\n",
    "    \n",
    "    bnds = np.array(bnds)\n",
    "    lbs = bnds[:,0]\n",
    "    ubs = bnds[:,1]\n",
    "    \n",
    "    data_min = torch.tensor(lbs, dtype=data_type).reshape(input_shape)\n",
    "    data_max = torch.tensor(ubs, dtype=data_type).reshape(input_shape)\n",
    "    center = 0.5*(data_min + data_max)\n",
    "\n",
    "    ptb = PerturbationLpNorm(x_L=data_min, x_U=data_max)\n",
    "    x = BoundedTensor(center, ptb)\n",
    "    \n",
    "    return x, center"
   ]
  },
  {
   "cell_type": "code",
   "execution_count": 18,
   "id": "236afc883215fbaf",
   "metadata": {
    "collapsed": false,
    "execution": {
     "iopub.execute_input": "2024-05-29T10:23:38.204259Z",
     "iopub.status.busy": "2024-05-29T10:23:38.204185Z",
     "iopub.status.idle": "2024-05-29T10:23:38.205519Z",
     "shell.execute_reply": "2024-05-29T10:23:38.205356Z"
    },
    "ExecuteTime": {
     "end_time": "2024-05-29T14:56:14.567054361Z",
     "start_time": "2024-05-29T14:56:14.559072035Z"
    }
   },
   "outputs": [],
   "source": [
    "def get_layers(model):\n",
    "    return [l for l in model.nodes() if l.perturbed]"
   ]
  },
  {
   "cell_type": "code",
   "execution_count": 19,
   "id": "5e6033fd22f9b945",
   "metadata": {
    "collapsed": false,
    "execution": {
     "iopub.execute_input": "2024-05-29T10:23:38.206245Z",
     "iopub.status.busy": "2024-05-29T10:23:38.206175Z",
     "iopub.status.idle": "2024-05-29T10:23:38.207711Z",
     "shell.execute_reply": "2024-05-29T10:23:38.207552Z"
    },
    "ExecuteTime": {
     "end_time": "2024-05-29T14:56:14.567383489Z",
     "start_time": "2024-05-29T14:56:14.559100167Z"
    }
   },
   "outputs": [],
   "source": [
    "def get_intermediate_bounds(model):\n",
    "    \"\"\"\n",
    "    Returns a dictionary containing the concrete lower and upper bounds of each layer.\n",
    "    \n",
    "    Implemented own method to filter out bounds for weight matrices.\n",
    "    \n",
    "    Only call this method after compute_bounds()!\n",
    "    \"\"\"\n",
    "    od = OrderedDict()\n",
    "    for l in get_layers(model):\n",
    "        if hasattr(l, 'lower'):\n",
    "            od[l.name] = (l.lower, l.upper)\n",
    "            \n",
    "    return od"
   ]
  },
  {
   "cell_type": "code",
   "execution_count": 20,
   "id": "41468184eb04a1b1",
   "metadata": {
    "collapsed": false,
    "execution": {
     "iopub.execute_input": "2024-05-29T10:23:38.208473Z",
     "iopub.status.busy": "2024-05-29T10:23:38.208401Z",
     "iopub.status.idle": "2024-05-29T10:23:38.211089Z",
     "shell.execute_reply": "2024-05-29T10:23:38.210916Z"
    },
    "ExecuteTime": {
     "end_time": "2024-05-29T14:56:14.567717786Z",
     "start_time": "2024-05-29T14:56:14.559126488Z"
    }
   },
   "outputs": [],
   "source": [
    "def get_bounds_auto_lirpa(x: BoundedTensor, model: BoundedModule, method=\"crown\"):\n",
    "    model.compute_bounds(x=(x,), method=method, bound_lower=True, bound_upper=True)\n",
    "    bounds_dict_crown = get_intermediate_bounds(model)\n",
    "    crown_bounds_affine_out = []\n",
    "    prev_key = None\n",
    "    for i, key in enumerate(bounds_dict_crown.keys()):\n",
    "        if i == 0: # use this if ibp is used (or i % 2 == 1:)\n",
    "            continue\n",
    "        elif method == \"alpha-crown\" and \"59\" in key:\n",
    "            # todo WTF, why do i need to do this?\n",
    "            lb, ub = bounds_dict_crown[key][0], bounds_dict_crown[prev_key][1]\n",
    "            crown_bounds_affine_out.append([lb.type(data_type).view(-1).to(device), ub.type(data_type).view(-1).to(device)])\n",
    "        else: \n",
    "            lb, ub = bounds_dict_crown[key]\n",
    "            crown_bounds_affine_out.append([lb.type(data_type).view(-1).to(device), ub.type(data_type).view(-1).to(device)])\n",
    "        prev_key = key\n",
    "        \n",
    "    crown_bounds_layer_out = []\n",
    "    relu = torch.nn.ReLU()\n",
    "    for i, (lb, ub) in enumerate(crown_bounds_affine_out):\n",
    "        if i == len(crown_bounds_affine_out) - 1:\n",
    "            crown_bounds_layer_out.append([lb, ub])\n",
    "        else:\n",
    "            lb_layer = relu(lb)\n",
    "            ub_layer = relu(ub)\n",
    "            crown_bounds_layer_out.append([lb_layer, ub_layer])\n",
    "            \n",
    "    return crown_bounds_affine_out, crown_bounds_layer_out"
   ]
  },
  {
   "cell_type": "markdown",
   "id": "d53a434138b1b701",
   "metadata": {
    "collapsed": false
   },
   "source": [
    "# Create new csv"
   ]
  },
  {
   "cell_type": "code",
   "execution_count": 21,
   "id": "2f97d8bc608761dc",
   "metadata": {
    "collapsed": false,
    "execution": {
     "iopub.execute_input": "2024-05-29T10:23:38.211876Z",
     "iopub.status.busy": "2024-05-29T10:23:38.211804Z",
     "iopub.status.idle": "2024-05-29T10:23:38.213672Z",
     "shell.execute_reply": "2024-05-29T10:23:38.213495Z"
    },
    "ExecuteTime": {
     "end_time": "2024-05-29T14:56:14.601314614Z",
     "start_time": "2024-05-29T14:56:14.560268628Z"
    }
   },
   "outputs": [],
   "source": [
    "def create_csv_file(csv_file_path, settings):\n",
    "    data = [ ['Input name', 'State of optimization', 'time for just solving', \"time overall\", \"was successful?\", \"max distance\"] +  Timings().get_ordering_as_list_of_strings() + [\"settings:\", settings] ]\n",
    "    # File path for the CSV file\n",
    "    if os.path.isfile(csv_file_path):\n",
    "        raise RuntimeError(\"File name {} already exists\".format(csv_file_path))\n",
    "    \n",
    "    # Open the file in write mode\n",
    "    with open(csv_file_path, mode='a+', newline='') as file_obj:\n",
    "        # Create a csv.writer object\n",
    "        writer_object = csv.writer(file_obj)\n",
    "        # Write data to the CSV file\n",
    "        writer_object.writerows(data)\n",
    "     \n",
    "    # Print a confirmation message\n",
    "    print(f\"CSV file '{csv_file_path}' created successfully.\")"
   ]
  },
  {
   "cell_type": "markdown",
   "id": "48adbb225ddba9f",
   "metadata": {
    "collapsed": false
   },
   "source": [
    "### pre verification checks"
   ]
  },
  {
   "cell_type": "code",
   "execution_count": 22,
   "id": "c4e068c1d61a4714",
   "metadata": {
    "collapsed": false,
    "execution": {
     "iopub.execute_input": "2024-05-29T10:23:38.214428Z",
     "iopub.status.busy": "2024-05-29T10:23:38.214358Z",
     "iopub.status.idle": "2024-05-29T10:23:38.215853Z",
     "shell.execute_reply": "2024-05-29T10:23:38.215681Z"
    },
    "ExecuteTime": {
     "end_time": "2024-05-29T14:56:14.601782979Z",
     "start_time": "2024-05-29T14:56:14.601226830Z"
    }
   },
   "outputs": [],
   "source": [
    "def check_if_image_is_labeled_correctly(nn_model, image, label):\n",
    "    test_image = torch.unsqueeze(image, 0).to(dtype=data_type).to(device)\n",
    "    output = nn_model(test_image)\n",
    "    return torch.argmax(output).item() == label"
   ]
  },
  {
   "cell_type": "code",
   "execution_count": 23,
   "id": "4db18c087bbe41ee",
   "metadata": {
    "collapsed": false,
    "execution": {
     "iopub.execute_input": "2024-05-29T10:23:38.216580Z",
     "iopub.status.busy": "2024-05-29T10:23:38.216509Z",
     "iopub.status.idle": "2024-05-29T10:23:38.218321Z",
     "shell.execute_reply": "2024-05-29T10:23:38.218147Z"
    },
    "ExecuteTime": {
     "end_time": "2024-05-29T14:56:14.602131407Z",
     "start_time": "2024-05-29T14:56:14.601291213Z"
    }
   },
   "outputs": [],
   "source": [
    "def check_if_auto_lirpa_already_verifies(x, output_size, label, method=\"crown\"):\n",
    "    c_matrix = torch.zeros((1, output_size - 1, output_size))\n",
    "    for i in range(output_size - 1):\n",
    "        if i < label:\n",
    "            index = i\n",
    "        elif i >= label:\n",
    "            index = i + 1\n",
    "        \n",
    "        c_matrix[0][i][index] = 1\n",
    "        c_matrix[0][i][label] = -1\n",
    "    \n",
    "    lb, ub = model.compute_bounds(x=(x,), C=c_matrix, method=method)\n",
    "    \n",
    "    return ub.max() < 0"
   ]
  },
  {
   "cell_type": "markdown",
   "id": "3acab87b527a78c2",
   "metadata": {
    "collapsed": false
   },
   "source": [
    "# Do Verification SNR with MILP in last layer"
   ]
  },
  {
   "cell_type": "code",
   "execution_count": 24,
   "id": "5fa48a5e8cadf1f2",
   "metadata": {
    "collapsed": false,
    "execution": {
     "iopub.execute_input": "2024-05-29T10:23:38.219114Z",
     "iopub.status.busy": "2024-05-29T10:23:38.219041Z",
     "iopub.status.idle": "2024-05-29T10:23:38.223605Z",
     "shell.execute_reply": "2024-05-29T10:23:38.223424Z"
    },
    "ExecuteTime": {
     "end_time": "2024-05-29T14:56:14.602466044Z",
     "start_time": "2024-05-29T14:56:14.601321955Z"
    }
   },
   "outputs": [],
   "source": [
    "csv_file_path = \"01_snv+milp_shh_mnist_9x200_eps_015.csv\"\n",
    "\n",
    "crown_method = \"alpha-crown\"\n",
    "tighten_bounds = True\n",
    "time_out = 60*60\n",
    "time_per_neuron_refinement = 10\n",
    "allow_heuristic_timeout_estimate = True\n",
    "settings = \"crown_method: {}, tighten_bounds: {}, time_out: {}, time_per_neuron_refinement: {}, allow_heuristic_timeout_estimate: {}\".format(crown_method, tighten_bounds, time_out, time_per_neuron_refinement, allow_heuristic_timeout_estimate)\n",
    "#create_csv_file(csv_file_path, settings)\n",
    "\n",
    "\n",
    "for num, vnnlib_path in enumerate(sorted(os.listdir(vnnlib_dir_path))): \n",
    "    break\n",
    "    if num == 50:\n",
    "        break\n",
    "    \n",
    "    print(\"{} ================================================\".format(num))\n",
    "    \n",
    "    full_path = vnnlib_dir_path + \"/\" + vnnlib_path\n",
    "    input_bounds = load_vnnlib_bounds(full_path, [784,], 10)\n",
    "    model = onnx_to_bounded_model(onnx_path, [1,1,1,784])\n",
    "    image, label = training_data[num]\n",
    "    x, center = load_vnnlib_spec_for_auto_lirpa(full_path, [1,1,1,784], 10)\n",
    "    \n",
    "    if not check_if_image_is_labeled_correctly(nn, image, label):\n",
    "        print(\"skipped because wrong classification from the network\")\n",
    "        \n",
    "        new_row = [vnnlib_path, \"wrong classification\"]\n",
    "        with open(csv_file_path, 'a', newline='') as file_obj:\n",
    "            writer_object = csv.writer(file_obj)\n",
    "         \n",
    "            writer_object.writerow(new_row)\n",
    "            file_obj.close()\n",
    "            \n",
    "            \n",
    "        continue\n",
    "    \n",
    "    if check_if_auto_lirpa_already_verifies(x, 10, label, method=crown_method):\n",
    "        print(\"skipped because auto lirpa already verified\")\n",
    "        \n",
    "        new_row = [vnnlib_path, \"lirpa classified\"]\n",
    "        with open(csv_file_path, 'a', newline='') as file_obj:\n",
    "            writer_object = csv.writer(file_obj)\n",
    "         \n",
    "            writer_object.writerow(new_row)\n",
    "            file_obj.close()\n",
    "            \n",
    "        continue\n",
    "    \n",
    "    overall_time = time.time()\n",
    "    # weirdly the box bounds are faster for snr+milp\n",
    "    bounds_affine_out, bounds_layer_out = get_bounds_auto_lirpa(x, model, method=crown_method)\n",
    "    \n",
    "    # we need to pick these parameters, but for the SNR+MILP case these don't matter\n",
    "    sampling_strategy = PerGroupLineSearchSamplingStrategy(center, input_bounds, nn, sample_count=100)\n",
    "    group_size = 20\n",
    "    net_size = [5, 1]\n",
    "    icnn_factory = ICNNFactory(\"logical\", net_size, always_use_logical_layer=False)\n",
    "    \n",
    "    \n",
    "    \n",
    "    dhov_verifier = multidhov.MultiDHOV()\n",
    "    \n",
    "    # block prints\n",
    "    with open(os.devnull, \"w\") as f, contextlib.redirect_stdout(f):\n",
    "        dhov_verifier.start_verification(nn, center, icnn_factory, group_size, input_bounds, sampling_strategy, \n",
    "                                         init_affine_bounds=bounds_affine_out, init_layer_bounds=bounds_layer_out,\n",
    "                                         skip_last_layer=True,\n",
    "                                         tighten_bounds=tighten_bounds, \n",
    "                                         layers_as_snr=[0, 1, 2, 3, 4, 5, 6, 7], \n",
    "                                         layers_as_milp=[8],\n",
    "                                         time_out=time_out,\n",
    "                                         time_per_neuron_refinement=time_per_neuron_refinement,\n",
    "                                         allow_heuristic_timeout_estimate=allow_heuristic_timeout_estimate,)\n",
    "    \n",
    "\n",
    "    \n",
    "    dhov_model = dhov_verifier.nn_encoding_model.copy()\n",
    "    dhov_model.setParam(grp.GRB.Param.Threads, cpu_core_count)\n",
    "    dhov_model.update()\n",
    "    dhov_out_vars = get_output_vars_dhov(dhov_model, output_size, number_layer)\n",
    "    \n",
    "    add_output_constraints(dhov_model, dhov_verifier.bounds_layer_out, label, dhov_out_vars)\n",
    "    \n",
    "    optimize_model(dhov_model, dhov_out_vars, overall_time, dhov_verifier.timings, verbose=False, csv_to_write_to=csv_file_path, csv_row_name=vnnlib_path)"
   ]
  },
  {
   "cell_type": "markdown",
   "id": "81f784dcbd39453c",
   "metadata": {
    "collapsed": false
   },
   "source": [
    "# Do DHOV Verification"
   ]
  },
  {
   "cell_type": "code",
   "execution_count": 25,
   "id": "f62c64884d022034",
   "metadata": {
    "collapsed": false,
    "execution": {
     "iopub.execute_input": "2024-05-29T10:23:38.224544Z",
     "iopub.status.busy": "2024-05-29T10:23:38.224464Z",
     "iopub.status.idle": "2024-05-29T10:33:28.045204Z",
     "shell.execute_reply": "2024-05-29T10:33:28.044788Z"
    },
    "ExecuteTime": {
     "end_time": "2024-05-29T15:00:08.938452834Z",
     "start_time": "2024-05-29T14:56:18.157979293Z"
    }
   },
   "outputs": [
    {
     "name": "stdout",
     "output_type": "stream",
     "text": [
      "1 ================================================\n"
     ]
    },
    {
     "name": "stderr",
     "output_type": "stream",
     "text": [
      "/home/ufuk/miniconda3/envs/autolirpa_icnn/lib/python3.10/site-packages/vnnlib/compat.py:283: UserWarning: literal negation does not strictly follow SMT-LIB\n",
      "  ast_node = parse_file(vnnlib_filename, strict=False)\n",
      "/home/ufuk/miniconda3/envs/autolirpa_icnn/lib/python3.10/site-packages/onnx2pytorch/convert/model.py:163: TracerWarning: Converting a tensor to a Python boolean might cause the trace to be incorrect. We can't record the data flow of Python values, so this value will be treated as a constant in the future. This means that the trace might not generalize to other inputs!\n",
      "  if not self.experimental and inputs[0].shape[self.batch_dim] > 1:\n",
      "/home/ufuk/miniconda3/envs/autolirpa_icnn/lib/python3.10/site-packages/auto_LiRPA/parse_graph.py:154: FutureWarning: 'torch.onnx.symbolic_helper._set_opset_version' is deprecated in version 1.13 and will be removed in 2.0. Please remove its usage and avoid setting internal variables directly.\n",
      "  _set_opset_version(12)\n"
     ]
    },
    {
     "name": "stdout",
     "output_type": "stream",
     "text": [
      "Set parameter Username\n",
      "Academic license - for non-commercial use only - expires 2025-02-14\n",
      "\n",
      "approximation of layer: 0\n",
      "    number of fixed neurons for current layer: 154\n",
      "        time for sampling: 0.011497974395751953\n",
      "    layer progress, group 1 of 3 \n",
      "        time for training: 2.0934388637542725\n",
      "    layer progress, group 2 of 3 \n",
      "        time for training: 2.0899741649627686\n",
      "    layer progress, group 3 of 3 \n",
      "        time for training: 1.6982049942016602\n",
      "    time for verification: 0.5209500789642334\n",
      "total time for current layer: 6.50102424621582\n",
      "\n",
      "approximation of layer: 1\n",
      "    time for icnn_bound calculation: 1.455482006072998\n",
      "    number of fixed neurons for current layer: 152\n",
      "        time for sampling: 1.5365493297576904\n",
      "    layer progress, group 1 of 3 \n",
      "        time for training: 2.087404727935791\n",
      "    layer progress, group 2 of 3 \n",
      "        time for training: 2.1012895107269287\n",
      "    layer progress, group 3 of 3 \n",
      "        time for training: 1.7274703979492188\n",
      "    time for verification: 0.7170858383178711\n",
      "total time for current layer: 9.716816663742065\n",
      "\n",
      "approximation of layer: 2\n",
      "    time for icnn_bound calculation: 2.4471287727355957\n",
      "    number of fixed neurons for current layer: 141\n",
      "        time for sampling: 1.7188608646392822\n",
      "    layer progress, group 1 of 3 \n",
      "        time for training: 2.1379964351654053\n",
      "    layer progress, group 2 of 3 \n",
      "        time for training: 2.1309120655059814\n",
      "    layer progress, group 3 of 3 \n",
      "        time for training: 1.6840362548828125\n",
      "    time for verification: 3.4406559467315674\n",
      "total time for current layer: 13.662315368652344\n",
      "\n",
      "approximation of layer: 3\n",
      "    time for icnn_bound calculation: 3.866921901702881\n",
      "    number of fixed neurons for current layer: 143\n",
      "        time for sampling: 1.844646692276001\n",
      "    layer progress, group 1 of 3 \n",
      "        time for training: 2.3785812854766846\n",
      "    layer progress, group 2 of 3 \n",
      "        time for training: 2.16379976272583\n",
      "    layer progress, group 3 of 3 \n",
      "        time for training: 1.998000144958496\n",
      "    time for verification: 9.219716310501099\n",
      "total time for current layer: 21.57210922241211\n",
      "\n",
      "approximation of layer: 4\n",
      "    time for icnn_bound calculation: 6.230556011199951\n",
      "    number of fixed neurons for current layer: 143\n",
      "        time for sampling: 2.0532569885253906\n",
      "    layer progress, group 1 of 3 \n",
      "        time for training: 2.3081116676330566\n",
      "    layer progress, group 2 of 3 \n",
      "        time for training: 2.190429925918579\n",
      "    layer progress, group 3 of 3 \n",
      "        time for training: 2.0837795734405518\n",
      "    time for verification: 15.85464596748352\n",
      "total time for current layer: 30.824745655059814\n",
      "\n",
      "approximation of layer: 5\n",
      "    time for icnn_bound calculation: 10.211678743362427\n",
      "    number of fixed neurons for current layer: 156\n",
      "        time for sampling: 2.2997024059295654\n",
      "    layer progress, group 1 of 3 \n",
      "        time for training: 1.121358871459961\n",
      "    layer progress, group 2 of 3 \n",
      "        time for training: 2.6674230098724365\n",
      "    layer progress, group 3 of 3 \n",
      "        time for training: 1.7137033939361572\n",
      "    time for verification: 17.57306432723999\n",
      "total time for current layer: 35.67480206489563\n",
      "\n",
      "approximation of layer: 6\n",
      "    time for icnn_bound calculation: 18.411557912826538\n",
      "    number of fixed neurons for current layer: 137\n",
      "        time for sampling: 3.213282346725464\n",
      "    layer progress, group 1 of 4 \n",
      "        time for training: 2.1966497898101807\n",
      "    layer progress, group 2 of 4 \n",
      "        time for training: 2.2227728366851807\n",
      "    layer progress, group 3 of 4 \n",
      "        time for training: 2.70609974861145\n",
      "    layer progress, group 4 of 4 \n",
      "        time for training: 1.949359655380249\n",
      "    time for verification: 11.818532466888428\n",
      "total time for current layer: 42.630964279174805\n",
      "\n",
      "approximation of layer: 7\n",
      "    time for icnn_bound calculation: 37.59976506233215\n",
      "    number of fixed neurons for current layer: 161\n",
      "        time for sampling: 1.5280978679656982\n",
      "    layer progress, group 1 of 2 \n",
      "        time for training: 2.252795457839966\n",
      "    layer progress, group 2 of 2 \n",
      "        time for training: 2.30037784576416\n",
      "    time for verification: 18.221251726150513\n",
      "total time for current layer: 61.982815980911255\n",
      "\n",
      "approximation of layer: 8\n",
      "    time for icnn_bound calculation: 2.7321574687957764\n",
      "    number of fixed neurons for current layer: 6\n",
      "    encode layer 8 as MILP\n",
      "the last layer was skipped, as requested\n"
     ]
    }
   ],
   "source": [
    "csv_file_path = \"02_dhov_shh_mnist_9x200_eps_015.csv\"\n",
    "\n",
    "\n",
    "group_size = 20\n",
    "sample_count = 3000\n",
    "crown_method = \"alpha-crown\"\n",
    "tighten_bounds = True\n",
    "time_out = 60*60\n",
    "time_per_neuron_refinement = 10\n",
    "time_per_icnn_refinement = 50\n",
    "allow_heuristic_timeout_estimate = True\n",
    "epochs = 200\n",
    "\n",
    "settings = \"group_size: {}, sample_count: {}, crown_method: {}, tighten_bounds: {}, time_out: {}, time_per_neuron_refinement: {}, time_per_icnn_refinement: {}, allow_heuristic_timeout_estimate: {}, epochs: {}\".format(\n",
    "    group_size, sample_count, crown_method, tighten_bounds, time_out, time_per_neuron_refinement, time_per_icnn_refinement, allow_heuristic_timeout_estimate, epochs)\n",
    "\n",
    "# create_csv_file(csv_file_path, settings)\n",
    "for num, vnnlib_path in enumerate(sorted(os.listdir(vnnlib_dir_path))):\n",
    "    \n",
    "    if num == 50:\n",
    "        break\n",
    "        \n",
    "    print(\"{} ================================================\".format(num))\n",
    "    \n",
    "    full_path = vnnlib_dir_path + \"/\" + vnnlib_path\n",
    "    input_bounds = load_vnnlib_bounds(full_path, [784,], 10)\n",
    "    model = onnx_to_bounded_model(onnx_path, [1,1,1,784])\n",
    "    image, label = training_data[num]\n",
    "    x, center = load_vnnlib_spec_for_auto_lirpa(full_path, [1,1,1,784], 10)\n",
    "    \n",
    "    if not check_if_image_is_labeled_correctly(nn, image, label):\n",
    "        print(\"skipped because wrong classification from the network\")\n",
    "        \n",
    "        new_row = [vnnlib_path, \"wrong classification\"]\n",
    "        with open(csv_file_path, 'a', newline='') as file_obj:\n",
    "            writer_object = csv.writer(file_obj)\n",
    "         \n",
    "            writer_object.writerow(new_row)\n",
    "            file_obj.close()\n",
    "            \n",
    "            \n",
    "        continue\n",
    "    \n",
    "    if check_if_auto_lirpa_already_verifies(x, 10, label, method=crown_method):\n",
    "        print(\"skipped because auto lirpa already verified\")\n",
    "        \n",
    "        new_row = [vnnlib_path, \"lirpa classified\"]\n",
    "        with open(csv_file_path, 'a', newline='') as file_obj:\n",
    "            writer_object = csv.writer(file_obj)\n",
    "         \n",
    "            writer_object.writerow(new_row)\n",
    "            file_obj.close()\n",
    "            \n",
    "        continue\n",
    "    \n",
    "    overall_time = time.time()\n",
    "    \n",
    "    bounds_affine_out, bounds_layer_out = get_bounds_auto_lirpa(x, model, method=crown_method)\n",
    "    sampling_strategy = PerGroupLineSearchSamplingStrategy(center, input_bounds, nn, sample_count=sample_count)\n",
    "    net_size = [5, 1]\n",
    "    #icnn_factory = ICNNFactory(\"approx_max\", net_size, maximum_function=\"SMU\", function_parameter=0.3)\n",
    "    icnn_factory = ICNNFactory(\"logical\", net_size, always_use_logical_layer=False)\n",
    "    #icnn_factory = ICNNFactory(\"standard\", net_size, adapt_layer_for_init=True)\n",
    "    \n",
    "    \n",
    "    dhov_verifier = multidhov.MultiDHOV()\n",
    "    with open(os.devnull, \"w\") as f, contextlib.redirect_stdout(f):\n",
    "            return_without_time_out = dhov_verifier.start_verification(nn, center, icnn_factory, group_size, input_bounds, sampling_strategy, \n",
    "                                                                    init_affine_bounds=bounds_affine_out, \n",
    "                                                                    init_layer_bounds=bounds_layer_out, \n",
    "                                                                    skip_last_layer=True,\n",
    "                                                                    icnn_epochs=epochs, \n",
    "                                                                    icnn_batch_size=10000, \n",
    "                                                                    use_over_approximation=True, \n",
    "                                                                    tighten_bounds=tighten_bounds, \n",
    "                                                                    use_fixed_neurons_in_grouping=False, \n",
    "                                                                    layers_as_snr=[], \n",
    "                                                                    layers_as_milp=[8], \n",
    "                                                                    force_inclusion_steps=3, \n",
    "                                                                    preemptive_stop=True, \n",
    "                                                                    grouping_method=\"consecutive\", \n",
    "                                                                    group_num_multiplier=None,\n",
    "                                                                    optimizer=\"SdLBFGS\", \n",
    "                                                                    init_network=True, \n",
    "                                                                    adapt_lambda=\"included\",\n",
    "                                                                    encode_icnn_enlargement_as_lp=False, \n",
    "                                                                    encode_relu_enlargement_as_lp=False,\n",
    "                                                                    time_out=time_out,\n",
    "                                                                    time_per_neuron_refinement=time_per_neuron_refinement,\n",
    "                                                                    time_per_icnn_refinement=time_per_icnn_refinement,\n",
    "                                                                    allow_heuristic_timeout_estimate=allow_heuristic_timeout_estimate,\n",
    "                                                                    break_after=None, print_training_loss=False, print_new_bounds=False, store_samples=False, print_optimization_steps=False, print_last_loss=False)\n",
    "    \n",
    "    if not return_without_time_out:\n",
    "        new_row = [vnnlib_path, \"time_out of DHOV\", \"-\", time.time() - overall_time, False, \"-\"] +  dhov_verifier.timings.get_all_results(do_round=True)\n",
    "        with open(csv_file_path, 'a', newline='') as file_obj:\n",
    "            writer_object = csv.writer(file_obj)\n",
    "         \n",
    "            writer_object.writerow(new_row)\n",
    "            file_obj.close()\n",
    "        continue\n",
    "        \n",
    "    dhov_model = dhov_verifier.nn_encoding_model.copy()\n",
    "    dhov_model.setParam(grp.GRB.Param.Threads, cpu_core_count)\n",
    "    dhov_model.update()\n",
    "    dhov_out_vars = get_output_vars_dhov(dhov_model, output_size, number_layer)\n",
    "    \n",
    "    add_output_constraints(dhov_model, dhov_verifier.bounds_layer_out, label, dhov_out_vars)\n",
    "    \n",
    "    optimize_model(dhov_model, dhov_out_vars, overall_time, dhov_verifier.timings, verbose=False, csv_to_write_to=csv_file_path, csv_row_name=vnnlib_path)"
   ]
  },
  {
   "cell_type": "code",
   "execution_count": 26,
   "id": "a444d3433f05a154",
   "metadata": {
    "ExecuteTime": {
     "end_time": "2024-05-10T14:37:31.696247741Z",
     "start_time": "2024-05-10T14:37:31.685148544Z"
    },
    "collapsed": false,
    "execution": {
     "iopub.execute_input": "2024-05-29T10:33:28.046771Z",
     "iopub.status.busy": "2024-05-29T10:33:28.046684Z",
     "iopub.status.idle": "2024-05-29T10:33:28.048523Z",
     "shell.execute_reply": "2024-05-29T10:33:28.048332Z"
    }
   },
   "outputs": [
    {
     "name": "stdout",
     "output_type": "stream",
     "text": [
      "done\n"
     ]
    }
   ],
   "source": [
    "print(\"done\")"
   ]
  }
 ],
 "metadata": {
  "kernelspec": {
   "display_name": "Python 3",
   "language": "python",
   "name": "python3"
  },
  "language_info": {
   "codemirror_mode": {
    "name": "ipython",
    "version": 3
   },
   "file_extension": ".py",
   "mimetype": "text/x-python",
   "name": "python",
   "nbconvert_exporter": "python",
   "pygments_lexer": "ipython3",
   "version": "3.10.14"
  }
 },
 "nbformat": 4,
 "nbformat_minor": 5
}
