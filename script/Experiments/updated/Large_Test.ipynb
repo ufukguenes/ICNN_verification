{
 "cells": [
  {
   "cell_type": "code",
   "execution_count": 2,
   "id": "initial_id",
   "metadata": {
    "collapsed": true,
    "ExecuteTime": {
     "end_time": "2024-05-05T11:45:24.410894689Z",
     "start_time": "2024-05-05T11:45:23.475013223Z"
    }
   },
   "outputs": [],
   "source": [
    "import os\n",
    "import contextlib\n",
    "\n",
    "import torch\n",
    "import time\n",
    "from script.NeuralNets.Networks import SequentialNN\n",
    "from script.settings import device, data_type\n",
    "import script.DHOV.MultiDHOV as multidhov\n",
    "import gurobipy as grp\n",
    "from torchvision.datasets import MNIST\n",
    "from torchvision.transforms import Compose, ToTensor, Normalize\n",
    "from script.NeuralNets.ICNNFactory import ICNNFactory\n",
    "import matplotlib.pyplot as plt\n",
    "import numpy as np\n",
    "import csv\n",
    "from script.DHOV.Sampling.PerGroupLineSearchSampling import PerGroupLineSearchSamplingStrategy\n",
    "from script.DHOV.Sampling.PerGroupSamplingStrategy import PerGroupSamplingStrategy\n",
    "from script.DHOV.Sampling.PerGroupFeasibleSamplingStrategy import PerGroupFeasibleSamplingStrategy\n",
    "from script.DHOV.Sampling.ZonotopeSamplingStrategy import ZonotopeSamplingStrategy"
   ]
  },
  {
   "cell_type": "code",
   "outputs": [],
   "source": [
    "import onnx\n",
    "from onnx2pytorch import ConvertModel\n",
    "from auto_LiRPA import BoundedModule, BoundedTensor, PerturbationLpNorm\n",
    "\n",
    "from vnnlib.compat import read_vnnlib_simple\n",
    "from collections import OrderedDict"
   ],
   "metadata": {
    "collapsed": false,
    "ExecuteTime": {
     "end_time": "2024-05-05T11:45:24.736194987Z",
     "start_time": "2024-05-05T11:45:24.411233588Z"
    }
   },
   "id": "f0822bc3823089a5",
   "execution_count": 3
  },
  {
   "cell_type": "code",
   "outputs": [],
   "source": [
    "onnx_name = \"mnist_relu_9_200.onnx\"\n",
    "vnnlib_name = \"1000_mnist_eps_015\"\n",
    "\n",
    "onnx_path = 'nets/' + onnx_name\n",
    "vnnlib_dir_path = \"specs/\" + vnnlib_name"
   ],
   "metadata": {
    "collapsed": false,
    "ExecuteTime": {
     "end_time": "2024-05-05T11:45:24.738271247Z",
     "start_time": "2024-05-05T11:45:24.736872244Z"
    }
   },
   "id": "2cac90c448c123e2",
   "execution_count": 4
  },
  {
   "cell_type": "markdown",
   "source": [
    "# Import the onnx model and convert it to a SequentialNN\n",
    "It has to bee a SequentialNN"
   ],
   "metadata": {
    "collapsed": false
   },
   "id": "43857ff221b9ea71"
  },
  {
   "cell_type": "markdown",
   "source": [
    "The SequentialNN needs to have one additional output layer, as its last layer never has relu activation but the imported network has. The last layer then gets initialized with the identity matrix and gets skipped during the verification"
   ],
   "metadata": {
    "collapsed": false
   },
   "id": "72bcacbdec4990e4"
  },
  {
   "cell_type": "code",
   "outputs": [
    {
     "name": "stderr",
     "output_type": "stream",
     "text": [
      "/home/ufuk/miniconda3/envs/autolirpa_icnn/lib/python3.10/site-packages/onnx2pytorch/convert/layer.py:30: UserWarning: The given NumPy array is not writable, and PyTorch does not support non-writable tensors. This means writing to this tensor will result in undefined behavior. You may want to copy the array to protect its data or make it writable before converting it to a tensor. This type of warning will be suppressed for the rest of this program. (Triggered internally at ../torch/csrc/utils/tensor_numpy.cpp:206.)\n",
      "  layer.weight.data = torch.from_numpy(numpy_helper.to_array(weight))\n"
     ]
    }
   ],
   "source": [
    "onnx_model = onnx.load(onnx_path)\n",
    "pytorch_model = ConvertModel(onnx_model)\n",
    "nn = SequentialNN([28 * 28 * 1, 200, 200, 200, 200, 200, 200, 200, 200, 10, 10])\n",
    "\n",
    "\n",
    "parameter_list_onnx = list(pytorch_model.parameters())\n",
    "parameter_list_sequential = list(nn.parameters())\n",
    "for i in range(0, len(parameter_list_onnx), 2):\n",
    "    parameter_list_sequential[i].data = parameter_list_onnx[i].data\n",
    "    parameter_list_sequential[i+1].data = parameter_list_onnx[i+1].data\n",
    "parameter_list_sequential[-2].data = torch.eye(10, dtype=data_type)\n",
    "parameter_list_sequential[-1].data = torch.zeros(10, dtype=data_type)"
   ],
   "metadata": {
    "collapsed": false,
    "ExecuteTime": {
     "end_time": "2024-05-05T11:45:24.754085383Z",
     "start_time": "2024-05-05T11:45:24.739070824Z"
    }
   },
   "id": "7ece6141625b3884",
   "execution_count": 5
  },
  {
   "cell_type": "code",
   "outputs": [],
   "source": [
    "parameter_list = list(pytorch_model.parameters()) # don't use nn here as we have added an extra layer\n",
    "output_size = 10\n",
    "number_layer = (len(parameter_list) - 2) // 2"
   ],
   "metadata": {
    "collapsed": false,
    "ExecuteTime": {
     "end_time": "2024-05-05T11:45:24.754462562Z",
     "start_time": "2024-05-05T11:45:24.749912813Z"
    }
   },
   "id": "2e0b30bcf0bc5ed3",
   "execution_count": 6
  },
  {
   "cell_type": "markdown",
   "source": [
    "# Load the data to apply the verification process for"
   ],
   "metadata": {
    "collapsed": false
   },
   "id": "32ac993914cba497"
  },
  {
   "cell_type": "code",
   "outputs": [],
   "source": [
    "def imshow(img):\n",
    "    img = img / 2 + .05  # revert normalization for viewing\n",
    "    npimg = img.to(\"cpu\").numpy()\n",
    "    plt.imshow(npimg, cmap=\"gray\")\n",
    "    plt.show()"
   ],
   "metadata": {
    "collapsed": false,
    "ExecuteTime": {
     "end_time": "2024-05-05T11:45:24.754769250Z",
     "start_time": "2024-05-05T11:45:24.751442846Z"
    }
   },
   "id": "813c48a4e74d2cfd",
   "execution_count": 7
  },
  {
   "cell_type": "code",
   "outputs": [],
   "source": [
    "transform = Compose([ToTensor()])\n",
    "training_data = MNIST(root=\"../../../mnist\", train=True, download=True, transform=transform)"
   ],
   "metadata": {
    "collapsed": false,
    "ExecuteTime": {
     "end_time": "2024-05-05T11:45:24.796340277Z",
     "start_time": "2024-05-05T11:45:24.752995018Z"
    }
   },
   "id": "e93b71692992f90e",
   "execution_count": 8
  },
  {
   "cell_type": "code",
   "outputs": [],
   "source": [
    "def accuracy_test(model, converted_model, data):\n",
    "    total_correct = 0\n",
    "    total_wrong = 0\n",
    "    for image, label in data:\n",
    "        test_image = torch.unsqueeze(image, 0).to(dtype=data_type).to(device)   \n",
    "        model_test = model(test_image)\n",
    "        converted_test = converted_model(test_image)\n",
    "        if not torch.isclose(model_test, converted_test).all():\n",
    "            print(\"is not close\")\n",
    "            break\n",
    "        if torch.argmax(model_test).item() == label:\n",
    "            total_correct += 1\n",
    "        else:\n",
    "            total_wrong += 1\n",
    "    \n",
    "    print(\"is close\")    \n",
    "    print(f\"accuracy {total_correct/ len(training_data)}\")\n",
    "    \n",
    "\n",
    "\n",
    "do_test = False\n",
    "if do_test:\n",
    "    accuracy_test(pytorch_model, nn, training_data)\n"
   ],
   "metadata": {
    "collapsed": false,
    "ExecuteTime": {
     "end_time": "2024-05-05T11:45:24.796765125Z",
     "start_time": "2024-05-05T11:45:24.796273837Z"
    }
   },
   "id": "7708d17e62f8ed3c",
   "execution_count": 9
  },
  {
   "cell_type": "code",
   "outputs": [],
   "source": [
    "def add_output_constraints(model, nn_layer_out_bounds, label, output_vars, sovler_bound=1e-3):\n",
    "    \"\"\"\n",
    "    \n",
    "    :param model: the optimization problem in gurobi encoding the NN\n",
    "    :param nn_layer_out_bounds: torch.Tensor, approximating the upper and lower bounding the output layer of the NN\n",
    "    :param label: index of the label or target neuron which is compared against\n",
    "    :param output_vars: the gurobi variables from the model of the NN describing the output neurons of the NN\n",
    "    :param sovler_bound: provides a bound for the gurobi solver. If this bound is achieved, the optimizer stops\n",
    "    \"\"\"\n",
    "    \n",
    "    out_lb = nn_layer_out_bounds[-1][0].detach().cpu().numpy()\n",
    "    out_ub = nn_layer_out_bounds[-1][1].detach().cpu().numpy()\n",
    "    \n",
    "    difference_lb = out_lb - out_ub[label]\n",
    "    difference_ub = out_ub - out_lb[label]\n",
    "    difference_lb = difference_lb.tolist()\n",
    "    difference_ub = difference_ub.tolist()\n",
    "    \n",
    "    difference_lb.pop(label)\n",
    "    difference_ub.pop(label)\n",
    "    \n",
    "    min_diff = min(difference_lb)\n",
    "    max_diff = max(difference_ub)\n",
    "    \n",
    "    difference = model.addVars(9, lb=difference_lb, ub=difference_ub, name=\"diff_var\")\n",
    "    model.addConstrs((difference[i] == output_vars.tolist()[i] - output_vars.tolist()[label] for i in range(0, label)), name=\"diff_const0\")\n",
    "    model.addConstrs((difference[i - 1] == output_vars.tolist()[i] - output_vars.tolist()[label] for i in range(label + 1, 10)), name=\"diff_const1\")\n",
    "\n",
    "    max_var = model.addVar(lb=min_diff, ub=max_diff, name=\"max_var\")\n",
    "    model.addConstr(max_var == grp.max_(difference))\n",
    "\n",
    "    if sovler_bound != None:\n",
    "        model.setParam(\"BestObjStop\", sovler_bound)\n",
    "\n",
    "    model.update()\n",
    "    model.setObjective(max_var, grp.GRB.MAXIMIZE)"
   ],
   "metadata": {
    "collapsed": false,
    "ExecuteTime": {
     "end_time": "2024-05-05T11:45:24.797318292Z",
     "start_time": "2024-05-05T11:45:24.796369747Z"
    }
   },
   "id": "18307fa1201eb3d6",
   "execution_count": 10
  },
  {
   "cell_type": "code",
   "outputs": [],
   "source": [
    "def get_output_vars_dhov(model, output_size, output_layer_index):\n",
    "    output_vars = []\n",
    "    for i in range(output_size):\n",
    "        output_vars.append(model.getVarByName(\"output_layer_[{}]_[{}]\".format(output_layer_index, i)))\n",
    "    output_vars = grp.MVar.fromlist(output_vars)\n",
    "    return output_vars"
   ],
   "metadata": {
    "collapsed": false,
    "ExecuteTime": {
     "end_time": "2024-05-05T11:45:24.819595300Z",
     "start_time": "2024-05-05T11:45:24.797344022Z"
    }
   },
   "id": "d30a13deca625b13",
   "execution_count": 11
  },
  {
   "cell_type": "code",
   "outputs": [],
   "source": [
    "def optimize_model(model, output_vars, start_overall_time, time_limit=60*60, verbose=True, csv_to_write_to=None, csv_row_name=\"No name\"):\n",
    "    \"\"\"\n",
    "    \n",
    "    :param model: the optimization problem in gurobi encoding the NN and the objective \n",
    "    :param output_vars: the gurobi variables from the model of the NN describing the output neurons of the NN\n",
    "    :return True if verification was successful, else false \n",
    "    \"\"\"\n",
    "    \n",
    "    model.setParam(\"TimeLimit\", time_limit)\n",
    "    \n",
    "    start_solving_time = time.time()\n",
    "    model.update()\n",
    "    model.optimize()\n",
    "    \n",
    "    end_time = time.time()\n",
    "    time_just_solving = end_time - start_solving_time\n",
    "    time_overall = end_time - start_overall_time\n",
    "    \n",
    "    if verbose:\n",
    "        print(\"time for verification {}\".format(time_just_solving))\n",
    "        print(\"overall time {}\".format(time_overall))\n",
    "    \n",
    "    if model.Status == grp.GRB.OPTIMAL or model.Status == grp.GRB.USER_OBJ_LIMIT:\n",
    "                    \n",
    "        max_var = model.getVarByName(\"max_var\").getAttr(\"x\")\n",
    "        verification_successful = max_var < 0\n",
    "        \n",
    "        if csv_to_write_to is not None:\n",
    "            new_row = [csv_row_name, \"finished\", time_just_solving, time_overall, verification_successful, max_var]\n",
    "            with open(csv_to_write_to, 'a', newline='') as file_obj:\n",
    "                writer_object = csv.writer(file_obj)\n",
    "             \n",
    "                writer_object.writerow(new_row)\n",
    "                file_obj.close()\n",
    "        \n",
    "        if verbose:\n",
    "            for i, var in enumerate(output_vars.tolist()):\n",
    "                print(\"var {}: {}\".format(i, var.getAttr(\"x\")))\n",
    "                \n",
    "            if verification_successful:\n",
    "                print(\"property verified with max difference {}\".format(max_var))\n",
    "                return True\n",
    "            else:\n",
    "                 print(\"property NOT verified with max difference {}\".format(max_var))\n",
    "                \n",
    "                \n",
    "        \n",
    "        \n",
    "        return verification_successful\n",
    "    \n",
    "    elif model.Status == grp.GRB.TIME_LIMIT:        \n",
    "        \n",
    "        max_var_upper_bound = model.getAttr(\"ObjBound\")\n",
    "        \n",
    "        verification_failed_with_upper_bound = max_var_upper_bound > 0\n",
    "        \n",
    "        if verbose:\n",
    "            if verification_failed_with_upper_bound:\n",
    "                print(\"property NOT verified with upper bound for max difference {}\".format(max_var_upper_bound))\n",
    "            else:\n",
    "                print(\"time out and upper bound could not disprove the setting\")\n",
    "            \n",
    "        if csv_to_write_to is not None:\n",
    "            new_row = [csv_row_name, \"time_out\", time_just_solving, time_overall, verification_failed_with_upper_bound, max_var_upper_bound]\n",
    "            with open(csv_to_write_to, 'a', newline='') as file_obj:\n",
    "                writer_object = csv.writer(file_obj)\n",
    "             \n",
    "                writer_object.writerow(new_row)\n",
    "                file_obj.close()\n",
    "                \n",
    "                \n",
    "        return verification_failed_with_upper_bound\n",
    "\n",
    "    elif model.Status == grp.GRB.INFEASIBLE:\n",
    "        \n",
    "        if csv_to_write_to is not None:\n",
    "            new_row = [csv_row_name, \"infeasible\", time_just_solving, time_overall, False]\n",
    "            with open(csv_to_write_to, 'a', newline='') as file_obj:\n",
    "                writer_object = csv.writer(file_obj)\n",
    "             \n",
    "                writer_object.writerow(new_row)\n",
    "                file_obj.close()\n",
    "        \n",
    "        if verbose:\n",
    "            print(\"model infeasible\")\n",
    "    \n",
    "            model.computeIIS()\n",
    "            print(\"constraint\")\n",
    "            all_constr = model.getConstrs()\n",
    "    \n",
    "            for const in all_constr:\n",
    "                if const.IISConstr:\n",
    "                    print(\"{}\".format(const))\n",
    "    \n",
    "            print(\"lower bound\")\n",
    "            all_var = model.getVars()\n",
    "            for var in all_var:\n",
    "                if var.IISLB:\n",
    "                    print(\"{}, lb: {}, ub: {}\".format(var, var.getAttr(\"lb\"), var.getAttr(\"ub\")))\n",
    "    \n",
    "            print(\"upper bound\")\n",
    "            all_var = model.getVars()\n",
    "            for var in all_var:\n",
    "                if var.IISUB:\n",
    "                    print(\"{}, lb: {}, ub: {}\".format(var, var.getAttr(\"lb\"), var.getAttr(\"ub\")))\n",
    "                \n",
    "        \n",
    "\n",
    "    return False"
   ],
   "metadata": {
    "collapsed": false,
    "ExecuteTime": {
     "end_time": "2024-05-05T11:45:24.819971548Z",
     "start_time": "2024-05-05T11:45:24.818895773Z"
    }
   },
   "id": "dc139c863ddc89fa",
   "execution_count": 12
  },
  {
   "cell_type": "code",
   "outputs": [],
   "source": [
    "def load_vnnlib_bounds(vnnlib_path, input_shape, n_out):\n",
    "    n_in = np.prod(input_shape)\n",
    "    res = read_vnnlib_simple(vnnlib_path, n_in, n_out)\n",
    "    bnds, spec = res[0]\n",
    "    \n",
    "    bnds = np.array(bnds)\n",
    "    lbs = bnds[:,0]\n",
    "    ubs = bnds[:,1]\n",
    "    \n",
    "    data_min = torch.tensor(lbs, dtype=data_type).reshape(input_shape).to(device)\n",
    "    data_max = torch.tensor(ubs, dtype=data_type).reshape(input_shape).to(device)\n",
    "\n",
    "    return [data_min, data_max]"
   ],
   "metadata": {
    "collapsed": false,
    "ExecuteTime": {
     "end_time": "2024-05-05T11:45:24.820310666Z",
     "start_time": "2024-05-05T11:45:24.818961903Z"
    }
   },
   "id": "ee77c603c2d29b5c",
   "execution_count": 13
  },
  {
   "cell_type": "markdown",
   "source": [
    "# get bounds with crown"
   ],
   "metadata": {
    "collapsed": false
   },
   "id": "3b09947b5d45122e"
  },
  {
   "cell_type": "code",
   "outputs": [],
   "source": [
    "def onnx_to_bounded_model(onnx_path, input_shape):\n",
    "    onnx_model = onnx.load(onnx_path)\n",
    "    torch_model = ConvertModel(onnx_model)\n",
    "    \n",
    "    x_concrete = torch.zeros(input_shape)\n",
    "    model = BoundedModule(torch_model, x_concrete)\n",
    "    return model"
   ],
   "metadata": {
    "collapsed": false,
    "ExecuteTime": {
     "end_time": "2024-05-05T11:45:24.820606955Z",
     "start_time": "2024-05-05T11:45:24.818994242Z"
    }
   },
   "id": "554027a243f269d8",
   "execution_count": 14
  },
  {
   "cell_type": "code",
   "outputs": [],
   "source": [
    "def load_vnnlib_spec_for_auto_lirpa(vnnlib_path, input_shape, n_out):\n",
    "    n_in = np.prod(input_shape)\n",
    "    res = read_vnnlib_simple(vnnlib_path, n_in, n_out)\n",
    "    bnds, spec = res[0]\n",
    "    \n",
    "    bnds = np.array(bnds)\n",
    "    lbs = bnds[:,0]\n",
    "    ubs = bnds[:,1]\n",
    "    \n",
    "    data_min = torch.tensor(lbs, dtype=data_type).reshape(input_shape)\n",
    "    data_max = torch.tensor(ubs, dtype=data_type).reshape(input_shape)\n",
    "    center = 0.5*(data_min + data_max)\n",
    "\n",
    "    ptb = PerturbationLpNorm(x_L=data_min, x_U=data_max)\n",
    "    x = BoundedTensor(center, ptb)\n",
    "    \n",
    "    return x, center"
   ],
   "metadata": {
    "collapsed": false,
    "ExecuteTime": {
     "end_time": "2024-05-05T11:45:24.820905083Z",
     "start_time": "2024-05-05T11:45:24.819023962Z"
    }
   },
   "id": "b42ade07de97121a",
   "execution_count": 15
  },
  {
   "cell_type": "code",
   "outputs": [],
   "source": [
    "def get_layers(model):\n",
    "    return [l for l in model.nodes() if l.perturbed]"
   ],
   "metadata": {
    "collapsed": false,
    "ExecuteTime": {
     "end_time": "2024-05-05T11:45:24.821194442Z",
     "start_time": "2024-05-05T11:45:24.819100612Z"
    }
   },
   "id": "236afc883215fbaf",
   "execution_count": 16
  },
  {
   "cell_type": "code",
   "outputs": [],
   "source": [
    "def get_intermediate_bounds(model):\n",
    "    \"\"\"\n",
    "    Returns a dictionary containing the concrete lower and upper bounds of each layer.\n",
    "    \n",
    "    Implemented own method to filter out bounds for weight matrices.\n",
    "    \n",
    "    Only call this method after compute_bounds()!\n",
    "    \"\"\"\n",
    "    od = OrderedDict()\n",
    "    for l in get_layers(model):\n",
    "        if hasattr(l, 'lower'):\n",
    "            od[l.name] = (l.lower, l.upper)\n",
    "            \n",
    "    return od"
   ],
   "metadata": {
    "collapsed": false,
    "ExecuteTime": {
     "end_time": "2024-05-05T11:45:24.821485010Z",
     "start_time": "2024-05-05T11:45:24.819128632Z"
    }
   },
   "id": "5e6033fd22f9b945",
   "execution_count": 17
  },
  {
   "cell_type": "code",
   "outputs": [],
   "source": [
    "def get_bounds_auto_lirpa(x: BoundedTensor, model: BoundedModule):\n",
    "    model.compute_bounds(x=(x,), method='crown')\n",
    "    bounds_dict_crown = get_intermediate_bounds(model)\n",
    "    crown_bounds_affine_out = []\n",
    "    for i, key in enumerate(bounds_dict_crown.keys()):\n",
    "        if i == 0: # use this if ibp is used (or i % 2 == 1:)\n",
    "            continue\n",
    "        lb, ub = bounds_dict_crown[key]\n",
    "        crown_bounds_affine_out.append([lb.type(data_type).view(-1).to(device), ub.type(data_type).view(-1).to(device)])\n",
    "        \n",
    "    crown_bounds_layer_out = []\n",
    "    relu = torch.nn.ReLU()\n",
    "    for i, (lb, ub) in enumerate(crown_bounds_affine_out):\n",
    "        if i == len(crown_bounds_affine_out) - 1:\n",
    "            crown_bounds_layer_out.append([lb, ub])\n",
    "        else:\n",
    "            lb_layer = relu(lb)\n",
    "            ub_layer = relu(ub)\n",
    "            crown_bounds_layer_out.append([lb_layer, ub_layer])\n",
    "            \n",
    "    return crown_bounds_affine_out, crown_bounds_layer_out"
   ],
   "metadata": {
    "collapsed": false,
    "ExecuteTime": {
     "end_time": "2024-05-05T11:45:24.821772989Z",
     "start_time": "2024-05-05T11:45:24.819153592Z"
    }
   },
   "id": "41468184eb04a1b1",
   "execution_count": 18
  },
  {
   "cell_type": "markdown",
   "source": [
    "# Create new csv"
   ],
   "metadata": {
    "collapsed": false
   },
   "id": "d53a434138b1b701"
  },
  {
   "cell_type": "code",
   "outputs": [],
   "source": [
    "def create_csv_file(csv_file_path):\n",
    "    data = [['Input name', 'State of optimization', 'time for just solving', \"time overall\", \"was successful?\", \"max distance\"]]\n",
    "    # File path for the CSV file\n",
    "    if os.path.isfile(csv_file_path):\n",
    "        raise RuntimeError(\"File name {} already exists\".format(csv_file_path))\n",
    "    \n",
    "    # Open the file in write mode\n",
    "    with open(csv_file_path, mode='a+', newline='') as file_obj:\n",
    "        # Create a csv.writer object\n",
    "        writer_object = csv.writer(file_obj)\n",
    "        # Write data to the CSV file\n",
    "        writer_object.writerows(data)\n",
    "     \n",
    "    # Print a confirmation message\n",
    "    print(f\"CSV file '{csv_file_path}' created successfully.\")"
   ],
   "metadata": {
    "collapsed": false,
    "ExecuteTime": {
     "end_time": "2024-05-05T11:45:24.829561592Z",
     "start_time": "2024-05-05T11:45:24.819181691Z"
    }
   },
   "id": "2f97d8bc608761dc",
   "execution_count": 19
  },
  {
   "cell_type": "code",
   "outputs": [],
   "source": [
    "def check_if_image_is_labeled_correctly(nn_model, image, label):\n",
    "    test_image = torch.unsqueeze(image, 0).to(dtype=data_type).to(device)\n",
    "    output = nn_model(test_image)\n",
    "    return torch.argmax(output).item() == label"
   ],
   "metadata": {
    "collapsed": false,
    "ExecuteTime": {
     "end_time": "2024-05-05T11:45:24.829919811Z",
     "start_time": "2024-05-05T11:45:24.819207821Z"
    }
   },
   "id": "c4e068c1d61a4714",
   "execution_count": 20
  },
  {
   "cell_type": "code",
   "outputs": [],
   "source": [
    "def check_if_auto_lirpa_already_verifies(x, output_size, label):\n",
    "    c_matrix = torch.zeros((1, output_size - 1, output_size))\n",
    "    for i in range(output_size - 1):\n",
    "        if i < label:\n",
    "            index = i\n",
    "        elif i >= label:\n",
    "            index = i + 1\n",
    "        \n",
    "        c_matrix[0][i][index] = 1\n",
    "        c_matrix[0][i][label] = -1\n",
    "    \n",
    "    lb, ub = model.compute_bounds(x=(x,), C=c_matrix, method='crown')\n",
    "    \n",
    "    return ub.max() < 0"
   ],
   "metadata": {
    "collapsed": false,
    "ExecuteTime": {
     "end_time": "2024-05-05T11:45:24.832000071Z",
     "start_time": "2024-05-05T11:45:24.819823559Z"
    }
   },
   "id": "4db18c087bbe41ee",
   "execution_count": 21
  },
  {
   "cell_type": "markdown",
   "source": [
    "# Do Verification SNR with MILP in last layer"
   ],
   "metadata": {
    "collapsed": false
   },
   "id": "3acab87b527a78c2"
  },
  {
   "cell_type": "code",
   "outputs": [
    {
     "ename": "RuntimeError",
     "evalue": "File name result_snv+milp_mnist_9x200_eps_015.csv already exists",
     "output_type": "error",
     "traceback": [
      "\u001B[0;31m---------------------------------------------------------------------------\u001B[0m",
      "\u001B[0;31mRuntimeError\u001B[0m                              Traceback (most recent call last)",
      "Cell \u001B[0;32mIn[22], line 2\u001B[0m\n\u001B[1;32m      1\u001B[0m csv_file_path \u001B[38;5;241m=\u001B[39m \u001B[38;5;124m\"\u001B[39m\u001B[38;5;124mresult_snv+milp_mnist_9x200_eps_015.csv\u001B[39m\u001B[38;5;124m\"\u001B[39m\n\u001B[0;32m----> 2\u001B[0m \u001B[43mcreate_csv_file\u001B[49m\u001B[43m(\u001B[49m\u001B[43mcsv_file_path\u001B[49m\u001B[43m)\u001B[49m\n\u001B[1;32m      4\u001B[0m \u001B[38;5;28;01mfor\u001B[39;00m num, vnnlib_path \u001B[38;5;129;01min\u001B[39;00m \u001B[38;5;28menumerate\u001B[39m(\u001B[38;5;28msorted\u001B[39m(os\u001B[38;5;241m.\u001B[39mlistdir(vnnlib_dir_path))): \n\u001B[1;32m      5\u001B[0m     \u001B[38;5;28;01mbreak\u001B[39;00m\n",
      "Cell \u001B[0;32mIn[19], line 5\u001B[0m, in \u001B[0;36mcreate_csv_file\u001B[0;34m(csv_file_path)\u001B[0m\n\u001B[1;32m      3\u001B[0m \u001B[38;5;66;03m# File path for the CSV file\u001B[39;00m\n\u001B[1;32m      4\u001B[0m \u001B[38;5;28;01mif\u001B[39;00m os\u001B[38;5;241m.\u001B[39mpath\u001B[38;5;241m.\u001B[39misfile(csv_file_path):\n\u001B[0;32m----> 5\u001B[0m     \u001B[38;5;28;01mraise\u001B[39;00m \u001B[38;5;167;01mRuntimeError\u001B[39;00m(\u001B[38;5;124m\"\u001B[39m\u001B[38;5;124mFile name \u001B[39m\u001B[38;5;132;01m{}\u001B[39;00m\u001B[38;5;124m already exists\u001B[39m\u001B[38;5;124m\"\u001B[39m\u001B[38;5;241m.\u001B[39mformat(csv_file_path))\n\u001B[1;32m      7\u001B[0m \u001B[38;5;66;03m# Open the file in write mode\u001B[39;00m\n\u001B[1;32m      8\u001B[0m \u001B[38;5;28;01mwith\u001B[39;00m \u001B[38;5;28mopen\u001B[39m(csv_file_path, mode\u001B[38;5;241m=\u001B[39m\u001B[38;5;124m'\u001B[39m\u001B[38;5;124ma+\u001B[39m\u001B[38;5;124m'\u001B[39m, newline\u001B[38;5;241m=\u001B[39m\u001B[38;5;124m'\u001B[39m\u001B[38;5;124m'\u001B[39m) \u001B[38;5;28;01mas\u001B[39;00m file_obj:\n\u001B[1;32m      9\u001B[0m     \u001B[38;5;66;03m# Create a csv.writer object\u001B[39;00m\n",
      "\u001B[0;31mRuntimeError\u001B[0m: File name result_snv+milp_mnist_9x200_eps_015.csv already exists"
     ]
    }
   ],
   "source": [
    "csv_file_path = \"result_snv+milp_mnist_9x200_eps_015.csv\"\n",
    "create_csv_file(csv_file_path)\n",
    "\n",
    "for num, vnnlib_path in enumerate(sorted(os.listdir(vnnlib_dir_path))): \n",
    "    break\n",
    "\n",
    "    if num == 50:\n",
    "        break\n",
    "    \n",
    "    print(\"{} ================================================\".format(num))\n",
    "    \n",
    "    full_path = vnnlib_dir_path + \"/\" + vnnlib_path\n",
    "    input_bounds = load_vnnlib_bounds(full_path, [784,], 10)\n",
    "    model = onnx_to_bounded_model(onnx_path, [1,1,1,784])\n",
    "    image, label = training_data[num]\n",
    "    x, center = load_vnnlib_spec_for_auto_lirpa(full_path, [1,1,1,784], 10)\n",
    "    \n",
    "    if not check_if_image_is_labeled_correctly(nn, image, label):\n",
    "        print(\"skipped because wrong classification from the network\")\n",
    "        \n",
    "        new_row = [vnnlib_path, \"wrong classification\"]\n",
    "        with open(csv_file_path, 'a', newline='') as file_obj:\n",
    "            writer_object = csv.writer(file_obj)\n",
    "         \n",
    "            writer_object.writerow(new_row)\n",
    "            file_obj.close()\n",
    "            \n",
    "            \n",
    "        continue\n",
    "    \n",
    "    if check_if_auto_lirpa_already_verifies(x, 10, label):\n",
    "        print(\"skipped because auto lirpa already verified\")\n",
    "        \n",
    "        new_row = [vnnlib_path, \"lirpa classified\"]\n",
    "        with open(csv_file_path, 'a', newline='') as file_obj:\n",
    "            writer_object = csv.writer(file_obj)\n",
    "         \n",
    "            writer_object.writerow(new_row)\n",
    "            file_obj.close()\n",
    "            \n",
    "        continue\n",
    "    \n",
    "    overall_time = time.time()\n",
    "    # weirdly the box bounds are faster for snr+milp\n",
    "    bounds_affine_out, bounds_layer_out = get_bounds_auto_lirpa(x, model)\n",
    "    \n",
    "    # we need to pick these parameters, but for the SNR+MILP case these don't matter\n",
    "    sampling_strategy = PerGroupLineSearchSamplingStrategy(center, input_bounds, nn, sample_count=100)\n",
    "    group_size = 20\n",
    "    net_size = [5, 1]\n",
    "    icnn_factory = ICNNFactory(\"logical\", net_size, always_use_logical_layer=False)\n",
    "    \n",
    "    \n",
    "    \n",
    "    dhov_verifier = multidhov.MultiDHOV()\n",
    "    \n",
    "    # block prints\n",
    "    with open(os.devnull, \"w\") as f, contextlib.redirect_stdout(f):\n",
    "        dhov_verifier.start_verification(nn, center, icnn_factory, group_size, input_bounds, sampling_strategy, init_affine_bounds=bounds_affine_out, init_layer_bounds=bounds_layer_out,\n",
    "                                         skip_last_layer=True,\n",
    "                                         tighten_bounds=False, layers_as_snr=[0, 1, 2, 3, 5, 6, 7], layers_as_milp=[8])\n",
    "    \n",
    "\n",
    "    \n",
    "    dhov_model = dhov_verifier.nn_encoding_model.copy()\n",
    "    dhov_model.update()\n",
    "    dhov_out_vars = get_output_vars_dhov(dhov_model, output_size, number_layer)\n",
    "    \n",
    "    add_output_constraints(dhov_model, dhov_verifier.bounds_layer_out, label, dhov_out_vars, sovler_bound=10)\n",
    "    \n",
    "    optimize_model(dhov_model, dhov_out_vars, overall_time, verbose=False, csv_to_write_to=csv_file_path, csv_row_name=vnnlib_path)"
   ],
   "metadata": {
    "collapsed": false,
    "ExecuteTime": {
     "end_time": "2024-05-05T11:45:24.907525230Z",
     "start_time": "2024-05-05T11:45:24.823048163Z"
    }
   },
   "id": "5fa48a5e8cadf1f2",
   "execution_count": 22
  },
  {
   "cell_type": "code",
   "outputs": [],
   "source": [
    "\"\"\"csv_file_path = \"result_dhov_20_3000_mnist_9x200_eps_015.csv\"\n",
    "new_row = [\"prop_004_0.015.vnnlib\", \"time_out of DHOV\", \"-\", 3600, False]\n",
    "with open(csv_file_path, 'a', newline='') as file_obj:\n",
    "    writer_object = csv.writer(file_obj)\n",
    " \n",
    "    writer_object.writerow(new_row)\n",
    "    file_obj.close()\"\"\""
   ],
   "metadata": {
    "collapsed": false,
    "ExecuteTime": {
     "start_time": "2024-05-05T11:45:24.907344571Z"
    }
   },
   "id": "723f3aea6fd6e15d",
   "execution_count": null
  },
  {
   "cell_type": "markdown",
   "source": [
    "# Do DHOV Verification"
   ],
   "metadata": {
    "collapsed": false
   },
   "id": "81f784dcbd39453c"
  },
  {
   "cell_type": "code",
   "outputs": [
    {
     "name": "stdout",
     "output_type": "stream",
     "text": [
      "16 ================================================\n",
      "Set parameter Username\n",
      "Academic license - for non-commercial use only - expires 2025-02-14\n",
      "\n",
      "approximation of layer: 0\n",
      "    number of fixed neurons for current layer: 150\n",
      "        time for sampling: 0.009730815887451172\n",
      "    layer progress, group 1 of 3 \n"
     ]
    },
    {
     "name": "stderr",
     "output_type": "stream",
     "text": [
      "/home/ufuk/miniconda3/envs/autolirpa_icnn/lib/python3.10/site-packages/vnnlib/compat.py:283: UserWarning: literal negation does not strictly follow SMT-LIB\n",
      "  ast_node = parse_file(vnnlib_filename, strict=False)\n",
      "/home/ufuk/miniconda3/envs/autolirpa_icnn/lib/python3.10/site-packages/onnx2pytorch/convert/model.py:163: TracerWarning: Converting a tensor to a Python boolean might cause the trace to be incorrect. We can't record the data flow of Python values, so this value will be treated as a constant in the future. This means that the trace might not generalize to other inputs!\n",
      "  if not self.experimental and inputs[0].shape[self.batch_dim] > 1:\n",
      "/home/ufuk/miniconda3/envs/autolirpa_icnn/lib/python3.10/site-packages/auto_LiRPA/parse_graph.py:154: FutureWarning: 'torch.onnx.symbolic_helper._set_opset_version' is deprecated in version 1.13 and will be removed in 2.0. Please remove its usage and avoid setting internal variables directly.\n",
      "  _set_opset_version(12)\n",
      "/home/ufuk/Documents/Programming/ICNN_verification/script/DHOV/MultiDHOV.py:152: UserWarning: value for group number multiplier is given with grouping method consecutive. consecutive grouping does not use variable number of groups\n",
      "  warnings.warn(\"value for group number multiplier is given with grouping method consecutive. \"\n"
     ]
    },
    {
     "name": "stdout",
     "output_type": "stream",
     "text": [
      "        time for training: 2.4276716709136963\n",
      "        actual verification time 0.20169806480407715\n",
      "        time for verification: 0.23009324073791504\n",
      "    layer progress, group 2 of 3 \n",
      "        time for training: 2.161597728729248\n",
      "        actual verification time 0.7805206775665283\n",
      "        time for verification: 0.8095309734344482\n",
      "    layer progress, group 3 of 3 \n",
      "        time for training: 1.8379459381103516\n",
      "        actual verification time 0.03398609161376953\n",
      "        time for verification: 0.05133700370788574\n",
      "17 ================================================\n",
      "\n",
      "approximation of layer: 0\n",
      "    number of fixed neurons for current layer: 153\n",
      "        time for sampling: 0.008495569229125977\n",
      "    layer progress, group 1 of 3 \n",
      "        time for training: 2.2570724487304688\n",
      "        actual verification time 0.4561026096343994\n",
      "        time for verification: 0.48369455337524414\n",
      "    layer progress, group 2 of 3 \n"
     ]
    },
    {
     "ename": "KeyboardInterrupt",
     "evalue": "",
     "output_type": "error",
     "traceback": [
      "\u001B[0;31m---------------------------------------------------------------------------\u001B[0m",
      "\u001B[0;31mStopIteration\u001B[0m                             Traceback (most recent call last)",
      "File \u001B[0;32m~/miniconda3/envs/autolirpa_icnn/lib/python3.10/site-packages/vnnlib/tokenizer.py:49\u001B[0m, in \u001B[0;36m__iter__\u001B[0;34m()\u001B[0m\n",
      "\u001B[0;31mStopIteration\u001B[0m: ",
      "\nDuring handling of the above exception, another exception occurred:\n",
      "\u001B[0;31mStopIteration\u001B[0m                             Traceback (most recent call last)",
      "File \u001B[0;32m~/miniconda3/envs/autolirpa_icnn/lib/python3.10/site-packages/vnnlib/tokenizer.py:49\u001B[0m, in \u001B[0;36m__iter__\u001B[0;34m()\u001B[0m\n",
      "\u001B[0;31mStopIteration\u001B[0m: ",
      "\nDuring handling of the above exception, another exception occurred:\n",
      "\u001B[0;31mStopIteration\u001B[0m                             Traceback (most recent call last)",
      "File \u001B[0;32m~/miniconda3/envs/autolirpa_icnn/lib/python3.10/site-packages/vnnlib/tokenizer.py:49\u001B[0m, in \u001B[0;36m__iter__\u001B[0;34m()\u001B[0m\n",
      "\u001B[0;31mStopIteration\u001B[0m: ",
      "\nDuring handling of the above exception, another exception occurred:\n",
      "\u001B[0;31mStopIteration\u001B[0m                             Traceback (most recent call last)",
      "File \u001B[0;32m~/miniconda3/envs/autolirpa_icnn/lib/python3.10/site-packages/vnnlib/tokenizer.py:49\u001B[0m, in \u001B[0;36m__iter__\u001B[0;34m()\u001B[0m\n",
      "\u001B[0;31mStopIteration\u001B[0m: ",
      "\nDuring handling of the above exception, another exception occurred:\n",
      "\u001B[0;31mKeyboardInterrupt\u001B[0m                         Traceback (most recent call last)",
      "Cell \u001B[0;32mIn[23], line 59\u001B[0m\n\u001B[1;32m     57\u001B[0m dhov_verifier \u001B[38;5;241m=\u001B[39m multidhov\u001B[38;5;241m.\u001B[39mMultiDHOV()\n\u001B[1;32m     58\u001B[0m \u001B[38;5;28;01mwith\u001B[39;00m \u001B[38;5;28mopen\u001B[39m(os\u001B[38;5;241m.\u001B[39mdevnull, \u001B[38;5;124m\"\u001B[39m\u001B[38;5;124mw\u001B[39m\u001B[38;5;124m\"\u001B[39m) \u001B[38;5;28;01mas\u001B[39;00m f: \u001B[38;5;66;03m# , contextlib.redirect_stdout(f):\u001B[39;00m\n\u001B[0;32m---> 59\u001B[0m         return_without_time_out \u001B[38;5;241m=\u001B[39m \u001B[43mdhov_verifier\u001B[49m\u001B[38;5;241;43m.\u001B[39;49m\u001B[43mstart_verification\u001B[49m\u001B[43m(\u001B[49m\u001B[43mnn\u001B[49m\u001B[43m,\u001B[49m\u001B[43m \u001B[49m\u001B[43mcenter\u001B[49m\u001B[43m,\u001B[49m\u001B[43m \u001B[49m\u001B[43micnn_factory\u001B[49m\u001B[43m,\u001B[49m\u001B[43m \u001B[49m\u001B[43mgroup_size\u001B[49m\u001B[43m,\u001B[49m\u001B[43m \u001B[49m\u001B[43minput_bounds\u001B[49m\u001B[43m,\u001B[49m\u001B[43m \u001B[49m\u001B[43msampling_strategy\u001B[49m\u001B[43m,\u001B[49m\u001B[43m \u001B[49m\n\u001B[1;32m     60\u001B[0m \u001B[43m                                                                \u001B[49m\u001B[43minit_affine_bounds\u001B[49m\u001B[38;5;241;43m=\u001B[39;49m\u001B[43mbounds_affine_out\u001B[49m\u001B[43m,\u001B[49m\u001B[43m \u001B[49m\n\u001B[1;32m     61\u001B[0m \u001B[43m                                                                \u001B[49m\u001B[43minit_layer_bounds\u001B[49m\u001B[38;5;241;43m=\u001B[39;49m\u001B[43mbounds_layer_out\u001B[49m\u001B[43m,\u001B[49m\u001B[43m \u001B[49m\n\u001B[1;32m     62\u001B[0m \u001B[43m                                                                \u001B[49m\u001B[43mskip_last_layer\u001B[49m\u001B[38;5;241;43m=\u001B[39;49m\u001B[38;5;28;43;01mTrue\u001B[39;49;00m\u001B[43m,\u001B[49m\n\u001B[1;32m     63\u001B[0m \u001B[43m                                                                \u001B[49m\u001B[43micnn_epochs\u001B[49m\u001B[38;5;241;43m=\u001B[39;49m\u001B[38;5;241;43m200\u001B[39;49m\u001B[43m,\u001B[49m\u001B[43m \u001B[49m\n\u001B[1;32m     64\u001B[0m \u001B[43m                                                                \u001B[49m\u001B[43micnn_batch_size\u001B[49m\u001B[38;5;241;43m=\u001B[39;49m\u001B[38;5;241;43m10000\u001B[39;49m\u001B[43m,\u001B[49m\u001B[43m \u001B[49m\n\u001B[1;32m     65\u001B[0m \u001B[43m                                                                \u001B[49m\u001B[43muse_over_approximation\u001B[49m\u001B[38;5;241;43m=\u001B[39;49m\u001B[38;5;28;43;01mTrue\u001B[39;49;00m\u001B[43m,\u001B[49m\u001B[43m \u001B[49m\n\u001B[1;32m     66\u001B[0m \u001B[43m                                                                \u001B[49m\u001B[43mtighten_bounds\u001B[49m\u001B[38;5;241;43m=\u001B[39;49m\u001B[38;5;28;43;01mTrue\u001B[39;49;00m\u001B[43m,\u001B[49m\u001B[43m \u001B[49m\n\u001B[1;32m     67\u001B[0m \u001B[43m                                                                \u001B[49m\u001B[43muse_fixed_neurons_in_grouping\u001B[49m\u001B[38;5;241;43m=\u001B[39;49m\u001B[38;5;28;43;01mFalse\u001B[39;49;00m\u001B[43m,\u001B[49m\u001B[43m \u001B[49m\n\u001B[1;32m     68\u001B[0m \u001B[43m                                                                \u001B[49m\u001B[43mlayers_as_snr\u001B[49m\u001B[38;5;241;43m=\u001B[39;49m\u001B[43m[\u001B[49m\u001B[43m]\u001B[49m\u001B[43m,\u001B[49m\u001B[43m \u001B[49m\n\u001B[1;32m     69\u001B[0m \u001B[43m                                                                \u001B[49m\u001B[43mlayers_as_milp\u001B[49m\u001B[38;5;241;43m=\u001B[39;49m\u001B[43m[\u001B[49m\u001B[38;5;241;43m8\u001B[39;49m\u001B[43m]\u001B[49m\u001B[43m,\u001B[49m\u001B[43m \u001B[49m\n\u001B[1;32m     70\u001B[0m \u001B[43m                                                                \u001B[49m\u001B[43mforce_inclusion_steps\u001B[49m\u001B[38;5;241;43m=\u001B[39;49m\u001B[38;5;241;43m3\u001B[39;49m\u001B[43m,\u001B[49m\u001B[43m \u001B[49m\n\u001B[1;32m     71\u001B[0m \u001B[43m                                                                \u001B[49m\u001B[43mpreemptive_stop\u001B[49m\u001B[38;5;241;43m=\u001B[39;49m\u001B[38;5;28;43;01mTrue\u001B[39;49;00m\u001B[43m,\u001B[49m\u001B[43m \u001B[49m\n\u001B[1;32m     72\u001B[0m \u001B[43m                                                                \u001B[49m\u001B[43mgrouping_method\u001B[49m\u001B[38;5;241;43m=\u001B[39;49m\u001B[38;5;124;43m\"\u001B[39;49m\u001B[38;5;124;43mconsecutive\u001B[39;49m\u001B[38;5;124;43m\"\u001B[39;49m\u001B[43m,\u001B[49m\u001B[43m \u001B[49m\n\u001B[1;32m     73\u001B[0m \u001B[43m                                                                \u001B[49m\u001B[43mgroup_num_multiplier\u001B[49m\u001B[38;5;241;43m=\u001B[39;49m\u001B[38;5;241;43m5\u001B[39;49m\u001B[43m,\u001B[49m\n\u001B[1;32m     74\u001B[0m \u001B[43m                                                                \u001B[49m\u001B[43moptimizer\u001B[49m\u001B[38;5;241;43m=\u001B[39;49m\u001B[38;5;124;43m\"\u001B[39;49m\u001B[38;5;124;43mSdLBFGS\u001B[39;49m\u001B[38;5;124;43m\"\u001B[39;49m\u001B[43m,\u001B[49m\u001B[43m \u001B[49m\n\u001B[1;32m     75\u001B[0m \u001B[43m                                                                \u001B[49m\u001B[43minit_network\u001B[49m\u001B[38;5;241;43m=\u001B[39;49m\u001B[38;5;28;43;01mTrue\u001B[39;49;00m\u001B[43m,\u001B[49m\u001B[43m \u001B[49m\n\u001B[1;32m     76\u001B[0m \u001B[43m                                                                \u001B[49m\u001B[43madapt_lambda\u001B[49m\u001B[38;5;241;43m=\u001B[39;49m\u001B[38;5;124;43m\"\u001B[39;49m\u001B[38;5;124;43mincluded\u001B[39;49m\u001B[38;5;124;43m\"\u001B[39;49m\u001B[43m,\u001B[49m\n\u001B[1;32m     77\u001B[0m \u001B[43m                                                                \u001B[49m\u001B[43mencode_icnn_enlargement_as_lp\u001B[49m\u001B[38;5;241;43m=\u001B[39;49m\u001B[38;5;28;43;01mFalse\u001B[39;49;00m\u001B[43m,\u001B[49m\u001B[43m \u001B[49m\n\u001B[1;32m     78\u001B[0m \u001B[43m                                                                \u001B[49m\u001B[43mencode_relu_enlargement_as_lp\u001B[49m\u001B[38;5;241;43m=\u001B[39;49m\u001B[38;5;28;43;01mFalse\u001B[39;49;00m\u001B[43m,\u001B[49m\n\u001B[1;32m     79\u001B[0m \u001B[43m                                                                \u001B[49m\u001B[43mtime_out\u001B[49m\u001B[38;5;241;43m=\u001B[39;49m\u001B[38;5;241;43m9\u001B[39;49m\u001B[43m,\u001B[49m\n\u001B[1;32m     80\u001B[0m \u001B[43m                                                                \u001B[49m\u001B[43mallow_heuristic_timeout_estimate\u001B[49m\u001B[38;5;241;43m=\u001B[39;49m\u001B[38;5;28;43;01mTrue\u001B[39;49;00m\u001B[43m,\u001B[49m\n\u001B[1;32m     81\u001B[0m \u001B[43m                                                                \u001B[49m\u001B[43mbreak_after\u001B[49m\u001B[38;5;241;43m=\u001B[39;49m\u001B[38;5;28;43;01mNone\u001B[39;49;00m\u001B[43m,\u001B[49m\u001B[43m \u001B[49m\u001B[43mprint_training_loss\u001B[49m\u001B[38;5;241;43m=\u001B[39;49m\u001B[38;5;28;43;01mFalse\u001B[39;49;00m\u001B[43m,\u001B[49m\u001B[43m \u001B[49m\u001B[43mprint_new_bounds\u001B[49m\u001B[38;5;241;43m=\u001B[39;49m\u001B[38;5;28;43;01mFalse\u001B[39;49;00m\u001B[43m,\u001B[49m\u001B[43m \u001B[49m\u001B[43mstore_samples\u001B[49m\u001B[38;5;241;43m=\u001B[39;49m\u001B[38;5;28;43;01mFalse\u001B[39;49;00m\u001B[43m,\u001B[49m\u001B[43m \u001B[49m\u001B[43mprint_optimization_steps\u001B[49m\u001B[38;5;241;43m=\u001B[39;49m\u001B[38;5;28;43;01mFalse\u001B[39;49;00m\u001B[43m,\u001B[49m\u001B[43m \u001B[49m\u001B[43mprint_last_loss\u001B[49m\u001B[38;5;241;43m=\u001B[39;49m\u001B[38;5;28;43;01mFalse\u001B[39;49;00m\u001B[43m)\u001B[49m\n\u001B[1;32m     83\u001B[0m \u001B[38;5;28;01mif\u001B[39;00m \u001B[38;5;129;01mnot\u001B[39;00m return_without_time_out:\n\u001B[1;32m     84\u001B[0m     new_row \u001B[38;5;241m=\u001B[39m [vnnlib_path, \u001B[38;5;124m\"\u001B[39m\u001B[38;5;124mtime_out of DHOV\u001B[39m\u001B[38;5;124m\"\u001B[39m, \u001B[38;5;124m\"\u001B[39m\u001B[38;5;124m-\u001B[39m\u001B[38;5;124m\"\u001B[39m, time\u001B[38;5;241m.\u001B[39mtime() \u001B[38;5;241m-\u001B[39m overall_time, \u001B[38;5;28;01mFalse\u001B[39;00m]\n",
      "File \u001B[0;32m~/Documents/Programming/ICNN_verification/script/DHOV/MultiDHOV.py:406\u001B[0m, in \u001B[0;36mMultiDHOV.start_verification\u001B[0;34m(self, nn, input, icnn_factory, group_size, input_bounds, sampling_strategy, icnn_batch_size, icnn_epochs, hyper_lambda, init_affine_bounds, init_layer_bounds, break_after, tighten_bounds, use_fixed_neurons_in_grouping, layers_as_milp, layers_as_snr, use_over_approximation, skip_last_layer, preemptive_stop, store_samples, encode_icnn_enlargement_as_lp, encode_relu_enlargement_as_lp, force_inclusion_steps, grouping_method, group_num_multiplier, init_network, adapt_lambda, optimizer, time_out, allow_heuristic_timeout_estimate, print_training_loss, print_last_loss, print_optimization_steps, print_new_bounds)\u001B[0m\n\u001B[1;32m    403\u001B[0m         max_out \u001B[38;5;241m=\u001B[39m torch\u001B[38;5;241m.\u001B[39mmax(out)\n\u001B[1;32m    404\u001B[0m         current_icnn\u001B[38;5;241m.\u001B[39mapply_enlargement(max_out)\n\u001B[0;32m--> 406\u001B[0m     \u001B[43mtrain_icnn\u001B[49m\u001B[43m(\u001B[49m\u001B[43mcurrent_icnn\u001B[49m\u001B[43m,\u001B[49m\u001B[43m \u001B[49m\u001B[43mtrain_loader\u001B[49m\u001B[43m,\u001B[49m\u001B[43m \u001B[49m\u001B[43mambient_loader\u001B[49m\u001B[43m,\u001B[49m\u001B[43m \u001B[49m\u001B[43mepochs\u001B[49m\u001B[38;5;241;43m=\u001B[39;49m\u001B[43mepochs_per_inclusion\u001B[49m\u001B[43m,\u001B[49m\n\u001B[1;32m    407\u001B[0m \u001B[43m               \u001B[49m\u001B[43mhyper_lambda\u001B[49m\u001B[38;5;241;43m=\u001B[39;49m\u001B[43mhyper_lambda\u001B[49m\u001B[43m,\u001B[49m\n\u001B[1;32m    408\u001B[0m \u001B[43m               \u001B[49m\u001B[43moptimizer\u001B[49m\u001B[38;5;241;43m=\u001B[39;49m\u001B[43moptimizer\u001B[49m\u001B[43m,\u001B[49m\u001B[43m \u001B[49m\u001B[43madapt_lambda\u001B[49m\u001B[38;5;241;43m=\u001B[39;49m\u001B[43madapt_lambda\u001B[49m\u001B[43m,\u001B[49m\u001B[43m \u001B[49m\u001B[43mpreemptive_stop\u001B[49m\u001B[38;5;241;43m=\u001B[39;49m\u001B[43mpreemptive_stop\u001B[49m\u001B[43m,\u001B[49m\n\u001B[1;32m    409\u001B[0m \u001B[43m               \u001B[49m\u001B[43mverbose\u001B[49m\u001B[38;5;241;43m=\u001B[39;49m\u001B[43mprint_training_loss\u001B[49m\u001B[43m,\u001B[49m\u001B[43m \u001B[49m\u001B[43mprint_last_loss\u001B[49m\u001B[38;5;241;43m=\u001B[39;49m\u001B[43mprint_last_loss\u001B[49m\u001B[43m)\u001B[49m\n\u001B[1;32m    411\u001B[0m current_icnn\u001B[38;5;241m.\u001B[39mapply_normalisation(mean, std)\n\u001B[1;32m    413\u001B[0m current_icnn\u001B[38;5;241m.\u001B[39muse_training_setup \u001B[38;5;241m=\u001B[39m \u001B[38;5;28;01mFalse\u001B[39;00m\n",
      "File \u001B[0;32m~/Documents/Programming/ICNN_verification/script/NeuralNets/trainFunction.py:43\u001B[0m, in \u001B[0;36mtrain_icnn\u001B[0;34m(model, train_loader, ambient_loader, epochs, optimizer, return_history, sequential, force_convex, adapt_lambda, hyper_lambda, preemptive_stop, min_loss_change, verbose, print_last_loss)\u001B[0m\n\u001B[1;32m     41\u001B[0m         \u001B[38;5;28;01mreturn\u001B[39;00m loss\n\u001B[1;32m     42\u001B[0m     loss \u001B[38;5;241m=\u001B[39m closure()\n\u001B[0;32m---> 43\u001B[0m     \u001B[43mopt\u001B[49m\u001B[38;5;241;43m.\u001B[39;49m\u001B[43mstep\u001B[49m\u001B[43m(\u001B[49m\u001B[43mclosure\u001B[49m\u001B[43m)\u001B[49m\n\u001B[1;32m     45\u001B[0m \u001B[38;5;28;01melse\u001B[39;00m:\n\u001B[1;32m     46\u001B[0m     prediction_ambient \u001B[38;5;241m=\u001B[39m model(X_ambient)\n",
      "File \u001B[0;32m~/miniconda3/envs/autolirpa_icnn/lib/python3.10/site-packages/torch/optim/optimizer.py:280\u001B[0m, in \u001B[0;36mOptimizer.profile_hook_step.<locals>.wrapper\u001B[0;34m(*args, **kwargs)\u001B[0m\n\u001B[1;32m    276\u001B[0m         \u001B[38;5;28;01melse\u001B[39;00m:\n\u001B[1;32m    277\u001B[0m             \u001B[38;5;28;01mraise\u001B[39;00m \u001B[38;5;167;01mRuntimeError\u001B[39;00m(\u001B[38;5;124mf\u001B[39m\u001B[38;5;124m\"\u001B[39m\u001B[38;5;132;01m{\u001B[39;00mfunc\u001B[38;5;132;01m}\u001B[39;00m\u001B[38;5;124m must return None or a tuple of (new_args, new_kwargs),\u001B[39m\u001B[38;5;124m\"\u001B[39m\n\u001B[1;32m    278\u001B[0m                                \u001B[38;5;124mf\u001B[39m\u001B[38;5;124m\"\u001B[39m\u001B[38;5;124mbut got \u001B[39m\u001B[38;5;132;01m{\u001B[39;00mresult\u001B[38;5;132;01m}\u001B[39;00m\u001B[38;5;124m.\u001B[39m\u001B[38;5;124m\"\u001B[39m)\n\u001B[0;32m--> 280\u001B[0m out \u001B[38;5;241m=\u001B[39m \u001B[43mfunc\u001B[49m\u001B[43m(\u001B[49m\u001B[38;5;241;43m*\u001B[39;49m\u001B[43margs\u001B[49m\u001B[43m,\u001B[49m\u001B[43m \u001B[49m\u001B[38;5;241;43m*\u001B[39;49m\u001B[38;5;241;43m*\u001B[39;49m\u001B[43mkwargs\u001B[49m\u001B[43m)\u001B[49m\n\u001B[1;32m    281\u001B[0m \u001B[38;5;28mself\u001B[39m\u001B[38;5;241m.\u001B[39m_optimizer_step_code()\n\u001B[1;32m    283\u001B[0m \u001B[38;5;66;03m# call optimizer step post hooks\u001B[39;00m\n",
      "File \u001B[0;32m~/Documents/Programming/ICNN_verification/script/Optimizer/sdlbfgs.py:120\u001B[0m, in \u001B[0;36mSdLBFGS.step\u001B[0;34m(self, closure)\u001B[0m\n\u001B[1;32m    117\u001B[0m state\u001B[38;5;241m.\u001B[39msetdefault(\u001B[38;5;124m'\u001B[39m\u001B[38;5;124mn_iter\u001B[39m\u001B[38;5;124m'\u001B[39m, \u001B[38;5;241m0\u001B[39m)\n\u001B[1;32m    119\u001B[0m \u001B[38;5;66;03m# evaluate initial f(x) and df/dx\u001B[39;00m\n\u001B[0;32m--> 120\u001B[0m orig_loss \u001B[38;5;241m=\u001B[39m \u001B[43mclosure\u001B[49m\u001B[43m(\u001B[49m\u001B[43m)\u001B[49m\n\u001B[1;32m    121\u001B[0m loss \u001B[38;5;241m=\u001B[39m orig_loss\u001B[38;5;241m.\u001B[39mdata\u001B[38;5;241m.\u001B[39mitem()\n\u001B[1;32m    122\u001B[0m current_evals \u001B[38;5;241m=\u001B[39m \u001B[38;5;241m1\u001B[39m\n",
      "File \u001B[0;32m~/Documents/Programming/ICNN_verification/script/NeuralNets/trainFunction.py:40\u001B[0m, in \u001B[0;36mtrain_icnn.<locals>.closure\u001B[0;34m()\u001B[0m\n\u001B[1;32m     38\u001B[0m output \u001B[38;5;241m=\u001B[39m model(X)\n\u001B[1;32m     39\u001B[0m loss \u001B[38;5;241m=\u001B[39m deep_hull_simple_loss(output, prediction_ambient, hyper_lambda\u001B[38;5;241m=\u001B[39mhyper_lambda)\n\u001B[0;32m---> 40\u001B[0m \u001B[43mloss\u001B[49m\u001B[38;5;241;43m.\u001B[39;49m\u001B[43mbackward\u001B[49m\u001B[43m(\u001B[49m\u001B[43m)\u001B[49m\n\u001B[1;32m     41\u001B[0m \u001B[38;5;28;01mreturn\u001B[39;00m loss\n",
      "File \u001B[0;32m~/miniconda3/envs/autolirpa_icnn/lib/python3.10/site-packages/torch/_tensor.py:487\u001B[0m, in \u001B[0;36mTensor.backward\u001B[0;34m(self, gradient, retain_graph, create_graph, inputs)\u001B[0m\n\u001B[1;32m    477\u001B[0m \u001B[38;5;28;01mif\u001B[39;00m has_torch_function_unary(\u001B[38;5;28mself\u001B[39m):\n\u001B[1;32m    478\u001B[0m     \u001B[38;5;28;01mreturn\u001B[39;00m handle_torch_function(\n\u001B[1;32m    479\u001B[0m         Tensor\u001B[38;5;241m.\u001B[39mbackward,\n\u001B[1;32m    480\u001B[0m         (\u001B[38;5;28mself\u001B[39m,),\n\u001B[0;32m   (...)\u001B[0m\n\u001B[1;32m    485\u001B[0m         inputs\u001B[38;5;241m=\u001B[39minputs,\n\u001B[1;32m    486\u001B[0m     )\n\u001B[0;32m--> 487\u001B[0m \u001B[43mtorch\u001B[49m\u001B[38;5;241;43m.\u001B[39;49m\u001B[43mautograd\u001B[49m\u001B[38;5;241;43m.\u001B[39;49m\u001B[43mbackward\u001B[49m\u001B[43m(\u001B[49m\n\u001B[1;32m    488\u001B[0m \u001B[43m    \u001B[49m\u001B[38;5;28;43mself\u001B[39;49m\u001B[43m,\u001B[49m\u001B[43m \u001B[49m\u001B[43mgradient\u001B[49m\u001B[43m,\u001B[49m\u001B[43m \u001B[49m\u001B[43mretain_graph\u001B[49m\u001B[43m,\u001B[49m\u001B[43m \u001B[49m\u001B[43mcreate_graph\u001B[49m\u001B[43m,\u001B[49m\u001B[43m \u001B[49m\u001B[43minputs\u001B[49m\u001B[38;5;241;43m=\u001B[39;49m\u001B[43minputs\u001B[49m\n\u001B[1;32m    489\u001B[0m \u001B[43m\u001B[49m\u001B[43m)\u001B[49m\n",
      "File \u001B[0;32m~/miniconda3/envs/autolirpa_icnn/lib/python3.10/site-packages/torch/autograd/__init__.py:200\u001B[0m, in \u001B[0;36mbackward\u001B[0;34m(tensors, grad_tensors, retain_graph, create_graph, grad_variables, inputs)\u001B[0m\n\u001B[1;32m    195\u001B[0m     retain_graph \u001B[38;5;241m=\u001B[39m create_graph\n\u001B[1;32m    197\u001B[0m \u001B[38;5;66;03m# The reason we repeat same the comment below is that\u001B[39;00m\n\u001B[1;32m    198\u001B[0m \u001B[38;5;66;03m# some Python versions print out the first line of a multi-line function\u001B[39;00m\n\u001B[1;32m    199\u001B[0m \u001B[38;5;66;03m# calls in the traceback and some print out the last line\u001B[39;00m\n\u001B[0;32m--> 200\u001B[0m \u001B[43mVariable\u001B[49m\u001B[38;5;241;43m.\u001B[39;49m\u001B[43m_execution_engine\u001B[49m\u001B[38;5;241;43m.\u001B[39;49m\u001B[43mrun_backward\u001B[49m\u001B[43m(\u001B[49m\u001B[43m  \u001B[49m\u001B[38;5;66;43;03m# Calls into the C++ engine to run the backward pass\u001B[39;49;00m\n\u001B[1;32m    201\u001B[0m \u001B[43m    \u001B[49m\u001B[43mtensors\u001B[49m\u001B[43m,\u001B[49m\u001B[43m \u001B[49m\u001B[43mgrad_tensors_\u001B[49m\u001B[43m,\u001B[49m\u001B[43m \u001B[49m\u001B[43mretain_graph\u001B[49m\u001B[43m,\u001B[49m\u001B[43m \u001B[49m\u001B[43mcreate_graph\u001B[49m\u001B[43m,\u001B[49m\u001B[43m \u001B[49m\u001B[43minputs\u001B[49m\u001B[43m,\u001B[49m\n\u001B[1;32m    202\u001B[0m \u001B[43m    \u001B[49m\u001B[43mallow_unreachable\u001B[49m\u001B[38;5;241;43m=\u001B[39;49m\u001B[38;5;28;43;01mTrue\u001B[39;49;00m\u001B[43m,\u001B[49m\u001B[43m \u001B[49m\u001B[43maccumulate_grad\u001B[49m\u001B[38;5;241;43m=\u001B[39;49m\u001B[38;5;28;43;01mTrue\u001B[39;49;00m\u001B[43m)\u001B[49m\n",
      "\u001B[0;31mKeyboardInterrupt\u001B[0m: "
     ]
    }
   ],
   "source": [
    "csv_file_path = \"result_dhov_20_3000_mnist_9x200_eps_015.csv\"\n",
    "#create_csv_file(csv_file_path)\n",
    "\n",
    "for num, vnnlib_path in enumerate(sorted(os.listdir(vnnlib_dir_path))):\n",
    "    \n",
    "    if num <= 15:\n",
    "        continue\n",
    "    \n",
    "    if num == 50:\n",
    "        break\n",
    "        \n",
    "    print(\"{} ================================================\".format(num))\n",
    "    \n",
    "    full_path = vnnlib_dir_path + \"/\" + vnnlib_path\n",
    "    input_bounds = load_vnnlib_bounds(full_path, [784,], 10)\n",
    "    model = onnx_to_bounded_model(onnx_path, [1,1,1,784])\n",
    "    image, label = training_data[num]\n",
    "    x, center = load_vnnlib_spec_for_auto_lirpa(full_path, [1,1,1,784], 10)\n",
    "    \n",
    "    if not check_if_image_is_labeled_correctly(nn, image, label):\n",
    "        print(\"skipped because wrong classification from the network\")\n",
    "        \n",
    "        new_row = [vnnlib_path, \"wrong classification\"]\n",
    "        with open(csv_file_path, 'a', newline='') as file_obj:\n",
    "            writer_object = csv.writer(file_obj)\n",
    "         \n",
    "            writer_object.writerow(new_row)\n",
    "            file_obj.close()\n",
    "            \n",
    "            \n",
    "        continue\n",
    "    \n",
    "    if check_if_auto_lirpa_already_verifies(x, 10, label):\n",
    "        print(\"skipped because auto lirpa already verified\")\n",
    "        \n",
    "        new_row = [vnnlib_path, \"lirpa classified\"]\n",
    "        with open(csv_file_path, 'a', newline='') as file_obj:\n",
    "            writer_object = csv.writer(file_obj)\n",
    "         \n",
    "            writer_object.writerow(new_row)\n",
    "            file_obj.close()\n",
    "            \n",
    "        continue\n",
    "    \n",
    "    overall_time = time.time()\n",
    "    \n",
    "    bounds_affine_out, bounds_layer_out = get_bounds_auto_lirpa(x, model)\n",
    "    sampling_strategy = PerGroupLineSearchSamplingStrategy(center, input_bounds, nn, sample_count=3000)\n",
    "    group_size = 20\n",
    "    net_size = [5, 1]\n",
    "    #icnn_factory = ICNNFactory(\"approx_max\", net_size, maximum_function=\"SMU\", function_parameter=0.3)\n",
    "    icnn_factory = ICNNFactory(\"logical\", net_size, always_use_logical_layer=False)\n",
    "    #icnn_factory = ICNNFactory(\"standard\", net_size, adapt_layer_for_init=True)\n",
    "    \n",
    "    \n",
    "    \n",
    "    dhov_verifier = multidhov.MultiDHOV()\n",
    "    with open(os.devnull, \"w\") as f: # , contextlib.redirect_stdout(f):\n",
    "            return_without_time_out = dhov_verifier.start_verification(nn, center, icnn_factory, group_size, input_bounds, sampling_strategy, \n",
    "                                                                    init_affine_bounds=bounds_affine_out, \n",
    "                                                                    init_layer_bounds=bounds_layer_out, \n",
    "                                                                    skip_last_layer=True,\n",
    "                                                                    icnn_epochs=200, \n",
    "                                                                    icnn_batch_size=10000, \n",
    "                                                                    use_over_approximation=True, \n",
    "                                                                    tighten_bounds=True, \n",
    "                                                                    use_fixed_neurons_in_grouping=False, \n",
    "                                                                    layers_as_snr=[], \n",
    "                                                                    layers_as_milp=[8], \n",
    "                                                                    force_inclusion_steps=3, \n",
    "                                                                    preemptive_stop=True, \n",
    "                                                                    grouping_method=\"consecutive\", \n",
    "                                                                    group_num_multiplier=5,\n",
    "                                                                    optimizer=\"SdLBFGS\", \n",
    "                                                                    init_network=True, \n",
    "                                                                    adapt_lambda=\"included\",\n",
    "                                                                    encode_icnn_enlargement_as_lp=False, \n",
    "                                                                    encode_relu_enlargement_as_lp=False,\n",
    "                                                                    time_out=60*60,\n",
    "                                                                    allow_heuristic_timeout_estimate=True,\n",
    "                                                                    break_after=None, print_training_loss=False, print_new_bounds=False, store_samples=False, print_optimization_steps=False, print_last_loss=False)\n",
    "    \n",
    "    if not return_without_time_out:\n",
    "        new_row = [vnnlib_path, \"time_out of DHOV\", \"-\", time.time() - overall_time, False]\n",
    "        with open(csv_file_path, 'a', newline='') as file_obj:\n",
    "            writer_object = csv.writer(file_obj)\n",
    "         \n",
    "            writer_object.writerow(new_row)\n",
    "            file_obj.close()\n",
    "        continue\n",
    "        \n",
    "    dhov_model = dhov_verifier.nn_encoding_model.copy()\n",
    "    dhov_model.update()\n",
    "    dhov_out_vars = get_output_vars_dhov(dhov_model, output_size, number_layer)\n",
    "    \n",
    "    add_output_constraints(dhov_model, dhov_verifier.bounds_layer_out, label, dhov_out_vars, sovler_bound=10)\n",
    "    \n",
    "    optimize_model(dhov_model, dhov_out_vars, overall_time, verbose=False, csv_to_write_to=csv_file_path, csv_row_name=vnnlib_path)"
   ],
   "metadata": {
    "collapsed": false,
    "ExecuteTime": {
     "end_time": "2024-05-05T11:45:37.501096472Z",
     "start_time": "2024-05-05T11:45:26.072691449Z"
    }
   },
   "id": "f62c64884d022034",
   "execution_count": 23
  },
  {
   "cell_type": "code",
   "outputs": [],
   "source": [
    "print(\"done\")"
   ],
   "metadata": {
    "collapsed": false,
    "ExecuteTime": {
     "start_time": "2024-05-04T12:38:32.613032644Z"
    }
   },
   "id": "a444d3433f05a154"
  }
 ],
 "metadata": {
  "kernelspec": {
   "display_name": "Python 3",
   "language": "python",
   "name": "python3"
  },
  "language_info": {
   "codemirror_mode": {
    "name": "ipython",
    "version": 2
   },
   "file_extension": ".py",
   "mimetype": "text/x-python",
   "name": "python",
   "nbconvert_exporter": "python",
   "pygments_lexer": "ipython2",
   "version": "2.7.6"
  }
 },
 "nbformat": 4,
 "nbformat_minor": 5
}
