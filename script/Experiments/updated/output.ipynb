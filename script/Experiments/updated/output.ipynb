{
 "cells": [
  {
   "cell_type": "markdown",
   "id": "b5955125",
   "metadata": {
    "tags": [
     "papermill-error-cell-tag"
    ]
   },
   "source": [
    "<span style=\"color:red; font-family:Helvetica Neue, Helvetica, Arial, sans-serif; font-size:2em;\">An Exception was encountered at '<a href=\"#papermill-error-cell\">In [22]</a>'.</span>"
   ]
  },
  {
   "cell_type": "code",
   "execution_count": 1,
   "id": "initial_id",
   "metadata": {
    "ExecuteTime": {
     "end_time": "2024-08-11T16:05:51.586350Z",
     "start_time": "2024-08-11T16:05:50.429695Z"
    },
    "execution": {
     "iopub.execute_input": "2024-08-17T10:17:58.306784Z",
     "iopub.status.busy": "2024-08-17T10:17:58.306551Z",
     "iopub.status.idle": "2024-08-17T10:18:02.701355Z",
     "shell.execute_reply": "2024-08-17T10:18:02.700653Z"
    },
    "papermill": {
     "duration": 4.409893,
     "end_time": "2024-08-17T10:18:02.703132",
     "exception": false,
     "start_time": "2024-08-17T10:17:58.293239",
     "status": "completed"
    },
    "tags": []
   },
   "outputs": [
    {
     "name": "stdout",
     "output_type": "stream",
     "text": [
      "/home/i57/pkern/VerifyNN/ICNN_verification/script/Experiments/updated\n"
     ]
    }
   ],
   "source": [
    "import os\n",
    "import contextlib\n",
    "import sys\n",
    "sys.path.append('../../..')\n",
    "\n",
    "cwd = os.getcwd()\n",
    "print(cwd)\n",
    "\n",
    "import torch\n",
    "import time\n",
    "from script.NeuralNets.Networks import SequentialNN\n",
    "from script.settings import device, data_type\n",
    "import script.DHOV.MultiDHOV as multidhov\n",
    "import gurobipy as grp\n",
    "from torchvision.datasets import MNIST\n",
    "from torchvision.transforms import Compose, ToTensor, Normalize\n",
    "from script.NeuralNets.ICNNFactory import ICNNFactory\n",
    "import matplotlib.pyplot as plt\n",
    "from script.Profiling import Timings\n",
    "import numpy as np\n",
    "import csv\n",
    "from script.DHOV.Sampling.PerGroupLineSearchSampling import PerGroupLineSearchSamplingStrategy\n",
    "from script.DHOV.Sampling.PerGroupSamplingStrategy import PerGroupSamplingStrategy\n",
    "from script.DHOV.Sampling.PerGroupFeasibleSamplingStrategy import PerGroupFeasibleSamplingStrategy\n",
    "from script.DHOV.Sampling.ZonotopeSamplingStrategy import ZonotopeSamplingStrategy"
   ]
  },
  {
   "cell_type": "code",
   "execution_count": 2,
   "id": "f0822bc3823089a5",
   "metadata": {
    "ExecuteTime": {
     "end_time": "2024-08-11T16:05:51.836211Z",
     "start_time": "2024-08-11T16:05:51.586978Z"
    },
    "collapsed": false,
    "execution": {
     "iopub.execute_input": "2024-08-17T10:18:02.725958Z",
     "iopub.status.busy": "2024-08-17T10:18:02.725647Z",
     "iopub.status.idle": "2024-08-17T10:18:03.470550Z",
     "shell.execute_reply": "2024-08-17T10:18:03.469910Z"
    },
    "papermill": {
     "duration": 0.7579,
     "end_time": "2024-08-17T10:18:03.472118",
     "exception": false,
     "start_time": "2024-08-17T10:18:02.714218",
     "status": "completed"
    },
    "tags": []
   },
   "outputs": [
    {
     "name": "stderr",
     "output_type": "stream",
     "text": [
      "/home/i57/pkern/miniconda3/envs/icnn_new/lib/python3.11/site-packages/torch/utils/cpp_extension.py:28: DeprecationWarning: pkg_resources is deprecated as an API. See https://setuptools.pypa.io/en/latest/pkg_resources.html\n",
      "  from pkg_resources import packaging  # type: ignore[attr-defined]\n"
     ]
    }
   ],
   "source": [
    "import onnx\n",
    "from onnx2pytorch import ConvertModel\n",
    "from auto_LiRPA import BoundedModule, BoundedTensor, PerturbationLpNorm\n",
    "\n",
    "from vnnlib.compat import read_vnnlib_simple\n",
    "from collections import OrderedDict"
   ]
  },
  {
   "cell_type": "code",
   "execution_count": 3,
   "id": "2cac90c448c123e2",
   "metadata": {
    "ExecuteTime": {
     "end_time": "2024-08-11T16:05:51.838215Z",
     "start_time": "2024-08-11T16:05:51.836697Z"
    },
    "collapsed": false,
    "execution": {
     "iopub.execute_input": "2024-08-17T10:18:03.494363Z",
     "iopub.status.busy": "2024-08-17T10:18:03.494111Z",
     "iopub.status.idle": "2024-08-17T10:18:03.497781Z",
     "shell.execute_reply": "2024-08-17T10:18:03.497170Z"
    },
    "papermill": {
     "duration": 0.016689,
     "end_time": "2024-08-17T10:18:03.499212",
     "exception": false,
     "start_time": "2024-08-17T10:18:03.482523",
     "status": "completed"
    },
    "tags": []
   },
   "outputs": [],
   "source": [
    "onnx_name = \"mnist_relu_9_200.onnx\"\n",
    "vnnlib_name = \"1000_mnist_eps_015\"\n",
    "\n",
    "onnx_path = 'nets/' + onnx_name\n",
    "vnnlib_dir_path = \"specs/\" + vnnlib_name\n",
    "cpu_core_count = os.cpu_count()"
   ]
  },
  {
   "cell_type": "code",
   "execution_count": null,
   "id": "76f90072a2e894",
   "metadata": {
    "ExecuteTime": {
     "end_time": "2024-08-11T16:05:51.839751Z",
     "start_time": "2024-08-11T16:05:51.838759Z"
    },
    "papermill": {
     "duration": 0.010472,
     "end_time": "2024-08-17T10:18:03.520003",
     "exception": false,
     "start_time": "2024-08-17T10:18:03.509531",
     "status": "completed"
    },
    "tags": []
   },
   "outputs": [],
   "source": []
  },
  {
   "cell_type": "code",
   "execution_count": null,
   "id": "7ee8af4f85372d15",
   "metadata": {
    "ExecuteTime": {
     "end_time": "2024-08-11T16:05:51.840988Z",
     "start_time": "2024-08-11T16:05:51.840080Z"
    },
    "papermill": {
     "duration": 0.010324,
     "end_time": "2024-08-17T10:18:03.540873",
     "exception": false,
     "start_time": "2024-08-17T10:18:03.530549",
     "status": "completed"
    },
    "tags": []
   },
   "outputs": [],
   "source": []
  },
  {
   "cell_type": "markdown",
   "id": "43857ff221b9ea71",
   "metadata": {
    "collapsed": false,
    "papermill": {
     "duration": 0.010292,
     "end_time": "2024-08-17T10:18:03.561532",
     "exception": false,
     "start_time": "2024-08-17T10:18:03.551240",
     "status": "completed"
    },
    "tags": []
   },
   "source": [
    "# Import the onnx model and convert it to a SequentialNN\n",
    "It has to bee a SequentialNN"
   ]
  },
  {
   "cell_type": "markdown",
   "id": "72bcacbdec4990e4",
   "metadata": {
    "collapsed": false,
    "papermill": {
     "duration": 0.010496,
     "end_time": "2024-08-17T10:18:03.582523",
     "exception": false,
     "start_time": "2024-08-17T10:18:03.572027",
     "status": "completed"
    },
    "tags": []
   },
   "source": [
    "The SequentialNN needs to have one additional output layer, as its last layer never has relu activation but the imported network has. The last layer then gets initialized with the identity matrix and gets skipped during the verification"
   ]
  },
  {
   "cell_type": "code",
   "execution_count": 4,
   "id": "7ece6141625b3884",
   "metadata": {
    "ExecuteTime": {
     "end_time": "2024-08-11T16:05:51.851207Z",
     "start_time": "2024-08-11T16:05:51.841280Z"
    },
    "collapsed": false,
    "execution": {
     "iopub.execute_input": "2024-08-17T10:18:03.604743Z",
     "iopub.status.busy": "2024-08-17T10:18:03.604504Z",
     "iopub.status.idle": "2024-08-17T10:18:03.652935Z",
     "shell.execute_reply": "2024-08-17T10:18:03.652290Z"
    },
    "papermill": {
     "duration": 0.061099,
     "end_time": "2024-08-17T10:18:03.654416",
     "exception": false,
     "start_time": "2024-08-17T10:18:03.593317",
     "status": "completed"
    },
    "tags": []
   },
   "outputs": [
    {
     "name": "stderr",
     "output_type": "stream",
     "text": [
      "/home/i57/pkern/miniconda3/envs/icnn_new/lib/python3.11/site-packages/onnx2pytorch/convert/layer.py:29: UserWarning: The given NumPy array is not writable, and PyTorch does not support non-writable tensors. This means writing to this tensor will result in undefined behavior. You may want to copy the array to protect its data or make it writable before converting it to a tensor. This type of warning will be suppressed for the rest of this program. (Triggered internally at /home/conda/feedstock_root/build_artifacts/libtorch_1715184481878/work/torch/csrc/utils/tensor_numpy.cpp:206.)\n",
      "  layer.weight.data = torch.from_numpy(numpy_helper.to_array(weight))\n"
     ]
    }
   ],
   "source": [
    "onnx_model = onnx.load(onnx_path)\n",
    "pytorch_model = ConvertModel(onnx_model)\n",
    "nn = SequentialNN([28 * 28 * 1, 200, 200, 200, 200, 200, 200, 200, 200, 10, 10])\n",
    "\n",
    "\n",
    "parameter_list_onnx = list(pytorch_model.parameters())\n",
    "parameter_list_sequential = list(nn.parameters())\n",
    "for i in range(0, len(parameter_list_onnx), 2):\n",
    "    parameter_list_sequential[i].data = parameter_list_onnx[i].data\n",
    "    parameter_list_sequential[i+1].data = parameter_list_onnx[i+1].data\n",
    "parameter_list_sequential[-2].data = torch.eye(10, dtype=data_type)\n",
    "parameter_list_sequential[-1].data = torch.zeros(10, dtype=data_type)"
   ]
  },
  {
   "cell_type": "code",
   "execution_count": 5,
   "id": "2e0b30bcf0bc5ed3",
   "metadata": {
    "ExecuteTime": {
     "end_time": "2024-08-11T16:05:51.852943Z",
     "start_time": "2024-08-11T16:05:51.851622Z"
    },
    "collapsed": false,
    "execution": {
     "iopub.execute_input": "2024-08-17T10:18:03.678122Z",
     "iopub.status.busy": "2024-08-17T10:18:03.677212Z",
     "iopub.status.idle": "2024-08-17T10:18:03.682047Z",
     "shell.execute_reply": "2024-08-17T10:18:03.681385Z"
    },
    "papermill": {
     "duration": 0.018485,
     "end_time": "2024-08-17T10:18:03.683707",
     "exception": false,
     "start_time": "2024-08-17T10:18:03.665222",
     "status": "completed"
    },
    "tags": []
   },
   "outputs": [],
   "source": [
    "parameter_list = list(pytorch_model.parameters()) # don't use nn here as we have added an extra layer\n",
    "output_size = 10\n",
    "number_layer = (len(parameter_list) - 2) // 2"
   ]
  },
  {
   "cell_type": "markdown",
   "id": "32ac993914cba497",
   "metadata": {
    "collapsed": false,
    "papermill": {
     "duration": 0.010864,
     "end_time": "2024-08-17T10:18:03.705116",
     "exception": false,
     "start_time": "2024-08-17T10:18:03.694252",
     "status": "completed"
    },
    "tags": []
   },
   "source": [
    "# Load the data to apply the verification process for"
   ]
  },
  {
   "cell_type": "code",
   "execution_count": 6,
   "id": "813c48a4e74d2cfd",
   "metadata": {
    "ExecuteTime": {
     "end_time": "2024-08-11T16:05:51.854635Z",
     "start_time": "2024-08-11T16:05:51.853287Z"
    },
    "collapsed": false,
    "execution": {
     "iopub.execute_input": "2024-08-17T10:18:03.727451Z",
     "iopub.status.busy": "2024-08-17T10:18:03.727222Z",
     "iopub.status.idle": "2024-08-17T10:18:03.730861Z",
     "shell.execute_reply": "2024-08-17T10:18:03.730247Z"
    },
    "papermill": {
     "duration": 0.017195,
     "end_time": "2024-08-17T10:18:03.733170",
     "exception": false,
     "start_time": "2024-08-17T10:18:03.715975",
     "status": "completed"
    },
    "tags": []
   },
   "outputs": [],
   "source": [
    "def imshow(img):\n",
    "    img = img / 2 + .05  # revert normalization for viewing\n",
    "    npimg = img.to(\"cpu\").numpy()\n",
    "    plt.imshow(npimg, cmap=\"gray\")\n",
    "    plt.show()"
   ]
  },
  {
   "cell_type": "code",
   "execution_count": 7,
   "id": "e93b71692992f90e",
   "metadata": {
    "ExecuteTime": {
     "end_time": "2024-08-11T16:05:51.890974Z",
     "start_time": "2024-08-11T16:05:51.854978Z"
    },
    "collapsed": false,
    "execution": {
     "iopub.execute_input": "2024-08-17T10:18:03.755275Z",
     "iopub.status.busy": "2024-08-17T10:18:03.755043Z",
     "iopub.status.idle": "2024-08-17T10:18:03.821079Z",
     "shell.execute_reply": "2024-08-17T10:18:03.820308Z"
    },
    "papermill": {
     "duration": 0.079069,
     "end_time": "2024-08-17T10:18:03.822800",
     "exception": false,
     "start_time": "2024-08-17T10:18:03.743731",
     "status": "completed"
    },
    "tags": []
   },
   "outputs": [],
   "source": [
    "transform = Compose([ToTensor()])\n",
    "training_data = MNIST(root=\"../../../mnist\", train=True, download=True, transform=transform)"
   ]
  },
  {
   "cell_type": "code",
   "execution_count": 8,
   "id": "7708d17e62f8ed3c",
   "metadata": {
    "ExecuteTime": {
     "end_time": "2024-08-11T16:05:51.894674Z",
     "start_time": "2024-08-11T16:05:51.892060Z"
    },
    "collapsed": false,
    "execution": {
     "iopub.execute_input": "2024-08-17T10:18:03.845621Z",
     "iopub.status.busy": "2024-08-17T10:18:03.845180Z",
     "iopub.status.idle": "2024-08-17T10:18:03.851029Z",
     "shell.execute_reply": "2024-08-17T10:18:03.850426Z"
    },
    "papermill": {
     "duration": 0.018611,
     "end_time": "2024-08-17T10:18:03.852334",
     "exception": false,
     "start_time": "2024-08-17T10:18:03.833723",
     "status": "completed"
    },
    "tags": []
   },
   "outputs": [],
   "source": [
    "def accuracy_test(model, converted_model, data):\n",
    "    total_correct = 0\n",
    "    total_wrong = 0\n",
    "    for image, label in data:\n",
    "        test_image = torch.unsqueeze(image, 0).to(dtype=data_type).to(device)   \n",
    "        model_test = model(test_image)\n",
    "        converted_test = converted_model(test_image)\n",
    "        if not torch.isclose(model_test, converted_test).all():\n",
    "            print(\"is not close\")\n",
    "            break\n",
    "        if torch.argmax(model_test).item() == label:\n",
    "            total_correct += 1\n",
    "        else:\n",
    "            total_wrong += 1\n",
    "    \n",
    "    print(\"is close\")    \n",
    "    print(f\"accuracy {total_correct/ len(training_data)}\")\n",
    "    \n",
    "\n",
    "\n",
    "do_test = False\n",
    "if do_test:\n",
    "    accuracy_test(pytorch_model, nn, training_data)\n"
   ]
  },
  {
   "cell_type": "code",
   "execution_count": 9,
   "id": "18307fa1201eb3d6",
   "metadata": {
    "ExecuteTime": {
     "end_time": "2024-08-11T16:05:51.897904Z",
     "start_time": "2024-08-11T16:05:51.895118Z"
    },
    "collapsed": false,
    "execution": {
     "iopub.execute_input": "2024-08-17T10:18:03.880347Z",
     "iopub.status.busy": "2024-08-17T10:18:03.880117Z",
     "iopub.status.idle": "2024-08-17T10:18:03.887993Z",
     "shell.execute_reply": "2024-08-17T10:18:03.887375Z"
    },
    "papermill": {
     "duration": 0.021101,
     "end_time": "2024-08-17T10:18:03.889454",
     "exception": false,
     "start_time": "2024-08-17T10:18:03.868353",
     "status": "completed"
    },
    "tags": []
   },
   "outputs": [],
   "source": [
    "def add_output_constraints(model, nn_layer_out_bounds, label, output_vars, sovler_bound=1e-3):\n",
    "    \"\"\"\n",
    "    \n",
    "    :param model: the optimization problem in gurobi encoding the NN\n",
    "    :param nn_layer_out_bounds: torch.Tensor, approximating the upper and lower bounding the output layer of the NN\n",
    "    :param label: index of the label or target neuron which is compared against\n",
    "    :param output_vars: the gurobi variables from the model of the NN describing the output neurons of the NN\n",
    "    :param sovler_bound: provides a bound for the gurobi solver. If this bound is achieved, the optimizer stops\n",
    "    \"\"\"\n",
    "    \n",
    "    out_lb = nn_layer_out_bounds[-1][0].detach().cpu().numpy()\n",
    "    out_ub = nn_layer_out_bounds[-1][1].detach().cpu().numpy()\n",
    "    \n",
    "    difference_lb = out_lb - out_ub[label]\n",
    "    difference_ub = out_ub - out_lb[label]\n",
    "    difference_lb = difference_lb.tolist()\n",
    "    difference_ub = difference_ub.tolist()\n",
    "    \n",
    "    difference_lb.pop(label)\n",
    "    difference_ub.pop(label)\n",
    "    \n",
    "    min_diff = min(difference_lb)\n",
    "    max_diff = max(difference_ub)\n",
    "    \n",
    "    difference = model.addVars(9, lb=difference_lb, ub=difference_ub, name=\"diff_var\")\n",
    "    model.addConstrs((difference[i] == output_vars.tolist()[i] - output_vars.tolist()[label] for i in range(0, label)), name=\"diff_const0\")\n",
    "    model.addConstrs((difference[i - 1] == output_vars.tolist()[i] - output_vars.tolist()[label] for i in range(label + 1, 10)), name=\"diff_const1\")\n",
    "\n",
    "    max_var = model.addVar(lb=min_diff, ub=max_diff, name=\"max_var\")\n",
    "    model.addConstr(max_var == grp.max_(difference))\n",
    "\n",
    "    if sovler_bound != None:\n",
    "        model.setParam(\"BestObjStop\", sovler_bound)\n",
    "\n",
    "    model.update()\n",
    "    model.setObjective(max_var, grp.GRB.MAXIMIZE)"
   ]
  },
  {
   "cell_type": "code",
   "execution_count": 10,
   "id": "d30a13deca625b13",
   "metadata": {
    "ExecuteTime": {
     "end_time": "2024-08-11T16:05:51.899797Z",
     "start_time": "2024-08-11T16:05:51.898299Z"
    },
    "collapsed": false,
    "execution": {
     "iopub.execute_input": "2024-08-17T10:18:03.911672Z",
     "iopub.status.busy": "2024-08-17T10:18:03.911287Z",
     "iopub.status.idle": "2024-08-17T10:18:03.915250Z",
     "shell.execute_reply": "2024-08-17T10:18:03.914623Z"
    },
    "papermill": {
     "duration": 0.016841,
     "end_time": "2024-08-17T10:18:03.916819",
     "exception": false,
     "start_time": "2024-08-17T10:18:03.899978",
     "status": "completed"
    },
    "tags": []
   },
   "outputs": [],
   "source": [
    "def get_output_vars_dhov(model, output_size, output_layer_index):\n",
    "    output_vars = []\n",
    "    for i in range(output_size):\n",
    "        output_vars.append(model.getVarByName(\"output_layer_[{}]_[{}]\".format(output_layer_index, i)))\n",
    "    output_vars = grp.MVar.fromlist(output_vars)\n",
    "    return output_vars"
   ]
  },
  {
   "cell_type": "code",
   "execution_count": 11,
   "id": "dc139c863ddc89fa",
   "metadata": {
    "ExecuteTime": {
     "end_time": "2024-08-11T16:05:51.904712Z",
     "start_time": "2024-08-11T16:05:51.900241Z"
    },
    "collapsed": false,
    "execution": {
     "iopub.execute_input": "2024-08-17T10:18:03.938832Z",
     "iopub.status.busy": "2024-08-17T10:18:03.938605Z",
     "iopub.status.idle": "2024-08-17T10:18:03.953942Z",
     "shell.execute_reply": "2024-08-17T10:18:03.953314Z"
    },
    "papermill": {
     "duration": 0.028081,
     "end_time": "2024-08-17T10:18:03.955463",
     "exception": false,
     "start_time": "2024-08-17T10:18:03.927382",
     "status": "completed"
    },
    "tags": []
   },
   "outputs": [],
   "source": [
    "def optimize_model(model, output_vars, start_overall_time, dhov_timings, time_limit=60*60, verbose=True, csv_to_write_to=None, csv_row_name=\"No name\"):\n",
    "    \"\"\"\n",
    "    \n",
    "    :param model: the optimization problem in gurobi encoding the NN and the objective \n",
    "    :param output_vars: the gurobi variables from the model of the NN describing the output neurons of the NN\n",
    "    :return True if verification was successful, else false \n",
    "    \"\"\"\n",
    "    \n",
    "    model.setParam(\"TimeLimit\", time_limit)\n",
    "    \n",
    "    start_solving_time = time.time()\n",
    "    model.update()\n",
    "    model.optimize()\n",
    "    \n",
    "    end_time = time.time()\n",
    "    time_just_solving = end_time - start_solving_time\n",
    "    time_overall = end_time - start_overall_time\n",
    "    \n",
    "    \n",
    "    if verbose:\n",
    "        print(\"time for verification {}\".format(time_just_solving))\n",
    "        print(\"overall time {}\".format(time_overall))\n",
    "    \n",
    "    if model.Status == grp.GRB.OPTIMAL or model.Status == grp.GRB.USER_OBJ_LIMIT:\n",
    "                    \n",
    "        max_var = model.getVarByName(\"max_var\").getAttr(\"x\")\n",
    "        verification_successful = max_var < 0\n",
    "        \n",
    "        if csv_to_write_to is not None:\n",
    "            new_row = [csv_row_name, \"finished\", time_just_solving, time_overall, verification_successful, max_var] +  dhov_timings.get_all_results(do_round=True)\n",
    "            \n",
    "            with open(csv_to_write_to, 'a', newline='') as file_obj:\n",
    "                writer_object = csv.writer(file_obj)\n",
    "             \n",
    "                writer_object.writerow(new_row)\n",
    "                file_obj.close()\n",
    "        \n",
    "        if verbose:\n",
    "            for i, var in enumerate(output_vars.tolist()):\n",
    "                print(\"var {}: {}\".format(i, var.getAttr(\"x\")))\n",
    "                \n",
    "            if verification_successful:\n",
    "                print(\"property verified with max difference {}\".format(max_var))\n",
    "                return True\n",
    "            else:\n",
    "                 print(\"property NOT verified with max difference {}\".format(max_var))\n",
    "                \n",
    "                \n",
    "        \n",
    "        \n",
    "        return verification_successful\n",
    "    \n",
    "    elif model.Status == grp.GRB.TIME_LIMIT:        \n",
    "        \n",
    "        max_var_upper_bound = model.getAttr(\"ObjBound\")\n",
    "        \n",
    "        verification_failed_with_upper_bound = max_var_upper_bound > 0\n",
    "        \n",
    "        if verbose:\n",
    "            if verification_failed_with_upper_bound:\n",
    "                print(\"property NOT verified with upper bound for max difference {}\".format(max_var_upper_bound))\n",
    "            else:\n",
    "                print(\"time out and upper bound could not disprove the setting\")\n",
    "            \n",
    "        if csv_to_write_to is not None:\n",
    "            new_row = [csv_row_name, \"time_out\", time_just_solving, time_overall, verification_failed_with_upper_bound, max_var_upper_bound] + dhov_timings.get_all_results()\n",
    "            with open(csv_to_write_to, 'a', newline='') as file_obj:\n",
    "                writer_object = csv.writer(file_obj)\n",
    "             \n",
    "                writer_object.writerow(new_row)\n",
    "                file_obj.close()\n",
    "                \n",
    "                \n",
    "        return verification_failed_with_upper_bound\n",
    "\n",
    "    elif model.Status == grp.GRB.INFEASIBLE:\n",
    "        \n",
    "        if csv_to_write_to is not None:\n",
    "            new_row = [csv_row_name, \"infeasible\", time_just_solving, time_overall, False,]\n",
    "            with open(csv_to_write_to, 'a', newline='') as file_obj:\n",
    "                writer_object = csv.writer(file_obj)\n",
    "             \n",
    "                writer_object.writerow(new_row)\n",
    "                file_obj.close()\n",
    "        \n",
    "        if verbose:\n",
    "            print(\"model infeasible\")\n",
    "    \n",
    "            model.computeIIS()\n",
    "            print(\"constraint\")\n",
    "            all_constr = model.getConstrs()\n",
    "    \n",
    "            for const in all_constr:\n",
    "                if const.IISConstr:\n",
    "                    print(\"{}\".format(const))\n",
    "    \n",
    "            print(\"lower bound\")\n",
    "            all_var = model.getVars()\n",
    "            for var in all_var:\n",
    "                if var.IISLB:\n",
    "                    print(\"{}, lb: {}, ub: {}\".format(var, var.getAttr(\"lb\"), var.getAttr(\"ub\")))\n",
    "    \n",
    "            print(\"upper bound\")\n",
    "            all_var = model.getVars()\n",
    "            for var in all_var:\n",
    "                if var.IISUB:\n",
    "                    print(\"{}, lb: {}, ub: {}\".format(var, var.getAttr(\"lb\"), var.getAttr(\"ub\")))\n",
    "                \n",
    "        \n",
    "\n",
    "    return False"
   ]
  },
  {
   "cell_type": "code",
   "execution_count": 12,
   "id": "ee77c603c2d29b5c",
   "metadata": {
    "ExecuteTime": {
     "end_time": "2024-08-11T16:05:51.906797Z",
     "start_time": "2024-08-11T16:05:51.905078Z"
    },
    "collapsed": false,
    "execution": {
     "iopub.execute_input": "2024-08-17T10:18:03.977280Z",
     "iopub.status.busy": "2024-08-17T10:18:03.977015Z",
     "iopub.status.idle": "2024-08-17T10:18:03.981764Z",
     "shell.execute_reply": "2024-08-17T10:18:03.981143Z"
    },
    "papermill": {
     "duration": 0.017664,
     "end_time": "2024-08-17T10:18:03.983676",
     "exception": false,
     "start_time": "2024-08-17T10:18:03.966012",
     "status": "completed"
    },
    "tags": []
   },
   "outputs": [],
   "source": [
    "def load_vnnlib_bounds(vnnlib_path, input_shape, n_out):\n",
    "    n_in = np.prod(input_shape)\n",
    "    res = read_vnnlib_simple(vnnlib_path, n_in, n_out)\n",
    "    bnds, spec = res[0]\n",
    "    \n",
    "    bnds = np.array(bnds)\n",
    "    lbs = bnds[:,0]\n",
    "    ubs = bnds[:,1]\n",
    "    \n",
    "    data_min = torch.tensor(lbs, dtype=data_type).reshape(input_shape).to(device)\n",
    "    data_max = torch.tensor(ubs, dtype=data_type).reshape(input_shape).to(device)\n",
    "\n",
    "    return [data_min, data_max]"
   ]
  },
  {
   "cell_type": "markdown",
   "id": "3b09947b5d45122e",
   "metadata": {
    "collapsed": false,
    "papermill": {
     "duration": 0.010662,
     "end_time": "2024-08-17T10:18:04.005079",
     "exception": false,
     "start_time": "2024-08-17T10:18:03.994417",
     "status": "completed"
    },
    "tags": []
   },
   "source": [
    "# get bounds with crown"
   ]
  },
  {
   "cell_type": "code",
   "execution_count": 13,
   "id": "554027a243f269d8",
   "metadata": {
    "ExecuteTime": {
     "end_time": "2024-08-11T16:05:51.908537Z",
     "start_time": "2024-08-11T16:05:51.907177Z"
    },
    "collapsed": false,
    "execution": {
     "iopub.execute_input": "2024-08-17T10:18:04.027117Z",
     "iopub.status.busy": "2024-08-17T10:18:04.026901Z",
     "iopub.status.idle": "2024-08-17T10:18:04.030323Z",
     "shell.execute_reply": "2024-08-17T10:18:04.029775Z"
    },
    "papermill": {
     "duration": 0.016126,
     "end_time": "2024-08-17T10:18:04.031702",
     "exception": false,
     "start_time": "2024-08-17T10:18:04.015576",
     "status": "completed"
    },
    "tags": []
   },
   "outputs": [],
   "source": [
    "def onnx_to_bounded_model(onnx_path, input_shape):\n",
    "    onnx_model = onnx.load(onnx_path)\n",
    "    torch_model = ConvertModel(onnx_model)\n",
    "    \n",
    "    x_concrete = torch.zeros(input_shape)\n",
    "    model = BoundedModule(torch_model, x_concrete)\n",
    "    return model"
   ]
  },
  {
   "cell_type": "code",
   "execution_count": 14,
   "id": "b42ade07de97121a",
   "metadata": {
    "ExecuteTime": {
     "end_time": "2024-08-11T16:05:51.910621Z",
     "start_time": "2024-08-11T16:05:51.908913Z"
    },
    "collapsed": false,
    "execution": {
     "iopub.execute_input": "2024-08-17T10:18:04.054047Z",
     "iopub.status.busy": "2024-08-17T10:18:04.053819Z",
     "iopub.status.idle": "2024-08-17T10:18:04.058663Z",
     "shell.execute_reply": "2024-08-17T10:18:04.058104Z"
    },
    "papermill": {
     "duration": 0.017959,
     "end_time": "2024-08-17T10:18:04.060117",
     "exception": false,
     "start_time": "2024-08-17T10:18:04.042158",
     "status": "completed"
    },
    "tags": []
   },
   "outputs": [],
   "source": [
    "def load_vnnlib_spec_for_auto_lirpa(vnnlib_path, input_shape, n_out):\n",
    "    n_in = np.prod(input_shape)\n",
    "    res = read_vnnlib_simple(vnnlib_path, n_in, n_out)\n",
    "    bnds, spec = res[0]\n",
    "    \n",
    "    bnds = np.array(bnds)\n",
    "    lbs = bnds[:,0]\n",
    "    ubs = bnds[:,1]\n",
    "    \n",
    "    data_min = torch.tensor(lbs, dtype=data_type).reshape(input_shape)\n",
    "    data_max = torch.tensor(ubs, dtype=data_type).reshape(input_shape)\n",
    "    center = 0.5*(data_min + data_max)\n",
    "\n",
    "    ptb = PerturbationLpNorm(x_L=data_min, x_U=data_max)\n",
    "    x = BoundedTensor(center, ptb)\n",
    "    \n",
    "    return x, center"
   ]
  },
  {
   "cell_type": "code",
   "execution_count": 15,
   "id": "236afc883215fbaf",
   "metadata": {
    "ExecuteTime": {
     "end_time": "2024-08-11T16:05:51.912244Z",
     "start_time": "2024-08-11T16:05:51.911005Z"
    },
    "collapsed": false,
    "execution": {
     "iopub.execute_input": "2024-08-17T10:18:04.082558Z",
     "iopub.status.busy": "2024-08-17T10:18:04.082329Z",
     "iopub.status.idle": "2024-08-17T10:18:04.085951Z",
     "shell.execute_reply": "2024-08-17T10:18:04.085255Z"
    },
    "papermill": {
     "duration": 0.016604,
     "end_time": "2024-08-17T10:18:04.087422",
     "exception": false,
     "start_time": "2024-08-17T10:18:04.070818",
     "status": "completed"
    },
    "tags": []
   },
   "outputs": [],
   "source": [
    "def get_layers(model):\n",
    "    return [l for l in model.nodes() if l.perturbed and \"input\" in l.name]"
   ]
  },
  {
   "cell_type": "code",
   "execution_count": 16,
   "id": "5e6033fd22f9b945",
   "metadata": {
    "ExecuteTime": {
     "end_time": "2024-08-11T16:05:51.913995Z",
     "start_time": "2024-08-11T16:05:51.912616Z"
    },
    "collapsed": false,
    "execution": {
     "iopub.execute_input": "2024-08-17T10:18:04.110325Z",
     "iopub.status.busy": "2024-08-17T10:18:04.110098Z",
     "iopub.status.idle": "2024-08-17T10:18:04.114532Z",
     "shell.execute_reply": "2024-08-17T10:18:04.113858Z"
    },
    "papermill": {
     "duration": 0.017483,
     "end_time": "2024-08-17T10:18:04.115945",
     "exception": false,
     "start_time": "2024-08-17T10:18:04.098462",
     "status": "completed"
    },
    "tags": []
   },
   "outputs": [],
   "source": [
    "def get_intermediate_bounds(model):\n",
    "    \"\"\"\n",
    "    Returns a dictionary containing the concrete lower and upper bounds of each layer.\n",
    "    \n",
    "    Implemented own method to filter out bounds for weight matrices.\n",
    "    \n",
    "    Only call this method after compute_bounds()!\n",
    "    \"\"\"\n",
    "    od = OrderedDict()\n",
    "    for l in get_layers(model):\n",
    "        if hasattr(l, 'lower'):\n",
    "            od[l.name] = (l.lower, l.upper)\n",
    "            \n",
    "    return od"
   ]
  },
  {
   "cell_type": "code",
   "execution_count": 17,
   "id": "41468184eb04a1b1",
   "metadata": {
    "ExecuteTime": {
     "end_time": "2024-08-11T16:05:51.916812Z",
     "start_time": "2024-08-11T16:05:51.914339Z"
    },
    "collapsed": false,
    "execution": {
     "iopub.execute_input": "2024-08-17T10:18:04.138471Z",
     "iopub.status.busy": "2024-08-17T10:18:04.138251Z",
     "iopub.status.idle": "2024-08-17T10:18:04.145458Z",
     "shell.execute_reply": "2024-08-17T10:18:04.144872Z"
    },
    "papermill": {
     "duration": 0.01996,
     "end_time": "2024-08-17T10:18:04.146978",
     "exception": false,
     "start_time": "2024-08-17T10:18:04.127018",
     "status": "completed"
    },
    "tags": []
   },
   "outputs": [],
   "source": [
    "def get_bounds_auto_lirpa(x: BoundedTensor, model: BoundedModule, method=\"crown\"):\n",
    "    model.compute_bounds(x=(x,), method=method, bound_lower=True, bound_upper=True)\n",
    "    bounds_dict_crown = get_intermediate_bounds(model)\n",
    "    crown_bounds_affine_out = []\n",
    "    prev_key = None\n",
    "    for i, key in enumerate(bounds_dict_crown.keys()):\n",
    "        if i == 0 and False: # use this if ibp is used (or i % 2 == 1:), and false since we use auto lirpa 0.5.0\n",
    "            continue\n",
    "        elif method == \"alpha-crown\" and \"59\" in key: # probably not relevant when using auto lirpa 0.5\n",
    "            # todo WTF, why do i need to do this?\n",
    "            lb, ub = bounds_dict_crown[key][0], bounds_dict_crown[prev_key][1]\n",
    "            crown_bounds_affine_out.append([lb.type(data_type).view(-1).to(device), ub.type(data_type).view(-1).to(device)])\n",
    "        else: \n",
    "            lb, ub = bounds_dict_crown[key]\n",
    "            crown_bounds_affine_out.append([lb.type(data_type).view(-1).to(device), ub.type(data_type).view(-1).to(device)])\n",
    "        prev_key = key\n",
    "        \n",
    "    crown_bounds_layer_out = []\n",
    "    relu = torch.nn.ReLU()\n",
    "    for i, (lb, ub) in enumerate(crown_bounds_affine_out):\n",
    "        if i == len(crown_bounds_affine_out) - 1:\n",
    "            crown_bounds_layer_out.append([lb, ub])\n",
    "        else:\n",
    "            lb_layer = relu(lb)\n",
    "            ub_layer = relu(ub)\n",
    "            crown_bounds_layer_out.append([lb_layer, ub_layer])\n",
    "            \n",
    "    return crown_bounds_affine_out, crown_bounds_layer_out"
   ]
  },
  {
   "cell_type": "markdown",
   "id": "d53a434138b1b701",
   "metadata": {
    "collapsed": false,
    "papermill": {
     "duration": 0.010658,
     "end_time": "2024-08-17T10:18:04.168056",
     "exception": false,
     "start_time": "2024-08-17T10:18:04.157398",
     "status": "completed"
    },
    "tags": []
   },
   "source": [
    "# Create new csv"
   ]
  },
  {
   "cell_type": "code",
   "execution_count": 18,
   "id": "2f97d8bc608761dc",
   "metadata": {
    "ExecuteTime": {
     "end_time": "2024-08-11T16:05:51.920117Z",
     "start_time": "2024-08-11T16:05:51.918499Z"
    },
    "collapsed": false,
    "execution": {
     "iopub.execute_input": "2024-08-17T10:18:04.190156Z",
     "iopub.status.busy": "2024-08-17T10:18:04.189928Z",
     "iopub.status.idle": "2024-08-17T10:18:04.194480Z",
     "shell.execute_reply": "2024-08-17T10:18:04.193910Z"
    },
    "papermill": {
     "duration": 0.017303,
     "end_time": "2024-08-17T10:18:04.195963",
     "exception": false,
     "start_time": "2024-08-17T10:18:04.178660",
     "status": "completed"
    },
    "tags": []
   },
   "outputs": [],
   "source": [
    "def create_csv_file(csv_file_path, settings):\n",
    "    data = [ ['Input name', 'State of optimization', 'time for just solving', \"time overall\", \"was successful?\", \"max distance\"] +  Timings().get_ordering_as_list_of_strings() + [\"settings:\", settings] ]\n",
    "    # File path for the CSV file\n",
    "    if os.path.isfile(csv_file_path):\n",
    "        raise RuntimeError(\"File name {} already exists\".format(csv_file_path))\n",
    "    \n",
    "    # Open the file in write mode\n",
    "    with open(csv_file_path, mode='a+', newline='') as file_obj:\n",
    "        # Create a csv.writer object\n",
    "        writer_object = csv.writer(file_obj)\n",
    "        # Write data to the CSV file\n",
    "        writer_object.writerows(data)\n",
    "     \n",
    "    # Print a confirmation message\n",
    "    print(f\"CSV file '{csv_file_path}' created successfully.\")"
   ]
  },
  {
   "cell_type": "markdown",
   "id": "48adbb225ddba9f",
   "metadata": {
    "collapsed": false,
    "papermill": {
     "duration": 0.010399,
     "end_time": "2024-08-17T10:18:04.217446",
     "exception": false,
     "start_time": "2024-08-17T10:18:04.207047",
     "status": "completed"
    },
    "tags": []
   },
   "source": [
    "### pre verification checks"
   ]
  },
  {
   "cell_type": "code",
   "execution_count": 19,
   "id": "c4e068c1d61a4714",
   "metadata": {
    "ExecuteTime": {
     "end_time": "2024-08-11T16:05:51.921834Z",
     "start_time": "2024-08-11T16:05:51.920478Z"
    },
    "collapsed": false,
    "execution": {
     "iopub.execute_input": "2024-08-17T10:18:04.240529Z",
     "iopub.status.busy": "2024-08-17T10:18:04.240299Z",
     "iopub.status.idle": "2024-08-17T10:18:04.244239Z",
     "shell.execute_reply": "2024-08-17T10:18:04.243667Z"
    },
    "papermill": {
     "duration": 0.017588,
     "end_time": "2024-08-17T10:18:04.245701",
     "exception": false,
     "start_time": "2024-08-17T10:18:04.228113",
     "status": "completed"
    },
    "tags": []
   },
   "outputs": [],
   "source": [
    "def check_if_image_is_labeled_correctly(nn_model, image, label):\n",
    "    test_image = torch.unsqueeze(image, 0).to(dtype=data_type).to(device)\n",
    "    output = nn_model(test_image)\n",
    "    return torch.argmax(output).item() == label"
   ]
  },
  {
   "cell_type": "code",
   "execution_count": 20,
   "id": "4db18c087bbe41ee",
   "metadata": {
    "ExecuteTime": {
     "end_time": "2024-08-11T16:05:51.923841Z",
     "start_time": "2024-08-11T16:05:51.922199Z"
    },
    "collapsed": false,
    "execution": {
     "iopub.execute_input": "2024-08-17T10:18:04.267963Z",
     "iopub.status.busy": "2024-08-17T10:18:04.267743Z",
     "iopub.status.idle": "2024-08-17T10:18:04.272429Z",
     "shell.execute_reply": "2024-08-17T10:18:04.271860Z"
    },
    "papermill": {
     "duration": 0.017313,
     "end_time": "2024-08-17T10:18:04.273882",
     "exception": false,
     "start_time": "2024-08-17T10:18:04.256569",
     "status": "completed"
    },
    "tags": []
   },
   "outputs": [],
   "source": [
    "def check_if_auto_lirpa_already_verifies(x, output_size, label, method=\"crown\"):\n",
    "    c_matrix = torch.zeros((1, output_size - 1, output_size))\n",
    "    for i in range(output_size - 1):\n",
    "        if i < label:\n",
    "            index = i\n",
    "        elif i >= label:\n",
    "            index = i + 1\n",
    "        \n",
    "        c_matrix[0][i][index] = 1\n",
    "        c_matrix[0][i][label] = -1\n",
    "    \n",
    "    lb, ub = model.compute_bounds(x=(x,), C=c_matrix, method=method)\n",
    "    \n",
    "    return ub.max() < 0"
   ]
  },
  {
   "cell_type": "markdown",
   "id": "3acab87b527a78c2",
   "metadata": {
    "collapsed": false,
    "papermill": {
     "duration": 0.01037,
     "end_time": "2024-08-17T10:18:04.294934",
     "exception": false,
     "start_time": "2024-08-17T10:18:04.284564",
     "status": "completed"
    },
    "tags": []
   },
   "source": [
    "# Do Verification SNR with MILP in last layer"
   ]
  },
  {
   "cell_type": "code",
   "execution_count": 21,
   "id": "5fa48a5e8cadf1f2",
   "metadata": {
    "ExecuteTime": {
     "end_time": "2024-08-11T16:05:52.085733Z",
     "start_time": "2024-08-11T16:05:51.924224Z"
    },
    "collapsed": false,
    "execution": {
     "iopub.execute_input": "2024-08-17T10:18:04.317218Z",
     "iopub.status.busy": "2024-08-17T10:18:04.316989Z",
     "iopub.status.idle": "2024-08-17T10:18:04.666179Z",
     "shell.execute_reply": "2024-08-17T10:18:04.665448Z"
    },
    "papermill": {
     "duration": 0.362036,
     "end_time": "2024-08-17T10:18:04.667519",
     "exception": false,
     "start_time": "2024-08-17T10:18:04.305483",
     "status": "completed"
    },
    "tags": []
   },
   "outputs": [
    {
     "name": "stdout",
     "output_type": "stream",
     "text": [
      "CSV file 'snv+milp_mnist_9x200_eps_015.csv' created successfully.\n",
      "0 ================================================\n"
     ]
    },
    {
     "name": "stderr",
     "output_type": "stream",
     "text": [
      "/home/i57/pkern/miniconda3/envs/icnn_new/lib/python3.11/site-packages/vnnlib/compat.py:283: UserWarning: literal negation does not strictly follow SMT-LIB\n",
      "  ast_node = parse_file(vnnlib_filename, strict=False)\n"
     ]
    },
    {
     "name": "stdout",
     "output_type": "stream",
     "text": [
      "skipped because wrong classification from the network\n"
     ]
    },
    {
     "name": "stderr",
     "output_type": "stream",
     "text": [
      "/home/i57/pkern/miniconda3/envs/icnn_new/lib/python3.11/site-packages/onnx2pytorch/convert/model.py:167: TracerWarning: Converting a tensor to a Python boolean might cause the trace to be incorrect. We can't record the data flow of Python values, so this value will be treated as a constant in the future. This means that the trace might not generalize to other inputs!\n",
      "  if not self.experimental and inputs[0].shape[self.batch_dim] > 1:\n"
     ]
    }
   ],
   "source": [
    "csv_file_path = \"snv+milp_mnist_9x200_eps_015.csv\"\n",
    "\n",
    "crown_method = \"alpha-crown\"\n",
    "tighten_bounds = True\n",
    "time_out = 60*60\n",
    "time_per_neuron_refinement = 10\n",
    "allow_heuristic_timeout_estimate = True\n",
    "settings = \"crown_method: {}, tighten_bounds: {}, time_out: {}, time_per_neuron_refinement: {}, allow_heuristic_timeout_estimate: {}\".format(crown_method, tighten_bounds, time_out, time_per_neuron_refinement, allow_heuristic_timeout_estimate)\n",
    "create_csv_file(csv_file_path, settings)\n",
    "\n",
    "\n",
    "for num, vnnlib_path in enumerate(sorted(os.listdir(vnnlib_dir_path))): \n",
    "    \n",
    "    if num == 1:\n",
    "        break\n",
    "    \n",
    "    print(\"{} ================================================\".format(num))\n",
    "    \n",
    "    full_path = vnnlib_dir_path + \"/\" + vnnlib_path\n",
    "    input_bounds = load_vnnlib_bounds(full_path, [784,], 10)\n",
    "    model = onnx_to_bounded_model(onnx_path, [1,1,1,784])\n",
    "    image, label = training_data[num]\n",
    "    x, center = load_vnnlib_spec_for_auto_lirpa(full_path, [1,1,1,784], 10)\n",
    "    \n",
    "    if not check_if_image_is_labeled_correctly(nn, image, label):\n",
    "        print(\"skipped because wrong classification from the network\")\n",
    "        \n",
    "        new_row = [vnnlib_path, \"wrong classification\"]\n",
    "        with open(csv_file_path, 'a', newline='') as file_obj:\n",
    "            writer_object = csv.writer(file_obj)\n",
    "         \n",
    "            writer_object.writerow(new_row)\n",
    "            file_obj.close()\n",
    "            \n",
    "            \n",
    "        continue\n",
    "    \n",
    "    if check_if_auto_lirpa_already_verifies(x, 10, label, method=crown_method):\n",
    "        print(\"skipped because auto lirpa already verified\")\n",
    "        \n",
    "        new_row = [vnnlib_path, \"lirpa classified\"]\n",
    "        with open(csv_file_path, 'a', newline='') as file_obj:\n",
    "            writer_object = csv.writer(file_obj)\n",
    "         \n",
    "            writer_object.writerow(new_row)\n",
    "            file_obj.close()\n",
    "            \n",
    "        continue\n",
    "    \n",
    "    overall_time = time.time()\n",
    "    # weirdly the box bounds are faster for snr+milp\n",
    "    bounds_affine_out, bounds_layer_out = get_bounds_auto_lirpa(x, model, method=crown_method)\n",
    "    \n",
    "    # we need to pick these parameters, but for the SNR+MILP case these don't matter\n",
    "    sampling_strategy = PerGroupLineSearchSamplingStrategy(center, input_bounds, nn, sample_count=100)\n",
    "    group_size = 20\n",
    "    net_size = [5, 1]\n",
    "    icnn_factory = ICNNFactory(\"logical\", net_size, always_use_logical_layer=False)\n",
    "    \n",
    "    \n",
    "    \n",
    "    dhov_verifier = multidhov.MultiDHOV()\n",
    "    \n",
    "    # block prints\n",
    "    with open(os.devnull, \"w\") as f, contextlib.redirect_stdout(f):\n",
    "        dhov_verifier.start_verification(nn, center, icnn_factory, group_size, input_bounds, sampling_strategy, \n",
    "                                         init_affine_bounds=bounds_affine_out, init_layer_bounds=bounds_layer_out,\n",
    "                                         skip_last_layer=True,\n",
    "                                         tighten_bounds=tighten_bounds, \n",
    "                                         layers_as_snr=[0, 1, 2, 3, 4, 5, 6, 7], \n",
    "                                         layers_as_milp=[8],\n",
    "                                         time_out=time_out,\n",
    "                                         time_per_neuron_refinement=time_per_neuron_refinement,\n",
    "                                         allow_heuristic_timeout_estimate=allow_heuristic_timeout_estimate,)\n",
    "    \n",
    "\n",
    "    \n",
    "    dhov_model = dhov_verifier.nn_encoding_model.copy()\n",
    "    dhov_model.setParam(grp.GRB.Param.Threads, cpu_core_count)\n",
    "    dhov_model.update()\n",
    "    dhov_out_vars = get_output_vars_dhov(dhov_model, output_size, number_layer)\n",
    "    \n",
    "    add_output_constraints(dhov_model, dhov_verifier.bounds_layer_out, label, dhov_out_vars)\n",
    "    \n",
    "    optimize_model(dhov_model, dhov_out_vars, overall_time, dhov_verifier.timings, verbose=False, csv_to_write_to=csv_file_path, csv_row_name=vnnlib_path)"
   ]
  },
  {
   "cell_type": "markdown",
   "id": "81f784dcbd39453c",
   "metadata": {
    "collapsed": false,
    "papermill": {
     "duration": 0.011334,
     "end_time": "2024-08-17T10:18:04.690664",
     "exception": false,
     "start_time": "2024-08-17T10:18:04.679330",
     "status": "completed"
    },
    "tags": []
   },
   "source": [
    "# Do DHOV Verification"
   ]
  },
  {
   "cell_type": "markdown",
   "id": "58f0997d",
   "metadata": {
    "tags": [
     "papermill-error-cell-tag"
    ]
   },
   "source": [
    "<span id=\"papermill-error-cell\" style=\"color:red; font-family:Helvetica Neue, Helvetica, Arial, sans-serif; font-size:2em;\">Execution using papermill encountered an exception here and stopped:</span>"
   ]
  },
  {
   "cell_type": "code",
   "execution_count": 22,
   "id": "f62c64884d022034",
   "metadata": {
    "ExecuteTime": {
     "end_time": "2024-08-11T16:10:38.947585Z",
     "start_time": "2024-08-11T16:05:53.541454Z"
    },
    "collapsed": false,
    "execution": {
     "iopub.execute_input": "2024-08-17T10:18:04.713823Z",
     "iopub.status.busy": "2024-08-17T10:18:04.713536Z",
     "iopub.status.idle": "2024-08-17T10:36:04.262557Z",
     "shell.execute_reply": "2024-08-17T10:36:04.261293Z"
    },
    "papermill": {
     "duration": 1079.574547,
     "end_time": "2024-08-17T10:36:04.276129",
     "exception": true,
     "start_time": "2024-08-17T10:18:04.701582",
     "status": "failed"
    },
    "tags": []
   },
   "outputs": [
    {
     "name": "stdout",
     "output_type": "stream",
     "text": [
      "CSV file 'dhov_mnist_9x200_eps_015.csv' created successfully.\n",
      "0 ================================================\n"
     ]
    },
    {
     "name": "stdout",
     "output_type": "stream",
     "text": [
      "skipped because wrong classification from the network\n",
      "1 ================================================\n"
     ]
    },
    {
     "name": "stdout",
     "output_type": "stream",
     "text": [
      "2 ================================================\n"
     ]
    },
    {
     "ename": "MaybeEncodingError",
     "evalue": "Error sending result: '<multiprocessing.pool.ExceptionWithTraceback object at 0x7f1014cd3550>'. Reason: 'TypeError(\"cannot pickle 'PyCapsule' object\")'",
     "output_type": "error",
     "traceback": [
      "\u001b[0;31m---------------------------------------------------------------------------\u001b[0m",
      "\u001b[0;31mStopIteration\u001b[0m                             Traceback (most recent call last)",
      "File \u001b[0;32m~/miniconda3/envs/icnn_new/lib/python3.11/site-packages/vnnlib/tokenizer.py:49\u001b[0m, in \u001b[0;36m__iter__\u001b[0;34m()\u001b[0m\n",
      "\u001b[0;31mStopIteration\u001b[0m: ",
      "\nDuring handling of the above exception, another exception occurred:\n",
      "\u001b[0;31mStopIteration\u001b[0m                             Traceback (most recent call last)",
      "File \u001b[0;32m~/miniconda3/envs/icnn_new/lib/python3.11/site-packages/vnnlib/tokenizer.py:49\u001b[0m, in \u001b[0;36m__iter__\u001b[0;34m()\u001b[0m\n",
      "\u001b[0;31mStopIteration\u001b[0m: ",
      "\nDuring handling of the above exception, another exception occurred:\n",
      "\u001b[0;31mStopIteration\u001b[0m                             Traceback (most recent call last)",
      "File \u001b[0;32m~/miniconda3/envs/icnn_new/lib/python3.11/site-packages/vnnlib/tokenizer.py:49\u001b[0m, in \u001b[0;36m__iter__\u001b[0;34m()\u001b[0m\n",
      "\u001b[0;31mStopIteration\u001b[0m: ",
      "\nDuring handling of the above exception, another exception occurred:\n",
      "\u001b[0;31mStopIteration\u001b[0m                             Traceback (most recent call last)",
      "File \u001b[0;32m~/miniconda3/envs/icnn_new/lib/python3.11/site-packages/vnnlib/tokenizer.py:49\u001b[0m, in \u001b[0;36m__iter__\u001b[0;34m()\u001b[0m\n",
      "\u001b[0;31mStopIteration\u001b[0m: ",
      "\nDuring handling of the above exception, another exception occurred:\n",
      "\u001b[0;31mStopIteration\u001b[0m                             Traceback (most recent call last)",
      "File \u001b[0;32m~/miniconda3/envs/icnn_new/lib/python3.11/site-packages/vnnlib/tokenizer.py:49\u001b[0m, in \u001b[0;36m__iter__\u001b[0;34m()\u001b[0m\n",
      "\u001b[0;31mStopIteration\u001b[0m: ",
      "\nDuring handling of the above exception, another exception occurred:\n",
      "\u001b[0;31mStopIteration\u001b[0m                             Traceback (most recent call last)",
      "File \u001b[0;32m~/miniconda3/envs/icnn_new/lib/python3.11/site-packages/vnnlib/tokenizer.py:49\u001b[0m, in \u001b[0;36m__iter__\u001b[0;34m()\u001b[0m\n",
      "\u001b[0;31mStopIteration\u001b[0m: ",
      "\nDuring handling of the above exception, another exception occurred:\n",
      "\u001b[0;31mMaybeEncodingError\u001b[0m                        Traceback (most recent call last)",
      "Cell \u001b[0;32mIn[22], line 68\u001b[0m\n\u001b[1;32m     66\u001b[0m dhov_verifier \u001b[38;5;241m=\u001b[39m multidhov\u001b[38;5;241m.\u001b[39mMultiDHOV()\n\u001b[1;32m     67\u001b[0m \u001b[38;5;28;01mwith\u001b[39;00m \u001b[38;5;28mopen\u001b[39m(os\u001b[38;5;241m.\u001b[39mdevnull, \u001b[38;5;124m\"\u001b[39m\u001b[38;5;124mw\u001b[39m\u001b[38;5;124m\"\u001b[39m) \u001b[38;5;28;01mas\u001b[39;00m f, contextlib\u001b[38;5;241m.\u001b[39mredirect_stdout(f):\n\u001b[0;32m---> 68\u001b[0m         return_without_time_out \u001b[38;5;241m=\u001b[39m \u001b[43mdhov_verifier\u001b[49m\u001b[38;5;241;43m.\u001b[39;49m\u001b[43mstart_verification\u001b[49m\u001b[43m(\u001b[49m\u001b[43mnn\u001b[49m\u001b[43m,\u001b[49m\u001b[43m \u001b[49m\u001b[43mcenter\u001b[49m\u001b[43m,\u001b[49m\u001b[43m \u001b[49m\u001b[43micnn_factory\u001b[49m\u001b[43m,\u001b[49m\u001b[43m \u001b[49m\u001b[43mgroup_size\u001b[49m\u001b[43m,\u001b[49m\u001b[43m \u001b[49m\u001b[43minput_bounds\u001b[49m\u001b[43m,\u001b[49m\u001b[43m \u001b[49m\u001b[43msampling_strategy\u001b[49m\u001b[43m,\u001b[49m\u001b[43m \u001b[49m\n\u001b[1;32m     69\u001b[0m \u001b[43m                                                                \u001b[49m\u001b[43minit_affine_bounds\u001b[49m\u001b[38;5;241;43m=\u001b[39;49m\u001b[43mbounds_affine_out\u001b[49m\u001b[43m,\u001b[49m\u001b[43m \u001b[49m\n\u001b[1;32m     70\u001b[0m \u001b[43m                                                                \u001b[49m\u001b[43minit_layer_bounds\u001b[49m\u001b[38;5;241;43m=\u001b[39;49m\u001b[43mbounds_layer_out\u001b[49m\u001b[43m,\u001b[49m\u001b[43m \u001b[49m\n\u001b[1;32m     71\u001b[0m \u001b[43m                                                                \u001b[49m\u001b[43mskip_last_layer\u001b[49m\u001b[38;5;241;43m=\u001b[39;49m\u001b[38;5;28;43;01mTrue\u001b[39;49;00m\u001b[43m,\u001b[49m\n\u001b[1;32m     72\u001b[0m \u001b[43m                                                                \u001b[49m\u001b[43micnn_epochs\u001b[49m\u001b[38;5;241;43m=\u001b[39;49m\u001b[43mepochs\u001b[49m\u001b[43m,\u001b[49m\u001b[43m \u001b[49m\n\u001b[1;32m     73\u001b[0m \u001b[43m                                                                \u001b[49m\u001b[43micnn_batch_size\u001b[49m\u001b[38;5;241;43m=\u001b[39;49m\u001b[38;5;241;43m10000\u001b[39;49m\u001b[43m,\u001b[49m\u001b[43m \u001b[49m\n\u001b[1;32m     74\u001b[0m \u001b[43m                                                                \u001b[49m\u001b[43muse_over_approximation\u001b[49m\u001b[38;5;241;43m=\u001b[39;49m\u001b[38;5;28;43;01mTrue\u001b[39;49;00m\u001b[43m,\u001b[49m\u001b[43m \u001b[49m\n\u001b[1;32m     75\u001b[0m \u001b[43m                                                                \u001b[49m\u001b[43mtighten_bounds\u001b[49m\u001b[38;5;241;43m=\u001b[39;49m\u001b[43mtighten_bounds\u001b[49m\u001b[43m,\u001b[49m\u001b[43m \u001b[49m\n\u001b[1;32m     76\u001b[0m \u001b[43m                                                                \u001b[49m\u001b[43muse_fixed_neurons_in_grouping\u001b[49m\u001b[38;5;241;43m=\u001b[39;49m\u001b[38;5;28;43;01mFalse\u001b[39;49;00m\u001b[43m,\u001b[49m\u001b[43m \u001b[49m\n\u001b[1;32m     77\u001b[0m \u001b[43m                                                                \u001b[49m\u001b[43mlayers_as_snr\u001b[49m\u001b[38;5;241;43m=\u001b[39;49m\u001b[43m[\u001b[49m\u001b[43m]\u001b[49m\u001b[43m,\u001b[49m\u001b[43m \u001b[49m\n\u001b[1;32m     78\u001b[0m \u001b[43m                                                                \u001b[49m\u001b[43mlayers_as_milp\u001b[49m\u001b[38;5;241;43m=\u001b[39;49m\u001b[43m[\u001b[49m\u001b[38;5;241;43m8\u001b[39;49m\u001b[43m]\u001b[49m\u001b[43m,\u001b[49m\u001b[43m \u001b[49m\n\u001b[1;32m     79\u001b[0m \u001b[43m                                                                \u001b[49m\u001b[43mforce_inclusion_steps\u001b[49m\u001b[38;5;241;43m=\u001b[39;49m\u001b[38;5;241;43m3\u001b[39;49m\u001b[43m,\u001b[49m\u001b[43m \u001b[49m\n\u001b[1;32m     80\u001b[0m \u001b[43m                                                                \u001b[49m\u001b[43mpreemptive_stop\u001b[49m\u001b[38;5;241;43m=\u001b[39;49m\u001b[38;5;28;43;01mTrue\u001b[39;49;00m\u001b[43m,\u001b[49m\u001b[43m \u001b[49m\n\u001b[1;32m     81\u001b[0m \u001b[43m                                                                \u001b[49m\u001b[43mgrouping_method\u001b[49m\u001b[38;5;241;43m=\u001b[39;49m\u001b[38;5;124;43m\"\u001b[39;49m\u001b[38;5;124;43mconsecutive\u001b[39;49m\u001b[38;5;124;43m\"\u001b[39;49m\u001b[43m,\u001b[49m\u001b[43m \u001b[49m\n\u001b[1;32m     82\u001b[0m \u001b[43m                                                                \u001b[49m\u001b[43mgroup_num_multiplier\u001b[49m\u001b[38;5;241;43m=\u001b[39;49m\u001b[38;5;28;43;01mNone\u001b[39;49;00m\u001b[43m,\u001b[49m\n\u001b[1;32m     83\u001b[0m \u001b[43m                                                                \u001b[49m\u001b[43moptimizer\u001b[49m\u001b[38;5;241;43m=\u001b[39;49m\u001b[38;5;124;43m\"\u001b[39;49m\u001b[38;5;124;43mSdLBFGS\u001b[39;49m\u001b[38;5;124;43m\"\u001b[39;49m\u001b[43m,\u001b[49m\u001b[43m \u001b[49m\n\u001b[1;32m     84\u001b[0m \u001b[43m                                                                \u001b[49m\u001b[43minit_network\u001b[49m\u001b[38;5;241;43m=\u001b[39;49m\u001b[38;5;28;43;01mTrue\u001b[39;49;00m\u001b[43m,\u001b[49m\u001b[43m \u001b[49m\n\u001b[1;32m     85\u001b[0m \u001b[43m                                                                \u001b[49m\u001b[43madapt_lambda\u001b[49m\u001b[38;5;241;43m=\u001b[39;49m\u001b[38;5;124;43m\"\u001b[39;49m\u001b[38;5;124;43mincluded\u001b[39;49m\u001b[38;5;124;43m\"\u001b[39;49m\u001b[43m,\u001b[49m\n\u001b[1;32m     86\u001b[0m \u001b[43m                                                                \u001b[49m\u001b[43mencode_icnn_enlargement_as_lp\u001b[49m\u001b[38;5;241;43m=\u001b[39;49m\u001b[38;5;28;43;01mFalse\u001b[39;49;00m\u001b[43m,\u001b[49m\u001b[43m \u001b[49m\n\u001b[1;32m     87\u001b[0m \u001b[43m                                                                \u001b[49m\u001b[43mencode_relu_enlargement_as_lp\u001b[49m\u001b[38;5;241;43m=\u001b[39;49m\u001b[38;5;28;43;01mFalse\u001b[39;49;00m\u001b[43m,\u001b[49m\n\u001b[1;32m     88\u001b[0m \u001b[43m                                                                \u001b[49m\u001b[43mtime_out\u001b[49m\u001b[38;5;241;43m=\u001b[39;49m\u001b[43mtime_out\u001b[49m\u001b[43m,\u001b[49m\n\u001b[1;32m     89\u001b[0m \u001b[43m                                                                \u001b[49m\u001b[43mtime_per_neuron_refinement\u001b[49m\u001b[38;5;241;43m=\u001b[39;49m\u001b[43mtime_per_neuron_refinement\u001b[49m\u001b[43m,\u001b[49m\n\u001b[1;32m     90\u001b[0m \u001b[43m                                                                \u001b[49m\u001b[43mtime_per_icnn_refinement\u001b[49m\u001b[38;5;241;43m=\u001b[39;49m\u001b[43mtime_per_icnn_refinement\u001b[49m\u001b[43m,\u001b[49m\n\u001b[1;32m     91\u001b[0m \u001b[43m                                                                \u001b[49m\u001b[43mallow_heuristic_timeout_estimate\u001b[49m\u001b[38;5;241;43m=\u001b[39;49m\u001b[43mallow_heuristic_timeout_estimate\u001b[49m\u001b[43m,\u001b[49m\n\u001b[1;32m     92\u001b[0m \u001b[43m                                                                \u001b[49m\u001b[43mbreak_after\u001b[49m\u001b[38;5;241;43m=\u001b[39;49m\u001b[38;5;28;43;01mNone\u001b[39;49;00m\u001b[43m,\u001b[49m\u001b[43m \u001b[49m\u001b[43mprint_training_loss\u001b[49m\u001b[38;5;241;43m=\u001b[39;49m\u001b[38;5;28;43;01mFalse\u001b[39;49;00m\u001b[43m,\u001b[49m\u001b[43m \u001b[49m\u001b[43mprint_new_bounds\u001b[49m\u001b[38;5;241;43m=\u001b[39;49m\u001b[38;5;28;43;01mFalse\u001b[39;49;00m\u001b[43m,\u001b[49m\u001b[43m \u001b[49m\u001b[43mstore_samples\u001b[49m\u001b[38;5;241;43m=\u001b[39;49m\u001b[38;5;28;43;01mFalse\u001b[39;49;00m\u001b[43m,\u001b[49m\u001b[43m \u001b[49m\u001b[43mprint_optimization_steps\u001b[49m\u001b[38;5;241;43m=\u001b[39;49m\u001b[38;5;28;43;01mFalse\u001b[39;49;00m\u001b[43m,\u001b[49m\u001b[43m \u001b[49m\u001b[43mprint_last_loss\u001b[49m\u001b[38;5;241;43m=\u001b[39;49m\u001b[38;5;28;43;01mFalse\u001b[39;49;00m\u001b[43m)\u001b[49m\n\u001b[1;32m     94\u001b[0m \u001b[38;5;28;01mif\u001b[39;00m \u001b[38;5;129;01mnot\u001b[39;00m return_without_time_out:\n\u001b[1;32m     95\u001b[0m     new_row \u001b[38;5;241m=\u001b[39m [vnnlib_path, \u001b[38;5;124m\"\u001b[39m\u001b[38;5;124mtime_out of DHOV\u001b[39m\u001b[38;5;124m\"\u001b[39m, \u001b[38;5;124m\"\u001b[39m\u001b[38;5;124m-\u001b[39m\u001b[38;5;124m\"\u001b[39m, time\u001b[38;5;241m.\u001b[39mtime() \u001b[38;5;241m-\u001b[39m overall_time, \u001b[38;5;28;01mFalse\u001b[39;00m, \u001b[38;5;124m\"\u001b[39m\u001b[38;5;124m-\u001b[39m\u001b[38;5;124m\"\u001b[39m] \u001b[38;5;241m+\u001b[39m  dhov_verifier\u001b[38;5;241m.\u001b[39mtimings\u001b[38;5;241m.\u001b[39mget_all_results(do_round\u001b[38;5;241m=\u001b[39m\u001b[38;5;28;01mTrue\u001b[39;00m)\n",
      "File \u001b[0;32m~/VerifyNN/ICNN_verification/script/Experiments/updated/../../../script/DHOV/MultiDHOV.py:471\u001b[0m, in \u001b[0;36mMultiDHOV.start_verification\u001b[0;34m(self, nn, input, icnn_factory, group_size, input_bounds, sampling_strategy, icnn_batch_size, icnn_epochs, hyper_lambda, init_affine_bounds, init_layer_bounds, break_after, tighten_bounds, use_fixed_neurons_in_grouping, layers_as_milp, layers_as_snr, use_over_approximation, skip_last_layer, time_per_neuron_refinement, time_per_icnn_refinement, preemptive_stop, store_samples, encode_icnn_enlargement_as_lp, encode_relu_enlargement_as_lp, force_inclusion_steps, grouping_method, group_num_multiplier, init_network, adapt_lambda, optimizer, time_out, allow_heuristic_timeout_estimate, print_training_loss, print_last_loss, print_optimization_steps, print_new_bounds)\u001b[0m\n\u001b[1;32m    469\u001b[0m args \u001b[38;5;241m=\u001b[39m \u001b[38;5;28mzip\u001b[39m(list_of_icnns[current_layer_index], group_indices)\n\u001b[1;32m    470\u001b[0m \u001b[38;5;28;01mwith\u001b[39;00m torch\u001b[38;5;241m.\u001b[39mmultiprocessing\u001b[38;5;241m.\u001b[39mPool(num_processors) \u001b[38;5;28;01mas\u001b[39;00m pool:\n\u001b[0;32m--> 471\u001b[0m     result_enlarge \u001b[38;5;241m=\u001b[39m \u001b[43mpool\u001b[49m\u001b[38;5;241;43m.\u001b[39;49m\u001b[43mstarmap\u001b[49m\u001b[43m(\u001b[49m\u001b[43mparallel_icnn_enlargement\u001b[49m\u001b[43m,\u001b[49m\u001b[43m \u001b[49m\u001b[43margs\u001b[49m\u001b[43m)\u001b[49m\n\u001b[1;32m    473\u001b[0m \u001b[38;5;28mself\u001b[39m\u001b[38;5;241m.\u001b[39mtimings\u001b[38;5;241m.\u001b[39micnn_verification_time_per_layer_per_icnn\u001b[38;5;241m.\u001b[39mappend([])\n\u001b[1;32m    474\u001b[0m \u001b[38;5;28;01mfor\u001b[39;00m index, icnn \u001b[38;5;129;01min\u001b[39;00m \u001b[38;5;28menumerate\u001b[39m(list_of_icnns[current_layer_index]):\n",
      "File \u001b[0;32m~/miniconda3/envs/icnn_new/lib/python3.11/multiprocessing/pool.py:375\u001b[0m, in \u001b[0;36mPool.starmap\u001b[0;34m(self, func, iterable, chunksize)\u001b[0m\n\u001b[1;32m    369\u001b[0m \u001b[38;5;28;01mdef\u001b[39;00m \u001b[38;5;21mstarmap\u001b[39m(\u001b[38;5;28mself\u001b[39m, func, iterable, chunksize\u001b[38;5;241m=\u001b[39m\u001b[38;5;28;01mNone\u001b[39;00m):\n\u001b[1;32m    370\u001b[0m \u001b[38;5;250m    \u001b[39m\u001b[38;5;124;03m'''\u001b[39;00m\n\u001b[1;32m    371\u001b[0m \u001b[38;5;124;03m    Like `map()` method but the elements of the `iterable` are expected to\u001b[39;00m\n\u001b[1;32m    372\u001b[0m \u001b[38;5;124;03m    be iterables as well and will be unpacked as arguments. Hence\u001b[39;00m\n\u001b[1;32m    373\u001b[0m \u001b[38;5;124;03m    `func` and (a, b) becomes func(a, b).\u001b[39;00m\n\u001b[1;32m    374\u001b[0m \u001b[38;5;124;03m    '''\u001b[39;00m\n\u001b[0;32m--> 375\u001b[0m     \u001b[38;5;28;01mreturn\u001b[39;00m \u001b[38;5;28;43mself\u001b[39;49m\u001b[38;5;241;43m.\u001b[39;49m\u001b[43m_map_async\u001b[49m\u001b[43m(\u001b[49m\u001b[43mfunc\u001b[49m\u001b[43m,\u001b[49m\u001b[43m \u001b[49m\u001b[43miterable\u001b[49m\u001b[43m,\u001b[49m\u001b[43m \u001b[49m\u001b[43mstarmapstar\u001b[49m\u001b[43m,\u001b[49m\u001b[43m \u001b[49m\u001b[43mchunksize\u001b[49m\u001b[43m)\u001b[49m\u001b[38;5;241;43m.\u001b[39;49m\u001b[43mget\u001b[49m\u001b[43m(\u001b[49m\u001b[43m)\u001b[49m\n",
      "File \u001b[0;32m~/miniconda3/envs/icnn_new/lib/python3.11/multiprocessing/pool.py:774\u001b[0m, in \u001b[0;36mApplyResult.get\u001b[0;34m(self, timeout)\u001b[0m\n\u001b[1;32m    772\u001b[0m     \u001b[38;5;28;01mreturn\u001b[39;00m \u001b[38;5;28mself\u001b[39m\u001b[38;5;241m.\u001b[39m_value\n\u001b[1;32m    773\u001b[0m \u001b[38;5;28;01melse\u001b[39;00m:\n\u001b[0;32m--> 774\u001b[0m     \u001b[38;5;28;01mraise\u001b[39;00m \u001b[38;5;28mself\u001b[39m\u001b[38;5;241m.\u001b[39m_value\n",
      "\u001b[0;31mMaybeEncodingError\u001b[0m: Error sending result: '<multiprocessing.pool.ExceptionWithTraceback object at 0x7f1014cd3550>'. Reason: 'TypeError(\"cannot pickle 'PyCapsule' object\")'"
     ]
    }
   ],
   "source": [
    "csv_file_path = \"dhov_mnist_9x200_eps_015.csv\"\n",
    "\n",
    "\n",
    "group_size = 20\n",
    "sample_count = 3000\n",
    "crown_method = \"alpha-crown\"\n",
    "tighten_bounds = True\n",
    "time_out = 60*60\n",
    "time_per_neuron_refinement = 10\n",
    "time_per_icnn_refinement = 50\n",
    "allow_heuristic_timeout_estimate = True\n",
    "epochs = 200\n",
    "\n",
    "settings = \"group_size: {}, sample_count: {}, crown_method: {}, tighten_bounds: {}, time_out: {}, time_per_neuron_refinement: {}, time_per_icnn_refinement: {}, allow_heuristic_timeout_estimate: {}, epochs: {}\".format(\n",
    "    group_size, sample_count, crown_method, tighten_bounds, time_out, time_per_neuron_refinement, time_per_icnn_refinement, allow_heuristic_timeout_estimate, epochs)\n",
    "\n",
    "create_csv_file(csv_file_path, settings)\n",
    "for num, vnnlib_path in enumerate(sorted(os.listdir(vnnlib_dir_path))):\n",
    "    \n",
    "    if num == 50:\n",
    "        break\n",
    "        \n",
    "    print(\"{} ================================================\".format(num))\n",
    "    \n",
    "    full_path = vnnlib_dir_path + \"/\" + vnnlib_path\n",
    "    input_bounds = load_vnnlib_bounds(full_path, [784,], 10)\n",
    "    model = onnx_to_bounded_model(onnx_path, [1,1,1,784])\n",
    "    image, label = training_data[num]\n",
    "    x, center = load_vnnlib_spec_for_auto_lirpa(full_path, [1,1,1,784], 10)\n",
    "    \n",
    "    if not check_if_image_is_labeled_correctly(nn, image, label):\n",
    "        print(\"skipped because wrong classification from the network\")\n",
    "        \n",
    "        new_row = [vnnlib_path, \"wrong classification\"]\n",
    "        with open(csv_file_path, 'a', newline='') as file_obj:\n",
    "            writer_object = csv.writer(file_obj)\n",
    "         \n",
    "            writer_object.writerow(new_row)\n",
    "            file_obj.close()\n",
    "            \n",
    "            \n",
    "        continue\n",
    "    \n",
    "    if check_if_auto_lirpa_already_verifies(x, 10, label, method=crown_method):\n",
    "        print(\"skipped because auto lirpa already verified\")\n",
    "        \n",
    "        new_row = [vnnlib_path, \"lirpa classified\"]\n",
    "        with open(csv_file_path, 'a', newline='') as file_obj:\n",
    "            writer_object = csv.writer(file_obj)\n",
    "         \n",
    "            writer_object.writerow(new_row)\n",
    "            file_obj.close()\n",
    "            \n",
    "        continue\n",
    "    \n",
    "    overall_time = time.time()\n",
    "    \n",
    "    bounds_affine_out, bounds_layer_out = get_bounds_auto_lirpa(x, model, method=crown_method)\n",
    "    sampling_strategy = PerGroupLineSearchSamplingStrategy(center, input_bounds, nn, sample_count=sample_count)\n",
    "    net_size = [5, 1]\n",
    "    #icnn_factory = ICNNFactory(\"approx_max\", net_size, maximum_function=\"SMU\", function_parameter=0.3)\n",
    "    icnn_factory = ICNNFactory(\"logical\", net_size, always_use_logical_layer=False)\n",
    "    #icnn_factory = ICNNFactory(\"standard\", net_size, adapt_layer_for_init=True)\n",
    "    \n",
    "    \n",
    "    dhov_verifier = multidhov.MultiDHOV()\n",
    "    with open(os.devnull, \"w\") as f, contextlib.redirect_stdout(f):\n",
    "            return_without_time_out = dhov_verifier.start_verification(nn, center, icnn_factory, group_size, input_bounds, sampling_strategy, \n",
    "                                                                    init_affine_bounds=bounds_affine_out, \n",
    "                                                                    init_layer_bounds=bounds_layer_out, \n",
    "                                                                    skip_last_layer=True,\n",
    "                                                                    icnn_epochs=epochs, \n",
    "                                                                    icnn_batch_size=10000, \n",
    "                                                                    use_over_approximation=True, \n",
    "                                                                    tighten_bounds=tighten_bounds, \n",
    "                                                                    use_fixed_neurons_in_grouping=False, \n",
    "                                                                    layers_as_snr=[], \n",
    "                                                                    layers_as_milp=[8], \n",
    "                                                                    force_inclusion_steps=3, \n",
    "                                                                    preemptive_stop=True, \n",
    "                                                                    grouping_method=\"consecutive\", \n",
    "                                                                    group_num_multiplier=None,\n",
    "                                                                    optimizer=\"SdLBFGS\", \n",
    "                                                                    init_network=True, \n",
    "                                                                    adapt_lambda=\"included\",\n",
    "                                                                    encode_icnn_enlargement_as_lp=False, \n",
    "                                                                    encode_relu_enlargement_as_lp=False,\n",
    "                                                                    time_out=time_out,\n",
    "                                                                    time_per_neuron_refinement=time_per_neuron_refinement,\n",
    "                                                                    time_per_icnn_refinement=time_per_icnn_refinement,\n",
    "                                                                    allow_heuristic_timeout_estimate=allow_heuristic_timeout_estimate,\n",
    "                                                                    break_after=None, print_training_loss=False, print_new_bounds=False, store_samples=False, print_optimization_steps=False, print_last_loss=False)\n",
    "    \n",
    "    if not return_without_time_out:\n",
    "        new_row = [vnnlib_path, \"time_out of DHOV\", \"-\", time.time() - overall_time, False, \"-\"] +  dhov_verifier.timings.get_all_results(do_round=True)\n",
    "        with open(csv_file_path, 'a', newline='') as file_obj:\n",
    "            writer_object = csv.writer(file_obj)\n",
    "         \n",
    "            writer_object.writerow(new_row)\n",
    "            file_obj.close()\n",
    "        continue\n",
    "        \n",
    "    dhov_model = dhov_verifier.nn_encoding_model.copy()\n",
    "    dhov_model.setParam(grp.GRB.Param.Threads, cpu_core_count)\n",
    "    dhov_model.update()\n",
    "    dhov_out_vars = get_output_vars_dhov(dhov_model, output_size, number_layer)\n",
    "    \n",
    "    add_output_constraints(dhov_model, dhov_verifier.bounds_layer_out, label, dhov_out_vars)\n",
    "    \n",
    "    optimize_model(dhov_model, dhov_out_vars, overall_time, dhov_verifier.timings, verbose=False, csv_to_write_to=csv_file_path, csv_row_name=vnnlib_path)"
   ]
  },
  {
   "cell_type": "code",
   "execution_count": null,
   "id": "a444d3433f05a154",
   "metadata": {
    "collapsed": false,
    "execution": {
     "iopub.execute_input": "2024-08-11T16:15:53.386542Z",
     "iopub.status.busy": "2024-08-11T16:15:53.386445Z",
     "iopub.status.idle": "2024-08-11T16:15:53.388246Z",
     "shell.execute_reply": "2024-08-11T16:15:53.388079Z"
    },
    "papermill": {
     "duration": null,
     "end_time": null,
     "exception": null,
     "start_time": null,
     "status": "pending"
    },
    "tags": []
   },
   "outputs": [],
   "source": [
    "print(\"done\")"
   ]
  },
  {
   "cell_type": "code",
   "execution_count": null,
   "id": "920b00f2012e88a3",
   "metadata": {
    "collapsed": false,
    "papermill": {
     "duration": null,
     "end_time": null,
     "exception": null,
     "start_time": null,
     "status": "pending"
    },
    "tags": []
   },
   "outputs": [],
   "source": []
  }
 ],
 "metadata": {
  "kernelspec": {
   "display_name": "Python 3",
   "language": "python",
   "name": "python3"
  },
  "language_info": {
   "codemirror_mode": {
    "name": "ipython",
    "version": 3
   },
   "file_extension": ".py",
   "mimetype": "text/x-python",
   "name": "python",
   "nbconvert_exporter": "python",
   "pygments_lexer": "ipython3",
   "version": "3.11.0"
  },
  "papermill": {
   "default_parameters": {},
   "duration": 1088.468004,
   "end_time": "2024-08-17T10:36:05.309885",
   "environment_variables": {},
   "exception": true,
   "input_path": "Large_Test.ipynb",
   "output_path": "output.ipynb",
   "parameters": {},
   "start_time": "2024-08-17T10:17:56.841881",
   "version": "2.6.0"
  }
 },
 "nbformat": 4,
 "nbformat_minor": 5
}