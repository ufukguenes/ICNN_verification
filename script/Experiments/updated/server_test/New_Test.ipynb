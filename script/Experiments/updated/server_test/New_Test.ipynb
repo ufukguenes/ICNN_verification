{
 "cells": [
  {
   "cell_type": "raw",
   "id": "d1699ed3b368d019",
   "metadata": {
    "vscode": {
     "languageId": "raw"
    }
   },
   "source": [
    "# %env GRB_WLSACCESSID= # your WLS License\n",
    "# %env GRB_WLSSECRET= # your WLS License\n",
    "# %env GRB_LICENSEID= # your WLS License"
   ]
  },
  {
   "cell_type": "code",
   "execution_count": 1,
   "id": "initial_id",
   "metadata": {
    "ExecuteTime": {
     "end_time": "2024-08-28T23:30:20.007840Z",
     "start_time": "2024-08-28T23:30:20.004690Z"
    },
    "execution": {
     "iopub.execute_input": "2024-09-25T10:00:49.064755Z",
     "iopub.status.busy": "2024-09-25T10:00:49.064522Z",
     "iopub.status.idle": "2024-09-25T10:00:52.219829Z",
     "shell.execute_reply": "2024-09-25T10:00:52.218853Z"
    }
   },
   "outputs": [],
   "source": [
    "import os\n",
    "import contextlib\n",
    "import sys\n",
    "\n",
    "import torch\n",
    "import time\n",
    "from script.NeuralNets.Networks import SequentialNN\n",
    "from script.settings import device, data_type, get_gurobi_params\n",
    "import script.DHOV.MultiDHOV as multidhov\n",
    "import gurobipy as grp\n",
    "from torchvision.datasets import MNIST\n",
    "from torchvision.transforms import Compose, ToTensor, Normalize\n",
    "from script.NeuralNets.ICNNFactory import ICNNFactory\n",
    "import matplotlib.pyplot as plt\n",
    "from script.Profiling import Timings\n",
    "import numpy as np\n",
    "import csv\n",
    "from script.DHOV.Sampling.PerGroupLineSearchSampling import PerGroupLineSearchSamplingStrategy\n",
    "from script.DHOV.Sampling.PerGroupSamplingStrategy import PerGroupSamplingStrategy\n",
    "from script.DHOV.Sampling.PerGroupFeasibleSamplingStrategy import PerGroupFeasibleSamplingStrategy\n",
    "from script.DHOV.Sampling.ZonotopeSamplingStrategy import ZonotopeSamplingStrategy"
   ]
  },
  {
   "cell_type": "code",
   "execution_count": 2,
   "id": "f0822bc3823089a5",
   "metadata": {
    "ExecuteTime": {
     "end_time": "2024-08-28T23:30:20.430550Z",
     "start_time": "2024-08-28T23:30:20.132132Z"
    },
    "collapsed": false,
    "execution": {
     "iopub.execute_input": "2024-09-25T10:00:52.223513Z",
     "iopub.status.busy": "2024-09-25T10:00:52.223190Z",
     "iopub.status.idle": "2024-09-25T10:00:52.692937Z",
     "shell.execute_reply": "2024-09-25T10:00:52.691899Z"
    }
   },
   "outputs": [],
   "source": [
    "import onnx\n",
    "from onnx2pytorch import ConvertModel\n",
    "from auto_LiRPA import BoundedModule, BoundedTensor, PerturbationLpNorm\n",
    "\n",
    "from vnnlib.compat import read_vnnlib_simple\n",
    "from collections import OrderedDict"
   ]
  },
  {
   "cell_type": "code",
   "execution_count": 3,
   "id": "2cac90c448c123e2",
   "metadata": {
    "ExecuteTime": {
     "end_time": "2024-08-28T23:30:20.432571Z",
     "start_time": "2024-08-28T23:30:20.431115Z"
    },
    "collapsed": false,
    "execution": {
     "iopub.execute_input": "2024-09-25T10:00:52.695955Z",
     "iopub.status.busy": "2024-09-25T10:00:52.695710Z",
     "iopub.status.idle": "2024-09-25T10:00:52.699999Z",
     "shell.execute_reply": "2024-09-25T10:00:52.699225Z"
    }
   },
   "outputs": [],
   "source": [
    "onnx_name = \"mnist_relu_9_200.onnx\"\n",
    "vnnlib_name = \"1000_mnist_eps_015\"\n",
    "\n",
    "onnx_path = 'script/Experiments/updated/nets/' + onnx_name\n",
    "vnnlib_dir_path = \"script/Experiments/updated/specs/\" + vnnlib_name\n",
    "cpu_core_count = os.cpu_count()"
   ]
  },
  {
   "cell_type": "markdown",
   "id": "43857ff221b9ea71",
   "metadata": {
    "collapsed": false
   },
   "source": [
    "# Import the onnx model and convert it to a SequentialNN\n",
    "It has to bee a SequentialNN"
   ]
  },
  {
   "cell_type": "markdown",
   "id": "72bcacbdec4990e4",
   "metadata": {
    "collapsed": false
   },
   "source": [
    "The SequentialNN needs to have one additional output layer, as its last layer never has relu activation but the imported network has. The last layer then gets initialized with the identity matrix and gets skipped during the verification"
   ]
  },
  {
   "cell_type": "code",
   "execution_count": 4,
   "id": "7ece6141625b3884",
   "metadata": {
    "ExecuteTime": {
     "end_time": "2024-08-28T23:30:20.446871Z",
     "start_time": "2024-08-28T23:30:20.435817Z"
    },
    "collapsed": false,
    "execution": {
     "iopub.execute_input": "2024-09-25T10:00:52.702986Z",
     "iopub.status.busy": "2024-09-25T10:00:52.702772Z",
     "iopub.status.idle": "2024-09-25T10:00:52.746517Z",
     "shell.execute_reply": "2024-09-25T10:00:52.745436Z"
    }
   },
   "outputs": [
    {
     "name": "stderr",
     "output_type": "stream",
     "text": [
      "/root/miniconda3/envs/icnn_env/lib/python3.11/site-packages/onnx2pytorch/convert/layer.py:29: UserWarning: The given NumPy array is not writable, and PyTorch does not support non-writable tensors. This means writing to this tensor will result in undefined behavior. You may want to copy the array to protect its data or make it writable before converting it to a tensor. This type of warning will be suppressed for the rest of this program. (Triggered internally at ../torch/csrc/utils/tensor_numpy.cpp:206.)\n",
      "  layer.weight.data = torch.from_numpy(numpy_helper.to_array(weight))\n"
     ]
    }
   ],
   "source": [
    "onnx_model = onnx.load(onnx_path)\n",
    "pytorch_model = ConvertModel(onnx_model)\n",
    "nn = SequentialNN([28 * 28 * 1, 200, 200, 200, 200, 200, 200, 200, 200, 10, 10])\n",
    "\n",
    "\n",
    "parameter_list_onnx = list(pytorch_model.parameters())\n",
    "parameter_list_sequential = list(nn.parameters())\n",
    "for i in range(0, len(parameter_list_onnx), 2):\n",
    "    parameter_list_sequential[i].data = parameter_list_onnx[i].data\n",
    "    parameter_list_sequential[i+1].data = parameter_list_onnx[i+1].data\n",
    "parameter_list_sequential[-2].data = torch.eye(10, dtype=data_type)\n",
    "parameter_list_sequential[-1].data = torch.zeros(10, dtype=data_type)"
   ]
  },
  {
   "cell_type": "code",
   "execution_count": 5,
   "id": "2e0b30bcf0bc5ed3",
   "metadata": {
    "ExecuteTime": {
     "end_time": "2024-08-28T23:30:20.448579Z",
     "start_time": "2024-08-28T23:30:20.447262Z"
    },
    "collapsed": false,
    "execution": {
     "iopub.execute_input": "2024-09-25T10:00:52.749288Z",
     "iopub.status.busy": "2024-09-25T10:00:52.749057Z",
     "iopub.status.idle": "2024-09-25T10:00:52.753166Z",
     "shell.execute_reply": "2024-09-25T10:00:52.752441Z"
    }
   },
   "outputs": [],
   "source": [
    "parameter_list = list(pytorch_model.parameters()) # don't use nn here as we have added an extra layer\n",
    "output_size = 10\n",
    "number_layer = (len(parameter_list) - 2) // 2"
   ]
  },
  {
   "cell_type": "markdown",
   "id": "32ac993914cba497",
   "metadata": {
    "collapsed": false
   },
   "source": [
    "# Load the data to apply the verification process for"
   ]
  },
  {
   "cell_type": "code",
   "execution_count": 6,
   "id": "813c48a4e74d2cfd",
   "metadata": {
    "ExecuteTime": {
     "end_time": "2024-08-28T23:30:20.450596Z",
     "start_time": "2024-08-28T23:30:20.449047Z"
    },
    "collapsed": false,
    "execution": {
     "iopub.execute_input": "2024-09-25T10:00:52.755942Z",
     "iopub.status.busy": "2024-09-25T10:00:52.755724Z",
     "iopub.status.idle": "2024-09-25T10:00:52.759681Z",
     "shell.execute_reply": "2024-09-25T10:00:52.758999Z"
    }
   },
   "outputs": [],
   "source": [
    "def imshow(img):\n",
    "    img = img / 2 + .05  # revert normalization for viewing\n",
    "    npimg = img.to(\"cpu\").numpy()\n",
    "    plt.imshow(npimg, cmap=\"gray\")\n",
    "    plt.show()"
   ]
  },
  {
   "cell_type": "code",
   "execution_count": 7,
   "id": "e93b71692992f90e",
   "metadata": {
    "ExecuteTime": {
     "end_time": "2024-08-28T23:30:20.502744Z",
     "start_time": "2024-08-28T23:30:20.450940Z"
    },
    "collapsed": false,
    "execution": {
     "iopub.execute_input": "2024-09-25T10:00:52.762411Z",
     "iopub.status.busy": "2024-09-25T10:00:52.762185Z",
     "iopub.status.idle": "2024-09-25T10:01:00.717929Z",
     "shell.execute_reply": "2024-09-25T10:01:00.717041Z"
    }
   },
   "outputs": [
    {
     "name": "stdout",
     "output_type": "stream",
     "text": [
      "Downloading http://yann.lecun.com/exdb/mnist/train-images-idx3-ubyte.gz\n"
     ]
    },
    {
     "name": "stdout",
     "output_type": "stream",
     "text": [
      "Failed to download (trying next):\n",
      "HTTP Error 403: Forbidden\n",
      "\n",
      "Downloading https://ossci-datasets.s3.amazonaws.com/mnist/train-images-idx3-ubyte.gz\n"
     ]
    },
    {
     "name": "stdout",
     "output_type": "stream",
     "text": [
      "Downloading https://ossci-datasets.s3.amazonaws.com/mnist/train-images-idx3-ubyte.gz to /mnist/MNIST/raw/train-images-idx3-ubyte.gz\n"
     ]
    },
    {
     "name": "stderr",
     "output_type": "stream",
     "text": [
      "\r",
      "  0%|          | 0/9912422 [00:00<?, ?it/s]"
     ]
    },
    {
     "name": "stderr",
     "output_type": "stream",
     "text": [
      "\r",
      "  0%|          | 32768/9912422 [00:00<00:31, 311087.92it/s]"
     ]
    },
    {
     "name": "stderr",
     "output_type": "stream",
     "text": [
      "\r",
      "  1%|          | 98304/9912422 [00:00<00:20, 489015.26it/s]"
     ]
    },
    {
     "name": "stderr",
     "output_type": "stream",
     "text": [
      "\r",
      "  2%|▏         | 163840/9912422 [00:00<00:17, 548592.52it/s]"
     ]
    },
    {
     "name": "stderr",
     "output_type": "stream",
     "text": [
      "\r",
      "  3%|▎         | 327680/9912422 [00:00<00:10, 940785.71it/s]"
     ]
    },
    {
     "name": "stderr",
     "output_type": "stream",
     "text": [
      "\r",
      "  7%|▋         | 688128/9912422 [00:00<00:05, 1822512.36it/s]"
     ]
    },
    {
     "name": "stderr",
     "output_type": "stream",
     "text": [
      "\r",
      " 14%|█▍        | 1376256/9912422 [00:00<00:02, 3403463.48it/s]"
     ]
    },
    {
     "name": "stderr",
     "output_type": "stream",
     "text": [
      "\r",
      " 23%|██▎       | 2326528/9912422 [00:00<00:02, 3625031.91it/s]"
     ]
    },
    {
     "name": "stderr",
     "output_type": "stream",
     "text": [
      "\r",
      " 54%|█████▎    | 5308416/9912422 [00:00<00:00, 9619168.16it/s]"
     ]
    },
    {
     "name": "stderr",
     "output_type": "stream",
     "text": [
      "\r",
      " 65%|██████▌   | 6455296/9912422 [00:01<00:00, 9643842.89it/s]"
     ]
    },
    {
     "name": "stderr",
     "output_type": "stream",
     "text": [
      "\r",
      " 79%|███████▉  | 7831552/9912422 [00:01<00:00, 8420077.70it/s]"
     ]
    },
    {
     "name": "stderr",
     "output_type": "stream",
     "text": [
      "\r",
      " 96%|█████████▌| 9469952/9912422 [00:01<00:00, 10138146.84it/s]"
     ]
    },
    {
     "name": "stderr",
     "output_type": "stream",
     "text": [
      "\r",
      "100%|██████████| 9912422/9912422 [00:01<00:00, 6932491.48it/s] "
     ]
    },
    {
     "name": "stderr",
     "output_type": "stream",
     "text": [
      "\n"
     ]
    },
    {
     "name": "stdout",
     "output_type": "stream",
     "text": [
      "Extracting /mnist/MNIST/raw/train-images-idx3-ubyte.gz to /mnist/MNIST/raw\n"
     ]
    },
    {
     "name": "stdout",
     "output_type": "stream",
     "text": [
      "\n",
      "Downloading http://yann.lecun.com/exdb/mnist/train-labels-idx1-ubyte.gz\n"
     ]
    },
    {
     "name": "stdout",
     "output_type": "stream",
     "text": [
      "Failed to download (trying next):\n",
      "HTTP Error 403: Forbidden\n",
      "\n",
      "Downloading https://ossci-datasets.s3.amazonaws.com/mnist/train-labels-idx1-ubyte.gz\n"
     ]
    },
    {
     "name": "stdout",
     "output_type": "stream",
     "text": [
      "Downloading https://ossci-datasets.s3.amazonaws.com/mnist/train-labels-idx1-ubyte.gz to /mnist/MNIST/raw/train-labels-idx1-ubyte.gz\n"
     ]
    },
    {
     "name": "stderr",
     "output_type": "stream",
     "text": [
      "\r",
      "  0%|          | 0/28881 [00:00<?, ?it/s]"
     ]
    },
    {
     "name": "stderr",
     "output_type": "stream",
     "text": [
      "\r",
      "100%|██████████| 28881/28881 [00:00<00:00, 275907.87it/s]"
     ]
    },
    {
     "name": "stderr",
     "output_type": "stream",
     "text": [
      "\r",
      "100%|██████████| 28881/28881 [00:00<00:00, 274381.73it/s]"
     ]
    },
    {
     "name": "stderr",
     "output_type": "stream",
     "text": [
      "\n"
     ]
    },
    {
     "name": "stdout",
     "output_type": "stream",
     "text": [
      "Extracting /mnist/MNIST/raw/train-labels-idx1-ubyte.gz to /mnist/MNIST/raw\n",
      "\n",
      "Downloading http://yann.lecun.com/exdb/mnist/t10k-images-idx3-ubyte.gz\n"
     ]
    },
    {
     "name": "stdout",
     "output_type": "stream",
     "text": [
      "Failed to download (trying next):\n",
      "HTTP Error 403: Forbidden\n",
      "\n",
      "Downloading https://ossci-datasets.s3.amazonaws.com/mnist/t10k-images-idx3-ubyte.gz\n"
     ]
    },
    {
     "name": "stdout",
     "output_type": "stream",
     "text": [
      "Downloading https://ossci-datasets.s3.amazonaws.com/mnist/t10k-images-idx3-ubyte.gz to /mnist/MNIST/raw/t10k-images-idx3-ubyte.gz\n"
     ]
    },
    {
     "name": "stderr",
     "output_type": "stream",
     "text": [
      "\r",
      "  0%|          | 0/1648877 [00:00<?, ?it/s]"
     ]
    },
    {
     "name": "stderr",
     "output_type": "stream",
     "text": [
      "\r",
      "  2%|▏         | 32768/1648877 [00:00<00:05, 316626.36it/s]"
     ]
    },
    {
     "name": "stderr",
     "output_type": "stream",
     "text": [
      "\r",
      "  4%|▍         | 65536/1648877 [00:00<00:04, 320374.43it/s]"
     ]
    },
    {
     "name": "stderr",
     "output_type": "stream",
     "text": [
      "\r",
      " 10%|▉         | 163840/1648877 [00:00<00:02, 611386.64it/s]"
     ]
    },
    {
     "name": "stderr",
     "output_type": "stream",
     "text": [
      "\r",
      " 22%|██▏       | 360448/1648877 [00:00<00:01, 1125679.37it/s]"
     ]
    },
    {
     "name": "stderr",
     "output_type": "stream",
     "text": [
      "\r",
      " 46%|████▌     | 753664/1648877 [00:00<00:00, 2100227.53it/s]"
     ]
    },
    {
     "name": "stderr",
     "output_type": "stream",
     "text": [
      "\r",
      " 93%|█████████▎| 1540096/1648877 [00:00<00:00, 3978310.22it/s]"
     ]
    },
    {
     "name": "stderr",
     "output_type": "stream",
     "text": [
      "\r",
      "100%|██████████| 1648877/1648877 [00:00<00:00, 2658573.73it/s]"
     ]
    },
    {
     "name": "stderr",
     "output_type": "stream",
     "text": [
      "\n"
     ]
    },
    {
     "name": "stdout",
     "output_type": "stream",
     "text": [
      "Extracting /mnist/MNIST/raw/t10k-images-idx3-ubyte.gz to /mnist/MNIST/raw\n",
      "\n",
      "Downloading http://yann.lecun.com/exdb/mnist/t10k-labels-idx1-ubyte.gz\n"
     ]
    },
    {
     "name": "stdout",
     "output_type": "stream",
     "text": [
      "Failed to download (trying next):\n",
      "HTTP Error 403: Forbidden\n",
      "\n",
      "Downloading https://ossci-datasets.s3.amazonaws.com/mnist/t10k-labels-idx1-ubyte.gz\n"
     ]
    },
    {
     "name": "stdout",
     "output_type": "stream",
     "text": [
      "Downloading https://ossci-datasets.s3.amazonaws.com/mnist/t10k-labels-idx1-ubyte.gz to /mnist/MNIST/raw/t10k-labels-idx1-ubyte.gz\n"
     ]
    },
    {
     "name": "stderr",
     "output_type": "stream",
     "text": [
      "\r",
      "  0%|          | 0/4542 [00:00<?, ?it/s]"
     ]
    },
    {
     "name": "stderr",
     "output_type": "stream",
     "text": [
      "\r",
      "100%|██████████| 4542/4542 [00:00<00:00, 4411887.16it/s]"
     ]
    },
    {
     "name": "stdout",
     "output_type": "stream",
     "text": [
      "Extracting /mnist/MNIST/raw/t10k-labels-idx1-ubyte.gz to /mnist/MNIST/raw\n",
      "\n"
     ]
    },
    {
     "name": "stderr",
     "output_type": "stream",
     "text": [
      "\n"
     ]
    }
   ],
   "source": [
    "transform = Compose([ToTensor()])\n",
    "training_data = MNIST(root=\"/mnist\", train=True, download=True, transform=transform)"
   ]
  },
  {
   "cell_type": "code",
   "execution_count": 8,
   "id": "7708d17e62f8ed3c",
   "metadata": {
    "ExecuteTime": {
     "end_time": "2024-08-28T23:30:20.505646Z",
     "start_time": "2024-08-28T23:30:20.503234Z"
    },
    "collapsed": false,
    "execution": {
     "iopub.execute_input": "2024-09-25T10:01:00.721042Z",
     "iopub.status.busy": "2024-09-25T10:01:00.720789Z",
     "iopub.status.idle": "2024-09-25T10:01:00.727102Z",
     "shell.execute_reply": "2024-09-25T10:01:00.726411Z"
    }
   },
   "outputs": [],
   "source": [
    "def accuracy_test(model, converted_model, data):\n",
    "    total_correct = 0\n",
    "    total_wrong = 0\n",
    "    for image, label in data:\n",
    "        test_image = torch.unsqueeze(image, 0).to(dtype=data_type).to(device)   \n",
    "        model_test = model(test_image)\n",
    "        converted_test = converted_model(test_image)\n",
    "        if not torch.isclose(model_test, converted_test).all():\n",
    "            print(\"is not close\")\n",
    "            break\n",
    "        if torch.argmax(model_test).item() == label:\n",
    "            total_correct += 1\n",
    "        else:\n",
    "            total_wrong += 1\n",
    "    \n",
    "    print(\"is close\")    \n",
    "    print(f\"accuracy {total_correct/ len(training_data)}\")\n",
    "    \n",
    "\n",
    "\n",
    "do_test = False\n",
    "if do_test:\n",
    "    accuracy_test(pytorch_model, nn, training_data)\n"
   ]
  },
  {
   "cell_type": "code",
   "execution_count": 9,
   "id": "18307fa1201eb3d6",
   "metadata": {
    "ExecuteTime": {
     "end_time": "2024-08-28T23:30:20.509222Z",
     "start_time": "2024-08-28T23:30:20.506607Z"
    },
    "collapsed": false,
    "execution": {
     "iopub.execute_input": "2024-09-25T10:01:00.729842Z",
     "iopub.status.busy": "2024-09-25T10:01:00.729610Z",
     "iopub.status.idle": "2024-09-25T10:01:00.737471Z",
     "shell.execute_reply": "2024-09-25T10:01:00.736792Z"
    }
   },
   "outputs": [],
   "source": [
    "def add_output_constraints(model, nn_layer_out_bounds, label, output_vars, sovler_bound=1e-3):\n",
    "    \"\"\"\n",
    "    \n",
    "    :param model: the optimization problem in gurobi encoding the NN\n",
    "    :param nn_layer_out_bounds: torch.Tensor, approximating the upper and lower bounding the output layer of the NN\n",
    "    :param label: index of the label or target neuron which is compared against\n",
    "    :param output_vars: the gurobi variables from the model of the NN describing the output neurons of the NN\n",
    "    :param sovler_bound: provides a bound for the gurobi solver. If this bound is achieved, the optimizer stops\n",
    "    \"\"\"\n",
    "    \n",
    "    out_lb = nn_layer_out_bounds[-1][0].detach().cpu().numpy()\n",
    "    out_ub = nn_layer_out_bounds[-1][1].detach().cpu().numpy()\n",
    "    \n",
    "    difference_lb = out_lb - out_ub[label]\n",
    "    difference_ub = out_ub - out_lb[label]\n",
    "    difference_lb = difference_lb.tolist()\n",
    "    difference_ub = difference_ub.tolist()\n",
    "    \n",
    "    difference_lb.pop(label)\n",
    "    difference_ub.pop(label)\n",
    "    \n",
    "    min_diff = min(difference_lb)\n",
    "    max_diff = max(difference_ub)\n",
    "    \n",
    "    difference = model.addVars(9, lb=difference_lb, ub=difference_ub, name=\"diff_var\")\n",
    "    model.addConstrs((difference[i] == output_vars.tolist()[i] - output_vars.tolist()[label] for i in range(0, label)), name=\"diff_const0\")\n",
    "    model.addConstrs((difference[i - 1] == output_vars.tolist()[i] - output_vars.tolist()[label] for i in range(label + 1, 10)), name=\"diff_const1\")\n",
    "\n",
    "    max_var = model.addVar(lb=min_diff, ub=max_diff, name=\"max_var\")\n",
    "    model.addConstr(max_var == grp.max_(difference))\n",
    "\n",
    "    if sovler_bound != None:\n",
    "        model.setParam(\"BestObjStop\", sovler_bound)\n",
    "\n",
    "    model.update()\n",
    "    model.setObjective(max_var, grp.GRB.MAXIMIZE)"
   ]
  },
  {
   "cell_type": "code",
   "execution_count": 10,
   "id": "d30a13deca625b13",
   "metadata": {
    "ExecuteTime": {
     "end_time": "2024-08-28T23:30:20.511076Z",
     "start_time": "2024-08-28T23:30:20.509593Z"
    },
    "collapsed": false,
    "execution": {
     "iopub.execute_input": "2024-09-25T10:01:00.740199Z",
     "iopub.status.busy": "2024-09-25T10:01:00.739968Z",
     "iopub.status.idle": "2024-09-25T10:01:00.743779Z",
     "shell.execute_reply": "2024-09-25T10:01:00.743186Z"
    }
   },
   "outputs": [],
   "source": [
    "def get_output_vars_dhov(model, output_size, output_layer_index):\n",
    "    output_vars = []\n",
    "    for i in range(output_size):\n",
    "        output_vars.append(model.getVarByName(\"output_layer_[{}]_[{}]\".format(output_layer_index, i)))\n",
    "    output_vars = grp.MVar.fromlist(output_vars)\n",
    "    return output_vars"
   ]
  },
  {
   "cell_type": "code",
   "execution_count": 11,
   "id": "dc139c863ddc89fa",
   "metadata": {
    "ExecuteTime": {
     "end_time": "2024-08-28T23:30:20.515861Z",
     "start_time": "2024-08-28T23:30:20.511474Z"
    },
    "collapsed": false,
    "execution": {
     "iopub.execute_input": "2024-09-25T10:01:00.746873Z",
     "iopub.status.busy": "2024-09-25T10:01:00.746413Z",
     "iopub.status.idle": "2024-09-25T10:01:00.760484Z",
     "shell.execute_reply": "2024-09-25T10:01:00.759924Z"
    }
   },
   "outputs": [],
   "source": [
    "def optimize_model(model, output_vars, start_overall_time, dhov_timings, time_limit=60*60, verbose=True, relax_model=True, csv_to_write_to=None, csv_row_name=\"No name\"):\n",
    "    \"\"\"\n",
    "    \n",
    "    :param model: the optimization problem in gurobi encoding the NN and the objective \n",
    "    :param output_vars: the gurobi variables from the model of the NN describing the output neurons of the NN\n",
    "    :return True if verification was successful, else false \n",
    "    \"\"\"\n",
    "    \n",
    "    model.setParam(\"TimeLimit\", time_limit)\n",
    "    \n",
    "    start_solving_time = time.time()\n",
    "    model.update()\n",
    "    if relax_model:\n",
    "        model = model.relax()\n",
    "    model.optimize()\n",
    "    \n",
    "    end_time = time.time()\n",
    "    time_just_solving = end_time - start_solving_time\n",
    "    time_overall = end_time - start_overall_time\n",
    "    \n",
    "    \n",
    "    if verbose:\n",
    "        print(\"time for verification {}\".format(time_just_solving))\n",
    "        print(\"overall time {}\".format(time_overall))\n",
    "    \n",
    "    if model.Status == grp.GRB.OPTIMAL or model.Status == grp.GRB.USER_OBJ_LIMIT:\n",
    "                    \n",
    "        max_var = model.getVarByName(\"max_var\").getAttr(\"x\")\n",
    "        verification_successful = max_var < 0\n",
    "        \n",
    "        if csv_to_write_to is not None:\n",
    "            new_row = [csv_row_name, \"finished\", time_just_solving, time_overall, verification_successful, max_var] +  dhov_timings.get_all_results(do_round=True)\n",
    "            \n",
    "            with open(csv_to_write_to, 'a', newline='') as file_obj:\n",
    "                writer_object = csv.writer(file_obj)\n",
    "             \n",
    "                writer_object.writerow(new_row)\n",
    "                file_obj.close()\n",
    "        \n",
    "        if verbose:\n",
    "            for i, var in enumerate(output_vars.tolist()):\n",
    "                print(\"var {}: {}\".format(i, var.getAttr(\"x\")))\n",
    "                \n",
    "            if verification_successful:\n",
    "                print(\"property verified with max difference {}\".format(max_var))\n",
    "                return True\n",
    "            else:\n",
    "                 print(\"property NOT verified with max difference {}\".format(max_var))\n",
    "                \n",
    "                \n",
    "        \n",
    "        \n",
    "        return verification_successful\n",
    "    \n",
    "    elif model.Status == grp.GRB.TIME_LIMIT:        \n",
    "        \n",
    "        max_var_upper_bound = model.getAttr(\"ObjBound\")\n",
    "        \n",
    "        verification_failed_with_upper_bound = max_var_upper_bound > 0\n",
    "        \n",
    "        if verbose:\n",
    "            if verification_failed_with_upper_bound:\n",
    "                print(\"property NOT verified with upper bound for max difference {}\".format(max_var_upper_bound))\n",
    "            else:\n",
    "                print(\"time out and upper bound could not disprove the setting\")\n",
    "            \n",
    "        if csv_to_write_to is not None:\n",
    "            new_row = [csv_row_name, \"time_out\", time_just_solving, time_overall, verification_failed_with_upper_bound, max_var_upper_bound] + dhov_timings.get_all_results()\n",
    "            with open(csv_to_write_to, 'a', newline='') as file_obj:\n",
    "                writer_object = csv.writer(file_obj)\n",
    "             \n",
    "                writer_object.writerow(new_row)\n",
    "                file_obj.close()\n",
    "                \n",
    "                \n",
    "        return verification_failed_with_upper_bound\n",
    "\n",
    "    elif model.Status == grp.GRB.INFEASIBLE:\n",
    "        \n",
    "        if csv_to_write_to is not None:\n",
    "            new_row = [csv_row_name, \"infeasible\", time_just_solving, time_overall, False,]\n",
    "            with open(csv_to_write_to, 'a', newline='') as file_obj:\n",
    "                writer_object = csv.writer(file_obj)\n",
    "             \n",
    "                writer_object.writerow(new_row)\n",
    "                file_obj.close()\n",
    "        \n",
    "        if verbose:\n",
    "            print(\"model infeasible\")\n",
    "    \n",
    "            model.computeIIS()\n",
    "            print(\"constraint\")\n",
    "            all_constr = model.getConstrs()\n",
    "    \n",
    "            for const in all_constr:\n",
    "                if const.IISConstr:\n",
    "                    print(\"{}\".format(const))\n",
    "    \n",
    "            print(\"lower bound\")\n",
    "            all_var = model.getVars()\n",
    "            for var in all_var:\n",
    "                if var.IISLB:\n",
    "                    print(\"{}, lb: {}, ub: {}\".format(var, var.getAttr(\"lb\"), var.getAttr(\"ub\")))\n",
    "    \n",
    "            print(\"upper bound\")\n",
    "            all_var = model.getVars()\n",
    "            for var in all_var:\n",
    "                if var.IISUB:\n",
    "                    print(\"{}, lb: {}, ub: {}\".format(var, var.getAttr(\"lb\"), var.getAttr(\"ub\")))\n",
    "                \n",
    "        \n",
    "\n",
    "    return False"
   ]
  },
  {
   "cell_type": "code",
   "execution_count": 12,
   "id": "ee77c603c2d29b5c",
   "metadata": {
    "ExecuteTime": {
     "end_time": "2024-08-28T23:30:20.517899Z",
     "start_time": "2024-08-28T23:30:20.516228Z"
    },
    "collapsed": false,
    "execution": {
     "iopub.execute_input": "2024-09-25T10:01:00.763266Z",
     "iopub.status.busy": "2024-09-25T10:01:00.763005Z",
     "iopub.status.idle": "2024-09-25T10:01:00.767592Z",
     "shell.execute_reply": "2024-09-25T10:01:00.767018Z"
    }
   },
   "outputs": [],
   "source": [
    "def load_vnnlib_bounds(vnnlib_path, input_shape, n_out):\n",
    "    n_in = np.prod(input_shape)\n",
    "    res = read_vnnlib_simple(vnnlib_path, n_in, n_out)\n",
    "    bnds, spec = res[0]\n",
    "    \n",
    "    bnds = np.array(bnds)\n",
    "    lbs = bnds[:,0]\n",
    "    ubs = bnds[:,1]\n",
    "    \n",
    "    data_min = torch.tensor(lbs, dtype=data_type).reshape(input_shape).to(device)\n",
    "    data_max = torch.tensor(ubs, dtype=data_type).reshape(input_shape).to(device)\n",
    "\n",
    "    return [data_min, data_max]"
   ]
  },
  {
   "cell_type": "markdown",
   "id": "3b09947b5d45122e",
   "metadata": {
    "collapsed": false
   },
   "source": [
    "# get bounds with crown"
   ]
  },
  {
   "cell_type": "code",
   "execution_count": 13,
   "id": "554027a243f269d8",
   "metadata": {
    "ExecuteTime": {
     "end_time": "2024-08-28T23:30:20.519613Z",
     "start_time": "2024-08-28T23:30:20.518296Z"
    },
    "collapsed": false,
    "execution": {
     "iopub.execute_input": "2024-09-25T10:01:00.770428Z",
     "iopub.status.busy": "2024-09-25T10:01:00.770173Z",
     "iopub.status.idle": "2024-09-25T10:01:00.773799Z",
     "shell.execute_reply": "2024-09-25T10:01:00.773197Z"
    }
   },
   "outputs": [],
   "source": [
    "def onnx_to_bounded_model(onnx_path, input_shape):\n",
    "    onnx_model = onnx.load(onnx_path)\n",
    "    torch_model = ConvertModel(onnx_model)\n",
    "    \n",
    "    x_concrete = torch.zeros(input_shape)\n",
    "    model = BoundedModule(torch_model, x_concrete)\n",
    "    return model"
   ]
  },
  {
   "cell_type": "code",
   "execution_count": 14,
   "id": "b42ade07de97121a",
   "metadata": {
    "ExecuteTime": {
     "end_time": "2024-08-28T23:30:20.521693Z",
     "start_time": "2024-08-28T23:30:20.519975Z"
    },
    "collapsed": false,
    "execution": {
     "iopub.execute_input": "2024-09-25T10:01:00.776560Z",
     "iopub.status.busy": "2024-09-25T10:01:00.776308Z",
     "iopub.status.idle": "2024-09-25T10:01:00.781179Z",
     "shell.execute_reply": "2024-09-25T10:01:00.780598Z"
    }
   },
   "outputs": [],
   "source": [
    "def load_vnnlib_spec_for_auto_lirpa(vnnlib_path, input_shape, n_out):\n",
    "    n_in = np.prod(input_shape)\n",
    "    res = read_vnnlib_simple(vnnlib_path, n_in, n_out)\n",
    "    bnds, spec = res[0]\n",
    "    \n",
    "    bnds = np.array(bnds)\n",
    "    lbs = bnds[:,0]\n",
    "    ubs = bnds[:,1]\n",
    "    \n",
    "    data_min = torch.tensor(lbs, dtype=data_type).reshape(input_shape)\n",
    "    data_max = torch.tensor(ubs, dtype=data_type).reshape(input_shape)\n",
    "    center = 0.5*(data_min + data_max)\n",
    "\n",
    "    ptb = PerturbationLpNorm(x_L=data_min, x_U=data_max)\n",
    "    x = BoundedTensor(center, ptb)\n",
    "    \n",
    "    return x, center"
   ]
  },
  {
   "cell_type": "code",
   "execution_count": 15,
   "id": "236afc883215fbaf",
   "metadata": {
    "ExecuteTime": {
     "end_time": "2024-08-28T23:30:20.523281Z",
     "start_time": "2024-08-28T23:30:20.522081Z"
    },
    "collapsed": false,
    "execution": {
     "iopub.execute_input": "2024-09-25T10:01:00.783903Z",
     "iopub.status.busy": "2024-09-25T10:01:00.783674Z",
     "iopub.status.idle": "2024-09-25T10:01:00.787069Z",
     "shell.execute_reply": "2024-09-25T10:01:00.786469Z"
    }
   },
   "outputs": [],
   "source": [
    "def get_layers(model):\n",
    "    return [l for l in model.nodes() if l.perturbed and \"input\" in l.name]"
   ]
  },
  {
   "cell_type": "code",
   "execution_count": 16,
   "id": "5e6033fd22f9b945",
   "metadata": {
    "ExecuteTime": {
     "end_time": "2024-08-28T23:30:20.525092Z",
     "start_time": "2024-08-28T23:30:20.523679Z"
    },
    "collapsed": false,
    "execution": {
     "iopub.execute_input": "2024-09-25T10:01:00.789780Z",
     "iopub.status.busy": "2024-09-25T10:01:00.789552Z",
     "iopub.status.idle": "2024-09-25T10:01:00.793287Z",
     "shell.execute_reply": "2024-09-25T10:01:00.792714Z"
    }
   },
   "outputs": [],
   "source": [
    "def get_intermediate_bounds(model):\n",
    "    \"\"\"\n",
    "    Returns a dictionary containing the concrete lower and upper bounds of each layer.\n",
    "    \n",
    "    Implemented own method to filter out bounds for weight matrices.\n",
    "    \n",
    "    Only call this method after compute_bounds()!\n",
    "    \"\"\"\n",
    "    od = OrderedDict()\n",
    "    for l in get_layers(model):\n",
    "        if hasattr(l, 'lower'):\n",
    "            od[l.name] = (l.lower, l.upper)\n",
    "            \n",
    "    return od"
   ]
  },
  {
   "cell_type": "code",
   "execution_count": 17,
   "id": "41468184eb04a1b1",
   "metadata": {
    "ExecuteTime": {
     "end_time": "2024-08-28T23:30:20.527959Z",
     "start_time": "2024-08-28T23:30:20.525420Z"
    },
    "collapsed": false,
    "execution": {
     "iopub.execute_input": "2024-09-25T10:01:00.796021Z",
     "iopub.status.busy": "2024-09-25T10:01:00.795764Z",
     "iopub.status.idle": "2024-09-25T10:01:00.803096Z",
     "shell.execute_reply": "2024-09-25T10:01:00.802509Z"
    }
   },
   "outputs": [],
   "source": [
    "def get_bounds_auto_lirpa(x: BoundedTensor, model: BoundedModule, method=\"crown\"):\n",
    "    model.compute_bounds(x=(x,), method=method, bound_lower=True, bound_upper=True)\n",
    "    bounds_dict_crown = get_intermediate_bounds(model)\n",
    "    crown_bounds_affine_out = []\n",
    "    prev_key = None\n",
    "    for i, key in enumerate(bounds_dict_crown.keys()):\n",
    "        if i == 0 and False: # use this if ibp is used (or i % 2 == 1:), and false since we use auto lirpa 0.5.0\n",
    "            continue\n",
    "        elif method == \"alpha-crown\" and \"59\" in key: # probably not relevant when using auto lirpa 0.5\n",
    "            # todo WTF, why do i need to do this?\n",
    "            lb, ub = bounds_dict_crown[key][0], bounds_dict_crown[prev_key][1]\n",
    "            crown_bounds_affine_out.append([lb.type(data_type).view(-1).to(device), ub.type(data_type).view(-1).to(device)])\n",
    "        else: \n",
    "            lb, ub = bounds_dict_crown[key]\n",
    "            crown_bounds_affine_out.append([lb.type(data_type).view(-1).to(device), ub.type(data_type).view(-1).to(device)])\n",
    "        prev_key = key\n",
    "        \n",
    "    crown_bounds_layer_out = []\n",
    "    relu = torch.nn.ReLU()\n",
    "    for i, (lb, ub) in enumerate(crown_bounds_affine_out):\n",
    "        if i == len(crown_bounds_affine_out) - 1:\n",
    "            crown_bounds_layer_out.append([lb, ub])\n",
    "        else:\n",
    "            lb_layer = relu(lb)\n",
    "            ub_layer = relu(ub)\n",
    "            crown_bounds_layer_out.append([lb_layer, ub_layer])\n",
    "            \n",
    "    return crown_bounds_affine_out, crown_bounds_layer_out"
   ]
  },
  {
   "cell_type": "markdown",
   "id": "d53a434138b1b701",
   "metadata": {
    "collapsed": false
   },
   "source": [
    "# Create new csv"
   ]
  },
  {
   "cell_type": "code",
   "execution_count": 18,
   "id": "2f97d8bc608761dc",
   "metadata": {
    "ExecuteTime": {
     "end_time": "2024-08-28T23:30:20.529949Z",
     "start_time": "2024-08-28T23:30:20.528331Z"
    },
    "collapsed": false,
    "execution": {
     "iopub.execute_input": "2024-09-25T10:01:00.805871Z",
     "iopub.status.busy": "2024-09-25T10:01:00.805643Z",
     "iopub.status.idle": "2024-09-25T10:01:00.810215Z",
     "shell.execute_reply": "2024-09-25T10:01:00.809617Z"
    }
   },
   "outputs": [],
   "source": [
    "def create_csv_file(csv_file_path, settings):\n",
    "    data = [ ['Input name', 'State of optimization', 'time for just solving', \"time overall\", \"was successful?\", \"max distance\"] +  Timings().get_ordering_as_list_of_strings() + [\"settings:\", settings] ]\n",
    "    # File path for the CSV file\n",
    "    if os.path.isfile(csv_file_path):\n",
    "        raise RuntimeError(\"File name {} already exists\".format(csv_file_path))\n",
    "    \n",
    "    # Open the file in write mode\n",
    "    with open(csv_file_path, mode='a+', newline='') as file_obj:\n",
    "        # Create a csv.writer object\n",
    "        writer_object = csv.writer(file_obj)\n",
    "        # Write data to the CSV file\n",
    "        writer_object.writerows(data)\n",
    "     \n",
    "    # Print a confirmation message\n",
    "    print(f\"CSV file '{csv_file_path}' created successfully.\")"
   ]
  },
  {
   "cell_type": "markdown",
   "id": "48adbb225ddba9f",
   "metadata": {
    "collapsed": false
   },
   "source": [
    "### pre verification checks"
   ]
  },
  {
   "cell_type": "code",
   "execution_count": 19,
   "id": "c4e068c1d61a4714",
   "metadata": {
    "ExecuteTime": {
     "end_time": "2024-08-28T23:30:20.531655Z",
     "start_time": "2024-08-28T23:30:20.530288Z"
    },
    "collapsed": false,
    "execution": {
     "iopub.execute_input": "2024-09-25T10:01:00.813020Z",
     "iopub.status.busy": "2024-09-25T10:01:00.812791Z",
     "iopub.status.idle": "2024-09-25T10:01:00.816567Z",
     "shell.execute_reply": "2024-09-25T10:01:00.815928Z"
    }
   },
   "outputs": [],
   "source": [
    "def check_if_image_is_labeled_correctly(nn_model, image, label):\n",
    "    test_image = torch.unsqueeze(image, 0).to(dtype=data_type).to(device)\n",
    "    output = nn_model(test_image)\n",
    "    return torch.argmax(output).item() == label"
   ]
  },
  {
   "cell_type": "code",
   "execution_count": 20,
   "id": "4db18c087bbe41ee",
   "metadata": {
    "ExecuteTime": {
     "end_time": "2024-08-28T23:30:20.533679Z",
     "start_time": "2024-08-28T23:30:20.532015Z"
    },
    "collapsed": false,
    "execution": {
     "iopub.execute_input": "2024-09-25T10:01:00.819397Z",
     "iopub.status.busy": "2024-09-25T10:01:00.819146Z",
     "iopub.status.idle": "2024-09-25T10:01:00.823744Z",
     "shell.execute_reply": "2024-09-25T10:01:00.823172Z"
    }
   },
   "outputs": [],
   "source": [
    "def check_if_auto_lirpa_already_verifies(x, output_size, label, method=\"crown\"):\n",
    "    c_matrix = torch.zeros((1, output_size - 1, output_size))\n",
    "    for i in range(output_size - 1):\n",
    "        if i < label:\n",
    "            index = i\n",
    "        elif i >= label:\n",
    "            index = i + 1\n",
    "        \n",
    "        c_matrix[0][i][index] = 1\n",
    "        c_matrix[0][i][label] = -1\n",
    "    \n",
    "    lb, ub = model.compute_bounds(x=(x,), C=c_matrix, method=method)\n",
    "    \n",
    "    return ub.max() < 0"
   ]
  },
  {
   "cell_type": "markdown",
   "id": "3acab87b527a78c2",
   "metadata": {
    "collapsed": false
   },
   "source": [
    "# Do Verification SNR with MILP in last layer"
   ]
  },
  {
   "cell_type": "code",
   "execution_count": 21,
   "id": "5fa48a5e8cadf1f2",
   "metadata": {
    "collapsed": false,
    "execution": {
     "iopub.execute_input": "2024-09-25T10:01:00.826858Z",
     "iopub.status.busy": "2024-09-25T10:01:00.826444Z",
     "iopub.status.idle": "2024-09-25T10:01:00.839515Z",
     "shell.execute_reply": "2024-09-25T10:01:00.838942Z"
    }
   },
   "outputs": [
    {
     "name": "stdout",
     "output_type": "stream",
     "text": [
      "CSV file 'snv+milp_mnist_9x200_eps_015.csv' created successfully.\n"
     ]
    }
   ],
   "source": [
    "execute_snv = True\n",
    "csv_file_path = \"snv+milp_mnist_9x200_eps_015_refine_1000_only_lp.csv\"\n",
    "\n",
    "crown_method = \"alpha-crown\"\n",
    "tighten_bounds = True\n",
    "time_out = 60*60\n",
    "time_per_neuron_refinement = 1000\n",
    "allow_heuristic_timeout_estimate = True\n",
    "settings = \"crown_method: {}, tighten_bounds: {}, time_out: {}, time_per_neuron_refinement: {}, allow_heuristic_timeout_estimate: {}\".format(crown_method, tighten_bounds, time_out, time_per_neuron_refinement, allow_heuristic_timeout_estimate)\n",
    "create_csv_file(csv_file_path, settings)\n",
    "\n",
    "\n",
    "for num, vnnlib_path in enumerate(sorted(os.listdir(vnnlib_dir_path))): \n",
    "    #break\n",
    "    if (num == 50) or not execute_snv:\n",
    "        break\n",
    "    \n",
    "    print(\"{} ================================================\".format(num))\n",
    "    \n",
    "    full_path = vnnlib_dir_path + \"/\" + vnnlib_path\n",
    "    input_bounds = load_vnnlib_bounds(full_path, [784,], 10)\n",
    "    model = onnx_to_bounded_model(onnx_path, [1,1,1,784])\n",
    "    image, label = training_data[num]\n",
    "    x, center = load_vnnlib_spec_for_auto_lirpa(full_path, [1,1,1,784], 10)\n",
    "    \n",
    "    if not check_if_image_is_labeled_correctly(nn, image, label):\n",
    "        print(\"skipped because wrong classification from the network\")\n",
    "        \n",
    "        new_row = [vnnlib_path, \"wrong classification\"]\n",
    "        with open(csv_file_path, 'a', newline='') as file_obj:\n",
    "            writer_object = csv.writer(file_obj)\n",
    "         \n",
    "            writer_object.writerow(new_row)\n",
    "            file_obj.close()\n",
    "            \n",
    "            \n",
    "        continue\n",
    "    \n",
    "    if check_if_auto_lirpa_already_verifies(x, 10, label, method=crown_method):\n",
    "        print(\"skipped because auto lirpa already verified\")\n",
    "        \n",
    "        new_row = [vnnlib_path, \"lirpa classified\"]\n",
    "        with open(csv_file_path, 'a', newline='') as file_obj:\n",
    "            writer_object = csv.writer(file_obj)\n",
    "         \n",
    "            writer_object.writerow(new_row)\n",
    "            file_obj.close()\n",
    "            \n",
    "        continue\n",
    "    \n",
    "    overall_time = time.time()\n",
    "    # weirdly the box bounds are faster for snr+milp\n",
    "    bounds_affine_out, bounds_layer_out = get_bounds_auto_lirpa(x, model, method=crown_method)\n",
    "    \n",
    "    # we need to pick these parameters, but for the SNR+MILP case these don't matter\n",
    "    sampling_strategy = PerGroupLineSearchSamplingStrategy(center, input_bounds, nn, sample_count=100)\n",
    "    group_size = 20\n",
    "    net_size = [5, 1]\n",
    "    icnn_factory = ICNNFactory(\"logical\", net_size, always_use_logical_layer=False)\n",
    "    \n",
    "    \n",
    "    \n",
    "    dhov_verifier = multidhov.MultiDHOV()\n",
    "    \n",
    "    # block prints\n",
    "    with open(os.devnull, \"w\") as f, contextlib.redirect_stdout(f):\n",
    "        dhov_verifier.start_verification(nn, center, icnn_factory, group_size, input_bounds, sampling_strategy, \n",
    "                                         init_affine_bounds=bounds_affine_out, init_layer_bounds=bounds_layer_out,\n",
    "                                         skip_last_layer=True,\n",
    "                                         tighten_bounds=tighten_bounds, \n",
    "                                         layers_as_snr=[0, 1, 2, 3, 4, 5, 6, 7], \n",
    "                                         layers_as_milp=[8],\n",
    "                                         time_out=time_out,\n",
    "                                         time_per_neuron_refinement=time_per_neuron_refinement,\n",
    "                                         allow_heuristic_timeout_estimate=allow_heuristic_timeout_estimate,)\n",
    "    \n",
    "\n",
    "    \n",
    "    gurobi_params = get_gurobi_params()\n",
    "    with grp.Env(params=gurobi_params) as env, dhov_verifier.nn_encoding_model.copy(env) as dhov_model:\n",
    "        dhov_model.setParam(grp.GRB.Param.Threads, cpu_core_count)\n",
    "        dhov_model.update()\n",
    "        dhov_out_vars = get_output_vars_dhov(dhov_model, output_size, number_layer)\n",
    "\n",
    "        add_output_constraints(dhov_model, dhov_verifier.bounds_layer_out, label, dhov_out_vars)\n",
    "\n",
    "        optimize_model(dhov_model, dhov_out_vars, overall_time, dhov_verifier.timings, verbose=False, csv_to_write_to=csv_file_path, csv_row_name=vnnlib_path)"
   ]
  },
  {
   "cell_type": "markdown",
   "id": "81f784dcbd39453c",
   "metadata": {
    "collapsed": false
   },
   "source": [
    "# Do DHOV Verification"
   ]
  },
  {
   "cell_type": "code",
   "execution_count": 22,
   "id": "f62c64884d022034",
   "metadata": {
    "collapsed": false,
    "execution": {
     "iopub.execute_input": "2024-09-25T10:01:00.842427Z",
     "iopub.status.busy": "2024-09-25T10:01:00.842203Z",
     "iopub.status.idle": "2024-09-26T00:49:45.008340Z",
     "shell.execute_reply": "2024-09-26T00:49:45.007256Z"
    }
   },
   "outputs": [
    {
     "name": "stdout",
     "output_type": "stream",
     "text": [
      "CSV file 'dhov_mnist_9x200_eps_015.csv' created successfully.\n",
      "20 ================================================\n",
      "prop_020_0.015.vnnlib\n"
     ]
    },
    {
     "name": "stderr",
     "output_type": "stream",
     "text": [
      "/root/miniconda3/envs/icnn_env/lib/python3.11/site-packages/vnnlib/compat.py:283: UserWarning: literal negation does not strictly follow SMT-LIB\n",
      "  ast_node = parse_file(vnnlib_filename, strict=False)\n",
      "/root/miniconda3/envs/icnn_env/lib/python3.11/site-packages/onnx2pytorch/convert/model.py:167: TracerWarning: Converting a tensor to a Python boolean might cause the trace to be incorrect. We can't record the data flow of Python values, so this value will be treated as a constant in the future. This means that the trace might not generalize to other inputs!\n",
      "  if not self.experimental and inputs[0].shape[self.batch_dim] > 1:\n"
     ]
    },
    {
     "name": "stdout",
     "output_type": "stream",
     "text": [
      "21 ================================================\n",
      "prop_021_0.015.vnnlib\n"
     ]
    },
    {
     "name": "stdout",
     "output_type": "stream",
     "text": [
      "22 ================================================\n",
      "prop_022_0.015.vnnlib\n"
     ]
    },
    {
     "name": "stdout",
     "output_type": "stream",
     "text": [
      "23 ================================================\n",
      "prop_023_0.015.vnnlib\n"
     ]
    },
    {
     "name": "stdout",
     "output_type": "stream",
     "text": [
      "24 ================================================\n",
      "prop_024_0.015.vnnlib\n"
     ]
    },
    {
     "name": "stdout",
     "output_type": "stream",
     "text": [
      "skipped because wrong classification from the network\n",
      "25 ================================================\n",
      "prop_025_0.015.vnnlib\n"
     ]
    },
    {
     "name": "stdout",
     "output_type": "stream",
     "text": [
      "26 ================================================\n",
      "prop_026_0.015.vnnlib\n"
     ]
    },
    {
     "name": "stdout",
     "output_type": "stream",
     "text": [
      "27 ================================================\n",
      "prop_027_0.015.vnnlib\n"
     ]
    },
    {
     "name": "stdout",
     "output_type": "stream",
     "text": [
      "skipped because auto lirpa already verified\n",
      "28 ================================================\n",
      "prop_028_0.015.vnnlib\n"
     ]
    },
    {
     "name": "stdout",
     "output_type": "stream",
     "text": [
      "29 ================================================\n",
      "prop_029_0.015.vnnlib\n"
     ]
    },
    {
     "name": "stdout",
     "output_type": "stream",
     "text": [
      "skipped because wrong classification from the network\n",
      "30 ================================================\n",
      "prop_030_0.015.vnnlib\n"
     ]
    },
    {
     "name": "stdout",
     "output_type": "stream",
     "text": [
      "31 ================================================\n",
      "prop_031_0.015.vnnlib\n"
     ]
    },
    {
     "name": "stdout",
     "output_type": "stream",
     "text": [
      "32 ================================================\n",
      "prop_032_0.015.vnnlib\n"
     ]
    },
    {
     "name": "stdout",
     "output_type": "stream",
     "text": [
      "33 ================================================\n",
      "prop_033_0.015.vnnlib\n"
     ]
    },
    {
     "name": "stdout",
     "output_type": "stream",
     "text": [
      "34 ================================================\n",
      "prop_034_0.015.vnnlib\n"
     ]
    },
    {
     "name": "stdout",
     "output_type": "stream",
     "text": [
      "35 ================================================\n",
      "prop_035_0.015.vnnlib\n"
     ]
    },
    {
     "name": "stdout",
     "output_type": "stream",
     "text": [
      "36 ================================================\n",
      "prop_036_0.015.vnnlib\n"
     ]
    },
    {
     "name": "stdout",
     "output_type": "stream",
     "text": [
      "37 ================================================\n",
      "prop_037_0.015.vnnlib\n"
     ]
    },
    {
     "name": "stdout",
     "output_type": "stream",
     "text": [
      "skipped because auto lirpa already verified\n",
      "38 ================================================\n",
      "prop_038_0.015.vnnlib\n"
     ]
    },
    {
     "name": "stdout",
     "output_type": "stream",
     "text": [
      "39 ================================================\n",
      "prop_039_0.015.vnnlib\n"
     ]
    },
    {
     "name": "stdout",
     "output_type": "stream",
     "text": [
      "40 ================================================\n",
      "prop_040_0.015.vnnlib\n"
     ]
    },
    {
     "name": "stdout",
     "output_type": "stream",
     "text": [
      "41 ================================================\n",
      "prop_041_0.015.vnnlib\n"
     ]
    },
    {
     "name": "stdout",
     "output_type": "stream",
     "text": [
      "42 ================================================\n",
      "prop_042_0.015.vnnlib\n"
     ]
    },
    {
     "name": "stdout",
     "output_type": "stream",
     "text": [
      "43 ================================================\n",
      "prop_043_0.015.vnnlib\n"
     ]
    },
    {
     "name": "stdout",
     "output_type": "stream",
     "text": [
      "44 ================================================\n",
      "prop_044_0.015.vnnlib\n"
     ]
    },
    {
     "name": "stdout",
     "output_type": "stream",
     "text": [
      "45 ================================================\n",
      "prop_045_0.015.vnnlib\n"
     ]
    },
    {
     "name": "stdout",
     "output_type": "stream",
     "text": [
      "46 ================================================\n",
      "prop_046_0.015.vnnlib\n"
     ]
    },
    {
     "name": "stdout",
     "output_type": "stream",
     "text": [
      "47 ================================================\n",
      "prop_047_0.015.vnnlib\n"
     ]
    },
    {
     "name": "stdout",
     "output_type": "stream",
     "text": [
      "48 ================================================\n",
      "prop_048_0.015.vnnlib\n"
     ]
    },
    {
     "name": "stdout",
     "output_type": "stream",
     "text": [
      "skipped because wrong classification from the network\n",
      "49 ================================================\n",
      "prop_049_0.015.vnnlib\n"
     ]
    }
   ],
   "source": [
    "execute_dhov = False\n",
    "csv_file_path = \"dhov_mnist_9x200_eps_015_refine_1000.csv\"\n",
    "\n",
    "\n",
    "group_size = 20\n",
    "sample_count = 3000\n",
    "crown_method = \"alpha-crown\"\n",
    "tighten_bounds = True\n",
    "time_out = 60*60\n",
    "time_per_neuron_refinement = 1000 #10\n",
    "time_per_icnn_refinement = 50\n",
    "allow_heuristic_timeout_estimate = True\n",
    "epochs = 200\n",
    "\n",
    "settings = \"group_size: {}, sample_count: {}, crown_method: {}, tighten_bounds: {}, time_out: {}, time_per_neuron_refinement: {}, time_per_icnn_refinement: {}, allow_heuristic_timeout_estimate: {}, epochs: {}\".format(\n",
    "    group_size, sample_count, crown_method, tighten_bounds, time_out, time_per_neuron_refinement, time_per_icnn_refinement, allow_heuristic_timeout_estimate, epochs)\n",
    "\n",
    "create_csv_file(csv_file_path, settings)\n",
    "for num, vnnlib_path in enumerate(sorted(os.listdir(vnnlib_dir_path))):\n",
    "    \n",
    "    #if int(vnnlib_path.split(\"_\")[1]) < 20:\n",
    "    #    continue\n",
    "    if (num == 50) or not execute_dhov:\n",
    "        break\n",
    "        \n",
    "    print(\"{} ================================================\".format(num))\n",
    "    print(\"{}\".format(vnnlib_path))\n",
    "    \n",
    "    full_path = vnnlib_dir_path + \"/\" + vnnlib_path\n",
    "    input_bounds = load_vnnlib_bounds(full_path, [784,], 10)\n",
    "    model = onnx_to_bounded_model(onnx_path, [1,1,1,784])\n",
    "    image, label = training_data[num]\n",
    "    x, center = load_vnnlib_spec_for_auto_lirpa(full_path, [1,1,1,784], 10)\n",
    "    \n",
    "    if not check_if_image_is_labeled_correctly(nn, image, label):\n",
    "        print(\"skipped because wrong classification from the network\")\n",
    "        \n",
    "        new_row = [vnnlib_path, \"wrong classification\"]\n",
    "        with open(csv_file_path, 'a', newline='') as file_obj:\n",
    "            writer_object = csv.writer(file_obj)\n",
    "         \n",
    "            writer_object.writerow(new_row)\n",
    "            file_obj.close()\n",
    "            \n",
    "            \n",
    "        continue\n",
    "    \n",
    "    if check_if_auto_lirpa_already_verifies(x, 10, label, method=crown_method):\n",
    "        print(\"skipped because auto lirpa already verified\")\n",
    "        \n",
    "        new_row = [vnnlib_path, \"lirpa classified\"]\n",
    "        with open(csv_file_path, 'a', newline='') as file_obj:\n",
    "            writer_object = csv.writer(file_obj)\n",
    "         \n",
    "            writer_object.writerow(new_row)\n",
    "            file_obj.close()\n",
    "            \n",
    "        continue\n",
    "    \n",
    "    overall_time = time.time()\n",
    "    \n",
    "    bounds_affine_out, bounds_layer_out = get_bounds_auto_lirpa(x, model, method=crown_method)\n",
    "    sampling_strategy = PerGroupLineSearchSamplingStrategy(center, input_bounds, nn, sample_count=sample_count)\n",
    "    net_size = [5, 1]\n",
    "    #icnn_factory = ICNNFactory(\"approx_max\", net_size, maximum_function=\"SMU\", function_parameter=0.3)\n",
    "    icnn_factory = ICNNFactory(\"logical\", net_size, always_use_logical_layer=False)\n",
    "    #icnn_factory = ICNNFactory(\"standard\", net_size, adapt_layer_for_init=True)\n",
    "    \n",
    "    \n",
    "    dhov_verifier = multidhov.MultiDHOV()\n",
    "    with open(os.devnull, \"w\") as f, contextlib.redirect_stdout(f):\n",
    "            return_without_time_out = dhov_verifier.start_verification(nn, center, icnn_factory, group_size, input_bounds, sampling_strategy, \n",
    "                                                                    init_affine_bounds=bounds_affine_out, \n",
    "                                                                    init_layer_bounds=bounds_layer_out, \n",
    "                                                                    skip_last_layer=True,\n",
    "                                                                    icnn_epochs=epochs, \n",
    "                                                                    icnn_batch_size=10000, \n",
    "                                                                    use_over_approximation=True, \n",
    "                                                                    tighten_bounds=tighten_bounds, \n",
    "                                                                    use_fixed_neurons_in_grouping=False, \n",
    "                                                                    layers_as_snr=[], \n",
    "                                                                    layers_as_milp=[8], \n",
    "                                                                    force_inclusion_steps=3, \n",
    "                                                                    preemptive_stop=True, \n",
    "                                                                    grouping_method=\"consecutive\", \n",
    "                                                                    group_num_multiplier=None,\n",
    "                                                                    optimizer=\"SdLBFGS\", \n",
    "                                                                    init_network=True, \n",
    "                                                                    adapt_lambda=\"included\",\n",
    "                                                                    encode_icnn_enlargement_as_lp=False, \n",
    "                                                                    encode_relu_enlargement_as_lp=False,\n",
    "                                                                    time_out=time_out,\n",
    "                                                                    time_per_neuron_refinement=time_per_neuron_refinement,\n",
    "                                                                    time_per_icnn_refinement=time_per_icnn_refinement,\n",
    "                                                                    allow_heuristic_timeout_estimate=allow_heuristic_timeout_estimate,\n",
    "                                                                    break_after=None, print_training_loss=False, print_new_bounds=False, store_samples=False, print_optimization_steps=False, print_last_loss=False)\n",
    "    \n",
    "    if not return_without_time_out:\n",
    "        new_row = [vnnlib_path, \"time_out of DHOV\", \"-\", time.time() - overall_time, False, \"-\"] +  dhov_verifier.timings.get_all_results(do_round=True)\n",
    "        with open(csv_file_path, 'a', newline='') as file_obj:\n",
    "            writer_object = csv.writer(file_obj)\n",
    "         \n",
    "            writer_object.writerow(new_row)\n",
    "            file_obj.close()\n",
    "        continue\n",
    "        \n",
    "    gurobi_params = get_gurobi_params()\n",
    "    with grp.Env(params=gurobi_params) as env, dhov_verifier.nn_encoding_model.copy(env) as dhov_model:\n",
    "        dhov_model.setParam(grp.GRB.Param.Threads, cpu_core_count)\n",
    "        dhov_model.update()\n",
    "        dhov_out_vars = get_output_vars_dhov(dhov_model, output_size, number_layer)\n",
    "\n",
    "        add_output_constraints(dhov_model, dhov_verifier.bounds_layer_out, label, dhov_out_vars)\n",
    "\n",
    "        optimize_model(dhov_model, dhov_out_vars, overall_time, dhov_verifier.timings, verbose=False, csv_to_write_to=csv_file_path, csv_row_name=vnnlib_path)\n"
   ]
  },
  {
   "cell_type": "code",
   "execution_count": 23,
   "id": "a444d3433f05a154",
   "metadata": {
    "ExecuteTime": {
     "end_time": "2024-08-28T23:35:33.746867Z",
     "start_time": "2024-08-28T23:35:33.746820Z"
    },
    "collapsed": false,
    "execution": {
     "iopub.execute_input": "2024-09-26T00:49:45.012063Z",
     "iopub.status.busy": "2024-09-26T00:49:45.011784Z",
     "iopub.status.idle": "2024-09-26T00:49:45.016514Z",
     "shell.execute_reply": "2024-09-26T00:49:45.015727Z"
    }
   },
   "outputs": [
    {
     "name": "stdout",
     "output_type": "stream",
     "text": [
      "done\n"
     ]
    }
   ],
   "source": [
    "print(\"done\")"
   ]
  },
  {
   "cell_type": "code",
   "execution_count": null,
   "id": "920b00f2012e88a3",
   "metadata": {
    "collapsed": false
   },
   "outputs": [],
   "source": []
  }
 ],
 "metadata": {
  "kernelspec": {
   "display_name": "Python 3",
   "language": "python",
   "name": "python3"
  },
  "language_info": {
   "codemirror_mode": {
    "name": "ipython",
    "version": 3
   },
   "file_extension": ".py",
   "mimetype": "text/x-python",
   "name": "python",
   "nbconvert_exporter": "python",
   "pygments_lexer": "ipython3",
   "version": "3.11.9"
  }
 },
 "nbformat": 4,
 "nbformat_minor": 5
}
