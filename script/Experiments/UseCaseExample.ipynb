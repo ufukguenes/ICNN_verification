{
 "cells": [
  {
   "cell_type": "code",
   "execution_count": 1,
   "metadata": {
    "collapsed": true,
    "pycharm": {
     "name": "#%%\n"
    },
    "ExecuteTime": {
     "end_time": "2024-02-22T19:23:21.513108841Z",
     "start_time": "2024-02-22T19:23:20.352890308Z"
    }
   },
   "outputs": [],
   "source": [
    "import torch\n",
    "import time\n",
    "from script.NeuralNets.Networks import SequentialNN\n",
    "from script.settings import device, data_type\n",
    "import script.DHOV.MultiDHOV as multidhov\n",
    "from script.Verification.Verifier import SingleNeuronVerifier, MILPVerifier\n",
    "import gurobipy as grp\n",
    "from torchvision.datasets import MNIST\n",
    "from torchvision.transforms import Compose, ToTensor, Normalize\n",
    "from script.NeuralNets.ICNNFactory import ICNNFactory\n",
    "import matplotlib.pyplot as plt"
   ]
  },
  {
   "cell_type": "markdown",
   "source": [
    "# Import the Feedforward-NN\n",
    "It has to bee a SequentialNN"
   ],
   "metadata": {
    "collapsed": false
   }
  },
  {
   "cell_type": "code",
   "execution_count": 2,
   "outputs": [
    {
     "data": {
      "text/plain": "'\\nnn = SequentialNN([28 * 28 * 1, 256, 256, 256, 256, 10])\\nnn.load_state_dict(torch.load(\"../../mnist_fc 4x256.pth\", map_location=torch.device(\\'cpu\\')), strict=False)\\n'"
     },
     "execution_count": 2,
     "metadata": {},
     "output_type": "execute_result"
    }
   ],
   "source": [
    "\n",
    "nn = SequentialNN([28 * 28 * 1, 100, 30, 10])\n",
    "nn.load_state_dict(torch.load(\"../../mnist_fc.pth\", map_location=torch.device('cpu')), strict=False)\n",
    "\n",
    "\n",
    "\"\"\"\n",
    "nn = SequentialNN([28 * 28 * 1, 256, 256, 256, 256, 256, 256, 10])\n",
    "nn.load_state_dict(torch.load(\"../../mnist_fc_6x256.pth\", map_location=torch.device('cpu')), strict=False)\n",
    "\"\"\"\n",
    "\n",
    "\"\"\"\n",
    "nn = SequentialNN([28 * 28 * 1, 256, 256, 256, 256, 10])\n",
    "nn.load_state_dict(torch.load(\"../../mnist_fc 4x256.pth\", map_location=torch.device('cpu')), strict=False)\n",
    "\"\"\"\n"
   ],
   "metadata": {
    "collapsed": false,
    "ExecuteTime": {
     "end_time": "2024-02-22T19:23:21.522498034Z",
     "start_time": "2024-02-22T19:23:21.513287890Z"
    }
   }
  },
  {
   "cell_type": "code",
   "execution_count": 3,
   "outputs": [],
   "source": [
    "parameter_list = list(nn.parameters())\n",
    "output_size = 10\n",
    "number_layer = (len(parameter_list) - 2) // 2"
   ],
   "metadata": {
    "collapsed": false,
    "pycharm": {
     "name": "#%%\n"
    },
    "ExecuteTime": {
     "end_time": "2024-02-22T19:23:21.523338720Z",
     "start_time": "2024-02-22T19:23:21.519268047Z"
    }
   }
  },
  {
   "cell_type": "markdown",
   "source": [
    "# Load the data to apply the verification process for"
   ],
   "metadata": {
    "collapsed": false
   }
  },
  {
   "cell_type": "code",
   "execution_count": 4,
   "outputs": [],
   "source": [
    "def imshow(img):\n",
    "    img = img / 2 + .05  # revert normalization for viewing\n",
    "    npimg = img.to(\"cpu\").numpy()\n",
    "    plt.imshow(npimg, cmap=\"gray\")\n",
    "    plt.show()"
   ],
   "metadata": {
    "collapsed": false,
    "ExecuteTime": {
     "end_time": "2024-02-22T19:23:21.747963172Z",
     "start_time": "2024-02-22T19:23:21.744199148Z"
    }
   }
  },
  {
   "cell_type": "code",
   "execution_count": 5,
   "outputs": [],
   "source": [
    "transform = Compose([ToTensor(),  Normalize(0.5, 0.5)])\n",
    "training_data = MNIST(root=\"../../mnist\", train=True, download=True, transform=transform)"
   ],
   "metadata": {
    "collapsed": false,
    "ExecuteTime": {
     "end_time": "2024-02-22T19:23:22.187925823Z",
     "start_time": "2024-02-22T19:23:22.152045795Z"
    }
   }
  },
  {
   "cell_type": "markdown",
   "source": [
    "# Settings for the optimization "
   ],
   "metadata": {
    "collapsed": false
   }
  },
  {
   "cell_type": "code",
   "execution_count": 6,
   "outputs": [
    {
     "data": {
      "text/plain": "<Figure size 640x480 with 1 Axes>",
      "image/png": "[encoded data removed]"
     },
     "metadata": {},
     "output_type": "display_data"
    },
    {
     "name": "stdout",
     "output_type": "stream",
     "text": [
      "The label is 6\n",
      "NN classifies image correctly as 6\n"
     ]
    }
   ],
   "source": [
    "# image to do the verification for\n",
    "image_index = 18\n",
    "\n",
    "# epsilon radius\n",
    "eps = 0.01\n",
    "\n",
    "# whether a verification attempt should be done using just MILP encoding for comparison (can take long)\n",
    "use_milp = False\n",
    "\n",
    "image, label = training_data[image_index]\n",
    "torch_image = torch.unsqueeze(image, 0).to(dtype=data_type).to(device)\n",
    "imshow(torch_image[0][0])\n",
    "print(f\"The label is {label}\")\n",
    "\n",
    "if torch.argmax(nn(torch_image)).item() == label:\n",
    "    print(\"NN classifies image correctly as {}\".format(label))\n",
    "else:\n",
    "    print(\"NN classifies image wrong\")\n"
   ],
   "metadata": {
    "collapsed": false,
    "ExecuteTime": {
     "end_time": "2024-02-22T19:23:22.971166016Z",
     "start_time": "2024-02-22T19:23:22.907790157Z"
    }
   }
  },
  {
   "cell_type": "markdown",
   "source": [
    "# Add the objective to the optimization problem\n",
    "in this case we want to find the maximum difference between any one neuron and the target neuron (label)"
   ],
   "metadata": {
    "collapsed": false
   }
  },
  {
   "cell_type": "code",
   "execution_count": 7,
   "outputs": [],
   "source": [
    "def add_output_constraints(model, nn_layer_out_bounds, label, output_vars, sovler_bound=1e-3):\n",
    "    \"\"\"\n",
    "    \n",
    "    :param model: the optimization problem in gurobi encoding the NN\n",
    "    :param nn_layer_out_bounds: torch.Tensor, approximating the upper and lower bounding the output layer of the NN\n",
    "    :param label: index of the label or target neuron which is compared against\n",
    "    :param output_vars: the gurobi variables from the model of the NN describing the output neurons of the NN\n",
    "    :param sovler_bound: provides a bound for the gurobi solver. If this bound is achieved, the optimizer stops\n",
    "    \"\"\"\n",
    "    \n",
    "    out_lb = nn_layer_out_bounds[-1][0]\n",
    "    out_ub = nn_layer_out_bounds[-1][1]\n",
    "    \n",
    "    difference_lb = out_lb - out_ub[label]\n",
    "    difference_ub = out_ub - out_lb[label]\n",
    "    difference_lb = difference_lb.tolist()\n",
    "    difference_ub = difference_ub.tolist()\n",
    "    \n",
    "    difference_lb.pop(label)\n",
    "    difference_ub.pop(label)\n",
    "    \n",
    "    min_diff = min(difference_lb)\n",
    "    max_diff = max(difference_ub)\n",
    "    \n",
    "    difference = model.addVars(9, lb=difference_lb, ub=difference_ub, name=\"diff_var\")\n",
    "    model.addConstrs((difference[i] == output_vars.tolist()[i] - output_vars.tolist()[label] for i in range(0, label)), name=\"diff_const0\")\n",
    "    model.addConstrs((difference[i - 1] == output_vars.tolist()[i] - output_vars.tolist()[label] for i in range(label + 1, 10)), name=\"diff_const1\")\n",
    "\n",
    "    max_var = model.addVar(lb=min_diff, ub=max_diff, name=\"max_var\")\n",
    "    model.addConstr(max_var == grp.max_(difference))\n",
    "\n",
    "    if sovler_bound != None:\n",
    "        model.setParam(\"BestObjStop\", sovler_bound)\n",
    "\n",
    "    model.update()\n",
    "    model.setObjective(max_var, grp.GRB.MAXIMIZE)"
   ],
   "metadata": {
    "collapsed": false,
    "ExecuteTime": {
     "end_time": "2024-02-22T19:23:24.064192445Z",
     "start_time": "2024-02-22T19:23:24.059623813Z"
    }
   }
  },
  {
   "cell_type": "markdown",
   "source": [
    "# Get the output variables by name \n",
    "given the gurobi model, the output size of the NN and the index of output layer"
   ],
   "metadata": {
    "collapsed": false
   }
  },
  {
   "cell_type": "code",
   "execution_count": 8,
   "outputs": [],
   "source": [
    "def get_output_vars_snv_milp(model, output_size, output_layer_index):\n",
    "    output_vars = []\n",
    "    for i in range(output_size):\n",
    "        output_vars.append(model.getVarByName(\"affine_var{}[{}]\".format(output_layer_index, i)))\n",
    "    output_vars = grp.MVar.fromlist(output_vars)\n",
    "    return output_vars"
   ],
   "metadata": {
    "collapsed": false,
    "ExecuteTime": {
     "end_time": "2024-02-22T19:23:24.915001310Z",
     "start_time": "2024-02-22T19:23:24.911905843Z"
    }
   }
  },
  {
   "cell_type": "code",
   "execution_count": 9,
   "outputs": [],
   "source": [
    "def get_output_vars_dhov(model, output_size, output_layer_index):\n",
    "    output_vars = []\n",
    "    for i in range(output_size):\n",
    "        output_vars.append(model.getVarByName(\"output_layer_[{}]_[{}]\".format(output_layer_index, i)))\n",
    "    output_vars = grp.MVar.fromlist(output_vars)\n",
    "    return output_vars"
   ],
   "metadata": {
    "collapsed": false,
    "ExecuteTime": {
     "end_time": "2024-02-22T19:23:25.126421554Z",
     "start_time": "2024-02-22T19:23:25.120017660Z"
    }
   }
  },
  {
   "cell_type": "markdown",
   "source": [
    "# Defining function to call Gurobi optimizer"
   ],
   "metadata": {
    "collapsed": false
   }
  },
  {
   "cell_type": "code",
   "execution_count": 10,
   "outputs": [],
   "source": [
    "def optimize_model(model, output_vars):\n",
    "    \"\"\"\n",
    "    \n",
    "    :param model: the optimization problem in gurobi encoding the NN and the objective \n",
    "    :param output_vars: the gurobi variables from the model of the NN describing the output neurons of the NN\n",
    "    :return True if verification was successful, else false \n",
    "    \"\"\"\n",
    "    \n",
    "    start = time.time()\n",
    "    model.update()\n",
    "    model.optimize()\n",
    "    \n",
    "    if model.Status == grp.GRB.OPTIMAL or model.Status == grp.GRB.USER_OBJ_LIMIT:\n",
    "        \n",
    "        for i, var in enumerate(output_vars.tolist()):\n",
    "            print(\"var {}: {}\".format(i, var.getAttr(\"x\")))\n",
    "        max_var = model.getVarByName(\"max_var\").getAttr(\"x\")\n",
    "        \n",
    "        if max_var < 0:\n",
    "            print(\"property verified with max difference {}\".format(max_var))\n",
    "            return True\n",
    "        else:\n",
    "             print(\"property NOT verified with max difference {}\".format(max_var))\n",
    "             return False\n",
    "\n",
    "    elif model.Status == grp.GRB.INFEASIBLE:\n",
    "        print(\"model infeasible\")\n",
    "\n",
    "        model.computeIIS()\n",
    "        print(\"constraint\")\n",
    "        all_constr = model.getConstrs()\n",
    "\n",
    "        for const in all_constr:\n",
    "            if const.IISConstr:\n",
    "                print(\"{}\".format(const))\n",
    "\n",
    "        print(\"lower bound\")\n",
    "        all_var = model.getVars()\n",
    "        for var in all_var:\n",
    "            if var.IISLB:\n",
    "                print(\"{}, lb: {}, ub: {}\".format(var, var.getAttr(\"lb\"), var.getAttr(\"ub\")))\n",
    "\n",
    "        print(\"upper bound\")\n",
    "        all_var = model.getVars()\n",
    "        for var in all_var:\n",
    "            if var.IISUB:\n",
    "                print(\"{}, lb: {}, ub: {}\".format(var, var.getAttr(\"lb\"), var.getAttr(\"ub\")))\n",
    "\n",
    "    print(\"time to optimize: {}\".format(time.time() - start))\n",
    "    return False"
   ],
   "metadata": {
    "collapsed": false,
    "ExecuteTime": {
     "end_time": "2024-02-22T19:23:25.717121909Z",
     "start_time": "2024-02-22T19:23:25.714850158Z"
    }
   }
  },
  {
   "cell_type": "markdown",
   "source": [
    "# Calculate box-bounds to provide a rough approximation of NN"
   ],
   "metadata": {
    "collapsed": false
   }
  },
  {
   "cell_type": "code",
   "execution_count": 11,
   "outputs": [
    {
     "name": "stdout",
     "output_type": "stream",
     "text": [
      "[-5.477348126706071, -7.216076099388593, -6.285018169964168, -7.415668461174097, -8.054443483887432, -4.7875797099178214, -1.1076350862125812, -11.812239661344467, -6.835572317900799, -7.659874340703596]\n",
      "[5.841591590613943, 4.990913790180329, 6.691910479448406, 5.323376278516484, 5.942281549316645, 9.522920934119444, 10.692960907923627, 0.8866299674082754, 7.305939813246016, 5.891986807185678]\n"
     ]
    }
   ],
   "source": [
    "input_flattened = torch.flatten(torch_image)\n",
    "simple_bounds_affine_out, simple_bounds_layer_out = nn.calculate_box_bounds([input_flattened.add(-eps), input_flattened.add(eps)])\n",
    "print(simple_bounds_affine_out[-1][0].tolist())\n",
    "print(simple_bounds_affine_out[-1][1].tolist())\n"
   ],
   "metadata": {
    "collapsed": false,
    "ExecuteTime": {
     "end_time": "2024-02-22T19:23:26.090731642Z",
     "start_time": "2024-02-22T19:23:26.087477954Z"
    }
   }
  },
  {
   "cell_type": "markdown",
   "source": [
    "# Do Single-Neuron-Verification"
   ],
   "metadata": {
    "collapsed": false
   }
  },
  {
   "cell_type": "code",
   "execution_count": 12,
   "outputs": [
    {
     "name": "stdout",
     "output_type": "stream",
     "text": [
      "Restricted license - for non-production use only - expires 2025-11-24\n",
      "================ layer 0 ===============\n",
      "================ layer 1 ===============\n",
      "        0, lower: new 1.7780102316626705, old 0.7785229410209529\n",
      "        0, upper: new 2.38061044475747, old 3.382789763165622\n",
      "        1, lower: new 0.9051970207948512, old 0.0703350453951872\n",
      "        1, upper: new 1.3938053715562926, old 2.231393805514451\n",
      "        2, lower: new 1.2094718141617322, old 0.40049262989614665\n",
      "        2, upper: new 1.6868132216227312, old 2.502158267327797\n",
      "        3, lower: new -0.795149786619982, old -1.4328397004662712\n",
      "        3, upper: new -0.5075737257378682, old 0.12215092190128374\n",
      "        4, lower: new 2.585093079626704, old 1.586515229174677\n",
      "        4, upper: new 3.2116858597195392, old 4.234114368677177\n",
      "        5, lower: new 0.20426820929029266, old -0.6642235278820858\n",
      "        5, upper: new 0.6634894025427365, old 1.5202342137261766\n",
      "        6, lower: new -0.8223003511265674, old -1.8111264454916753\n",
      "        6, upper: new -0.31977204140426124, old 0.6799065085948137\n",
      "        7, lower: new 3.5147945052730636, old 2.7779878250458494\n",
      "        7, upper: new 3.912924715769118, old 4.621459870051833\n",
      "        8, lower: new 1.6221361846805928, old 0.7271255992457788\n",
      "        8, upper: new 2.193957735729724, old 3.1183422804063925\n",
      "        9, lower: new 3.6048511974692006, old 2.828873600144389\n",
      "        9, upper: new 4.094870054533665, old 4.843878532919622\n",
      "        10, lower: new 1.9007727261007796, old 1.021455198408276\n",
      "        10, upper: new 2.4524409446437136, old 3.3229021150478926\n",
      "        11, lower: new 3.9289288356548244, old 3.004327254546721\n",
      "        11, upper: new 4.354007048714583, old 5.264579130565316\n",
      "        12, lower: new -0.18166282231802555, old -0.8402065439441988\n",
      "        12, upper: new 0.23464166071535672, old 0.9410888370268542\n",
      "        13, lower: new -1.0107665471004372, old -1.5772229940386036\n",
      "        13, upper: new -0.7964381471234451, old -0.26110828475334413\n",
      "        14, lower: new -1.2120449254086612, old -1.7374722355369334\n",
      "        14, upper: new -1.0069516359742423, old -0.4777702332961429\n",
      "        15, lower: new 1.7149206507116608, old 0.7168563259848098\n",
      "        15, upper: new 2.328113963010318, old 3.3460030215781096\n",
      "        16, lower: new -0.32676483102330417, old -1.3466281061385361\n",
      "        16, upper: new 0.3213816861763531, old 1.3264549630147764\n",
      "        17, lower: new 3.3176668138195167, old 2.483986136410789\n",
      "        17, upper: new 3.8222407856496767, old 4.669690704054892\n",
      "        18, lower: new -0.6940209720539241, old -1.1769828632608244\n",
      "        18, upper: new -0.5139209711018575, old -0.03589110394353079\n",
      "        19, lower: new 2.8701258571739428, old 2.059208043844583\n",
      "        19, upper: new 3.4391907296504765, old 4.264074474172203\n",
      "        20, lower: new 0.6874233912661388, old -0.028851575795079576\n",
      "        20, upper: new 1.0376824092369534, old 1.7366226242785188\n",
      "        21, lower: new 1.397175024746441, old 0.5847377057150709\n",
      "        21, upper: new 1.909030697857063, old 2.7388399554985217\n",
      "        22, lower: new 0.12186076675362705, old -0.7147575826773438\n",
      "        22, upper: new 0.5488734317509504, old 1.408961772169559\n",
      "        23, lower: new 1.1783143778915974, old 0.24936455428312332\n",
      "        23, upper: new 1.767545476428509, old 2.7247308359553744\n",
      "        24, lower: new 1.4752447831235305, old 0.5208819469974548\n",
      "        24, upper: new 2.0952352808210413, old 3.108781020499725\n",
      "        25, lower: new -0.0009331196026046791, old -0.4616984971104068\n",
      "        25, upper: new 0.18376947668487637, old 0.6460902451002379\n",
      "        26, lower: new 4.515285855710418, old 3.6809873263416346\n",
      "        26, upper: new 4.936922999813444, old 5.769219396986701\n",
      "        27, lower: new 0.36490972321719767, old -0.625446146125876\n",
      "        27, upper: new 1.1336523806245733, old 2.169132823826658\n",
      "        28, lower: new -0.5776387050778758, old -1.2670079979341398\n",
      "        28, upper: new -0.2567112320041859, old 0.4219054610327406\n",
      "        29, lower: new 1.7405871128139325, old 0.8600992114483796\n",
      "        29, upper: new 2.210412986573947, old 3.0750171330343834\n",
      "constraint generation time: 0.15224051475524902\n",
      "start with optimization\n",
      "var 0: -0.14538712942219423\n",
      "var 1: -1.0398421825299602\n",
      "var 2: -0.7880234805471327\n",
      "var 3: -1.2125746275710982\n",
      "var 4: -1.177885587232013\n",
      "var 5: 3.3844989445228366\n",
      "var 6: 4.81691031299155\n",
      "var 7: -5.714534928550147\n",
      "var 8: 0.6177764011580624\n",
      "var 9: -0.7809588177352795\n",
      "property verified with max difference -1.4324113684687134\n"
     ]
    },
    {
     "data": {
      "text/plain": "True"
     },
     "execution_count": 12,
     "metadata": {},
     "output_type": "execute_result"
    }
   ],
   "source": [
    "t = time.time()\n",
    "\n",
    "# define the Verifier\n",
    "snv_verifier = SingleNeuronVerifier(nn, torch_image, eps, print_log=False, print_new_bounds=True, optimize_bounds=True)\n",
    "\n",
    "# generate the constraints\n",
    "snv_verifier.generate_constraints_for_net()\n",
    "snv_model = snv_verifier.model\n",
    "snv_model.update()\n",
    "\n",
    "# add the objective to the gurobi model\n",
    "snv_out_vars = get_output_vars_snv_milp(snv_model, output_size, number_layer * 2)\n",
    "add_output_constraints(snv_model, simple_bounds_layer_out, label, snv_out_vars, sovler_bound=None)\n",
    "print(\"constraint generation time: {}\".format(time.time() - t))\n",
    "\n",
    "print(\"start with optimization\")\n",
    "optimize_model(snv_model, snv_out_vars)"
   ],
   "metadata": {
    "collapsed": false,
    "pycharm": {
     "name": "#%%\n"
    },
    "ExecuteTime": {
     "end_time": "2024-02-22T19:23:27.018106084Z",
     "start_time": "2024-02-22T19:23:26.761073271Z"
    }
   }
  },
  {
   "cell_type": "markdown",
   "source": [
    "# Do MILP-Verification if wanted"
   ],
   "metadata": {
    "collapsed": false
   }
  },
  {
   "cell_type": "code",
   "execution_count": 13,
   "outputs": [],
   "source": [
    "if use_milp:\n",
    "    # define the Verifier\n",
    "    milp_verifier = MILPVerifier(nn, torch_image, eps, print_log=False)\n",
    "    \n",
    "    # generate the constraints\n",
    "    milp_verifier.generate_constraints_for_net()\n",
    "    milp_model = milp_verifier.model\n",
    "    milp_model.update()\n",
    "    \n",
    "    # add the objective to the gurobi model\n",
    "    milp_out_vars = get_output_vars_snv_milp(milp_model, output_size, number_layer * 2)\n",
    "    add_output_constraints(milp_model, simple_bounds_layer_out, label, milp_out_vars)\n",
    "    \n",
    "    print(\"start with optimization\")\n",
    "    optimize_model(milp_model, milp_out_vars)"
   ],
   "metadata": {
    "collapsed": false,
    "pycharm": {
     "name": "#%%\n"
    },
    "ExecuteTime": {
     "end_time": "2024-02-22T19:23:27.810375161Z",
     "start_time": "2024-02-22T19:23:27.807862281Z"
    }
   }
  },
  {
   "cell_type": "markdown",
   "source": [
    "# Attempt verification using DHOV\n",
    "See MultiDHOV.py and ICNNFactory.py for detailed documentation about the parameters"
   ],
   "metadata": {
    "collapsed": false
   }
  },
  {
   "cell_type": "code",
   "execution_count": 20,
   "outputs": [
    {
     "name": "stdout",
     "output_type": "stream",
     "text": [
      "\n",
      "approximation of layer: 0\n",
      "    number of fixed neurons for current layer: 88\n",
      "        overall time for feasible test: 1.8384065628051758\n",
      "        time for only feasible points: 0\n",
      "    layer progress, group 1 of 1 \n"
     ]
    },
    {
     "ename": "RuntimeError",
     "evalue": "cannot reshape tensor of 0 elements into shape [0, -1] because the unspecified dimension size -1 can be any value and is ambiguous",
     "output_type": "error",
     "traceback": [
      "\u001B[0;31m---------------------------------------------------------------------------\u001B[0m",
      "\u001B[0;31mRuntimeError\u001B[0m                              Traceback (most recent call last)",
      "Cell \u001B[0;32mIn[20], line 23\u001B[0m\n\u001B[1;32m     21\u001B[0m overall_time \u001B[38;5;241m=\u001B[39m time\u001B[38;5;241m.\u001B[39mtime()\n\u001B[1;32m     22\u001B[0m dhov_verifier \u001B[38;5;241m=\u001B[39m multidhov\u001B[38;5;241m.\u001B[39mMultiDHOV()\n\u001B[0;32m---> 23\u001B[0m \u001B[43mdhov_verifier\u001B[49m\u001B[38;5;241;43m.\u001B[39;49m\u001B[43mstart_verification\u001B[49m\u001B[43m(\u001B[49m\u001B[43mnn\u001B[49m\u001B[43m,\u001B[49m\u001B[43m \u001B[49m\u001B[43mtorch_image\u001B[49m\u001B[43m,\u001B[49m\u001B[43m \u001B[49m\u001B[43micnn_factory\u001B[49m\u001B[43m,\u001B[49m\u001B[43m \u001B[49m\u001B[43mgroup_size\u001B[49m\u001B[43m,\u001B[49m\u001B[43m \u001B[49m\u001B[43meps\u001B[49m\u001B[38;5;241;43m=\u001B[39;49m\u001B[43meps\u001B[49m\u001B[43m,\u001B[49m\u001B[43m \u001B[49m\u001B[43micnn_epochs\u001B[49m\u001B[38;5;241;43m=\u001B[39;49m\u001B[38;5;241;43m200\u001B[39;49m\u001B[43m,\u001B[49m\n\u001B[1;32m     24\u001B[0m \u001B[43m                                 \u001B[49m\u001B[43micnn_batch_size\u001B[49m\u001B[38;5;241;43m=\u001B[39;49m\u001B[38;5;241;43m10000\u001B[39;49m\u001B[43m,\u001B[49m\u001B[43m \u001B[49m\u001B[43muse_over_approximation\u001B[49m\u001B[38;5;241;43m=\u001B[39;49m\u001B[38;5;28;43;01mTrue\u001B[39;49;00m\u001B[43m,\u001B[49m\u001B[43m \u001B[49m\u001B[43mbreak_after\u001B[49m\u001B[38;5;241;43m=\u001B[39;49m\u001B[38;5;28;43;01mNone\u001B[39;49;00m\u001B[43m,\u001B[49m\n\u001B[1;32m     25\u001B[0m \u001B[43m                                 \u001B[49m\u001B[43mtighten_bounds\u001B[49m\u001B[38;5;241;43m=\u001B[39;49m\u001B[38;5;28;43;01mTrue\u001B[39;49;00m\u001B[43m,\u001B[49m\n\u001B[1;32m     26\u001B[0m \u001B[43m                                 \u001B[49m\u001B[43muse_fixed_neurons_in_grouping\u001B[49m\u001B[38;5;241;43m=\u001B[39;49m\u001B[38;5;28;43;01mFalse\u001B[39;49;00m\u001B[43m,\u001B[49m\u001B[43m \u001B[49m\u001B[43mlayers_as_snr\u001B[49m\u001B[38;5;241;43m=\u001B[39;49m\u001B[43m[\u001B[49m\u001B[43m]\u001B[49m\u001B[43m,\u001B[49m\u001B[43m \u001B[49m\u001B[43mlayers_as_milp\u001B[49m\u001B[38;5;241;43m=\u001B[39;49m\u001B[43m[\u001B[49m\u001B[38;5;241;43m3\u001B[39;49m\u001B[43m]\u001B[49m\u001B[43m,\u001B[49m\n\u001B[1;32m     27\u001B[0m \u001B[43m                                 \u001B[49m\u001B[43mforce_inclusion_steps\u001B[49m\u001B[38;5;241;43m=\u001B[39;49m\u001B[38;5;241;43m3\u001B[39;49m\u001B[43m,\u001B[49m\u001B[43m \u001B[49m\u001B[43mpreemptive_stop\u001B[49m\u001B[38;5;241;43m=\u001B[39;49m\u001B[38;5;28;43;01mTrue\u001B[39;49;00m\u001B[43m,\u001B[49m\n\u001B[1;32m     28\u001B[0m \u001B[43m                                \u001B[49m\u001B[43mdata_grad_descent_steps\u001B[49m\u001B[38;5;241;43m=\u001B[39;49m\u001B[38;5;241;43m0\u001B[39;49m\u001B[43m,\u001B[49m\u001B[43m \u001B[49m\u001B[43mopt_steps_gd\u001B[49m\u001B[38;5;241;43m=\u001B[39;49m\u001B[38;5;241;43m100\u001B[39;49m\u001B[43m,\u001B[49m\n\u001B[1;32m     29\u001B[0m \u001B[43m                                 \u001B[49m\u001B[43mtrain_outer\u001B[49m\u001B[38;5;241;43m=\u001B[39;49m\u001B[38;5;28;43;01mFalse\u001B[39;49;00m\u001B[43m,\u001B[49m\u001B[43m \u001B[49m\u001B[43mprint_training_loss\u001B[49m\u001B[38;5;241;43m=\u001B[39;49m\u001B[38;5;28;43;01mFalse\u001B[39;49;00m\u001B[43m,\u001B[49m\u001B[43m \u001B[49m\u001B[43mprint_new_bounds\u001B[49m\u001B[38;5;241;43m=\u001B[39;49m\u001B[38;5;28;43;01mFalse\u001B[39;49;00m\u001B[43m,\u001B[49m\n\u001B[1;32m     30\u001B[0m \u001B[43m                                 \u001B[49m\u001B[43mgrouping_method\u001B[49m\u001B[38;5;241;43m=\u001B[39;49m\u001B[38;5;124;43m\"\u001B[39;49m\u001B[38;5;124;43mconsecutive\u001B[39;49m\u001B[38;5;124;43m\"\u001B[39;49m\u001B[43m,\u001B[49m\u001B[43m \u001B[49m\u001B[43mgroup_num_multiplier\u001B[49m\u001B[38;5;241;43m=\u001B[39;49m\u001B[38;5;241;43m5\u001B[39;49m\u001B[43m,\u001B[49m\u001B[43m \u001B[49m\u001B[43mstore_samples\u001B[49m\u001B[38;5;241;43m=\u001B[39;49m\u001B[38;5;28;43;01mFalse\u001B[39;49;00m\u001B[43m,\u001B[49m\u001B[43m \u001B[49m\u001B[43mprint_optimization_steps\u001B[49m\u001B[38;5;241;43m=\u001B[39;49m\u001B[38;5;28;43;01mFalse\u001B[39;49;00m\u001B[43m,\u001B[49m\u001B[43m \u001B[49m\u001B[43mprint_last_loss\u001B[49m\u001B[38;5;241;43m=\u001B[39;49m\u001B[38;5;28;43;01mFalse\u001B[39;49;00m\u001B[43m,\u001B[49m\n\u001B[1;32m     31\u001B[0m \u001B[43m                                 \u001B[49m\u001B[43mshould_plot\u001B[49m\u001B[38;5;241;43m=\u001B[39;49m\u001B[38;5;124;43m\"\u001B[39;49m\u001B[38;5;124;43mnone\u001B[39;49m\u001B[38;5;124;43m\"\u001B[39;49m\u001B[43m,\u001B[49m\u001B[43m \u001B[49m\u001B[43moptimizer\u001B[49m\u001B[38;5;241;43m=\u001B[39;49m\u001B[38;5;124;43m\"\u001B[39;49m\u001B[38;5;124;43mSdLBFGS\u001B[39;49m\u001B[38;5;124;43m\"\u001B[39;49m\u001B[43m,\u001B[49m\u001B[43m \u001B[49m\u001B[43minit_network\u001B[49m\u001B[38;5;241;43m=\u001B[39;49m\u001B[38;5;28;43;01mTrue\u001B[39;49;00m\u001B[43m,\u001B[49m\u001B[43m \u001B[49m\u001B[43madapt_lambda\u001B[49m\u001B[38;5;241;43m=\u001B[39;49m\u001B[38;5;124;43m\"\u001B[39;49m\u001B[38;5;124;43mincluded\u001B[39;49m\u001B[38;5;124;43m\"\u001B[39;49m\u001B[43m,\u001B[49m\u001B[43m \u001B[49m\u001B[43msampling_strategy\u001B[49m\u001B[38;5;241;43m=\u001B[39;49m\u001B[43msampling_strategy\u001B[49m\u001B[43m)\u001B[49m\n\u001B[1;32m     32\u001B[0m \u001B[38;5;28mprint\u001B[39m(\u001B[38;5;124m\"\u001B[39m\u001B[38;5;124moverall time: \u001B[39m\u001B[38;5;132;01m{}\u001B[39;00m\u001B[38;5;124m\"\u001B[39m\u001B[38;5;241m.\u001B[39mformat(time\u001B[38;5;241m.\u001B[39mtime() \u001B[38;5;241m-\u001B[39m overall_time))\n",
      "File \u001B[0;32m~/Documents/Programming/ICNN_verification/script/DHOV/MultiDHOV.py:386\u001B[0m, in \u001B[0;36mMultiDHOV.start_verification\u001B[0;34m(self, nn, input, icnn_factory, group_size, eps, icnn_batch_size, icnn_epochs, hyper_lambda, init_affine_bounds, init_layer_bounds, break_after, tighten_bounds, use_fixed_neurons_in_grouping, layers_as_milp, layers_as_snr, use_over_approximation, opt_steps_gd, data_grad_descent_steps, train_outer, preemptive_stop, store_samples, force_inclusion_steps, grouping_method, group_num_multiplier, init_network, adapt_lambda, should_plot, optimizer, print_training_loss, print_last_loss, print_optimization_steps, print_new_bounds, sampling_strategy)\u001B[0m\n\u001B[1;32m    383\u001B[0m \u001B[38;5;28;01mif\u001B[39;00m inclusion_round \u001B[38;5;241m==\u001B[39m force_inclusion_steps \u001B[38;5;241m-\u001B[39m \u001B[38;5;241m1\u001B[39m \u001B[38;5;129;01mand\u001B[39;00m epochs_in_last_inclusion \u001B[38;5;241m>\u001B[39m \u001B[38;5;241m0\u001B[39m:\n\u001B[1;32m    384\u001B[0m     epochs_per_inclusion \u001B[38;5;241m=\u001B[39m epochs_in_last_inclusion\n\u001B[0;32m--> 386\u001B[0m out \u001B[38;5;241m=\u001B[39m \u001B[43mcurrent_icnn\u001B[49m\u001B[43m(\u001B[49m\u001B[43mgroup_norm_included_space\u001B[49m\u001B[43m)\u001B[49m\n\u001B[1;32m    387\u001B[0m max_out \u001B[38;5;241m=\u001B[39m torch\u001B[38;5;241m.\u001B[39mmax(out)\n\u001B[1;32m    388\u001B[0m current_icnn\u001B[38;5;241m.\u001B[39mapply_enlargement(max_out)\n",
      "File \u001B[0;32m~/miniconda3/envs/ICNN_verification/lib/python3.10/site-packages/torch/nn/modules/module.py:1511\u001B[0m, in \u001B[0;36mModule._wrapped_call_impl\u001B[0;34m(self, *args, **kwargs)\u001B[0m\n\u001B[1;32m   1509\u001B[0m     \u001B[38;5;28;01mreturn\u001B[39;00m \u001B[38;5;28mself\u001B[39m\u001B[38;5;241m.\u001B[39m_compiled_call_impl(\u001B[38;5;241m*\u001B[39margs, \u001B[38;5;241m*\u001B[39m\u001B[38;5;241m*\u001B[39mkwargs)  \u001B[38;5;66;03m# type: ignore[misc]\u001B[39;00m\n\u001B[1;32m   1510\u001B[0m \u001B[38;5;28;01melse\u001B[39;00m:\n\u001B[0;32m-> 1511\u001B[0m     \u001B[38;5;28;01mreturn\u001B[39;00m \u001B[38;5;28;43mself\u001B[39;49m\u001B[38;5;241;43m.\u001B[39;49m\u001B[43m_call_impl\u001B[49m\u001B[43m(\u001B[49m\u001B[38;5;241;43m*\u001B[39;49m\u001B[43margs\u001B[49m\u001B[43m,\u001B[49m\u001B[43m \u001B[49m\u001B[38;5;241;43m*\u001B[39;49m\u001B[38;5;241;43m*\u001B[39;49m\u001B[43mkwargs\u001B[49m\u001B[43m)\u001B[49m\n",
      "File \u001B[0;32m~/miniconda3/envs/ICNN_verification/lib/python3.10/site-packages/torch/nn/modules/module.py:1520\u001B[0m, in \u001B[0;36mModule._call_impl\u001B[0;34m(self, *args, **kwargs)\u001B[0m\n\u001B[1;32m   1515\u001B[0m \u001B[38;5;66;03m# If we don't have any hooks, we want to skip the rest of the logic in\u001B[39;00m\n\u001B[1;32m   1516\u001B[0m \u001B[38;5;66;03m# this function, and just call forward.\u001B[39;00m\n\u001B[1;32m   1517\u001B[0m \u001B[38;5;28;01mif\u001B[39;00m \u001B[38;5;129;01mnot\u001B[39;00m (\u001B[38;5;28mself\u001B[39m\u001B[38;5;241m.\u001B[39m_backward_hooks \u001B[38;5;129;01mor\u001B[39;00m \u001B[38;5;28mself\u001B[39m\u001B[38;5;241m.\u001B[39m_backward_pre_hooks \u001B[38;5;129;01mor\u001B[39;00m \u001B[38;5;28mself\u001B[39m\u001B[38;5;241m.\u001B[39m_forward_hooks \u001B[38;5;129;01mor\u001B[39;00m \u001B[38;5;28mself\u001B[39m\u001B[38;5;241m.\u001B[39m_forward_pre_hooks\n\u001B[1;32m   1518\u001B[0m         \u001B[38;5;129;01mor\u001B[39;00m _global_backward_pre_hooks \u001B[38;5;129;01mor\u001B[39;00m _global_backward_hooks\n\u001B[1;32m   1519\u001B[0m         \u001B[38;5;129;01mor\u001B[39;00m _global_forward_hooks \u001B[38;5;129;01mor\u001B[39;00m _global_forward_pre_hooks):\n\u001B[0;32m-> 1520\u001B[0m     \u001B[38;5;28;01mreturn\u001B[39;00m \u001B[43mforward_call\u001B[49m\u001B[43m(\u001B[49m\u001B[38;5;241;43m*\u001B[39;49m\u001B[43margs\u001B[49m\u001B[43m,\u001B[49m\u001B[43m \u001B[49m\u001B[38;5;241;43m*\u001B[39;49m\u001B[38;5;241;43m*\u001B[39;49m\u001B[43mkwargs\u001B[49m\u001B[43m)\u001B[49m\n\u001B[1;32m   1522\u001B[0m \u001B[38;5;28;01mtry\u001B[39;00m:\n\u001B[1;32m   1523\u001B[0m     result \u001B[38;5;241m=\u001B[39m \u001B[38;5;28;01mNone\u001B[39;00m\n",
      "File \u001B[0;32m~/Documents/Programming/ICNN_verification/script/NeuralNets/Networks.py:496\u001B[0m, in \u001B[0;36mICNNApproxMax.forward\u001B[0;34m(self, x)\u001B[0m\n\u001B[1;32m    495\u001B[0m \u001B[38;5;28;01mdef\u001B[39;00m \u001B[38;5;21mforward\u001B[39m(\u001B[38;5;28mself\u001B[39m, x):\n\u001B[0;32m--> 496\u001B[0m     icnn_out \u001B[38;5;241m=\u001B[39m \u001B[38;5;28;43msuper\u001B[39;49m\u001B[43m(\u001B[49m\u001B[43m)\u001B[49m\u001B[38;5;241;43m.\u001B[39;49m\u001B[43mforward\u001B[49m\u001B[43m(\u001B[49m\u001B[43mx\u001B[49m\u001B[43m)\u001B[49m\n\u001B[1;32m    497\u001B[0m     box_out \u001B[38;5;241m=\u001B[39m \u001B[38;5;28mself\u001B[39m\u001B[38;5;241m.\u001B[39mls[\u001B[38;5;241m0\u001B[39m](x)\n\u001B[1;32m    498\u001B[0m     box_out \u001B[38;5;241m=\u001B[39m torch\u001B[38;5;241m.\u001B[39mmax(box_out, dim\u001B[38;5;241m=\u001B[39m\u001B[38;5;241m1\u001B[39m, keepdim\u001B[38;5;241m=\u001B[39m\u001B[38;5;28;01mTrue\u001B[39;00m)[\u001B[38;5;241m0\u001B[39m]\n",
      "File \u001B[0;32m~/Documents/Programming/ICNN_verification/script/NeuralNets/Networks.py:186\u001B[0m, in \u001B[0;36mICNN.forward\u001B[0;34m(self, x)\u001B[0m\n\u001B[1;32m    185\u001B[0m \u001B[38;5;28;01mdef\u001B[39;00m \u001B[38;5;21mforward\u001B[39m(\u001B[38;5;28mself\u001B[39m, x):\n\u001B[0;32m--> 186\u001B[0m     x \u001B[38;5;241m=\u001B[39m \u001B[43mFlatten\u001B[49m\u001B[43m(\u001B[49m\u001B[43m)\u001B[49m\u001B[43m(\u001B[49m\u001B[43mx\u001B[49m\u001B[43m)\u001B[49m\n\u001B[1;32m    187\u001B[0m     x1 \u001B[38;5;241m=\u001B[39m \u001B[38;5;28mself\u001B[39m\u001B[38;5;241m.\u001B[39mactivation_function(\u001B[38;5;28mself\u001B[39m\u001B[38;5;241m.\u001B[39mws[\u001B[38;5;241m0\u001B[39m](x))  \u001B[38;5;66;03m# first layer is only W\u001B[39;00m\n\u001B[1;32m    188\u001B[0m     \u001B[38;5;28;01mfor\u001B[39;00m w, u \u001B[38;5;129;01min\u001B[39;00m \u001B[38;5;28mzip\u001B[39m(\u001B[38;5;28mself\u001B[39m\u001B[38;5;241m.\u001B[39mws[\u001B[38;5;241m1\u001B[39m:\u001B[38;5;241m-\u001B[39m\u001B[38;5;241m1\u001B[39m], \u001B[38;5;28mself\u001B[39m\u001B[38;5;241m.\u001B[39mus[:\u001B[38;5;241m-\u001B[39m\u001B[38;5;241m1\u001B[39m]):\n",
      "File \u001B[0;32m~/miniconda3/envs/ICNN_verification/lib/python3.10/site-packages/torch/nn/modules/module.py:1511\u001B[0m, in \u001B[0;36mModule._wrapped_call_impl\u001B[0;34m(self, *args, **kwargs)\u001B[0m\n\u001B[1;32m   1509\u001B[0m     \u001B[38;5;28;01mreturn\u001B[39;00m \u001B[38;5;28mself\u001B[39m\u001B[38;5;241m.\u001B[39m_compiled_call_impl(\u001B[38;5;241m*\u001B[39margs, \u001B[38;5;241m*\u001B[39m\u001B[38;5;241m*\u001B[39mkwargs)  \u001B[38;5;66;03m# type: ignore[misc]\u001B[39;00m\n\u001B[1;32m   1510\u001B[0m \u001B[38;5;28;01melse\u001B[39;00m:\n\u001B[0;32m-> 1511\u001B[0m     \u001B[38;5;28;01mreturn\u001B[39;00m \u001B[38;5;28;43mself\u001B[39;49m\u001B[38;5;241;43m.\u001B[39;49m\u001B[43m_call_impl\u001B[49m\u001B[43m(\u001B[49m\u001B[38;5;241;43m*\u001B[39;49m\u001B[43margs\u001B[49m\u001B[43m,\u001B[49m\u001B[43m \u001B[49m\u001B[38;5;241;43m*\u001B[39;49m\u001B[38;5;241;43m*\u001B[39;49m\u001B[43mkwargs\u001B[49m\u001B[43m)\u001B[49m\n",
      "File \u001B[0;32m~/miniconda3/envs/ICNN_verification/lib/python3.10/site-packages/torch/nn/modules/module.py:1520\u001B[0m, in \u001B[0;36mModule._call_impl\u001B[0;34m(self, *args, **kwargs)\u001B[0m\n\u001B[1;32m   1515\u001B[0m \u001B[38;5;66;03m# If we don't have any hooks, we want to skip the rest of the logic in\u001B[39;00m\n\u001B[1;32m   1516\u001B[0m \u001B[38;5;66;03m# this function, and just call forward.\u001B[39;00m\n\u001B[1;32m   1517\u001B[0m \u001B[38;5;28;01mif\u001B[39;00m \u001B[38;5;129;01mnot\u001B[39;00m (\u001B[38;5;28mself\u001B[39m\u001B[38;5;241m.\u001B[39m_backward_hooks \u001B[38;5;129;01mor\u001B[39;00m \u001B[38;5;28mself\u001B[39m\u001B[38;5;241m.\u001B[39m_backward_pre_hooks \u001B[38;5;129;01mor\u001B[39;00m \u001B[38;5;28mself\u001B[39m\u001B[38;5;241m.\u001B[39m_forward_hooks \u001B[38;5;129;01mor\u001B[39;00m \u001B[38;5;28mself\u001B[39m\u001B[38;5;241m.\u001B[39m_forward_pre_hooks\n\u001B[1;32m   1518\u001B[0m         \u001B[38;5;129;01mor\u001B[39;00m _global_backward_pre_hooks \u001B[38;5;129;01mor\u001B[39;00m _global_backward_hooks\n\u001B[1;32m   1519\u001B[0m         \u001B[38;5;129;01mor\u001B[39;00m _global_forward_hooks \u001B[38;5;129;01mor\u001B[39;00m _global_forward_pre_hooks):\n\u001B[0;32m-> 1520\u001B[0m     \u001B[38;5;28;01mreturn\u001B[39;00m \u001B[43mforward_call\u001B[49m\u001B[43m(\u001B[49m\u001B[38;5;241;43m*\u001B[39;49m\u001B[43margs\u001B[49m\u001B[43m,\u001B[49m\u001B[43m \u001B[49m\u001B[38;5;241;43m*\u001B[39;49m\u001B[38;5;241;43m*\u001B[39;49m\u001B[43mkwargs\u001B[49m\u001B[43m)\u001B[49m\n\u001B[1;32m   1522\u001B[0m \u001B[38;5;28;01mtry\u001B[39;00m:\n\u001B[1;32m   1523\u001B[0m     result \u001B[38;5;241m=\u001B[39m \u001B[38;5;28;01mNone\u001B[39;00m\n",
      "File \u001B[0;32m~/Documents/Programming/ICNN_verification/script/NeuralNets/Networks.py:16\u001B[0m, in \u001B[0;36mFlatten.forward\u001B[0;34m(self, x)\u001B[0m\n\u001B[1;32m     14\u001B[0m \u001B[38;5;28;01mdef\u001B[39;00m \u001B[38;5;21mforward\u001B[39m(\u001B[38;5;28mself\u001B[39m, x):\n\u001B[1;32m     15\u001B[0m     x\u001B[38;5;241m.\u001B[39msize(\u001B[38;5;241m0\u001B[39m)\n\u001B[0;32m---> 16\u001B[0m     \u001B[38;5;28;01mreturn\u001B[39;00m \u001B[43mx\u001B[49m\u001B[38;5;241;43m.\u001B[39;49m\u001B[43mview\u001B[49m\u001B[43m(\u001B[49m\u001B[43mx\u001B[49m\u001B[38;5;241;43m.\u001B[39;49m\u001B[43msize\u001B[49m\u001B[43m(\u001B[49m\u001B[38;5;241;43m0\u001B[39;49m\u001B[43m)\u001B[49m\u001B[43m,\u001B[49m\u001B[43m \u001B[49m\u001B[38;5;241;43m-\u001B[39;49m\u001B[38;5;241;43m1\u001B[39;49m\u001B[43m)\u001B[49m\n",
      "\u001B[0;31mRuntimeError\u001B[0m: cannot reshape tensor of 0 elements into shape [0, -1] because the unspecified dimension size -1 can be any value and is ambiguous"
     ]
    }
   ],
   "source": [
    "from script.DHOV.SamplingStrategy import PerGroupSamplingStrategy, PerGroupFeasibleSamplingStrategy, UniformSamplingStrategy\n",
    "center = torch.flatten(torch_image)\n",
    "sampling_strategy = PerGroupFeasibleSamplingStrategy(center, eps, keep_ambient_space=True, sample_new=False, sample_count=1000)\n",
    "# number of neurons which are in one group\n",
    "group_size = 20\n",
    "\n",
    "# number of data points which are generated to train the ICNN on\n",
    "sample_count = 50\n",
    "\n",
    "# method of sampling data points\n",
    "sampling_method = \"per_group_sampling\"\n",
    "\n",
    "# Size of each layer of the ICNN except for the input layer. (given by group size)\n",
    "net_size = [5, 1]\n",
    "\n",
    "# picking the typ of ICNN to use\n",
    "icnn_factory = ICNNFactory(\"approx_max\", net_size, maximum_function=\"SMU\", function_parameter=0.3)\n",
    "#icnn_factory = ICNNFactory(\"logical\", net_size, always_use_logical_layer=False)\n",
    "#icnn_factory = ICNNFactory(\"standard\", net_size, adapt_layer_for_init=True)\n",
    "\n",
    "overall_time = time.time()\n",
    "dhov_verifier = multidhov.MultiDHOV()\n",
    "dhov_verifier.start_verification(nn, torch_image, icnn_factory, group_size, eps=eps, icnn_epochs=200,\n",
    "                                 icnn_batch_size=10000, use_over_approximation=True, break_after=None,\n",
    "                                 tighten_bounds=True,\n",
    "                                 use_fixed_neurons_in_grouping=False, layers_as_snr=[], layers_as_milp=[3],\n",
    "                                 force_inclusion_steps=3, preemptive_stop=True,\n",
    "                                data_grad_descent_steps=0, opt_steps_gd=100,\n",
    "                                 train_outer=False, print_training_loss=False, print_new_bounds=False,\n",
    "                                 grouping_method=\"consecutive\", group_num_multiplier=5, store_samples=False, print_optimization_steps=False, print_last_loss=False,\n",
    "                                 should_plot=\"none\", optimizer=\"SdLBFGS\", init_network=True, adapt_lambda=\"included\", sampling_strategy=sampling_strategy)\n",
    "print(\"overall time: {}\".format(time.time() - overall_time))"
   ],
   "metadata": {
    "collapsed": false,
    "pycharm": {
     "name": "#%%\n"
    },
    "ExecuteTime": {
     "end_time": "2024-02-22T19:30:31.448885405Z",
     "start_time": "2024-02-22T19:30:28.835944797Z"
    }
   }
  },
  {
   "cell_type": "markdown",
   "source": [
    "# Getting an overview over what DHOV has done\n",
    "show the neuron groups created by DHOV for each layer by index"
   ],
   "metadata": {
    "collapsed": false
   }
  },
  {
   "cell_type": "code",
   "execution_count": 15,
   "outputs": [
    {
     "name": "stdout",
     "output_type": "stream",
     "text": [
      "Layer 0\n",
      "    Group 0: [4, 5, 9, 11, 17, 21, 26, 38, 45, 71, 80, 98]\n",
      "Layer 1\n",
      "    Group 0: [12, 16, 25]\n"
     ]
    }
   ],
   "source": [
    "for i, groups_in_layer in enumerate(dhov_verifier.all_group_indices):\n",
    "    print(f\"Layer {i}\")\n",
    "    for k, group in enumerate(groups_in_layer):\n",
    "        print(f\"    Group {k}: {group}\")"
   ],
   "metadata": {
    "collapsed": false,
    "pycharm": {
     "name": "#%%\n"
    },
    "ExecuteTime": {
     "end_time": "2024-02-22T19:25:50.112598152Z",
     "start_time": "2024-02-22T19:25:50.070618799Z"
    }
   }
  },
  {
   "cell_type": "markdown",
   "source": [
    "show the output bounds for the NN. Hopefully these are better than the box-bounds and the bounds obtained by the Single-Neuron-Verification"
   ],
   "metadata": {
    "collapsed": false
   }
  },
  {
   "cell_type": "code",
   "execution_count": 16,
   "outputs": [
    {
     "name": "stdout",
     "output_type": "stream",
     "text": [
      "[-5.477348126706071, -7.216076099388593, -6.285018169964168, -7.415668461174097, -8.054443483887432, -4.7875797099178214, -1.1076350862125812, -11.812239661344467, -6.835572317900799, -7.659874340703596]\n",
      "[5.841591590613943, 4.990913790180329, 6.691910479448406, 5.323376278516484, 5.942281549316645, 9.522920934119444, 10.692960907923627, 0.8866299674082754, 7.305939813246016, 5.891986807185678]\n"
     ]
    }
   ],
   "source": [
    "print(dhov_verifier.bounds_affine_out[-1][0].tolist())\n",
    "print(dhov_verifier.bounds_affine_out[-1][1].tolist())"
   ],
   "metadata": {
    "collapsed": false,
    "pycharm": {
     "name": "#%%\n"
    },
    "ExecuteTime": {
     "end_time": "2024-02-22T19:25:51.664639997Z",
     "start_time": "2024-02-22T19:25:51.621581158Z"
    }
   }
  },
  {
   "cell_type": "markdown",
   "source": [
    "# Starting the optimization process"
   ],
   "metadata": {
    "collapsed": false
   }
  },
  {
   "cell_type": "code",
   "execution_count": 17,
   "outputs": [],
   "source": [
    "# make changes on a copy of the gurobi model generated by DHOV\n",
    "dhov_model = dhov_verifier.nn_encoding_model.copy()\n",
    "dhov_model.update()\n",
    "dhov_out_vars = get_output_vars_dhov(dhov_model, output_size, number_layer)"
   ],
   "metadata": {
    "collapsed": false,
    "pycharm": {
     "name": "#%%\n"
    },
    "ExecuteTime": {
     "end_time": "2024-02-22T19:25:52.578282647Z",
     "start_time": "2024-02-22T19:25:52.570825347Z"
    }
   }
  },
  {
   "cell_type": "code",
   "execution_count": 18,
   "outputs": [],
   "source": [
    "add_output_constraints(dhov_model, simple_bounds_layer_out, label, dhov_out_vars, sovler_bound=10)"
   ],
   "metadata": {
    "collapsed": false,
    "pycharm": {
     "name": "#%%\n"
    },
    "ExecuteTime": {
     "end_time": "2024-02-22T19:25:52.998115229Z",
     "start_time": "2024-02-22T19:25:52.994793693Z"
    }
   }
  },
  {
   "cell_type": "code",
   "execution_count": 19,
   "outputs": [
    {
     "name": "stdout",
     "output_type": "stream",
     "text": [
      "var 0: -0.1605842467429106\n",
      "var 1: -1.0267577066988904\n",
      "var 2: -0.7817017489425595\n",
      "var 3: -1.2054562475151096\n",
      "var 4: -1.1728186110856544\n",
      "var 5: 3.367321164189698\n",
      "var 6: 4.802988739995333\n",
      "var 7: -5.70006718352845\n",
      "var 8: 0.618789908569247\n",
      "var 9: -0.7820609982013185\n",
      "property verified with max difference -1.4356675758056348\n"
     ]
    },
    {
     "data": {
      "text/plain": "True"
     },
     "execution_count": 19,
     "metadata": {},
     "output_type": "execute_result"
    }
   ],
   "source": [
    "optimize_model(dhov_model, dhov_out_vars)"
   ],
   "metadata": {
    "collapsed": false,
    "pycharm": {
     "name": "#%%\n"
    },
    "ExecuteTime": {
     "end_time": "2024-02-22T19:25:53.568368933Z",
     "start_time": "2024-02-22T19:25:53.461547978Z"
    }
   }
  },
  {
   "cell_type": "code",
   "execution_count": null,
   "outputs": [],
   "source": [],
   "metadata": {
    "collapsed": false,
    "ExecuteTime": {
     "start_time": "2024-02-07T02:06:17.197901400Z"
    }
   }
  }
 ],
 "metadata": {
  "kernelspec": {
   "display_name": "Python 3",
   "language": "python",
   "name": "python3"
  },
  "language_info": {
   "codemirror_mode": {
    "name": "ipython",
    "version": 2
   },
   "file_extension": ".py",
   "mimetype": "text/x-python",
   "name": "python",
   "nbconvert_exporter": "python",
   "pygments_lexer": "ipython2",
   "version": "2.7.6"
  }
 },
 "nbformat": 4,
 "nbformat_minor": 0
}
