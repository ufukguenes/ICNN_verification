{
 "cells": [
  {
   "cell_type": "code",
   "outputs": [],
   "source": [
    "import torch\n",
    "import time\n",
    "from script.NeuralNets.Networks import SequentialNN\n",
    "from script.settings import device, data_type\n",
    "import script.DHOV.MultiDHOV as multidhov\n",
    "from script.Verification.Verifier import SingleNeuronVerifier, MILPVerifier\n",
    "import gurobipy as grp\n",
    "from torchvision.datasets import MNIST\n",
    "from torchvision.transforms import Compose, ToTensor, Normalize\n",
    "from script.NeuralNets.ICNNFactory import ICNNFactory\n",
    "import matplotlib.pyplot as plt\n",
    "import numpy as np"
   ],
   "metadata": {
    "collapsed": false,
    "ExecuteTime": {
     "end_time": "2024-04-09T01:39:52.004392091Z",
     "start_time": "2024-04-09T01:39:51.172163555Z"
    }
   },
   "execution_count": 1
  },
  {
   "cell_type": "code",
   "outputs": [],
   "source": [
    "import onnx\n",
    "from onnx2pytorch import ConvertModel\n",
    "from auto_LiRPA import BoundedModule, BoundedTensor, PerturbationLpNorm\n",
    "\n",
    "from vnnlib.compat import read_vnnlib_simple\n",
    "from collections import OrderedDict"
   ],
   "metadata": {
    "collapsed": false,
    "ExecuteTime": {
     "end_time": "2024-04-09T01:39:52.253524247Z",
     "start_time": "2024-04-09T01:39:52.002340319Z"
    }
   },
   "execution_count": 2
  },
  {
   "cell_type": "markdown",
   "source": [
    "# Import the Feedforward-NN\n",
    "It has to bee a SequentialNN"
   ],
   "metadata": {
    "collapsed": false
   }
  },
  {
   "cell_type": "code",
   "execution_count": 3,
   "outputs": [
    {
     "data": {
      "text/plain": "'nn = SequentialNN([28 * 28 * 1, 256, 256, 256, 256, 10])\\nnn.load_state_dict(torch.load(\"../../mnist_fc 4x256.pth\", map_location=torch.device(\"cpu\")), strict=False)'"
     },
     "execution_count": 3,
     "metadata": {},
     "output_type": "execute_result"
    }
   ],
   "source": [
    "\n",
    "\"\"\"nn = SequentialNN([28 * 28 * 1, 100, 30, 10])\n",
    "nn.load_state_dict(torch.load(\"../../mnist_fc.pth\", map_location=torch.device(device)), strict=False)\"\"\"\n",
    "\n",
    "\n",
    "\"\"\"\n",
    "nn = SequentialNN([28 * 28 * 1, 256, 256, 256, 256, 256, 256, 10])\n",
    "nn.load_state_dict(torch.load(\"../../mnist_fc_6x256.pth\", map_location=torch.device('cpu')), strict=False)\n",
    "\"\"\"\n",
    "\n",
    "\n",
    "\"\"\"nn = SequentialNN([28 * 28 * 1, 256, 256, 256, 256, 10])\n",
    "nn.load_state_dict(torch.load(\"../../mnist_fc 4x256.pth\", map_location=torch.device(\"cpu\")), strict=False)\"\"\"\n",
    "\n"
   ],
   "metadata": {
    "collapsed": false,
    "ExecuteTime": {
     "end_time": "2024-04-09T01:39:52.256843846Z",
     "start_time": "2024-04-09T01:39:52.255428937Z"
    }
   }
  },
  {
   "cell_type": "markdown",
   "source": [
    "#### or make onnx to Sequential"
   ],
   "metadata": {
    "collapsed": false
   }
  },
  {
   "cell_type": "code",
   "outputs": [
    {
     "name": "stderr",
     "output_type": "stream",
     "text": [
      "/home/ufuk/miniconda3/envs/autolirpa_icnn/lib/python3.10/site-packages/onnx2pytorch/convert/layer.py:30: UserWarning: The given NumPy array is not writable, and PyTorch does not support non-writable tensors. This means writing to this tensor will result in undefined behavior. You may want to copy the array to protect its data or make it writable before converting it to a tensor. This type of warning will be suppressed for the rest of this program. (Triggered internally at ../torch/csrc/utils/tensor_numpy.cpp:206.)\n",
      "  layer.weight.data = torch.from_numpy(numpy_helper.to_array(weight))\n"
     ]
    },
    {
     "data": {
      "text/plain": "<All keys matched successfully>"
     },
     "execution_count": 4,
     "metadata": {},
     "output_type": "execute_result"
    }
   ],
   "source": [
    "onnx_model = onnx.load(\"mnist-net_256x4.onnx\")\n",
    "pytorch_model = ConvertModel(onnx_model)\n",
    "\n",
    "nn = SequentialNN([28 * 28 * 1, 256, 256, 256, 256, 10])\n",
    "state_dict = pytorch_model.state_dict()\n",
    "my_state_dict = {}\n",
    "for i, key in enumerate(state_dict):\n",
    "    actual_index = i * 2\n",
    "    my_state_dict[f\"{actual_index}.bias\"] = state_dict[f\"_initializer_layers_{actual_index}_bias\"]\n",
    "    my_state_dict[f\"{actual_index}.weight\"] = state_dict[f\"_initializer_layers_{actual_index}_weight\"]\n",
    "    if actual_index == 8:\n",
    "        break\n",
    "    \n",
    "nn.load_state_dict(my_state_dict)"
   ],
   "metadata": {
    "collapsed": false,
    "ExecuteTime": {
     "end_time": "2024-04-09T01:39:52.348881868Z",
     "start_time": "2024-04-09T01:39:52.348151813Z"
    }
   },
   "execution_count": 4
  },
  {
   "cell_type": "code",
   "outputs": [],
   "source": [],
   "metadata": {
    "collapsed": false,
    "ExecuteTime": {
     "end_time": "2024-04-09T01:39:52.499188323Z",
     "start_time": "2024-04-09T01:39:52.495547678Z"
    }
   },
   "execution_count": 4
  },
  {
   "cell_type": "code",
   "execution_count": 5,
   "outputs": [],
   "source": [
    "parameter_list = list(nn.parameters())\n",
    "output_size = 10\n",
    "number_layer = (len(parameter_list) - 2) // 2"
   ],
   "metadata": {
    "collapsed": false,
    "pycharm": {
     "name": "#%%\n"
    },
    "ExecuteTime": {
     "end_time": "2024-04-09T01:39:53.180647366Z",
     "start_time": "2024-04-09T01:39:53.122528130Z"
    }
   }
  },
  {
   "cell_type": "markdown",
   "source": [
    "# Load the data to apply the verification process for"
   ],
   "metadata": {
    "collapsed": false
   }
  },
  {
   "cell_type": "code",
   "execution_count": 6,
   "outputs": [],
   "source": [
    "def imshow(img):\n",
    "    img = img / 2 + .05  # revert normalization for viewing\n",
    "    npimg = img.to(\"cpu\").numpy()\n",
    "    plt.imshow(npimg, cmap=\"gray\")\n",
    "    plt.show()"
   ],
   "metadata": {
    "collapsed": false,
    "ExecuteTime": {
     "end_time": "2024-04-09T01:39:53.661881831Z",
     "start_time": "2024-04-09T01:39:53.658125215Z"
    }
   }
  },
  {
   "cell_type": "code",
   "execution_count": 7,
   "outputs": [],
   "source": [
    "transform = Compose([ToTensor(),  Normalize(0.5, 0.5)])\n",
    "training_data = MNIST(root=\"../../mnist\", train=True, download=True, transform=transform)"
   ],
   "metadata": {
    "collapsed": false,
    "ExecuteTime": {
     "end_time": "2024-04-09T01:39:53.910864195Z",
     "start_time": "2024-04-09T01:39:53.877907452Z"
    }
   }
  },
  {
   "cell_type": "markdown",
   "source": [
    "# Settings for the optimization "
   ],
   "metadata": {
    "collapsed": false
   }
  },
  {
   "cell_type": "code",
   "execution_count": 8,
   "outputs": [
    {
     "data": {
      "text/plain": "<Figure size 640x480 with 1 Axes>",
      "image/png": "[encoded data removed]"
     },
     "metadata": {},
     "output_type": "display_data"
    },
    {
     "name": "stdout",
     "output_type": "stream",
     "text": [
      "The label is 3\n",
      "NN classifies image correctly as 3\n"
     ]
    }
   ],
   "source": [
    "# image to do the verification for\n",
    "image_index = 10\n",
    "\n",
    "# epsilon radius\n",
    "eps = 0.03\n",
    "\n",
    "# whether a verification attempt should be done using just MILP encoding for comparison (can take long)\n",
    "use_milp = False\n",
    "\n",
    "image, label = training_data[image_index]\n",
    "torch_image = torch.unsqueeze(image, 0).to(dtype=data_type).to(device)\n",
    "imshow(torch_image[0][0])\n",
    "print(f\"The label is {label}\")\n",
    "\n",
    "if torch.argmax(nn(torch_image)).item() == label:\n",
    "    print(\"NN classifies image correctly as {}\".format(label))\n",
    "else:\n",
    "    print(\"NN classifies image wrong\")\n"
   ],
   "metadata": {
    "collapsed": false,
    "ExecuteTime": {
     "end_time": "2024-04-09T01:39:54.333281927Z",
     "start_time": "2024-04-09T01:39:54.274430677Z"
    }
   }
  },
  {
   "cell_type": "markdown",
   "source": [
    "# Add the objective to the optimization problem\n",
    "in this case we want to find the maximum difference between any one neuron and the target neuron (label)"
   ],
   "metadata": {
    "collapsed": false
   }
  },
  {
   "cell_type": "code",
   "execution_count": 9,
   "outputs": [],
   "source": [
    "def add_output_constraints(model, nn_layer_out_bounds, label, output_vars, sovler_bound=1e-3):\n",
    "    \"\"\"\n",
    "    \n",
    "    :param model: the optimization problem in gurobi encoding the NN\n",
    "    :param nn_layer_out_bounds: torch.Tensor, approximating the upper and lower bounding the output layer of the NN\n",
    "    :param label: index of the label or target neuron which is compared against\n",
    "    :param output_vars: the gurobi variables from the model of the NN describing the output neurons of the NN\n",
    "    :param sovler_bound: provides a bound for the gurobi solver. If this bound is achieved, the optimizer stops\n",
    "    \"\"\"\n",
    "    \n",
    "    out_lb = nn_layer_out_bounds[-1][0].detach().cpu().numpy()\n",
    "    out_ub = nn_layer_out_bounds[-1][1].detach().cpu().numpy()\n",
    "    \n",
    "    difference_lb = out_lb - out_ub[label]\n",
    "    difference_ub = out_ub - out_lb[label]\n",
    "    difference_lb = difference_lb.tolist()\n",
    "    difference_ub = difference_ub.tolist()\n",
    "    \n",
    "    difference_lb.pop(label)\n",
    "    difference_ub.pop(label)\n",
    "    \n",
    "    min_diff = min(difference_lb)\n",
    "    max_diff = max(difference_ub)\n",
    "    \n",
    "    difference = model.addVars(9, lb=difference_lb, ub=difference_ub, name=\"diff_var\")\n",
    "    model.addConstrs((difference[i] == output_vars.tolist()[i] - output_vars.tolist()[label] for i in range(0, label)), name=\"diff_const0\")\n",
    "    model.addConstrs((difference[i - 1] == output_vars.tolist()[i] - output_vars.tolist()[label] for i in range(label + 1, 10)), name=\"diff_const1\")\n",
    "\n",
    "    max_var = model.addVar(lb=min_diff, ub=max_diff, name=\"max_var\")\n",
    "    model.addConstr(max_var == grp.max_(difference))\n",
    "\n",
    "    if sovler_bound != None:\n",
    "        model.setParam(\"BestObjStop\", sovler_bound)\n",
    "\n",
    "    model.update()\n",
    "    model.setObjective(max_var, grp.GRB.MAXIMIZE)"
   ],
   "metadata": {
    "collapsed": false,
    "ExecuteTime": {
     "end_time": "2024-04-09T01:39:54.915908070Z",
     "start_time": "2024-04-09T01:39:54.911645883Z"
    }
   }
  },
  {
   "cell_type": "markdown",
   "source": [
    "# Get the output variables by name \n",
    "given the gurobi model, the output size of the NN and the index of output layer"
   ],
   "metadata": {
    "collapsed": false
   }
  },
  {
   "cell_type": "code",
   "execution_count": 10,
   "outputs": [],
   "source": [
    "def get_output_vars_snv_milp(model, output_size, output_layer_index):\n",
    "    output_vars = []\n",
    "    for i in range(output_size):\n",
    "        output_vars.append(model.getVarByName(\"affine_var{}[{}]\".format(output_layer_index, i)))\n",
    "    output_vars = grp.MVar.fromlist(output_vars)\n",
    "    return output_vars"
   ],
   "metadata": {
    "collapsed": false,
    "ExecuteTime": {
     "end_time": "2024-04-09T01:39:55.327178638Z",
     "start_time": "2024-04-09T01:39:55.322163726Z"
    }
   }
  },
  {
   "cell_type": "code",
   "execution_count": 11,
   "outputs": [],
   "source": [
    "def get_output_vars_dhov(model, output_size, output_layer_index):\n",
    "    output_vars = []\n",
    "    for i in range(output_size):\n",
    "        output_vars.append(model.getVarByName(\"output_layer_[{}]_[{}]\".format(output_layer_index, i)))\n",
    "    output_vars = grp.MVar.fromlist(output_vars)\n",
    "    return output_vars"
   ],
   "metadata": {
    "collapsed": false,
    "ExecuteTime": {
     "end_time": "2024-04-09T01:39:55.536722940Z",
     "start_time": "2024-04-09T01:39:55.531192498Z"
    }
   }
  },
  {
   "cell_type": "markdown",
   "source": [
    "# Defining function to call Gurobi optimizer"
   ],
   "metadata": {
    "collapsed": false
   }
  },
  {
   "cell_type": "code",
   "execution_count": 12,
   "outputs": [],
   "source": [
    "def optimize_model(model, output_vars):\n",
    "    \"\"\"\n",
    "    \n",
    "    :param model: the optimization problem in gurobi encoding the NN and the objective \n",
    "    :param output_vars: the gurobi variables from the model of the NN describing the output neurons of the NN\n",
    "    :return True if verification was successful, else false \n",
    "    \"\"\"\n",
    "    \n",
    "    start = time.time()\n",
    "    model.update()\n",
    "    model.optimize()\n",
    "    \n",
    "    if model.Status == grp.GRB.OPTIMAL or model.Status == grp.GRB.USER_OBJ_LIMIT:\n",
    "        \n",
    "        for i, var in enumerate(output_vars.tolist()):\n",
    "            print(\"var {}: {}\".format(i, var.getAttr(\"x\")))\n",
    "        max_var = model.getVarByName(\"max_var\").getAttr(\"x\")\n",
    "        \n",
    "        if max_var < 0:\n",
    "            print(\"property verified with max difference {}\".format(max_var))\n",
    "            return True\n",
    "        else:\n",
    "             print(\"property NOT verified with max difference {}\".format(max_var))\n",
    "             return False\n",
    "\n",
    "    elif model.Status == grp.GRB.INFEASIBLE:\n",
    "        print(\"model infeasible\")\n",
    "\n",
    "        model.computeIIS()\n",
    "        print(\"constraint\")\n",
    "        all_constr = model.getConstrs()\n",
    "\n",
    "        for const in all_constr:\n",
    "            if const.IISConstr:\n",
    "                print(\"{}\".format(const))\n",
    "\n",
    "        print(\"lower bound\")\n",
    "        all_var = model.getVars()\n",
    "        for var in all_var:\n",
    "            if var.IISLB:\n",
    "                print(\"{}, lb: {}, ub: {}\".format(var, var.getAttr(\"lb\"), var.getAttr(\"ub\")))\n",
    "\n",
    "        print(\"upper bound\")\n",
    "        all_var = model.getVars()\n",
    "        for var in all_var:\n",
    "            if var.IISUB:\n",
    "                print(\"{}, lb: {}, ub: {}\".format(var, var.getAttr(\"lb\"), var.getAttr(\"ub\")))\n",
    "\n",
    "    print(\"time to optimize: {}\".format(time.time() - start))\n",
    "    return False"
   ],
   "metadata": {
    "collapsed": false,
    "ExecuteTime": {
     "end_time": "2024-04-09T01:39:56.011128719Z",
     "start_time": "2024-04-09T01:39:56.007074157Z"
    }
   }
  },
  {
   "cell_type": "markdown",
   "source": [
    "# Calculate box-bounds to provide a rough approximation of NN"
   ],
   "metadata": {
    "collapsed": false
   }
  },
  {
   "cell_type": "code",
   "execution_count": 13,
   "outputs": [
    {
     "name": "stdout",
     "output_type": "stream",
     "text": [
      "[-1367.69384765625, -1175.1470947265625, -1528.4173583984375, -1600.2281494140625, -1474.3228759765625, -1332.7625732421875, -1282.4739990234375, -1402.4564208984375, -1654.172607421875, -1294.9930419921875]\n",
      "[1107.260498046875, 1004.1644897460938, 1013.7595825195312, 876.8156127929688, 1160.6065673828125, 1090.4962158203125, 1232.324951171875, 1215.6800537109375, 1160.49853515625, 1250.8209228515625]\n"
     ]
    }
   ],
   "source": [
    "input_flattened = torch.flatten(torch_image)\n",
    "simple_bounds_affine_out, simple_bounds_layer_out = nn.calculate_box_bounds([torch.clip(input_flattened.add(-eps), 0, 1), torch.clip(input_flattened.add(eps), 0, 1)])\n",
    "print(simple_bounds_affine_out[-1][0].tolist())\n",
    "print(simple_bounds_affine_out[-1][1].tolist())\n"
   ],
   "metadata": {
    "collapsed": false,
    "ExecuteTime": {
     "end_time": "2024-04-09T01:39:56.776767762Z",
     "start_time": "2024-04-09T01:39:56.771166908Z"
    }
   }
  },
  {
   "cell_type": "markdown",
   "source": [
    "# Do Single-Neuron-Verification"
   ],
   "metadata": {
    "collapsed": false
   }
  },
  {
   "cell_type": "code",
   "execution_count": 14,
   "outputs": [],
   "source": [
    "use_snv = False\n",
    "if use_snv:\n",
    "    t = time.time()\n",
    "    \n",
    "    # define the Verifier\n",
    "    snv_verifier = SingleNeuronVerifier(nn, torch_image, eps, print_log=False, print_new_bounds=True, optimize_bounds=True)\n",
    "    \n",
    "    # generate the constraints\n",
    "    snv_verifier.generate_constraints_for_net()\n",
    "    snv_model = snv_verifier.model\n",
    "    snv_model.update()\n",
    "    \n",
    "    # add the objective to the gurobi model\n",
    "    snv_out_vars = get_output_vars_snv_milp(snv_model, output_size, number_layer * 2)\n",
    "    add_output_constraints(snv_model, simple_bounds_layer_out, label, snv_out_vars, sovler_bound=None)\n",
    "    print(\"constraint generation time: {}\".format(time.time() - t))\n",
    "    \n",
    "    print(\"start with optimization\")\n",
    "    optimize_model(snv_model, snv_out_vars)"
   ],
   "metadata": {
    "collapsed": false,
    "pycharm": {
     "name": "#%%\n"
    },
    "ExecuteTime": {
     "end_time": "2024-04-09T01:39:57.561596464Z",
     "start_time": "2024-04-09T01:39:57.556456050Z"
    }
   }
  },
  {
   "cell_type": "markdown",
   "source": [
    " # Do MILP-Verification if wanted"
   ],
   "metadata": {
    "collapsed": false
   }
  },
  {
   "cell_type": "code",
   "execution_count": 15,
   "outputs": [],
   "source": [
    "if use_milp:\n",
    "    # define the Verifier\n",
    "    milp_verifier = MILPVerifier(nn, torch_image, eps, print_log=False)\n",
    "    \n",
    "    # generate the constraints\n",
    "    milp_verifier.generate_constraints_for_net()\n",
    "    milp_model = milp_verifier.model\n",
    "    milp_model.update()\n",
    "    \n",
    "    # add the objective to the gurobi model\n",
    "    milp_out_vars = get_output_vars_snv_milp(milp_model, output_size, number_layer * 2)\n",
    "    add_output_constraints(milp_model, simple_bounds_layer_out, label, milp_out_vars)\n",
    "    \n",
    "    print(\"start with optimization\")\n",
    "    optimize_model(milp_model, milp_out_vars)"
   ],
   "metadata": {
    "collapsed": false,
    "pycharm": {
     "name": "#%%\n"
    },
    "ExecuteTime": {
     "end_time": "2024-04-09T01:39:57.993566666Z",
     "start_time": "2024-04-09T01:39:57.989185598Z"
    }
   }
  },
  {
   "cell_type": "markdown",
   "source": [
    "# get bounds with crown"
   ],
   "metadata": {
    "collapsed": false
   }
  },
  {
   "cell_type": "code",
   "outputs": [],
   "source": [
    "def load_onnx_model(onnx_path, input_shape):\n",
    "    onnx_model = onnx.load(onnx_path)\n",
    "    torch_model = ConvertModel(onnx_model)\n",
    "    \n",
    "    x_concrete = torch.zeros(input_shape)\n",
    "    model = BoundedModule(torch_model, x_concrete)\n",
    "    return model"
   ],
   "metadata": {
    "collapsed": false,
    "ExecuteTime": {
     "end_time": "2024-04-09T01:39:58.392311042Z",
     "start_time": "2024-04-09T01:39:58.387808650Z"
    }
   },
   "execution_count": 16
  },
  {
   "cell_type": "code",
   "outputs": [],
   "source": [
    "def load_vnnlib_spec(vnnlib_path, input_shape, n_out):\n",
    "    n_in = np.prod(input_shape)\n",
    "    res = read_vnnlib_simple(vnnlib_path, n_in, n_out)\n",
    "    bnds, spec = res[0]\n",
    "    \n",
    "    bnds = np.array(bnds)\n",
    "    lbs = bnds[:,0]\n",
    "    ubs = bnds[:,1]\n",
    "    \n",
    "    data_min = torch.tensor(lbs, dtype=torch.float32).reshape(input_shape)\n",
    "    data_max = torch.tensor(ubs, dtype=torch.float32).reshape(input_shape)\n",
    "    center = 0.5*(data_min + data_max)\n",
    "\n",
    "    ptb = PerturbationLpNorm(x_L=data_min, x_U=data_max)\n",
    "    x = BoundedTensor(center, ptb)\n",
    "    \n",
    "    return x"
   ],
   "metadata": {
    "collapsed": false,
    "ExecuteTime": {
     "end_time": "2024-04-09T01:39:58.603754818Z",
     "start_time": "2024-04-09T01:39:58.599788997Z"
    }
   },
   "execution_count": 17
  },
  {
   "cell_type": "code",
   "outputs": [],
   "source": [
    "onnx_path = 'mnist-net_256x4.onnx'\n",
    "vnnlib_path = 'prop_0_0.03.vnnlib'"
   ],
   "metadata": {
    "collapsed": false,
    "ExecuteTime": {
     "end_time": "2024-04-09T01:39:58.784697617Z",
     "start_time": "2024-04-09T01:39:58.779117664Z"
    }
   },
   "execution_count": 18
  },
  {
   "cell_type": "code",
   "outputs": [
    {
     "name": "stderr",
     "output_type": "stream",
     "text": [
      "/home/ufuk/miniconda3/envs/autolirpa_icnn/lib/python3.10/site-packages/onnx2pytorch/convert/model.py:163: TracerWarning: Converting a tensor to a Python boolean might cause the trace to be incorrect. We can't record the data flow of Python values, so this value will be treated as a constant in the future. This means that the trace might not generalize to other inputs!\n",
      "  if not self.experimental and inputs[0].shape[self.batch_dim] > 1:\n",
      "/home/ufuk/miniconda3/envs/autolirpa_icnn/lib/python3.10/site-packages/auto_LiRPA/parse_graph.py:154: FutureWarning: 'torch.onnx.symbolic_helper._set_opset_version' is deprecated in version 1.13 and will be removed in 2.0. Please remove its usage and avoid setting internal variables directly.\n",
      "  _set_opset_version(12)\n",
      "/home/ufuk/miniconda3/envs/autolirpa_icnn/lib/python3.10/site-packages/vnnlib/compat.py:283: UserWarning: literal negation does not strictly follow SMT-LIB\n",
      "  ast_node = parse_file(vnnlib_filename, strict=False)\n"
     ]
    }
   ],
   "source": [
    "model = load_onnx_model(onnx_path, [1,1,1,784])\n",
    "x = load_vnnlib_spec(vnnlib_path, [1,1,1,784], 10)"
   ],
   "metadata": {
    "collapsed": false,
    "ExecuteTime": {
     "end_time": "2024-04-09T01:39:59.250265343Z",
     "start_time": "2024-04-09T01:39:59.155041091Z"
    }
   },
   "execution_count": 19
  },
  {
   "cell_type": "code",
   "outputs": [],
   "source": [
    "def get_layers(model):\n",
    "    return [l for l in model.nodes() if l.perturbed]"
   ],
   "metadata": {
    "collapsed": false,
    "ExecuteTime": {
     "end_time": "2024-04-09T01:39:59.372225506Z",
     "start_time": "2024-04-09T01:39:59.329056854Z"
    }
   },
   "execution_count": 20
  },
  {
   "cell_type": "code",
   "outputs": [],
   "source": [
    "def get_intermediate_bounds(model):\n",
    "    \"\"\"\n",
    "    Returns a dictionary containing the concrete lower and upper bounds of each layer.\n",
    "    \n",
    "    Implemented own method to filter out bounds for weight matrices.\n",
    "    \n",
    "    Only call this method after compute_bounds()!\n",
    "    \"\"\"\n",
    "    od = OrderedDict()\n",
    "    for l in get_layers(model):\n",
    "        if hasattr(l, 'lower'):\n",
    "            od[l.name] = (l.lower, l.upper)\n",
    "            \n",
    "    return od"
   ],
   "metadata": {
    "collapsed": false,
    "ExecuteTime": {
     "end_time": "2024-04-09T01:39:59.525439878Z",
     "start_time": "2024-04-09T01:39:59.517365495Z"
    }
   },
   "execution_count": 21
  },
  {
   "cell_type": "code",
   "outputs": [
    {
     "data": {
      "text/plain": "(tensor([[-1032.5533,  -872.9257, -1141.9590, -1203.2975, -1105.7109,  -986.7313,\n           -954.3195, -1036.1493, -1236.6730,  -945.4202]],\n        grad_fn=<AddBackward0>),\n tensor([[822.8641, 734.7686, 739.7652, 644.5771, 858.5091, 782.4144, 917.3555,\n          876.5301, 868.9225, 935.6565]], grad_fn=<AddBackward0>))"
     },
     "execution_count": 31,
     "metadata": {},
     "output_type": "execute_result"
    }
   ],
   "source": [
    "model.compute_bounds(x=(x,), method='ibp')\n",
    "#model.compute_bounds(x=(x,), method='crown')"
   ],
   "metadata": {
    "collapsed": false,
    "ExecuteTime": {
     "end_time": "2024-04-09T01:40:55.424329001Z",
     "start_time": "2024-04-09T01:40:55.383443069Z"
    }
   },
   "execution_count": 31
  },
  {
   "cell_type": "code",
   "outputs": [],
   "source": [
    "bounds_dict_crown = get_intermediate_bounds(model)"
   ],
   "metadata": {
    "collapsed": false,
    "ExecuteTime": {
     "end_time": "2024-04-09T01:40:56.534909133Z",
     "start_time": "2024-04-09T01:40:56.530412501Z"
    }
   },
   "execution_count": 32
  },
  {
   "cell_type": "code",
   "outputs": [
    {
     "name": "stdout",
     "output_type": "stream",
     "text": [
      "/0\n",
      "/21\n",
      "/input\n",
      "/23\n",
      "/input.3\n",
      "/25\n",
      "/input.7\n",
      "/27\n",
      "/input.11\n",
      "/29\n",
      "/30\n"
     ]
    }
   ],
   "source": [
    "bounds_dict_crown.keys()\n",
    "crown_bounds_affine_out = []\n",
    "for i, key in enumerate(bounds_dict_crown.keys()):\n",
    "    print(key)\n",
    "    if i == 0 or i == 1:\n",
    "        continue\n",
    "    lb, ub = bounds_dict_crown[key]\n",
    "    crown_bounds_affine_out.append([lb.view(-1), ub.view(-1)])\n",
    "\n"
   ],
   "metadata": {
    "collapsed": false,
    "ExecuteTime": {
     "end_time": "2024-04-09T01:41:21.776277409Z",
     "start_time": "2024-04-09T01:41:21.730744152Z"
    }
   },
   "execution_count": 39
  },
  {
   "cell_type": "code",
   "outputs": [],
   "source": [
    "crown_bounds_layer_out = []\n",
    "relu = torch.nn.ReLU()\n",
    "for i, (lb, ub) in enumerate(crown_bounds_affine_out):\n",
    "    if i == len(crown_bounds_affine_out) - 1:\n",
    "        crown_bounds_layer_out.append([lb, ub])\n",
    "    else:\n",
    "        lb_layer = relu(lb)\n",
    "        ub_layer = relu(ub)\n",
    "        crown_bounds_layer_out.append([lb_layer, ub_layer])"
   ],
   "metadata": {
    "collapsed": false,
    "ExecuteTime": {
     "end_time": "2024-04-09T01:41:22.430790506Z",
     "start_time": "2024-04-09T01:41:22.425701878Z"
    }
   },
   "execution_count": 40
  },
  {
   "cell_type": "code",
   "outputs": [
    {
     "name": "stdout",
     "output_type": "stream",
     "text": [
      "tensor([ -6.4735,  -1.1852,  -8.1042,  -9.6121, -10.7270, -10.2505,   0.1405,\n",
      "        -14.7815,  -4.9682, -14.1223,  -6.1940,  -8.1165, -12.4938,  -3.7670,\n",
      "        -12.2774,  -1.8720, -18.3481,  -5.2287,  -3.1606,  -3.9635, -14.4524,\n",
      "         -8.2617, -10.1152, -10.3990,  -8.5094, -14.4007,  -9.0605, -11.3472,\n",
      "         -2.6107,  -5.2882,  -2.1007,  -4.2823,  -4.7444,  -9.9202,  -9.1367,\n",
      "         -5.9243,  -8.4458,  -7.2713,  -5.3445,  -7.7232,  -8.5924,  -2.3807,\n",
      "         -3.3121, -13.5271, -11.7933,  -6.9732,  -8.2131,  -6.3305,  -3.5164,\n",
      "         -7.2527, -10.7574,  -3.1061,  -6.8747,  -7.2911,  -7.5395,  -3.4078,\n",
      "        -13.1890,  -6.1864, -15.6019, -17.1104,  -8.7167,  -4.9055,  -4.7514,\n",
      "         -3.5661,  -6.3077,  -3.5418,  -7.7864, -12.7163,  -9.0741,  -6.5319,\n",
      "        -18.9942,  -8.1273,  -6.4510,  -4.5959, -17.3275,  -4.3795,  -8.0418,\n",
      "        -13.8532,  -5.6690,  -4.5109,  -6.5592,  -9.2486,  -6.5804,  -9.5570,\n",
      "        -12.5025,  -8.6539,  -2.4196, -19.1941, -11.1389, -10.8863,   2.1039,\n",
      "        -11.6660,  -5.0271,  -6.4797,  -7.3980,  -9.1146, -11.1942,  -3.5984,\n",
      "        -11.4550,  -7.8377, -16.3810,  -9.5849,   3.4937,  -7.4723,  -7.4686,\n",
      "          5.5471,  -3.5585,  -9.3559, -10.0803, -12.3952,  -3.0334, -22.8198,\n",
      "         -8.4919, -12.6122,  -6.8896,  -2.6831,  -4.6433, -13.1207,  -7.1947,\n",
      "        -11.2791,  -4.8823, -10.4342,  -7.7076,   2.7024, -12.5657,  -3.6601,\n",
      "         -6.4370,  -0.5578, -12.2897, -28.8366,  -7.2972, -11.4845,  -9.0535,\n",
      "        -22.8280,  -4.7455, -21.6291,  -8.8776,  -2.4213, -10.9123,  -7.8397,\n",
      "        -12.3546,  -5.9691,  -4.8317,  -3.6584, -12.4978,  -8.8951,  -3.1125,\n",
      "         -8.5353, -11.9146,  -7.8649,  -3.7007,  -9.9618, -11.5717, -10.7226,\n",
      "         -6.6367,  -9.6374,  -1.6176, -13.2406,  -5.5983,  -7.9395, -11.0748,\n",
      "          0.5274, -11.6918, -11.4599,  -7.5184,  -8.9157,  -3.5268, -11.6682,\n",
      "        -12.9224, -11.3861,  -9.1511, -15.4239,  -4.6823, -13.0553, -11.0578,\n",
      "         -0.9867,  -2.4895,  -1.8222,  -0.8301,  -4.6517,  -9.1685,   0.8320,\n",
      "         -2.2493,  -8.1348,   3.0176, -16.3723, -16.4430,  -0.4490,  -4.8477,\n",
      "        -11.9370,  -6.5355,  -9.1705,  -9.0696, -13.4264,  -6.4620,  -2.5140,\n",
      "        -12.8817,   1.6446,  -8.5284,  -3.2908,  -2.2156,  -4.1299,  -6.8908,\n",
      "        -10.2198,  -5.3428,  -6.7436,  -8.7667,  -5.9925, -13.3863,  -2.6405,\n",
      "         -8.9717,  -7.7351,  -9.9147,  -6.1022, -11.2830, -13.7749,  -4.5189,\n",
      "         -8.2407, -12.9476,  -3.1591,  -5.0550,   1.4159,  -6.8664, -11.4030,\n",
      "         -5.7918,  -3.9294, -11.8896,  -9.9606, -16.3976,  -6.7593,  -5.1881,\n",
      "        -11.7128, -17.4943,  -9.0662, -18.4372,  -4.6289,  -7.8166, -12.5436,\n",
      "        -14.6296, -10.7920, -11.3317,  -3.1481,  -7.1568,  -5.2404,  -9.7242,\n",
      "         -7.5950, -14.1842,   0.9633, -16.4393,  -8.7422,   4.1168,  -0.7421,\n",
      "         -6.1526,  -7.2158, -11.6173,  -4.4794], grad_fn=<ViewBackward0>)\n"
     ]
    }
   ],
   "source": [
    "print(crown_bounds_affine_out[0][0])"
   ],
   "metadata": {
    "collapsed": false,
    "ExecuteTime": {
     "end_time": "2024-04-09T01:41:22.936892876Z",
     "start_time": "2024-04-09T01:41:22.916970772Z"
    }
   },
   "execution_count": 41
  },
  {
   "cell_type": "code",
   "outputs": [
    {
     "name": "stdout",
     "output_type": "stream",
     "text": [
      "tensor([ -7.4694,  19.9232,   8.8679,  18.9603,   5.0112,  10.4138,  17.7684,\n",
      "          8.9384,  13.6049,  19.8848,  25.9926,  25.9491,   7.9147,  30.6885,\n",
      "         -2.1305,  27.8536,  18.3062,   2.0737,   1.5730,   1.1618,  -3.8090,\n",
      "         13.3617,  15.1723,  16.3286,   6.0531,   0.9016,  11.1419,  12.0026,\n",
      "          1.4022,   7.6197,  13.0699,   1.4827,   6.0692,  21.5278,  22.9816,\n",
      "         24.9504,  22.1114,   8.3254,   3.8069,  11.0050,  -9.5622,   2.4517,\n",
      "         30.0240,  -7.7408, -11.5191,  10.8229,   9.5731,   5.3674,   5.4473,\n",
      "         39.5382,  -2.4663,   0.7192,  33.2063,   8.7595,   2.7159,   1.8502,\n",
      "         19.2937,   5.6486, -12.8583,  -0.2591,  19.9275,  21.0683,  15.4316,\n",
      "          0.1510,   8.4598,   0.0617,   6.4696, -15.1036,  22.4381,   5.6635,\n",
      "         -7.7391,  18.0353,  14.4196,   3.9423,  20.2192,  45.3507,  13.1894,\n",
      "         -7.8067,  22.3778,   1.7042,  34.9105,   0.9824,  11.7649,   1.0947,\n",
      "          8.9896,   5.3032,  23.2612,   3.2730,  -0.8095,  -0.9693,  42.3191,\n",
      "         28.3288,  17.6834, -22.0459,  20.8420,  11.6091,  14.8299,  35.4934,\n",
      "         20.4757,  18.9067,  -7.2334,  12.3303,  26.7767,  19.7684,  27.0465,\n",
      "         -4.8068,   1.6780,   6.6696,  19.7156,   4.5046,   2.1261, -11.5950,\n",
      "         11.5060,   9.1618,  29.0308,  -0.5265,   5.3531,   6.4779,  22.3817,\n",
      "        -12.9918,  11.1447,  -7.5944,   9.1294,  31.3968,  18.6418,  -0.4752,\n",
      "          4.4198,  24.7586,   9.3485, -20.2850,   9.5656,  21.9221,   5.6168,\n",
      "        -29.9044,   8.5415, -24.7657,  19.4648,  37.6663,  13.7447,  22.5738,\n",
      "         -9.0618,   5.6051,   0.8140,  -0.5904,   5.5426,  -1.8494,  24.3620,\n",
      "         13.3993,  -2.4487,   4.9426,   0.9192,  17.7570,   8.9368,  18.9957,\n",
      "         20.5175,  27.0056,  27.5132,  10.1580,  -6.0054,  13.5886,  -0.1786,\n",
      "         13.1293,  15.0179,  12.5228,  16.9968,   4.8153,  16.5235,  21.2725,\n",
      "         -7.1653,  10.1864, -11.9922,  19.2304,  27.5312,   2.6814,  -6.2231,\n",
      "         36.6290,  22.8636,  16.8815,  16.4142,  23.2134,  10.8256,  17.6957,\n",
      "         26.1630,  25.7298,  36.3142, -18.9227,  14.8563,  -9.3246,  17.7585,\n",
      "          7.0667,  11.7405,  32.7714,   6.1938,   1.4884,  24.2010,  44.3087,\n",
      "         11.5964,  30.6431,  25.4474,  30.2529,  44.4832,  16.1142,   0.8868,\n",
      "          8.7133,  16.9335,  12.7353,   8.7871,  14.2217,  -3.0727,   0.4407,\n",
      "        -13.6041,  13.6358,  13.3321,  40.9298,  -1.9285,  12.1898,  31.8075,\n",
      "         21.8908,   0.7347,  25.8072,  19.8210,  48.5070,  13.0645,  -3.5388,\n",
      "         17.1001,   2.7014,  -3.8690,   0.8937,   7.4471,  30.9678,  29.3650,\n",
      "         18.0013,  -8.7082,  -2.5346,   0.6113,  10.6895,  10.4527,  22.5057,\n",
      "         10.0350,  12.1124,  -3.0035,   1.3965,   8.7890,   1.8840,  13.0251,\n",
      "          3.0308,  10.7342,  41.3836,   6.9997,  12.6557,  47.1795,  23.2978,\n",
      "          7.5073,  18.1952,  -0.7557,  21.1967], grad_fn=<AddBackward0>)\n"
     ]
    }
   ],
   "source": [
    "print(simple_bounds_affine_out[0][0])"
   ],
   "metadata": {
    "collapsed": false,
    "ExecuteTime": {
     "end_time": "2024-04-09T01:41:24.024023573Z",
     "start_time": "2024-04-09T01:41:24.020684996Z"
    }
   },
   "execution_count": 42
  },
  {
   "cell_type": "markdown",
   "source": [
    "# Attempt verification using DHOV\n",
    "See MultiDHOV.py and ICNNFactory.py for detailed documentation about the parameters"
   ],
   "metadata": {
    "collapsed": false
   }
  },
  {
   "cell_type": "code",
   "execution_count": 28,
   "outputs": [
    {
     "name": "stdout",
     "output_type": "stream",
     "text": [
      "Set parameter Username\n",
      "Academic license - for non-commercial use only - expires 2025-02-14\n"
     ]
    },
    {
     "name": "stderr",
     "output_type": "stream",
     "text": [
      "/home/ufuk/Documents/Programming/ICNN_verification/script/DHOV/Sampling/PerGroupLineSearchSampling.py:19: UserWarning: keep_ambient_space is True and sampling method is per_group_sampling. Keeping previous samples is not supported when using per group sampling\n",
      "  warnings.warn(\"keep_ambient_space is True and sampling method is per_group_sampling. \"\n",
      "/home/ufuk/Documents/Programming/ICNN_verification/script/DHOV/MultiDHOV.py:188: UserWarning: value for group number multiplier is given with grouping method consecutive. consecutive grouping does not use variable number of groups\n",
      "  warnings.warn(\"value for group number multiplier is given with grouping method consecutive. \"\n",
      "/home/ufuk/Documents/Programming/ICNN_verification/script/Optimizer/sdlbfgs.py:83: UserWarning: This overload of add_ is deprecated:\n",
      "\tadd_(Number alpha, Tensor other)\n",
      "Consider using one of the following signatures instead:\n",
      "\tadd_(Tensor other, *, Number alpha) (Triggered internally at ../torch/csrc/utils/python_arg_parser.cpp:1485.)\n",
      "  p.data.add_(step_size, update[offset:offset + numel].view_as(p.data))\n",
      "/home/ufuk/Documents/Programming/ICNN_verification/script/NeuralNets/Networks.py:40: UserWarning: To copy construct from a tensor, it is recommended to use sourceTensor.clone().detach() or sourceTensor.clone().detach().requires_grad_(True), rather than torch.tensor(sourceTensor).\n",
      "  b.data = b - torch.tensor(value, device=device)\n"
     ]
    },
    {
     "name": "stdout",
     "output_type": "stream",
     "text": [
      "\n",
      "approximation of layer: 0\n",
      "    number of fixed neurons for current layer: 202\n",
      "        time for sampling: 0.00763702392578125\n",
      "    layer progress, group 1 of 3 \n",
      "        time for training: 0.13083505630493164\n",
      "model infeasible\n",
      "constraint\n",
      "<gurobi.Constr affine_const_[0][1]>\n",
      "lower bound\n",
      "<gurobi.Var output_layer_[-1]_[2]>, lb: -1.0299999713897705, ub: -0.9700000286102295\n",
      "<gurobi.Var output_layer_[-1]_[3]>, lb: -1.0299999713897705, ub: -0.9700000286102295\n",
      "<gurobi.Var output_layer_[-1]_[6]>, lb: -1.0299999713897705, ub: -0.9700000286102295\n",
      "<gurobi.Var output_layer_[-1]_[7]>, lb: -1.0299999713897705, ub: -0.9700000286102295\n",
      "<gurobi.Var output_layer_[-1]_[9]>, lb: -1.0299999713897705, ub: -0.9700000286102295\n",
      "<gurobi.Var output_layer_[-1]_[10]>, lb: -1.0299999713897705, ub: -0.9700000286102295\n",
      "<gurobi.Var output_layer_[-1]_[12]>, lb: -1.0299999713897705, ub: -0.9700000286102295\n",
      "<gurobi.Var output_layer_[-1]_[15]>, lb: -1.0299999713897705, ub: -0.9700000286102295\n",
      "<gurobi.Var output_layer_[-1]_[16]>, lb: -1.0299999713897705, ub: -0.9700000286102295\n",
      "<gurobi.Var output_layer_[-1]_[19]>, lb: -1.0299999713897705, ub: -0.9700000286102295\n",
      "<gurobi.Var output_layer_[-1]_[20]>, lb: -1.0299999713897705, ub: -0.9700000286102295\n",
      "<gurobi.Var output_layer_[-1]_[21]>, lb: -1.0299999713897705, ub: -0.9700000286102295\n",
      "<gurobi.Var output_layer_[-1]_[23]>, lb: -1.0299999713897705, ub: -0.9700000286102295\n",
      "<gurobi.Var output_layer_[-1]_[24]>, lb: -1.0299999713897705, ub: -0.9700000286102295\n",
      "<gurobi.Var output_layer_[-1]_[25]>, lb: -1.0299999713897705, ub: -0.9700000286102295\n",
      "<gurobi.Var output_layer_[-1]_[29]>, lb: -1.0299999713897705, ub: -0.9700000286102295\n",
      "<gurobi.Var output_layer_[-1]_[30]>, lb: -1.0299999713897705, ub: -0.9700000286102295\n",
      "<gurobi.Var output_layer_[-1]_[32]>, lb: -1.0299999713897705, ub: -0.9700000286102295\n",
      "<gurobi.Var output_layer_[-1]_[33]>, lb: -1.0299999713897705, ub: -0.9700000286102295\n",
      "<gurobi.Var output_layer_[-1]_[34]>, lb: -1.0299999713897705, ub: -0.9700000286102295\n",
      "<gurobi.Var output_layer_[-1]_[35]>, lb: -1.0299999713897705, ub: -0.9700000286102295\n",
      "<gurobi.Var output_layer_[-1]_[36]>, lb: -1.0299999713897705, ub: -0.9700000286102295\n",
      "<gurobi.Var output_layer_[-1]_[38]>, lb: -1.0299999713897705, ub: -0.9700000286102295\n",
      "<gurobi.Var output_layer_[-1]_[41]>, lb: -1.0299999713897705, ub: -0.9700000286102295\n",
      "<gurobi.Var output_layer_[-1]_[42]>, lb: -1.0299999713897705, ub: -0.9700000286102295\n",
      "<gurobi.Var output_layer_[-1]_[43]>, lb: -1.0299999713897705, ub: -0.9700000286102295\n",
      "<gurobi.Var output_layer_[-1]_[44]>, lb: -1.0299999713897705, ub: -0.9700000286102295\n",
      "<gurobi.Var output_layer_[-1]_[45]>, lb: -1.0299999713897705, ub: -0.9700000286102295\n",
      "<gurobi.Var output_layer_[-1]_[48]>, lb: -1.0299999713897705, ub: -0.9700000286102295\n",
      "<gurobi.Var output_layer_[-1]_[49]>, lb: -1.0299999713897705, ub: -0.9700000286102295\n",
      "<gurobi.Var output_layer_[-1]_[50]>, lb: -1.0299999713897705, ub: -0.9700000286102295\n",
      "<gurobi.Var output_layer_[-1]_[52]>, lb: -1.0299999713897705, ub: -0.9700000286102295\n",
      "<gurobi.Var output_layer_[-1]_[54]>, lb: -1.0299999713897705, ub: -0.9700000286102295\n",
      "<gurobi.Var output_layer_[-1]_[55]>, lb: -1.0299999713897705, ub: -0.9700000286102295\n",
      "<gurobi.Var output_layer_[-1]_[57]>, lb: -1.0299999713897705, ub: -0.9700000286102295\n",
      "<gurobi.Var output_layer_[-1]_[61]>, lb: -1.0299999713897705, ub: -0.9700000286102295\n",
      "<gurobi.Var output_layer_[-1]_[62]>, lb: -1.0299999713897705, ub: -0.9700000286102295\n",
      "<gurobi.Var output_layer_[-1]_[63]>, lb: -1.0299999713897705, ub: -0.9700000286102295\n",
      "<gurobi.Var output_layer_[-1]_[66]>, lb: -1.0299999713897705, ub: -0.9700000286102295\n",
      "<gurobi.Var output_layer_[-1]_[72]>, lb: -1.0299999713897705, ub: -0.9700000286102295\n",
      "<gurobi.Var output_layer_[-1]_[76]>, lb: -1.0299999713897705, ub: -0.9700000286102295\n",
      "<gurobi.Var output_layer_[-1]_[79]>, lb: -1.0299999713897705, ub: -0.9700000286102295\n",
      "<gurobi.Var output_layer_[-1]_[80]>, lb: -1.0299999713897705, ub: -0.9700000286102295\n",
      "<gurobi.Var output_layer_[-1]_[83]>, lb: -1.0299999713897705, ub: -0.9700000286102295\n",
      "<gurobi.Var output_layer_[-1]_[86]>, lb: -1.0299999713897705, ub: -0.9700000286102295\n",
      "<gurobi.Var output_layer_[-1]_[87]>, lb: -1.0299999713897705, ub: -0.9700000286102295\n",
      "<gurobi.Var output_layer_[-1]_[90]>, lb: -1.0299999713897705, ub: -0.9700000286102295\n",
      "<gurobi.Var output_layer_[-1]_[91]>, lb: -1.0299999713897705, ub: -0.9700000286102295\n",
      "<gurobi.Var output_layer_[-1]_[96]>, lb: -1.0299999713897705, ub: -0.9700000286102295\n",
      "<gurobi.Var output_layer_[-1]_[99]>, lb: -1.0299999713897705, ub: -0.9700000286102295\n",
      "<gurobi.Var output_layer_[-1]_[106]>, lb: -1.0299999713897705, ub: -0.9700000286102295\n",
      "<gurobi.Var output_layer_[-1]_[107]>, lb: -1.0299999713897705, ub: -0.9700000286102295\n",
      "<gurobi.Var output_layer_[-1]_[109]>, lb: -1.0299999713897705, ub: -0.9700000286102295\n",
      "<gurobi.Var output_layer_[-1]_[110]>, lb: -1.0299999713897705, ub: -0.9700000286102295\n",
      "<gurobi.Var output_layer_[-1]_[112]>, lb: -1.0299999713897705, ub: -0.9700000286102295\n",
      "<gurobi.Var output_layer_[-1]_[113]>, lb: -1.0299999713897705, ub: -0.9700000286102295\n",
      "<gurobi.Var output_layer_[-1]_[114]>, lb: -1.0299999713897705, ub: -0.9700000286102295\n",
      "<gurobi.Var output_layer_[-1]_[115]>, lb: -1.0299999713897705, ub: -0.9700000286102295\n",
      "<gurobi.Var output_layer_[-1]_[116]>, lb: -1.0299999713897705, ub: -0.9700000286102295\n",
      "<gurobi.Var output_layer_[-1]_[125]>, lb: 0.6876471042633057, ub: 0.7476470470428467\n",
      "<gurobi.Var output_layer_[-1]_[126]>, lb: 0.2719608247280121, ub: 0.3319608271121979\n",
      "<gurobi.Var output_layer_[-1]_[127]>, lb: -0.10450980067253113, ub: -0.04450979828834534\n",
      "<gurobi.Var output_layer_[-1]_[134]>, lb: -1.0299999713897705, ub: -0.9700000286102295\n",
      "<gurobi.Var output_layer_[-1]_[135]>, lb: -1.0299999713897705, ub: -0.9700000286102295\n",
      "<gurobi.Var output_layer_[-1]_[137]>, lb: -1.0299999713897705, ub: -0.9700000286102295\n",
      "<gurobi.Var output_layer_[-1]_[138]>, lb: -1.0299999713897705, ub: -0.9700000286102295\n",
      "<gurobi.Var output_layer_[-1]_[139]>, lb: -1.0299999713897705, ub: -0.9700000286102295\n",
      "<gurobi.Var output_layer_[-1]_[140]>, lb: -1.0299999713897705, ub: -0.9700000286102295\n",
      "<gurobi.Var output_layer_[-1]_[142]>, lb: -1.0299999713897705, ub: -0.9700000286102295\n",
      "<gurobi.Var output_layer_[-1]_[143]>, lb: -1.0299999713897705, ub: -0.9700000286102295\n",
      "<gurobi.Var output_layer_[-1]_[144]>, lb: -1.0299999713897705, ub: -0.9700000286102295\n",
      "<gurobi.Var output_layer_[-1]_[152]>, lb: 0.9621568918228149, ub: 1.022156834602356\n",
      "<gurobi.Var output_layer_[-1]_[153]>, lb: 0.9621568918228149, ub: 1.022156834602356\n",
      "<gurobi.Var output_layer_[-1]_[157]>, lb: -0.5123528838157654, ub: -0.452352911233902\n",
      "<gurobi.Var output_layer_[-1]_[158]>, lb: -1.0299999713897705, ub: -0.9700000286102295\n",
      "<gurobi.Var output_layer_[-1]_[159]>, lb: -1.0299999713897705, ub: -0.9700000286102295\n",
      "<gurobi.Var output_layer_[-1]_[160]>, lb: -1.0299999713897705, ub: -0.9700000286102295\n",
      "<gurobi.Var output_layer_[-1]_[161]>, lb: -1.0299999713897705, ub: -0.9700000286102295\n",
      "<gurobi.Var output_layer_[-1]_[162]>, lb: -1.0299999713897705, ub: -0.9700000286102295\n",
      "<gurobi.Var output_layer_[-1]_[165]>, lb: -1.0299999713897705, ub: -0.9700000286102295\n",
      "<gurobi.Var output_layer_[-1]_[180]>, lb: 0.9621568918228149, ub: 1.022156834602356\n",
      "<gurobi.Var output_layer_[-1]_[181]>, lb: 0.9621568918228149, ub: 1.022156834602356\n",
      "<gurobi.Var output_layer_[-1]_[182]>, lb: 0.9621568918228149, ub: 1.022156834602356\n",
      "<gurobi.Var output_layer_[-1]_[183]>, lb: 0.9621568918228149, ub: 1.022156834602356\n",
      "<gurobi.Var output_layer_[-1]_[184]>, lb: 0.9621568918228149, ub: 1.022156834602356\n",
      "<gurobi.Var output_layer_[-1]_[185]>, lb: 0.8366667032241821, ub: 0.8966666460037231\n",
      "<gurobi.Var output_layer_[-1]_[186]>, lb: -0.48098036646842957, ub: -0.4209803640842438\n",
      "<gurobi.Var output_layer_[-1]_[188]>, lb: -1.0299999713897705, ub: -0.9700000286102295\n",
      "<gurobi.Var output_layer_[-1]_[189]>, lb: -1.0299999713897705, ub: -0.9700000286102295\n",
      "<gurobi.Var output_layer_[-1]_[190]>, lb: -1.0299999713897705, ub: -0.9700000286102295\n",
      "<gurobi.Var output_layer_[-1]_[191]>, lb: -1.0299999713897705, ub: -0.9700000286102295\n",
      "<gurobi.Var output_layer_[-1]_[194]>, lb: -1.0299999713897705, ub: -0.9700000286102295\n",
      "<gurobi.Var output_layer_[-1]_[196]>, lb: -1.0299999713897705, ub: -0.9700000286102295\n",
      "<gurobi.Var output_layer_[-1]_[208]>, lb: 0.8837255239486694, ub: 0.9437254667282104\n",
      "<gurobi.Var output_layer_[-1]_[209]>, lb: 0.9621568918228149, ub: 1.022156834602356\n",
      "<gurobi.Var output_layer_[-1]_[210]>, lb: 0.7268627882003784, ub: 0.7868627309799194\n",
      "<gurobi.Var output_layer_[-1]_[211]>, lb: 0.9621568918228149, ub: 1.022156834602356\n",
      "<gurobi.Var output_layer_[-1]_[212]>, lb: 0.9621568918228149, ub: 1.022156834602356\n",
      "<gurobi.Var output_layer_[-1]_[218]>, lb: -1.0299999713897705, ub: -0.9700000286102295\n",
      "<gurobi.Var output_layer_[-1]_[219]>, lb: -1.0299999713897705, ub: -0.9700000286102295\n",
      "<gurobi.Var output_layer_[-1]_[222]>, lb: -1.0299999713897705, ub: -0.9700000286102295\n",
      "<gurobi.Var output_layer_[-1]_[223]>, lb: -1.0299999713897705, ub: -0.9700000286102295\n",
      "<gurobi.Var output_layer_[-1]_[224]>, lb: -1.0299999713897705, ub: -0.9700000286102295\n",
      "<gurobi.Var output_layer_[-1]_[227]>, lb: -1.0299999713897705, ub: -0.9700000286102295\n",
      "<gurobi.Var output_layer_[-1]_[236]>, lb: 0.593529462814331, ub: 0.6535294055938721\n",
      "<gurobi.Var output_layer_[-1]_[237]>, lb: 0.9621568918228149, ub: 1.022156834602356\n",
      "<gurobi.Var output_layer_[-1]_[238]>, lb: 0.6170588731765747, ub: 0.6770588159561157\n",
      "<gurobi.Var output_layer_[-1]_[247]>, lb: -1.0299999713897705, ub: -0.9700000286102295\n",
      "<gurobi.Var output_layer_[-1]_[249]>, lb: -1.0299999713897705, ub: -0.9700000286102295\n",
      "<gurobi.Var output_layer_[-1]_[250]>, lb: -1.0299999713897705, ub: -0.9700000286102295\n",
      "<gurobi.Var output_layer_[-1]_[251]>, lb: -1.0299999713897705, ub: -0.9700000286102295\n",
      "<gurobi.Var output_layer_[-1]_[254]>, lb: -1.0299999713897705, ub: -0.9700000286102295\n",
      "<gurobi.Var output_layer_[-1]_[262]>, lb: -1.0299999713897705, ub: -0.9700000286102295\n",
      "<gurobi.Var output_layer_[-1]_[265]>, lb: 0.5856863260269165, ub: 0.6456862688064575\n",
      "<gurobi.Var output_layer_[-1]_[266]>, lb: 0.9621568918228149, ub: 1.022156834602356\n",
      "<gurobi.Var output_layer_[-1]_[270]>, lb: -0.7084313631057739, ub: -0.6484314203262329\n",
      "<gurobi.Var output_layer_[-1]_[271]>, lb: -1.0299999713897705, ub: -0.9700000286102295\n",
      "<gurobi.Var output_layer_[-1]_[273]>, lb: -1.0299999713897705, ub: -0.9700000286102295\n",
      "<gurobi.Var output_layer_[-1]_[274]>, lb: -1.0299999713897705, ub: -0.9700000286102295\n",
      "<gurobi.Var output_layer_[-1]_[275]>, lb: -1.0299999713897705, ub: -0.9700000286102295\n",
      "<gurobi.Var output_layer_[-1]_[276]>, lb: -1.0299999713897705, ub: -0.9700000286102295\n",
      "<gurobi.Var output_layer_[-1]_[277]>, lb: -1.0299999713897705, ub: -0.9700000286102295\n",
      "<gurobi.Var output_layer_[-1]_[278]>, lb: -1.0299999713897705, ub: -0.9700000286102295\n",
      "<gurobi.Var output_layer_[-1]_[281]>, lb: -1.0299999713897705, ub: -0.9700000286102295\n",
      "<gurobi.Var output_layer_[-1]_[283]>, lb: -1.0299999713897705, ub: -0.9700000286102295\n",
      "<gurobi.Var output_layer_[-1]_[290]>, lb: -1.0299999713897705, ub: -0.9700000286102295\n",
      "<gurobi.Var output_layer_[-1]_[291]>, lb: -1.0299999713897705, ub: -0.9700000286102295\n",
      "<gurobi.Var output_layer_[-1]_[292]>, lb: -1.0299999713897705, ub: -0.9700000286102295\n",
      "<gurobi.Var output_layer_[-1]_[293]>, lb: -0.8417646884918213, ub: -0.7817647457122803\n",
      "<gurobi.Var output_layer_[-1]_[294]>, lb: 0.6092157363891602, ub: 0.6692156791687012\n",
      "<gurobi.Var output_layer_[-1]_[295]>, lb: 0.9621568918228149, ub: 1.022156834602356\n",
      "<gurobi.Var output_layer_[-1]_[297]>, lb: 0.9621568918228149, ub: 1.022156834602356\n",
      "<gurobi.Var output_layer_[-1]_[298]>, lb: 0.31117650866508484, ub: 0.37117651104927063\n",
      "<gurobi.Var output_layer_[-1]_[299]>, lb: -1.0299999713897705, ub: -0.9700000286102295\n",
      "<gurobi.Var output_layer_[-1]_[300]>, lb: -1.0299999713897705, ub: -0.9700000286102295\n",
      "<gurobi.Var output_layer_[-1]_[301]>, lb: -1.0299999713897705, ub: -0.9700000286102295\n",
      "<gurobi.Var output_layer_[-1]_[302]>, lb: -1.0299999713897705, ub: -0.9700000286102295\n",
      "<gurobi.Var output_layer_[-1]_[303]>, lb: -1.0299999713897705, ub: -0.9700000286102295\n",
      "<gurobi.Var output_layer_[-1]_[304]>, lb: -1.0299999713897705, ub: -0.9700000286102295\n",
      "<gurobi.Var output_layer_[-1]_[305]>, lb: -1.0299999713897705, ub: -0.9700000286102295\n",
      "<gurobi.Var output_layer_[-1]_[306]>, lb: -1.0299999713897705, ub: -0.9700000286102295\n",
      "<gurobi.Var output_layer_[-1]_[308]>, lb: -1.0299999713897705, ub: -0.9700000286102295\n",
      "<gurobi.Var output_layer_[-1]_[309]>, lb: -1.0299999713897705, ub: -0.9700000286102295\n",
      "<gurobi.Var output_layer_[-1]_[310]>, lb: -1.0299999713897705, ub: -0.9700000286102295\n",
      "<gurobi.Var output_layer_[-1]_[318]>, lb: -1.0299999713897705, ub: -0.9700000286102295\n",
      "<gurobi.Var output_layer_[-1]_[319]>, lb: -1.0299999713897705, ub: -0.9700000286102295\n",
      "<gurobi.Var output_layer_[-1]_[320]>, lb: -0.316274493932724, ub: -0.2562744915485382\n",
      "<gurobi.Var output_layer_[-1]_[321]>, lb: 0.04450985789299011, ub: 0.1045098602771759\n",
      "<gurobi.Var output_layer_[-1]_[322]>, lb: 0.9543137550354004, ub: 1.0143136978149414\n",
      "<gurobi.Var output_layer_[-1]_[323]>, lb: 0.9621568918228149, ub: 1.022156834602356\n",
      "<gurobi.Var output_layer_[-1]_[324]>, lb: 0.9621568918228149, ub: 1.022156834602356\n",
      "<gurobi.Var output_layer_[-1]_[325]>, lb: 0.9621568918228149, ub: 1.022156834602356\n",
      "<gurobi.Var output_layer_[-1]_[326]>, lb: -0.15156862139701843, ub: -0.09156861901283264\n",
      "<gurobi.Var output_layer_[-1]_[327]>, lb: -1.0299999713897705, ub: -0.9700000286102295\n",
      "<gurobi.Var output_layer_[-1]_[328]>, lb: -1.0299999713897705, ub: -0.9700000286102295\n",
      "<gurobi.Var output_layer_[-1]_[329]>, lb: -1.0299999713897705, ub: -0.9700000286102295\n",
      "<gurobi.Var output_layer_[-1]_[330]>, lb: -1.0299999713897705, ub: -0.9700000286102295\n",
      "<gurobi.Var output_layer_[-1]_[331]>, lb: -1.0299999713897705, ub: -0.9700000286102295\n",
      "<gurobi.Var output_layer_[-1]_[332]>, lb: -1.0299999713897705, ub: -0.9700000286102295\n",
      "<gurobi.Var output_layer_[-1]_[333]>, lb: -1.0299999713897705, ub: -0.9700000286102295\n",
      "<gurobi.Var output_layer_[-1]_[334]>, lb: -1.0299999713897705, ub: -0.9700000286102295\n",
      "<gurobi.Var output_layer_[-1]_[335]>, lb: -1.0299999713897705, ub: -0.9700000286102295\n",
      "<gurobi.Var output_layer_[-1]_[336]>, lb: -1.0299999713897705, ub: -0.9700000286102295\n",
      "<gurobi.Var output_layer_[-1]_[337]>, lb: -1.0299999713897705, ub: -0.9700000286102295\n",
      "<gurobi.Var output_layer_[-1]_[346]>, lb: -0.7162744998931885, ub: -0.6562745571136475\n",
      "<gurobi.Var output_layer_[-1]_[347]>, lb: 0.6484314203262329, ub: 0.7084313631057739\n",
      "<gurobi.Var output_layer_[-1]_[349]>, lb: 0.9621568918228149, ub: 1.022156834602356\n",
      "<gurobi.Var output_layer_[-1]_[350]>, lb: 0.9621568918228149, ub: 1.022156834602356\n",
      "<gurobi.Var output_layer_[-1]_[351]>, lb: 0.9621568918228149, ub: 1.022156834602356\n",
      "<gurobi.Var output_layer_[-1]_[352]>, lb: 0.9621568918228149, ub: 1.022156834602356\n",
      "<gurobi.Var output_layer_[-1]_[353]>, lb: 0.9621568918228149, ub: 1.022156834602356\n",
      "<gurobi.Var output_layer_[-1]_[357]>, lb: -1.0299999713897705, ub: -0.9700000286102295\n",
      "<gurobi.Var output_layer_[-1]_[358]>, lb: -1.0299999713897705, ub: -0.9700000286102295\n",
      "<gurobi.Var output_layer_[-1]_[359]>, lb: -1.0299999713897705, ub: -0.9700000286102295\n",
      "<gurobi.Var output_layer_[-1]_[360]>, lb: -1.0299999713897705, ub: -0.9700000286102295\n",
      "<gurobi.Var output_layer_[-1]_[361]>, lb: -1.0299999713897705, ub: -0.9700000286102295\n",
      "<gurobi.Var output_layer_[-1]_[362]>, lb: -1.0299999713897705, ub: -0.9700000286102295\n",
      "<gurobi.Var output_layer_[-1]_[363]>, lb: -1.0299999713897705, ub: -0.9700000286102295\n",
      "<gurobi.Var output_layer_[-1]_[365]>, lb: -1.0299999713897705, ub: -0.9700000286102295\n",
      "<gurobi.Var output_layer_[-1]_[368]>, lb: -1.0299999713897705, ub: -0.9700000286102295\n",
      "<gurobi.Var output_layer_[-1]_[375]>, lb: 0.9072549343109131, ub: 0.9672548770904541\n",
      "<gurobi.Var output_layer_[-1]_[378]>, lb: 0.9621568918228149, ub: 1.022156834602356\n",
      "<gurobi.Var output_layer_[-1]_[379]>, lb: 0.9621568918228149, ub: 1.022156834602356\n",
      "<gurobi.Var output_layer_[-1]_[380]>, lb: 0.9621568918228149, ub: 1.022156834602356\n",
      "<gurobi.Var output_layer_[-1]_[390]>, lb: -1.0299999713897705, ub: -0.9700000286102295\n",
      "<gurobi.Var output_layer_[-1]_[391]>, lb: -1.0299999713897705, ub: -0.9700000286102295\n",
      "<gurobi.Var output_layer_[-1]_[393]>, lb: -1.0299999713897705, ub: -0.9700000286102295\n",
      "<gurobi.Var output_layer_[-1]_[395]>, lb: -1.0299999713897705, ub: -0.9700000286102295\n",
      "<gurobi.Var output_layer_[-1]_[399]>, lb: -1.0299999713897705, ub: -0.9700000286102295\n",
      "<gurobi.Var output_layer_[-1]_[404]>, lb: 0.8994117975234985, ub: 0.9594117403030396\n",
      "<gurobi.Var output_layer_[-1]_[406]>, lb: 0.9621568918228149, ub: 1.022156834602356\n",
      "<gurobi.Var output_layer_[-1]_[407]>, lb: 0.9621568918228149, ub: 1.022156834602356\n",
      "<gurobi.Var output_layer_[-1]_[408]>, lb: 0.9621568918228149, ub: 1.022156834602356\n",
      "<gurobi.Var output_layer_[-1]_[424]>, lb: -1.0299999713897705, ub: -0.9700000286102295\n",
      "<gurobi.Var output_layer_[-1]_[427]>, lb: -1.0299999713897705, ub: -0.9700000286102295\n",
      "<gurobi.Var output_layer_[-1]_[428]>, lb: -1.0299999713897705, ub: -0.9700000286102295\n",
      "<gurobi.Var output_layer_[-1]_[430]>, lb: -1.0299999713897705, ub: -0.9700000286102295\n",
      "<gurobi.Var output_layer_[-1]_[431]>, lb: -1.0299999713897705, ub: -0.9700000286102295\n",
      "<gurobi.Var output_layer_[-1]_[432]>, lb: -0.4574509561061859, ub: -0.3974509537220001\n",
      "<gurobi.Var output_layer_[-1]_[446]>, lb: -1.0299999713897705, ub: -0.9700000286102295\n",
      "<gurobi.Var output_layer_[-1]_[447]>, lb: -1.0299999713897705, ub: -0.9700000286102295\n",
      "<gurobi.Var output_layer_[-1]_[448]>, lb: -1.0299999713897705, ub: -0.9700000286102295\n",
      "<gurobi.Var output_layer_[-1]_[449]>, lb: -1.0299999713897705, ub: -0.9700000286102295\n",
      "<gurobi.Var output_layer_[-1]_[451]>, lb: -1.0299999713897705, ub: -0.9700000286102295\n",
      "<gurobi.Var output_layer_[-1]_[453]>, lb: -1.0299999713897705, ub: -0.9700000286102295\n",
      "<gurobi.Var output_layer_[-1]_[456]>, lb: -1.0299999713897705, ub: -0.9700000286102295\n",
      "<gurobi.Var output_layer_[-1]_[457]>, lb: -1.0299999713897705, ub: -0.9700000286102295\n",
      "<gurobi.Var output_layer_[-1]_[458]>, lb: -1.0299999713897705, ub: -0.9700000286102295\n",
      "<gurobi.Var output_layer_[-1]_[459]>, lb: -1.0299999713897705, ub: -0.9700000286102295\n",
      "<gurobi.Var output_layer_[-1]_[460]>, lb: -1.0299999713897705, ub: -0.9700000286102295\n",
      "<gurobi.Var output_layer_[-1]_[461]>, lb: -1.0299999713897705, ub: -0.9700000286102295\n",
      "<gurobi.Var output_layer_[-1]_[462]>, lb: -1.0299999713897705, ub: -0.9700000286102295\n",
      "<gurobi.Var output_layer_[-1]_[463]>, lb: -1.022156834602356, ub: -0.9621568918228149\n",
      "<gurobi.Var output_layer_[-1]_[472]>, lb: -1.0299999713897705, ub: -0.9700000286102295\n",
      "<gurobi.Var output_layer_[-1]_[476]>, lb: -1.0299999713897705, ub: -0.9700000286102295\n",
      "<gurobi.Var output_layer_[-1]_[479]>, lb: -1.0299999713897705, ub: -0.9700000286102295\n",
      "<gurobi.Var output_layer_[-1]_[480]>, lb: -1.0299999713897705, ub: -0.9700000286102295\n",
      "<gurobi.Var output_layer_[-1]_[481]>, lb: -1.0299999713897705, ub: -0.9700000286102295\n",
      "<gurobi.Var output_layer_[-1]_[482]>, lb: -1.0299999713897705, ub: -0.9700000286102295\n",
      "<gurobi.Var output_layer_[-1]_[483]>, lb: -1.0299999713897705, ub: -0.9700000286102295\n",
      "<gurobi.Var output_layer_[-1]_[484]>, lb: -1.0299999713897705, ub: -0.9700000286102295\n",
      "<gurobi.Var output_layer_[-1]_[485]>, lb: -1.0299999713897705, ub: -0.9700000286102295\n",
      "<gurobi.Var output_layer_[-1]_[486]>, lb: -1.0299999713897705, ub: -0.9700000286102295\n",
      "<gurobi.Var output_layer_[-1]_[487]>, lb: -1.0299999713897705, ub: -0.9700000286102295\n",
      "<gurobi.Var output_layer_[-1]_[489]>, lb: -1.0299999713897705, ub: -0.9700000286102295\n",
      "<gurobi.Var output_layer_[-1]_[490]>, lb: -1.0299999713897705, ub: -0.9700000286102295\n",
      "<gurobi.Var output_layer_[-1]_[491]>, lb: -0.9750980138778687, ub: -0.9150980710983276\n",
      "<gurobi.Var output_layer_[-1]_[498]>, lb: -1.0299999713897705, ub: -0.9700000286102295\n",
      "<gurobi.Var output_layer_[-1]_[500]>, lb: -1.0299999713897705, ub: -0.9700000286102295\n",
      "<gurobi.Var output_layer_[-1]_[501]>, lb: -1.0299999713897705, ub: -0.9700000286102295\n",
      "<gurobi.Var output_layer_[-1]_[504]>, lb: -1.0299999713897705, ub: -0.9700000286102295\n",
      "<gurobi.Var output_layer_[-1]_[505]>, lb: -1.0299999713897705, ub: -0.9700000286102295\n",
      "<gurobi.Var output_layer_[-1]_[508]>, lb: -1.0299999713897705, ub: -0.9700000286102295\n",
      "<gurobi.Var output_layer_[-1]_[509]>, lb: -1.0299999713897705, ub: -0.9700000286102295\n",
      "<gurobi.Var output_layer_[-1]_[510]>, lb: -1.0299999713897705, ub: -0.9700000286102295\n",
      "<gurobi.Var output_layer_[-1]_[511]>, lb: -1.0299999713897705, ub: -0.9700000286102295\n",
      "<gurobi.Var output_layer_[-1]_[512]>, lb: -1.0299999713897705, ub: -0.9700000286102295\n",
      "<gurobi.Var output_layer_[-1]_[518]>, lb: -1.0299999713897705, ub: -0.9700000286102295\n",
      "<gurobi.Var output_layer_[-1]_[519]>, lb: 0.05235299468040466, ub: 0.11235299706459045\n",
      "<gurobi.Var output_layer_[-1]_[528]>, lb: -1.0299999713897705, ub: -0.9700000286102295\n",
      "<gurobi.Var output_layer_[-1]_[529]>, lb: -1.0299999713897705, ub: -0.9700000286102295\n",
      "<gurobi.Var output_layer_[-1]_[530]>, lb: -1.0299999713897705, ub: -0.9700000286102295\n",
      "<gurobi.Var output_layer_[-1]_[531]>, lb: -1.0299999713897705, ub: -0.9700000286102295\n",
      "<gurobi.Var output_layer_[-1]_[532]>, lb: -1.0299999713897705, ub: -0.9700000286102295\n",
      "<gurobi.Var output_layer_[-1]_[533]>, lb: -1.0299999713897705, ub: -0.9700000286102295\n",
      "<gurobi.Var output_layer_[-1]_[537]>, lb: -1.0299999713897705, ub: -0.9700000286102295\n",
      "<gurobi.Var output_layer_[-1]_[538]>, lb: -0.880980372428894, ub: -0.820980429649353\n",
      "<gurobi.Var output_layer_[-1]_[539]>, lb: 0.35823532938957214, ub: 0.41823533177375793\n",
      "<gurobi.Var output_layer_[-1]_[540]>, lb: -0.32411763072013855, ub: -0.26411762833595276\n",
      "<gurobi.Var output_layer_[-1]_[545]>, lb: -1.0299999713897705, ub: -0.9700000286102295\n",
      "<gurobi.Var output_layer_[-1]_[546]>, lb: -0.8339215517044067, ub: -0.7739216089248657\n",
      "<gurobi.Var output_layer_[-1]_[548]>, lb: 0.9621568918228149, ub: 1.022156834602356\n",
      "<gurobi.Var output_layer_[-1]_[550]>, lb: -0.7633333206176758, ub: -0.7033333778381348\n",
      "<gurobi.Var output_layer_[-1]_[551]>, lb: -1.0299999713897705, ub: -0.9700000286102295\n",
      "<gurobi.Var output_layer_[-1]_[555]>, lb: -1.0299999713897705, ub: -0.9700000286102295\n",
      "<gurobi.Var output_layer_[-1]_[556]>, lb: -1.0299999713897705, ub: -0.9700000286102295\n",
      "<gurobi.Var output_layer_[-1]_[557]>, lb: -1.0299999713897705, ub: -0.9700000286102295\n",
      "<gurobi.Var output_layer_[-1]_[559]>, lb: -1.0299999713897705, ub: -0.9700000286102295\n",
      "<gurobi.Var output_layer_[-1]_[561]>, lb: -1.0299999713897705, ub: -0.9700000286102295\n",
      "<gurobi.Var output_layer_[-1]_[562]>, lb: -1.0299999713897705, ub: -0.9700000286102295\n",
      "<gurobi.Var output_layer_[-1]_[564]>, lb: -1.0299999713897705, ub: -0.9700000286102295\n",
      "<gurobi.Var output_layer_[-1]_[565]>, lb: -1.0299999713897705, ub: -0.9700000286102295\n",
      "<gurobi.Var output_layer_[-1]_[566]>, lb: 0.256274551153183, ub: 0.3162745535373688\n",
      "<gurobi.Var output_layer_[-1]_[567]>, lb: 0.9621568918228149, ub: 1.022156834602356\n",
      "<gurobi.Var output_layer_[-1]_[568]>, lb: 0.6562745571136475, ub: 0.7162744998931885\n",
      "<gurobi.Var output_layer_[-1]_[574]>, lb: 0.5856863260269165, ub: 0.6456862688064575\n",
      "<gurobi.Var output_layer_[-1]_[575]>, lb: 0.9621568918228149, ub: 1.022156834602356\n",
      "<gurobi.Var output_layer_[-1]_[576]>, lb: 0.9621568918228149, ub: 1.022156834602356\n",
      "<gurobi.Var output_layer_[-1]_[577]>, lb: 0.060196131467819214, ub: 0.120196133852005\n",
      "<gurobi.Var output_layer_[-1]_[578]>, lb: -0.9672548770904541, ub: -0.9072549343109131\n",
      "<gurobi.Var output_layer_[-1]_[579]>, lb: -1.0299999713897705, ub: -0.9700000286102295\n",
      "<gurobi.Var output_layer_[-1]_[580]>, lb: -1.0299999713897705, ub: -0.9700000286102295\n",
      "<gurobi.Var output_layer_[-1]_[584]>, lb: -1.0299999713897705, ub: -0.9700000286102295\n",
      "<gurobi.Var output_layer_[-1]_[585]>, lb: -1.0299999713897705, ub: -0.9700000286102295\n",
      "<gurobi.Var output_layer_[-1]_[588]>, lb: -1.0299999713897705, ub: -0.9700000286102295\n",
      "<gurobi.Var output_layer_[-1]_[590]>, lb: -1.0299999713897705, ub: -0.9700000286102295\n",
      "<gurobi.Var output_layer_[-1]_[592]>, lb: -1.0299999713897705, ub: -0.9700000286102295\n",
      "<gurobi.Var output_layer_[-1]_[593]>, lb: -1.0299999713897705, ub: -0.9700000286102295\n",
      "<gurobi.Var output_layer_[-1]_[594]>, lb: -0.5829411745071411, ub: -0.5229412317276001\n",
      "<gurobi.Var output_layer_[-1]_[595]>, lb: 0.5150980949401855, ub: 0.5750980377197266\n",
      "<gurobi.Var output_layer_[-1]_[599]>, lb: 0.3817647397518158, ub: 0.4417647421360016\n",
      "<gurobi.Var output_layer_[-1]_[601]>, lb: 0.9621568918228149, ub: 1.022156834602356\n",
      "<gurobi.Var output_layer_[-1]_[606]>, lb: -1.0299999713897705, ub: -0.9700000286102295\n",
      "<gurobi.Var output_layer_[-1]_[607]>, lb: -1.0299999713897705, ub: -0.9700000286102295\n",
      "<gurobi.Var output_layer_[-1]_[608]>, lb: -1.0299999713897705, ub: -0.9700000286102295\n",
      "<gurobi.Var output_layer_[-1]_[611]>, lb: -1.0299999713897705, ub: -0.9700000286102295\n",
      "<gurobi.Var output_layer_[-1]_[612]>, lb: -1.0299999713897705, ub: -0.9700000286102295\n",
      "<gurobi.Var output_layer_[-1]_[613]>, lb: -1.0299999713897705, ub: -0.9700000286102295\n",
      "<gurobi.Var output_layer_[-1]_[620]>, lb: -1.0299999713897705, ub: -0.9700000286102295\n",
      "<gurobi.Var output_layer_[-1]_[622]>, lb: -1.0299999713897705, ub: -0.9700000286102295\n",
      "<gurobi.Var output_layer_[-1]_[623]>, lb: 0.06803926825523376, ub: 0.12803927063941956\n",
      "<gurobi.Var output_layer_[-1]_[626]>, lb: 0.9621568918228149, ub: 1.022156834602356\n",
      "<gurobi.Var output_layer_[-1]_[629]>, lb: 0.9621568918228149, ub: 1.022156834602356\n",
      "<gurobi.Var output_layer_[-1]_[630]>, lb: 0.9621568918228149, ub: 1.022156834602356\n",
      "<gurobi.Var output_layer_[-1]_[632]>, lb: -1.0299999713897705, ub: -0.9700000286102295\n",
      "<gurobi.Var output_layer_[-1]_[633]>, lb: -1.0299999713897705, ub: -0.9700000286102295\n",
      "<gurobi.Var output_layer_[-1]_[634]>, lb: -1.0299999713897705, ub: -0.9700000286102295\n",
      "<gurobi.Var output_layer_[-1]_[635]>, lb: -1.0299999713897705, ub: -0.9700000286102295\n",
      "<gurobi.Var output_layer_[-1]_[636]>, lb: -1.0299999713897705, ub: -0.9700000286102295\n",
      "<gurobi.Var output_layer_[-1]_[639]>, lb: -1.0299999713897705, ub: -0.9700000286102295\n",
      "<gurobi.Var output_layer_[-1]_[640]>, lb: -1.0299999713897705, ub: -0.9700000286102295\n",
      "<gurobi.Var output_layer_[-1]_[641]>, lb: -1.0299999713897705, ub: -0.9700000286102295\n",
      "<gurobi.Var output_layer_[-1]_[643]>, lb: -1.0299999713897705, ub: -0.9700000286102295\n",
      "<gurobi.Var output_layer_[-1]_[644]>, lb: -1.0299999713897705, ub: -0.9700000286102295\n",
      "<gurobi.Var output_layer_[-1]_[650]>, lb: -1.0299999713897705, ub: -0.9700000286102295\n",
      "<gurobi.Var output_layer_[-1]_[651]>, lb: -1.0299999713897705, ub: -0.9700000286102295\n",
      "<gurobi.Var output_layer_[-1]_[652]>, lb: -0.9750980138778687, ub: -0.9150980710983276\n",
      "<gurobi.Var output_layer_[-1]_[656]>, lb: 0.9621568918228149, ub: 1.022156834602356\n",
      "<gurobi.Var output_layer_[-1]_[657]>, lb: 0.9621568918228149, ub: 1.022156834602356\n",
      "<gurobi.Var output_layer_[-1]_[659]>, lb: -0.637843132019043, ub: -0.577843189239502\n",
      "<gurobi.Var output_layer_[-1]_[660]>, lb: -1.0299999713897705, ub: -0.9700000286102295\n",
      "<gurobi.Var output_layer_[-1]_[661]>, lb: -1.0299999713897705, ub: -0.9700000286102295\n",
      "<gurobi.Var output_layer_[-1]_[662]>, lb: -1.0299999713897705, ub: -0.9700000286102295\n",
      "<gurobi.Var output_layer_[-1]_[663]>, lb: -1.0299999713897705, ub: -0.9700000286102295\n",
      "<gurobi.Var output_layer_[-1]_[664]>, lb: -1.0299999713897705, ub: -0.9700000286102295\n",
      "<gurobi.Var output_layer_[-1]_[667]>, lb: -1.0299999713897705, ub: -0.9700000286102295\n",
      "<gurobi.Var output_layer_[-1]_[671]>, lb: -1.0299999713897705, ub: -0.9700000286102295\n",
      "<gurobi.Var output_layer_[-1]_[672]>, lb: -1.0299999713897705, ub: -0.9700000286102295\n",
      "<gurobi.Var output_layer_[-1]_[673]>, lb: -1.0299999713897705, ub: -0.9700000286102295\n",
      "<gurobi.Var output_layer_[-1]_[678]>, lb: -1.0299999713897705, ub: -0.9700000286102295\n",
      "<gurobi.Var output_layer_[-1]_[679]>, lb: -1.0299999713897705, ub: -0.9700000286102295\n",
      "<gurobi.Var output_layer_[-1]_[680]>, lb: -1.0299999713897705, ub: -0.9700000286102295\n",
      "<gurobi.Var output_layer_[-1]_[681]>, lb: -1.0299999713897705, ub: -0.9700000286102295\n",
      "<gurobi.Var output_layer_[-1]_[696]>, lb: -1.0299999713897705, ub: -0.9700000286102295\n",
      "<gurobi.Var output_layer_[-1]_[697]>, lb: -1.0299999713897705, ub: -0.9700000286102295\n",
      "<gurobi.Var output_layer_[-1]_[698]>, lb: -1.0299999713897705, ub: -0.9700000286102295\n",
      "<gurobi.Var output_layer_[-1]_[701]>, lb: -1.0299999713897705, ub: -0.9700000286102295\n",
      "<gurobi.Var output_layer_[-1]_[702]>, lb: -1.0299999713897705, ub: -0.9700000286102295\n",
      "<gurobi.Var output_layer_[-1]_[707]>, lb: -1.0299999713897705, ub: -0.9700000286102295\n",
      "<gurobi.Var output_layer_[-1]_[712]>, lb: -1.0299999713897705, ub: -0.9700000286102295\n",
      "<gurobi.Var output_layer_[-1]_[715]>, lb: -1.0299999713897705, ub: -0.9700000286102295\n",
      "<gurobi.Var output_layer_[-1]_[716]>, lb: -1.0299999713897705, ub: -0.9700000286102295\n",
      "<gurobi.Var output_layer_[-1]_[717]>, lb: -1.0299999713897705, ub: -0.9700000286102295\n",
      "<gurobi.Var output_layer_[-1]_[718]>, lb: -1.0299999713897705, ub: -0.9700000286102295\n",
      "<gurobi.Var output_layer_[-1]_[719]>, lb: -1.0299999713897705, ub: -0.9700000286102295\n",
      "<gurobi.Var output_layer_[-1]_[720]>, lb: -1.0299999713897705, ub: -0.9700000286102295\n",
      "<gurobi.Var output_layer_[-1]_[728]>, lb: -1.0299999713897705, ub: -0.9700000286102295\n",
      "<gurobi.Var output_layer_[-1]_[729]>, lb: -1.0299999713897705, ub: -0.9700000286102295\n",
      "<gurobi.Var output_layer_[-1]_[731]>, lb: -1.0299999713897705, ub: -0.9700000286102295\n",
      "<gurobi.Var output_layer_[-1]_[735]>, lb: -1.0299999713897705, ub: -0.9700000286102295\n",
      "<gurobi.Var output_layer_[-1]_[736]>, lb: -1.0299999713897705, ub: -0.9700000286102295\n",
      "<gurobi.Var output_layer_[-1]_[742]>, lb: -1.0299999713897705, ub: -0.9700000286102295\n",
      "<gurobi.Var output_layer_[-1]_[743]>, lb: -1.0299999713897705, ub: -0.9700000286102295\n",
      "<gurobi.Var output_layer_[-1]_[744]>, lb: -1.0299999713897705, ub: -0.9700000286102295\n",
      "<gurobi.Var output_layer_[-1]_[745]>, lb: -1.0299999713897705, ub: -0.9700000286102295\n",
      "<gurobi.Var output_layer_[-1]_[746]>, lb: -1.0299999713897705, ub: -0.9700000286102295\n",
      "<gurobi.Var output_layer_[-1]_[750]>, lb: -1.0299999713897705, ub: -0.9700000286102295\n",
      "<gurobi.Var output_layer_[-1]_[751]>, lb: -1.0299999713897705, ub: -0.9700000286102295\n",
      "<gurobi.Var output_layer_[-1]_[752]>, lb: -1.0299999713897705, ub: -0.9700000286102295\n",
      "<gurobi.Var output_layer_[-1]_[753]>, lb: -1.0299999713897705, ub: -0.9700000286102295\n",
      "<gurobi.Var output_layer_[-1]_[755]>, lb: -1.0299999713897705, ub: -0.9700000286102295\n",
      "<gurobi.Var output_layer_[-1]_[756]>, lb: -1.0299999713897705, ub: -0.9700000286102295\n",
      "<gurobi.Var output_layer_[-1]_[757]>, lb: -1.0299999713897705, ub: -0.9700000286102295\n",
      "<gurobi.Var output_layer_[-1]_[762]>, lb: -1.0299999713897705, ub: -0.9700000286102295\n",
      "<gurobi.Var output_layer_[-1]_[763]>, lb: -1.0299999713897705, ub: -0.9700000286102295\n",
      "<gurobi.Var output_layer_[-1]_[764]>, lb: -1.0299999713897705, ub: -0.9700000286102295\n",
      "<gurobi.Var output_layer_[-1]_[767]>, lb: -1.0299999713897705, ub: -0.9700000286102295\n",
      "<gurobi.Var output_layer_[-1]_[768]>, lb: -1.0299999713897705, ub: -0.9700000286102295\n",
      "<gurobi.Var output_layer_[-1]_[769]>, lb: -1.0299999713897705, ub: -0.9700000286102295\n",
      "<gurobi.Var output_layer_[-1]_[770]>, lb: -1.0299999713897705, ub: -0.9700000286102295\n",
      "<gurobi.Var output_layer_[-1]_[772]>, lb: -1.0299999713897705, ub: -0.9700000286102295\n",
      "<gurobi.Var output_layer_[-1]_[774]>, lb: -1.0299999713897705, ub: -0.9700000286102295\n",
      "<gurobi.Var output_layer_[-1]_[776]>, lb: -1.0299999713897705, ub: -0.9700000286102295\n",
      "<gurobi.Var output_layer_[-1]_[778]>, lb: -1.0299999713897705, ub: -0.9700000286102295\n",
      "<gurobi.Var output_layer_[-1]_[779]>, lb: -1.0299999713897705, ub: -0.9700000286102295\n",
      "<gurobi.Var output_layer_[-1]_[780]>, lb: -1.0299999713897705, ub: -0.9700000286102295\n",
      "<gurobi.Var output_layer_[-1]_[781]>, lb: -1.0299999713897705, ub: -0.9700000286102295\n",
      "upper bound\n",
      "<gurobi.Var output_layer_[-1]_[0]>, lb: -1.0299999713897705, ub: -0.9700000286102295\n",
      "<gurobi.Var output_layer_[-1]_[1]>, lb: -1.0299999713897705, ub: -0.9700000286102295\n",
      "<gurobi.Var output_layer_[-1]_[4]>, lb: -1.0299999713897705, ub: -0.9700000286102295\n",
      "<gurobi.Var output_layer_[-1]_[5]>, lb: -1.0299999713897705, ub: -0.9700000286102295\n",
      "<gurobi.Var output_layer_[-1]_[8]>, lb: -1.0299999713897705, ub: -0.9700000286102295\n",
      "<gurobi.Var output_layer_[-1]_[11]>, lb: -1.0299999713897705, ub: -0.9700000286102295\n",
      "<gurobi.Var output_layer_[-1]_[13]>, lb: -1.0299999713897705, ub: -0.9700000286102295\n",
      "<gurobi.Var output_layer_[-1]_[14]>, lb: -1.0299999713897705, ub: -0.9700000286102295\n",
      "<gurobi.Var output_layer_[-1]_[17]>, lb: -1.0299999713897705, ub: -0.9700000286102295\n",
      "<gurobi.Var output_layer_[-1]_[18]>, lb: -1.0299999713897705, ub: -0.9700000286102295\n",
      "<gurobi.Var output_layer_[-1]_[22]>, lb: -1.0299999713897705, ub: -0.9700000286102295\n",
      "<gurobi.Var output_layer_[-1]_[26]>, lb: -1.0299999713897705, ub: -0.9700000286102295\n",
      "<gurobi.Var output_layer_[-1]_[27]>, lb: -1.0299999713897705, ub: -0.9700000286102295\n",
      "<gurobi.Var output_layer_[-1]_[28]>, lb: -1.0299999713897705, ub: -0.9700000286102295\n",
      "<gurobi.Var output_layer_[-1]_[31]>, lb: -1.0299999713897705, ub: -0.9700000286102295\n",
      "<gurobi.Var output_layer_[-1]_[37]>, lb: -1.0299999713897705, ub: -0.9700000286102295\n",
      "<gurobi.Var output_layer_[-1]_[39]>, lb: -1.0299999713897705, ub: -0.9700000286102295\n",
      "<gurobi.Var output_layer_[-1]_[40]>, lb: -1.0299999713897705, ub: -0.9700000286102295\n",
      "<gurobi.Var output_layer_[-1]_[46]>, lb: -1.0299999713897705, ub: -0.9700000286102295\n",
      "<gurobi.Var output_layer_[-1]_[47]>, lb: -1.0299999713897705, ub: -0.9700000286102295\n",
      "<gurobi.Var output_layer_[-1]_[51]>, lb: -1.0299999713897705, ub: -0.9700000286102295\n",
      "<gurobi.Var output_layer_[-1]_[53]>, lb: -1.0299999713897705, ub: -0.9700000286102295\n",
      "<gurobi.Var output_layer_[-1]_[56]>, lb: -1.0299999713897705, ub: -0.9700000286102295\n",
      "<gurobi.Var output_layer_[-1]_[58]>, lb: -1.0299999713897705, ub: -0.9700000286102295\n",
      "<gurobi.Var output_layer_[-1]_[59]>, lb: -1.0299999713897705, ub: -0.9700000286102295\n",
      "<gurobi.Var output_layer_[-1]_[60]>, lb: -1.0299999713897705, ub: -0.9700000286102295\n",
      "<gurobi.Var output_layer_[-1]_[64]>, lb: -1.0299999713897705, ub: -0.9700000286102295\n",
      "<gurobi.Var output_layer_[-1]_[65]>, lb: -1.0299999713897705, ub: -0.9700000286102295\n",
      "<gurobi.Var output_layer_[-1]_[67]>, lb: -1.0299999713897705, ub: -0.9700000286102295\n",
      "<gurobi.Var output_layer_[-1]_[68]>, lb: -1.0299999713897705, ub: -0.9700000286102295\n",
      "<gurobi.Var output_layer_[-1]_[69]>, lb: -1.0299999713897705, ub: -0.9700000286102295\n",
      "<gurobi.Var output_layer_[-1]_[70]>, lb: -1.0299999713897705, ub: -0.9700000286102295\n",
      "<gurobi.Var output_layer_[-1]_[71]>, lb: -1.0299999713897705, ub: -0.9700000286102295\n",
      "<gurobi.Var output_layer_[-1]_[73]>, lb: -1.0299999713897705, ub: -0.9700000286102295\n",
      "<gurobi.Var output_layer_[-1]_[74]>, lb: -1.0299999713897705, ub: -0.9700000286102295\n",
      "<gurobi.Var output_layer_[-1]_[75]>, lb: -1.0299999713897705, ub: -0.9700000286102295\n",
      "<gurobi.Var output_layer_[-1]_[77]>, lb: -1.0299999713897705, ub: -0.9700000286102295\n",
      "<gurobi.Var output_layer_[-1]_[78]>, lb: -1.0299999713897705, ub: -0.9700000286102295\n",
      "<gurobi.Var output_layer_[-1]_[81]>, lb: -1.0299999713897705, ub: -0.9700000286102295\n",
      "<gurobi.Var output_layer_[-1]_[82]>, lb: -1.0299999713897705, ub: -0.9700000286102295\n",
      "<gurobi.Var output_layer_[-1]_[84]>, lb: -1.0299999713897705, ub: -0.9700000286102295\n",
      "<gurobi.Var output_layer_[-1]_[85]>, lb: -1.0299999713897705, ub: -0.9700000286102295\n",
      "<gurobi.Var output_layer_[-1]_[88]>, lb: -1.0299999713897705, ub: -0.9700000286102295\n",
      "<gurobi.Var output_layer_[-1]_[89]>, lb: -1.0299999713897705, ub: -0.9700000286102295\n",
      "<gurobi.Var output_layer_[-1]_[92]>, lb: -1.0299999713897705, ub: -0.9700000286102295\n",
      "<gurobi.Var output_layer_[-1]_[93]>, lb: -1.0299999713897705, ub: -0.9700000286102295\n",
      "<gurobi.Var output_layer_[-1]_[94]>, lb: -1.0299999713897705, ub: -0.9700000286102295\n",
      "<gurobi.Var output_layer_[-1]_[95]>, lb: -1.0299999713897705, ub: -0.9700000286102295\n",
      "<gurobi.Var output_layer_[-1]_[97]>, lb: -1.0299999713897705, ub: -0.9700000286102295\n",
      "<gurobi.Var output_layer_[-1]_[98]>, lb: -1.0299999713897705, ub: -0.9700000286102295\n",
      "<gurobi.Var output_layer_[-1]_[100]>, lb: -1.0299999713897705, ub: -0.9700000286102295\n",
      "<gurobi.Var output_layer_[-1]_[101]>, lb: -1.0299999713897705, ub: -0.9700000286102295\n",
      "<gurobi.Var output_layer_[-1]_[102]>, lb: -1.0299999713897705, ub: -0.9700000286102295\n",
      "<gurobi.Var output_layer_[-1]_[103]>, lb: -1.0299999713897705, ub: -0.9700000286102295\n",
      "<gurobi.Var output_layer_[-1]_[104]>, lb: -1.0299999713897705, ub: -0.9700000286102295\n",
      "<gurobi.Var output_layer_[-1]_[105]>, lb: -1.0299999713897705, ub: -0.9700000286102295\n",
      "<gurobi.Var output_layer_[-1]_[108]>, lb: -1.0299999713897705, ub: -0.9700000286102295\n",
      "<gurobi.Var output_layer_[-1]_[111]>, lb: -1.0299999713897705, ub: -0.9700000286102295\n",
      "<gurobi.Var output_layer_[-1]_[117]>, lb: -1.0299999713897705, ub: -0.9700000286102295\n",
      "<gurobi.Var output_layer_[-1]_[118]>, lb: -1.0299999713897705, ub: -0.9700000286102295\n",
      "<gurobi.Var output_layer_[-1]_[119]>, lb: -1.0299999713897705, ub: -0.9700000286102295\n",
      "<gurobi.Var output_layer_[-1]_[120]>, lb: -1.0299999713897705, ub: -0.9700000286102295\n",
      "<gurobi.Var output_layer_[-1]_[121]>, lb: -1.0299999713897705, ub: -0.9700000286102295\n",
      "<gurobi.Var output_layer_[-1]_[122]>, lb: -1.0299999713897705, ub: -0.9700000286102295\n",
      "<gurobi.Var output_layer_[-1]_[123]>, lb: -0.7005882263183594, ub: -0.6405882835388184\n",
      "<gurobi.Var output_layer_[-1]_[124]>, lb: -0.10450980067253113, ub: -0.04450979828834534\n",
      "<gurobi.Var output_layer_[-1]_[128]>, lb: -0.10450980067253113, ub: -0.04450979828834534\n",
      "<gurobi.Var output_layer_[-1]_[129]>, lb: -0.9829411506652832, ub: -0.9229412078857422\n",
      "<gurobi.Var output_layer_[-1]_[130]>, lb: -1.0299999713897705, ub: -0.9700000286102295\n",
      "<gurobi.Var output_layer_[-1]_[131]>, lb: -1.0299999713897705, ub: -0.9700000286102295\n",
      "<gurobi.Var output_layer_[-1]_[132]>, lb: -1.0299999713897705, ub: -0.9700000286102295\n",
      "<gurobi.Var output_layer_[-1]_[133]>, lb: -1.0299999713897705, ub: -0.9700000286102295\n",
      "<gurobi.Var output_layer_[-1]_[136]>, lb: -1.0299999713897705, ub: -0.9700000286102295\n",
      "<gurobi.Var output_layer_[-1]_[141]>, lb: -1.0299999713897705, ub: -0.9700000286102295\n",
      "<gurobi.Var output_layer_[-1]_[145]>, lb: -1.0299999713897705, ub: -0.9700000286102295\n",
      "<gurobi.Var output_layer_[-1]_[146]>, lb: -1.0299999713897705, ub: -0.9700000286102295\n",
      "<gurobi.Var output_layer_[-1]_[147]>, lb: -1.0299999713897705, ub: -0.9700000286102295\n",
      "<gurobi.Var output_layer_[-1]_[148]>, lb: -1.0299999713897705, ub: -0.9700000286102295\n",
      "<gurobi.Var output_layer_[-1]_[149]>, lb: -1.0299999713897705, ub: -0.9700000286102295\n",
      "<gurobi.Var output_layer_[-1]_[150]>, lb: -0.2221568524837494, ub: -0.1621568500995636\n",
      "<gurobi.Var output_layer_[-1]_[151]>, lb: 0.8680392503738403, ub: 0.9280391931533813\n",
      "<gurobi.Var output_layer_[-1]_[154]>, lb: 0.9621568918228149, ub: 1.022156834602356\n",
      "<gurobi.Var output_layer_[-1]_[155]>, lb: 0.9621568918228149, ub: 1.022156834602356\n",
      "<gurobi.Var output_layer_[-1]_[156]>, lb: 0.9621568918228149, ub: 1.022156834602356\n",
      "<gurobi.Var output_layer_[-1]_[163]>, lb: -1.0299999713897705, ub: -0.9700000286102295\n",
      "<gurobi.Var output_layer_[-1]_[164]>, lb: -1.0299999713897705, ub: -0.9700000286102295\n",
      "<gurobi.Var output_layer_[-1]_[166]>, lb: -1.0299999713897705, ub: -0.9700000286102295\n",
      "<gurobi.Var output_layer_[-1]_[167]>, lb: -1.0299999713897705, ub: -0.9700000286102295\n",
      "<gurobi.Var output_layer_[-1]_[168]>, lb: -1.0299999713897705, ub: -0.9700000286102295\n",
      "<gurobi.Var output_layer_[-1]_[169]>, lb: -1.0299999713897705, ub: -0.9700000286102295\n",
      "<gurobi.Var output_layer_[-1]_[170]>, lb: -1.0299999713897705, ub: -0.9700000286102295\n",
      "<gurobi.Var output_layer_[-1]_[171]>, lb: -1.0299999713897705, ub: -0.9700000286102295\n",
      "<gurobi.Var output_layer_[-1]_[172]>, lb: -1.0299999713897705, ub: -0.9700000286102295\n",
      "<gurobi.Var output_layer_[-1]_[173]>, lb: -1.0299999713897705, ub: -0.9700000286102295\n",
      "<gurobi.Var output_layer_[-1]_[174]>, lb: -1.0299999713897705, ub: -0.9700000286102295\n",
      "<gurobi.Var output_layer_[-1]_[175]>, lb: -1.0299999713897705, ub: -0.9700000286102295\n",
      "<gurobi.Var output_layer_[-1]_[176]>, lb: -1.0299999713897705, ub: -0.9700000286102295\n",
      "<gurobi.Var output_layer_[-1]_[177]>, lb: -1.0299999713897705, ub: -0.9700000286102295\n",
      "<gurobi.Var output_layer_[-1]_[178]>, lb: -0.8888235092163086, ub: -0.8288235664367676\n",
      "<gurobi.Var output_layer_[-1]_[179]>, lb: 0.7896078824996948, ub: 0.8496078252792358\n",
      "<gurobi.Var output_layer_[-1]_[187]>, lb: -1.0299999713897705, ub: -0.9700000286102295\n",
      "<gurobi.Var output_layer_[-1]_[192]>, lb: -1.0299999713897705, ub: -0.9700000286102295\n",
      "<gurobi.Var output_layer_[-1]_[193]>, lb: -1.0299999713897705, ub: -0.9700000286102295\n",
      "<gurobi.Var output_layer_[-1]_[195]>, lb: -1.0299999713897705, ub: -0.9700000286102295\n",
      "<gurobi.Var output_layer_[-1]_[197]>, lb: -1.0299999713897705, ub: -0.9700000286102295\n",
      "<gurobi.Var output_layer_[-1]_[198]>, lb: -1.0299999713897705, ub: -0.9700000286102295\n",
      "<gurobi.Var output_layer_[-1]_[199]>, lb: -1.0299999713897705, ub: -0.9700000286102295\n",
      "<gurobi.Var output_layer_[-1]_[200]>, lb: -1.0299999713897705, ub: -0.9700000286102295\n",
      "<gurobi.Var output_layer_[-1]_[201]>, lb: -1.0299999713897705, ub: -0.9700000286102295\n",
      "<gurobi.Var output_layer_[-1]_[202]>, lb: -1.0299999713897705, ub: -0.9700000286102295\n",
      "<gurobi.Var output_layer_[-1]_[203]>, lb: -1.0299999713897705, ub: -0.9700000286102295\n",
      "<gurobi.Var output_layer_[-1]_[204]>, lb: -1.0299999713897705, ub: -0.9700000286102295\n",
      "<gurobi.Var output_layer_[-1]_[205]>, lb: -1.0299999713897705, ub: -0.9700000286102295\n",
      "<gurobi.Var output_layer_[-1]_[206]>, lb: -1.0299999713897705, ub: -0.9700000286102295\n",
      "<gurobi.Var output_layer_[-1]_[207]>, lb: -0.21431371569633484, ub: -0.15431371331214905\n",
      "<gurobi.Var output_layer_[-1]_[213]>, lb: 0.9621568918228149, ub: 1.022156834602356\n",
      "<gurobi.Var output_layer_[-1]_[214]>, lb: 0.07588240504264832, ub: 0.1358824074268341\n",
      "<gurobi.Var output_layer_[-1]_[215]>, lb: -1.0299999713897705, ub: -0.9700000286102295\n",
      "<gurobi.Var output_layer_[-1]_[216]>, lb: -1.0299999713897705, ub: -0.9700000286102295\n",
      "<gurobi.Var output_layer_[-1]_[217]>, lb: -1.0299999713897705, ub: -0.9700000286102295\n",
      "<gurobi.Var output_layer_[-1]_[220]>, lb: -1.0299999713897705, ub: -0.9700000286102295\n",
      "<gurobi.Var output_layer_[-1]_[221]>, lb: -1.0299999713897705, ub: -0.9700000286102295\n",
      "<gurobi.Var output_layer_[-1]_[225]>, lb: -1.0299999713897705, ub: -0.9700000286102295\n",
      "<gurobi.Var output_layer_[-1]_[226]>, lb: -1.0299999713897705, ub: -0.9700000286102295\n",
      "<gurobi.Var output_layer_[-1]_[228]>, lb: -1.0299999713897705, ub: -0.9700000286102295\n",
      "<gurobi.Var output_layer_[-1]_[229]>, lb: -1.0299999713897705, ub: -0.9700000286102295\n",
      "<gurobi.Var output_layer_[-1]_[230]>, lb: -1.0299999713897705, ub: -0.9700000286102295\n",
      "<gurobi.Var output_layer_[-1]_[231]>, lb: -1.0299999713897705, ub: -0.9700000286102295\n",
      "<gurobi.Var output_layer_[-1]_[232]>, lb: -1.0299999713897705, ub: -0.9700000286102295\n",
      "<gurobi.Var output_layer_[-1]_[233]>, lb: -1.0299999713897705, ub: -0.9700000286102295\n",
      "<gurobi.Var output_layer_[-1]_[234]>, lb: -1.0299999713897705, ub: -0.9700000286102295\n",
      "<gurobi.Var output_layer_[-1]_[235]>, lb: -1.0299999713897705, ub: -0.9700000286102295\n",
      "<gurobi.Var output_layer_[-1]_[239]>, lb: 0.9621568918228149, ub: 1.022156834602356\n",
      "<gurobi.Var output_layer_[-1]_[240]>, lb: 0.9621568918228149, ub: 1.022156834602356\n",
      "<gurobi.Var output_layer_[-1]_[241]>, lb: 0.9621568918228149, ub: 1.022156834602356\n",
      "<gurobi.Var output_layer_[-1]_[242]>, lb: -0.7633333206176758, ub: -0.7033333778381348\n",
      "<gurobi.Var output_layer_[-1]_[243]>, lb: -1.0299999713897705, ub: -0.9700000286102295\n",
      "<gurobi.Var output_layer_[-1]_[244]>, lb: -1.0299999713897705, ub: -0.9700000286102295\n",
      "<gurobi.Var output_layer_[-1]_[245]>, lb: -1.0299999713897705, ub: -0.9700000286102295\n",
      "<gurobi.Var output_layer_[-1]_[246]>, lb: -1.0299999713897705, ub: -0.9700000286102295\n",
      "<gurobi.Var output_layer_[-1]_[248]>, lb: -1.0299999713897705, ub: -0.9700000286102295\n",
      "<gurobi.Var output_layer_[-1]_[252]>, lb: -1.0299999713897705, ub: -0.9700000286102295\n",
      "<gurobi.Var output_layer_[-1]_[253]>, lb: -1.0299999713897705, ub: -0.9700000286102295\n",
      "<gurobi.Var output_layer_[-1]_[255]>, lb: -1.0299999713897705, ub: -0.9700000286102295\n",
      "<gurobi.Var output_layer_[-1]_[256]>, lb: -1.0299999713897705, ub: -0.9700000286102295\n",
      "<gurobi.Var output_layer_[-1]_[257]>, lb: -1.0299999713897705, ub: -0.9700000286102295\n",
      "<gurobi.Var output_layer_[-1]_[258]>, lb: -1.0299999713897705, ub: -0.9700000286102295\n",
      "<gurobi.Var output_layer_[-1]_[259]>, lb: -1.0299999713897705, ub: -0.9700000286102295\n",
      "<gurobi.Var output_layer_[-1]_[260]>, lb: -1.0299999713897705, ub: -0.9700000286102295\n",
      "<gurobi.Var output_layer_[-1]_[261]>, lb: -1.0299999713897705, ub: -0.9700000286102295\n",
      "<gurobi.Var output_layer_[-1]_[263]>, lb: -1.0299999713897705, ub: -0.9700000286102295\n",
      "<gurobi.Var output_layer_[-1]_[264]>, lb: -0.37117645144462585, ub: -0.31117644906044006\n",
      "<gurobi.Var output_layer_[-1]_[267]>, lb: 0.9621568918228149, ub: 1.022156834602356\n",
      "<gurobi.Var output_layer_[-1]_[268]>, lb: 0.9621568918228149, ub: 1.022156834602356\n",
      "<gurobi.Var output_layer_[-1]_[269]>, lb: 0.9621568918228149, ub: 1.022156834602356\n",
      "<gurobi.Var output_layer_[-1]_[272]>, lb: -1.0299999713897705, ub: -0.9700000286102295\n",
      "<gurobi.Var output_layer_[-1]_[279]>, lb: -1.0299999713897705, ub: -0.9700000286102295\n",
      "<gurobi.Var output_layer_[-1]_[280]>, lb: -1.0299999713897705, ub: -0.9700000286102295\n",
      "<gurobi.Var output_layer_[-1]_[282]>, lb: -1.0299999713897705, ub: -0.9700000286102295\n",
      "<gurobi.Var output_layer_[-1]_[284]>, lb: -1.0299999713897705, ub: -0.9700000286102295\n",
      "<gurobi.Var output_layer_[-1]_[285]>, lb: -1.0299999713897705, ub: -0.9700000286102295\n",
      "<gurobi.Var output_layer_[-1]_[286]>, lb: -1.0299999713897705, ub: -0.9700000286102295\n",
      "<gurobi.Var output_layer_[-1]_[287]>, lb: -1.0299999713897705, ub: -0.9700000286102295\n",
      "<gurobi.Var output_layer_[-1]_[288]>, lb: -1.0299999713897705, ub: -0.9700000286102295\n",
      "<gurobi.Var output_layer_[-1]_[289]>, lb: -1.0299999713897705, ub: -0.9700000286102295\n",
      "<gurobi.Var output_layer_[-1]_[296]>, lb: 0.9621568918228149, ub: 1.022156834602356\n",
      "<gurobi.Var output_layer_[-1]_[307]>, lb: -1.0299999713897705, ub: -0.9700000286102295\n",
      "<gurobi.Var output_layer_[-1]_[311]>, lb: -1.0299999713897705, ub: -0.9700000286102295\n",
      "<gurobi.Var output_layer_[-1]_[312]>, lb: -1.0299999713897705, ub: -0.9700000286102295\n",
      "<gurobi.Var output_layer_[-1]_[313]>, lb: -1.0299999713897705, ub: -0.9700000286102295\n",
      "<gurobi.Var output_layer_[-1]_[314]>, lb: -1.0299999713897705, ub: -0.9700000286102295\n",
      "<gurobi.Var output_layer_[-1]_[315]>, lb: -1.0299999713897705, ub: -0.9700000286102295\n",
      "<gurobi.Var output_layer_[-1]_[316]>, lb: -1.0299999713897705, ub: -0.9700000286102295\n",
      "<gurobi.Var output_layer_[-1]_[317]>, lb: -1.0299999713897705, ub: -0.9700000286102295\n",
      "<gurobi.Var output_layer_[-1]_[338]>, lb: -1.0299999713897705, ub: -0.9700000286102295\n",
      "<gurobi.Var output_layer_[-1]_[339]>, lb: -1.0299999713897705, ub: -0.9700000286102295\n",
      "<gurobi.Var output_layer_[-1]_[340]>, lb: -1.0299999713897705, ub: -0.9700000286102295\n",
      "<gurobi.Var output_layer_[-1]_[341]>, lb: -1.0299999713897705, ub: -0.9700000286102295\n",
      "<gurobi.Var output_layer_[-1]_[342]>, lb: -1.0299999713897705, ub: -0.9700000286102295\n",
      "<gurobi.Var output_layer_[-1]_[343]>, lb: -1.0299999713897705, ub: -0.9700000286102295\n",
      "<gurobi.Var output_layer_[-1]_[344]>, lb: -1.0299999713897705, ub: -0.9700000286102295\n",
      "<gurobi.Var output_layer_[-1]_[345]>, lb: -1.0299999713897705, ub: -0.9700000286102295\n",
      "<gurobi.Var output_layer_[-1]_[348]>, lb: 0.9307843446731567, ub: 0.9907842874526978\n",
      "<gurobi.Var output_layer_[-1]_[354]>, lb: -0.7633333206176758, ub: -0.7033333778381348\n",
      "<gurobi.Var output_layer_[-1]_[355]>, lb: -1.0299999713897705, ub: -0.9700000286102295\n",
      "<gurobi.Var output_layer_[-1]_[356]>, lb: -1.0299999713897705, ub: -0.9700000286102295\n",
      "<gurobi.Var output_layer_[-1]_[364]>, lb: -1.0299999713897705, ub: -0.9700000286102295\n",
      "<gurobi.Var output_layer_[-1]_[366]>, lb: -1.0299999713897705, ub: -0.9700000286102295\n",
      "<gurobi.Var output_layer_[-1]_[367]>, lb: -1.0299999713897705, ub: -0.9700000286102295\n",
      "<gurobi.Var output_layer_[-1]_[369]>, lb: -1.0299999713897705, ub: -0.9700000286102295\n",
      "<gurobi.Var output_layer_[-1]_[370]>, lb: -1.0299999713897705, ub: -0.9700000286102295\n",
      "<gurobi.Var output_layer_[-1]_[371]>, lb: -1.0299999713897705, ub: -0.9700000286102295\n",
      "<gurobi.Var output_layer_[-1]_[372]>, lb: -1.0299999713897705, ub: -0.9700000286102295\n",
      "<gurobi.Var output_layer_[-1]_[373]>, lb: -1.0299999713897705, ub: -0.9700000286102295\n",
      "<gurobi.Var output_layer_[-1]_[374]>, lb: -0.3947058618068695, ub: -0.3347058594226837\n",
      "<gurobi.Var output_layer_[-1]_[376]>, lb: 0.9621568918228149, ub: 1.022156834602356\n",
      "<gurobi.Var output_layer_[-1]_[377]>, lb: 0.9621568918228149, ub: 1.022156834602356\n",
      "<gurobi.Var output_layer_[-1]_[381]>, lb: 0.9621568918228149, ub: 1.022156834602356\n",
      "<gurobi.Var output_layer_[-1]_[382]>, lb: 0.11509808897972107, ub: 0.17509809136390686\n",
      "<gurobi.Var output_layer_[-1]_[383]>, lb: -1.0299999713897705, ub: -0.9700000286102295\n",
      "<gurobi.Var output_layer_[-1]_[384]>, lb: -1.0299999713897705, ub: -0.9700000286102295\n",
      "<gurobi.Var output_layer_[-1]_[385]>, lb: -1.0299999713897705, ub: -0.9700000286102295\n",
      "<gurobi.Var output_layer_[-1]_[386]>, lb: -1.0299999713897705, ub: -0.9700000286102295\n",
      "<gurobi.Var output_layer_[-1]_[387]>, lb: -1.0299999713897705, ub: -0.9700000286102295\n",
      "<gurobi.Var output_layer_[-1]_[388]>, lb: -1.0299999713897705, ub: -0.9700000286102295\n",
      "<gurobi.Var output_layer_[-1]_[389]>, lb: -1.0299999713897705, ub: -0.9700000286102295\n",
      "<gurobi.Var output_layer_[-1]_[392]>, lb: -1.0299999713897705, ub: -0.9700000286102295\n",
      "<gurobi.Var output_layer_[-1]_[394]>, lb: -1.0299999713897705, ub: -0.9700000286102295\n",
      "<gurobi.Var output_layer_[-1]_[396]>, lb: -1.0299999713897705, ub: -0.9700000286102295\n",
      "<gurobi.Var output_layer_[-1]_[397]>, lb: -1.0299999713897705, ub: -0.9700000286102295\n",
      "<gurobi.Var output_layer_[-1]_[398]>, lb: -1.0299999713897705, ub: -0.9700000286102295\n",
      "<gurobi.Var output_layer_[-1]_[400]>, lb: -1.0299999713897705, ub: -0.9700000286102295\n",
      "<gurobi.Var output_layer_[-1]_[401]>, lb: -1.0299999713897705, ub: -0.9700000286102295\n",
      "<gurobi.Var output_layer_[-1]_[402]>, lb: -1.0299999713897705, ub: -0.9700000286102295\n",
      "<gurobi.Var output_layer_[-1]_[403]>, lb: -0.16725489497184753, ub: -0.10725489258766174\n",
      "<gurobi.Var output_layer_[-1]_[405]>, lb: 0.9621568918228149, ub: 1.022156834602356\n",
      "<gurobi.Var output_layer_[-1]_[409]>, lb: 0.9621568918228149, ub: 1.022156834602356\n",
      "<gurobi.Var output_layer_[-1]_[410]>, lb: 0.31117650866508484, ub: 0.37117651104927063\n",
      "<gurobi.Var output_layer_[-1]_[411]>, lb: -1.0299999713897705, ub: -0.9700000286102295\n",
      "<gurobi.Var output_layer_[-1]_[412]>, lb: -1.0299999713897705, ub: -0.9700000286102295\n",
      "<gurobi.Var output_layer_[-1]_[413]>, lb: -1.0299999713897705, ub: -0.9700000286102295\n",
      "<gurobi.Var output_layer_[-1]_[414]>, lb: -1.0299999713897705, ub: -0.9700000286102295\n",
      "<gurobi.Var output_layer_[-1]_[415]>, lb: -1.0299999713897705, ub: -0.9700000286102295\n",
      "<gurobi.Var output_layer_[-1]_[416]>, lb: -1.0299999713897705, ub: -0.9700000286102295\n",
      "<gurobi.Var output_layer_[-1]_[417]>, lb: -1.0299999713897705, ub: -0.9700000286102295\n",
      "<gurobi.Var output_layer_[-1]_[418]>, lb: -1.0299999713897705, ub: -0.9700000286102295\n",
      "<gurobi.Var output_layer_[-1]_[419]>, lb: -1.0299999713897705, ub: -0.9700000286102295\n",
      "<gurobi.Var output_layer_[-1]_[420]>, lb: -1.0299999713897705, ub: -0.9700000286102295\n",
      "<gurobi.Var output_layer_[-1]_[421]>, lb: -1.0299999713897705, ub: -0.9700000286102295\n",
      "<gurobi.Var output_layer_[-1]_[422]>, lb: -1.0299999713897705, ub: -0.9700000286102295\n",
      "<gurobi.Var output_layer_[-1]_[423]>, lb: -1.0299999713897705, ub: -0.9700000286102295\n",
      "<gurobi.Var output_layer_[-1]_[425]>, lb: -1.0299999713897705, ub: -0.9700000286102295\n",
      "<gurobi.Var output_layer_[-1]_[426]>, lb: -1.0299999713897705, ub: -0.9700000286102295\n",
      "<gurobi.Var output_layer_[-1]_[429]>, lb: -1.0299999713897705, ub: -0.9700000286102295\n",
      "<gurobi.Var output_layer_[-1]_[433]>, lb: -0.3319607675075531, ub: -0.2719607651233673\n",
      "<gurobi.Var output_layer_[-1]_[434]>, lb: -0.3319607675075531, ub: -0.2719607651233673\n",
      "<gurobi.Var output_layer_[-1]_[435]>, lb: -0.3005882203578949, ub: -0.2405882179737091\n",
      "<gurobi.Var output_layer_[-1]_[436]>, lb: 0.8523529767990112, ub: 0.9123529195785522\n",
      "<gurobi.Var output_layer_[-1]_[437]>, lb: 0.9621568918228149, ub: 1.022156834602356\n",
      "<gurobi.Var output_layer_[-1]_[438]>, lb: 0.31117650866508484, ub: 0.37117651104927063\n",
      "<gurobi.Var output_layer_[-1]_[439]>, lb: -1.0299999713897705, ub: -0.9700000286102295\n",
      "<gurobi.Var output_layer_[-1]_[440]>, lb: -1.0299999713897705, ub: -0.9700000286102295\n",
      "<gurobi.Var output_layer_[-1]_[441]>, lb: -1.0299999713897705, ub: -0.9700000286102295\n",
      "<gurobi.Var output_layer_[-1]_[442]>, lb: -1.0299999713897705, ub: -0.9700000286102295\n",
      "<gurobi.Var output_layer_[-1]_[443]>, lb: -1.0299999713897705, ub: -0.9700000286102295\n",
      "<gurobi.Var output_layer_[-1]_[444]>, lb: -1.0299999713897705, ub: -0.9700000286102295\n",
      "<gurobi.Var output_layer_[-1]_[445]>, lb: -1.0299999713897705, ub: -0.9700000286102295\n",
      "<gurobi.Var output_layer_[-1]_[450]>, lb: -1.0299999713897705, ub: -0.9700000286102295\n",
      "<gurobi.Var output_layer_[-1]_[452]>, lb: -1.0299999713897705, ub: -0.9700000286102295\n",
      "<gurobi.Var output_layer_[-1]_[454]>, lb: -1.0299999713897705, ub: -0.9700000286102295\n",
      "<gurobi.Var output_layer_[-1]_[455]>, lb: -1.0299999713897705, ub: -0.9700000286102295\n",
      "<gurobi.Var output_layer_[-1]_[464]>, lb: -0.026078371331095695, ub: 0.033921629190444946\n",
      "<gurobi.Var output_layer_[-1]_[465]>, lb: 0.9621568918228149, ub: 1.022156834602356\n",
      "<gurobi.Var output_layer_[-1]_[466]>, lb: 0.6876471042633057, ub: 0.7476470470428467\n",
      "<gurobi.Var output_layer_[-1]_[467]>, lb: -0.7868627309799194, ub: -0.7268627882003784\n",
      "<gurobi.Var output_layer_[-1]_[468]>, lb: -1.0299999713897705, ub: -0.9700000286102295\n",
      "<gurobi.Var output_layer_[-1]_[469]>, lb: -1.0299999713897705, ub: -0.9700000286102295\n",
      "<gurobi.Var output_layer_[-1]_[470]>, lb: -1.0299999713897705, ub: -0.9700000286102295\n",
      "<gurobi.Var output_layer_[-1]_[471]>, lb: -1.0299999713897705, ub: -0.9700000286102295\n",
      "<gurobi.Var output_layer_[-1]_[473]>, lb: -1.0299999713897705, ub: -0.9700000286102295\n",
      "<gurobi.Var output_layer_[-1]_[474]>, lb: -1.0299999713897705, ub: -0.9700000286102295\n",
      "<gurobi.Var output_layer_[-1]_[475]>, lb: -1.0299999713897705, ub: -0.9700000286102295\n",
      "<gurobi.Var output_layer_[-1]_[477]>, lb: -1.0299999713897705, ub: -0.9700000286102295\n",
      "<gurobi.Var output_layer_[-1]_[478]>, lb: -1.0299999713897705, ub: -0.9700000286102295\n",
      "<gurobi.Var output_layer_[-1]_[488]>, lb: -1.0299999713897705, ub: -0.9700000286102295\n",
      "<gurobi.Var output_layer_[-1]_[492]>, lb: 0.9621568918228149, ub: 1.022156834602356\n",
      "<gurobi.Var output_layer_[-1]_[493]>, lb: 0.9621568918228149, ub: 1.022156834602356\n",
      "<gurobi.Var output_layer_[-1]_[494]>, lb: 0.6484314203262329, ub: 0.7084313631057739\n",
      "<gurobi.Var output_layer_[-1]_[495]>, lb: -0.8103921413421631, ub: -0.7503921985626221\n",
      "<gurobi.Var output_layer_[-1]_[496]>, lb: -1.0299999713897705, ub: -0.9700000286102295\n",
      "<gurobi.Var output_layer_[-1]_[497]>, lb: -1.0299999713897705, ub: -0.9700000286102295\n",
      "<gurobi.Var output_layer_[-1]_[499]>, lb: -1.0299999713897705, ub: -0.9700000286102295\n",
      "<gurobi.Var output_layer_[-1]_[502]>, lb: -1.0299999713897705, ub: -0.9700000286102295\n",
      "<gurobi.Var output_layer_[-1]_[503]>, lb: -1.0299999713897705, ub: -0.9700000286102295\n",
      "<gurobi.Var output_layer_[-1]_[506]>, lb: -1.0299999713897705, ub: -0.9700000286102295\n",
      "<gurobi.Var output_layer_[-1]_[507]>, lb: -1.0299999713897705, ub: -0.9700000286102295\n",
      "<gurobi.Var output_layer_[-1]_[513]>, lb: -1.0299999713897705, ub: -0.9700000286102295\n",
      "<gurobi.Var output_layer_[-1]_[514]>, lb: -1.0299999713897705, ub: -0.9700000286102295\n",
      "<gurobi.Var output_layer_[-1]_[515]>, lb: -1.0299999713897705, ub: -0.9700000286102295\n",
      "<gurobi.Var output_layer_[-1]_[516]>, lb: -1.0299999713897705, ub: -0.9700000286102295\n",
      "<gurobi.Var output_layer_[-1]_[517]>, lb: -1.0299999713897705, ub: -0.9700000286102295\n",
      "<gurobi.Var output_layer_[-1]_[520]>, lb: 0.9621568918228149, ub: 1.022156834602356\n",
      "<gurobi.Var output_layer_[-1]_[521]>, lb: 0.9621568918228149, ub: 1.022156834602356\n",
      "<gurobi.Var output_layer_[-1]_[522]>, lb: -0.12019607424736023, ub: -0.06019607186317444\n",
      "<gurobi.Var output_layer_[-1]_[523]>, lb: -1.0299999713897705, ub: -0.9700000286102295\n",
      "<gurobi.Var output_layer_[-1]_[524]>, lb: -1.0299999713897705, ub: -0.9700000286102295\n",
      "<gurobi.Var output_layer_[-1]_[525]>, lb: -1.0299999713897705, ub: -0.9700000286102295\n",
      "<gurobi.Var output_layer_[-1]_[526]>, lb: -1.0299999713897705, ub: -0.9700000286102295\n",
      "<gurobi.Var output_layer_[-1]_[527]>, lb: -1.0299999713897705, ub: -0.9700000286102295\n",
      "<gurobi.Var output_layer_[-1]_[534]>, lb: -1.0299999713897705, ub: -0.9700000286102295\n",
      "<gurobi.Var output_layer_[-1]_[535]>, lb: -1.0299999713897705, ub: -0.9700000286102295\n",
      "<gurobi.Var output_layer_[-1]_[536]>, lb: -1.0299999713897705, ub: -0.9700000286102295\n",
      "<gurobi.Var output_layer_[-1]_[541]>, lb: -1.0299999713897705, ub: -0.9700000286102295\n",
      "<gurobi.Var output_layer_[-1]_[542]>, lb: -1.0299999713897705, ub: -0.9700000286102295\n",
      "<gurobi.Var output_layer_[-1]_[543]>, lb: -1.0299999713897705, ub: -0.9700000286102295\n",
      "<gurobi.Var output_layer_[-1]_[544]>, lb: -1.0299999713897705, ub: -0.9700000286102295\n",
      "<gurobi.Var output_layer_[-1]_[547]>, lb: 0.8523529767990112, ub: 0.9123529195785522\n",
      "<gurobi.Var output_layer_[-1]_[549]>, lb: 0.9621568918228149, ub: 1.022156834602356\n",
      "<gurobi.Var output_layer_[-1]_[552]>, lb: -1.0299999713897705, ub: -0.9700000286102295\n",
      "<gurobi.Var output_layer_[-1]_[553]>, lb: -1.0299999713897705, ub: -0.9700000286102295\n",
      "<gurobi.Var output_layer_[-1]_[554]>, lb: -1.0299999713897705, ub: -0.9700000286102295\n",
      "<gurobi.Var output_layer_[-1]_[558]>, lb: -1.0299999713897705, ub: -0.9700000286102295\n",
      "<gurobi.Var output_layer_[-1]_[560]>, lb: -1.0299999713897705, ub: -0.9700000286102295\n",
      "<gurobi.Var output_layer_[-1]_[563]>, lb: -1.0299999713897705, ub: -0.9700000286102295\n",
      "<gurobi.Var output_layer_[-1]_[569]>, lb: -0.5358823537826538, ub: -0.4758823812007904\n",
      "<gurobi.Var output_layer_[-1]_[570]>, lb: -0.7476470470428467, ub: -0.6876471042633057\n",
      "<gurobi.Var output_layer_[-1]_[571]>, lb: -1.0299999713897705, ub: -0.9700000286102295\n",
      "<gurobi.Var output_layer_[-1]_[572]>, lb: -0.6299999952316284, ub: -0.5700000524520874\n",
      "<gurobi.Var output_layer_[-1]_[573]>, lb: -0.3319607675075531, ub: -0.2719607651233673\n",
      "<gurobi.Var output_layer_[-1]_[581]>, lb: -1.0299999713897705, ub: -0.9700000286102295\n",
      "<gurobi.Var output_layer_[-1]_[582]>, lb: -1.0299999713897705, ub: -0.9700000286102295\n",
      "<gurobi.Var output_layer_[-1]_[583]>, lb: -1.0299999713897705, ub: -0.9700000286102295\n",
      "<gurobi.Var output_layer_[-1]_[586]>, lb: -1.0299999713897705, ub: -0.9700000286102295\n",
      "<gurobi.Var output_layer_[-1]_[587]>, lb: -1.0299999713897705, ub: -0.9700000286102295\n",
      "<gurobi.Var output_layer_[-1]_[589]>, lb: -1.0299999713897705, ub: -0.9700000286102295\n",
      "<gurobi.Var output_layer_[-1]_[591]>, lb: -1.0299999713897705, ub: -0.9700000286102295\n",
      "<gurobi.Var output_layer_[-1]_[596]>, lb: 0.9621568918228149, ub: 1.022156834602356\n",
      "<gurobi.Var output_layer_[-1]_[597]>, lb: 0.9621568918228149, ub: 1.022156834602356\n",
      "<gurobi.Var output_layer_[-1]_[598]>, lb: 0.7111765146255493, ub: 0.7711764574050903\n",
      "<gurobi.Var output_layer_[-1]_[600]>, lb: 0.8601961135864258, ub: 0.9201960563659668\n",
      "<gurobi.Var output_layer_[-1]_[602]>, lb: 0.9621568918228149, ub: 1.022156834602356\n",
      "<gurobi.Var output_layer_[-1]_[603]>, lb: 0.9543137550354004, ub: 1.0143136978149414\n",
      "<gurobi.Var output_layer_[-1]_[604]>, lb: 0.6405882835388184, ub: 0.7005882263183594\n",
      "<gurobi.Var output_layer_[-1]_[605]>, lb: -0.9437254667282104, ub: -0.8837255239486694\n",
      "<gurobi.Var output_layer_[-1]_[609]>, lb: -1.0299999713897705, ub: -0.9700000286102295\n",
      "<gurobi.Var output_layer_[-1]_[610]>, lb: -1.0299999713897705, ub: -0.9700000286102295\n",
      "<gurobi.Var output_layer_[-1]_[614]>, lb: -1.0299999713897705, ub: -0.9700000286102295\n",
      "<gurobi.Var output_layer_[-1]_[615]>, lb: -1.0299999713897705, ub: -0.9700000286102295\n",
      "<gurobi.Var output_layer_[-1]_[616]>, lb: -1.0299999713897705, ub: -0.9700000286102295\n",
      "<gurobi.Var output_layer_[-1]_[617]>, lb: -1.0299999713897705, ub: -0.9700000286102295\n",
      "<gurobi.Var output_layer_[-1]_[618]>, lb: -1.0299999713897705, ub: -0.9700000286102295\n",
      "<gurobi.Var output_layer_[-1]_[619]>, lb: -1.0299999713897705, ub: -0.9700000286102295\n",
      "<gurobi.Var output_layer_[-1]_[621]>, lb: -1.0299999713897705, ub: -0.9700000286102295\n",
      "<gurobi.Var output_layer_[-1]_[624]>, lb: -0.2064705789089203, ub: -0.1464705765247345\n",
      "<gurobi.Var output_layer_[-1]_[625]>, lb: 0.9621568918228149, ub: 1.022156834602356\n",
      "<gurobi.Var output_layer_[-1]_[627]>, lb: 0.9621568918228149, ub: 1.022156834602356\n",
      "<gurobi.Var output_layer_[-1]_[628]>, lb: 0.9621568918228149, ub: 1.022156834602356\n",
      "<gurobi.Var output_layer_[-1]_[631]>, lb: 0.820980429649353, ub: 0.880980372428894\n",
      "<gurobi.Var output_layer_[-1]_[637]>, lb: -1.0299999713897705, ub: -0.9700000286102295\n",
      "<gurobi.Var output_layer_[-1]_[638]>, lb: -1.0299999713897705, ub: -0.9700000286102295\n",
      "<gurobi.Var output_layer_[-1]_[642]>, lb: -1.0299999713897705, ub: -0.9700000286102295\n",
      "<gurobi.Var output_layer_[-1]_[645]>, lb: -1.0299999713897705, ub: -0.9700000286102295\n",
      "<gurobi.Var output_layer_[-1]_[646]>, lb: -1.0299999713897705, ub: -0.9700000286102295\n",
      "<gurobi.Var output_layer_[-1]_[647]>, lb: -1.0299999713897705, ub: -0.9700000286102295\n",
      "<gurobi.Var output_layer_[-1]_[648]>, lb: -1.0299999713897705, ub: -0.9700000286102295\n",
      "<gurobi.Var output_layer_[-1]_[649]>, lb: -1.0299999713897705, ub: -0.9700000286102295\n",
      "<gurobi.Var output_layer_[-1]_[653]>, lb: -0.11235293745994568, ub: -0.05235293507575989\n",
      "<gurobi.Var output_layer_[-1]_[654]>, lb: -0.11235293745994568, ub: -0.05235293507575989\n",
      "<gurobi.Var output_layer_[-1]_[655]>, lb: 0.26411768794059753, ub: 0.3241176903247833\n",
      "<gurobi.Var output_layer_[-1]_[658]>, lb: 0.8445098400115967, ub: 0.9045097827911377\n",
      "<gurobi.Var output_layer_[-1]_[665]>, lb: -1.0299999713897705, ub: -0.9700000286102295\n",
      "<gurobi.Var output_layer_[-1]_[666]>, lb: -1.0299999713897705, ub: -0.9700000286102295\n",
      "<gurobi.Var output_layer_[-1]_[668]>, lb: -1.0299999713897705, ub: -0.9700000286102295\n",
      "<gurobi.Var output_layer_[-1]_[669]>, lb: -1.0299999713897705, ub: -0.9700000286102295\n",
      "<gurobi.Var output_layer_[-1]_[670]>, lb: -1.0299999713897705, ub: -0.9700000286102295\n",
      "<gurobi.Var output_layer_[-1]_[674]>, lb: -1.0299999713897705, ub: -0.9700000286102295\n",
      "<gurobi.Var output_layer_[-1]_[675]>, lb: -1.0299999713897705, ub: -0.9700000286102295\n",
      "<gurobi.Var output_layer_[-1]_[676]>, lb: -1.0299999713897705, ub: -0.9700000286102295\n",
      "<gurobi.Var output_layer_[-1]_[677]>, lb: -1.0299999713897705, ub: -0.9700000286102295\n",
      "<gurobi.Var output_layer_[-1]_[682]>, lb: -1.0299999713897705, ub: -0.9700000286102295\n",
      "<gurobi.Var output_layer_[-1]_[683]>, lb: -1.0299999713897705, ub: -0.9700000286102295\n",
      "<gurobi.Var output_layer_[-1]_[684]>, lb: -1.0299999713897705, ub: -0.9700000286102295\n",
      "<gurobi.Var output_layer_[-1]_[685]>, lb: -1.0299999713897705, ub: -0.9700000286102295\n",
      "<gurobi.Var output_layer_[-1]_[686]>, lb: -1.0299999713897705, ub: -0.9700000286102295\n",
      "<gurobi.Var output_layer_[-1]_[687]>, lb: -1.0299999713897705, ub: -0.9700000286102295\n",
      "<gurobi.Var output_layer_[-1]_[688]>, lb: -1.0299999713897705, ub: -0.9700000286102295\n",
      "<gurobi.Var output_layer_[-1]_[689]>, lb: -1.0299999713897705, ub: -0.9700000286102295\n",
      "<gurobi.Var output_layer_[-1]_[690]>, lb: -1.0299999713897705, ub: -0.9700000286102295\n",
      "<gurobi.Var output_layer_[-1]_[691]>, lb: -1.0299999713897705, ub: -0.9700000286102295\n",
      "<gurobi.Var output_layer_[-1]_[692]>, lb: -1.0299999713897705, ub: -0.9700000286102295\n",
      "<gurobi.Var output_layer_[-1]_[693]>, lb: -1.0299999713897705, ub: -0.9700000286102295\n",
      "<gurobi.Var output_layer_[-1]_[694]>, lb: -1.0299999713897705, ub: -0.9700000286102295\n",
      "<gurobi.Var output_layer_[-1]_[695]>, lb: -1.0299999713897705, ub: -0.9700000286102295\n",
      "<gurobi.Var output_layer_[-1]_[699]>, lb: -1.0299999713897705, ub: -0.9700000286102295\n",
      "<gurobi.Var output_layer_[-1]_[700]>, lb: -1.0299999713897705, ub: -0.9700000286102295\n",
      "<gurobi.Var output_layer_[-1]_[703]>, lb: -1.0299999713897705, ub: -0.9700000286102295\n",
      "<gurobi.Var output_layer_[-1]_[704]>, lb: -1.0299999713897705, ub: -0.9700000286102295\n",
      "<gurobi.Var output_layer_[-1]_[705]>, lb: -1.0299999713897705, ub: -0.9700000286102295\n",
      "<gurobi.Var output_layer_[-1]_[706]>, lb: -1.0299999713897705, ub: -0.9700000286102295\n",
      "<gurobi.Var output_layer_[-1]_[708]>, lb: -1.0299999713897705, ub: -0.9700000286102295\n",
      "<gurobi.Var output_layer_[-1]_[709]>, lb: -1.0299999713897705, ub: -0.9700000286102295\n",
      "<gurobi.Var output_layer_[-1]_[710]>, lb: -1.0299999713897705, ub: -0.9700000286102295\n",
      "<gurobi.Var output_layer_[-1]_[711]>, lb: -1.0299999713897705, ub: -0.9700000286102295\n",
      "<gurobi.Var output_layer_[-1]_[713]>, lb: -1.0299999713897705, ub: -0.9700000286102295\n",
      "<gurobi.Var output_layer_[-1]_[714]>, lb: -1.0299999713897705, ub: -0.9700000286102295\n",
      "<gurobi.Var output_layer_[-1]_[721]>, lb: -1.0299999713897705, ub: -0.9700000286102295\n",
      "<gurobi.Var output_layer_[-1]_[722]>, lb: -1.0299999713897705, ub: -0.9700000286102295\n",
      "<gurobi.Var output_layer_[-1]_[723]>, lb: -1.0299999713897705, ub: -0.9700000286102295\n",
      "<gurobi.Var output_layer_[-1]_[724]>, lb: -1.0299999713897705, ub: -0.9700000286102295\n",
      "<gurobi.Var output_layer_[-1]_[725]>, lb: -1.0299999713897705, ub: -0.9700000286102295\n",
      "<gurobi.Var output_layer_[-1]_[726]>, lb: -1.0299999713897705, ub: -0.9700000286102295\n",
      "<gurobi.Var output_layer_[-1]_[727]>, lb: -1.0299999713897705, ub: -0.9700000286102295\n",
      "<gurobi.Var output_layer_[-1]_[730]>, lb: -1.0299999713897705, ub: -0.9700000286102295\n",
      "<gurobi.Var output_layer_[-1]_[732]>, lb: -1.0299999713897705, ub: -0.9700000286102295\n",
      "<gurobi.Var output_layer_[-1]_[733]>, lb: -1.0299999713897705, ub: -0.9700000286102295\n",
      "<gurobi.Var output_layer_[-1]_[734]>, lb: -1.0299999713897705, ub: -0.9700000286102295\n",
      "<gurobi.Var output_layer_[-1]_[737]>, lb: -1.0299999713897705, ub: -0.9700000286102295\n",
      "<gurobi.Var output_layer_[-1]_[738]>, lb: -1.0299999713897705, ub: -0.9700000286102295\n",
      "<gurobi.Var output_layer_[-1]_[739]>, lb: -1.0299999713897705, ub: -0.9700000286102295\n",
      "<gurobi.Var output_layer_[-1]_[740]>, lb: -1.0299999713897705, ub: -0.9700000286102295\n",
      "<gurobi.Var output_layer_[-1]_[741]>, lb: -1.0299999713897705, ub: -0.9700000286102295\n",
      "<gurobi.Var output_layer_[-1]_[747]>, lb: -1.0299999713897705, ub: -0.9700000286102295\n",
      "<gurobi.Var output_layer_[-1]_[748]>, lb: -1.0299999713897705, ub: -0.9700000286102295\n",
      "<gurobi.Var output_layer_[-1]_[749]>, lb: -1.0299999713897705, ub: -0.9700000286102295\n",
      "<gurobi.Var output_layer_[-1]_[754]>, lb: -1.0299999713897705, ub: -0.9700000286102295\n",
      "<gurobi.Var output_layer_[-1]_[758]>, lb: -1.0299999713897705, ub: -0.9700000286102295\n",
      "<gurobi.Var output_layer_[-1]_[759]>, lb: -1.0299999713897705, ub: -0.9700000286102295\n",
      "<gurobi.Var output_layer_[-1]_[760]>, lb: -1.0299999713897705, ub: -0.9700000286102295\n",
      "<gurobi.Var output_layer_[-1]_[761]>, lb: -1.0299999713897705, ub: -0.9700000286102295\n",
      "<gurobi.Var output_layer_[-1]_[765]>, lb: -1.0299999713897705, ub: -0.9700000286102295\n",
      "<gurobi.Var output_layer_[-1]_[766]>, lb: -1.0299999713897705, ub: -0.9700000286102295\n",
      "<gurobi.Var output_layer_[-1]_[771]>, lb: -1.0299999713897705, ub: -0.9700000286102295\n",
      "<gurobi.Var output_layer_[-1]_[773]>, lb: -1.0299999713897705, ub: -0.9700000286102295\n",
      "<gurobi.Var output_layer_[-1]_[775]>, lb: -1.0299999713897705, ub: -0.9700000286102295\n",
      "<gurobi.Var output_layer_[-1]_[777]>, lb: -1.0299999713897705, ub: -0.9700000286102295\n",
      "<gurobi.Var output_layer_[-1]_[782]>, lb: -1.0299999713897705, ub: -0.9700000286102295\n",
      "<gurobi.Var output_layer_[-1]_[783]>, lb: -1.0299999713897705, ub: -0.9700000286102295\n",
      "<gurobi.Var affine_var0[1]>, lb: -1.1852006912231445, ub: 5.310263633728027\n"
     ]
    },
    {
     "ename": "TypeError",
     "evalue": "cannot unpack non-iterable NoneType object",
     "output_type": "error",
     "traceback": [
      "\u001B[0;31m---------------------------------------------------------------------------\u001B[0m",
      "\u001B[0;31mTypeError\u001B[0m                                 Traceback (most recent call last)",
      "Cell \u001B[0;32mIn[28], line 26\u001B[0m\n\u001B[1;32m     24\u001B[0m overall_time \u001B[38;5;241m=\u001B[39m time\u001B[38;5;241m.\u001B[39mtime()\n\u001B[1;32m     25\u001B[0m dhov_verifier \u001B[38;5;241m=\u001B[39m multidhov\u001B[38;5;241m.\u001B[39mMultiDHOV()\n\u001B[0;32m---> 26\u001B[0m \u001B[43mdhov_verifier\u001B[49m\u001B[38;5;241;43m.\u001B[39;49m\u001B[43mstart_verification\u001B[49m\u001B[43m(\u001B[49m\u001B[43mnn\u001B[49m\u001B[43m,\u001B[49m\u001B[43m \u001B[49m\u001B[43mtorch_image\u001B[49m\u001B[43m,\u001B[49m\u001B[43m \u001B[49m\u001B[43micnn_factory\u001B[49m\u001B[43m,\u001B[49m\u001B[43m \u001B[49m\u001B[43mgroup_size\u001B[49m\u001B[43m,\u001B[49m\u001B[43m \u001B[49m\u001B[43meps\u001B[49m\u001B[38;5;241;43m=\u001B[39;49m\u001B[43meps\u001B[49m\u001B[43m,\u001B[49m\u001B[43m \u001B[49m\u001B[43micnn_epochs\u001B[49m\u001B[38;5;241;43m=\u001B[39;49m\u001B[38;5;241;43m200\u001B[39;49m\u001B[43m,\u001B[49m\n\u001B[1;32m     27\u001B[0m \u001B[43m                                \u001B[49m\u001B[43minit_affine_bounds\u001B[49m\u001B[38;5;241;43m=\u001B[39;49m\u001B[43mbounds_affine_out_snr\u001B[49m\u001B[43m,\u001B[49m\u001B[43m \u001B[49m\u001B[43minit_layer_bounds\u001B[49m\u001B[38;5;241;43m=\u001B[39;49m\u001B[43mbounds_layer_out_snr\u001B[49m\u001B[43m,\u001B[49m\n\u001B[1;32m     28\u001B[0m \u001B[43m                                 \u001B[49m\u001B[43micnn_batch_size\u001B[49m\u001B[38;5;241;43m=\u001B[39;49m\u001B[38;5;241;43m10000\u001B[39;49m\u001B[43m,\u001B[49m\u001B[43m \u001B[49m\u001B[43muse_over_approximation\u001B[49m\u001B[38;5;241;43m=\u001B[39;49m\u001B[38;5;28;43;01mTrue\u001B[39;49;00m\u001B[43m,\u001B[49m\u001B[43m \u001B[49m\u001B[43mbreak_after\u001B[49m\u001B[38;5;241;43m=\u001B[39;49m\u001B[38;5;28;43;01mNone\u001B[39;49;00m\u001B[43m,\u001B[49m\n\u001B[1;32m     29\u001B[0m \u001B[43m                                 \u001B[49m\u001B[43mtighten_bounds\u001B[49m\u001B[38;5;241;43m=\u001B[39;49m\u001B[38;5;28;43;01mFalse\u001B[39;49;00m\u001B[43m,\u001B[49m\u001B[43m \u001B[49m\n\u001B[1;32m     30\u001B[0m \u001B[43m                                 \u001B[49m\u001B[43muse_fixed_neurons_in_grouping\u001B[49m\u001B[38;5;241;43m=\u001B[39;49m\u001B[38;5;28;43;01mFalse\u001B[39;49;00m\u001B[43m,\u001B[49m\u001B[43m \u001B[49m\u001B[43mlayers_as_snr\u001B[49m\u001B[38;5;241;43m=\u001B[39;49m\u001B[43m[\u001B[49m\u001B[43m]\u001B[49m\u001B[43m,\u001B[49m\u001B[43m \u001B[49m\u001B[43mlayers_as_milp\u001B[49m\u001B[38;5;241;43m=\u001B[39;49m\u001B[43m[\u001B[49m\u001B[38;5;241;43m3\u001B[39;49m\u001B[43m]\u001B[49m\u001B[43m,\u001B[49m\n\u001B[1;32m     31\u001B[0m \u001B[43m                                 \u001B[49m\u001B[43mforce_inclusion_steps\u001B[49m\u001B[38;5;241;43m=\u001B[39;49m\u001B[38;5;241;43m3\u001B[39;49m\u001B[43m,\u001B[49m\u001B[43m \u001B[49m\u001B[43mpreemptive_stop\u001B[49m\u001B[38;5;241;43m=\u001B[39;49m\u001B[38;5;28;43;01mTrue\u001B[39;49;00m\u001B[43m,\u001B[49m\n\u001B[1;32m     32\u001B[0m \u001B[43m                                \u001B[49m\u001B[43mdata_grad_descent_steps\u001B[49m\u001B[38;5;241;43m=\u001B[39;49m\u001B[38;5;241;43m0\u001B[39;49m\u001B[43m,\u001B[49m\u001B[43m \u001B[49m\u001B[43mopt_steps_gd\u001B[49m\u001B[38;5;241;43m=\u001B[39;49m\u001B[38;5;241;43m100\u001B[39;49m\u001B[43m,\u001B[49m\n\u001B[1;32m     33\u001B[0m \u001B[43m                                 \u001B[49m\u001B[43mtrain_outer\u001B[49m\u001B[38;5;241;43m=\u001B[39;49m\u001B[38;5;28;43;01mFalse\u001B[39;49;00m\u001B[43m,\u001B[49m\u001B[43m \u001B[49m\u001B[43mprint_training_loss\u001B[49m\u001B[38;5;241;43m=\u001B[39;49m\u001B[38;5;28;43;01mFalse\u001B[39;49;00m\u001B[43m,\u001B[49m\u001B[43m \u001B[49m\u001B[43mprint_new_bounds\u001B[49m\u001B[38;5;241;43m=\u001B[39;49m\u001B[38;5;28;43;01mFalse\u001B[39;49;00m\u001B[43m,\u001B[49m\n\u001B[1;32m     34\u001B[0m \u001B[43m                                 \u001B[49m\u001B[43mgrouping_method\u001B[49m\u001B[38;5;241;43m=\u001B[39;49m\u001B[38;5;124;43m\"\u001B[39;49m\u001B[38;5;124;43mconsecutive\u001B[39;49m\u001B[38;5;124;43m\"\u001B[39;49m\u001B[43m,\u001B[49m\u001B[43m \u001B[49m\u001B[43mgroup_num_multiplier\u001B[49m\u001B[38;5;241;43m=\u001B[39;49m\u001B[38;5;241;43m5\u001B[39;49m\u001B[43m,\u001B[49m\u001B[43m \u001B[49m\u001B[43mstore_samples\u001B[49m\u001B[38;5;241;43m=\u001B[39;49m\u001B[38;5;28;43;01mFalse\u001B[39;49;00m\u001B[43m,\u001B[49m\u001B[43m \u001B[49m\u001B[43mprint_optimization_steps\u001B[49m\u001B[38;5;241;43m=\u001B[39;49m\u001B[38;5;28;43;01mFalse\u001B[39;49;00m\u001B[43m,\u001B[49m\u001B[43m \u001B[49m\u001B[43mprint_last_loss\u001B[49m\u001B[38;5;241;43m=\u001B[39;49m\u001B[38;5;28;43;01mFalse\u001B[39;49;00m\u001B[43m,\u001B[49m\n\u001B[1;32m     35\u001B[0m \u001B[43m                                 \u001B[49m\u001B[43mshould_plot\u001B[49m\u001B[38;5;241;43m=\u001B[39;49m\u001B[38;5;124;43m\"\u001B[39;49m\u001B[38;5;124;43mnone\u001B[39;49m\u001B[38;5;124;43m\"\u001B[39;49m\u001B[43m,\u001B[49m\u001B[43m \u001B[49m\u001B[43moptimizer\u001B[49m\u001B[38;5;241;43m=\u001B[39;49m\u001B[38;5;124;43m\"\u001B[39;49m\u001B[38;5;124;43mSdLBFGS\u001B[39;49m\u001B[38;5;124;43m\"\u001B[39;49m\u001B[43m,\u001B[49m\u001B[43m \u001B[49m\u001B[43minit_network\u001B[49m\u001B[38;5;241;43m=\u001B[39;49m\u001B[38;5;28;43;01mTrue\u001B[39;49;00m\u001B[43m,\u001B[49m\u001B[43m \u001B[49m\u001B[43madapt_lambda\u001B[49m\u001B[38;5;241;43m=\u001B[39;49m\u001B[38;5;124;43m\"\u001B[39;49m\u001B[38;5;124;43mincluded\u001B[39;49m\u001B[38;5;124;43m\"\u001B[39;49m\u001B[43m,\u001B[49m\u001B[43m \u001B[49m\u001B[43msampling_strategy\u001B[49m\u001B[38;5;241;43m=\u001B[39;49m\u001B[43msampling_strategy\u001B[49m\u001B[43m)\u001B[49m\n\u001B[1;32m     36\u001B[0m \u001B[38;5;28mprint\u001B[39m(\u001B[38;5;124m\"\u001B[39m\u001B[38;5;124moverall time: \u001B[39m\u001B[38;5;132;01m{}\u001B[39;00m\u001B[38;5;124m\"\u001B[39m\u001B[38;5;241m.\u001B[39mformat(time\u001B[38;5;241m.\u001B[39mtime() \u001B[38;5;241m-\u001B[39m overall_time))\n",
      "File \u001B[0;32m~/Documents/Programming/ICNN_verification/script/DHOV/MultiDHOV.py:481\u001B[0m, in \u001B[0;36mMultiDHOV.start_verification\u001B[0;34m(self, nn, input, icnn_factory, group_size, eps, icnn_batch_size, icnn_epochs, hyper_lambda, init_affine_bounds, init_layer_bounds, break_after, tighten_bounds, use_fixed_neurons_in_grouping, layers_as_milp, layers_as_snr, use_over_approximation, opt_steps_gd, data_grad_descent_steps, train_outer, preemptive_stop, store_samples, force_inclusion_steps, grouping_method, group_num_multiplier, init_network, adapt_lambda, should_plot, optimizer, print_training_loss, print_last_loss, print_optimization_steps, print_new_bounds, sampling_strategy)\u001B[0m\n\u001B[1;32m    479\u001B[0m \u001B[38;5;28;01mif\u001B[39;00m use_over_approximation:\n\u001B[1;32m    480\u001B[0m     copy_model \u001B[38;5;241m=\u001B[39m nn_encoding_model\u001B[38;5;241m.\u001B[39mcopy()\n\u001B[0;32m--> 481\u001B[0m     adversarial_input, c \u001B[38;5;241m=\u001B[39m ver\u001B[38;5;241m.\u001B[39mverification(current_icnn, copy_model, affine_w\u001B[38;5;241m.\u001B[39mcpu()\u001B[38;5;241m.\u001B[39mdetach()\u001B[38;5;241m.\u001B[39mcpu()\u001B[38;5;241m.\u001B[39mnumpy(),\n\u001B[1;32m    482\u001B[0m                                             affine_b\u001B[38;5;241m.\u001B[39mdetach()\u001B[38;5;241m.\u001B[39mcpu()\u001B[38;5;241m.\u001B[39mnumpy(), group_indices[group_i],\n\u001B[1;32m    483\u001B[0m                                             bounds_affine_out[current_layer_index],\n\u001B[1;32m    484\u001B[0m                                             bounds_layer_out[current_layer_index], prev_layer_index,\n\u001B[1;32m    485\u001B[0m                                             has_relu\u001B[38;5;241m=\u001B[39m\u001B[38;5;28;01mTrue\u001B[39;00m)\n\u001B[1;32m    487\u001B[0m     current_icnn\u001B[38;5;241m.\u001B[39mapply_enlargement(c)\n\u001B[1;32m    489\u001B[0m \u001B[38;5;28mprint\u001B[39m(\u001B[38;5;124m\"\u001B[39m\u001B[38;5;124m        time for verification: \u001B[39m\u001B[38;5;132;01m{}\u001B[39;00m\u001B[38;5;124m\"\u001B[39m\u001B[38;5;241m.\u001B[39mformat(time\u001B[38;5;241m.\u001B[39mtime() \u001B[38;5;241m-\u001B[39m t))\n",
      "\u001B[0;31mTypeError\u001B[0m: cannot unpack non-iterable NoneType object"
     ]
    }
   ],
   "source": [
    "from script.DHOV.Sampling.PerGroupLineSearchSampling import PerGroupLineSearchSamplingStrategy\n",
    "from script.DHOV.Sampling.PerGroupSamplingStrategy import PerGroupSamplingStrategy\n",
    "center = torch.flatten(torch_image)\n",
    "sampling_strategy = PerGroupLineSearchSamplingStrategy(center, eps, nn, keep_ambient_space=True, sample_new=False, sample_count=100)\n",
    "# number of neurons which are in one group\n",
    "group_size = 20\n",
    "\n",
    "# number of data points which are generated to train the ICNN on\n",
    "sample_count = 50\n",
    "\n",
    "# method of sampling data points\n",
    "#sampling_method = \"per_group_sampling\"\n",
    "\n",
    "# Size of each layer of the ICNN except for the input layer. (given by group size)\n",
    "net_size = [5, 1]\n",
    "\n",
    "# picking the typ of ICNN to use\n",
    "#icnn_factory = ICNNFactory(\"approx_max\", net_size, maximum_function=\"SMU\", function_parameter=0.3)\n",
    "icnn_factory = ICNNFactory(\"logical\", net_size, always_use_logical_layer=False)\n",
    "#icnn_factory = ICNNFactory(\"standard\", net_size, adapt_layer_for_init=True)\n",
    "\n",
    "bounds_affine_out_snr, bounds_layer_out_snr = crown_bounds_affine_out, crown_bounds_layer_out\n",
    "\n",
    "overall_time = time.time()\n",
    "dhov_verifier = multidhov.MultiDHOV()\n",
    "dhov_verifier.start_verification(nn, torch_image, icnn_factory, group_size, eps=eps, icnn_epochs=200,\n",
    "                                init_affine_bounds=bounds_affine_out_snr, init_layer_bounds=bounds_layer_out_snr,\n",
    "                                 icnn_batch_size=10000, use_over_approximation=True, break_after=None,\n",
    "                                 tighten_bounds=False, \n",
    "                                 use_fixed_neurons_in_grouping=False, layers_as_snr=[], layers_as_milp=[3],\n",
    "                                 force_inclusion_steps=3, preemptive_stop=True,\n",
    "                                data_grad_descent_steps=0, opt_steps_gd=100,\n",
    "                                 train_outer=False, print_training_loss=False, print_new_bounds=False,\n",
    "                                 grouping_method=\"consecutive\", group_num_multiplier=5, store_samples=False, print_optimization_steps=False, print_last_loss=False,\n",
    "                                 should_plot=\"none\", optimizer=\"SdLBFGS\", init_network=True, adapt_lambda=\"included\", sampling_strategy=sampling_strategy)\n",
    "print(\"overall time: {}\".format(time.time() - overall_time))"
   ],
   "metadata": {
    "collapsed": false,
    "pycharm": {
     "name": "#%%\n"
    },
    "ExecuteTime": {
     "end_time": "2024-04-09T01:40:10.176771786Z",
     "start_time": "2024-04-09T01:40:09.675285741Z"
    }
   }
  },
  {
   "cell_type": "markdown",
   "source": [
    "# Getting an overview over what DHOV has done\n",
    "show the neuron groups created by DHOV for each layer by index"
   ],
   "metadata": {
    "collapsed": false
   }
  },
  {
   "cell_type": "code",
   "execution_count": null,
   "outputs": [],
   "source": [
    "for i, groups_in_layer in enumerate(dhov_verifier.all_group_indices):\n",
    "    print(f\"Layer {i}\")\n",
    "    for k, group in enumerate(groups_in_layer):\n",
    "        print(f\"    Group {k}: {group}\")"
   ],
   "metadata": {
    "collapsed": false,
    "pycharm": {
     "name": "#%%\n"
    }
   }
  },
  {
   "cell_type": "markdown",
   "source": [
    "show the output bounds for the NN. Hopefully these are better than the box-bounds and the bounds obtained by the Single-Neuron-Verification"
   ],
   "metadata": {
    "collapsed": false
   }
  },
  {
   "cell_type": "code",
   "execution_count": null,
   "outputs": [],
   "source": [
    "print(dhov_verifier.bounds_affine_out[-1][0].tolist())\n",
    "print(dhov_verifier.bounds_affine_out[-1][1].tolist())"
   ],
   "metadata": {
    "collapsed": false,
    "pycharm": {
     "name": "#%%\n"
    }
   }
  },
  {
   "cell_type": "markdown",
   "source": [
    "# Starting the optimization process"
   ],
   "metadata": {
    "collapsed": false
   }
  },
  {
   "cell_type": "code",
   "execution_count": null,
   "outputs": [],
   "source": [
    "# make changes on a copy of the gurobi model generated by DHOV\n",
    "dhov_model = dhov_verifier.nn_encoding_model.copy()\n",
    "dhov_model.update()\n",
    "dhov_out_vars = get_output_vars_dhov(dhov_model, output_size, number_layer)"
   ],
   "metadata": {
    "collapsed": false,
    "pycharm": {
     "name": "#%%\n"
    }
   }
  },
  {
   "cell_type": "code",
   "execution_count": null,
   "outputs": [],
   "source": [
    "add_output_constraints(dhov_model, simple_bounds_layer_out, label, dhov_out_vars, sovler_bound=10)"
   ],
   "metadata": {
    "collapsed": false,
    "pycharm": {
     "name": "#%%\n"
    }
   }
  },
  {
   "cell_type": "code",
   "execution_count": null,
   "outputs": [],
   "source": [
    "optimize_model(dhov_model, dhov_out_vars)"
   ],
   "metadata": {
    "collapsed": false,
    "pycharm": {
     "name": "#%%\n"
    }
   }
  },
  {
   "cell_type": "code",
   "execution_count": null,
   "outputs": [],
   "source": [
    " "
   ],
   "metadata": {
    "collapsed": false
   }
  }
 ],
 "metadata": {
  "kernelspec": {
   "display_name": "Python 3",
   "language": "python",
   "name": "python3"
  },
  "language_info": {
   "codemirror_mode": {
    "name": "ipython",
    "version": 2
   },
   "file_extension": ".py",
   "mimetype": "text/x-python",
   "name": "python",
   "nbconvert_exporter": "python",
   "pygments_lexer": "ipython2",
   "version": "2.7.6"
  }
 },
 "nbformat": 4,
 "nbformat_minor": 0
}
