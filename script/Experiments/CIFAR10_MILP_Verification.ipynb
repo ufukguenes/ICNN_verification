{
 "cells": [
  {
   "cell_type": "markdown",
   "source": [
    "# Training und Verifikation mittels MILP von Netz auf CIFAR10 Datensatz\n",
    "Es sollte bereits ein trainiertes Netz existieren."
   ],
   "metadata": {
    "collapsed": false,
    "pycharm": {
     "name": "#%% md\n"
    }
   }
  },
  {
   "cell_type": "code",
   "execution_count": 1,
   "outputs": [],
   "source": [
    "import numpy as np\n",
    "import torch\n",
    "from matplotlib import pyplot as plt\n",
    "from torch.utils.data import DataLoader\n",
    "from torchvision.datasets import CIFAR10\n",
    "from torchvision.transforms import Compose, ToTensor, Normalize\n",
    "from script.NeuralNets.Networks import *\n",
    "from script.NeuralNets.trainFunction import train_sequential\n",
    "from script.Verification.Verifier import MILPVerifier, SingleNeuronVerifier\n",
    "import time\n",
    "from jupyterthemes import jtplot\n",
    "import gurobipy as grp\n",
    "from gurobipy import GRB, max_\n",
    "import script.Verification.VerificationBasics as verbas\n",
    "\n",
    "load_model = True\n",
    "jtplot.style(theme='monokai', context='notebook', ticks=True, grid=False)\n",
    "\n"
   ],
   "metadata": {
    "collapsed": false,
    "pycharm": {
     "name": "#%%\n"
    }
   }
  },
  {
   "cell_type": "code",
   "execution_count": 2,
   "outputs": [
    {
     "name": "stdout",
     "output_type": "stream",
     "text": [
      "Files already downloaded and verified\n",
      "Files already downloaded and verified\n"
     ]
    }
   ],
   "source": [
    "transform = Compose([ToTensor(),\n",
    "                     Normalize((0.5, 0.5, 0.5), (0.5, 0.5, 0.5))]\n",
    "                    )\n",
    "\n",
    "training_data = CIFAR10(root=\"../../cifar\",\n",
    "                        train=True,\n",
    "                        download=True,\n",
    "                        transform=transform)\n",
    "\n",
    "test_data = CIFAR10(root=\"../../cifar\",\n",
    "                    train=False,  # test set, 10k images\n",
    "                    download=True,\n",
    "                    transform=transform)\n",
    "\n",
    "batch_size = 4\n",
    "train_dataloader = DataLoader(training_data,\n",
    "                              batch_size=batch_size,\n",
    "                              shuffle=True)\n",
    "test_dataloader = DataLoader(test_data,\n",
    "                             batch_size=batch_size,\n",
    "                             shuffle=True)\n",
    "\n",
    "classes = training_data.classes\n",
    "\n",
    "\n",
    "def imshow(img):\n",
    "    img = img / 2 + .05  # revert normalization for viewing\n",
    "    npimg = img.numpy()\n",
    "    plt.imshow(np.transpose(npimg, (1, 2, 0)))\n",
    "    plt.show()"
   ],
   "metadata": {
    "collapsed": false,
    "pycharm": {
     "name": "#%%\n"
    }
   }
  },
  {
   "cell_type": "code",
   "execution_count": 3,
   "outputs": [],
   "source": [
    "\"\"\"model = nn.Sequential(\n",
    "    nn.Flatten(),\n",
    "    nn.Linear(32 * 32 * 3, 1024),\n",
    "    nn.ReLU(),\n",
    "    nn.Linear(1024, 512),\n",
    "    nn.ReLU(),\n",
    "    nn.Linear(512, 10)\n",
    ")\n",
    "model.load_state_dict(torch.load(\"../cifar_fc.pth\", map_location=torch.device('cpu')), strict=False)\n",
    "\"\"\"\n",
    "\n",
    "model = SequentialNN([32 * 32 * 3, 1024, 512, 10])\n",
    "\n",
    "if load_model:\n",
    "    model.load_state_dict(torch.load(\"../../cifar_fc.pth\", map_location=torch.device('cpu')), strict=False)\n",
    "else:\n",
    "    train_sequential(model, train_dataloader, test_dataloader, epochs=1)\n"
   ],
   "metadata": {
    "collapsed": false,
    "pycharm": {
     "name": "#%%\n"
    }
   }
  },
  {
   "cell_type": "code",
   "execution_count": 4,
   "outputs": [
    {
     "name": "stderr",
     "output_type": "stream",
     "text": [
      "Clipping input data to the valid range for imshow with RGB data ([0..1] for floats or [0..255] for integers).\n"
     ]
    },
    {
     "data": {
      "text/plain": "<Figure size 800x700 with 1 Axes>",
      "image/png": "[encoded data removed]"
     },
     "metadata": {},
     "output_type": "display_data"
    },
    {
     "name": "stdout",
     "output_type": "stream",
     "text": [
      "label is frog with index 6\n",
      "prediction is frog with output tensor([[ 1.3665, -0.5882,  0.1332,  1.2625,  1.8794,  0.4330,  3.5173,  0.8659,\n",
      "         -5.1264, -2.9051]], dtype=torch.float64, grad_fn=<AddmmBackward0>) \n"
     ]
    }
   ],
   "source": [
    "images, labels = training_data.__getitem__(0)\n",
    "testimage, testlabel = torch.unsqueeze(images, 0).to(torch.float64), torch.unsqueeze(torch.tensor(labels), 0).to(torch.float64)\n",
    "imshow(images)\n",
    "print(\"label is {} with index {}\".format(classes[labels], labels))\n",
    "pred = model(testimage)\n",
    "\n",
    "print(\"prediction is {} with output {} \".format(classes[pred.argmax()], pred))"
   ],
   "metadata": {
    "collapsed": false,
    "pycharm": {
     "name": "#%%\n"
    }
   }
  },
  {
   "cell_type": "code",
   "execution_count": null,
   "outputs": [
    {
     "name": "stdout",
     "output_type": "stream",
     "text": [
      "=================\n",
      "Set parameter Username\n",
      "Academic license - for non-commercial use only - expires 2023-11-12\n",
      "Set parameter BestObjStop to value 0.001\n",
      "Gurobi Optimizer version 10.0.0 build v10.0.0rc2 (win64)\n",
      "\n",
      "CPU model: AMD Ryzen 7 5800H with Radeon Graphics, instruction set [SSE2|AVX|AVX2]\n",
      "Thread count: 8 physical cores, 16 logical processors, using up to 16 threads\n",
      "\n",
      "Optimize a model with 7699 rows, 6164 columns and 3682853 nonzeros\n",
      "Model fingerprint: 0xf34388c0\n",
      "Model has 1537 general constraints\n",
      "Variable types: 6164 continuous, 0 integer (0 binary)\n",
      "Coefficient statistics:\n",
      "  Matrix range     [9e-11, 1e+00]\n",
      "  Objective range  [1e+00, 1e+00]\n",
      "  Bounds range     [6e-01, 3e+01]\n",
      "  RHS range        [3e-05, 1e+00]\n",
      "Presolve removed 13839 rows and 7697 columns (presolve time = 5s) ...\n",
      "Presolve added 0 rows and 1513 columns\n",
      "Presolve removed 3094 rows and 0 columns\n",
      "Presolve time: 5.41s\n",
      "Presolved: 4605 rows, 7677 columns, 3675562 nonzeros\n",
      "Variable types: 6142 continuous, 1535 integer (1535 binary)\n",
      "\n",
      "Root simplex log...\n",
      "\n",
      "Iteration    Objective       Primal Inf.    Dual Inf.      Time\n",
      "       0    4.1494921e+02   1.216874e+03   0.000000e+00      7s\n",
      "    3332    2.2332230e+02   1.858631e+05   0.000000e+00     10s\n",
      "    6010    2.1627851e+02   1.535118e+02   0.000000e+00     15s\n",
      "    7650    2.1481379e+02   8.404627e+03   0.000000e+00     20s\n",
      "    9400    2.1431242e+02   1.398909e-01   0.000000e+00     25s\n",
      "    9441    2.1431739e+02   0.000000e+00   0.000000e+00     26s\n",
      "\n",
      "Root relaxation: objective 2.143174e+02, 9441 iterations, 18.91 seconds (42.98 work units)\n",
      "\n",
      "    Nodes    |    Current Node    |     Objective Bounds      |     Work\n",
      " Expl Unexpl |  Obj  Depth IntInf | Incumbent    BestBd   Gap | It/Node Time\n",
      "\n",
      "     0     0  214.31739    0  826          -  214.31739      -     -   26s\n",
      "     0     0  213.00961    0  817          -  213.00961      -     -   63s\n",
      "     0     0  210.92831    0  801          -  210.92831      -     -   74s\n",
      "     0     0  210.70764    0  793          -  210.70764      -     -   78s\n",
      "     0     0  210.62609    0  800          -  210.62609      -     -   82s\n",
      "     0     0  210.26484    0  820          -  210.26484      -     -   91s\n",
      "     0     0  210.26385    0  821          -  210.26385      -     -   92s\n",
      "     0     0  210.26385    0  821          -  210.26385      -     -   93s\n",
      "     0     0  209.20432    0  812          -  209.20432      -     -  106s\n",
      "     0     0  207.23382    0  806          -  207.23382      -     -  123s\n",
      "     0     0  207.15935    0  811          -  207.15935      -     -  126s\n",
      "     0     0  207.10348    0  812          -  207.10348      -     -  130s\n",
      "     0     0  206.75495    0  820          -  206.75495      -     -  139s\n",
      "     0     0  206.62996    0  826          -  206.62996      -     -  148s\n",
      "     0     0  206.57078    0  828          -  206.57078      -     -  157s\n",
      "     0     0  206.54996    0  832          -  206.54996      -     -  164s\n",
      "     0     0  206.54937    0  832          -  206.54937      -     -  166s\n",
      "     0     0  204.10603    0  850          -  204.10603      -     -  193s\n",
      "     0     0  204.06391    0  840          -  204.06391      -     -  198s\n",
      "     0     0  204.03480    0  844          -  204.03480      -     -  203s\n",
      "     0     0  203.20417    0  870          -  203.20417      -     -  218s\n",
      "     0     0  203.04449    0  878          -  203.04449      -     -  226s\n",
      "     0     0  202.93071    0  872          -  202.93071      -     -  234s\n",
      "     0     0  202.90428    0  864          -  202.90428      -     -  240s\n",
      "     0     0  202.89386    0  871          -  202.89386      -     -  245s\n",
      "     0     0  202.87498    0  868          -  202.87498      -     -  251s\n",
      "     0     0  202.87352    0  870          -  202.87352      -     -  255s\n",
      "     0     0  199.81631    0  892          -  199.81631      -     -  277s\n",
      "     0     0  199.62597    0  888          -  199.62597      -     -  283s\n",
      "     0     0  199.49410    0  888          -  199.49410      -     -  288s\n",
      "     0     0  199.45282    0  891          -  199.45282      -     -  291s\n",
      "     0     0  199.42426    0  892          -  199.42426      -     -  295s\n",
      "     0     0  198.62758    0  910          -  198.62758      -     -  308s\n",
      "     0     0  198.47508    0  919          -  198.47508      -     -  315s\n",
      "     0     0  198.31026    0  926          -  198.31026      -     -  321s\n",
      "     0     0  198.22924    0  934          -  198.22924      -     -  329s\n",
      "     0     0  198.12514    0  925          -  198.12514      -     -  337s\n",
      "     0     0  198.11468    0  926          -  198.11468      -     -  341s\n",
      "     0     0  198.09752    0  933          -  198.09752      -     -  347s\n",
      "     0     0  198.08975    0  934          -  198.08975      -     -  352s\n",
      "     0     0  198.08692    0  934          -  198.08692      -     -  356s\n",
      "     0     0  196.96031    0  933          -  196.96031      -     -  377s\n",
      "     0     0  195.52197    0  926          -  195.52197      -     -  422s\n",
      "     0     0  195.36121    0  921          -  195.36121      -     -  428s\n",
      "     0     0  195.21200    0  922          -  195.21200      -     -  434s\n",
      "     0     0  195.18396    0  923          -  195.18396      -     -  438s\n",
      "     0     0  195.08551    0  925          -  195.08551      -     -  444s\n",
      "     0     0  195.06787    0  928          -  195.06787      -     -  447s\n",
      "     0     0  194.50304    0  955          -  194.50304      -     -  459s\n",
      "     0     0  194.37147    0  952          -  194.37147      -     -  468s\n",
      "     0     0  194.32432    0  955          -  194.32432      -     -  473s\n",
      "     0     0  194.26480    0  944          -  194.26480      -     -  478s\n",
      "     0     0  194.23465    0  956          -  194.23465      -     -  482s\n",
      "     0     0  194.19072    0  949          -  194.19072      -     -  487s\n",
      "     0     0  194.12340    0  947          -  194.12340      -     -  492s\n",
      "     0     0  194.08886    0  955          -  194.08886      -     -  497s\n",
      "     0     0  194.07398    0  951          -  194.07398      -     -  501s\n",
      "     0     0  194.06315    0  958          -  194.06315      -     -  505s\n",
      "     0     0  194.04631    0  958          -  194.04631      -     -  510s\n",
      "     0     0  194.03855    0  959          -  194.03855      -     -  514s\n",
      "     0     0  194.01957    0  963          -  194.01957      -     -  520s\n",
      "     0     0  194.01179    0  961          -  194.01179      -     -  526s\n",
      "     0     0  194.00831    0  966          -  194.00831      -     -  529s\n",
      "     0     0  192.75112    0  944          -  192.75112      -     -  548s\n",
      "     0     0  192.66608    0  952          -  192.66608      -     -  553s\n",
      "     0     0  191.97172    0  965          -  191.97172      -     -  565s\n",
      "     0     0  191.94864    0  966          -  191.94864      -     -  567s\n",
      "     0     0  191.87830    0  966          -  191.87830      -     -  570s\n",
      "     0     0  191.69332    0  968          -  191.69332      -     -  576s\n",
      "     0     0  191.69012    0  970          -  191.69012      -     -  578s\n",
      "     0     0  190.64495    0  956          -  190.64495      -     -  592s\n",
      "     0     0  190.46089    0  973          -  190.46089      -     -  599s\n",
      "     0     0  190.22052    0  988          -  190.22052      -     -  607s\n",
      "     0     0  190.13267    0  989          -  190.13267      -     -  612s\n",
      "     0     0  189.90216    0  985          -  189.90216      -     -  620s\n",
      "     0     0  189.87620    0  991          -  189.87620      -     -  625s\n",
      "     0     0  189.83704    0  990          -  189.83704      -     -  629s\n",
      "     0     0  189.66340    0 1000          -  189.66340      -     -  637s\n",
      "     0     0  189.65238    0 1002          -  189.65238      -     -  640s\n",
      "     0     0  189.54221    0 1001          -  189.54221      -     -  647s\n",
      "     0     0  189.52928    0 1001          -  189.52928      -     -  651s\n",
      "     0     0  189.44202    0 1012          -  189.44202      -     -  659s\n",
      "     0     0  189.41002    0 1009          -  189.41002      -     -  666s\n",
      "     0     0  189.39444    0 1013          -  189.39444      -     -  671s\n",
      "     0     0  189.36760    0 1010          -  189.36760      -     -  677s\n",
      "     0     0  189.34013    0 1014          -  189.34013      -     -  684s\n",
      "     0     0  189.33550    0 1014          -  189.33550      -     -  687s\n"
     ]
    }
   ],
   "source": [
    "print(\"=================\")\n",
    "start = time.time()\n",
    "verifier = MILPVerifier(model, testimage, 0.1, solver_bound=0.001, print_log=True)\n",
    "#verifier = SingleNeuronVerifier(model, testimage, 0.01, solver_bound=0.001, print_log=True)\n",
    "verifier.generate_constraints_for_net()\n",
    "output_var = verifier.output_vars\n",
    "m = verifier.model\n",
    "input_var = verifier.input_vars\n",
    "\n",
    "difference = m.addVars(9, lb=-float('inf'))\n",
    "m.addConstrs(difference[i] == output_var.tolist()[i] - output_var.tolist()[labels] for i in range(0, labels))\n",
    "m.addConstrs(difference[i - 1] == output_var.tolist()[i] - output_var.tolist()[labels] for i in range(labels + 1, 10))\n",
    "\n",
    "max_var = m.addVar(lb=-float('inf'))\n",
    "m.addConstr(max_var == max_(difference))\n",
    "\n",
    "m.update()\n",
    "m.setObjective(output_var[0], GRB.MAXIMIZE)\n",
    "m.optimize()\n",
    "\n",
    "\n",
    "\"\"\"m.computeIIS()\n",
    "print(\"constraint\")\n",
    "all_constr = m.getConstrs()\n",
    "\n",
    "for const in all_constr:\n",
    "    if const.IISConstr:\n",
    "        print(const)\n",
    "\n",
    "print(\"lower bound\")\n",
    "all_var = m.getVars()\n",
    "for var in all_var:\n",
    "    if var.IISLB:\n",
    "        print(var)\n",
    "\n",
    "print(\"upper bound\")\n",
    "all_var = m.getVars()\n",
    "for var in all_var:\n",
    "    if var.IISUB:\n",
    "        print(var)\"\"\"\n",
    "\n",
    "alt_pic, alt_out = None, None\n",
    "if m.Status == GRB.OPTIMAL or m.Status == GRB.TIME_LIMIT or m.Status == GRB.USER_OBJ_LIMIT:\n",
    "    inp = input_var.getAttr(\"x\")\n",
    "    for o in difference.select():\n",
    "        print(o.getAttr(\"x\"))\n",
    "    print(\"optimum solution with value \\n {}\".format(output_var.getAttr(\"x\")))\n",
    "    print(\"max_var {}\".format(max_var.getAttr(\"x\")))\n",
    "    test_inp = torch.tensor([inp], dtype=torch.float64)\n",
    "    alt_pic, alt_out =  test_inp, output_var\n",
    "\n",
    "\n",
    "end = time.time() - start\n",
    "print(\"=================\")\n",
    "print(\"\")\n",
    "print(\"time to solve {} s.\".format(end))\n",
    "if alt_pic is not None:\n",
    "    print(alt_pic)\n",
    "    out = model(alt_pic)\n",
    "    print(\"prediction is {} with output {} \".format(classes[out.argmax()], out))\n",
    "\n",
    "    reshaped = np.reshape(alt_pic, (3, 32, 32))\n",
    "    imshow(reshaped)"
   ],
   "metadata": {
    "collapsed": false,
    "pycharm": {
     "name": "#%%\n",
     "is_executing": true
    }
   }
  },
  {
   "cell_type": "code",
   "execution_count": null,
   "outputs": [],
   "source": [],
   "metadata": {
    "collapsed": false,
    "pycharm": {
     "name": "#%%\n",
     "is_executing": true
    }
   }
  }
 ],
 "metadata": {
  "kernelspec": {
   "display_name": "Python 3",
   "language": "python",
   "name": "python3"
  },
  "language_info": {
   "codemirror_mode": {
    "name": "ipython",
    "version": 2
   },
   "file_extension": ".py",
   "mimetype": "text/x-python",
   "name": "python",
   "nbconvert_exporter": "python",
   "pygments_lexer": "ipython2",
   "version": "2.7.6"
  }
 },
 "nbformat": 4,
 "nbformat_minor": 0
}