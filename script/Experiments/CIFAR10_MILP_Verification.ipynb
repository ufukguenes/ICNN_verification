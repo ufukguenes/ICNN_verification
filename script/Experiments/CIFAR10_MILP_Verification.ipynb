{
 "cells": [
  {
   "cell_type": "markdown",
   "source": [
    "# Training und Verifikation mittels MILP von Netz auf CIFAR10 Datensatz\n",
    "Es sollte bereits ein trainiertes Netz existieren."
   ],
   "metadata": {
    "collapsed": false,
    "pycharm": {
     "name": "#%% md\n"
    }
   }
  },
  {
   "cell_type": "code",
   "execution_count": 1,
   "outputs": [],
   "source": [
    "import numpy as np\n",
    "from matplotlib import pyplot as plt\n",
    "from torch.utils.data import DataLoader\n",
    "from torchvision.datasets import CIFAR10\n",
    "from torchvision.transforms import Compose, ToTensor, Normalize\n",
    "from script.Networks import *\n",
    "from script.trainFunction import train_sequential\n",
    "from script.Verification import verification_of_normal\n",
    "import time\n",
    "from jupyterthemes import jtplot\n",
    "\n",
    "load_model = True\n",
    "jtplot.style(theme='monokai', context='notebook', ticks=True, grid=False)\n",
    "\n"
   ],
   "metadata": {
    "collapsed": false,
    "pycharm": {
     "name": "#%%\n"
    }
   }
  },
  {
   "cell_type": "code",
   "execution_count": 2,
   "outputs": [
    {
     "name": "stdout",
     "output_type": "stream",
     "text": [
      "Files already downloaded and verified\n",
      "Files already downloaded and verified\n"
     ]
    }
   ],
   "source": [
    "transform = Compose([ToTensor(),\n",
    "                     Normalize((0.5, 0.5, 0.5), (0.5, 0.5, 0.5))]\n",
    "                    )\n",
    "\n",
    "training_data = CIFAR10(root=\"../../cifar\",\n",
    "                        train=True,\n",
    "                        download=True,\n",
    "                        transform=transform)\n",
    "\n",
    "test_data = CIFAR10(root=\"../../cifar\",\n",
    "                    train=False,  # test set, 10k images\n",
    "                    download=True,\n",
    "                    transform=transform)\n",
    "\n",
    "batch_size = 4\n",
    "train_dataloader = DataLoader(training_data,\n",
    "                              batch_size=batch_size,\n",
    "                              shuffle=True)\n",
    "test_dataloader = DataLoader(test_data,\n",
    "                             batch_size=batch_size,\n",
    "                             shuffle=True)\n",
    "\n",
    "classes = training_data.classes\n",
    "\n",
    "\n",
    "def imshow(img):\n",
    "    img = img / 2 + .05  # revert normalization for viewing\n",
    "    npimg = img.numpy()\n",
    "    plt.imshow(np.transpose(npimg, (1, 2, 0)))\n",
    "    plt.show()"
   ],
   "metadata": {
    "collapsed": false,
    "pycharm": {
     "name": "#%%\n"
    }
   }
  },
  {
   "cell_type": "code",
   "execution_count": 3,
   "outputs": [],
   "source": [
    "\"\"\"model = nn.Sequential(\n",
    "    nn.Flatten(),\n",
    "    nn.Linear(32 * 32 * 3, 1024),\n",
    "    nn.ReLU(),\n",
    "    nn.Linear(1024, 512),\n",
    "    nn.ReLU(),\n",
    "    nn.Linear(512, 10)\n",
    ")\n",
    "model.load_state_dict(torch.load(\"../cifar_fc.pth\", map_location=torch.device('cpu')), strict=False)\n",
    "\"\"\"\n",
    "\n",
    "model = SequentialNN([32 * 32 * 3, 1024, 512, 10])\n",
    "\n",
    "if load_model:\n",
    "    model.load_state_dict(torch.load(\"../../cifar_fc.pth\", map_location=torch.device('cpu')), strict=False)\n",
    "else:\n",
    "    train_sequential(model, train_dataloader, test_dataloader, epochs=1)\n"
   ],
   "metadata": {
    "collapsed": false,
    "pycharm": {
     "name": "#%%\n"
    }
   }
  },
  {
   "cell_type": "code",
   "execution_count": 4,
   "outputs": [
    {
     "name": "stderr",
     "output_type": "stream",
     "text": [
      "Clipping input data to the valid range for imshow with RGB data ([0..1] for floats or [0..255] for integers).\n"
     ]
    },
    {
     "data": {
      "text/plain": "<Figure size 800x700 with 1 Axes>",
      "image/png": "[encoded data removed]"
     },
     "metadata": {},
     "output_type": "display_data"
    },
    {
     "name": "stdout",
     "output_type": "stream",
     "text": [
      "label is frog with index 6\n",
      "prediction is frog with output tensor([[ 1.3665, -0.5882,  0.1332,  1.2625,  1.8794,  0.4330,  3.5173,  0.8659,\n",
      "         -5.1264, -2.9051]], dtype=torch.float64, grad_fn=<AddmmBackward0>) \n"
     ]
    }
   ],
   "source": [
    "images, labels = training_data.__getitem__(0)\n",
    "testimage, testlabel = torch.unsqueeze(images, 0).to(torch.float64), torch.unsqueeze(torch.tensor(labels), 0).to(torch.float64)\n",
    "imshow(images)\n",
    "print(\"label is {} with index {}\".format(classes[labels], labels))\n",
    "pred = model(testimage)\n",
    "\n",
    "print(\"prediction is {} with output {} \".format(classes[pred.argmax()], pred))\n",
    "\n",
    "\n"
   ],
   "metadata": {
    "collapsed": false,
    "pycharm": {
     "name": "#%%\n"
    }
   }
  },
  {
   "cell_type": "code",
   "execution_count": 5,
   "outputs": [
    {
     "name": "stdout",
     "output_type": "stream",
     "text": [
      "=================\n",
      "Set parameter Username\n",
      "Academic license - for non-commercial use only - expires 2023-11-12\n",
      "Set parameter BestObjStop to value 0.001\n",
      "Gurobi Optimizer version 10.0.0 build v10.0.0rc2 (win64)\n",
      "\n",
      "CPU model: AMD Ryzen 7 5800H with Radeon Graphics, instruction set [SSE2|AVX|AVX2]\n",
      "Thread count: 8 physical cores, 16 logical processors, using up to 16 threads\n",
      "\n",
      "Optimize a model with 13853 rows, 7710 columns and 3695161 nonzeros\n",
      "Model fingerprint: 0xda6d2d0d\n",
      "Model has 1 general constraint\n",
      "Variable types: 6174 continuous, 1536 integer (1536 binary)\n",
      "Coefficient statistics:\n",
      "  Matrix range     [9e-11, 1e+02]\n",
      "  Objective range  [1e+00, 1e+00]\n",
      "  Bounds range     [1e+00, 1e+02]\n",
      "  RHS range        [3e-05, 1e+02]\n",
      "Presolve removed 7712 rows and 31 columns (presolve time = 5s) ...\n",
      "Presolve removed 7684 rows and 4 columns\n",
      "Presolve time: 5.77s\n",
      "Presolved: 6169 rows, 7706 columns, 3683824 nonzeros\n",
      "Variable types: 6162 continuous, 1544 integer (1544 binary)\n",
      "\n",
      "Root simplex log...\n",
      "\n",
      "Iteration    Objective       Primal Inf.    Dual Inf.      Time\n",
      "       0    1.0000000e+01   2.174181e+02   0.000000e+00      7s\n",
      "    1861    9.9997534e+00   4.015487e+01   0.000000e+00     10s\n",
      "    3073    1.0000000e+01   0.000000e+00   0.000000e+00     13s\n",
      "\n",
      "Root relaxation: objective 1.000000e+01, 3073 iterations, 6.16 seconds (11.90 work units)\n",
      "\n",
      "    Nodes    |    Current Node    |     Objective Bounds      |     Work\n",
      " Expl Unexpl |  Obj  Depth IntInf | Incumbent    BestBd   Gap | It/Node Time\n",
      "\n",
      "     0     0   10.00000    0    2          -   10.00000      -     -   13s\n",
      "H    0     0                       3.4581367   10.00000   189%     -   30s\n",
      "\n",
      "Explored 1 nodes (3073 simplex iterations) in 30.17 seconds (50.19 work units)\n",
      "Thread count was 16 (of 16 available processors)\n",
      "\n",
      "Solution count 1: 3.45814 \n",
      "\n",
      "Optimization achieved user objective limit\n",
      "Best objective 3.458136661960e+00, best bound 1.000000000000e+01, gap 189.1731%\n"
     ]
    },
    {
     "name": "stderr",
     "output_type": "stream",
     "text": [
      "C:\\Users\\Ufuk\\Documents\\Programming\\ICNN_verification\\script\\Verification.py:188: UserWarning: Creating a tensor from a list of numpy.ndarrays is extremely slow. Please consider converting the list to a single numpy.ndarray with numpy.array() before converting to a tensor. (Triggered internally at ..\\torch\\csrc\\utils\\tensor_new.cpp:233.)\n",
      "  test_inp = torch.tensor([inp], dtype=torch.float64)\n",
      "Clipping input data to the valid range for imshow with RGB data ([0..1] for floats or [0..255] for integers).\n"
     ]
    },
    {
     "name": "stdout",
     "output_type": "stream",
     "text": [
      "3.4581366619604132\n",
      "-0.9264002626894721\n",
      "0.26840385899768604\n",
      "-0.5032393074563615\n",
      "2.383896326053552\n",
      "-1.062143528371294\n",
      "1.3597599582962152\n",
      "-4.428115830071732\n",
      "-3.1457405553773565\n",
      "optimum solution with value \n",
      " [ 3.7999479  -0.58458902  0.6102151  -0.16142807  2.72570757 -0.72033229\n",
      "  0.34181124  1.7015712  -4.08630459 -2.80392931]\n",
      "max_var 3.4581366619604132\n",
      "=================\n",
      "\n",
      "time to solve 35.758737325668335 s.\n",
      "tensor([[-0.4373, -0.7627, -0.7078,  ..., -0.0020, -0.2412, -0.5353]],\n",
      "       dtype=torch.float64)\n",
      "prediction is frog with output tensor([[ 3.7999, -0.5846,  0.6102, -0.1614,  2.7257, -0.7203,  0.3418,  1.7016,\n",
      "         -4.0863, -2.8039]], dtype=torch.float64, grad_fn=<AddmmBackward0>) \n"
     ]
    },
    {
     "data": {
      "text/plain": "<Figure size 800x700 with 1 Axes>",
      "image/png": "[encoded data removed]"
     },
     "metadata": {},
     "output_type": "display_data"
    }
   ],
   "source": [
    "print(\"=================\")\n",
    "start = time.time()\n",
    "alt_pic, alt_out = verification_of_normal(model, images, labels, eps=0.1, bound=0+0.001)\n",
    "end = time.time() - start\n",
    "print(\"=================\")\n",
    "print(\"\")\n",
    "print(\"time to solve {} s.\".format(end))\n",
    "print(alt_pic)\n",
    "out = model(alt_pic)\n",
    "print(\"prediction is {} with output {} \".format(classes[pred.argmax()], out))\n",
    "\n",
    "reshaped = np.reshape(alt_pic, (3, 32, 32))\n",
    "imshow(reshaped)"
   ],
   "metadata": {
    "collapsed": false,
    "pycharm": {
     "name": "#%%\n"
    }
   }
  },
  {
   "cell_type": "code",
   "execution_count": null,
   "outputs": [],
   "source": [],
   "metadata": {
    "collapsed": false,
    "pycharm": {
     "name": "#%%\n"
    }
   }
  }
 ],
 "metadata": {
  "kernelspec": {
   "display_name": "Python 3",
   "language": "python",
   "name": "python3"
  },
  "language_info": {
   "codemirror_mode": {
    "name": "ipython",
    "version": 2
   },
   "file_extension": ".py",
   "mimetype": "text/x-python",
   "name": "python",
   "nbconvert_exporter": "python",
   "pygments_lexer": "ipython2",
   "version": "2.7.6"
  }
 },
 "nbformat": 4,
 "nbformat_minor": 0
}