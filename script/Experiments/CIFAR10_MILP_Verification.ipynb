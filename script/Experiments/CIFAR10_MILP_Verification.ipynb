{
 "cells": [
  {
   "cell_type": "markdown",
   "source": [
    "# Training und Verifikation mittels MILP von Netz auf CIFAR10 Datensatz\n",
    "Es sollte bereits ein trainiertes Netz existieren."
   ],
   "metadata": {
    "collapsed": false,
    "pycharm": {
     "name": "#%% md\n"
    }
   }
  },
  {
   "cell_type": "code",
   "execution_count": 1,
   "outputs": [],
   "source": [
    "import numpy as np\n",
    "import torch\n",
    "from matplotlib import pyplot as plt\n",
    "from torch.utils.data import DataLoader\n",
    "from torchvision.datasets import CIFAR10\n",
    "from torchvision.transforms import Compose, ToTensor, Normalize\n",
    "from script.NeuralNets.Networks import *\n",
    "from script.NeuralNets.trainFunction import train_sequential\n",
    "from script.Verification.Verifier import MILPVerifier, SingleNeuronVerifier\n",
    "import time\n",
    "from jupyterthemes import jtplot\n",
    "import gurobipy as grp\n",
    "from gurobipy import GRB, max_\n",
    "import script.Verification.VerificationBasics as verbas\n",
    "\n",
    "load_model = True\n",
    "jtplot.style(theme='monokai', context='notebook', ticks=True, grid=False)\n",
    "\n"
   ],
   "metadata": {
    "collapsed": false,
    "pycharm": {
     "name": "#%%\n"
    }
   }
  },
  {
   "cell_type": "code",
   "execution_count": 2,
   "outputs": [
    {
     "name": "stdout",
     "output_type": "stream",
     "text": [
      "Files already downloaded and verified\n",
      "Files already downloaded and verified\n"
     ]
    }
   ],
   "source": [
    "transform = Compose([ToTensor(),\n",
    "                     Normalize((0.5, 0.5, 0.5), (0.5, 0.5, 0.5))]\n",
    "                    )\n",
    "\n",
    "training_data = CIFAR10(root=\"../../cifar\",\n",
    "                        train=True,\n",
    "                        download=True,\n",
    "                        transform=transform)\n",
    "\n",
    "test_data = CIFAR10(root=\"../../cifar\",\n",
    "                    train=False,  # test set, 10k images\n",
    "                    download=True,\n",
    "                    transform=transform)\n",
    "\n",
    "batch_size = 4\n",
    "train_dataloader = DataLoader(training_data,\n",
    "                              batch_size=batch_size,\n",
    "                              shuffle=True)\n",
    "test_dataloader = DataLoader(test_data,\n",
    "                             batch_size=batch_size,\n",
    "                             shuffle=True)\n",
    "\n",
    "classes = training_data.classes\n",
    "\n",
    "\n",
    "def imshow(img):\n",
    "    img = img / 2 + .05  # revert normalization for viewing\n",
    "    npimg = img.numpy()\n",
    "    plt.imshow(np.transpose(npimg, (1, 2, 0)))\n",
    "    plt.show()"
   ],
   "metadata": {
    "collapsed": false,
    "pycharm": {
     "name": "#%%\n"
    }
   }
  },
  {
   "cell_type": "code",
   "execution_count": 3,
   "outputs": [],
   "source": [
    "\"\"\"model = nn.Sequential(\n",
    "    nn.Flatten(),\n",
    "    nn.Linear(32 * 32 * 3, 1024),\n",
    "    nn.ReLU(),\n",
    "    nn.Linear(1024, 512),\n",
    "    nn.ReLU(),\n",
    "    nn.Linear(512, 10)\n",
    ")\n",
    "model.load_state_dict(torch.load(\"../cifar_fc.pth\", map_location=torch.device('cpu')), strict=False)\n",
    "\"\"\"\n",
    "\n",
    "model = SequentialNN([32 * 32 * 3, 1024, 512, 10])\n",
    "\n",
    "if load_model:\n",
    "    model.load_state_dict(torch.load(\"../../cifar_fc.pth\", map_location=torch.device('cpu')), strict=False)\n",
    "else:\n",
    "    train_sequential(model, train_dataloader, test_dataloader, epochs=1)\n"
   ],
   "metadata": {
    "collapsed": false,
    "pycharm": {
     "name": "#%%\n"
    }
   }
  },
  {
   "cell_type": "code",
   "execution_count": 4,
   "outputs": [
    {
     "name": "stderr",
     "output_type": "stream",
     "text": [
      "Clipping input data to the valid range for imshow with RGB data ([0..1] for floats or [0..255] for integers).\n"
     ]
    },
    {
     "data": {
      "text/plain": "<Figure size 800x700 with 1 Axes>",
      "image/png": "[encoded data removed]"
     },
     "metadata": {},
     "output_type": "display_data"
    },
    {
     "name": "stdout",
     "output_type": "stream",
     "text": [
      "label is frog with index 6\n",
      "prediction is frog with output tensor([[ 1.3665, -0.5882,  0.1332,  1.2625,  1.8794,  0.4330,  3.5173,  0.8659,\n",
      "         -5.1264, -2.9051]], dtype=torch.float64, grad_fn=<AddmmBackward0>) \n"
     ]
    }
   ],
   "source": [
    "images, labels = training_data.__getitem__(0)\n",
    "testimage, testlabel = torch.unsqueeze(images, 0).to(torch.float64), torch.unsqueeze(torch.tensor(labels), 0).to(torch.float64)\n",
    "imshow(images)\n",
    "print(\"label is {} with index {}\".format(classes[labels], labels))\n",
    "pred = model(testimage)\n",
    "\n",
    "print(\"prediction is {} with output {} \".format(classes[pred.argmax()], pred))"
   ],
   "metadata": {
    "collapsed": false,
    "pycharm": {
     "name": "#%%\n"
    }
   }
  },
  {
   "cell_type": "code",
   "execution_count": 10,
   "outputs": [
    {
     "name": "stdout",
     "output_type": "stream",
     "text": [
      "=================\n",
      "Set parameter BestObjStop to value 0.001\n",
      "Gurobi Optimizer version 10.0.0 build v10.0.0rc2 (win64)\n",
      "\n",
      "CPU model: AMD Ryzen 7 5800H with Radeon Graphics, instruction set [SSE2|AVX|AVX2]\n",
      "Thread count: 8 physical cores, 16 logical processors, using up to 16 threads\n",
      "\n",
      "Optimize a model with 10669 rows, 6642 columns and 3688313 nonzeros\n",
      "Model fingerprint: 0x23236c42\n",
      "Model has 1 general constraint\n",
      "Variable types: 6164 continuous, 478 integer (478 binary)\n",
      "Coefficient statistics:\n",
      "  Matrix range     [9e-11, 1e+00]\n",
      "  Objective range  [1e+00, 1e+00]\n",
      "  Bounds range     [4e-05, 3e+01]\n",
      "  RHS range        [3e-05, 1e+00]\n",
      "Presolve removed 8150 rows and 1529 columns\n",
      "Presolve time: 2.51s\n",
      "Presolved: 2519 rows, 5113 columns, 1976273 nonzeros\n",
      "Variable types: 4626 continuous, 487 integer (487 binary)\n",
      "\n",
      "Root relaxation: objective 2.163828e+01, 1229 iterations, 0.76 seconds (0.82 work units)\n",
      "\n",
      "    Nodes    |    Current Node    |     Objective Bounds      |     Work\n",
      " Expl Unexpl |  Obj  Depth IntInf | Incumbent    BestBd   Gap | It/Node Time\n",
      "\n",
      "     0     0   21.63828    0    3          -   21.63828      -     -    3s\n",
      "     0     0   21.63828    0    3          -   21.63828      -     -    8s\n",
      "     0     0   20.74646    0  116          -   20.74646      -     -   12s\n",
      "     0     0   20.65374    0  111          -   20.65374      -     -   12s\n",
      "     0     0   17.84796    0  111          -   17.84796      -     -   12s\n",
      "     0     0   17.84796    0  111          -   17.84796      -     -   12s\n",
      "     0     0    5.29727    0  115          -    5.29727      -     -   16s\n",
      "     0     0    5.29696    0  115          -    5.29696      -     -   16s\n",
      "     0     0    5.29225    0  115          -    5.29225      -     -   16s\n",
      "     0     0    5.29224    0  116          -    5.29224      -     -   17s\n",
      "     0     0    4.51490    0   96          -    4.51490      -     -   18s\n",
      "     0     0    4.50312    0   91          -    4.50312      -     -   19s\n",
      "     0     0    4.20503    0   82          -    4.20503      -     -   21s\n",
      "     0     0    4.20503    0   73          -    4.20503      -     -   22s\n",
      "     0     0    4.02381    0   63          -    4.02381      -     -   25s\n",
      "     0     0    3.90045    0   49          -    3.90045      -     -   25s\n",
      "     0     0    3.90045    0   45          -    3.90045      -     -   25s\n",
      "     0     0    3.90045    0    4          -    3.90045      -     -   32s\n",
      "H    0     0                      -1.4134284    3.90045   376%     -   53s\n",
      "     0     2    3.80742    0  112   -1.41343    3.80742   369%     -   55s\n",
      "     9     3   -1.29380    4  100   -1.41343    3.10430   320%   290   60s\n",
      "    15     4     cutoff    6        -1.41343    2.90242   305%   226  192s\n",
      "    28     7    2.90242    9   71   -1.41343    2.90242   305%  2640  196s\n",
      "    42     7    2.90242   11   57   -1.41343    2.90242   305%  1803  200s\n",
      "    58     4    2.38753   13  116   -1.41343    2.38753   269%  1403  207s\n",
      "    63     4    2.38736   14  107   -1.41343    2.38736   269%  1311  210s\n",
      "   108    27   -1.38818   21   60   -1.41343   -1.36084  3.72%   776  216s\n",
      "   218    89   -1.40230   20   64   -1.41343   -1.36221  3.62%   388  220s\n",
      "H  416   186                      -1.4073334   -1.36234  3.20%   207  223s\n",
      "*  463   201              79      -1.4006888   -1.36288  2.70%   186  224s\n",
      "*  464   201              78      -1.4005493   -1.36288  2.69%   186  224s\n",
      "   490   219   -1.36596   23   57   -1.40055   -1.36288  2.69%   176  225s\n",
      "   664   252   -1.39088   44   36   -1.40055   -1.36288  2.69%   133  230s\n",
      "   881   341   -1.37461   33   47   -1.40055   -1.36868  2.28%   102  236s\n",
      "  1092   367     cutoff   57        -1.40055   -1.37119  2.10%  84.0  241s\n",
      "  1294   378     cutoff   48        -1.40055   -1.38182  1.34%  72.3  246s\n",
      "  1500   356     cutoff   60        -1.40055   -1.38809  0.89%  63.5  303s\n",
      "  1543   311   -1.39452   58   21   -1.40055   -1.38946  0.79%  62.0  305s\n",
      "H 1697   231                      -1.4005493   -1.39484  0.41%  57.2  317s\n",
      "  1813   137     cutoff   60        -1.40055   -1.39699  0.25%  54.1  321s\n",
      "\n",
      "Cutting planes:\n",
      "  Implied bound: 120\n",
      "  MIR: 322\n",
      "  Flow cover: 140\n",
      "  Inf proof: 2\n",
      "  RLT: 33\n",
      "  Relax-and-lift: 18\n",
      "  PSD: 58\n",
      "\n",
      "Explored 2036 nodes (103187 simplex iterations) in 324.17 seconds (597.67 work units)\n",
      "Thread count was 16 (of 16 available processors)\n",
      "\n",
      "Solution count 4: -1.40055 -1.40069 -1.40733 -1.41343 \n",
      "No other solutions better than -1.40055\n",
      "\n",
      "Optimal solution found (tolerance 1.00e-04)\n",
      "Best objective -1.400549330186e+00, best bound -1.400549330186e+00, gap 0.0000%\n"
     ]
    },
    {
     "name": "stderr",
     "output_type": "stream",
     "text": [
      "Clipping input data to the valid range for imshow with RGB data ([0..1] for floats or [0..255] for integers).\n"
     ]
    },
    {
     "name": "stdout",
     "output_type": "stream",
     "text": [
      "-1.9675563691080171\n",
      "-3.9722068549557927\n",
      "-3.2300280517644646\n",
      "-2.1560795774668664\n",
      "-1.4005493301863527\n",
      "-2.9631440221460665\n",
      "-2.4207819008761855\n",
      "-8.470587682453534\n",
      "-6.291295409043609\n",
      "optimum solution with value \n",
      " [ 1.4038231  -0.60082739  0.14135142  1.21529989  1.97083014  0.40823545\n",
      "  3.37137947  0.95059757 -5.09920821 -2.91991594]\n",
      "max_var -1.400549330186342\n",
      "=================\n",
      "\n",
      "time to solve 331.60330724716187 s.\n",
      "tensor([[-0.5393, -0.6647, -0.6098,  ...,  0.0960, -0.3432, -0.4373]],\n",
      "       dtype=torch.float64)\n",
      "prediction is frog with output tensor([[ 1.4038, -0.6008,  0.1414,  1.2153,  1.9708,  0.4082,  3.3714,  0.9506,\n",
      "         -5.0992, -2.9199]], dtype=torch.float64, grad_fn=<AddmmBackward0>) \n"
     ]
    },
    {
     "data": {
      "text/plain": "<Figure size 800x700 with 1 Axes>",
      "image/png": "[encoded data removed]"
     },
     "metadata": {},
     "output_type": "display_data"
    }
   ],
   "source": [
    "print(\"=================\")\n",
    "start = time.time()\n",
    "eps = 0.002\n",
    "flattened_img = torch.flatten(testimage)\n",
    "in_var_bounds = [flattened_img.add(-eps), flattened_img.add(eps)]\n",
    "bounds_affine_out, bounds_layer_out = model.calculate_box_bounds(in_var_bounds)\n",
    "\n",
    "out_lb= bounds_layer_out[-1][0]\n",
    "out_ub= bounds_layer_out[-1][1]\n",
    "difference_lb = out_lb - out_ub[labels]\n",
    "difference_ub = out_ub - out_lb[labels]\n",
    "difference_lb = difference_lb.tolist()\n",
    "difference_ub = difference_ub.tolist()\n",
    "difference_lb.pop(labels)\n",
    "difference_ub.pop(labels)\n",
    "min_diff = min(difference_lb)\n",
    "max_diff = max(difference_ub)\n",
    "\n",
    "verifier = MILPVerifier(model, testimage, eps, solver_bound=0.001, print_log=True)\n",
    "#verifier = SingleNeuronVerifier(model, testimage, eps, solver_bound=0.001, print_log=True)\n",
    "verifier.generate_constraints_for_net()\n",
    "output_var = verifier.output_vars\n",
    "m = verifier.model\n",
    "input_var = verifier.input_vars\n",
    "\n",
    "difference = m.addVars(9, lb=difference_lb, ub=difference_ub, name=\"diff_var\")\n",
    "#difference = m.addVars(9, lb=-30, ub=30, name=\"diff_var\")\n",
    "m.addConstrs((difference[i] == output_var.tolist()[i] - output_var.tolist()[labels] for i in range(0, labels)), name=\"diff_const0\")\n",
    "m.addConstrs((difference[i - 1] == output_var.tolist()[i] - output_var.tolist()[labels] for i in range(labels + 1, 10)), name=\"diff_const1\")\n",
    "\n",
    "max_var = m.addVar(lb=min_diff, ub=max_diff, name=\"max_var\")\n",
    "m.addConstr(max_var == max_(difference))\n",
    "\n",
    "m.update()\n",
    "m.setObjective(max_var, GRB.MAXIMIZE)\n",
    "m.optimize()\n",
    "\n",
    "\"\"\"m.computeIIS()\n",
    "print(\"constraint\")\n",
    "all_constr = m.getConstrs()\n",
    "\n",
    "for const in all_constr:\n",
    "    if const.IISConstr:\n",
    "        print(\"{}\".format(const))\n",
    "\n",
    "print(\"lower bound\")\n",
    "all_var = m.getVars()\n",
    "for var in all_var:\n",
    "    if var.IISLB:\n",
    "        print(\"{}, lb: {}, ub: {}\".format(var, var.getAttr(\"lb\"), var.getAttr(\"ub\")))\n",
    "\n",
    "print(\"upper bound\")\n",
    "all_var = m.getVars()\n",
    "for var in all_var:\n",
    "    if var.IISUB:\n",
    "        print(\"{}, lb: {}, ub: {}\".format(var, var.getAttr(\"lb\"), var.getAttr(\"ub\")))\"\"\"\n",
    "\n",
    "alt_pic, alt_out = None, None\n",
    "inp = None\n",
    "if m.Status == GRB.OPTIMAL or m.Status == GRB.TIME_LIMIT or m.Status == GRB.USER_OBJ_LIMIT:\n",
    "    inp = input_var.getAttr(\"x\")\n",
    "    for o in difference.select():\n",
    "        print(o.getAttr(\"x\"))\n",
    "    print(\"optimum solution with value \\n {}\".format(output_var.getAttr(\"x\")))\n",
    "    print(\"max_var {}\".format(max_var.getAttr(\"x\")))\n",
    "    test_inp = torch.tensor([inp], dtype=torch.float64)\n",
    "    alt_pic, alt_out =  test_inp, output_var\n",
    "\n",
    "\n",
    "end = time.time() - start\n",
    "print(\"=================\")\n",
    "print(\"\")\n",
    "print(\"time to solve {} s.\".format(end))\n",
    "if alt_pic is not None:\n",
    "    print(alt_pic)\n",
    "    out = model(alt_pic)\n",
    "    print(\"prediction is {} with output {} \".format(classes[out.argmax()], out))\n",
    "\n",
    "    reshaped = np.reshape(alt_pic, (3, 32, 32))\n",
    "    imshow(reshaped)"
   ],
   "metadata": {
    "collapsed": false,
    "pycharm": {
     "name": "#%%\n"
    }
   }
  },
  {
   "cell_type": "code",
   "execution_count": 5,
   "outputs": [],
   "source": [],
   "metadata": {
    "collapsed": false,
    "pycharm": {
     "name": "#%%\n"
    }
   }
  }
 ],
 "metadata": {
  "kernelspec": {
   "display_name": "Python 3",
   "language": "python",
   "name": "python3"
  },
  "language_info": {
   "codemirror_mode": {
    "name": "ipython",
    "version": 2
   },
   "file_extension": ".py",
   "mimetype": "text/x-python",
   "name": "python",
   "nbconvert_exporter": "python",
   "pygments_lexer": "ipython2",
   "version": "2.7.6"
  }
 },
 "nbformat": 4,
 "nbformat_minor": 0
}