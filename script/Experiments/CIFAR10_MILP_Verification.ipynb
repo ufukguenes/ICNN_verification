{
 "cells": [
  {
   "cell_type": "markdown",
   "source": [
    "# Training und Verifikation mittels MILP von Netz auf CIFAR10 Datensatz\n",
    "Es sollte bereits ein trainiertes Netz existieren."
   ],
   "metadata": {
    "collapsed": false,
    "pycharm": {
     "name": "#%% md\n"
    }
   }
  },
  {
   "cell_type": "code",
   "execution_count": 1,
   "outputs": [],
   "source": [
    "import numpy as np\n",
    "import torch\n",
    "from matplotlib import pyplot as plt\n",
    "from torch.utils.data import DataLoader\n",
    "from torchvision.datasets import CIFAR10\n",
    "from torchvision.transforms import Compose, ToTensor, Normalize\n",
    "from script.NeuralNets.Networks import *\n",
    "from script.NeuralNets.trainFunction import train_sequential\n",
    "from script.Verification.Verifier import MILPVerifier, SingleNeuronVerifier\n",
    "import time\n",
    "from jupyterthemes import jtplot\n",
    "import gurobipy as grp\n",
    "from gurobipy import GRB, max_\n",
    "import script.Verification.VerificationBasics as verbas\n",
    "\n",
    "load_model = True\n",
    "jtplot.style(theme='monokai', context='notebook', ticks=True, grid=False)\n",
    "\n"
   ],
   "metadata": {
    "collapsed": false,
    "pycharm": {
     "name": "#%%\n"
    }
   }
  },
  {
   "cell_type": "code",
   "execution_count": 2,
   "outputs": [
    {
     "name": "stdout",
     "output_type": "stream",
     "text": [
      "Files already downloaded and verified\n",
      "Files already downloaded and verified\n"
     ]
    }
   ],
   "source": [
    "transform = Compose([ToTensor(),\n",
    "                     Normalize((0.5, 0.5, 0.5), (0.5, 0.5, 0.5))]\n",
    "                    )\n",
    "\n",
    "training_data = CIFAR10(root=\"../../cifar\",\n",
    "                        train=True,\n",
    "                        download=True,\n",
    "                        transform=transform)\n",
    "\n",
    "test_data = CIFAR10(root=\"../../cifar\",\n",
    "                    train=False,  # test set, 10k images\n",
    "                    download=True,\n",
    "                    transform=transform)\n",
    "\n",
    "batch_size = 4\n",
    "train_dataloader = DataLoader(training_data,\n",
    "                              batch_size=batch_size,\n",
    "                              shuffle=True)\n",
    "test_dataloader = DataLoader(test_data,\n",
    "                             batch_size=batch_size,\n",
    "                             shuffle=True)\n",
    "\n",
    "classes = training_data.classes\n",
    "\n",
    "\n",
    "def imshow(img):\n",
    "    img = img / 2 + .05  # revert normalization for viewing\n",
    "    npimg = img.numpy()\n",
    "    plt.imshow(np.transpose(npimg, (1, 2, 0)))\n",
    "    plt.show()"
   ],
   "metadata": {
    "collapsed": false,
    "pycharm": {
     "name": "#%%\n"
    }
   }
  },
  {
   "cell_type": "code",
   "execution_count": 3,
   "outputs": [],
   "source": [
    "\"\"\"model = nn.Sequential(\n",
    "    nn.Flatten(),\n",
    "    nn.Linear(32 * 32 * 3, 1024),\n",
    "    nn.ReLU(),\n",
    "    nn.Linear(1024, 512),\n",
    "    nn.ReLU(),\n",
    "    nn.Linear(512, 10)\n",
    ")\n",
    "model.load_state_dict(torch.load(\"../cifar_fc.pth\", map_location=torch.device('cpu')), strict=False)\n",
    "\"\"\"\n",
    "\n",
    "model = SequentialNN([32 * 32 * 3, 1024, 512, 10])\n",
    "\n",
    "if load_model:\n",
    "    model.load_state_dict(torch.load(\"../../cifar_fc.pth\", map_location=torch.device('cpu')), strict=False)\n",
    "else:\n",
    "    train_sequential(model, train_dataloader, test_dataloader, epochs=1)\n"
   ],
   "metadata": {
    "collapsed": false,
    "pycharm": {
     "name": "#%%\n"
    }
   }
  },
  {
   "cell_type": "code",
   "execution_count": 4,
   "outputs": [
    {
     "name": "stderr",
     "output_type": "stream",
     "text": [
      "Clipping input data to the valid range for imshow with RGB data ([0..1] for floats or [0..255] for integers).\n"
     ]
    },
    {
     "data": {
      "text/plain": "<Figure size 800x700 with 1 Axes>",
      "image/png": "[encoded data removed]"
     },
     "metadata": {},
     "output_type": "display_data"
    },
    {
     "name": "stdout",
     "output_type": "stream",
     "text": [
      "label is frog with index 6\n",
      "prediction is frog with output tensor([[ 1.3665, -0.5882,  0.1332,  1.2625,  1.8794,  0.4330,  3.5173,  0.8659,\n",
      "         -5.1264, -2.9051]], dtype=torch.float64, grad_fn=<AddmmBackward0>) \n"
     ]
    }
   ],
   "source": [
    "images, labels = training_data.__getitem__(0)\n",
    "testimage, testlabel = torch.unsqueeze(images, 0).to(torch.float64), torch.unsqueeze(torch.tensor(labels), 0).to(torch.float64)\n",
    "imshow(images)\n",
    "print(\"label is {} with index {}\".format(classes[labels], labels))\n",
    "pred = model(testimage)\n",
    "\n",
    "print(\"prediction is {} with output {} \".format(classes[pred.argmax()], pred))"
   ],
   "metadata": {
    "collapsed": false,
    "pycharm": {
     "name": "#%%\n"
    }
   }
  },
  {
   "cell_type": "code",
   "execution_count": 6,
   "outputs": [
    {
     "name": "stdout",
     "output_type": "stream",
     "text": [
      "=================\n",
      "Set parameter BestObjStop to value 0.001\n",
      "Gurobi Optimizer version 10.0.0 build v10.0.0rc2 (win64)\n",
      "\n",
      "CPU model: AMD Ryzen 7 5800H with Radeon Graphics, instruction set [SSE2|AVX|AVX2]\n",
      "Thread count: 8 physical cores, 16 logical processors, using up to 16 threads\n",
      "\n",
      "Optimize a model with 12307 rows, 7700 columns and 3688997 nonzeros\n",
      "Model fingerprint: 0xf6ecec7b\n",
      "Model has 1536 quadratic constraints\n",
      "Model has 1 general constraint\n",
      "Variable types: 7700 continuous, 0 integer (0 binary)\n",
      "Coefficient statistics:\n",
      "  Matrix range     [9e-11, 1e+04]\n",
      "  QMatrix range    [5e+03, 5e+03]\n",
      "  QLMatrix range   [1e+00, 3e+07]\n",
      "  Objective range  [1e+00, 1e+00]\n",
      "  Bounds range     [1e+01, 1e+01]\n",
      "  RHS range        [3e-05, 1e+00]\n",
      "Warning: Model contains large matrix coefficient range\n",
      "         Consider reformulating model or setting NumericFocus parameter\n",
      "         to avoid numerical issues.\n",
      "Presolve removed 10239 rows and 2062 columns (presolve time = 5s) ...\n",
      "Presolve removed 8703 rows and 2062 columns\n",
      "Presolve time: 6.97s\n",
      "Presolved: 3604 rows, 5638 columns, 3677650 nonzeros\n",
      "Variable types: 5638 continuous, 0 integer (0 binary)\n",
      "\n",
      "Root simplex log...\n",
      "\n",
      "Iteration    Objective       Primal Inf.    Dual Inf.      Time\n",
      "       0    7.5307711e+04   5.163638e+05   0.000000e+00      7s\n",
      "    1760    4.1489867e+04   0.000000e+00   0.000000e+00      9s\n",
      "\n",
      "Root relaxation: objective 4.148987e+04, 1760 iterations, 1.31 seconds (1.27 work units)\n",
      "\n",
      "    Nodes    |    Current Node    |     Objective Bounds      |     Work\n",
      " Expl Unexpl |  Obj  Depth IntInf | Incumbent    BestBd   Gap | It/Node Time\n",
      "\n",
      "*    0     0               0    41489.867258 41489.8673  0.00%     -    8s\n",
      "\n",
      "Explored 1 nodes (1760 simplex iterations) in 8.60 seconds (5.25 work units)\n",
      "Thread count was 16 (of 16 available processors)\n",
      "\n",
      "Solution count 1: 41489.9 \n",
      "\n",
      "Optimal solution found (tolerance 1.00e-04)\n",
      "Best objective 4.148986725770e+04, best bound 4.148986725770e+04, gap 0.0000%\n"
     ]
    },
    {
     "name": "stderr",
     "output_type": "stream",
     "text": [
      "Clipping input data to the valid range for imshow with RGB data ([0..1] for floats or [0..255] for integers).\n"
     ]
    },
    {
     "name": "stdout",
     "output_type": "stream",
     "text": [
      "10.000000000029104\n",
      "-50950.69234554936\n",
      "-40527.47793993533\n",
      "-44108.99362545592\n",
      "-43410.25941566721\n",
      "-54394.425995310274\n",
      "-59500.5427065392\n",
      "-50646.15676423464\n",
      "-60437.85377424769\n",
      "optimum solution with value \n",
      " [ 41489.8672577   -9470.82508785    952.38931776  -2629.12636776\n",
      "  -1930.39215797 -12914.55873761  41479.8672577  -18020.67544884\n",
      "  -9166.28950654 -18957.98651655]\n",
      "max_var 10.000000000029104\n",
      "=================\n",
      "\n",
      "time to solve 16.984429121017456 s.\n",
      "tensor([[-0.5363, -0.6617, -0.6068,  ...,  0.0970, -0.3422, -0.4363]],\n",
      "       dtype=torch.float64)\n",
      "prediction is frog with output tensor([[ 1.3804, -0.6148,  0.1474,  1.2644,  1.8850,  0.4246,  3.5693,  0.8433,\n",
      "         -5.1281, -2.9316]], dtype=torch.float64, grad_fn=<AddmmBackward0>) \n"
     ]
    },
    {
     "data": {
      "text/plain": "<Figure size 800x700 with 1 Axes>",
      "image/png": "[encoded data removed]"
     },
     "metadata": {},
     "output_type": "display_data"
    }
   ],
   "source": [
    "print(\"=================\")\n",
    "start = time.time()\n",
    "#verifier = MILPVerifier(model, testimage, 0.001, solver_bound=0.001, print_log=True)\n",
    "verifier = SingleNeuronVerifier(model, testimage, 0.001, solver_bound=0.001, print_log=True)\n",
    "verifier.generate_constraints_for_net()\n",
    "output_var = verifier.output_vars\n",
    "m = verifier.model\n",
    "input_var = verifier.input_vars\n",
    "\n",
    "difference = m.addVars(9, lb=-float('inf'))\n",
    "m.addConstrs(difference[i] == output_var.tolist()[i] - output_var.tolist()[labels] for i in range(0, labels))\n",
    "m.addConstrs(difference[i - 1] == output_var.tolist()[i] - output_var.tolist()[labels] for i in range(labels + 1, 10))\n",
    "\n",
    "max_var = m.addVar(lb=-float('inf'), ub=10)\n",
    "m.addConstr(max_var == max_(difference))\n",
    "\n",
    "m.update()\n",
    "m.setObjective(output_var[0], GRB.MAXIMIZE)\n",
    "m.optimize()\n",
    "\n",
    "\n",
    "\"\"\"m.computeIIS()\n",
    "print(\"constraint\")\n",
    "all_constr = m.getConstrs()\n",
    "\n",
    "for const in all_constr:\n",
    "    if const.IISConstr:\n",
    "        print(const)\n",
    "\n",
    "print(\"lower bound\")\n",
    "all_var = m.getVars()\n",
    "for var in all_var:\n",
    "    if var.IISLB:\n",
    "        print(var)\n",
    "\n",
    "print(\"upper bound\")\n",
    "all_var = m.getVars()\n",
    "for var in all_var:\n",
    "    if var.IISUB:\n",
    "        print(var)\"\"\"\n",
    "\n",
    "alt_pic, alt_out = None, None\n",
    "if m.Status == GRB.OPTIMAL or m.Status == GRB.TIME_LIMIT or m.Status == GRB.USER_OBJ_LIMIT:\n",
    "    inp = input_var.getAttr(\"x\")\n",
    "    for o in difference.select():\n",
    "        print(o.getAttr(\"x\"))\n",
    "    print(\"optimum solution with value \\n {}\".format(output_var.getAttr(\"x\")))\n",
    "    print(\"max_var {}\".format(max_var.getAttr(\"x\")))\n",
    "    test_inp = torch.tensor([inp], dtype=torch.float64)\n",
    "    alt_pic, alt_out =  test_inp, output_var\n",
    "\n",
    "\n",
    "end = time.time() - start\n",
    "print(\"=================\")\n",
    "print(\"\")\n",
    "print(\"time to solve {} s.\".format(end))\n",
    "if alt_pic is not None:\n",
    "    print(alt_pic)\n",
    "    out = model(alt_pic)\n",
    "    print(\"prediction is {} with output {} \".format(classes[out.argmax()], out))\n",
    "\n",
    "    reshaped = np.reshape(alt_pic, (3, 32, 32))\n",
    "    imshow(reshaped)"
   ],
   "metadata": {
    "collapsed": false,
    "pycharm": {
     "name": "#%%\n"
    }
   }
  },
  {
   "cell_type": "code",
   "execution_count": 5,
   "outputs": [],
   "source": [],
   "metadata": {
    "collapsed": false,
    "pycharm": {
     "name": "#%%\n"
    }
   }
  }
 ],
 "metadata": {
  "kernelspec": {
   "display_name": "Python 3",
   "language": "python",
   "name": "python3"
  },
  "language_info": {
   "codemirror_mode": {
    "name": "ipython",
    "version": 2
   },
   "file_extension": ".py",
   "mimetype": "text/x-python",
   "name": "python",
   "nbconvert_exporter": "python",
   "pygments_lexer": "ipython2",
   "version": "2.7.6"
  }
 },
 "nbformat": 4,
 "nbformat_minor": 0
}