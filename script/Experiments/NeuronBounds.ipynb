{
 "cells": [
  {
   "cell_type": "code",
   "execution_count": 1,
   "outputs": [],
   "source": [
    "import math\n",
    "\n",
    "import torch\n",
    "\n",
    "from script.NeuralNets.Networks import SequentialNN, ICNN, ICNNApproxMax, ICNNLogical\n",
    "from script.settings import device, data_type\n",
    "import script.DHOV.MultiDHOV as multidhov\n",
    "from script.Verification.Verifier import SingleNeuronVerifier, MILPVerifier, DHOVVerifier\n",
    "import gurobipy as grp\n",
    "from torchvision.datasets import CIFAR10, MNIST\n",
    "from torchvision.transforms import Compose, ToTensor, Normalize\n",
    "from script.NeuralNets.ICNNFactory import ICNNFactory"
   ],
   "metadata": {
    "collapsed": false,
    "pycharm": {
     "name": "#%%\n"
    }
   }
  },
  {
   "cell_type": "code",
   "execution_count": 2,
   "outputs": [],
   "source": [
    "def add_max_constr(model, neuron_name):\n",
    "    neuron_var = model.getVarByName(neuron_name)\n",
    "    model.setObjective(neuron_var, grp.GRB.MAXIMIZE)\n",
    "\n",
    "def add_min_constr(model, neuron):\n",
    "    neuron_var = model.getVarByName(neuron)\n",
    "    model.setObjective(neuron_var, grp.GRB.MINIMIZE)"
   ],
   "metadata": {
    "collapsed": false,
    "pycharm": {
     "name": "#%%\n"
    }
   }
  },
  {
   "cell_type": "code",
   "execution_count": 3,
   "outputs": [],
   "source": [
    "def optimize_model(model, neuron_name):\n",
    "    model.update()\n",
    "    model.optimize()\n",
    "    if model.Status == grp.GRB.OPTIMAL:\n",
    "        print(\"opt value: {}\".format(model.getVarByName(neuron_name).getAttr(\"x\")))"
   ],
   "metadata": {
    "collapsed": false,
    "pycharm": {
     "name": "#%%\n"
    }
   }
  },
  {
   "cell_type": "code",
   "execution_count": 4,
   "outputs": [],
   "source": [
    "def icnn_model(icnn, nn, input_x, eps, layer_index, from_neuron, to_neuron, print_log=False):\n",
    "    m = grp.Model()\n",
    "    if not print_log:\n",
    "        m.Params.LogToConsole = 0\n",
    "\n",
    "    input_flattened = torch.flatten(input_x)\n",
    "    bounds_affine_out, bounds_layer_out = nn.calculate_box_bounds(\n",
    "        [input_flattened.add(-eps), input_flattened.add(eps)])\n",
    "\n",
    "    parameter_list = list(nn.parameters())\n",
    "\n",
    "    input_size = len(parameter_list[2*(layer_index-1)])\n",
    "    lb = bounds_layer_out[layer_index-1][0].detach().cpu().numpy()\n",
    "    ub = bounds_layer_out[layer_index-1][1].detach().cpu().numpy()\n",
    "    in_var = m.addMVar(input_size, lb=-float(\"inf\"), ub=float(\"inf\"), name=\"icnn_var\")\n",
    "\n",
    "    low = bounds_layer_out[layer_index - 1][0][from_neuron: to_neuron]\n",
    "    up = bounds_layer_out[layer_index - 1][1][from_neuron: to_neuron]\n",
    "    low = torch.zeros_like(low, dtype=data_type).to(device) - 1000\n",
    "    up = torch.zeros_like(low, dtype=data_type).to(device) + 1000\n",
    "    constraint_bounds_affine_out, constraint_bounds_layer_out = icnn.calculate_box_bounds([low, up])\n",
    "    icnn.add_max_output_constraints(m, in_var[from_neuron: to_neuron], constraint_bounds_affine_out, constraint_bounds_layer_out)\n",
    "\n",
    "    return m"
   ],
   "metadata": {
    "collapsed": false,
    "pycharm": {
     "name": "#%%\n"
    }
   }
  },
  {
   "cell_type": "code",
   "execution_count": 5,
   "outputs": [
    {
     "data": {
      "text/plain": "'nn = SequentialNN([50, 50, 50, 7])\\ntest_image = torch.zeros((1, 50), dtype=data_type).to(device)\\nparameter_list = list(nn.parameters())'"
     },
     "execution_count": 5,
     "metadata": {},
     "output_type": "execute_result"
    }
   ],
   "source": [
    "\"\"\"W1 = [1. 1.; 1. -1.]\n",
    "    b1 = [0., 0.]\n",
    "    W2 = [1. 1.; 1. -1.]\n",
    "    b2 = [-0.5, 0.]\n",
    "    W3 = [-1. 1.; 1. 1.]\n",
    "    b3 = [3., 0.] \"\"\"\n",
    "\n",
    "\"\"\"nn = SequentialNN([2, 2, 2, 2])\n",
    "\n",
    "with torch.no_grad():\n",
    "    parameter_list = list(nn.parameters())\n",
    "    parameter_list[0].data = torch.tensor([[1, 1], [1, -1]], dtype=data_type).to(device)\n",
    "    parameter_list[1].data = torch.tensor([0, 0], dtype=data_type).to(device)\n",
    "    parameter_list[2].data = torch.tensor([[1, 1], [1, -1]], dtype=data_type).to(device)\n",
    "    parameter_list[3].data = torch.tensor([-0.5, 0], dtype=data_type).to(device)\n",
    "    parameter_list[4].data = torch.tensor([[-1, 1], [1, 1]], dtype=data_type).to(device)\n",
    "    parameter_list[5].data = torch.tensor([3, 0], dtype=data_type).to(device)\n",
    "\n",
    "test_image = torch.tensor([[0, 0]], dtype=data_type).to(device)\"\"\"\n",
    "\n",
    "\"\"\"transform = Compose([ToTensor(),\n",
    "                         Normalize((0.5, 0.5, 0.5), (0.5, 0.5, 0.5))]\n",
    "                        )\n",
    "\n",
    "training_data = CIFAR10(root=\"../../cifar\", train=True, download=True, transform=transform)\n",
    "images, labels = training_data.__getitem__(0)\n",
    "test_image, test_label = torch.unsqueeze(images, 0).to(dtype=data_type).to(device), torch.unsqueeze(\n",
    "    torch.tensor(labels), 0).to(dtype=data_type).to(device)\n",
    "\n",
    "nn = SequentialNN([32 * 32 * 3, 1024, 512, 10])\n",
    "nn.load_state_dict(torch.load(\"../../cifar_fc.pth\", map_location=torch.device(device)), strict=False)\n",
    "\"\"\"\n",
    "\n",
    "transform = Compose([ToTensor(),\n",
    "                         Normalize(0.5, 0.5)]\n",
    "                        )\n",
    "\n",
    "training_data = MNIST(root=\"../../mnist\",\n",
    "                      train=True,\n",
    "                      download=True,\n",
    "                      transform=transform)\n",
    "images, labels = training_data.__getitem__(0)\n",
    "test_image, test_label = torch.unsqueeze(images, 0).to(dtype=data_type).to(device), torch.unsqueeze(\n",
    "    torch.tensor(labels), 0).to(dtype=data_type).to(device)\n",
    "\n",
    "nn = SequentialNN([28*28*1, 100, 30, 10])\n",
    "nn.load_state_dict(torch.load(\"../../mnist_fc.pth\", map_location=torch.device('cpu')), strict=False)\n",
    "\n",
    "parameter_list = list(nn.parameters())\n",
    "\n",
    "\"\"\"nn = SequentialNN([50, 50, 50, 7])\n",
    "test_image = torch.zeros((1, 50), dtype=data_type).to(device)\n",
    "parameter_list = list(nn.parameters())\"\"\""
   ],
   "metadata": {
    "collapsed": false,
    "pycharm": {
     "name": "#%%\n"
    }
   }
  },
  {
   "cell_type": "code",
   "execution_count": 6,
   "outputs": [],
   "source": [
    "eps = 0.01\n",
    "layer_index = 1\n",
    "neuron_index = 0\n",
    "neuron_name = \"relu_var{}[{}]\".format(2*layer_index, neuron_index)"
   ],
   "metadata": {
    "collapsed": false,
    "pycharm": {
     "name": "#%%\n"
    }
   }
  },
  {
   "cell_type": "markdown",
   "source": [
    "Test for DHOV"
   ],
   "metadata": {
    "collapsed": false,
    "pycharm": {
     "name": "#%% md\n"
    }
   }
  },
  {
   "cell_type": "code",
   "execution_count": 25,
   "outputs": [
    {
     "name": "stdout",
     "output_type": "stream",
     "text": [
      "\n",
      "approximation of layer: 0\n",
      "    number of fixed neurons for current layer: 92\n",
      "    layer progress, group 1 of 4 \n",
      "        time for training: 0.05800485610961914\n",
      "        actual verification time 0.005000114440917969\n",
      "    layer progress, group 2 of 4 \n",
      "        time for training: 0.05000019073486328\n",
      "        actual verification time 0.009996891021728516\n",
      "    layer progress, group 3 of 4 \n",
      "        time for training: 0.039000511169433594\n",
      "        actual verification time 0.01899576187133789\n",
      "    layer progress, group 4 of 4 \n",
      "        time for training: 0.037999629974365234\n",
      "        actual verification time 0.01900005340576172\n",
      "included space num samples 985, ambient space num samples 15\n",
      "    time for regrouping method: 1.6215674877166748\n",
      "\n",
      "approximation of layer: 1\n",
      "        lower: new -0.07990542870191614, old -1.0272694263485382\n",
      "        upper: new 0.6421606992548673, old 1.590265447932639\n",
      "        lower: new 5.6103614679249585, old 4.891074441089023\n",
      "        upper: new 6.188853790060912, old 6.908179377487894\n",
      "        lower: new 1.1482282982544463, old 0.4758416777957901\n",
      "        upper: new 1.7826479600627145, old 2.45705423241999\n",
      "        lower: new -3.61358075379789, old -4.154560614460519\n",
      "        upper: new -3.1782577030627497, old -2.6379028626565093\n",
      "        lower: new 1.6307969233020678, old 0.6517725440588809\n",
      "        upper: new 2.3554654607212506, old 3.3335162230102693\n",
      "        lower: new -1.3158736243723403, old -2.143489793168459\n",
      "        upper: new -0.7425263324415246, old 0.0854374951093364\n",
      "        lower: new 0.5380890419442629, old -0.409115897681394\n",
      "        upper: new 1.25321871878303, old 2.2013279327856976\n",
      "        lower: new -0.5323667457452409, old -1.194134963667596\n",
      "        upper: new -0.07404613926072422, old 0.5879126079003312\n",
      "        lower: new 1.979139402638346, old 1.1517885635031728\n",
      "        upper: new 2.6137045942934525, old 3.4413901127827238\n",
      "        lower: new 0.741233783146717, old 0.053368456055829405\n",
      "        upper: new 1.2632855750152852, old 1.951150902106173\n",
      "        lower: new 1.2880083576121126, old 0.4474716841053148\n",
      "        upper: new 1.9283318632532427, old 2.7688675833083156\n",
      "        lower: new 3.167413973609905, old 2.2823298654349804\n",
      "        upper: new 3.7163500787097665, old 4.599801049017392\n",
      "        lower: new 2.3160111076962866, old 1.6933718660848394\n",
      "        upper: new 2.8488961788151075, old 3.471459235031665\n",
      "        lower: new -1.3174432389150774, old -1.8334256175700663\n",
      "        upper: new -1.0398653806808038, old -0.5237117713086965\n",
      "        lower: new -1.0061177048870422, old -1.466869389694395\n",
      "        upper: new -0.7671691996877529, old -0.30613013523807897\n",
      "        lower: new 5.66583089010367, old 4.668204914112108\n",
      "        upper: new 6.364513896523186, old 7.361566298400341\n",
      "        lower: new 0.26521442047197613, old -0.6847946385441421\n",
      "        upper: new 1.129744116536667, old 2.0801847320655966\n",
      "        lower: new 2.95895355876634, old 2.2004989456216055\n",
      "        upper: new 3.511228615882727, old 4.267971015539602\n",
      "        lower: new -0.9053611089195326, old -1.2830149131120172\n",
      "        upper: new -0.6724261266776314, old -0.29468515782038596\n",
      "        lower: new 5.367689968680501, old 4.670984259366115\n",
      "        upper: new 5.95984577071482, old 6.657308087984413\n",
      "        lower: new 0.07062257344304564, old -0.6091871666301043\n",
      "        upper: new 0.5202768600889769, old 1.200720888753544\n",
      "        lower: new 6.153915793360787, old 5.484337577617196\n",
      "        upper: new 6.746058575296658, old 7.413609163446834\n",
      "        lower: new 1.994194815422349, old 1.2427032510074483\n",
      "        upper: new 2.5705732591786097, old 3.320612581395128\n",
      "        lower: new 5.139347865962278, old 4.168817558547471\n",
      "        upper: new 5.808737233023804, old 6.780179104352769\n",
      "        lower: new 7.36983322676835, old 6.446242411024807\n",
      "        upper: new 8.048134678877942, old 8.971084931603443\n",
      "        lower: new -0.7420665110375878, old -1.1600468860809312\n",
      "        upper: new -0.4646769210774686, old -0.046419147582785314\n",
      "        lower: new 4.482627950032594, old 3.754943133455928\n",
      "        upper: new 4.9828519310868105, old 5.711956539875997\n",
      "        lower: new 4.439018686665954, old 3.561375283453498\n",
      "        upper: new 5.183798314056417, old 6.063069775488341\n",
      "        lower: new 1.328426028247247, old 0.7072285143067245\n",
      "        upper: new 1.6739114939542863, old 2.2934821027747554\n",
      "        lower: new 3.7041184887307943, old 2.928185776482185\n",
      "        upper: new 4.318269565347968, old 5.094451979379954\n",
      "    time for icnn_bound calculation: 1.1475739479064941\n",
      "    number of fixed neurons for current layer: 29\n",
      "    layer progress, group 1 of 1 \n",
      "        time for sampling for one group: 36.06414580345154\n",
      "        time for training: 36.08813285827637\n",
      "        actual verification time 0.034000396728515625\n",
      "included space num samples 1000, ambient space num samples 0\n",
      "    time for regrouping method: 0.3880012035369873\n"
     ]
    }
   ],
   "source": [
    "group_size = 2\n",
    "icnn_factory = ICNNFactory(\"logical\", [5, 5, 1], force_positive_init=False, with_two_layers=False,\n",
    "                               init_scaling=10, init_all_with_zeros=False)\n",
    "#icnn_factory = ICNNFactory(\"standard\", [5, 5, 1])\n",
    "\n",
    "icnns, last_group_indices, fixed_neuron_per_layer_lower, fixed_neuron_per_layer_upper, bounds_affine_out, bounds_layer_out = \\\n",
    "    multidhov.start_verification(nn, test_image, icnn_factory, group_size, eps=eps, icnn_epochs=1,\n",
    "                                     icnn_batch_size=10000, sample_count=1000, sample_new=True, use_over_approximation=True, break_after=51,\n",
    "                                     sample_over_input_space=False, sample_over_output_space=True, use_icnn_bounds=True,\n",
    "                                     use_fixed_neurons=True, sampling_method=\"per_group_sampling\",\n",
    "                                     force_inclusion_steps=0, preemptive_stop=False, even_gradient_training=False,\n",
    "                                     keep_ambient_space=True, data_grad_descent_steps=0, opt_steps_gd=100,\n",
    "                                     train_outer=False, print_training_loss=False,\n",
    "                                     should_plot=\"none\", optimizer=\"adam\", init_network=True, adapt_lambda=\"none\")\n"
   ],
   "metadata": {
    "collapsed": false,
    "pycharm": {
     "name": "#%%\n"
    }
   }
  },
  {
   "cell_type": "code",
   "execution_count": 26,
   "outputs": [
    {
     "name": "stdout",
     "output_type": "stream",
     "text": [
      "[[0]]\n"
     ]
    }
   ],
   "source": [
    "print(last_group_indices)"
   ],
   "metadata": {
    "collapsed": false,
    "pycharm": {
     "name": "#%%\n"
    }
   }
  },
  {
   "cell_type": "code",
   "execution_count": 27,
   "outputs": [
    {
     "name": "stdout",
     "output_type": "stream",
     "text": [
      "tensor([-0.0799,  5.6104,  1.1482, -3.6136,  1.6308, -1.3159,  0.5381, -0.5324,\n",
      "         1.9791,  0.7412,  1.2880,  3.1674,  2.3160, -1.3174, -1.0061,  5.6658,\n",
      "         0.2652,  2.9590, -0.9054,  5.3677,  0.0706,  6.1539,  1.9942,  5.1393,\n",
      "         7.3698, -0.7421,  4.4826,  4.4390,  1.3284,  3.7041],\n",
      "       dtype=torch.float64, grad_fn=<CopySlices>)\n"
     ]
    }
   ],
   "source": [
    "print(bounds_affine_out[1][0])"
   ],
   "metadata": {
    "collapsed": false,
    "pycharm": {
     "name": "#%%\n"
    }
   }
  },
  {
   "cell_type": "code",
   "execution_count": 28,
   "outputs": [
    {
     "name": "stdout",
     "output_type": "stream",
     "text": [
      "tensor([ 0.6422,  6.1889,  1.7826, -3.1783,  2.3555, -0.7425,  1.2532, -0.0740,\n",
      "         2.6137,  1.2633,  1.9283,  3.7164,  2.8489, -1.0399, -0.7672,  6.3645,\n",
      "         1.1297,  3.5112, -0.6724,  5.9598,  0.5203,  6.7461,  2.5706,  5.8087,\n",
      "         8.0481, -0.4647,  4.9829,  5.1838,  1.6739,  4.3183],\n",
      "       dtype=torch.float64, grad_fn=<CopySlices>)\n"
     ]
    }
   ],
   "source": [
    "print(bounds_affine_out[1][1])"
   ],
   "metadata": {
    "collapsed": false,
    "pycharm": {
     "name": "#%%\n"
    }
   }
  },
  {
   "cell_type": "code",
   "execution_count": 29,
   "outputs": [
    {
     "name": "stdout",
     "output_type": "stream",
     "text": [
      "tensor([-1.0273,  4.8911,  0.4758, -4.1546,  0.6518, -2.1435, -0.4091, -1.1941,\n",
      "         1.1518,  0.0534,  0.4475,  2.2823,  1.6934, -1.8334, -1.4669,  4.6682,\n",
      "        -0.6848,  2.2005, -1.2830,  4.6710, -0.6092,  5.4843,  1.2427,  4.1688,\n",
      "         6.4462, -1.1600,  3.7549,  3.5614,  0.7072,  2.9282],\n",
      "       dtype=torch.float64, grad_fn=<AddBackward0>)\n",
      "tensor([ 1.5903,  6.9082,  2.4571, -2.6379,  3.3335,  0.0854,  2.2013,  0.5879,\n",
      "         3.4414,  1.9512,  2.7689,  4.5998,  3.4715, -0.5237, -0.3061,  7.3616,\n",
      "         2.0802,  4.2680, -0.2947,  6.6573,  1.2007,  7.4136,  3.3206,  6.7802,\n",
      "         8.9711, -0.0464,  5.7120,  6.0631,  2.2935,  5.0945],\n",
      "       dtype=torch.float64, grad_fn=<AddBackward0>)\n"
     ]
    }
   ],
   "source": [
    "input_flattened = torch.flatten(test_image)\n",
    "simple_bounds_affine_out, simple_bounds_layer_out = nn.calculate_box_bounds([input_flattened.add(-eps), input_flattened.add(eps)])\n",
    "print(simple_bounds_affine_out[1][0])\n",
    "print(simple_bounds_affine_out[1][1])"
   ],
   "metadata": {
    "collapsed": false,
    "pycharm": {
     "name": "#%%\n"
    }
   }
  },
  {
   "cell_type": "code",
   "execution_count": 30,
   "outputs": [],
   "source": [
    "dhov_model = icnn_model(icnns[layer_index][0], nn, test_image, eps, layer_index, 0, 1, print_log=True)\n",
    "dhov_model.update()"
   ],
   "metadata": {
    "collapsed": false,
    "pycharm": {
     "name": "#%%\n"
    }
   }
  },
  {
   "cell_type": "code",
   "execution_count": 31,
   "outputs": [],
   "source": [
    "icnn_neuron_name = \"icnn_var[{}]\".format(neuron_index)"
   ],
   "metadata": {
    "collapsed": false,
    "pycharm": {
     "name": "#%%\n"
    }
   }
  },
  {
   "cell_type": "code",
   "execution_count": 32,
   "outputs": [
    {
     "name": "stdout",
     "output_type": "stream",
     "text": [
      "Gurobi Optimizer version 10.0.0 build v10.0.0rc2 (win64)\n",
      "\n",
      "CPU model: AMD Ryzen 7 5800H with Radeon Graphics, instruction set [SSE2|AVX|AVX2]\n",
      "Thread count: 8 physical cores, 16 logical processors, using up to 16 threads\n",
      "\n",
      "Optimize a model with 39 rows, 131 columns and 83 nonzeros\n",
      "Model fingerprint: 0xb66b283b\n",
      "Model has 3 general constraints\n",
      "Variable types: 131 continuous, 0 integer (0 binary)\n",
      "Coefficient statistics:\n",
      "  Matrix range     [2e-02, 4e+00]\n",
      "  Objective range  [1e+00, 1e+00]\n",
      "  Bounds range     [8e-01, 4e+03]\n",
      "  RHS range        [8e-02, 3e+00]\n",
      "Presolve removed 29 rows and 123 columns\n",
      "Presolve time: 0.00s\n",
      "Presolved: 10 rows, 8 columns, 27 nonzeros\n",
      "Variable types: 7 continuous, 1 integer (1 binary)\n",
      "Found heuristic solution: objective 0.0000000\n",
      "\n",
      "Root relaxation: objective -1.000000e-10, 0 iterations, 0.00 seconds (0.00 work units)\n",
      "\n",
      "    Nodes    |    Current Node    |     Objective Bounds      |     Work\n",
      " Expl Unexpl |  Obj  Depth IntInf | Incumbent    BestBd   Gap | It/Node Time\n",
      "\n",
      "*    0     0               0      -0.0000000   -0.00000  0.00%     -    0s\n",
      "\n",
      "Explored 1 nodes (0 simplex iterations) in 0.01 seconds (0.00 work units)\n",
      "Thread count was 16 (of 16 available processors)\n",
      "\n",
      "Solution count 1: -1e-10 \n",
      "\n",
      "Optimal solution found (tolerance 1.00e-04)\n",
      "Best objective -1.000000013351e-10, best bound -1.000000013351e-10, gap 0.0000%\n",
      "opt value: -1.000000013351432e-10\n"
     ]
    }
   ],
   "source": [
    "dhov_copy = dhov_model.copy()\n",
    "dhov_copy.Params.LogToConsole = 1\n",
    "add_min_constr(dhov_copy, icnn_neuron_name)\n",
    "dhov_copy.update()\n",
    "all_var = dhov_copy.getVars()\n",
    "optimize_model(dhov_copy, icnn_neuron_name)"
   ],
   "metadata": {
    "collapsed": false,
    "pycharm": {
     "name": "#%%\n"
    }
   }
  },
  {
   "cell_type": "code",
   "execution_count": 33,
   "outputs": [
    {
     "name": "stdout",
     "output_type": "stream",
     "text": [
      "opt value: 0.6421606992553262\n"
     ]
    }
   ],
   "source": [
    "dhov_copy = dhov_model.copy()\n",
    "dhov_copy.Params.LogToConsole = 0\n",
    "add_max_constr(dhov_copy, icnn_neuron_name)\n",
    "optimize_model(dhov_copy, icnn_neuron_name)"
   ],
   "metadata": {
    "collapsed": false,
    "pycharm": {
     "name": "#%%\n"
    }
   }
  },
  {
   "cell_type": "markdown",
   "source": [
    "Test for SNV"
   ],
   "metadata": {
    "collapsed": false,
    "pycharm": {
     "name": "#%% md\n"
    }
   }
  },
  {
   "cell_type": "code",
   "execution_count": 17,
   "outputs": [],
   "source": [
    "snv_verifier = SingleNeuronVerifier(nn, test_image, eps, print_log=False)\n",
    "snv_verifier.generate_constraints_for_net()\n",
    "snv_model = snv_verifier.model\n",
    "snv_model.update()"
   ],
   "metadata": {
    "collapsed": false,
    "pycharm": {
     "name": "#%%\n"
    }
   }
  },
  {
   "cell_type": "code",
   "execution_count": 18,
   "outputs": [
    {
     "name": "stdout",
     "output_type": "stream",
     "text": [
      "opt value: 0.0\n"
     ]
    }
   ],
   "source": [
    "snv_copy = snv_model.copy()\n",
    "snv_copy.Params.LogToConsole = 0\n",
    "add_min_constr(snv_copy, neuron_name)\n",
    "optimize_model(snv_copy, neuron_name)"
   ],
   "metadata": {
    "collapsed": false,
    "pycharm": {
     "name": "#%%\n"
    }
   }
  },
  {
   "cell_type": "code",
   "execution_count": 19,
   "outputs": [
    {
     "name": "stdout",
     "output_type": "stream",
     "text": [
      "opt value: 0.9722473212684741\n"
     ]
    }
   ],
   "source": [
    "snv_copy = snv_model.copy()\n",
    "snv_copy.Params.LogToConsole = 0\n",
    "add_max_constr(snv_copy, neuron_name)\n",
    "optimize_model(snv_copy, neuron_name)"
   ],
   "metadata": {
    "collapsed": false,
    "pycharm": {
     "name": "#%%\n"
    }
   }
  },
  {
   "cell_type": "markdown",
   "source": [
    "Test for MILP"
   ],
   "metadata": {
    "collapsed": false,
    "pycharm": {
     "name": "#%% md\n"
    }
   }
  },
  {
   "cell_type": "code",
   "execution_count": 20,
   "outputs": [
    {
     "data": {
      "text/plain": "'all_var = milp_model.getVars()\\nfor var in all_var:\\n    print(var)'"
     },
     "execution_count": 20,
     "metadata": {},
     "output_type": "execute_result"
    }
   ],
   "source": [
    "neuron_name = \"relu_var{}[{}]\".format(2*layer_index, 0)\n",
    "milp_verifier = MILPVerifier(nn, test_image, eps, print_log=False)\n",
    "milp_verifier.generate_constraints_for_net(until_layer_neuron=[layer_index, neuron_index])\n",
    "milp_model = milp_verifier.model\n",
    "milp_model.update()\n",
    "\n",
    "\"\"\"all_var = milp_model.getVars()\n",
    "for var in all_var:\n",
    "    print(var)\"\"\"\n"
   ],
   "metadata": {
    "collapsed": false,
    "pycharm": {
     "name": "#%%\n"
    }
   }
  },
  {
   "cell_type": "code",
   "execution_count": 21,
   "outputs": [
    {
     "name": "stdout",
     "output_type": "stream",
     "text": [
      "opt value: 0.0\n"
     ]
    }
   ],
   "source": [
    "milp_copy = milp_model.copy()\n",
    "milp_copy.Params.LogToConsole = 0\n",
    "add_min_constr(milp_copy, neuron_name)\n",
    "optimize_model(milp_copy, neuron_name)"
   ],
   "metadata": {
    "collapsed": false,
    "pycharm": {
     "name": "#%%\n"
    }
   }
  },
  {
   "cell_type": "code",
   "execution_count": 22,
   "outputs": [
    {
     "name": "stdout",
     "output_type": "stream",
     "text": [
      "opt value: 0.5622137652362753\n"
     ]
    }
   ],
   "source": [
    "milp_copy = milp_model.copy()\n",
    "milp_copy.Params.LogToConsole = 0\n",
    "add_max_constr(milp_copy, neuron_name)\n",
    "optimize_model(milp_copy, neuron_name)"
   ],
   "metadata": {
    "collapsed": false,
    "pycharm": {
     "name": "#%%\n"
    }
   }
  }
 ],
 "metadata": {
  "kernelspec": {
   "display_name": "Python 3",
   "language": "python",
   "name": "python3"
  },
  "language_info": {
   "codemirror_mode": {
    "name": "ipython",
    "version": 2
   },
   "file_extension": ".py",
   "mimetype": "text/x-python",
   "name": "python",
   "nbconvert_exporter": "python",
   "pygments_lexer": "ipython2",
   "version": "2.7.6"
  }
 },
 "nbformat": 4,
 "nbformat_minor": 0
}