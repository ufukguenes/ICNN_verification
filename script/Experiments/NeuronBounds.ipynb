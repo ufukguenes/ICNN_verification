{
 "cells": [
  {
   "cell_type": "code",
   "execution_count": 3,
   "outputs": [],
   "source": [
    "import torch\n",
    "\n",
    "from script.NeuralNets.Networks import SequentialNN, ICNN, ICNNApproxMax, ICNNLogical\n",
    "from script.settings import device, data_type\n",
    "import script.DHOV.MultiDHOV as multidhov\n",
    "from script.Verification.Verifier import SingleNeuronVerifier, MILPVerifier, DHOVVerifier\n",
    "import gurobipy as grp\n",
    "from torchvision.datasets import CIFAR10\n",
    "from torchvision.transforms import Compose, ToTensor, Normalize"
   ],
   "metadata": {
    "collapsed": false,
    "pycharm": {
     "name": "#%%\n"
    }
   }
  },
  {
   "cell_type": "code",
   "execution_count": 23,
   "outputs": [],
   "source": [
    "def add_max_constr(model, neuron_name):\n",
    "    neuron_var = model.getVarByName(neuron_name)\n",
    "    model.setObjective(neuron_var, grp.GRB.MAXIMIZE)\n",
    "\n",
    "def add_min_constr(model, neuron):\n",
    "    neuron_var = model.getVarByName(neuron)\n",
    "    model.setObjective(neuron_var, grp.GRB.MINIMIZE)"
   ],
   "metadata": {
    "collapsed": false,
    "pycharm": {
     "name": "#%%\n"
    }
   }
  },
  {
   "cell_type": "code",
   "execution_count": 24,
   "outputs": [],
   "source": [
    "def optimize_model(model, neuron_name):\n",
    "    model.update()\n",
    "    model.optimize()\n",
    "    if model.Status == grp.GRB.OPTIMAL:\n",
    "        print(\"opt value: {}\".format(model.getVarByName(neuron_name).getAttr(\"x\")))"
   ],
   "metadata": {
    "collapsed": false,
    "pycharm": {
     "name": "#%%\n"
    }
   }
  },
  {
   "cell_type": "code",
   "execution_count": 25,
   "outputs": [],
   "source": [
    "def icnn_model(icnn, nn, input_x, eps, layer_index, from_neuron, to_neuron, print_log=False):\n",
    "    m = grp.Model()\n",
    "    if not print_log:\n",
    "        m.Params.LogToConsole = 0\n",
    "\n",
    "    input_flattened = torch.flatten(input_x)\n",
    "    bounds_affine_out, bounds_layer_out = nn.calculate_box_bounds(\n",
    "        [input_flattened.add(-eps), input_flattened.add(eps)])\n",
    "\n",
    "    parameter_list = list(nn.parameters())\n",
    "\n",
    "    input_size = len(parameter_list[layer_index])\n",
    "    lb = bounds_layer_out[layer_index][0].detach().cpu().numpy()\n",
    "    ub = bounds_layer_out[layer_index][1].detach().cpu().numpy()\n",
    "    in_var = m.addMVar(input_size, lb=lb, ub=ub, name=\"icnn_var\")\n",
    "\n",
    "    low = bounds_layer_out[layer_index][0][from_neuron: to_neuron]\n",
    "    up = bounds_layer_out[layer_index][1][from_neuron: to_neuron]\n",
    "    constraint_bounds_affine_out, constraint_bounds_layer_out = icnn.calculate_box_bounds([low, up])\n",
    "    icnn.add_max_output_constraints(m, in_var[from_neuron: to_neuron], constraint_bounds_affine_out, constraint_bounds_layer_out)\n",
    "\n",
    "    return m"
   ],
   "metadata": {
    "collapsed": false,
    "pycharm": {
     "name": "#%%\n"
    }
   }
  },
  {
   "cell_type": "code",
   "execution_count": 41,
   "outputs": [
    {
     "data": {
      "text/plain": "'transform = Compose([ToTensor(),\\n                         Normalize((0.5, 0.5, 0.5), (0.5, 0.5, 0.5))]\\n                        )\\n\\ntraining_data = CIFAR10(root=\"../../cifar\", train=True, download=True, transform=transform)\\nimages, labels = training_data.__getitem__(0)\\ntest_image, test_label = torch.unsqueeze(images, 0).to(dtype=data_type).to(device), torch.unsqueeze(\\n    torch.tensor(labels), 0).to(dtype=data_type).to(device)\\n\\nnn = SequentialNN([32 * 32 * 3, 1024, 512, 10])\\nnn.load_state_dict(torch.load(\"../../cifar_fc.pth\", map_location=torch.device(device)), strict=False)\\nparameter_list = list(nn.parameters())'"
     },
     "execution_count": 41,
     "metadata": {},
     "output_type": "execute_result"
    }
   ],
   "source": [
    "\"\"\"W1 = [1. 1.; 1. -1.]\n",
    "    b1 = [0., 0.]\n",
    "    W2 = [1. 1.; 1. -1.]\n",
    "    b2 = [-0.5, 0.]\n",
    "    W3 = [-1. 1.; 1. 1.]\n",
    "    b3 = [3., 0.] \"\"\"\n",
    "\n",
    "nn = SequentialNN([2, 2, 2, 2])\n",
    "\n",
    "with torch.no_grad():\n",
    "    parameter_list = list(nn.parameters())\n",
    "    parameter_list[0].data = torch.tensor([[1, 1], [1, -1]], dtype=data_type).to(device)\n",
    "    parameter_list[1].data = torch.tensor([0, 0], dtype=data_type).to(device)\n",
    "    parameter_list[2].data = torch.tensor([[1, 1], [1, -1]], dtype=data_type).to(device)\n",
    "    parameter_list[3].data = torch.tensor([-0.5, 0], dtype=data_type).to(device)\n",
    "    parameter_list[4].data = torch.tensor([[-1, 1], [1, 1]], dtype=data_type).to(device)\n",
    "    parameter_list[5].data = torch.tensor([3, 0], dtype=data_type).to(device)\n",
    "\n",
    "test_image = torch.tensor([[0, 0]], dtype=data_type).to(device)\n",
    "\n",
    "\"\"\"transform = Compose([ToTensor(),\n",
    "                         Normalize((0.5, 0.5, 0.5), (0.5, 0.5, 0.5))]\n",
    "                        )\n",
    "\n",
    "training_data = CIFAR10(root=\"../../cifar\", train=True, download=True, transform=transform)\n",
    "images, labels = training_data.__getitem__(0)\n",
    "test_image, test_label = torch.unsqueeze(images, 0).to(dtype=data_type).to(device), torch.unsqueeze(\n",
    "    torch.tensor(labels), 0).to(dtype=data_type).to(device)\n",
    "\n",
    "nn = SequentialNN([32 * 32 * 3, 1024, 512, 10])\n",
    "nn.load_state_dict(torch.load(\"../../cifar_fc.pth\", map_location=torch.device(device)), strict=False)\n",
    "parameter_list = list(nn.parameters())\"\"\"\n"
   ],
   "metadata": {
    "collapsed": false,
    "pycharm": {
     "name": "#%%\n"
    }
   }
  },
  {
   "cell_type": "code",
   "execution_count": 42,
   "outputs": [
    {
     "name": "stdout",
     "output_type": "stream",
     "text": [
      "\n",
      "approximation of layer: 0\n",
      "layer progress, group 0 of 1 \n",
      "        time for training: 3.29062819480896\n",
      "        actual verification time 0.0708014965057373\n",
      "        time for verification: 0.24431419372558594\n",
      "\n",
      "approximation of layer: 1\n",
      "layer progress, group 0 of 1 \n",
      "        time for training: 4.470314979553223\n",
      "        actual verification time 0.0705716609954834\n",
      "        time for verification: 0.2339920997619629\n"
     ]
    }
   ],
   "source": [
    "group_size = 2\n",
    "eps = 1\n",
    "icnns = []\n",
    "for i in range((len(parameter_list) - 2) // 2):\n",
    "    layer_index = int(i / 2)\n",
    "    in_size = nn.layer_widths[layer_index + 1]\n",
    "    icnns.append([])\n",
    "    for k in range(in_size // group_size):\n",
    "        next_net = ICNNLogical([group_size, 10, 10, 10, 1], force_positive_init=False, with_two_layers=False, init_scaling=10,\n",
    "                                 init_all_with_zeros=False)\n",
    "        icnns[i].append(next_net)\n",
    "    if in_size % group_size > 0:\n",
    "        next_net = ICNNLogical([in_size % group_size, 10, 10, 10, 1], force_positive_init=False, with_two_layers=False,\n",
    "                               init_scaling=10,\n",
    "                               init_all_with_zeros=False)\n",
    "        icnns[i].append(next_net)\n",
    "\n",
    "icnns = \\\n",
    "    multidhov.start_verification(nn, test_image, icnns, group_size, eps=eps, icnn_epochs=100, icnn_batch_size=1000,\n",
    "                                 sample_count=1000, sample_new=False, use_over_approximation=True,\n",
    "                                 sample_over_input_space=False, sample_over_output_space=True,\n",
    "                                 force_inclusion_steps=0, preemptive_stop=False, even_gradient_training=False,\n",
    "                                 keep_ambient_space=True, data_grad_descent_steps=0, train_outer=False,\n",
    "                                 should_plot=\"none\", optimizer=\"SdLBFGS\", init_network=True, adapt_lambda=\"none\")\n",
    "\n"
   ],
   "metadata": {
    "collapsed": false,
    "pycharm": {
     "name": "#%%\n"
    }
   }
  },
  {
   "cell_type": "code",
   "execution_count": 43,
   "outputs": [
    {
     "name": "stdout",
     "output_type": "stream",
     "text": [
      "bounds affine out \n",
      " [[tensor([-2., -2.], dtype=torch.float64, grad_fn=<AddBackward0>), tensor([2., 2.], dtype=torch.float64, grad_fn=<AddBackward0>)], [tensor([-0.5000, -2.0000], dtype=torch.float64, grad_fn=<AddBackward0>), tensor([3.5000, 2.0000], dtype=torch.float64, grad_fn=<AddBackward0>)], [tensor([-0.5000,  0.0000], dtype=torch.float64, grad_fn=<AddBackward0>), tensor([5.0000, 5.5000], dtype=torch.float64, grad_fn=<AddBackward0>)]]\n",
      "bounds layer out \n",
      " [[tensor([0., 0.], dtype=torch.float64, grad_fn=<MaximumBackward0>), tensor([2., 2.], dtype=torch.float64, grad_fn=<MaximumBackward0>)], [tensor([0., 0.], dtype=torch.float64, grad_fn=<MaximumBackward0>), tensor([3.5000, 2.0000], dtype=torch.float64, grad_fn=<MaximumBackward0>)], [tensor([-0.5000,  0.0000], dtype=torch.float64, grad_fn=<AddBackward0>), tensor([5.0000, 5.5000], dtype=torch.float64, grad_fn=<AddBackward0>)]]\n"
     ]
    }
   ],
   "source": [
    "input_flattened = torch.flatten(test_image)\n",
    "bounds_affine_out, bounds_layer_out = nn.calculate_box_bounds([input_flattened.add(-eps), input_flattened.add(eps)])\n",
    "print(\"bounds affine out \\n {}\".format(bounds_affine_out))\n",
    "print(\"bounds layer out \\n {}\".format(bounds_layer_out))"
   ],
   "metadata": {
    "collapsed": false,
    "pycharm": {
     "name": "#%%\n"
    }
   }
  },
  {
   "cell_type": "code",
   "execution_count": 44,
   "outputs": [],
   "source": [
    "milp_verifier = MILPVerifier(nn, test_image, eps, print_log=False)\n",
    "snv_verifier = SingleNeuronVerifier(nn, test_image, eps, print_log=False)\n",
    "#dhov_verifier = DHOVVerifier(icnns, group_size, nn, test_image, 1)\n",
    "\n",
    "milp_verifier.generate_constraints_for_net()\n",
    "snv_verifier.generate_constraints_for_net()\n",
    "#dhov_verifier.generate_constraints_for_net()"
   ],
   "metadata": {
    "collapsed": false,
    "pycharm": {
     "name": "#%%\n"
    }
   }
  },
  {
   "cell_type": "code",
   "execution_count": 45,
   "outputs": [],
   "source": [
    "layer_index = 0\n",
    "neuron_index = 0\n",
    "milp_model = milp_verifier.model\n",
    "snv_model = snv_verifier.model\n",
    "#dhov_model = dhov_verifier.model\n",
    "dhov_model = icnn_model(icnns[layer_index][0], nn, test_image, eps, layer_index, 0, 2, print_log=False)\n",
    "milp_model.update()\n",
    "snv_model.update()\n",
    "dhov_model.update()\n",
    "\"\"\"all_var = milp_model.getVars()\n",
    "for var in all_var:\n",
    "    print(var)\"\"\"\n",
    "neuron_name = \"relu_var{}[{}]\".format(2*layer_index, neuron_index)\n",
    "icnn_neuron_name = \"icnn_var[{}]\".format(neuron_index)"
   ],
   "metadata": {
    "collapsed": false,
    "pycharm": {
     "name": "#%%\n"
    }
   }
  },
  {
   "cell_type": "code",
   "execution_count": 46,
   "outputs": [
    {
     "name": "stdout",
     "output_type": "stream",
     "text": [
      "Gurobi Optimizer version 10.0.0 build v10.0.0rc2 (win64)\n",
      "\n",
      "CPU model: AMD Ryzen 7 5800H with Radeon Graphics, instruction set [SSE2|AVX|AVX2]\n",
      "Thread count: 8 physical cores, 16 logical processors, using up to 16 threads\n",
      "\n",
      "Optimize a model with 26 rows, 16 columns and 54 nonzeros\n",
      "Model fingerprint: 0x62243f80\n",
      "Variable types: 12 continuous, 4 integer (4 binary)\n",
      "Coefficient statistics:\n",
      "  Matrix range     [5e-01, 4e+00]\n",
      "  Objective range  [1e+00, 1e+00]\n",
      "  Bounds range     [5e-01, 6e+00]\n",
      "  RHS range        [5e-01, 3e+00]\n",
      "Presolve removed 14 rows and 6 columns\n",
      "Presolve time: 0.00s\n",
      "Presolved: 12 rows, 10 columns, 36 nonzeros\n",
      "Variable types: 6 continuous, 4 integer (4 binary)\n",
      "Found heuristic solution: objective -0.0000000\n",
      "\n",
      "Root relaxation: objective 2.000000e+00, 5 iterations, 0.00 seconds (0.00 work units)\n",
      "\n",
      "    Nodes    |    Current Node    |     Objective Bounds      |     Work\n",
      " Expl Unexpl |  Obj  Depth IntInf | Incumbent    BestBd   Gap | It/Node Time\n",
      "\n",
      "*    0     0               0       2.0000000    2.00000  0.00%     -    0s\n",
      "\n",
      "Explored 1 nodes (5 simplex iterations) in 0.01 seconds (0.00 work units)\n",
      "Thread count was 16 (of 16 available processors)\n",
      "\n",
      "Solution count 2: 2 -0 \n",
      "\n",
      "Optimal solution found (tolerance 1.00e-04)\n",
      "Best objective 2.000000000000e+00, best bound 2.000000000000e+00, gap 0.0000%\n",
      "max value: 2.0\n",
      "===================================================================================\n",
      "Gurobi Optimizer version 10.0.0 build v10.0.0rc2 (win64)\n",
      "\n",
      "CPU model: AMD Ryzen 7 5800H with Radeon Graphics, instruction set [SSE2|AVX|AVX2]\n",
      "Thread count: 8 physical cores, 16 logical processors, using up to 16 threads\n",
      "\n",
      "Optimize a model with 22 rows, 12 columns and 42 nonzeros\n",
      "Model fingerprint: 0xfcea8930\n",
      "Coefficient statistics:\n",
      "  Matrix range     [5e-01, 1e+00]\n",
      "  Objective range  [1e+00, 1e+00]\n",
      "  Bounds range     [5e-01, 6e+00]\n",
      "  RHS range        [4e-01, 3e+00]\n",
      "Presolve removed 18 rows and 8 columns\n",
      "Presolve time: 0.00s\n",
      "Presolved: 4 rows, 4 columns, 12 nonzeros\n",
      "\n",
      "Iteration    Objective       Primal Inf.    Dual Inf.      Time\n",
      "       0    2.0000000e+00   9.000000e+00   0.000000e+00      0s\n",
      "       2    2.0000000e+00   0.000000e+00   0.000000e+00      0s\n",
      "\n",
      "Solved in 2 iterations and 0.02 seconds (0.00 work units)\n",
      "Optimal objective  2.000000000e+00\n",
      "max value: 2.0\n",
      "===================================================================================\n",
      "Gurobi Optimizer version 10.0.0 build v10.0.0rc2 (win64)\n",
      "\n",
      "CPU model: AMD Ryzen 7 5800H with Radeon Graphics, instruction set [SSE2|AVX|AVX2]\n",
      "Thread count: 8 physical cores, 16 logical processors, using up to 16 threads\n",
      "\n",
      "Optimize a model with 146 rows, 100 columns and 494 nonzeros\n",
      "Model fingerprint: 0x7de5ff44\n",
      "Model has 3 general constraints\n",
      "Variable types: 75 continuous, 25 integer (25 binary)\n",
      "Coefficient statistics:\n",
      "  Matrix range     [2e-06, 1e+01]\n",
      "  Objective range  [1e+00, 1e+00]\n",
      "  Bounds range     [4e-02, 4e+01]\n",
      "  RHS range        [2e-03, 4e+00]\n",
      "Presolve removed 44 rows and 21 columns\n",
      "Presolve time: 0.02s\n",
      "Presolved: 102 rows, 79 columns, 407 nonzeros\n",
      "Variable types: 51 continuous, 28 integer (28 binary)\n",
      "Found heuristic solution: objective 0.0085875\n",
      "\n",
      "Root relaxation: objective 2.000000e+00, 49 iterations, 0.00 seconds (0.00 work units)\n",
      "\n",
      "    Nodes    |    Current Node    |     Objective Bounds      |     Work\n",
      " Expl Unexpl |  Obj  Depth IntInf | Incumbent    BestBd   Gap | It/Node Time\n",
      "\n",
      "*    0     0               0       2.0000000    2.00000  0.00%     -    0s\n",
      "\n",
      "Explored 1 nodes (49 simplex iterations) in 0.02 seconds (0.00 work units)\n",
      "Thread count was 16 (of 16 available processors)\n",
      "\n",
      "Solution count 2: 2 0.00858748 \n",
      "\n",
      "Optimal solution found (tolerance 1.00e-04)\n",
      "Best objective 2.000000000000e+00, best bound 2.000000000000e+00, gap 0.0000%\n",
      "max value: 2.0\n",
      "===================================================================================\n"
     ]
    }
   ],
   "source": [
    "milp_copy = milp_model.copy()\n",
    "snv_copy = snv_model.copy()\n",
    "dhov_copy = dhov_model.copy()\n",
    "\n",
    "\"\"\"milp_copy.Params.LogToConsole = 0\n",
    "snv_copy.Params.LogToConsole = 0\n",
    "dhov_copy.Params.LogToConsole = 0\"\"\"\n",
    "\n",
    "add_max_constr(milp_copy, neuron_name)\n",
    "add_max_constr(snv_copy, neuron_name)\n",
    "add_max_constr(dhov_copy, icnn_neuron_name)\n",
    "\n",
    "optimize_model(milp_copy, neuron_name)\n",
    "print(\"===================================================================================\")\n",
    "optimize_model(snv_copy, neuron_name)\n",
    "print(\"===================================================================================\")\n",
    "optimize_model(dhov_copy, icnn_neuron_name)\n",
    "print(\"===================================================================================\")"
   ],
   "metadata": {
    "collapsed": false,
    "pycharm": {
     "name": "#%%\n"
    }
   }
  },
  {
   "cell_type": "code",
   "execution_count": 35,
   "outputs": [
    {
     "name": "stdout",
     "output_type": "stream",
     "text": [
      "max value: 0.0\n",
      "===================================================================================\n",
      "max value: 0.0\n",
      "===================================================================================\n",
      "max value: 0.0\n"
     ]
    }
   ],
   "source": [
    "milp_copy = milp_model.copy()\n",
    "snv_copy = snv_model.copy()\n",
    "dhov_copy = dhov_model.copy()\n",
    "\n",
    "milp_copy.Params.LogToConsole = 0\n",
    "snv_copy.Params.LogToConsole = 0\n",
    "dhov_copy.Params.LogToConsole = 0\n",
    "\n",
    "add_min_constr(milp_copy, neuron_name) #affine_var0[0]\n",
    "add_min_constr(snv_copy, neuron_name)\n",
    "add_min_constr(dhov_copy, icnn_neuron_name)\n",
    "\n",
    "optimize_model(milp_copy, neuron_name)\n",
    "print(\"===================================================================================\")\n",
    "optimize_model(snv_copy, neuron_name)\n",
    "print(\"===================================================================================\")\n",
    "optimize_model(dhov_copy, icnn_neuron_name)"
   ],
   "metadata": {
    "collapsed": false,
    "pycharm": {
     "name": "#%%\n"
    }
   }
  },
  {
   "cell_type": "code",
   "execution_count": null,
   "outputs": [],
   "source": [],
   "metadata": {
    "collapsed": false,
    "pycharm": {
     "name": "#%%\n"
    }
   }
  }
 ],
 "metadata": {
  "kernelspec": {
   "display_name": "Python 3",
   "language": "python",
   "name": "python3"
  },
  "language_info": {
   "codemirror_mode": {
    "name": "ipython",
    "version": 2
   },
   "file_extension": ".py",
   "mimetype": "text/x-python",
   "name": "python",
   "nbconvert_exporter": "python",
   "pygments_lexer": "ipython2",
   "version": "2.7.6"
  }
 },
 "nbformat": 4,
 "nbformat_minor": 0
}