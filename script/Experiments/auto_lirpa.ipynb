{
 "cells": [
  {
   "cell_type": "code",
   "execution_count": 1,
   "id": "initial_id",
   "metadata": {
    "collapsed": true,
    "ExecuteTime": {
     "end_time": "2024-05-06T18:01:22.489002271Z",
     "start_time": "2024-05-06T18:01:21.652215075Z"
    }
   },
   "outputs": [],
   "source": [
    "import torch\n",
    "import time\n",
    "from script.NeuralNets.Networks import SequentialNN\n",
    "from script.settings import device, data_type\n",
    "import script.DHOV.MultiDHOV as multidhov\n",
    "from script.Verification.Verifier import SingleNeuronVerifier, MILPVerifier\n",
    "import gurobipy as grp\n",
    "from torchvision.datasets import MNIST\n",
    "from torchvision.transforms import Compose, ToTensor, Normalize\n",
    "from script.NeuralNets.ICNNFactory import ICNNFactory\n",
    "import matplotlib.pyplot as plt\n",
    "import onnx\n",
    "from onnx2pytorch import ConvertModel"
   ]
  },
  {
   "cell_type": "code",
   "outputs": [
    {
     "name": "stdout",
     "output_type": "stream",
     "text": [
      "/home/ufuk/miniconda3/envs/autolirpa_icnn/bin/python\n"
     ]
    }
   ],
   "source": [
    "import sys\n",
    "print(sys.executable)"
   ],
   "metadata": {
    "collapsed": false,
    "ExecuteTime": {
     "end_time": "2024-05-06T18:01:22.489524149Z",
     "start_time": "2024-05-06T18:01:22.487263317Z"
    }
   },
   "id": "7b4af5e13eb42232",
   "execution_count": 2
  },
  {
   "cell_type": "code",
   "outputs": [],
   "source": [
    "from auto_LiRPA import BoundedModule, BoundedTensor, PerturbationLpNorm\n",
    "\n",
    "from vnnlib.compat import read_vnnlib_simple\n",
    "\n",
    "import torch\n",
    "import numpy as np\n",
    "from collections import OrderedDict"
   ],
   "metadata": {
    "collapsed": false,
    "ExecuteTime": {
     "end_time": "2024-05-06T18:01:22.709974807Z",
     "start_time": "2024-05-06T18:01:22.489323639Z"
    }
   },
   "id": "b5b542708d5a0294",
   "execution_count": 3
  },
  {
   "cell_type": "code",
   "outputs": [],
   "source": [
    "def load_onnx_model(onnx_path, input_shape):\n",
    "    onnx_model = onnx.load(onnx_path)\n",
    "    torch_model = ConvertModel(onnx_model).double()\n",
    "    \n",
    "    x_concrete = torch.zeros(input_shape)\n",
    "    model = BoundedModule(torch_model, x_concrete)\n",
    "    return model"
   ],
   "metadata": {
    "collapsed": false,
    "ExecuteTime": {
     "end_time": "2024-05-06T18:01:22.715132819Z",
     "start_time": "2024-05-06T18:01:22.710835984Z"
    }
   },
   "id": "79d9b09202c20fee",
   "execution_count": 4
  },
  {
   "cell_type": "code",
   "outputs": [],
   "source": [
    "def load_vnnlib_spec(vnnlib_path, input_shape, n_out):\n",
    "    n_in = np.prod(input_shape)\n",
    "    res = read_vnnlib_simple(vnnlib_path, n_in, n_out)\n",
    "    bnds, spec = res[0]\n",
    "    \n",
    "    bnds = np.array(bnds)\n",
    "    lbs = bnds[:,0]\n",
    "    ubs = bnds[:,1]\n",
    "    \n",
    "    data_min = torch.tensor(lbs, dtype=torch.float32).reshape(input_shape)\n",
    "    data_max = torch.tensor(ubs, dtype=torch.float32).reshape(input_shape)\n",
    "    center = 0.5*(data_min + data_max)\n",
    "\n",
    "    ptb = PerturbationLpNorm(x_L=data_min, x_U=data_max)\n",
    "    x = BoundedTensor(center, ptb)\n",
    "    \n",
    "    return x"
   ],
   "metadata": {
    "collapsed": false,
    "ExecuteTime": {
     "end_time": "2024-05-06T18:01:22.780760837Z",
     "start_time": "2024-05-06T18:01:22.780247639Z"
    }
   },
   "id": "afa1c30ec9b5bd05",
   "execution_count": 5
  },
  {
   "cell_type": "code",
   "outputs": [],
   "source": [
    "def imshow(img):\n",
    "    img = img / 2 + .05  # revert normalization for viewing\n",
    "    npimg = img.to(\"cpu\").numpy()\n",
    "    plt.imshow(npimg, cmap=\"gray\")\n",
    "    plt.show()"
   ],
   "metadata": {
    "collapsed": false,
    "ExecuteTime": {
     "end_time": "2024-05-06T18:01:23.040729136Z",
     "start_time": "2024-05-06T18:01:23.037765377Z"
    }
   },
   "id": "fff770666dfb75e2",
   "execution_count": 6
  },
  {
   "cell_type": "code",
   "outputs": [],
   "source": [
    "transform = Compose([ToTensor(),  Normalize(0.5, 0.5)])\n",
    "training_data = MNIST(root=\"../../mnist\", train=True, download=True, transform=transform)"
   ],
   "metadata": {
    "collapsed": false,
    "ExecuteTime": {
     "end_time": "2024-05-06T18:01:23.337234015Z",
     "start_time": "2024-05-06T18:01:23.299440359Z"
    }
   },
   "id": "109435e09eefc29c",
   "execution_count": 7
  },
  {
   "cell_type": "code",
   "outputs": [],
   "source": [],
   "metadata": {
    "collapsed": false,
    "ExecuteTime": {
     "end_time": "2024-05-06T18:01:23.584956407Z",
     "start_time": "2024-05-06T18:01:23.581449210Z"
    }
   },
   "id": "9da6ec23f17c36ce",
   "execution_count": 7
  },
  {
   "cell_type": "code",
   "outputs": [
    {
     "data": {
      "text/plain": "<All keys matched successfully>"
     },
     "execution_count": 8,
     "metadata": {},
     "output_type": "execute_result"
    }
   ],
   "source": [
    "nn = SequentialNN([28 * 28 * 1, 100, 30, 10])\n",
    "nn.load_state_dict(torch.load(\"../../mnist_fc.pth\", map_location=torch.device(device)), strict=False)\n"
   ],
   "metadata": {
    "collapsed": false,
    "ExecuteTime": {
     "end_time": "2024-05-06T18:01:23.845376805Z",
     "start_time": "2024-05-06T18:01:23.841555608Z"
    }
   },
   "id": "3f3ab9e23f7691d4",
   "execution_count": 8
  },
  {
   "cell_type": "code",
   "outputs": [
    {
     "data": {
      "text/plain": "<Figure size 640x480 with 1 Axes>",
      "image/png": "[encoded data removed]"
     },
     "metadata": {},
     "output_type": "display_data"
    },
    {
     "name": "stdout",
     "output_type": "stream",
     "text": [
      "The label is 5\n",
      "NN classifies image correctly as 5\n"
     ]
    }
   ],
   "source": [
    "# image to do the verification for\n",
    "image_index = 0\n",
    "\n",
    "# epsilon radius\n",
    "eps = 0.026\n",
    "\n",
    "# whether a verification attempt should be done using just MILP encoding for comparison (can take long)\n",
    "use_milp = False\n",
    "\n",
    "image, label = training_data[image_index]\n",
    "torch_image = torch.unsqueeze(image, 0).to(dtype=data_type).to(device)\n",
    "imshow(torch_image[0][0])\n",
    "print(f\"The label is {label}\")\n",
    "\n",
    "if torch.argmax(nn(torch_image)).item() == label:\n",
    "    print(\"NN classifies image correctly as {}\".format(label))\n",
    "else:\n",
    "    print(\"NN classifies image wrong\")"
   ],
   "metadata": {
    "collapsed": false,
    "ExecuteTime": {
     "end_time": "2024-05-06T18:01:24.189505935Z",
     "start_time": "2024-05-06T18:01:24.144184116Z"
    }
   },
   "id": "c05c7d00d093c4a1",
   "execution_count": 9
  },
  {
   "cell_type": "code",
   "outputs": [
    {
     "name": "stdout",
     "output_type": "stream",
     "text": [
      "============= Diagnostic Run torch.onnx.export version 2.0.1+cu117 =============\n",
      "verbose: False, log level: Level.ERROR\n",
      "======================= 0 NONE 0 NOTE 0 WARNING 0 ERROR ========================\n"
     ]
    }
   ],
   "source": [
    "onnx_model_path = 'nn.onnx'\n",
    "\n",
    "torch_image = torch.unsqueeze(image, 0).to(dtype=data_type).to(device)\n",
    "\n",
    "# Use the actual image tensor as input\n",
    "torch.onnx.export(nn, torch_image, onnx_model_path)"
   ],
   "metadata": {
    "collapsed": false,
    "ExecuteTime": {
     "end_time": "2024-05-06T18:01:24.718501281Z",
     "start_time": "2024-05-06T18:01:24.707706040Z"
    }
   },
   "id": "514c5aec032a348d",
   "execution_count": 10
  },
  {
   "cell_type": "code",
   "outputs": [],
   "source": [
    "# Open the VNNLIB file\n",
    "with open('mnist_image_0.vnnlib', 'w') as f:\n",
    "    # Write a comment describing the problem\n",
    "    f.write('// Perturbation of 0.026 on the first image of the MNIST dataset\\n')\n",
    "\n",
    "    # Write the input constraints\n",
    "    for i, pixel in enumerate(image.view(-1)):\n",
    "        pixel = pixel.item()\n",
    "        f.write(f'(<= (- x{i} {pixel}) 0.026)\\n')\n",
    "        f.write(f'(<= (- {pixel} x{i}) 0.026)\\n')"
   ],
   "metadata": {
    "collapsed": false,
    "ExecuteTime": {
     "end_time": "2024-05-06T18:01:25.215709059Z",
     "start_time": "2024-05-06T18:01:25.211511194Z"
    }
   },
   "id": "a3dff4ebe880c473",
   "execution_count": 11
  },
  {
   "cell_type": "code",
   "outputs": [],
   "source": [
    "onnx_path = 'nn.onnx' #'example_specs/mnist-net_256x4.onnx'\n",
    "vnnlib_path = 'example_specs/prop_0_spiral_25.vnnlib' # "
   ],
   "metadata": {
    "collapsed": false,
    "ExecuteTime": {
     "end_time": "2024-05-06T18:01:25.536368214Z",
     "start_time": "2024-05-06T18:01:25.533687343Z"
    }
   },
   "id": "28a0e3dc273ff4a5",
   "execution_count": 12
  },
  {
   "cell_type": "code",
   "outputs": [
    {
     "name": "stderr",
     "output_type": "stream",
     "text": [
      "/home/ufuk/miniconda3/envs/autolirpa_icnn/lib/python3.10/site-packages/onnx2pytorch/convert/layer.py:30: UserWarning: The given NumPy array is not writable, and PyTorch does not support non-writable tensors. This means writing to this tensor will result in undefined behavior. You may want to copy the array to protect its data or make it writable before converting it to a tensor. This type of warning will be suppressed for the rest of this program. (Triggered internally at ../torch/csrc/utils/tensor_numpy.cpp:206.)\n",
      "  layer.weight.data = torch.from_numpy(numpy_helper.to_array(weight))\n",
      "/home/ufuk/miniconda3/envs/autolirpa_icnn/lib/python3.10/site-packages/onnx2pytorch/convert/model.py:163: TracerWarning: Converting a tensor to a Python boolean might cause the trace to be incorrect. We can't record the data flow of Python values, so this value will be treated as a constant in the future. This means that the trace might not generalize to other inputs!\n",
      "  if not self.experimental and inputs[0].shape[self.batch_dim] > 1:\n",
      "/home/ufuk/miniconda3/envs/autolirpa_icnn/lib/python3.10/site-packages/onnx2pytorch/operations/reshape.py:28: TracerWarning: Iterating over a tensor might cause the trace to be incorrect. Passing a tensor of different shape won't change the number of iterations executed (and might lead to errors or silently give incorrect results).\n",
      "  shape = [x if x != 0 else input.size(i) for i, x in enumerate(shape)]\n",
      "/home/ufuk/miniconda3/envs/autolirpa_icnn/lib/python3.10/site-packages/onnx2pytorch/operations/reshape.py:28: TracerWarning: Converting a tensor to a Python boolean might cause the trace to be incorrect. We can't record the data flow of Python values, so this value will be treated as a constant in the future. This means that the trace might not generalize to other inputs!\n",
      "  shape = [x if x != 0 else input.size(i) for i, x in enumerate(shape)]\n",
      "/home/ufuk/miniconda3/envs/autolirpa_icnn/lib/python3.10/site-packages/auto_LiRPA/parse_graph.py:154: FutureWarning: 'torch.onnx.symbolic_helper._set_opset_version' is deprecated in version 1.13 and will be removed in 2.0. Please remove its usage and avoid setting internal variables directly.\n",
      "  _set_opset_version(12)\n",
      "/home/ufuk/miniconda3/envs/autolirpa_icnn/lib/python3.10/site-packages/vnnlib/compat.py:283: UserWarning: literal negation does not strictly follow SMT-LIB\n",
      "  ast_node = parse_file(vnnlib_filename, strict=False)\n"
     ]
    }
   ],
   "source": [
    "def load_onnx_model(onnx_path, input_shape):\n",
    "    onnx_model = onnx.load(onnx_path)\n",
    "    torch_model = ConvertModel(onnx_model).float()\n",
    "    \n",
    "    x_concrete = torch.zeros(input_shape, dtype=data_type)\n",
    "    model = BoundedModule(torch_model, x_concrete)\n",
    "    return model\n",
    "\n",
    "model = load_onnx_model(onnx_path, [1,1,1,784])\n",
    "x = load_vnnlib_spec(vnnlib_path, [1,1,1,784], 10)"
   ],
   "metadata": {
    "collapsed": false,
    "ExecuteTime": {
     "end_time": "2024-05-06T18:01:25.947497117Z",
     "start_time": "2024-05-06T18:01:25.860450106Z"
    }
   },
   "id": "9664a4cf21611803",
   "execution_count": 13
  },
  {
   "cell_type": "code",
   "outputs": [
    {
     "data": {
      "text/plain": "(tensor([[ -5.1016,  -5.4279,  -5.4882,  -1.8619, -10.0629,  -2.3619,  -6.8763,\n           -4.8774,  -8.1820,  -7.3758]], grad_fn=<AddBackward0>),\n tensor([[ 6.0288,  5.8087,  7.7046,  9.9662,  0.9998, 10.0238,  3.6404,  6.8366,\n           4.9296,  4.6805]], grad_fn=<AddBackward0>))"
     },
     "execution_count": 14,
     "metadata": {},
     "output_type": "execute_result"
    }
   ],
   "source": [
    "model.compute_bounds(x=(x,), method='ibp')"
   ],
   "metadata": {
    "collapsed": false,
    "ExecuteTime": {
     "end_time": "2024-05-06T18:01:26.585471146Z",
     "start_time": "2024-05-06T18:01:26.581859419Z"
    }
   },
   "id": "2666ccf38f5eaafc",
   "execution_count": 14
  },
  {
   "cell_type": "code",
   "outputs": [
    {
     "name": "stdout",
     "output_type": "stream",
     "text": [
      "[[tensor([[[[-0.0150, -0.0150, -0.0150, -0.0150, -0.0150, -0.0150, -0.0150,\n",
      "           -0.0150, -0.0150, -0.0150, -0.0150, -0.0150, -0.0150, -0.0150,\n",
      "           -0.0150, -0.0150, -0.0150, -0.0150, -0.0150, -0.0150, -0.0150,\n",
      "           -0.0150, -0.0150, -0.0150, -0.0150, -0.0150, -0.0150, -0.0150,\n",
      "           -0.0150, -0.0150, -0.0150, -0.0150, -0.0150, -0.0150, -0.0150,\n",
      "           -0.0150, -0.0150, -0.0150, -0.0150, -0.0150, -0.0150, -0.0150,\n",
      "           -0.0150, -0.0150, -0.0150, -0.0150, -0.0150, -0.0150, -0.0150,\n",
      "           -0.0150, -0.0150, -0.0150, -0.0150, -0.0150, -0.0150, -0.0150,\n",
      "           -0.0150, -0.0150, -0.0150, -0.0150, -0.0150, -0.0150, -0.0150,\n",
      "           -0.0150, -0.0150, -0.0150, -0.0150, -0.0150, -0.0150, -0.0150,\n",
      "           -0.0150, -0.0150, -0.0150, -0.0150, -0.0150, -0.0150, -0.0150,\n",
      "           -0.0150, -0.0150, -0.0150, -0.0150, -0.0150, -0.0150, -0.0150,\n",
      "           -0.0150, -0.0150, -0.0150, -0.0150, -0.0150, -0.0150, -0.0150,\n",
      "           -0.0150, -0.0150, -0.0150, -0.0150, -0.0150, -0.0150, -0.0150,\n",
      "           -0.0150, -0.0150, -0.0150, -0.0150, -0.0150, -0.0150, -0.0150,\n",
      "           -0.0150, -0.0150, -0.0150, -0.0150, -0.0150, -0.0150, -0.0150,\n",
      "           -0.0150, -0.0150, -0.0150, -0.0150, -0.0150, -0.0150, -0.0150,\n",
      "           -0.0150, -0.0150, -0.0150, -0.0150, -0.0150, -0.0150, -0.0150,\n",
      "           -0.0150, -0.0150, -0.0150, -0.0150, -0.0150, -0.0150, -0.0150,\n",
      "           -0.0150, -0.0150, -0.0150, -0.0150, -0.0150, -0.0150, -0.0150,\n",
      "           -0.0150, -0.0150, -0.0150, -0.0150, -0.0150, -0.0150, -0.0150,\n",
      "           -0.0150, -0.0150, -0.0150, -0.0150, -0.0150, -0.0032,  0.0556,\n",
      "            0.0556,  0.0556,  0.4791,  0.5183,  0.6713,  0.0870,  0.6360,\n",
      "            0.9850,  0.9536,  0.4830, -0.0150, -0.0150, -0.0150, -0.0150,\n",
      "           -0.0150, -0.0150, -0.0150, -0.0150, -0.0150, -0.0150, -0.0150,\n",
      "           -0.0150,  0.1026,  0.1262,  0.3536,  0.5889,  0.6517,  0.9772,\n",
      "            0.9772,  0.9772,  0.9772,  0.9772,  0.8674,  0.6595,  0.9772,\n",
      "            0.9340,  0.7497,  0.2360, -0.0150, -0.0150, -0.0150, -0.0150,\n",
      "           -0.0150, -0.0150, -0.0150, -0.0150, -0.0150, -0.0150, -0.0150,\n",
      "            0.1772,  0.9183,  0.9772,  0.9772,  0.9772,  0.9772,  0.9772,\n",
      "            0.9772,  0.9772,  0.9772,  0.9693,  0.3497,  0.3066,  0.3066,\n",
      "            0.2046,  0.1379, -0.0150, -0.0150, -0.0150, -0.0150, -0.0150,\n",
      "           -0.0150, -0.0150, -0.0150, -0.0150, -0.0150, -0.0150, -0.0150,\n",
      "            0.0556,  0.8438,  0.9772,  0.9772,  0.9772,  0.9772,  0.9772,\n",
      "            0.7615,  0.6987,  0.9536,  0.9301, -0.0150, -0.0150, -0.0150,\n",
      "           -0.0150, -0.0150, -0.0150, -0.0150, -0.0150, -0.0150, -0.0150,\n",
      "           -0.0150, -0.0150, -0.0150, -0.0150, -0.0150, -0.0150, -0.0150,\n",
      "           -0.0150,  0.2987,  0.5968,  0.4046,  0.9772,  0.9772,  0.7889,\n",
      "            0.0281, -0.0150,  0.1536,  0.5889, -0.0150, -0.0150, -0.0150,\n",
      "           -0.0150, -0.0150, -0.0150, -0.0150, -0.0150, -0.0150, -0.0150,\n",
      "           -0.0150, -0.0150, -0.0150, -0.0150, -0.0150, -0.0150, -0.0150,\n",
      "           -0.0150, -0.0150,  0.0399, -0.0111,  0.5889,  0.9772,  0.3379,\n",
      "           -0.0150, -0.0150, -0.0150, -0.0150, -0.0150, -0.0150, -0.0150,\n",
      "           -0.0150, -0.0150, -0.0150, -0.0150, -0.0150, -0.0150, -0.0150,\n",
      "           -0.0150, -0.0150, -0.0150, -0.0150, -0.0150, -0.0150, -0.0150,\n",
      "           -0.0150, -0.0150, -0.0150, -0.0150,  0.5301,  0.9772,  0.7301,\n",
      "           -0.0072, -0.0150, -0.0150, -0.0150, -0.0150, -0.0150, -0.0150,\n",
      "           -0.0150, -0.0150, -0.0150, -0.0150, -0.0150, -0.0150, -0.0150,\n",
      "           -0.0150, -0.0150, -0.0150, -0.0150, -0.0150, -0.0150, -0.0150,\n",
      "           -0.0150, -0.0150, -0.0150, -0.0150,  0.0281,  0.7301,  0.9772,\n",
      "            0.2595, -0.0150, -0.0150, -0.0150, -0.0150, -0.0150, -0.0150,\n",
      "           -0.0150, -0.0150, -0.0150, -0.0150, -0.0150, -0.0150, -0.0150,\n",
      "           -0.0150, -0.0150, -0.0150, -0.0150, -0.0150, -0.0150, -0.0150,\n",
      "           -0.0150, -0.0150, -0.0150, -0.0150, -0.0150,  0.1223,  0.9301,\n",
      "            0.8674,  0.6125,  0.4085, -0.0111, -0.0150, -0.0150, -0.0150,\n",
      "           -0.0150, -0.0150, -0.0150, -0.0150, -0.0150, -0.0150, -0.0150,\n",
      "           -0.0150, -0.0150, -0.0150, -0.0150, -0.0150, -0.0150, -0.0150,\n",
      "           -0.0150, -0.0150, -0.0150, -0.0150, -0.0150, -0.0150,  0.3026,\n",
      "            0.9262,  0.9772,  0.9772,  0.4517,  0.0830, -0.0150, -0.0150,\n",
      "           -0.0150, -0.0150, -0.0150, -0.0150, -0.0150, -0.0150, -0.0150,\n",
      "           -0.0150, -0.0150, -0.0150, -0.0150, -0.0150, -0.0150, -0.0150,\n",
      "           -0.0150, -0.0150, -0.0150, -0.0150, -0.0150, -0.0150, -0.0150,\n",
      "            0.1615,  0.7144,  0.9772,  0.9772,  0.5732,  0.0909, -0.0150,\n",
      "           -0.0150, -0.0150, -0.0150, -0.0150, -0.0150, -0.0150, -0.0150,\n",
      "           -0.0150, -0.0150, -0.0150, -0.0150, -0.0150, -0.0150, -0.0150,\n",
      "           -0.0150, -0.0150, -0.0150, -0.0150, -0.0150, -0.0150, -0.0150,\n",
      "           -0.0150,  0.0477,  0.3497,  0.9732,  0.9772,  0.7183, -0.0150,\n",
      "           -0.0150, -0.0150, -0.0150, -0.0150, -0.0150, -0.0150, -0.0150,\n",
      "           -0.0150, -0.0150, -0.0150, -0.0150, -0.0150, -0.0150, -0.0150,\n",
      "           -0.0150, -0.0150, -0.0150, -0.0150, -0.0150, -0.0150, -0.0150,\n",
      "           -0.0150, -0.0150, -0.0150,  0.9615,  0.9772,  0.9615,  0.2360,\n",
      "           -0.0150, -0.0150, -0.0150, -0.0150, -0.0150, -0.0150, -0.0150,\n",
      "           -0.0150, -0.0150, -0.0150, -0.0150, -0.0150, -0.0150, -0.0150,\n",
      "           -0.0150, -0.0150, -0.0150, -0.0150, -0.0150, -0.0150, -0.0150,\n",
      "            0.1654,  0.4948,  0.7026,  0.9772,  0.9772,  0.7968, -0.0072,\n",
      "           -0.0150, -0.0150, -0.0150, -0.0150, -0.0150, -0.0150, -0.0150,\n",
      "           -0.0150, -0.0150, -0.0150, -0.0150, -0.0150, -0.0150, -0.0150,\n",
      "           -0.0150, -0.0150, -0.0150, -0.0150, -0.0150,  0.1379,  0.5654,\n",
      "            0.8830,  0.9772,  0.9772,  0.9772,  0.9654,  0.6987, -0.0150,\n",
      "           -0.0150, -0.0150, -0.0150, -0.0150, -0.0150, -0.0150, -0.0150,\n",
      "           -0.0150, -0.0150, -0.0150, -0.0150, -0.0150, -0.0150, -0.0150,\n",
      "           -0.0150, -0.0150, -0.0150,  0.0791,  0.4321,  0.8517,  0.9772,\n",
      "            0.9772,  0.9772,  0.9772,  0.7732,  0.2909, -0.0150, -0.0150,\n",
      "           -0.0150, -0.0150, -0.0150, -0.0150, -0.0150, -0.0150, -0.0150,\n",
      "           -0.0150, -0.0150, -0.0150, -0.0150, -0.0150, -0.0150, -0.0150,\n",
      "           -0.0150,  0.0752,  0.2438,  0.8203,  0.9772,  0.9772,  0.9772,\n",
      "            0.9772,  0.7615,  0.3026, -0.0072, -0.0150, -0.0150, -0.0150,\n",
      "           -0.0150, -0.0150, -0.0150, -0.0150, -0.0150, -0.0150, -0.0150,\n",
      "           -0.0150, -0.0150, -0.0150, -0.0150, -0.0150, -0.0150,  0.0556,\n",
      "            0.6556,  0.8438,  0.9772,  0.9772,  0.9772,  0.9772,  0.7497,\n",
      "            0.2987,  0.0203, -0.0150, -0.0150, -0.0150, -0.0150, -0.0150,\n",
      "           -0.0150, -0.0150, -0.0150, -0.0150, -0.0150, -0.0150, -0.0150,\n",
      "           -0.0150, -0.0150, -0.0150, -0.0150,  0.2007,  0.6595,  0.8713,\n",
      "            0.9772,  0.9772,  0.9772,  0.9772,  0.9419,  0.5066,  0.0281,\n",
      "           -0.0150, -0.0150, -0.0150, -0.0150, -0.0150, -0.0150, -0.0150,\n",
      "           -0.0150, -0.0150, -0.0150, -0.0150, -0.0150, -0.0150, -0.0150,\n",
      "           -0.0150, -0.0150, -0.0150, -0.0150,  0.5183,  0.9772,  0.9772,\n",
      "            0.9772,  0.8164,  0.5144,  0.5026,  0.0477, -0.0150, -0.0150,\n",
      "           -0.0150, -0.0150, -0.0150, -0.0150, -0.0150, -0.0150, -0.0150,\n",
      "           -0.0150, -0.0150, -0.0150, -0.0150, -0.0150, -0.0150, -0.0150,\n",
      "           -0.0150, -0.0150, -0.0150, -0.0150, -0.0150, -0.0150, -0.0150,\n",
      "           -0.0150, -0.0150, -0.0150, -0.0150, -0.0150, -0.0150, -0.0150,\n",
      "           -0.0150, -0.0150, -0.0150, -0.0150, -0.0150, -0.0150, -0.0150,\n",
      "           -0.0150, -0.0150, -0.0150, -0.0150, -0.0150, -0.0150, -0.0150,\n",
      "           -0.0150, -0.0150, -0.0150, -0.0150, -0.0150, -0.0150, -0.0150,\n",
      "           -0.0150, -0.0150, -0.0150, -0.0150, -0.0150, -0.0150, -0.0150,\n",
      "           -0.0150, -0.0150, -0.0150, -0.0150, -0.0150, -0.0150, -0.0150,\n",
      "           -0.0150, -0.0150, -0.0150, -0.0150, -0.0150, -0.0150, -0.0150,\n",
      "           -0.0150, -0.0150, -0.0150, -0.0150, -0.0150, -0.0150, -0.0150,\n",
      "           -0.0150, -0.0150, -0.0150, -0.0150, -0.0150, -0.0150, -0.0150,\n",
      "           -0.0150, -0.0150, -0.0150, -0.0150, -0.0150, -0.0150, -0.0150,\n",
      "           -0.0150, -0.0150, -0.0150, -0.0150, -0.0150, -0.0150, -0.0150]]]]), tensor([[[[0.0150, 0.0150, 0.0150, 0.0150, 0.0150, 0.0150, 0.0150, 0.0150,\n",
      "           0.0150, 0.0150, 0.0150, 0.0150, 0.0150, 0.0150, 0.0150, 0.0150,\n",
      "           0.0150, 0.0150, 0.0150, 0.0150, 0.0150, 0.0150, 0.0150, 0.0150,\n",
      "           0.0150, 0.0150, 0.0150, 0.0150, 0.0150, 0.0150, 0.0150, 0.0150,\n",
      "           0.0150, 0.0150, 0.0150, 0.0150, 0.0150, 0.0150, 0.0150, 0.0150,\n",
      "           0.0150, 0.0150, 0.0150, 0.0150, 0.0150, 0.0150, 0.0150, 0.0150,\n",
      "           0.0150, 0.0150, 0.0150, 0.0150, 0.0150, 0.0150, 0.0150, 0.0150,\n",
      "           0.0150, 0.0150, 0.0150, 0.0150, 0.0150, 0.0150, 0.0150, 0.0150,\n",
      "           0.0150, 0.0150, 0.0150, 0.0150, 0.0150, 0.0150, 0.0150, 0.0150,\n",
      "           0.0150, 0.0150, 0.0150, 0.0150, 0.0150, 0.0150, 0.0150, 0.0150,\n",
      "           0.0150, 0.0150, 0.0150, 0.0150, 0.0150, 0.0150, 0.0150, 0.0150,\n",
      "           0.0150, 0.0150, 0.0150, 0.0150, 0.0150, 0.0150, 0.0150, 0.0150,\n",
      "           0.0150, 0.0150, 0.0150, 0.0150, 0.0150, 0.0150, 0.0150, 0.0150,\n",
      "           0.0150, 0.0150, 0.0150, 0.0150, 0.0150, 0.0150, 0.0150, 0.0150,\n",
      "           0.0150, 0.0150, 0.0150, 0.0150, 0.0150, 0.0150, 0.0150, 0.0150,\n",
      "           0.0150, 0.0150, 0.0150, 0.0150, 0.0150, 0.0150, 0.0150, 0.0150,\n",
      "           0.0150, 0.0150, 0.0150, 0.0150, 0.0150, 0.0150, 0.0150, 0.0150,\n",
      "           0.0150, 0.0150, 0.0150, 0.0150, 0.0150, 0.0150, 0.0150, 0.0150,\n",
      "           0.0150, 0.0150, 0.0150, 0.0150, 0.0150, 0.0150, 0.0150, 0.0150,\n",
      "           0.0268, 0.0856, 0.0856, 0.0856, 0.5091, 0.5483, 0.7013, 0.1170,\n",
      "           0.6660, 1.0150, 0.9836, 0.5130, 0.0150, 0.0150, 0.0150, 0.0150,\n",
      "           0.0150, 0.0150, 0.0150, 0.0150, 0.0150, 0.0150, 0.0150, 0.0150,\n",
      "           0.1326, 0.1562, 0.3836, 0.6189, 0.6817, 1.0072, 1.0072, 1.0072,\n",
      "           1.0072, 1.0072, 0.8974, 0.6895, 1.0072, 0.9640, 0.7797, 0.2660,\n",
      "           0.0150, 0.0150, 0.0150, 0.0150, 0.0150, 0.0150, 0.0150, 0.0150,\n",
      "           0.0150, 0.0150, 0.0150, 0.2072, 0.9483, 1.0072, 1.0072, 1.0072,\n",
      "           1.0072, 1.0072, 1.0072, 1.0072, 1.0072, 0.9993, 0.3797, 0.3366,\n",
      "           0.3366, 0.2346, 0.1679, 0.0150, 0.0150, 0.0150, 0.0150, 0.0150,\n",
      "           0.0150, 0.0150, 0.0150, 0.0150, 0.0150, 0.0150, 0.0150, 0.0856,\n",
      "           0.8738, 1.0072, 1.0072, 1.0072, 1.0072, 1.0072, 0.7915, 0.7287,\n",
      "           0.9836, 0.9601, 0.0150, 0.0150, 0.0150, 0.0150, 0.0150, 0.0150,\n",
      "           0.0150, 0.0150, 0.0150, 0.0150, 0.0150, 0.0150, 0.0150, 0.0150,\n",
      "           0.0150, 0.0150, 0.0150, 0.0150, 0.3287, 0.6268, 0.4346, 1.0072,\n",
      "           1.0072, 0.8189, 0.0581, 0.0150, 0.1836, 0.6189, 0.0150, 0.0150,\n",
      "           0.0150, 0.0150, 0.0150, 0.0150, 0.0150, 0.0150, 0.0150, 0.0150,\n",
      "           0.0150, 0.0150, 0.0150, 0.0150, 0.0150, 0.0150, 0.0150, 0.0150,\n",
      "           0.0150, 0.0699, 0.0189, 0.6189, 1.0072, 0.3679, 0.0150, 0.0150,\n",
      "           0.0150, 0.0150, 0.0150, 0.0150, 0.0150, 0.0150, 0.0150, 0.0150,\n",
      "           0.0150, 0.0150, 0.0150, 0.0150, 0.0150, 0.0150, 0.0150, 0.0150,\n",
      "           0.0150, 0.0150, 0.0150, 0.0150, 0.0150, 0.0150, 0.0150, 0.5601,\n",
      "           1.0072, 0.7601, 0.0228, 0.0150, 0.0150, 0.0150, 0.0150, 0.0150,\n",
      "           0.0150, 0.0150, 0.0150, 0.0150, 0.0150, 0.0150, 0.0150, 0.0150,\n",
      "           0.0150, 0.0150, 0.0150, 0.0150, 0.0150, 0.0150, 0.0150, 0.0150,\n",
      "           0.0150, 0.0150, 0.0150, 0.0581, 0.7601, 1.0072, 0.2895, 0.0150,\n",
      "           0.0150, 0.0150, 0.0150, 0.0150, 0.0150, 0.0150, 0.0150, 0.0150,\n",
      "           0.0150, 0.0150, 0.0150, 0.0150, 0.0150, 0.0150, 0.0150, 0.0150,\n",
      "           0.0150, 0.0150, 0.0150, 0.0150, 0.0150, 0.0150, 0.0150, 0.0150,\n",
      "           0.1523, 0.9601, 0.8974, 0.6425, 0.4385, 0.0189, 0.0150, 0.0150,\n",
      "           0.0150, 0.0150, 0.0150, 0.0150, 0.0150, 0.0150, 0.0150, 0.0150,\n",
      "           0.0150, 0.0150, 0.0150, 0.0150, 0.0150, 0.0150, 0.0150, 0.0150,\n",
      "           0.0150, 0.0150, 0.0150, 0.0150, 0.0150, 0.3326, 0.9562, 1.0072,\n",
      "           1.0072, 0.4817, 0.1130, 0.0150, 0.0150, 0.0150, 0.0150, 0.0150,\n",
      "           0.0150, 0.0150, 0.0150, 0.0150, 0.0150, 0.0150, 0.0150, 0.0150,\n",
      "           0.0150, 0.0150, 0.0150, 0.0150, 0.0150, 0.0150, 0.0150, 0.0150,\n",
      "           0.0150, 0.0150, 0.1915, 0.7444, 1.0072, 1.0072, 0.6032, 0.1209,\n",
      "           0.0150, 0.0150, 0.0150, 0.0150, 0.0150, 0.0150, 0.0150, 0.0150,\n",
      "           0.0150, 0.0150, 0.0150, 0.0150, 0.0150, 0.0150, 0.0150, 0.0150,\n",
      "           0.0150, 0.0150, 0.0150, 0.0150, 0.0150, 0.0150, 0.0150, 0.0777,\n",
      "           0.3797, 1.0032, 1.0072, 0.7483, 0.0150, 0.0150, 0.0150, 0.0150,\n",
      "           0.0150, 0.0150, 0.0150, 0.0150, 0.0150, 0.0150, 0.0150, 0.0150,\n",
      "           0.0150, 0.0150, 0.0150, 0.0150, 0.0150, 0.0150, 0.0150, 0.0150,\n",
      "           0.0150, 0.0150, 0.0150, 0.0150, 0.0150, 0.9915, 1.0072, 0.9915,\n",
      "           0.2660, 0.0150, 0.0150, 0.0150, 0.0150, 0.0150, 0.0150, 0.0150,\n",
      "           0.0150, 0.0150, 0.0150, 0.0150, 0.0150, 0.0150, 0.0150, 0.0150,\n",
      "           0.0150, 0.0150, 0.0150, 0.0150, 0.0150, 0.0150, 0.1954, 0.5248,\n",
      "           0.7326, 1.0072, 1.0072, 0.8268, 0.0228, 0.0150, 0.0150, 0.0150,\n",
      "           0.0150, 0.0150, 0.0150, 0.0150, 0.0150, 0.0150, 0.0150, 0.0150,\n",
      "           0.0150, 0.0150, 0.0150, 0.0150, 0.0150, 0.0150, 0.0150, 0.0150,\n",
      "           0.1679, 0.5954, 0.9130, 1.0072, 1.0072, 1.0072, 0.9954, 0.7287,\n",
      "           0.0150, 0.0150, 0.0150, 0.0150, 0.0150, 0.0150, 0.0150, 0.0150,\n",
      "           0.0150, 0.0150, 0.0150, 0.0150, 0.0150, 0.0150, 0.0150, 0.0150,\n",
      "           0.0150, 0.0150, 0.1091, 0.4621, 0.8817, 1.0072, 1.0072, 1.0072,\n",
      "           1.0072, 0.8032, 0.3209, 0.0150, 0.0150, 0.0150, 0.0150, 0.0150,\n",
      "           0.0150, 0.0150, 0.0150, 0.0150, 0.0150, 0.0150, 0.0150, 0.0150,\n",
      "           0.0150, 0.0150, 0.0150, 0.0150, 0.1052, 0.2738, 0.8503, 1.0072,\n",
      "           1.0072, 1.0072, 1.0072, 0.7915, 0.3326, 0.0228, 0.0150, 0.0150,\n",
      "           0.0150, 0.0150, 0.0150, 0.0150, 0.0150, 0.0150, 0.0150, 0.0150,\n",
      "           0.0150, 0.0150, 0.0150, 0.0150, 0.0150, 0.0150, 0.0856, 0.6856,\n",
      "           0.8738, 1.0072, 1.0072, 1.0072, 1.0072, 0.7797, 0.3287, 0.0503,\n",
      "           0.0150, 0.0150, 0.0150, 0.0150, 0.0150, 0.0150, 0.0150, 0.0150,\n",
      "           0.0150, 0.0150, 0.0150, 0.0150, 0.0150, 0.0150, 0.0150, 0.0150,\n",
      "           0.2307, 0.6895, 0.9013, 1.0072, 1.0072, 1.0072, 1.0072, 0.9719,\n",
      "           0.5366, 0.0581, 0.0150, 0.0150, 0.0150, 0.0150, 0.0150, 0.0150,\n",
      "           0.0150, 0.0150, 0.0150, 0.0150, 0.0150, 0.0150, 0.0150, 0.0150,\n",
      "           0.0150, 0.0150, 0.0150, 0.0150, 0.5483, 1.0072, 1.0072, 1.0072,\n",
      "           0.8464, 0.5444, 0.5326, 0.0777, 0.0150, 0.0150, 0.0150, 0.0150,\n",
      "           0.0150, 0.0150, 0.0150, 0.0150, 0.0150, 0.0150, 0.0150, 0.0150,\n",
      "           0.0150, 0.0150, 0.0150, 0.0150, 0.0150, 0.0150, 0.0150, 0.0150,\n",
      "           0.0150, 0.0150, 0.0150, 0.0150, 0.0150, 0.0150, 0.0150, 0.0150,\n",
      "           0.0150, 0.0150, 0.0150, 0.0150, 0.0150, 0.0150, 0.0150, 0.0150,\n",
      "           0.0150, 0.0150, 0.0150, 0.0150, 0.0150, 0.0150, 0.0150, 0.0150,\n",
      "           0.0150, 0.0150, 0.0150, 0.0150, 0.0150, 0.0150, 0.0150, 0.0150,\n",
      "           0.0150, 0.0150, 0.0150, 0.0150, 0.0150, 0.0150, 0.0150, 0.0150,\n",
      "           0.0150, 0.0150, 0.0150, 0.0150, 0.0150, 0.0150, 0.0150, 0.0150,\n",
      "           0.0150, 0.0150, 0.0150, 0.0150, 0.0150, 0.0150, 0.0150, 0.0150,\n",
      "           0.0150, 0.0150, 0.0150, 0.0150, 0.0150, 0.0150, 0.0150, 0.0150,\n",
      "           0.0150, 0.0150, 0.0150, 0.0150, 0.0150, 0.0150, 0.0150, 0.0150,\n",
      "           0.0150, 0.0150, 0.0150, 0.0150, 0.0150, 0.0150, 0.0150, 0.0150]]]])], [tensor([ 1, -1]), tensor([ 1, -1])], [Parameter containing:\n",
      "tensor([[-0.0063,  0.0152, -0.0266,  ...,  0.0076,  0.0078, -0.0153],\n",
      "        [-0.0220,  0.0021, -0.0281,  ..., -0.0212, -0.0152, -0.0128],\n",
      "        [-0.0124, -0.0096,  0.0225,  ...,  0.0064,  0.0160, -0.0358],\n",
      "        ...,\n",
      "        [-0.0289, -0.0080,  0.0312,  ..., -0.0167, -0.0095,  0.0132],\n",
      "        [ 0.0275,  0.0095, -0.0017,  ...,  0.0050,  0.0314, -0.0372],\n",
      "        [-0.0132, -0.0094,  0.0238,  ..., -0.0076, -0.0051,  0.0262]],\n",
      "       requires_grad=True), Parameter containing:\n",
      "tensor([[-0.0063,  0.0152, -0.0266,  ...,  0.0076,  0.0078, -0.0153],\n",
      "        [-0.0220,  0.0021, -0.0281,  ..., -0.0212, -0.0152, -0.0128],\n",
      "        [-0.0124, -0.0096,  0.0225,  ...,  0.0064,  0.0160, -0.0358],\n",
      "        ...,\n",
      "        [-0.0289, -0.0080,  0.0312,  ..., -0.0167, -0.0095,  0.0132],\n",
      "        [ 0.0275,  0.0095, -0.0017,  ...,  0.0050,  0.0314, -0.0372],\n",
      "        [-0.0132, -0.0094,  0.0238,  ..., -0.0076, -0.0051,  0.0262]],\n",
      "       requires_grad=True)], [Parameter containing:\n",
      "tensor([ 0.0305, -0.0227,  0.0406, -0.0142, -0.0305, -0.0031, -0.0121, -0.0167,\n",
      "        -0.0159,  0.0349,  0.0360,  0.0302, -0.0046, -0.0392,  0.0200, -0.0480,\n",
      "         0.0270, -0.0123, -0.0241, -0.0161, -0.0353, -0.0171,  0.0247,  0.0008,\n",
      "        -0.0305, -0.0129,  0.0355, -0.0249, -0.0294,  0.0330, -0.0321, -0.0130,\n",
      "        -0.0201,  0.0083,  0.0129,  0.0048,  0.0042, -0.0245, -0.0314, -0.0232,\n",
      "         0.0383,  0.0005,  0.0022, -0.0321, -0.0175,  0.0105,  0.0242, -0.0286,\n",
      "         0.0233,  0.0282,  0.0149,  0.0225, -0.0088,  0.0112,  0.0338,  0.0251,\n",
      "         0.0014,  0.0375, -0.0184,  0.0046,  0.0171,  0.0020,  0.0064,  0.0324,\n",
      "        -0.0345, -0.0245,  0.0165, -0.0230,  0.0257,  0.0099,  0.0038, -0.0082,\n",
      "        -0.0218,  0.0302,  0.0203, -0.0046,  0.0320, -0.0288,  0.0007, -0.0038,\n",
      "        -0.0330,  0.0287,  0.0082, -0.0257, -0.0204,  0.0282,  0.0315,  0.0183,\n",
      "        -0.0313, -0.0034,  0.0097,  0.0164, -0.0198,  0.0274, -0.0317,  0.0170,\n",
      "        -0.0001,  0.0070,  0.0006, -0.0243], requires_grad=True), Parameter containing:\n",
      "tensor([ 0.0305, -0.0227,  0.0406, -0.0142, -0.0305, -0.0031, -0.0121, -0.0167,\n",
      "        -0.0159,  0.0349,  0.0360,  0.0302, -0.0046, -0.0392,  0.0200, -0.0480,\n",
      "         0.0270, -0.0123, -0.0241, -0.0161, -0.0353, -0.0171,  0.0247,  0.0008,\n",
      "        -0.0305, -0.0129,  0.0355, -0.0249, -0.0294,  0.0330, -0.0321, -0.0130,\n",
      "        -0.0201,  0.0083,  0.0129,  0.0048,  0.0042, -0.0245, -0.0314, -0.0232,\n",
      "         0.0383,  0.0005,  0.0022, -0.0321, -0.0175,  0.0105,  0.0242, -0.0286,\n",
      "         0.0233,  0.0282,  0.0149,  0.0225, -0.0088,  0.0112,  0.0338,  0.0251,\n",
      "         0.0014,  0.0375, -0.0184,  0.0046,  0.0171,  0.0020,  0.0064,  0.0324,\n",
      "        -0.0345, -0.0245,  0.0165, -0.0230,  0.0257,  0.0099,  0.0038, -0.0082,\n",
      "        -0.0218,  0.0302,  0.0203, -0.0046,  0.0320, -0.0288,  0.0007, -0.0038,\n",
      "        -0.0330,  0.0287,  0.0082, -0.0257, -0.0204,  0.0282,  0.0315,  0.0183,\n",
      "        -0.0313, -0.0034,  0.0097,  0.0164, -0.0198,  0.0274, -0.0317,  0.0170,\n",
      "        -0.0001,  0.0070,  0.0006, -0.0243], requires_grad=True)], [Parameter containing:\n",
      "tensor([[ 0.0733, -0.0149,  0.0276,  ..., -0.1027,  0.0939,  0.2366],\n",
      "        [-0.0132,  0.0226,  0.1007,  ...,  0.0050, -0.0576,  0.1150],\n",
      "        [ 0.0086, -0.0934, -0.0128,  ..., -0.0397, -0.1110,  0.0107],\n",
      "        ...,\n",
      "        [-0.1203,  0.0902, -0.0047,  ...,  0.0382,  0.0897, -0.0441],\n",
      "        [ 0.1554,  0.1097,  0.0255,  ...,  0.0934,  0.0497, -0.0037],\n",
      "        [-0.0471, -0.1371,  0.1226,  ..., -0.1347,  0.1253,  0.0410]],\n",
      "       requires_grad=True), Parameter containing:\n",
      "tensor([[ 0.0733, -0.0149,  0.0276,  ..., -0.1027,  0.0939,  0.2366],\n",
      "        [-0.0132,  0.0226,  0.1007,  ...,  0.0050, -0.0576,  0.1150],\n",
      "        [ 0.0086, -0.0934, -0.0128,  ..., -0.0397, -0.1110,  0.0107],\n",
      "        ...,\n",
      "        [-0.1203,  0.0902, -0.0047,  ...,  0.0382,  0.0897, -0.0441],\n",
      "        [ 0.1554,  0.1097,  0.0255,  ...,  0.0934,  0.0497, -0.0037],\n",
      "        [-0.0471, -0.1371,  0.1226,  ..., -0.1347,  0.1253,  0.0410]],\n",
      "       requires_grad=True)], [Parameter containing:\n",
      "tensor([-0.0155,  0.0878,  0.1028, -0.0338,  0.0121, -0.0383, -0.1009, -0.0531,\n",
      "         0.0372, -0.0068,  0.1064,  0.0548,  0.0436, -0.0614, -0.0319, -0.0239,\n",
      "         0.0213,  0.0215, -0.0037,  0.0500, -0.0314, -0.0451, -0.0922,  0.1019,\n",
      "         0.1014, -0.0417, -0.0702, -0.0144,  0.0405,  0.0014],\n",
      "       requires_grad=True), Parameter containing:\n",
      "tensor([-0.0155,  0.0878,  0.1028, -0.0338,  0.0121, -0.0383, -0.1009, -0.0531,\n",
      "         0.0372, -0.0068,  0.1064,  0.0548,  0.0436, -0.0614, -0.0319, -0.0239,\n",
      "         0.0213,  0.0215, -0.0037,  0.0500, -0.0314, -0.0451, -0.0922,  0.1019,\n",
      "         0.1014, -0.0417, -0.0702, -0.0144,  0.0405,  0.0014],\n",
      "       requires_grad=True)], [Parameter containing:\n",
      "tensor([[-0.0402, -0.0008, -0.0378,  0.2007,  0.0092,  0.3567, -0.3108, -0.1115,\n",
      "         -0.3851,  0.2347, -0.4180,  0.0431,  0.1064, -0.0420, -0.0880, -0.5923,\n",
      "          0.4611, -0.1881,  0.0931, -0.1584,  0.0169,  0.0914, -0.2351, -0.2532,\n",
      "          0.4521, -0.1328,  0.3962,  0.1192,  0.1994,  0.4661],\n",
      "        [-0.5259,  0.3585, -0.1929,  0.2733,  0.1164,  0.0573,  0.3213, -0.2049,\n",
      "         -0.1815,  0.0966, -0.2237, -0.2323, -0.3397,  0.1144, -0.1146,  0.6724,\n",
      "         -0.1625, -0.1480,  0.0380,  0.5711,  0.2311, -0.1515, -0.1518, -0.1177,\n",
      "         -0.4901,  0.2091,  0.0261, -0.0671,  0.3346,  0.0455],\n",
      "        [-0.2912, -0.2149, -0.0980, -0.0210,  0.6249, -0.0763,  0.6105, -0.0841,\n",
      "          0.3313,  0.2072,  0.0524, -0.5719,  0.1723,  0.1721,  0.1090, -0.4579,\n",
      "          0.6728, -0.2039, -0.0311, -0.1583, -0.0382,  0.2282,  0.4262,  0.3224,\n",
      "          0.0612, -0.0645,  0.2107, -0.2557, -0.2395,  0.1249],\n",
      "        [-0.3810,  0.0286, -0.3639, -0.1911, -0.1389, -0.3427, -0.3014, -0.0305,\n",
      "          0.4733, -0.2808, -0.0428,  0.1215,  0.3349,  0.0905,  0.0628,  0.2642,\n",
      "          0.2764, -0.4668, -0.0398,  0.0467,  0.1714,  0.3876,  0.5263,  0.3510,\n",
      "          0.4748,  0.1266, -0.0867, -0.0531,  0.2412, -0.3276],\n",
      "        [ 0.5621, -0.1280,  0.3850,  0.2550, -0.4003,  0.2895, -0.1386,  0.3526,\n",
      "         -0.1507,  0.3399,  0.3626,  0.1870, -0.1776, -0.0591, -0.0359,  0.1120,\n",
      "          0.3080, -0.0742, -0.0859, -0.3202,  0.2131, -0.3750, -0.1150, -0.0448,\n",
      "         -0.3423, -0.0684, -0.5023, -0.5118, -0.0189, -0.2633],\n",
      "        [ 0.3821,  0.5480, -0.3664,  0.2032, -0.3053, -0.5306,  0.3620, -0.3210,\n",
      "          0.0573, -0.1019,  0.4754,  0.1955, -0.2935,  0.1806,  0.0573,  0.1832,\n",
      "         -0.6357,  0.2447,  0.1131, -0.0700, -0.4215,  0.5041, -0.1638, -0.2057,\n",
      "          0.4197,  0.0659,  0.0977, -0.0203, -0.0555,  0.3417],\n",
      "        [-0.1355,  0.0382, -0.2589, -0.0290,  0.2248, -0.1152, -0.3354,  0.2846,\n",
      "          0.1147,  0.5204, -0.2341,  0.1602,  0.0587,  0.1214, -0.0376, -0.2037,\n",
      "         -0.1557,  0.5764, -0.1153, -0.1417, -0.0772,  0.0221, -0.1455, -0.6699,\n",
      "         -0.1183, -0.0068,  0.4060, -0.4295, -0.0832,  0.2399],\n",
      "        [-0.0508,  0.1170,  0.5566, -0.2024, -0.1530, -0.2289,  0.5579, -0.4903,\n",
      "          0.1670, -0.0424, -0.4841, -0.3763,  0.3090, -0.0957,  0.1598,  0.1437,\n",
      "         -0.0125, -0.0083, -0.1768, -0.3804, -0.1778, -0.3260,  0.1984,  0.6300,\n",
      "          0.3436,  0.0655, -0.3693,  0.1403, -0.1497, -0.0773],\n",
      "        [ 0.4501, -0.5313, -0.0040, -0.2840,  0.6526,  0.2250, -0.5432,  0.0629,\n",
      "          0.1360, -0.4301,  0.3476, -0.0904, -0.0185, -0.0120, -0.1539, -0.2372,\n",
      "         -0.3012, -0.2590, -0.0665,  0.5122,  0.1451,  0.0697, -0.3350, -0.3055,\n",
      "         -0.0916,  0.0933, -0.1355,  0.5916, -0.2777, -0.3067],\n",
      "        [-0.2338, -0.2317,  0.3029, -0.2144, -0.5520,  0.1567, -0.4119,  0.1013,\n",
      "         -0.6448, -0.1850,  0.2646,  0.6075,  0.0709,  0.0360,  0.0256, -0.0961,\n",
      "          0.1203, -0.1071, -0.0106, -0.1378,  0.3161,  0.0537, -0.0024,  0.2408,\n",
      "         -0.4146, -0.2190,  0.0814,  0.5924,  0.0335, -0.3396]],\n",
      "       requires_grad=True), Parameter containing:\n",
      "tensor([[-0.0402, -0.0008, -0.0378,  0.2007,  0.0092,  0.3567, -0.3108, -0.1115,\n",
      "         -0.3851,  0.2347, -0.4180,  0.0431,  0.1064, -0.0420, -0.0880, -0.5923,\n",
      "          0.4611, -0.1881,  0.0931, -0.1584,  0.0169,  0.0914, -0.2351, -0.2532,\n",
      "          0.4521, -0.1328,  0.3962,  0.1192,  0.1994,  0.4661],\n",
      "        [-0.5259,  0.3585, -0.1929,  0.2733,  0.1164,  0.0573,  0.3213, -0.2049,\n",
      "         -0.1815,  0.0966, -0.2237, -0.2323, -0.3397,  0.1144, -0.1146,  0.6724,\n",
      "         -0.1625, -0.1480,  0.0380,  0.5711,  0.2311, -0.1515, -0.1518, -0.1177,\n",
      "         -0.4901,  0.2091,  0.0261, -0.0671,  0.3346,  0.0455],\n",
      "        [-0.2912, -0.2149, -0.0980, -0.0210,  0.6249, -0.0763,  0.6105, -0.0841,\n",
      "          0.3313,  0.2072,  0.0524, -0.5719,  0.1723,  0.1721,  0.1090, -0.4579,\n",
      "          0.6728, -0.2039, -0.0311, -0.1583, -0.0382,  0.2282,  0.4262,  0.3224,\n",
      "          0.0612, -0.0645,  0.2107, -0.2557, -0.2395,  0.1249],\n",
      "        [-0.3810,  0.0286, -0.3639, -0.1911, -0.1389, -0.3427, -0.3014, -0.0305,\n",
      "          0.4733, -0.2808, -0.0428,  0.1215,  0.3349,  0.0905,  0.0628,  0.2642,\n",
      "          0.2764, -0.4668, -0.0398,  0.0467,  0.1714,  0.3876,  0.5263,  0.3510,\n",
      "          0.4748,  0.1266, -0.0867, -0.0531,  0.2412, -0.3276],\n",
      "        [ 0.5621, -0.1280,  0.3850,  0.2550, -0.4003,  0.2895, -0.1386,  0.3526,\n",
      "         -0.1507,  0.3399,  0.3626,  0.1870, -0.1776, -0.0591, -0.0359,  0.1120,\n",
      "          0.3080, -0.0742, -0.0859, -0.3202,  0.2131, -0.3750, -0.1150, -0.0448,\n",
      "         -0.3423, -0.0684, -0.5023, -0.5118, -0.0189, -0.2633],\n",
      "        [ 0.3821,  0.5480, -0.3664,  0.2032, -0.3053, -0.5306,  0.3620, -0.3210,\n",
      "          0.0573, -0.1019,  0.4754,  0.1955, -0.2935,  0.1806,  0.0573,  0.1832,\n",
      "         -0.6357,  0.2447,  0.1131, -0.0700, -0.4215,  0.5041, -0.1638, -0.2057,\n",
      "          0.4197,  0.0659,  0.0977, -0.0203, -0.0555,  0.3417],\n",
      "        [-0.1355,  0.0382, -0.2589, -0.0290,  0.2248, -0.1152, -0.3354,  0.2846,\n",
      "          0.1147,  0.5204, -0.2341,  0.1602,  0.0587,  0.1214, -0.0376, -0.2037,\n",
      "         -0.1557,  0.5764, -0.1153, -0.1417, -0.0772,  0.0221, -0.1455, -0.6699,\n",
      "         -0.1183, -0.0068,  0.4060, -0.4295, -0.0832,  0.2399],\n",
      "        [-0.0508,  0.1170,  0.5566, -0.2024, -0.1530, -0.2289,  0.5579, -0.4903,\n",
      "          0.1670, -0.0424, -0.4841, -0.3763,  0.3090, -0.0957,  0.1598,  0.1437,\n",
      "         -0.0125, -0.0083, -0.1768, -0.3804, -0.1778, -0.3260,  0.1984,  0.6300,\n",
      "          0.3436,  0.0655, -0.3693,  0.1403, -0.1497, -0.0773],\n",
      "        [ 0.4501, -0.5313, -0.0040, -0.2840,  0.6526,  0.2250, -0.5432,  0.0629,\n",
      "          0.1360, -0.4301,  0.3476, -0.0904, -0.0185, -0.0120, -0.1539, -0.2372,\n",
      "         -0.3012, -0.2590, -0.0665,  0.5122,  0.1451,  0.0697, -0.3350, -0.3055,\n",
      "         -0.0916,  0.0933, -0.1355,  0.5916, -0.2777, -0.3067],\n",
      "        [-0.2338, -0.2317,  0.3029, -0.2144, -0.5520,  0.1567, -0.4119,  0.1013,\n",
      "         -0.6448, -0.1850,  0.2646,  0.6075,  0.0709,  0.0360,  0.0256, -0.0961,\n",
      "          0.1203, -0.1071, -0.0106, -0.1378,  0.3161,  0.0537, -0.0024,  0.2408,\n",
      "         -0.4146, -0.2190,  0.0814,  0.5924,  0.0335, -0.3396]],\n",
      "       requires_grad=True)], [Parameter containing:\n",
      "tensor([-0.2423,  0.0931, -0.1346,  0.0080,  0.0686, -0.1425, -0.1542, -0.0407,\n",
      "         0.0648,  0.1963], requires_grad=True), Parameter containing:\n",
      "tensor([-0.2423,  0.0931, -0.1346,  0.0080,  0.0686, -0.1425, -0.1542, -0.0407,\n",
      "         0.0648,  0.1963], requires_grad=True)]]\n"
     ]
    }
   ],
   "source": [
    "model.compute_bounds(x=(x,), method='crown')"
   ],
   "metadata": {
    "collapsed": false,
    "ExecuteTime": {
     "end_time": "2024-05-06T18:01:27.516337198Z",
     "start_time": "2024-05-06T18:01:27.468195039Z"
    }
   },
   "id": "55bc27f7406d3d05",
   "execution_count": 15
  },
  {
   "cell_type": "code",
   "outputs": [
    {
     "name": "stdout",
     "output_type": "stream",
     "text": [
      "tensor([[[[0.0300, 0.0300, 0.0300, 0.0300, 0.0300, 0.0300, 0.0300, 0.0300,\n",
      "           0.0300, 0.0300, 0.0300, 0.0300, 0.0300, 0.0300, 0.0300, 0.0300,\n",
      "           0.0300, 0.0300, 0.0300, 0.0300, 0.0300, 0.0300, 0.0300, 0.0300,\n",
      "           0.0300, 0.0300, 0.0300, 0.0300, 0.0300, 0.0300, 0.0300, 0.0300,\n",
      "           0.0300, 0.0300, 0.0300, 0.0300, 0.0300, 0.0300, 0.0300, 0.0300,\n",
      "           0.0300, 0.0300, 0.0300, 0.0300, 0.0300, 0.0300, 0.0300, 0.0300,\n",
      "           0.0300, 0.0300, 0.0300, 0.0300, 0.0300, 0.0300, 0.0300, 0.0300,\n",
      "           0.0300, 0.0300, 0.0300, 0.0300, 0.0300, 0.0300, 0.0300, 0.0300,\n",
      "           0.0300, 0.0300, 0.0300, 0.0300, 0.0300, 0.0300, 0.0300, 0.0300,\n",
      "           0.0300, 0.0300, 0.0300, 0.0300, 0.0300, 0.0300, 0.0300, 0.0300,\n",
      "           0.0300, 0.0300, 0.0300, 0.0300, 0.0300, 0.0300, 0.0300, 0.0300,\n",
      "           0.0300, 0.0300, 0.0300, 0.0300, 0.0300, 0.0300, 0.0300, 0.0300,\n",
      "           0.0300, 0.0300, 0.0300, 0.0300, 0.0300, 0.0300, 0.0300, 0.0300,\n",
      "           0.0300, 0.0300, 0.0300, 0.0300, 0.0300, 0.0300, 0.0300, 0.0300,\n",
      "           0.0300, 0.0300, 0.0300, 0.0300, 0.0300, 0.0300, 0.0300, 0.0300,\n",
      "           0.0300, 0.0300, 0.0300, 0.0300, 0.0300, 0.0300, 0.0300, 0.0300,\n",
      "           0.0300, 0.0300, 0.0300, 0.0300, 0.0300, 0.0300, 0.0300, 0.0300,\n",
      "           0.0300, 0.0300, 0.0300, 0.0300, 0.0300, 0.0300, 0.0300, 0.0300,\n",
      "           0.0300, 0.0300, 0.0300, 0.0300, 0.0300, 0.0300, 0.0300, 0.0300,\n",
      "           0.0300, 0.0300, 0.0300, 0.0300, 0.0300, 0.0300, 0.0300, 0.0300,\n",
      "           0.0300, 0.0300, 0.0300, 0.0300, 0.0300, 0.0300, 0.0300, 0.0300,\n",
      "           0.0300, 0.0300, 0.0300, 0.0300, 0.0300, 0.0300, 0.0300, 0.0300,\n",
      "           0.0300, 0.0300, 0.0300, 0.0300, 0.0300, 0.0300, 0.0300, 0.0300,\n",
      "           0.0300, 0.0300, 0.0300, 0.0300, 0.0300, 0.0300, 0.0300, 0.0300,\n",
      "           0.0300, 0.0300, 0.0300, 0.0300, 0.0300, 0.0300, 0.0300, 0.0300,\n",
      "           0.0300, 0.0300, 0.0300, 0.0300, 0.0300, 0.0300, 0.0300, 0.0300,\n",
      "           0.0300, 0.0300, 0.0300, 0.0300, 0.0300, 0.0300, 0.0300, 0.0300,\n",
      "           0.0300, 0.0300, 0.0300, 0.0300, 0.0300, 0.0300, 0.0300, 0.0300,\n",
      "           0.0300, 0.0300, 0.0300, 0.0300, 0.0300, 0.0300, 0.0300, 0.0300,\n",
      "           0.0300, 0.0300, 0.0300, 0.0300, 0.0300, 0.0300, 0.0300, 0.0300,\n",
      "           0.0300, 0.0300, 0.0300, 0.0300, 0.0300, 0.0300, 0.0300, 0.0300,\n",
      "           0.0300, 0.0300, 0.0300, 0.0300, 0.0300, 0.0300, 0.0300, 0.0300,\n",
      "           0.0300, 0.0300, 0.0300, 0.0300, 0.0300, 0.0300, 0.0300, 0.0300,\n",
      "           0.0300, 0.0300, 0.0300, 0.0300, 0.0300, 0.0300, 0.0300, 0.0300,\n",
      "           0.0300, 0.0300, 0.0300, 0.0300, 0.0300, 0.0300, 0.0300, 0.0300,\n",
      "           0.0300, 0.0300, 0.0300, 0.0300, 0.0300, 0.0300, 0.0300, 0.0300,\n",
      "           0.0300, 0.0300, 0.0300, 0.0300, 0.0300, 0.0300, 0.0300, 0.0300,\n",
      "           0.0300, 0.0300, 0.0300, 0.0300, 0.0300, 0.0300, 0.0300, 0.0300,\n",
      "           0.0300, 0.0300, 0.0300, 0.0300, 0.0300, 0.0300, 0.0300, 0.0300,\n",
      "           0.0300, 0.0300, 0.0300, 0.0300, 0.0300, 0.0300, 0.0300, 0.0300,\n",
      "           0.0300, 0.0300, 0.0300, 0.0300, 0.0300, 0.0300, 0.0300, 0.0300,\n",
      "           0.0300, 0.0300, 0.0300, 0.0300, 0.0300, 0.0300, 0.0300, 0.0300,\n",
      "           0.0300, 0.0300, 0.0300, 0.0300, 0.0300, 0.0300, 0.0300, 0.0300,\n",
      "           0.0300, 0.0300, 0.0300, 0.0300, 0.0300, 0.0300, 0.0300, 0.0300,\n",
      "           0.0300, 0.0300, 0.0300, 0.0300, 0.0300, 0.0300, 0.0300, 0.0300,\n",
      "           0.0300, 0.0300, 0.0300, 0.0300, 0.0300, 0.0300, 0.0300, 0.0300,\n",
      "           0.0300, 0.0300, 0.0300, 0.0300, 0.0300, 0.0300, 0.0300, 0.0300,\n",
      "           0.0300, 0.0300, 0.0300, 0.0300, 0.0300, 0.0300, 0.0300, 0.0300,\n",
      "           0.0300, 0.0300, 0.0300, 0.0300, 0.0300, 0.0300, 0.0300, 0.0300,\n",
      "           0.0300, 0.0300, 0.0300, 0.0300, 0.0300, 0.0300, 0.0300, 0.0300,\n",
      "           0.0300, 0.0300, 0.0300, 0.0300, 0.0300, 0.0300, 0.0300, 0.0300,\n",
      "           0.0300, 0.0300, 0.0300, 0.0300, 0.0300, 0.0300, 0.0300, 0.0300,\n",
      "           0.0300, 0.0300, 0.0300, 0.0300, 0.0300, 0.0300, 0.0300, 0.0300,\n",
      "           0.0300, 0.0300, 0.0300, 0.0300, 0.0300, 0.0300, 0.0300, 0.0300,\n",
      "           0.0300, 0.0300, 0.0300, 0.0300, 0.0300, 0.0300, 0.0300, 0.0300,\n",
      "           0.0300, 0.0300, 0.0300, 0.0300, 0.0300, 0.0300, 0.0300, 0.0300,\n",
      "           0.0300, 0.0300, 0.0300, 0.0300, 0.0300, 0.0300, 0.0300, 0.0300,\n",
      "           0.0300, 0.0300, 0.0300, 0.0300, 0.0300, 0.0300, 0.0300, 0.0300,\n",
      "           0.0300, 0.0300, 0.0300, 0.0300, 0.0300, 0.0300, 0.0300, 0.0300,\n",
      "           0.0300, 0.0300, 0.0300, 0.0300, 0.0300, 0.0300, 0.0300, 0.0300,\n",
      "           0.0300, 0.0300, 0.0300, 0.0300, 0.0300, 0.0300, 0.0300, 0.0300,\n",
      "           0.0300, 0.0300, 0.0300, 0.0300, 0.0300, 0.0300, 0.0300, 0.0300,\n",
      "           0.0300, 0.0300, 0.0300, 0.0300, 0.0300, 0.0300, 0.0300, 0.0300,\n",
      "           0.0300, 0.0300, 0.0300, 0.0300, 0.0300, 0.0300, 0.0300, 0.0300,\n",
      "           0.0300, 0.0300, 0.0300, 0.0300, 0.0300, 0.0300, 0.0300, 0.0300,\n",
      "           0.0300, 0.0300, 0.0300, 0.0300, 0.0300, 0.0300, 0.0300, 0.0300,\n",
      "           0.0300, 0.0300, 0.0300, 0.0300, 0.0300, 0.0300, 0.0300, 0.0300,\n",
      "           0.0300, 0.0300, 0.0300, 0.0300, 0.0300, 0.0300, 0.0300, 0.0300,\n",
      "           0.0300, 0.0300, 0.0300, 0.0300, 0.0300, 0.0300, 0.0300, 0.0300,\n",
      "           0.0300, 0.0300, 0.0300, 0.0300, 0.0300, 0.0300, 0.0300, 0.0300,\n",
      "           0.0300, 0.0300, 0.0300, 0.0300, 0.0300, 0.0300, 0.0300, 0.0300,\n",
      "           0.0300, 0.0300, 0.0300, 0.0300, 0.0300, 0.0300, 0.0300, 0.0300,\n",
      "           0.0300, 0.0300, 0.0300, 0.0300, 0.0300, 0.0300, 0.0300, 0.0300,\n",
      "           0.0300, 0.0300, 0.0300, 0.0300, 0.0300, 0.0300, 0.0300, 0.0300,\n",
      "           0.0300, 0.0300, 0.0300, 0.0300, 0.0300, 0.0300, 0.0300, 0.0300,\n",
      "           0.0300, 0.0300, 0.0300, 0.0300, 0.0300, 0.0300, 0.0300, 0.0300,\n",
      "           0.0300, 0.0300, 0.0300, 0.0300, 0.0300, 0.0300, 0.0300, 0.0300,\n",
      "           0.0300, 0.0300, 0.0300, 0.0300, 0.0300, 0.0300, 0.0300, 0.0300,\n",
      "           0.0300, 0.0300, 0.0300, 0.0300, 0.0300, 0.0300, 0.0300, 0.0300,\n",
      "           0.0300, 0.0300, 0.0300, 0.0300, 0.0300, 0.0300, 0.0300, 0.0300,\n",
      "           0.0300, 0.0300, 0.0300, 0.0300, 0.0300, 0.0300, 0.0300, 0.0300,\n",
      "           0.0300, 0.0300, 0.0300, 0.0300, 0.0300, 0.0300, 0.0300, 0.0300,\n",
      "           0.0300, 0.0300, 0.0300, 0.0300, 0.0300, 0.0300, 0.0300, 0.0300,\n",
      "           0.0300, 0.0300, 0.0300, 0.0300, 0.0300, 0.0300, 0.0300, 0.0300,\n",
      "           0.0300, 0.0300, 0.0300, 0.0300, 0.0300, 0.0300, 0.0300, 0.0300,\n",
      "           0.0300, 0.0300, 0.0300, 0.0300, 0.0300, 0.0300, 0.0300, 0.0300,\n",
      "           0.0300, 0.0300, 0.0300, 0.0300, 0.0300, 0.0300, 0.0300, 0.0300,\n",
      "           0.0300, 0.0300, 0.0300, 0.0300, 0.0300, 0.0300, 0.0300, 0.0300,\n",
      "           0.0300, 0.0300, 0.0300, 0.0300, 0.0300, 0.0300, 0.0300, 0.0300,\n",
      "           0.0300, 0.0300, 0.0300, 0.0300, 0.0300, 0.0300, 0.0300, 0.0300,\n",
      "           0.0300, 0.0300, 0.0300, 0.0300, 0.0300, 0.0300, 0.0300, 0.0300,\n",
      "           0.0300, 0.0300, 0.0300, 0.0300, 0.0300, 0.0300, 0.0300, 0.0300,\n",
      "           0.0300, 0.0300, 0.0300, 0.0300, 0.0300, 0.0300, 0.0300, 0.0300,\n",
      "           0.0300, 0.0300, 0.0300, 0.0300, 0.0300, 0.0300, 0.0300, 0.0300,\n",
      "           0.0300, 0.0300, 0.0300, 0.0300, 0.0300, 0.0300, 0.0300, 0.0300,\n",
      "           0.0300, 0.0300, 0.0300, 0.0300, 0.0300, 0.0300, 0.0300, 0.0300,\n",
      "           0.0300, 0.0300, 0.0300, 0.0300, 0.0300, 0.0300, 0.0300, 0.0300,\n",
      "           0.0300, 0.0300, 0.0300, 0.0300, 0.0300, 0.0300, 0.0300, 0.0300]]]])\n",
      "tensor([0, 0])\n",
      "tensor([[0., 0., 0.,  ..., 0., 0., 0.],\n",
      "        [0., 0., 0.,  ..., 0., 0., 0.],\n",
      "        [0., 0., 0.,  ..., 0., 0., 0.],\n",
      "        ...,\n",
      "        [0., 0., 0.,  ..., 0., 0., 0.],\n",
      "        [0., 0., 0.,  ..., 0., 0., 0.],\n",
      "        [0., 0., 0.,  ..., 0., 0., 0.]], grad_fn=<SubBackward0>)\n",
      "tensor([0., 0., 0., 0., 0., 0., 0., 0., 0., 0., 0., 0., 0., 0., 0., 0., 0., 0., 0., 0., 0., 0., 0., 0.,\n",
      "        0., 0., 0., 0., 0., 0., 0., 0., 0., 0., 0., 0., 0., 0., 0., 0., 0., 0., 0., 0., 0., 0., 0., 0.,\n",
      "        0., 0., 0., 0., 0., 0., 0., 0., 0., 0., 0., 0., 0., 0., 0., 0., 0., 0., 0., 0., 0., 0., 0., 0.,\n",
      "        0., 0., 0., 0., 0., 0., 0., 0., 0., 0., 0., 0., 0., 0., 0., 0., 0., 0., 0., 0., 0., 0., 0., 0.,\n",
      "        0., 0., 0., 0.], grad_fn=<SubBackward0>)\n",
      "tensor([[0., 0., 0.,  ..., 0., 0., 0.],\n",
      "        [0., 0., 0.,  ..., 0., 0., 0.],\n",
      "        [0., 0., 0.,  ..., 0., 0., 0.],\n",
      "        ...,\n",
      "        [0., 0., 0.,  ..., 0., 0., 0.],\n",
      "        [0., 0., 0.,  ..., 0., 0., 0.],\n",
      "        [0., 0., 0.,  ..., 0., 0., 0.]], grad_fn=<SubBackward0>)\n",
      "tensor([0., 0., 0., 0., 0., 0., 0., 0., 0., 0., 0., 0., 0., 0., 0., 0., 0., 0., 0., 0., 0., 0., 0., 0.,\n",
      "        0., 0., 0., 0., 0., 0.], grad_fn=<SubBackward0>)\n",
      "tensor([[0., 0., 0., 0., 0., 0., 0., 0., 0., 0., 0., 0., 0., 0., 0., 0., 0., 0., 0., 0., 0., 0., 0., 0.,\n",
      "         0., 0., 0., 0., 0., 0.],\n",
      "        [0., 0., 0., 0., 0., 0., 0., 0., 0., 0., 0., 0., 0., 0., 0., 0., 0., 0., 0., 0., 0., 0., 0., 0.,\n",
      "         0., 0., 0., 0., 0., 0.],\n",
      "        [0., 0., 0., 0., 0., 0., 0., 0., 0., 0., 0., 0., 0., 0., 0., 0., 0., 0., 0., 0., 0., 0., 0., 0.,\n",
      "         0., 0., 0., 0., 0., 0.],\n",
      "        [0., 0., 0., 0., 0., 0., 0., 0., 0., 0., 0., 0., 0., 0., 0., 0., 0., 0., 0., 0., 0., 0., 0., 0.,\n",
      "         0., 0., 0., 0., 0., 0.],\n",
      "        [0., 0., 0., 0., 0., 0., 0., 0., 0., 0., 0., 0., 0., 0., 0., 0., 0., 0., 0., 0., 0., 0., 0., 0.,\n",
      "         0., 0., 0., 0., 0., 0.],\n",
      "        [0., 0., 0., 0., 0., 0., 0., 0., 0., 0., 0., 0., 0., 0., 0., 0., 0., 0., 0., 0., 0., 0., 0., 0.,\n",
      "         0., 0., 0., 0., 0., 0.],\n",
      "        [0., 0., 0., 0., 0., 0., 0., 0., 0., 0., 0., 0., 0., 0., 0., 0., 0., 0., 0., 0., 0., 0., 0., 0.,\n",
      "         0., 0., 0., 0., 0., 0.],\n",
      "        [0., 0., 0., 0., 0., 0., 0., 0., 0., 0., 0., 0., 0., 0., 0., 0., 0., 0., 0., 0., 0., 0., 0., 0.,\n",
      "         0., 0., 0., 0., 0., 0.],\n",
      "        [0., 0., 0., 0., 0., 0., 0., 0., 0., 0., 0., 0., 0., 0., 0., 0., 0., 0., 0., 0., 0., 0., 0., 0.,\n",
      "         0., 0., 0., 0., 0., 0.],\n",
      "        [0., 0., 0., 0., 0., 0., 0., 0., 0., 0., 0., 0., 0., 0., 0., 0., 0., 0., 0., 0., 0., 0., 0., 0.,\n",
      "         0., 0., 0., 0., 0., 0.]], grad_fn=<SubBackward0>)\n",
      "tensor([0., 0., 0., 0., 0., 0., 0., 0., 0., 0.], grad_fn=<SubBackward0>)\n"
     ]
    }
   ],
   "source": [
    "bounds = []\n",
    "for layer_name in model.input_name:\n",
    "    layer = model[layer_name]\n",
    "    lower = layer.lower\n",
    "    upper = layer.upper\n",
    "    bounds.append([lower, upper])\n",
    "    \n",
    "print(bounds)"
   ],
   "metadata": {
    "collapsed": false,
    "ExecuteTime": {
     "end_time": "2024-05-06T18:32:28.245784656Z",
     "start_time": "2024-05-06T18:32:28.232582394Z"
    }
   },
   "id": "90f16476818d0335",
   "execution_count": 20
  }
 ],
 "metadata": {
  "kernelspec": {
   "display_name": "Python 3",
   "language": "python",
   "name": "python3"
  },
  "language_info": {
   "codemirror_mode": {
    "name": "ipython",
    "version": 2
   },
   "file_extension": ".py",
   "mimetype": "text/x-python",
   "name": "python",
   "nbconvert_exporter": "python",
   "pygments_lexer": "ipython2",
   "version": "2.7.6"
  }
 },
 "nbformat": 4,
 "nbformat_minor": 5
}
