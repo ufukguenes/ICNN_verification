{
 "cells": [
  {
   "cell_type": "code",
   "execution_count": 3,
   "id": "initial_id",
   "metadata": {
    "collapsed": true,
    "ExecuteTime": {
     "end_time": "2024-03-14T14:11:00.618467038Z",
     "start_time": "2024-03-14T14:11:00.617409501Z"
    }
   },
   "outputs": [],
   "source": [
    "import torch\n",
    "import time\n",
    "from script.NeuralNets.Networks import SequentialNN\n",
    "from script.settings import device, data_type\n",
    "import script.DHOV.MultiDHOV as multidhov\n",
    "from script.Verification.Verifier import SingleNeuronVerifier, MILPVerifier\n",
    "import gurobipy as grp\n",
    "from torchvision.datasets import MNIST\n",
    "from torchvision.transforms import Compose, ToTensor, Normalize\n",
    "from script.NeuralNets.ICNNFactory import ICNNFactory\n",
    "import matplotlib.pyplot as plt\n",
    "import onnx\n",
    "from onnx2pytorch import ConvertModel"
   ]
  },
  {
   "cell_type": "code",
   "outputs": [
    {
     "ename": "ModuleNotFoundError",
     "evalue": "No module named 'auto_LiRPA'",
     "output_type": "error",
     "traceback": [
      "\u001B[0;31m---------------------------------------------------------------------------\u001B[0m",
      "\u001B[0;31mModuleNotFoundError\u001B[0m                       Traceback (most recent call last)",
      "Cell \u001B[0;32mIn[2], line 3\u001B[0m\n\u001B[1;32m      1\u001B[0m \u001B[38;5;28;01mimport\u001B[39;00m \u001B[38;5;21;01monnx\u001B[39;00m\n\u001B[1;32m      2\u001B[0m \u001B[38;5;28;01mfrom\u001B[39;00m \u001B[38;5;21;01monnx2pytorch\u001B[39;00m \u001B[38;5;28;01mimport\u001B[39;00m ConvertModel\n\u001B[0;32m----> 3\u001B[0m \u001B[38;5;28;01mfrom\u001B[39;00m \u001B[38;5;21;01mauto_LiRPA\u001B[39;00m \u001B[38;5;28;01mimport\u001B[39;00m BoundedModule, BoundedTensor, PerturbationLpNorm\n\u001B[1;32m      5\u001B[0m \u001B[38;5;28;01mfrom\u001B[39;00m \u001B[38;5;21;01mvnnlib\u001B[39;00m\u001B[38;5;21;01m.\u001B[39;00m\u001B[38;5;21;01mcompat\u001B[39;00m \u001B[38;5;28;01mimport\u001B[39;00m read_vnnlib_simple\n\u001B[1;32m      7\u001B[0m \u001B[38;5;28;01mimport\u001B[39;00m \u001B[38;5;21;01mtorch\u001B[39;00m\n",
      "\u001B[0;31mModuleNotFoundError\u001B[0m: No module named 'auto_LiRPA'"
     ]
    }
   ],
   "source": [
    "\n",
    "from auto_LiRPA import BoundedModule, BoundedTensor, PerturbationLpNorm\n",
    "\n",
    "from vnnlib.compat import read_vnnlib_simple\n",
    "\n",
    "import torch\n",
    "import numpy as np\n",
    "from collections import OrderedDict"
   ],
   "metadata": {
    "collapsed": false,
    "ExecuteTime": {
     "end_time": "2024-03-14T14:10:54.658252944Z",
     "start_time": "2024-03-14T14:10:54.438674349Z"
    }
   },
   "id": "b5b542708d5a0294",
   "execution_count": 2
  },
  {
   "cell_type": "code",
   "outputs": [],
   "source": [
    "def load_onnx_model(onnx_path, input_shape):\n",
    "    onnx_model = onnx.load(onnx_path)\n",
    "    torch_model = ConvertModel(onnx_model)\n",
    "    \n",
    "    x_concrete = torch.zeros(input_shape)\n",
    "    model = BoundedModule(torch_model, x_concrete)\n",
    "    return model"
   ],
   "metadata": {
    "collapsed": false,
    "ExecuteTime": {
     "end_time": "2024-03-14T14:11:04.282283860Z",
     "start_time": "2024-03-14T14:11:04.275154371Z"
    }
   },
   "id": "79d9b09202c20fee",
   "execution_count": 4
  },
  {
   "cell_type": "code",
   "outputs": [],
   "source": [
    "def load_vnnlib_spec(vnnlib_path, input_shape, n_out):\n",
    "    n_in = np.prod(input_shape)\n",
    "    res = read_vnnlib_simple(vnnlib_path, n_in, n_out)\n",
    "    bnds, spec = res[0]\n",
    "    \n",
    "    bnds = np.array(bnds)\n",
    "    lbs = bnds[:,0]\n",
    "    ubs = bnds[:,1]\n",
    "    \n",
    "    data_min = torch.tensor(lbs, dtype=torch.float32).reshape(input_shape)\n",
    "    data_max = torch.tensor(ubs, dtype=torch.float32).reshape(input_shape)\n",
    "    center = 0.5*(data_min + data_max)\n",
    "\n",
    "    ptb = PerturbationLpNorm(x_L=data_min, x_U=data_max)\n",
    "    x = BoundedTensor(center, ptb)\n",
    "    \n",
    "    return x"
   ],
   "metadata": {
    "collapsed": false,
    "ExecuteTime": {
     "end_time": "2024-03-14T14:11:05.345461419Z",
     "start_time": "2024-03-14T14:11:05.343322845Z"
    }
   },
   "id": "afa1c30ec9b5bd05",
   "execution_count": 5
  },
  {
   "cell_type": "code",
   "outputs": [],
   "source": [
    "def imshow(img):\n",
    "    img = img / 2 + .05  # revert normalization for viewing\n",
    "    npimg = img.to(\"cpu\").numpy()\n",
    "    plt.imshow(npimg, cmap=\"gray\")\n",
    "    plt.show()"
   ],
   "metadata": {
    "collapsed": false,
    "ExecuteTime": {
     "end_time": "2024-03-14T14:11:06.493940511Z",
     "start_time": "2024-03-14T14:11:06.490214512Z"
    }
   },
   "id": "fff770666dfb75e2",
   "execution_count": 6
  },
  {
   "cell_type": "code",
   "outputs": [],
   "source": [
    "transform = Compose([ToTensor(),  Normalize(0.5, 0.5)])\n",
    "training_data = MNIST(root=\"../../mnist\", train=True, download=True, transform=transform)"
   ],
   "metadata": {
    "collapsed": false,
    "ExecuteTime": {
     "end_time": "2024-03-14T14:11:06.827463068Z",
     "start_time": "2024-03-14T14:11:06.792597959Z"
    }
   },
   "id": "109435e09eefc29c",
   "execution_count": 7
  },
  {
   "cell_type": "code",
   "outputs": [],
   "source": [],
   "metadata": {
    "collapsed": false,
    "ExecuteTime": {
     "end_time": "2024-03-14T14:11:07.277100679Z",
     "start_time": "2024-03-14T14:11:07.274058118Z"
    }
   },
   "id": "9da6ec23f17c36ce",
   "execution_count": 7
  },
  {
   "cell_type": "code",
   "outputs": [
    {
     "data": {
      "text/plain": "<All keys matched successfully>"
     },
     "execution_count": 8,
     "metadata": {},
     "output_type": "execute_result"
    }
   ],
   "source": [
    "nn = SequentialNN([28 * 28 * 1, 100, 30, 10])\n",
    "nn.load_state_dict(torch.load(\"../../mnist_fc.pth\", map_location=torch.device(device)), strict=False)\n"
   ],
   "metadata": {
    "collapsed": false,
    "ExecuteTime": {
     "end_time": "2024-03-14T14:11:07.604974282Z",
     "start_time": "2024-03-14T14:11:07.598106412Z"
    }
   },
   "id": "3f3ab9e23f7691d4",
   "execution_count": 8
  },
  {
   "cell_type": "code",
   "outputs": [
    {
     "data": {
      "text/plain": "<Figure size 640x480 with 1 Axes>",
      "image/png": "[encoded data removed]"
     },
     "metadata": {},
     "output_type": "display_data"
    },
    {
     "name": "stdout",
     "output_type": "stream",
     "text": [
      "The label is 5\n",
      "NN classifies image correctly as 5\n"
     ]
    }
   ],
   "source": [
    "# image to do the verification for\n",
    "image_index = 0\n",
    "\n",
    "# epsilon radius\n",
    "eps = 0.026\n",
    "\n",
    "# whether a verification attempt should be done using just MILP encoding for comparison (can take long)\n",
    "use_milp = False\n",
    "\n",
    "image, label = training_data[image_index]\n",
    "torch_image = torch.unsqueeze(image, 0).to(dtype=data_type).to(device)\n",
    "imshow(torch_image[0][0])\n",
    "print(f\"The label is {label}\")\n",
    "\n",
    "if torch.argmax(nn(torch_image)).item() == label:\n",
    "    print(\"NN classifies image correctly as {}\".format(label))\n",
    "else:\n",
    "    print(\"NN classifies image wrong\")"
   ],
   "metadata": {
    "collapsed": false,
    "ExecuteTime": {
     "end_time": "2024-03-14T14:11:08.477537862Z",
     "start_time": "2024-03-14T14:11:08.422847260Z"
    }
   },
   "id": "c05c7d00d093c4a1",
   "execution_count": 9
  },
  {
   "cell_type": "code",
   "outputs": [],
   "source": [
    "onnx_model_path = 'nn.onnx'\n",
    "\n",
    "torch_image = torch.unsqueeze(image, 0).to(dtype=data_type).to(device)\n",
    "\n",
    "# Use the actual image tensor as input\n",
    "torch.onnx.export(nn, torch_image, onnx_model_path)"
   ],
   "metadata": {
    "collapsed": false,
    "ExecuteTime": {
     "end_time": "2024-03-14T14:12:23.760763740Z",
     "start_time": "2024-03-14T14:12:23.712833767Z"
    }
   },
   "id": "514c5aec032a348d",
   "execution_count": 12
  },
  {
   "cell_type": "code",
   "outputs": [],
   "source": [
    "onnx_path = 'example_specs/mnist-net_256x4.onnx'\n",
    "vnnlib_path = 'example_specs/prop_0_spiral_25.vnnlib'"
   ],
   "metadata": {
    "collapsed": false
   },
   "id": "28a0e3dc273ff4a5"
  },
  {
   "cell_type": "code",
   "outputs": [],
   "source": [
    "model = load_onnx_model(onnx_path, [1,1,1,784])\n",
    "x = load_vnnlib_spec(vnnlib_path, [1,1,1,784], 10)"
   ],
   "metadata": {
    "collapsed": false
   },
   "id": "9664a4cf21611803"
  },
  {
   "cell_type": "code",
   "outputs": [],
   "source": [
    "model.compute_bounds(x=(x,), method='ibp')"
   ],
   "metadata": {
    "collapsed": false
   },
   "id": "2666ccf38f5eaafc"
  },
  {
   "cell_type": "code",
   "outputs": [],
   "source": [
    "model.compute_bounds(x=(x,), method='crown')"
   ],
   "metadata": {
    "collapsed": false
   },
   "id": "55bc27f7406d3d05"
  },
  {
   "cell_type": "code",
   "outputs": [],
   "source": [
    "bounds = []\n",
    "for layer_name in model.input_name:\n",
    "    layer = model[layer_name]\n",
    "    lower = layer.lower\n",
    "    upper = layer.upper\n",
    "    bounds.append([lower, upper])\n",
    "    \n",
    "print(bounds)"
   ],
   "metadata": {
    "collapsed": false
   },
   "id": "90f16476818d0335"
  }
 ],
 "metadata": {
  "kernelspec": {
   "display_name": "Python 3",
   "language": "python",
   "name": "python3"
  },
  "language_info": {
   "codemirror_mode": {
    "name": "ipython",
    "version": 2
   },
   "file_extension": ".py",
   "mimetype": "text/x-python",
   "name": "python",
   "nbconvert_exporter": "python",
   "pygments_lexer": "ipython2",
   "version": "2.7.6"
  }
 },
 "nbformat": 4,
 "nbformat_minor": 5
}
