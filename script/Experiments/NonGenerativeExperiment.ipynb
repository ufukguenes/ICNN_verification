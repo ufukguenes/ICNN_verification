{
 "cells": [
  {
   "cell_type": "markdown",
   "source": [
    "# Nicht generatives Trainig mit DeepHull simple loss"
   ],
   "metadata": {
    "collapsed": false,
    "pycharm": {
     "name": "#%% md\n"
    }
   }
  },
  {
   "cell_type": "code",
   "execution_count": 30,
   "outputs": [],
   "source": [
    "from script.Networks import ICNN, SequentialNN\n",
    "from torch.utils.data import DataLoader\n",
    "from script.dataInit import ConvexDataset, Rhombus\n",
    "from script.trainFunction import train_icnn\n",
    "from script.eval import Plots_for\n",
    "from script.Verification import verification"
   ],
   "metadata": {
    "collapsed": false,
    "pycharm": {
     "name": "#%%\n"
    }
   }
  },
  {
   "cell_type": "code",
   "execution_count": 31,
   "outputs": [],
   "source": [
    "sequential = False\n",
    "epochs = 3\n",
    "batch_size = 1\n",
    "number_of_train_samples = 10000\n",
    "hyper_lambda = 0.1\n",
    "x_range = [-1.5, 1.5]\n",
    "y_range = [-1.5, 1.5]\n",
    "\n",
    "if not sequential:\n",
    "    icnn = ICNN([2, 10, 10, 1])\n",
    "else:\n",
    "    icnn = SequentialNN([2, 10, 10, 1])"
   ],
   "metadata": {
    "collapsed": false,
    "pycharm": {
     "name": "#%%\n"
    }
   }
  },
  {
   "cell_type": "code",
   "execution_count": 32,
   "outputs": [],
   "source": [
    "included_space, ambient_space = Rhombus().get_uniform_samples(number_of_train_samples, x_range, y_range) #samples will be split in inside and outside the rhombus\n",
    "true_extremal_points = Rhombus().get_extremal_points()\n",
    "\n",
    "dataset = ConvexDataset(data=included_space)\n",
    "train_loader = DataLoader(dataset, batch_size=batch_size, shuffle=True)\n",
    "dataset = ConvexDataset(data= ambient_space)\n",
    "ambient_loader = DataLoader(dataset, batch_size=batch_size, shuffle=True)"
   ],
   "metadata": {
    "collapsed": false,
    "pycharm": {
     "name": "#%%\n"
    }
   }
  },
  {
   "cell_type": "code",
   "execution_count": 33,
   "outputs": [],
   "source": [
    "plots = Plots_for(0, icnn, included_space, ambient_space, true_extremal_points, x_range, y_range)\n",
    "plots.plt_initial()"
   ],
   "metadata": {
    "collapsed": false,
    "pycharm": {
     "name": "#%%\n"
    }
   }
  },
  {
   "cell_type": "code",
   "execution_count": 34,
   "outputs": [
    {
     "name": "stdout",
     "output_type": "stream",
     "text": [
      "=== Epoch: 0===\n",
      "batch = 0, mean loss = 1.0777758580299914\n",
      "batch = 100, mean loss = 0.9091105783823122\n",
      "batch = 200, mean loss = 0.8598942279472758\n",
      "batch = 300, mean loss = 0.8234846574131662\n",
      "batch = 400, mean loss = 0.7985314706570714\n",
      "batch = 500, mean loss = 0.7765393623755665\n",
      "batch = 600, mean loss = 0.7561476786169735\n",
      "batch = 700, mean loss = 0.7339130354354066\n",
      "batch = 800, mean loss = 0.7144267561311669\n",
      "batch = 900, mean loss = 0.6967558134803443\n",
      "batch = 1000, mean loss = 0.6797854017684484\n",
      "batch = 1100, mean loss = 0.664128722535597\n",
      "batch = 1200, mean loss = 0.6499829026370575\n",
      "batch = 1300, mean loss = 0.6360218238609562\n",
      "batch = 1400, mean loss = 0.6229572541152717\n",
      "batch = 1500, mean loss = 0.6100343742244176\n",
      "batch = 1600, mean loss = 0.5983839111182705\n",
      "batch = 1700, mean loss = 0.5872633245290718\n",
      "batch = 1800, mean loss = 0.576567952555231\n",
      "batch = 1900, mean loss = 0.5661959452666774\n",
      "batch = 2000, mean loss = 0.5563532364993679\n",
      "batch = 2100, mean loss = 0.5464237976482236\n",
      "batch = 2200, mean loss = 0.5367636475097174\n",
      "batch = 2203, mean loss = 0.536594489713648\n",
      "=== Epoch: 1===\n",
      "batch = 0, mean loss = 0.2672549829227222\n",
      "batch = 100, mean loss = 0.3305715360856872\n",
      "batch = 200, mean loss = 0.3260681726514925\n",
      "batch = 300, mean loss = 0.3225629694110938\n",
      "batch = 400, mean loss = 0.3152442715438637\n",
      "batch = 500, mean loss = 0.3111879949739693\n",
      "batch = 600, mean loss = 0.3070633183483744\n",
      "batch = 700, mean loss = 0.30360277744243264\n",
      "batch = 800, mean loss = 0.30028884979024345\n",
      "batch = 900, mean loss = 0.2956559502313683\n",
      "batch = 1000, mean loss = 0.2913721672695399\n",
      "batch = 1100, mean loss = 0.28620892030822986\n",
      "batch = 1200, mean loss = 0.28268976275546437\n",
      "batch = 1300, mean loss = 0.27901177786206577\n",
      "batch = 1400, mean loss = 0.2754687186921369\n",
      "batch = 1500, mean loss = 0.2712712467503043\n",
      "batch = 1600, mean loss = 0.26775029431508063\n",
      "batch = 1700, mean loss = 0.2636374154581221\n",
      "batch = 1800, mean loss = 0.2596884578563881\n",
      "batch = 1900, mean loss = 0.25642127164701944\n",
      "batch = 2000, mean loss = 0.2527460766249785\n",
      "batch = 2100, mean loss = 0.24897465331185847\n",
      "batch = 2200, mean loss = 0.2454835819413704\n",
      "batch = 2203, mean loss = 0.24536782994753634\n",
      "=== Epoch: 2===\n",
      "batch = 0, mean loss = 0.08089255806363709\n",
      "batch = 100, mean loss = 0.1685456429055001\n",
      "batch = 200, mean loss = 0.16306140615925743\n",
      "batch = 300, mean loss = 0.1592338944549767\n",
      "batch = 400, mean loss = 0.15972476503704788\n",
      "batch = 500, mean loss = 0.15612723200932785\n",
      "batch = 600, mean loss = 0.1528485019986945\n",
      "batch = 700, mean loss = 0.15218625577105016\n",
      "batch = 800, mean loss = 0.14979025412321265\n",
      "batch = 900, mean loss = 0.1496442808046797\n",
      "batch = 1000, mean loss = 0.14695588228545728\n",
      "batch = 1100, mean loss = 0.14606816626559646\n",
      "batch = 1200, mean loss = 0.14531006317351547\n",
      "batch = 1300, mean loss = 0.1438700768621648\n",
      "batch = 1400, mean loss = 0.14157703566289812\n",
      "batch = 1500, mean loss = 0.13939086596194705\n",
      "batch = 1600, mean loss = 0.13785541369081475\n",
      "batch = 1700, mean loss = 0.13668010514884105\n",
      "batch = 1800, mean loss = 0.13544776186490615\n",
      "batch = 1900, mean loss = 0.1338905680094706\n",
      "batch = 2000, mean loss = 0.1334396777750509\n",
      "batch = 2100, mean loss = 0.13223215824814416\n",
      "batch = 2200, mean loss = 0.13048370339670762\n",
      "batch = 2203, mean loss = 0.13043872378564825\n"
     ]
    }
   ],
   "source": [
    "history = train_icnn(icnn, train_loader, ambient_loader, epochs=epochs, sequential=sequential, hyper_lambda=hyper_lambda)"
   ],
   "metadata": {
    "collapsed": false,
    "pycharm": {
     "name": "#%%\n"
    }
   }
  },
  {
   "cell_type": "code",
   "execution_count": 35,
   "outputs": [],
   "source": [
    "plots.plt_mesh()"
   ],
   "metadata": {
    "collapsed": false,
    "pycharm": {
     "name": "#%%\n"
    }
   }
  },
  {
   "cell_type": "code",
   "execution_count": 36,
   "outputs": [
    {
     "name": "stdout",
     "output_type": "stream",
     "text": [
      "Set parameter Username\n",
      "Academic license - for non-commercial use only - expires 2023-11-12\n",
      "Gurobi Optimizer version 10.0.0 build v10.0.0rc2 (win64)\n",
      "\n",
      "CPU model: AMD Ryzen 7 5800H with Radeon Graphics, instruction set [SSE2|AVX|AVX2]\n",
      "Thread count: 8 physical cores, 16 logical processors, using up to 16 threads\n",
      "\n",
      "Optimize a model with 138 rows, 96 columns and 379 nonzeros\n",
      "Model fingerprint: 0x136761bd\n",
      "Variable types: 76 continuous, 20 integer (20 binary)\n",
      "Coefficient statistics:\n",
      "  Matrix range     [1e-07, 1e+03]\n",
      "  Objective range  [1e+00, 1e+00]\n",
      "  Bounds range     [1e+00, 1e+03]\n",
      "  RHS range        [2e-03, 1e+03]\n",
      "Presolve removed 75 rows and 50 columns\n",
      "Presolve time: 0.02s\n",
      "Presolved: 63 rows, 46 columns, 216 nonzeros\n",
      "Variable types: 31 continuous, 15 integer (15 binary)\n",
      "Found heuristic solution: objective -3.4109979\n",
      "Found heuristic solution: objective -3.0334156\n",
      "\n",
      "Root relaxation: objective 2.136355e+01, 35 iterations, 0.00 seconds (0.00 work units)\n",
      "\n",
      "    Nodes    |    Current Node    |     Objective Bounds      |     Work\n",
      " Expl Unexpl |  Obj  Depth IntInf | Incumbent    BestBd   Gap | It/Node Time\n",
      "\n",
      "     0     0   21.36355    0   13   -3.03342   21.36355   804%     -    0s\n",
      "     0     0   21.35380    0   13   -3.03342   21.35380   804%     -    0s\n",
      "H    0     0                      -1.4440677   21.35380  1579%     -    0s\n",
      "H    0     0                      -1.2138827   21.35380  1859%     -    0s\n",
      "     0     0   12.65145    0   13   -1.21388   12.65145  1142%     -    0s\n",
      "     0     0    8.89442    0   13   -1.21388    8.89442   833%     -    0s\n",
      "     0     0    5.84629    0   13   -1.21388    5.84629   582%     -    0s\n",
      "     0     0    4.62162    0   13   -1.21388    4.62162   481%     -    0s\n",
      "     0     0    4.10103    0   13   -1.21388    4.10103   438%     -    0s\n",
      "     0     0    1.88066    0   12   -1.21388    1.88066   255%     -    0s\n",
      "     0     0    1.80790    0   12   -1.21388    1.80790   249%     -    0s\n",
      "H    0     0                      -0.7079253    1.80790   355%     -    0s\n",
      "     0     2    1.80790    0   12   -0.70793    1.80790   355%     -    0s\n",
      "\n",
      "Cutting planes:\n",
      "  Gomory: 7\n",
      "  Cover: 1\n",
      "  Implied bound: 7\n",
      "  MIR: 13\n",
      "  Flow cover: 10\n",
      "  RLT: 5\n",
      "  Relax-and-lift: 8\n",
      "\n",
      "Explored 94 nodes (734 simplex iterations) in 0.12 seconds (0.02 work units)\n",
      "Thread count was 16 (of 16 available processors)\n",
      "\n",
      "Solution count 5: -0.707925 -1.21388 -1.44407 ... -3.411\n",
      "No other solutions better than -0.707925\n",
      "\n",
      "Optimal solution found (tolerance 1.00e-04)\n",
      "Best objective -7.079253213298e-01, best bound -7.079253213298e-01, gap 0.0000%\n"
     ]
    }
   ],
   "source": [
    "A, b = Rhombus().get_A(), Rhombus().get_b()\n",
    "result = verification(icnn, A=A, b=b, sequential=sequential)"
   ],
   "metadata": {
    "collapsed": false,
    "pycharm": {
     "name": "#%%\n"
    }
   }
  },
  {
   "cell_type": "code",
   "execution_count": 37,
   "outputs": [],
   "source": [
    "input_data, plots.c = result\n",
    "plots.plt_mesh()"
   ],
   "metadata": {
    "collapsed": false,
    "pycharm": {
     "name": "#%%\n"
    }
   }
  },
  {
   "cell_type": "code",
   "execution_count": 24,
   "outputs": [],
   "source": [],
   "metadata": {
    "collapsed": false,
    "pycharm": {
     "name": "#%%\n"
    }
   }
  }
 ],
 "metadata": {
  "kernelspec": {
   "display_name": "Python 3",
   "language": "python",
   "name": "python3"
  },
  "language_info": {
   "codemirror_mode": {
    "name": "ipython",
    "version": 2
   },
   "file_extension": ".py",
   "mimetype": "text/x-python",
   "name": "python",
   "nbconvert_exporter": "python",
   "pygments_lexer": "ipython2",
   "version": "2.7.6"
  }
 },
 "nbformat": 4,
 "nbformat_minor": 0
}