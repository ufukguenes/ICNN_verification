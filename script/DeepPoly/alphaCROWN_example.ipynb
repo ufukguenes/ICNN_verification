{
 "cells": [
  {
   "cell_type": "code",
   "execution_count": 34,
   "id": "8995eeac-c4f2-412a-85ff-118fe0977139",
   "metadata": {
    "tags": []
   },
   "outputs": [],
   "source": [
    "import onnx\n",
    "from onnx2pytorch import ConvertModel\n",
    "from auto_LiRPA import BoundedModule, BoundedTensor, PerturbationLpNorm\n",
    "\n",
    "from vnnlib.compat import read_vnnlib_simple\n",
    "\n",
    "import torch\n",
    "import numpy as np\n",
    "\n",
    "from collections import OrderedDict\n",
    "\n",
    "import csv\n",
    "\n",
    "import os\n",
    "from timeit import default_timer as timer"
   ]
  },
  {
   "cell_type": "markdown",
   "id": "6f8aeb1a-ec64-4099-9e22-4d2d4484688b",
   "metadata": {},
   "source": [
    "# Loading ONNX and VNNLib Specifications"
   ]
  },
  {
   "cell_type": "code",
   "execution_count": 4,
   "id": "3c1a82ed-410e-45bb-8309-390af59f692c",
   "metadata": {
    "tags": []
   },
   "outputs": [],
   "source": [
    "def load_onnx_model(onnx_path, input_shape):\n",
    "    onnx_model = onnx.load(onnx_path)\n",
    "    torch_model = ConvertModel(onnx_model)\n",
    "    \n",
    "    x_concrete = torch.zeros(input_shape)\n",
    "    model = BoundedModule(torch_model, x_concrete)\n",
    "    return model"
   ]
  },
  {
   "cell_type": "code",
   "execution_count": 6,
   "id": "f98348bc-a6ca-41a1-8491-41dfbc1759d4",
   "metadata": {
    "tags": []
   },
   "outputs": [],
   "source": [
    "def load_vnnlib_spec(vnnlib_path, input_shape, n_out):\n",
    "    n_in = np.prod(input_shape)\n",
    "    res = read_vnnlib_simple(vnnlib_path, n_in, n_out)\n",
    "    bnds, spec = res[0]\n",
    "    \n",
    "    bnds = np.array(bnds)\n",
    "    lbs = bnds[:,0]\n",
    "    ubs = bnds[:,1]\n",
    "    \n",
    "    data_min = torch.tensor(lbs, dtype=torch.float32).reshape(input_shape)\n",
    "    data_max = torch.tensor(ubs, dtype=torch.float32).reshape(input_shape)\n",
    "    center = 0.5*(data_min + data_max)\n",
    "\n",
    "    ptb = PerturbationLpNorm(x_L=data_min, x_U=data_max)\n",
    "    x = BoundedTensor(center, ptb)\n",
    "    \n",
    "    return x"
   ]
  },
  {
   "cell_type": "code",
   "execution_count": 91,
   "id": "764a36c2-3378-4bfb-a997-7b5cc1e96903",
   "metadata": {
    "tags": []
   },
   "outputs": [],
   "source": [
    "onnx_path = 'example_specs/mnist-net_256x4.onnx'\n",
    "vnnlib_path = 'example_specs/prop_0_spiral_25.vnnlib'"
   ]
  },
  {
   "cell_type": "code",
   "execution_count": 92,
   "id": "8fab04bf-c040-4b7e-ab18-93d7414134fe",
   "metadata": {
    "tags": []
   },
   "outputs": [
    {
     "name": "stderr",
     "output_type": "stream",
     "text": [
      "/home/philipp/anaconda3/envs/autoLiRPA/lib/python3.10/site-packages/onnx2pytorch/convert/model.py:167: TracerWarning: Converting a tensor to a Python boolean might cause the trace to be incorrect. We can't record the data flow of Python values, so this value will be treated as a constant in the future. This means that the trace might not generalize to other inputs!\n",
      "  if not self.experimental and inputs[0].shape[self.batch_dim] > 1:\n"
     ]
    }
   ],
   "source": [
    "model = load_onnx_model(onnx_path, [1,1,1,784])\n",
    "x = load_vnnlib_spec(vnnlib_path, [1,1,1,784], 10)"
   ]
  },
  {
   "cell_type": "markdown",
   "id": "f0ab3486-51a1-48ce-aa12-d8937dc4da0d",
   "metadata": {},
   "source": [
    "# Helper Methods"
   ]
  },
  {
   "cell_type": "code",
   "execution_count": 60,
   "id": "c6ae127f-1b84-42e2-954e-d65dcffde529",
   "metadata": {
    "tags": []
   },
   "outputs": [],
   "source": [
    "def get_layers(model):\n",
    "    return [l for l in model.nodes() if l.perturbed]"
   ]
  },
  {
   "cell_type": "code",
   "execution_count": 66,
   "id": "0cd1e80e-10db-4e9b-9c23-394d829d580e",
   "metadata": {
    "tags": []
   },
   "outputs": [],
   "source": [
    "def get_intermediate_bounds(model):\n",
    "    \"\"\"\n",
    "    Returns a dictionary containing the concrete lower and upper bounds of each layer.\n",
    "    \n",
    "    Implemented own method to filter out bounds for weight matrices.\n",
    "    \n",
    "    Only call this method after compute_bounds()!\n",
    "    \"\"\"\n",
    "    od = OrderedDict()\n",
    "    for l in get_layers(model):\n",
    "        if hasattr(l, 'lower'):\n",
    "            od[l.name] = (l.lower, l.upper)\n",
    "            \n",
    "    return od"
   ]
  },
  {
   "cell_type": "markdown",
   "id": "9f560f8c-df6b-4ac1-833c-834e07349be7",
   "metadata": {},
   "source": [
    "# Get Intermediate Bounds"
   ]
  },
  {
   "cell_type": "code",
   "execution_count": 62,
   "id": "d908f042-6132-4fac-92cc-d9c01e158c20",
   "metadata": {
    "tags": []
   },
   "outputs": [
    {
     "data": {
      "text/plain": [
       "(tensor([[-447.2314, -373.2225, -492.4267, -520.7729, -479.3799, -425.8518,\n",
       "          -413.6321, -447.6174, -532.3359, -408.0772]], grad_fn=<AddBackward0>),\n",
       " tensor([[356.4533, 318.0782, 320.3526, 274.7251, 371.1610, 338.5822, 395.8803,\n",
       "          377.8232, 375.9247, 400.2977]], grad_fn=<AddBackward0>))"
      ]
     },
     "execution_count": 62,
     "metadata": {},
     "output_type": "execute_result"
    }
   ],
   "source": [
    "model.compute_bounds(x=(x,), method='ibp')"
   ]
  },
  {
   "cell_type": "code",
   "execution_count": 63,
   "id": "f5fb62c8-e2d4-46bd-9304-161aac9aebde",
   "metadata": {
    "tags": []
   },
   "outputs": [
    {
     "name": "stdout",
     "output_type": "stream",
     "text": [
      "/0: torch.Size([1, 1, 1, 784])\n",
      "/21: torch.Size([1, 784])\n",
      "/input: torch.Size([1, 256])\n",
      "/23: torch.Size([1, 256])\n",
      "/input.3: torch.Size([1, 256])\n",
      "/25: torch.Size([1, 256])\n",
      "/input.7: torch.Size([1, 256])\n",
      "/27: torch.Size([1, 256])\n",
      "/input.11: torch.Size([1, 256])\n",
      "/29: torch.Size([1, 256])\n",
      "/30: torch.Size([1, 10])\n"
     ]
    }
   ],
   "source": [
    "bounds_dict = get_intermediate_bounds(model)\n",
    "for k, (lbs, ubs) in bounds_dict.items():\n",
    "    print(f\"{k}: {lbs.shape}\")"
   ]
  },
  {
   "cell_type": "code",
   "execution_count": 55,
   "id": "23b50fbc-87e5-4727-bff6-59fe510773ec",
   "metadata": {
    "tags": []
   },
   "outputs": [
    {
     "data": {
      "text/plain": [
       "(tensor([[-447.2314, -373.2225, -492.4267, -520.7729, -479.3799, -425.8518,\n",
       "          -413.6321, -447.6174, -532.3359, -408.0772]], grad_fn=<AddBackward0>),\n",
       " tensor([[356.4533, 318.0782, 320.3526, 274.7251, 371.1610, 338.5822, 395.8803,\n",
       "          377.8232, 375.9247, 400.2977]], grad_fn=<AddBackward0>))"
      ]
     },
     "execution_count": 55,
     "metadata": {},
     "output_type": "execute_result"
    }
   ],
   "source": [
    "bounds_dict['/30']"
   ]
  },
  {
   "cell_type": "code",
   "execution_count": 64,
   "id": "708a54d3-a379-4d9f-b1fa-29d0600d15d6",
   "metadata": {
    "tags": []
   },
   "outputs": [
    {
     "data": {
      "text/plain": [
       "(tensor([[-0.4672, -0.4103, -0.4026, -0.3573, -0.4667, -0.4770, -0.3886, -0.4031,\n",
       "          -0.5523, -0.4308]], grad_fn=<ViewBackward0>),\n",
       " tensor([[0.6201, 0.4692, 0.6307, 0.4833, 1.8194, 0.5396, 0.9479, 0.4172, 0.6483,\n",
       "          0.6467]], grad_fn=<ViewBackward0>))"
      ]
     },
     "execution_count": 64,
     "metadata": {},
     "output_type": "execute_result"
    }
   ],
   "source": [
    "model.compute_bounds(x=(x,), method='crown')"
   ]
  },
  {
   "cell_type": "code",
   "execution_count": 57,
   "id": "873f7e73-c1a6-4067-8511-bb7240ae6c83",
   "metadata": {
    "tags": []
   },
   "outputs": [
    {
     "data": {
      "text/plain": [
       "(tensor([[-447.2314, -373.2225, -492.4267, -520.7729, -479.3799, -425.8518,\n",
       "          -413.6321, -447.6174, -532.3359, -408.0772]], grad_fn=<AddBackward0>),\n",
       " tensor([[356.4533, 318.0782, 320.3526, 274.7251, 371.1610, 338.5822, 395.8803,\n",
       "          377.8232, 375.9247, 400.2977]], grad_fn=<AddBackward0>))"
      ]
     },
     "execution_count": 57,
     "metadata": {},
     "output_type": "execute_result"
    }
   ],
   "source": [
    "bounds_dict['/30']"
   ]
  },
  {
   "cell_type": "code",
   "execution_count": 67,
   "id": "80db1299-3f22-4b4e-aa48-92b2b4f33099",
   "metadata": {
    "tags": []
   },
   "outputs": [
    {
     "data": {
      "text/plain": [
       "(tensor([[-0.4672, -0.4103, -0.4026, -0.3573, -0.4667, -0.4770, -0.3886, -0.4031,\n",
       "          -0.5523, -0.4308]], grad_fn=<ViewBackward0>),\n",
       " tensor([[0.6201, 0.4692, 0.6307, 0.4833, 1.8194, 0.5396, 0.9479, 0.4172, 0.6483,\n",
       "          0.6467]], grad_fn=<ViewBackward0>))"
      ]
     },
     "execution_count": 67,
     "metadata": {},
     "output_type": "execute_result"
    }
   ],
   "source": [
    "bounds_dict_crown = get_intermediate_bounds(model)\n",
    "bounds_dict_crown['/30']"
   ]
  },
  {
   "cell_type": "markdown",
   "id": "baad5ac4-ea3b-4026-8026-cfb42669717b",
   "metadata": {},
   "source": [
    "**Attention**: CROWN-bounds are only saved for pre-activation nodes and the output!\n",
    "(in contrast to interval propagation bounds, that are saved for every layer)"
   ]
  },
  {
   "cell_type": "code",
   "execution_count": 71,
   "id": "df9b80ac-d1f4-42e3-b524-f029468805e7",
   "metadata": {
    "tags": []
   },
   "outputs": [
    {
     "data": {
      "text/plain": [
       "odict_keys(['/0', '/input', '/input.3', '/input.7', '/input.11', '/30'])"
      ]
     },
     "execution_count": 71,
     "metadata": {},
     "output_type": "execute_result"
    }
   ],
   "source": [
    "bounds_dict_crown.keys()"
   ]
  },
  {
   "cell_type": "code",
   "execution_count": 75,
   "id": "9fdd5318-b352-42f2-b5f6-d423faa1063f",
   "metadata": {
    "tags": []
   },
   "outputs": [
    {
     "name": "stdout",
     "output_type": "stream",
     "text": [
      "tensor([[-171.4623, -160.4540, -304.7760, -128.2996, -153.7493, -117.9111,\n",
      "         -123.5061, -278.8083, -158.6687, -207.4034]],\n",
      "       grad_fn=<SliceBackward0>)\n",
      "tensor([[-1.8260, -3.1913, -2.1607, -2.8250, -4.0157, -2.1657, -0.7982, -1.6259,\n",
      "         -1.0763, -5.0089]], grad_fn=<SliceBackward0>)\n"
     ]
    }
   ],
   "source": [
    "lbs11_ibp, ubs11_ibp = bounds_dict['/input.11']\n",
    "lbs11_crown, ubs11_crown = bounds_dict_crown['/input.11']\n",
    "\n",
    "print(lbs11_ibp[:,:10])\n",
    "print(lbs11_crown[:,:10])"
   ]
  },
  {
   "cell_type": "markdown",
   "id": "2cd89d77-3247-41b2-9750-761c8db65dd4",
   "metadata": {},
   "source": [
    "# Sampling via CROWN\n",
    "\n",
    "In order to use CROWN to calculate bounds for the sampled directions, we make use of the possibility to supply\n",
    "- a constraint matrix (which we use to represent the sampled directions) and\n",
    "- to specify the output layer (which we just set to the layer, for which we want to sample)\n",
    "\n",
    "The shape of the constraint matrix is `(batch, n_directions, n_neurons)`, where we just set `batch=1`.\n",
    "\n",
    "The output layer is specified via the node names in the node dictionary."
   ]
  },
  {
   "cell_type": "code",
   "execution_count": 79,
   "id": "26b77cc7-aef4-4b38-aa22-f1fefa101b86",
   "metadata": {
    "tags": []
   },
   "outputs": [
    {
     "data": {
      "text/plain": [
       "(tensor([[ -43.7307,   -5.0130, -113.6185,  -13.4852,  -13.0446]],\n",
       "        grad_fn=<ViewBackward0>),\n",
       " tensor([[ 8.4504,  7.3781, -3.9188,  4.4092, -0.3349]],\n",
       "        grad_fn=<ViewBackward0>))"
      ]
     },
     "execution_count": 79,
     "metadata": {},
     "output_type": "execute_result"
    }
   ],
   "source": [
    "n_batch = 1\n",
    "n_dirs = 5\n",
    "n_neurons = 256\n",
    "C = torch.randn(n_batch, n_dirs, n_neurons)\n",
    "\n",
    "model.compute_bounds(x=(x,), final_node_name='/input.11', C=C, method='crown')"
   ]
  },
  {
   "cell_type": "markdown",
   "id": "1e104ab9-2483-4d38-a689-d9e30bd0e89a",
   "metadata": {},
   "source": [
    "We can also use $\\alpha$-CROWN to optimize the bounds of the directions."
   ]
  },
  {
   "cell_type": "code",
   "execution_count": 80,
   "id": "00566dcc-eb57-447a-9eef-5872290cc4da",
   "metadata": {
    "tags": []
   },
   "outputs": [
    {
     "data": {
      "text/plain": [
       "(tensor([[ -41.4496,    2.5910, -108.8136,  -12.8823,   -4.6896]]),\n",
       " tensor([[ -0.8899,   7.1173, -20.6075,  -0.4784,  -0.3609]]))"
      ]
     },
     "execution_count": 80,
     "metadata": {},
     "output_type": "execute_result"
    }
   ],
   "source": [
    "model.compute_bounds(x=(x,), final_node_name='/input.11', C=C, method='alpha-crown')"
   ]
  },
  {
   "cell_type": "markdown",
   "id": "30cec03c-35cd-4ac8-a910-d84bb8c17d80",
   "metadata": {},
   "source": [
    "When using more iterations, the bounds may get slightly better."
   ]
  },
  {
   "cell_type": "code",
   "execution_count": 81,
   "id": "51f598e9-f0f3-4bb0-827a-673e37122841",
   "metadata": {
    "collapsed": true,
    "jupyter": {
     "outputs_hidden": true
    },
    "tags": []
   },
   "outputs": [
    {
     "data": {
      "text/plain": [
       "{'conv_mode': 'patches',\n",
       " 'sparse_intermediate_bounds': True,\n",
       " 'sparse_conv_intermediate_bounds': True,\n",
       " 'sparse_intermediate_bounds_with_ibp': True,\n",
       " 'sparse_features_alpha': True,\n",
       " 'sparse_spec_alpha': True,\n",
       " 'minimum_sparsity': 0.9,\n",
       " 'enable_opt_interm_bounds': False,\n",
       " 'crown_batch_size': inf,\n",
       " 'forward_refinement': False,\n",
       " 'dynamic_forward': False,\n",
       " 'forward_max_dim': 1000000000,\n",
       " 'use_full_conv_alpha': True,\n",
       " 'disabled_optimization': [],\n",
       " 'use_full_conv_alpha_thresh': 512,\n",
       " 'verbosity': 0,\n",
       " 'optimize_graph': {'optimizer': None},\n",
       " 'optimize_bound_args': {'enable_alpha_crown': True,\n",
       "  'enable_beta_crown': False,\n",
       "  'apply_output_constraints_to': None,\n",
       "  'iteration': 20,\n",
       "  'use_shared_alpha': False,\n",
       "  'optimizer': 'adam',\n",
       "  'keep_best': True,\n",
       "  'fix_interm_bounds': True,\n",
       "  'lr_alpha': 0.5,\n",
       "  'lr_beta': 0.05,\n",
       "  'lr_cut_beta': 0.005,\n",
       "  'init_alpha': True,\n",
       "  'lr_coeffs': 0.01,\n",
       "  'intermediate_refinement_layers': [-1],\n",
       "  'loss_reduction_func': <function auto_LiRPA.utils.<lambda>(x)>,\n",
       "  'stop_criterion_func': <function auto_LiRPA.optimized_bounds.<lambda>(x)>,\n",
       "  'lr_decay': 0.98,\n",
       "  'early_stop_patience': 10,\n",
       "  'start_save_best': 0.5,\n",
       "  'use_float64_in_last_iteration': False,\n",
       "  'pruning_in_iteration': False,\n",
       "  'pruning_in_iteration_threshold': 0.2,\n",
       "  'multi_spec_keep_func': <function auto_LiRPA.utils.multi_spec_keep_func_all(x)>,\n",
       "  'deterministic': False},\n",
       " 'final_shape': torch.Size([1, 5])}"
      ]
     },
     "execution_count": 81,
     "metadata": {},
     "output_type": "execute_result"
    }
   ],
   "source": [
    "model.bound_opts"
   ]
  },
  {
   "cell_type": "code",
   "execution_count": 82,
   "id": "47d2abd9-95e9-4786-9678-35ae926a1968",
   "metadata": {
    "tags": []
   },
   "outputs": [],
   "source": [
    "def set_params(model, use_shared_alpha=False, iteration=20, early_stop_patience=10):\n",
    "    model.bound_opts['optimize_bound_args']['use_shared_alpha'] = use_shared_alpha\n",
    "    model.bound_opts['optimize_bound_args']['iteration'] = iteration\n",
    "    model.bound_opts['optimize_bound_args']['early_stop_patience'] = early_stop_patience"
   ]
  },
  {
   "cell_type": "code",
   "execution_count": 83,
   "id": "2d1d6c7a-74d1-4990-8407-e07237a8e2bd",
   "metadata": {
    "tags": []
   },
   "outputs": [
    {
     "data": {
      "text/plain": [
       "(tensor([[ -41.4457,    2.6139, -108.8047,  -12.8812,   -4.6691]]),\n",
       " tensor([[ -0.9384,   7.1171, -20.6966,  -0.4957,  -0.3610]]))"
      ]
     },
     "execution_count": 83,
     "metadata": {},
     "output_type": "execute_result"
    }
   ],
   "source": [
    "set_params(model, iteration=100)\n",
    "model.compute_bounds(x=(x,), final_node_name='/input.11', C=C, method='alpha-crown')"
   ]
  },
  {
   "cell_type": "markdown",
   "id": "b1bb7905-d221-4ce7-ad3e-1dd276037107",
   "metadata": {},
   "source": [
    "# Building LP Model\n",
    "\n",
    "There is at least some code available to build LP and MILP models, but it doesn't seem to be maintained/is broken now. Maybe we can repair and use it."
   ]
  },
  {
   "cell_type": "code",
   "execution_count": 89,
   "id": "15fab111-98b9-4717-8725-92b94fced7b5",
   "metadata": {
    "tags": []
   },
   "outputs": [
    {
     "ename": "AttributeError",
     "evalue": "'function' object has no attribute 'CONTINUOUS'",
     "output_type": "error",
     "traceback": [
      "\u001b[0;31m---------------------------------------------------------------------------\u001b[0m",
      "\u001b[0;31mAttributeError\u001b[0m                            Traceback (most recent call last)",
      "Cell \u001b[0;32mIn[89], line 1\u001b[0m\n\u001b[0;32m----> 1\u001b[0m \u001b[43mmodel\u001b[49m\u001b[38;5;241;43m.\u001b[39;49m\u001b[43mbuild_solver_module\u001b[49m\u001b[43m(\u001b[49m\u001b[43mmodel_type\u001b[49m\u001b[38;5;241;43m=\u001b[39;49m\u001b[38;5;124;43m'\u001b[39;49m\u001b[38;5;124;43mlp\u001b[39;49m\u001b[38;5;124;43m'\u001b[39;49m\u001b[43m)\u001b[49m\n",
      "File \u001b[0;32m~/anaconda3/envs/autoLiRPA/lib/python3.10/site-packages/auto_LiRPA-0.4.0-py3.10.egg/auto_LiRPA/solver_module.py:50\u001b[0m, in \u001b[0;36mbuild_solver_module\u001b[0;34m(self, x, C, interm_bounds, final_node_name, model_type, solver_pkg)\u001b[0m\n\u001b[1;32m     47\u001b[0m \u001b[38;5;66;03m# if isinstance(root[i], BoundInput) and not isinstance(root[i], BoundParams):\u001b[39;00m\n\u001b[1;32m     48\u001b[0m \u001b[38;5;28;01mif\u001b[39;00m \u001b[38;5;28mtype\u001b[39m(roots[i]) \u001b[38;5;129;01mis\u001b[39;00m BoundInput:\n\u001b[1;32m     49\u001b[0m     \u001b[38;5;66;03m# create input vars for gurobi self.model\u001b[39;00m\n\u001b[0;32m---> 50\u001b[0m     inp_gurobi_vars \u001b[38;5;241m=\u001b[39m \u001b[38;5;28;43mself\u001b[39;49m\u001b[38;5;241;43m.\u001b[39;49m\u001b[43m_build_solver_input\u001b[49m\u001b[43m(\u001b[49m\u001b[43mroots\u001b[49m\u001b[43m[\u001b[49m\u001b[43mi\u001b[49m\u001b[43m]\u001b[49m\u001b[43m)\u001b[49m\n\u001b[1;32m     51\u001b[0m \u001b[38;5;28;01melse\u001b[39;00m:\n\u001b[1;32m     52\u001b[0m     \u001b[38;5;66;03m# regular weights\u001b[39;00m\n\u001b[1;32m     53\u001b[0m     roots[i]\u001b[38;5;241m.\u001b[39msolver_vars \u001b[38;5;241m=\u001b[39m value\n",
      "File \u001b[0;32m~/anaconda3/envs/autoLiRPA/lib/python3.10/site-packages/auto_LiRPA-0.4.0-py3.10.egg/auto_LiRPA/solver_module.py:97\u001b[0m, in \u001b[0;36m_build_solver_input\u001b[0;34m(self, node)\u001b[0m\n\u001b[1;32m     95\u001b[0m inp_gurobi_vars \u001b[38;5;241m=\u001b[39m []\n\u001b[1;32m     96\u001b[0m \u001b[38;5;66;03m# zero var will be shared within the solver model\u001b[39;00m\n\u001b[0;32m---> 97\u001b[0m zero_var \u001b[38;5;241m=\u001b[39m \u001b[38;5;28mself\u001b[39m\u001b[38;5;241m.\u001b[39mmodel\u001b[38;5;241m.\u001b[39maddVar(lb\u001b[38;5;241m=\u001b[39m\u001b[38;5;241m0\u001b[39m, ub\u001b[38;5;241m=\u001b[39m\u001b[38;5;241m0\u001b[39m, obj\u001b[38;5;241m=\u001b[39m\u001b[38;5;241m0\u001b[39m, vtype\u001b[38;5;241m=\u001b[39m\u001b[43mgrb\u001b[49m\u001b[38;5;241;43m.\u001b[39;49m\u001b[43mGRB\u001b[49m\u001b[38;5;241;43m.\u001b[39;49m\u001b[43mCONTINUOUS\u001b[49m, name\u001b[38;5;241m=\u001b[39m\u001b[38;5;124m'\u001b[39m\u001b[38;5;124mzero\u001b[39m\u001b[38;5;124m'\u001b[39m)\n\u001b[1;32m     98\u001b[0m one_var \u001b[38;5;241m=\u001b[39m \u001b[38;5;28mself\u001b[39m\u001b[38;5;241m.\u001b[39mmodel\u001b[38;5;241m.\u001b[39maddVar(lb\u001b[38;5;241m=\u001b[39m\u001b[38;5;241m1\u001b[39m, ub\u001b[38;5;241m=\u001b[39m\u001b[38;5;241m1\u001b[39m, obj\u001b[38;5;241m=\u001b[39m\u001b[38;5;241m0\u001b[39m, vtype\u001b[38;5;241m=\u001b[39mgrb\u001b[38;5;241m.\u001b[39mGRB\u001b[38;5;241m.\u001b[39mCONTINUOUS, name\u001b[38;5;241m=\u001b[39m\u001b[38;5;124m'\u001b[39m\u001b[38;5;124mone\u001b[39m\u001b[38;5;124m'\u001b[39m)\n\u001b[1;32m     99\u001b[0m neg_one_var \u001b[38;5;241m=\u001b[39m \u001b[38;5;28mself\u001b[39m\u001b[38;5;241m.\u001b[39mmodel\u001b[38;5;241m.\u001b[39maddVar(lb\u001b[38;5;241m=\u001b[39m\u001b[38;5;241m-\u001b[39m\u001b[38;5;241m1\u001b[39m, ub\u001b[38;5;241m=\u001b[39m\u001b[38;5;241m-\u001b[39m\u001b[38;5;241m1\u001b[39m, obj\u001b[38;5;241m=\u001b[39m\u001b[38;5;241m0\u001b[39m, vtype\u001b[38;5;241m=\u001b[39mgrb\u001b[38;5;241m.\u001b[39mGRB\u001b[38;5;241m.\u001b[39mCONTINUOUS, name\u001b[38;5;241m=\u001b[39m\u001b[38;5;124m'\u001b[39m\u001b[38;5;124mneg_one\u001b[39m\u001b[38;5;124m'\u001b[39m)\n",
      "\u001b[0;31mAttributeError\u001b[0m: 'function' object has no attribute 'CONTINUOUS'"
     ]
    }
   ],
   "source": [
    "model.build_solver_module(model_type='lp')"
   ]
  },
  {
   "cell_type": "code",
   "execution_count": 86,
   "id": "cd596ff5-2235-431d-afc4-e2cc608ce858",
   "metadata": {
    "tags": []
   },
   "outputs": [],
   "source": [
    "import gurobipy as grb"
   ]
  },
  {
   "cell_type": "code",
   "execution_count": 88,
   "id": "be9cf783-6807-4e40-991e-6974109ad9ec",
   "metadata": {
    "tags": []
   },
   "outputs": [
    {
     "name": "stdout",
     "output_type": "stream",
     "text": [
      "Set parameter Username\n",
      "Academic license - for non-commercial use only - expires 2024-11-27\n"
     ]
    }
   ],
   "source": [
    "model.model = grb.Model()"
   ]
  },
  {
   "cell_type": "code",
   "execution_count": null,
   "id": "d179d2d7-87f3-448a-a1ca-f3552ff0fa5b",
   "metadata": {},
   "outputs": [],
   "source": []
  }
 ],
 "metadata": {
  "kernelspec": {
   "display_name": "autoLiRPA",
   "language": "python",
   "name": "autolirpa"
  },
  "language_info": {
   "codemirror_mode": {
    "name": "ipython",
    "version": 3
   },
   "file_extension": ".py",
   "mimetype": "text/x-python",
   "name": "python",
   "nbconvert_exporter": "python",
   "pygments_lexer": "ipython3",
   "version": "3.10.13"
  }
 },
 "nbformat": 4,
 "nbformat_minor": 5
}
