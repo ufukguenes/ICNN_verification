{
 "cells": [
  {
   "cell_type": "code",
   "execution_count": 1,
   "id": "8995eeac-c4f2-412a-85ff-118fe0977139",
   "metadata": {
    "tags": []
   },
   "outputs": [
    {
     "name": "stderr",
     "output_type": "stream",
     "text": [
      "/home/philipp/anaconda3/envs/autoLiRPA/lib/python3.10/site-packages/tqdm/auto.py:21: TqdmWarning: IProgress not found. Please update jupyter and ipywidgets. See https://ipywidgets.readthedocs.io/en/stable/user_install.html\n",
      "  from .autonotebook import tqdm as notebook_tqdm\n"
     ]
    }
   ],
   "source": [
    "import onnx\n",
    "from onnx2pytorch import ConvertModel\n",
    "from auto_LiRPA import BoundedModule, BoundedTensor, PerturbationLpNorm\n",
    "\n",
    "from vnnlib.compat import read_vnnlib_simple\n",
    "\n",
    "import torch\n",
    "import numpy as np\n",
    "\n",
    "from collections import OrderedDict\n",
    "\n",
    "import csv\n",
    "\n",
    "import os\n",
    "from timeit import default_timer as timer"
   ]
  },
  {
   "cell_type": "markdown",
   "id": "6f8aeb1a-ec64-4099-9e22-4d2d4484688b",
   "metadata": {},
   "source": [
    "# Loading ONNX and VNNLib Specifications"
   ]
  },
  {
   "cell_type": "code",
   "execution_count": 2,
   "id": "3c1a82ed-410e-45bb-8309-390af59f692c",
   "metadata": {
    "tags": []
   },
   "outputs": [],
   "source": [
    "def load_onnx_model(onnx_path, input_shape):\n",
    "    onnx_model = onnx.load(onnx_path)\n",
    "    torch_model = ConvertModel(onnx_model)\n",
    "    \n",
    "    x_concrete = torch.zeros(input_shape)\n",
    "    model = BoundedModule(torch_model, x_concrete)\n",
    "    return model"
   ]
  },
  {
   "cell_type": "code",
   "execution_count": 3,
   "id": "f98348bc-a6ca-41a1-8491-41dfbc1759d4",
   "metadata": {
    "tags": []
   },
   "outputs": [],
   "source": [
    "def load_vnnlib_spec(vnnlib_path, input_shape, n_out):\n",
    "    n_in = np.prod(input_shape)\n",
    "    res = read_vnnlib_simple(vnnlib_path, n_in, n_out)\n",
    "    bnds, spec = res[0]\n",
    "    \n",
    "    bnds = np.array(bnds)\n",
    "    lbs = bnds[:,0]\n",
    "    ubs = bnds[:,1]\n",
    "    \n",
    "    data_min = torch.tensor(lbs, dtype=torch.float32).reshape(input_shape)\n",
    "    data_max = torch.tensor(ubs, dtype=torch.float32).reshape(input_shape)\n",
    "    center = 0.5*(data_min + data_max)\n",
    "\n",
    "    ptb = PerturbationLpNorm(x_L=data_min, x_U=data_max)\n",
    "    x = BoundedTensor(center, ptb)\n",
    "    \n",
    "    return x"
   ]
  },
  {
   "cell_type": "code",
   "execution_count": 74,
   "id": "cca84f94-fb44-4370-b82d-8c612fc9f7a1",
   "metadata": {
    "tags": []
   },
   "outputs": [],
   "source": [
    "onnx_path = '../../../NNPoly.jl/eval/cifar10/onnx/cifar_relu_6_100.onnx'\n",
    "vnnlib_path = '../../../NNPoly.jl/eval/cifar10/vnnlib/prop_7_spiral_1.vnnlib'"
   ]
  },
  {
   "cell_type": "code",
   "execution_count": 4,
   "id": "764a36c2-3378-4bfb-a997-7b5cc1e96903",
   "metadata": {
    "tags": []
   },
   "outputs": [],
   "source": [
    "onnx_path = 'example_specs/mnist-net_256x4.onnx'\n",
    "vnnlib_path = 'example_specs/prop_0_spiral_25.vnnlib'"
   ]
  },
  {
   "cell_type": "code",
   "execution_count": 75,
   "id": "f5877b70-a4dd-4030-9a10-d331fa9a7608",
   "metadata": {
    "tags": []
   },
   "outputs": [],
   "source": [
    "model = load_onnx_model(onnx_path, [1,3,32,32])\n",
    "x = load_vnnlib_spec(vnnlib_path, [1,3,32,32], 10)"
   ]
  },
  {
   "cell_type": "code",
   "execution_count": 7,
   "id": "adc53d18-e9be-4af4-a001-63db69acd205",
   "metadata": {
    "tags": []
   },
   "outputs": [
    {
     "data": {
      "text/plain": [
       "tensor([[  0.0000,  15.7551,   0.0000, 148.0318,   0.0000,   0.0000,  34.0576,\n",
       "           0.0000,  48.0111,  19.1834]], grad_fn=<ReluBackward0>)"
      ]
     },
     "execution_count": 7,
     "metadata": {},
     "output_type": "execute_result"
    }
   ],
   "source": [
    "model(torch.zeros(1,3,32,32))"
   ]
  },
  {
   "cell_type": "code",
   "execution_count": 50,
   "id": "966e8365-1471-4751-97c8-8ab7fa8d094f",
   "metadata": {
    "tags": []
   },
   "outputs": [
    {
     "data": {
      "text/plain": [
       "tensor([[14.4844,  2.5041,  0.0000, 35.9410, 23.0315,  0.0000,  0.0000, 73.9405,\n",
       "          4.5554, 35.4615]], grad_fn=<ReluBackward0>)"
      ]
     },
     "execution_count": 50,
     "metadata": {},
     "output_type": "execute_result"
    }
   ],
   "source": [
    "model(x.data.reshape(-1).reshape(32, 32, 3).transpose(0,2))"
   ]
  },
  {
   "cell_type": "code",
   "execution_count": 53,
   "id": "98f3ae85-8b32-4df0-94ad-90099ebdb95e",
   "metadata": {
    "tags": []
   },
   "outputs": [
    {
     "data": {
      "text/plain": [
       "tensor([[14.4844,  2.5041,  0.0000, 35.9409, 23.0315,  0.0000,  0.0000, 73.9405,\n",
       "          4.5554, 35.4615]], grad_fn=<ReluBackward0>)"
      ]
     },
     "execution_count": 53,
     "metadata": {},
     "output_type": "execute_result"
    }
   ],
   "source": [
    "sub_tensor = torch.tensor([0.49140000343322754, 0.482200026512146, 0.4465000033378601]).reshape(1,3,1,1)\n",
    "div_tensor = torch.tensor([0.20230001211166382, 0.19940000772476196, 0.20100000500679016]).reshape(1,3,1,1)\n",
    "model((x.data.reshape(-1).reshape(32, 32, 3).transpose(0,2) - sub_tensor) / div_tensor)"
   ]
  },
  {
   "cell_type": "code",
   "execution_count": 65,
   "id": "106e1f97-7f4c-471f-bee1-9647befe1864",
   "metadata": {
    "tags": []
   },
   "outputs": [
    {
     "data": {
      "text/plain": [
       "tensor([[  0.0000,  61.7497,   0.0000,   0.0000,   0.0000,   0.0000,   0.0000,\n",
       "           0.0000,   0.0000, 151.8912]], grad_fn=<ReluBackward0>)"
      ]
     },
     "execution_count": 65,
     "metadata": {},
     "output_type": "execute_result"
    }
   ],
   "source": [
    "model(x.data.reshape(-1).reshape(1, 32, 32, 3).permute(0, 3, 1, 2))"
   ]
  },
  {
   "cell_type": "code",
   "execution_count": 64,
   "id": "1a2fa631-2534-4020-b840-99ceff9e2d04",
   "metadata": {
    "tags": []
   },
   "outputs": [
    {
     "data": {
      "text/plain": [
       "tensor([[0.0000e+00, 1.1229e+01, 1.0995e+02, 4.6737e+01, 5.2612e-02, 0.0000e+00,\n",
       "         8.6105e+01, 0.0000e+00, 0.0000e+00, 3.6859e+01]],\n",
       "       grad_fn=<ReluBackward0>)"
      ]
     },
     "execution_count": 64,
     "metadata": {},
     "output_type": "execute_result"
    }
   ],
   "source": [
    "model(x.data.permute(0, 3, 1, 2))"
   ]
  },
  {
   "cell_type": "code",
   "execution_count": 67,
   "id": "12c1ff30-1e75-4f44-86f7-dbb6e8cf25b7",
   "metadata": {
    "tags": []
   },
   "outputs": [
    {
     "data": {
      "text/plain": [
       "tensor([   1,    4,    7,  ..., 3066, 3069, 3072])"
      ]
     },
     "execution_count": 67,
     "metadata": {},
     "output_type": "execute_result"
    }
   ],
   "source": [
    "torch.arange(1, 3073).reshape(1, 32, 32, 3).permute(0, 3, 1, 2).reshape(-1)"
   ]
  },
  {
   "cell_type": "code",
   "execution_count": 72,
   "id": "abd412e6-eed8-45f8-b4db-ceba0ce81f70",
   "metadata": {
    "tags": []
   },
   "outputs": [
    {
     "data": {
      "text/plain": [
       "tensor([[1, 2, 3]])"
      ]
     },
     "execution_count": 72,
     "metadata": {},
     "output_type": "execute_result"
    }
   ],
   "source": [
    "torch.arange(1, 3073).reshape(1, 32, 32, 3).permute(0, 3, 1, 2)[:,:,0,0]"
   ]
  },
  {
   "cell_type": "code",
   "execution_count": 78,
   "id": "c4648809-19f3-4190-9bdd-df20867531a0",
   "metadata": {
    "tags": []
   },
   "outputs": [
    {
     "name": "stdout",
     "output_type": "stream",
     "text": [
      "tensor([[33.7842, 79.7529,  0.0000,  0.0000,  0.0000,  0.0000,  0.0000,  0.0000,\n",
      "         44.3727, 52.3093]], grad_fn=<ReluBackward0>)\n",
      "tensor(1)\n"
     ]
    }
   ],
   "source": [
    "x = torch.tensor([235,235,235,231,231,231,232,232,232,232,232,232,232,232,232,232,232,232,232,232,232,232,232,232,232,232,232,232,232,232,233,233,233,233,233,233,233,233,233,233,233,233,233,233,233,233,232,233,233,231,233,232,231,233,231,233,233,230,233,232,232,232,234,232,231,234,232,232,232,233,233,230,232,233,231,233,233,233,232,232,232,232,232,232,232,232,232,233,233,233,233,233,233,232,232,232,238,238,238,235,235,235,235,235,235,235,235,235,235,235,235,235,235,235,235,235,235,235,235,235,235,235,235,235,235,235,236,236,236,236,236,236,236,236,236,236,236,236,236,236,236,236,236,236,237,234,233,236,234,233,236,236,234,234,236,234,234,235,237,234,234,238,235,236,237,236,236,235,236,236,234,236,236,236,235,235,235,235,235,235,235,235,235,236,236,236,236,236,236,235,235,235,237,237,237,234,234,234,234,234,234,234,234,234,234,234,234,234,234,234,234,234,234,234,234,234,234,234,234,234,234,234,234,234,234,234,234,234,234,234,234,234,234,234,235,235,235,235,234,234,236,233,231,236,234,231,235,235,234,234,235,236,227,230,233,231,235,238,231,233,235,234,234,234,234,234,234,234,234,234,234,234,234,234,234,234,234,234,234,235,235,235,235,235,235,234,234,234,238,238,238,235,235,235,235,235,235,235,235,235,235,235,235,235,235,235,235,235,235,235,235,235,234,234,234,234,234,234,234,234,234,234,234,234,234,234,234,234,234,234,235,235,235,235,235,234,233,233,230,232,232,231,228,230,232,223,226,231,186,192,197,209,216,219,207,210,213,228,228,230,236,235,235,234,234,234,234,234,234,234,234,234,234,234,234,235,235,235,235,235,235,235,235,235,237,237,237,234,234,234,235,235,235,235,235,235,235,235,235,235,235,235,235,235,235,235,235,235,234,234,234,234,234,234,235,235,235,235,235,235,234,234,234,234,234,234,235,235,235,235,235,235,236,238,236,233,237,237,219,225,230,203,210,219,163,172,179,195,205,208,214,218,221,230,229,232,237,235,237,235,235,235,235,235,235,235,235,235,235,236,236,236,236,236,236,236,236,236,236,236,239,239,238,236,235,235,236,235,235,236,235,235,236,235,235,236,235,235,235,236,235,235,235,235,234,234,234,235,235,235,237,236,236,237,236,236,234,235,236,232,233,234,235,237,237,229,231,232,208,216,218,194,205,210,185,198,207,174,188,200,165,179,189,184,196,202,207,215,220,226,228,232,236,235,237,236,236,235,236,236,235,236,236,235,236,236,236,237,237,237,237,237,237,237,237,237,228,229,229,228,227,228,232,230,231,231,228,230,234,232,233,237,236,236,237,237,235,236,237,235,237,235,236,237,235,236,239,236,237,239,237,238,225,229,230,224,228,229,233,237,238,221,226,228,183,197,204,161,180,190,159,180,191,154,176,190,144,163,177,143,159,171,156,169,177,198,206,211,233,238,239,236,237,234,235,236,233,235,235,235,235,236,236,236,238,237,237,237,237,239,237,238,212,220,222,224,230,233,230,234,238,227,232,234,229,234,234,234,237,236,237,238,235,238,237,236,239,237,238,239,237,238,239,236,237,240,238,239,201,204,203,219,222,221,233,236,235,214,218,218,193,204,210,185,201,210,184,201,211,173,191,203,165,182,196,159,174,187,162,176,185,186,199,204,229,239,240,234,239,238,233,238,237,233,238,238,234,239,238,236,239,238,237,239,238,238,238,238,216,234,241,221,236,243,225,238,246,225,239,243,227,240,240,231,238,237,236,237,235,238,236,235,238,236,237,238,236,237,237,237,237,239,239,239,197,198,196,220,221,218,233,234,231,230,231,229,209,213,217,209,216,222,219,228,235,208,218,227,209,221,234,210,224,235,217,233,240,218,235,241,225,240,243,228,238,240,228,239,240,230,240,240,230,240,239,235,240,239,237,240,239,238,238,238,118,140,149,119,138,148,124,142,153,136,155,161,172,188,191,225,234,233,235,236,233,237,234,232,236,233,234,235,235,235,235,237,236,233,237,235,214,216,214,226,228,226,232,234,232,236,237,236,228,230,232,227,230,235,231,236,241,225,232,239,225,237,247,217,233,243,201,219,226,185,204,211,172,189,195,167,179,186,167,180,185,186,199,201,223,235,235,235,241,239,236,240,239,238,240,239,109,130,141,103,121,133,108,125,137,111,127,137,146,159,165,222,229,231,227,228,225,229,226,224,236,232,233,234,234,234,231,236,234,230,237,235,229,234,235,231,235,236,232,237,238,230,235,236,231,236,238,231,237,240,229,237,241,223,232,238,191,206,213,164,184,191,146,165,172,137,156,163,134,149,159,128,140,153,121,133,143,149,162,166,216,228,229,234,241,239,235,240,238,237,240,239,195,212,224,188,202,215,199,211,224,200,211,223,209,217,227,223,227,231,213,213,211,211,209,206,216,213,214,220,222,222,219,226,225,210,221,219,209,219,223,211,221,225,216,225,230,220,229,233,225,234,237,226,236,239,225,237,241,218,231,237,183,204,208,175,198,203,181,200,207,178,194,202,186,197,211,170,178,196,142,151,164,185,195,202,219,230,233,231,240,238,234,241,239,236,240,239,193,207,222,191,202,217,202,211,224,214,217,234,223,225,241,214,219,227,203,208,208,171,174,174,177,180,183,207,213,214,174,184,188,98,112,121,93,114,126,101,121,132,111,129,139,122,138,147,137,152,161,153,167,174,202,216,220,223,236,237,218,232,235,220,233,238,223,234,240,217,226,233,221,228,237,212,219,229,196,203,212,222,230,237,219,227,234,221,230,233,232,239,242,235,241,242,113,130,152,111,125,147,113,125,141,125,131,151,138,145,165,170,182,193,191,201,205,190,199,204,208,219,226,216,230,234,158,172,183,54,71,92,45,70,91,49,73,91,53,73,90,66,84,98,102,114,129,159,168,179,221,227,233,234,239,241,233,237,241,227,231,237,223,228,233,207,211,217,202,208,212,211,218,220,212,219,223,199,206,214,179,186,196,188,197,205,211,221,227,221,231,234,61,81,108,69,86,114,63,79,100,68,85,102,123,141,155,139,155,164,151,157,164,195,200,207,214,228,234,206,223,228,163,180,190,103,121,138,95,112,131,101,117,135,138,151,168,181,192,207,207,212,223,221,222,232,219,219,227,205,203,212,183,186,195,158,166,174,147,154,163,131,138,147,125,133,140,130,139,144,136,146,152,133,142,151,128,137,147,138,153,160,182,197,203,197,212,216,40,53,77,58,70,94,85,98,116,127,144,153,132,151,156,96,107,110,119,115,118,163,158,161,173,180,182,184,194,197,182,194,198,181,193,200,183,194,202,198,209,217,218,228,236,200,210,217,174,181,186,159,165,172,145,150,159,132,136,149,116,125,138,98,111,123,94,106,118,99,111,123,105,118,128,107,121,130,122,135,145,138,151,161,150,164,174,157,174,184,188,206,213,185,203,208,13,15,35,26,29,47,134,140,151,206,216,220,138,150,150,118,123,123,141,133,134,172,162,162,181,181,180,207,209,211,220,224,225,228,234,233,224,234,232,230,241,240,226,238,238,176,189,190,144,159,163,138,154,162,142,158,170,145,163,177,154,171,187,149,165,182,149,165,182,154,171,187,157,174,189,160,177,191,173,190,204,187,204,217,190,207,218,178,196,208,165,183,193,157,175,183,5,5,24,58,62,79,200,207,217,225,232,239,197,205,212,199,207,211,212,212,218,226,224,229,229,230,237,233,236,246,232,238,245,230,238,239,209,221,220,223,238,239,221,238,241,210,228,234,198,217,228,180,200,214,193,216,230,188,213,229,189,212,231,194,214,234,192,212,232,184,204,224,172,193,212,171,191,209,161,181,197,144,165,179,136,156,169,131,146,161,128,143,158,138,154,165,39,45,71,145,155,179,190,204,222,186,196,216,184,197,217,192,211,229,194,211,230,194,208,227,194,206,227,191,203,228,192,207,228,190,207,221,177,193,207,180,198,215,154,176,193,147,169,188,145,161,184,156,171,195,146,163,186,113,133,156,114,137,161,132,157,180,126,150,173,111,135,158,92,115,138,91,112,135,93,114,133,94,116,131,105,125,140,121,133,151,129,141,158,129,142,156,122,135,161,162,179,207,143,160,194,137,154,189,131,152,187,128,152,190,127,150,192,130,150,193,131,150,192,128,147,190,127,147,189,129,149,189,129,149,188,124,145,186,104,126,163,100,122,154,102,120,154,118,134,170,112,128,163,94,109,145,94,112,148,94,117,153,87,112,144,83,103,136,80,97,130,83,103,134,93,111,139,101,117,141,108,121,144,115,125,146,121,133,148,130,144,156,73,87,109,76,90,113,77,90,122,80,93,127,84,98,134,87,102,142,87,102,147,90,105,150,94,111,152,102,119,160,107,124,165,113,131,172,115,137,181,118,136,186,118,132,180,120,133,175,115,136,172,110,133,168,106,127,163,100,119,155,95,109,148,85,101,139,79,97,132,80,92,127,80,94,129,77,100,133,80,100,129,82,98,122,92,104,126,113,119,138,125,135,146,136,149,156,13,25,41,3,11,25,9,16,35,18,26,48,18,26,52,21,25,56,20,25,58,22,30,61,26,36,62,34,43,70,42,51,77,48,59,87,52,69,106,60,75,121,66,77,126,70,79,126,71,87,127,72,88,126,67,81,120,60,72,112,55,67,106,53,68,104,53,69,103,57,69,102,57,71,105,57,78,110,72,89,115,87,100,119,104,113,128,120,124,136,130,136,141,137,146,149,36,46,55,11,16,20,8,13,19,32,44,53,36,45,58,22,25,41,8,11,30,3,8,24,1,4,17,0,2,15,0,2,15,0,4,20,6,13,42,5,18,56,1,19,60,3,23,62,13,29,71,24,38,81,21,33,77,21,31,76,21,38,78,22,44,79,30,50,83,39,58,90,57,70,101,85,90,118,113,115,138,123,123,138,116,115,125,122,123,128,134,139,137,153,160,158,35,41,45,26,27,26,13,19,18,27,41,41,71,81,84,70,70,76,49,50,57,27,31,37,15,15,21,5,5,11,2,2,7,0,0,7,17,17,35,57,64,91,31,50,78,10,36,62,4,30,60,4,30,62,7,30,63,14,35,69,25,43,74,41,55,83,62,71,99,86,97,123,122,124,146,144,131,149,132,120,135,114,105,114,117,111,116,132,134,133,146,152,146,172,179,175,16,15,17,13,10,9,4,10,8,3,12,11,45,44,46,65,52,57,54,43,47,36,33,35,18,18,20,4,4,7,2,2,4,0,1,3,7,8,15,118,117,134,161,158,179,131,128,148,112,112,131,105,105,125,105,103,124,109,105,127,118,107,126,138,115,133,154,126,144,151,126,141,127,106,116,105,86,91,106,94,97,120,116,116,129,130,129,142,147,144,164,172,165,184,194,190,40,40,35,12,10,7,0,3,3,0,4,4,12,6,7,30,12,17,32,12,17,21,10,12,7,6,7,2,1,3,2,1,2,3,2,3,0,0,2,68,58,64,182,128,146,205,130,148,196,127,144,194,123,141,195,119,137,187,113,129,172,110,122,150,96,106,123,75,83,103,66,69,95,71,70,104,93,88,122,118,113,129,132,126,132,141,135,152,162,158,171,182,176,185,197,194,69,77,64,26,29,21,1,1,1,1,1,2,4,1,0,12,2,5,18,3,9,12,2,5,4,1,2,2,0,0,2,0,0,4,0,1,1,1,1,32,12,11,153,45,59,203,47,68,195,46,67,191,48,69,179,50,67,155,49,59,119,42,49,91,38,42,81,48,46,94,77,71,117,110,102,125,126,116,125,128,120,129,135,128,144,153,147,162,176,171,173,187,183,184,198,196,83,94,82,47,52,43,1,1,1,2,1,2,2,0,0,5,1,2,7,1,5,4,0,2,1,0,0,1,0,0,1,0,0,3,0,0,1,2,0,27,3,2,142,25,38,205,32,54,198,25,46,169,25,43,121,25,36,85,29,34,74,41,39,85,66,56,102,92,82,121,113,105,128,124,115,122,126,115,121,127,118,132,139,131,147,157,150,165,179,174,176,191,187,186,201,199,92,102,93,54,60,50,6,7,3,3,2,1,2,2,0,1,3,1,1,3,3,1,2,2,1,1,1,1,0,0,1,0,0,1,1,1,0,3,2,15,1,0,102,19,28,157,31,47,117,17,23,74,13,12,56,27,22,74,58,55,99,90,81,115,115,99,122,126,111,124,124,112,123,123,113,125,130,119,128,135,126,136,145,137,148,159,151,162,176,171,177,192,188,188,202,201,87,99,89,43,51,37,19,23,11,11,12,4,8,10,2,5,11,4,2,10,4,2,7,2,3,4,1,3,4,1,3,4,1,2,3,2,0,6,6,4,5,2,42,13,13,71,21,24,53,27,25,57,50,41,80,77,62,113,98,82,132,113,101,134,126,113,123,126,112,116,125,111,120,128,115,131,138,126,139,148,137,143,154,145,156,168,161,169,184,179,182,197,193,188,202,201,82,96,82,46,57,36,36,44,22,31,35,17,27,30,15,22,28,15,17,26,13,16,23,12,18,21,12,19,21,13,20,22,14,19,23,15,19,27,20,23,31,21,37,40,27,64,55,45,87,70,67,104,88,81,116,102,85,128,112,88,139,121,105,131,122,110,117,122,107,115,127,112,123,133,119,131,139,127,139,149,138,148,160,151,159,172,164,174,189,183,185,200,196,187,202,200,85,101,83,62,75,48,58,67,38,55,61,37,51,56,35,47,53,33,46,53,34,48,55,38,49,55,40,51,56,41,53,58,44,55,62,46,59,67,45,68,71,48,81,84,59,104,96,74,116,103,83,127,109,92,133,116,97,127,121,97,127,127,107,118,124,106,114,125,108,122,131,117,129,136,123,136,145,133,141,152,141,149,162,153,158,171,163,168,183,178,180,195,191,186,200,199])\n",
    "x = x / 255\n",
    "x = x.reshape(1, 32, 32, 3).permute(0, 3, 1, 2)\n",
    "\n",
    "y = model(x)\n",
    "print(y)\n",
    "print(torch.argmax(y))"
   ]
  },
  {
   "cell_type": "code",
   "execution_count": 41,
   "id": "ad8e879a-5c99-4e29-8720-f7b8d014dc4d",
   "metadata": {
    "tags": []
   },
   "outputs": [
    {
     "data": {
      "text/plain": [
       "tensor([[  0.0000, 194.2841,  11.4353,   0.0000,   0.0000,   0.0000,   0.0000,\n",
       "           0.0000,  15.2122,  73.4646]], grad_fn=<ReluBackward0>)"
      ]
     },
     "execution_count": 41,
     "metadata": {},
     "output_type": "execute_result"
    }
   ],
   "source": [
    "model(x.data)"
   ]
  },
  {
   "cell_type": "code",
   "execution_count": 18,
   "id": "b2a97059-3ee5-4a76-9699-4708f7ed55da",
   "metadata": {
    "tags": []
   },
   "outputs": [
    {
     "ename": "TypeError",
     "evalue": "'method' object is not subscriptable",
     "output_type": "error",
     "traceback": [
      "\u001b[0;31m---------------------------------------------------------------------------\u001b[0m",
      "\u001b[0;31mTypeError\u001b[0m                                 Traceback (most recent call last)",
      "Cell \u001b[0;32mIn[18], line 1\u001b[0m\n\u001b[0;32m----> 1\u001b[0m \u001b[43mmodel\u001b[49m\u001b[38;5;241;43m.\u001b[39;49m\u001b[43mnodes\u001b[49m\u001b[43m[\u001b[49m\u001b[38;5;124;43m'\u001b[39;49m\u001b[38;5;124;43m/31\u001b[39;49m\u001b[38;5;124;43m'\u001b[39;49m\u001b[43m]\u001b[49m\n",
      "\u001b[0;31mTypeError\u001b[0m: 'method' object is not subscriptable"
     ]
    }
   ],
   "source": [
    "model.nodes['/31']"
   ]
  },
  {
   "cell_type": "code",
   "execution_count": 31,
   "id": "63e957ca-25b9-4ee7-8b8e-d6a30818d56b",
   "metadata": {
    "tags": []
   },
   "outputs": [
    {
     "data": {
      "text/plain": [
       "BoundBuffers(name=/15, inputs=[], perturbed=False)"
      ]
     },
     "execution_count": 31,
     "metadata": {},
     "output_type": "execute_result"
    }
   ],
   "source": [
    "layers[1]"
   ]
  },
  {
   "cell_type": "code",
   "execution_count": 32,
   "id": "5c6aac8b-9aed-496e-a027-f151f7a40d44",
   "metadata": {
    "tags": []
   },
   "outputs": [
    {
     "data": {
      "text/plain": [
       "BoundSub(name=/31, inputs=[/0, /15], perturbed=False)"
      ]
     },
     "execution_count": 32,
     "metadata": {},
     "output_type": "execute_result"
    }
   ],
   "source": []
  },
  {
   "cell_type": "code",
   "execution_count": 24,
   "id": "08313044-0cad-49eb-93b1-7d36aec320a4",
   "metadata": {
    "tags": []
   },
   "outputs": [
    {
     "data": {
      "text/plain": [
       "[BoundInput(name=/0, inputs=[], perturbed=False),\n",
       " BoundBuffers(name=/15, inputs=[], perturbed=False),\n",
       " BoundBuffers(name=/16, inputs=[], perturbed=False),\n",
       " BoundParams(name=/17, inputs=[], perturbed=False),\n",
       " BoundParams(name=/18, inputs=[], perturbed=False),\n",
       " BoundParams(name=/19, inputs=[], perturbed=False),\n",
       " BoundParams(name=/20, inputs=[], perturbed=False),\n",
       " BoundParams(name=/21, inputs=[], perturbed=False),\n",
       " BoundParams(name=/22, inputs=[], perturbed=False),\n",
       " BoundParams(name=/23, inputs=[], perturbed=False),\n",
       " BoundParams(name=/24, inputs=[], perturbed=False),\n",
       " BoundParams(name=/25, inputs=[], perturbed=False),\n",
       " BoundParams(name=/26, inputs=[], perturbed=False),\n",
       " BoundParams(name=/27, inputs=[], perturbed=False),\n",
       " BoundParams(name=/28, inputs=[], perturbed=False),\n",
       " BoundParams(name=/29, inputs=[], perturbed=False),\n",
       " BoundParams(name=/30, inputs=[], perturbed=False),\n",
       " BoundSub(name=/31, inputs=[/0, /15], perturbed=False),\n",
       " BoundFlatten(name=/33, inputs=[/32/mul], perturbed=False),\n",
       " BoundLinear(name=/input, inputs=[/33, /17, /18], perturbed=False),\n",
       " BoundRelu(name=/35, inputs=[/input], perturbed=False),\n",
       " BoundLinear(name=/input.3, inputs=[/35, /19, /20], perturbed=False),\n",
       " BoundRelu(name=/37, inputs=[/input.3], perturbed=False),\n",
       " BoundLinear(name=/input.7, inputs=[/37, /21, /22], perturbed=False),\n",
       " BoundRelu(name=/39, inputs=[/input.7], perturbed=False),\n",
       " BoundLinear(name=/input.11, inputs=[/39, /23, /24], perturbed=False),\n",
       " BoundRelu(name=/41, inputs=[/input.11], perturbed=False),\n",
       " BoundLinear(name=/input.15, inputs=[/41, /25, /26], perturbed=False),\n",
       " BoundRelu(name=/43, inputs=[/input.15], perturbed=False),\n",
       " BoundLinear(name=/input.19, inputs=[/43, /27, /28], perturbed=False),\n",
       " BoundRelu(name=/45, inputs=[/input.19], perturbed=False),\n",
       " BoundLinear(name=/input.23, inputs=[/45, /29, /30], perturbed=False),\n",
       " BoundRelu(name=/47, inputs=[/input.23], perturbed=False),\n",
       " BoundReciprocal(name=/32/reciprocal, inputs=[/16], perturbed=False),\n",
       " BoundMul(name=/32/mul, inputs=[/31, /32/reciprocal], perturbed=False)]"
      ]
     },
     "execution_count": 24,
     "metadata": {},
     "output_type": "execute_result"
    }
   ],
   "source": [
    "layers = [l for l in model.nodes()]\n",
    "layers"
   ]
  },
  {
   "cell_type": "code",
   "execution_count": null,
   "id": "58565b20-5572-44e9-9674-53b4f7f4f2d0",
   "metadata": {},
   "outputs": [],
   "source": []
  },
  {
   "cell_type": "code",
   "execution_count": 5,
   "id": "8fab04bf-c040-4b7e-ab18-93d7414134fe",
   "metadata": {
    "tags": []
   },
   "outputs": [
    {
     "name": "stderr",
     "output_type": "stream",
     "text": [
      "/home/philipp/anaconda3/envs/autoLiRPA/lib/python3.10/site-packages/onnx2pytorch/convert/layer.py:29: UserWarning: The given NumPy array is not writable, and PyTorch does not support non-writable tensors. This means writing to this tensor will result in undefined behavior. You may want to copy the array to protect its data or make it writable before converting it to a tensor. This type of warning will be suppressed for the rest of this program. (Triggered internally at  /home/conda/feedstock_root/build_artifacts/pytorch-recipe_1654951016690/work/torch/csrc/utils/tensor_numpy.cpp:172.)\n",
      "  layer.weight.data = torch.from_numpy(numpy_helper.to_array(weight))\n",
      "/home/philipp/anaconda3/envs/autoLiRPA/lib/python3.10/site-packages/onnx2pytorch/convert/model.py:167: TracerWarning: Converting a tensor to a Python boolean might cause the trace to be incorrect. We can't record the data flow of Python values, so this value will be treated as a constant in the future. This means that the trace might not generalize to other inputs!\n",
      "  if not self.experimental and inputs[0].shape[self.batch_dim] > 1:\n"
     ]
    }
   ],
   "source": [
    "model = load_onnx_model(onnx_path, [1,1,1,784])\n",
    "x = load_vnnlib_spec(vnnlib_path, [1,1,1,784], 10)"
   ]
  },
  {
   "cell_type": "markdown",
   "id": "f0ab3486-51a1-48ce-aa12-d8937dc4da0d",
   "metadata": {},
   "source": [
    "# Helper Methods"
   ]
  },
  {
   "cell_type": "code",
   "execution_count": 6,
   "id": "c6ae127f-1b84-42e2-954e-d65dcffde529",
   "metadata": {
    "tags": []
   },
   "outputs": [],
   "source": [
    "def get_layers(model):\n",
    "    return [l for l in model.nodes() if l.perturbed]"
   ]
  },
  {
   "cell_type": "code",
   "execution_count": 7,
   "id": "0cd1e80e-10db-4e9b-9c23-394d829d580e",
   "metadata": {
    "tags": []
   },
   "outputs": [],
   "source": [
    "def get_intermediate_bounds(model):\n",
    "    \"\"\"\n",
    "    Returns a dictionary containing the concrete lower and upper bounds of each layer.\n",
    "    \n",
    "    Implemented own method to filter out bounds for weight matrices.\n",
    "    \n",
    "    Only call this method after compute_bounds()!\n",
    "    \"\"\"\n",
    "    od = OrderedDict()\n",
    "    for l in get_layers(model):\n",
    "        if hasattr(l, 'lower'):\n",
    "            od[l.name] = (l.lower, l.upper)\n",
    "            \n",
    "    return od"
   ]
  },
  {
   "cell_type": "markdown",
   "id": "9f560f8c-df6b-4ac1-833c-834e07349be7",
   "metadata": {},
   "source": [
    "# Get Intermediate Bounds"
   ]
  },
  {
   "cell_type": "code",
   "execution_count": 8,
   "id": "d908f042-6132-4fac-92cc-d9c01e158c20",
   "metadata": {
    "tags": []
   },
   "outputs": [
    {
     "data": {
      "text/plain": [
       "(tensor([[-447.2314, -373.2225, -492.4267, -520.7729, -479.3799, -425.8518,\n",
       "          -413.6321, -447.6174, -532.3359, -408.0772]], grad_fn=<AddBackward0>),\n",
       " tensor([[356.4533, 318.0782, 320.3526, 274.7251, 371.1610, 338.5822, 395.8803,\n",
       "          377.8232, 375.9247, 400.2977]], grad_fn=<AddBackward0>))"
      ]
     },
     "execution_count": 8,
     "metadata": {},
     "output_type": "execute_result"
    }
   ],
   "source": [
    "model.compute_bounds(x=(x,), method='ibp')"
   ]
  },
  {
   "cell_type": "code",
   "execution_count": 9,
   "id": "f5fb62c8-e2d4-46bd-9304-161aac9aebde",
   "metadata": {
    "tags": []
   },
   "outputs": [
    {
     "name": "stdout",
     "output_type": "stream",
     "text": [
      "/0: torch.Size([1, 1, 1, 784])\n",
      "/21: torch.Size([1, 784])\n",
      "/input: torch.Size([1, 256])\n",
      "/23: torch.Size([1, 256])\n",
      "/input.3: torch.Size([1, 256])\n",
      "/25: torch.Size([1, 256])\n",
      "/input.7: torch.Size([1, 256])\n",
      "/27: torch.Size([1, 256])\n",
      "/input.11: torch.Size([1, 256])\n",
      "/29: torch.Size([1, 256])\n",
      "/30: torch.Size([1, 10])\n"
     ]
    }
   ],
   "source": [
    "bounds_dict = get_intermediate_bounds(model)\n",
    "for k, (lbs, ubs) in bounds_dict.items():\n",
    "    print(f\"{k}: {lbs.shape}\")"
   ]
  },
  {
   "cell_type": "code",
   "execution_count": 10,
   "id": "23b50fbc-87e5-4727-bff6-59fe510773ec",
   "metadata": {
    "tags": []
   },
   "outputs": [
    {
     "data": {
      "text/plain": [
       "(tensor([[-447.2314, -373.2225, -492.4267, -520.7729, -479.3799, -425.8518,\n",
       "          -413.6321, -447.6174, -532.3359, -408.0772]], grad_fn=<AddBackward0>),\n",
       " tensor([[356.4533, 318.0782, 320.3526, 274.7251, 371.1610, 338.5822, 395.8803,\n",
       "          377.8232, 375.9247, 400.2977]], grad_fn=<AddBackward0>))"
      ]
     },
     "execution_count": 10,
     "metadata": {},
     "output_type": "execute_result"
    }
   ],
   "source": [
    "bounds_dict['/30']"
   ]
  },
  {
   "cell_type": "code",
   "execution_count": 11,
   "id": "708a54d3-a379-4d9f-b1fa-29d0600d15d6",
   "metadata": {
    "tags": []
   },
   "outputs": [
    {
     "data": {
      "text/plain": [
       "(tensor([[-0.4672, -0.4103, -0.4026, -0.3573, -0.4667, -0.4770, -0.3886, -0.4031,\n",
       "          -0.5523, -0.4308]], grad_fn=<ViewBackward0>),\n",
       " tensor([[0.6201, 0.4692, 0.6307, 0.4833, 1.8194, 0.5396, 0.9479, 0.4172, 0.6483,\n",
       "          0.6467]], grad_fn=<ViewBackward0>))"
      ]
     },
     "execution_count": 11,
     "metadata": {},
     "output_type": "execute_result"
    }
   ],
   "source": [
    "model.compute_bounds(x=(x,), method='crown')"
   ]
  },
  {
   "cell_type": "code",
   "execution_count": 13,
   "id": "873f7e73-c1a6-4067-8511-bb7240ae6c83",
   "metadata": {
    "tags": []
   },
   "outputs": [
    {
     "data": {
      "text/plain": [
       "(tensor([[-447.2314, -373.2225, -492.4267, -520.7729, -479.3799, -425.8518,\n",
       "          -413.6321, -447.6174, -532.3359, -408.0772]], grad_fn=<AddBackward0>),\n",
       " tensor([[356.4533, 318.0782, 320.3526, 274.7251, 371.1610, 338.5822, 395.8803,\n",
       "          377.8232, 375.9247, 400.2977]], grad_fn=<AddBackward0>))"
      ]
     },
     "execution_count": 13,
     "metadata": {},
     "output_type": "execute_result"
    }
   ],
   "source": [
    "bounds_dict['/30']"
   ]
  },
  {
   "cell_type": "code",
   "execution_count": 14,
   "id": "80db1299-3f22-4b4e-aa48-92b2b4f33099",
   "metadata": {
    "tags": []
   },
   "outputs": [
    {
     "data": {
      "text/plain": [
       "(tensor([[-0.4672, -0.4103, -0.4026, -0.3573, -0.4667, -0.4770, -0.3886, -0.4031,\n",
       "          -0.5523, -0.4308]], grad_fn=<ViewBackward0>),\n",
       " tensor([[0.6201, 0.4692, 0.6307, 0.4833, 1.8194, 0.5396, 0.9479, 0.4172, 0.6483,\n",
       "          0.6467]], grad_fn=<ViewBackward0>))"
      ]
     },
     "execution_count": 14,
     "metadata": {},
     "output_type": "execute_result"
    }
   ],
   "source": [
    "bounds_dict_crown = get_intermediate_bounds(model)\n",
    "bounds_dict_crown['/30']"
   ]
  },
  {
   "cell_type": "markdown",
   "id": "baad5ac4-ea3b-4026-8026-cfb42669717b",
   "metadata": {},
   "source": [
    "**Attention**: CROWN-bounds are only saved for pre-activation nodes and the output!\n",
    "(in contrast to interval propagation bounds, that are saved for every layer)"
   ]
  },
  {
   "cell_type": "code",
   "execution_count": 15,
   "id": "df9b80ac-d1f4-42e3-b524-f029468805e7",
   "metadata": {
    "tags": []
   },
   "outputs": [
    {
     "data": {
      "text/plain": [
       "odict_keys(['/0', '/input', '/input.3', '/input.7', '/input.11', '/30'])"
      ]
     },
     "execution_count": 15,
     "metadata": {},
     "output_type": "execute_result"
    }
   ],
   "source": [
    "bounds_dict_crown.keys()"
   ]
  },
  {
   "cell_type": "code",
   "execution_count": 16,
   "id": "9fdd5318-b352-42f2-b5f6-d423faa1063f",
   "metadata": {
    "tags": []
   },
   "outputs": [
    {
     "name": "stdout",
     "output_type": "stream",
     "text": [
      "tensor([[-171.4623, -160.4540, -304.7760, -128.2996, -153.7493, -117.9111,\n",
      "         -123.5061, -278.8083, -158.6687, -207.4034]],\n",
      "       grad_fn=<SliceBackward0>)\n",
      "tensor([[-1.8260, -3.1913, -2.1607, -2.8250, -4.0157, -2.1657, -0.7982, -1.6259,\n",
      "         -1.0763, -5.0089]], grad_fn=<SliceBackward0>)\n"
     ]
    }
   ],
   "source": [
    "lbs11_ibp, ubs11_ibp = bounds_dict['/input.11']\n",
    "lbs11_crown, ubs11_crown = bounds_dict_crown['/input.11']\n",
    "\n",
    "print(lbs11_ibp[:,:10])\n",
    "print(lbs11_crown[:,:10])"
   ]
  },
  {
   "cell_type": "markdown",
   "id": "2cd89d77-3247-41b2-9750-761c8db65dd4",
   "metadata": {},
   "source": [
    "# Sampling via CROWN\n",
    "\n",
    "In order to use CROWN to calculate bounds for the sampled directions, we make use of the possibility to supply\n",
    "- a constraint matrix (which we use to represent the sampled directions) and\n",
    "- to specify the output layer (which we just set to the layer, for which we want to sample)\n",
    "\n",
    "The shape of the constraint matrix is `(batch, n_directions, n_neurons)`, where we just set `batch=1`.\n",
    "\n",
    "The output layer is specified via the node names in the node dictionary."
   ]
  },
  {
   "cell_type": "code",
   "execution_count": 17,
   "id": "26b77cc7-aef4-4b38-aa22-f1fefa101b86",
   "metadata": {
    "tags": []
   },
   "outputs": [
    {
     "data": {
      "text/plain": [
       "(tensor([[ -3.5966,   3.4826,   0.1199,  -2.3320, -73.6734]],\n",
       "        grad_fn=<ViewBackward0>),\n",
       " tensor([[ 13.9218, 105.1290,  19.2300,  36.2667,   3.3111]],\n",
       "        grad_fn=<ViewBackward0>))"
      ]
     },
     "execution_count": 17,
     "metadata": {},
     "output_type": "execute_result"
    }
   ],
   "source": [
    "n_batch = 1\n",
    "n_dirs = 5\n",
    "n_neurons = 256\n",
    "C = torch.randn(n_batch, n_dirs, n_neurons)\n",
    "\n",
    "model.compute_bounds(x=(x,), final_node_name='/input.11', C=C, method='crown')"
   ]
  },
  {
   "cell_type": "markdown",
   "id": "1e104ab9-2483-4d38-a689-d9e30bd0e89a",
   "metadata": {},
   "source": [
    "We can also use $\\alpha$-CROWN to optimize the bounds of the directions."
   ]
  },
  {
   "cell_type": "code",
   "execution_count": 18,
   "id": "00566dcc-eb57-447a-9eef-5872290cc4da",
   "metadata": {
    "tags": []
   },
   "outputs": [
    {
     "data": {
      "text/plain": [
       "(tensor([[ -2.8655,  18.5538,   0.2205,   5.4271, -68.6798]]),\n",
       " tensor([[ 4.0163, 98.9213,  7.0998, 34.7713, -8.0158]]))"
      ]
     },
     "execution_count": 18,
     "metadata": {},
     "output_type": "execute_result"
    }
   ],
   "source": [
    "model.compute_bounds(x=(x,), final_node_name='/input.11', C=C, method='alpha-crown')"
   ]
  },
  {
   "cell_type": "markdown",
   "id": "30cec03c-35cd-4ac8-a910-d84bb8c17d80",
   "metadata": {},
   "source": [
    "When using more iterations, the bounds may get slightly better."
   ]
  },
  {
   "cell_type": "code",
   "execution_count": 19,
   "id": "51f598e9-f0f3-4bb0-827a-673e37122841",
   "metadata": {
    "tags": []
   },
   "outputs": [
    {
     "data": {
      "text/plain": [
       "{'conv_mode': 'patches',\n",
       " 'sparse_intermediate_bounds': True,\n",
       " 'sparse_conv_intermediate_bounds': True,\n",
       " 'sparse_intermediate_bounds_with_ibp': True,\n",
       " 'sparse_features_alpha': True,\n",
       " 'sparse_spec_alpha': True,\n",
       " 'minimum_sparsity': 0.9,\n",
       " 'enable_opt_interm_bounds': False,\n",
       " 'crown_batch_size': inf,\n",
       " 'forward_refinement': False,\n",
       " 'dynamic_forward': False,\n",
       " 'forward_max_dim': 1000000000,\n",
       " 'use_full_conv_alpha': True,\n",
       " 'disabled_optimization': [],\n",
       " 'use_full_conv_alpha_thresh': 512,\n",
       " 'verbosity': 0,\n",
       " 'optimize_graph': {'optimizer': None},\n",
       " 'optimize_bound_args': {'enable_alpha_crown': True,\n",
       "  'enable_beta_crown': False,\n",
       "  'apply_output_constraints_to': None,\n",
       "  'iteration': 20,\n",
       "  'use_shared_alpha': False,\n",
       "  'optimizer': 'adam',\n",
       "  'keep_best': True,\n",
       "  'fix_interm_bounds': True,\n",
       "  'lr_alpha': 0.5,\n",
       "  'lr_beta': 0.05,\n",
       "  'lr_cut_beta': 0.005,\n",
       "  'init_alpha': True,\n",
       "  'lr_coeffs': 0.01,\n",
       "  'intermediate_refinement_layers': [-1],\n",
       "  'loss_reduction_func': <function auto_LiRPA.utils.<lambda>(x)>,\n",
       "  'stop_criterion_func': <function auto_LiRPA.optimized_bounds.<lambda>(x)>,\n",
       "  'lr_decay': 0.98,\n",
       "  'early_stop_patience': 10,\n",
       "  'start_save_best': 0.5,\n",
       "  'use_float64_in_last_iteration': False,\n",
       "  'pruning_in_iteration': False,\n",
       "  'pruning_in_iteration_threshold': 0.2,\n",
       "  'multi_spec_keep_func': <function auto_LiRPA.utils.multi_spec_keep_func_all(x)>,\n",
       "  'deterministic': False},\n",
       " 'final_shape': torch.Size([1, 5])}"
      ]
     },
     "execution_count": 19,
     "metadata": {},
     "output_type": "execute_result"
    }
   ],
   "source": [
    "model.bound_opts"
   ]
  },
  {
   "cell_type": "code",
   "execution_count": 20,
   "id": "47d2abd9-95e9-4786-9678-35ae926a1968",
   "metadata": {
    "tags": []
   },
   "outputs": [],
   "source": [
    "def set_params(model, use_shared_alpha=False, iteration=20, early_stop_patience=10):\n",
    "    model.bound_opts['optimize_bound_args']['use_shared_alpha'] = use_shared_alpha\n",
    "    model.bound_opts['optimize_bound_args']['iteration'] = iteration\n",
    "    model.bound_opts['optimize_bound_args']['early_stop_patience'] = early_stop_patience"
   ]
  },
  {
   "cell_type": "code",
   "execution_count": 21,
   "id": "2d1d6c7a-74d1-4990-8407-e07237a8e2bd",
   "metadata": {
    "tags": []
   },
   "outputs": [
    {
     "data": {
      "text/plain": [
       "(tensor([[ -2.8637,  18.6105,   0.2209,   5.4440, -68.6639]]),\n",
       " tensor([[ 3.9676, 98.8920,  7.0489, 34.7632, -8.0771]]))"
      ]
     },
     "execution_count": 21,
     "metadata": {},
     "output_type": "execute_result"
    }
   ],
   "source": [
    "set_params(model, iteration=100)\n",
    "model.compute_bounds(x=(x,), final_node_name='/input.11', C=C, method='alpha-crown')"
   ]
  },
  {
   "cell_type": "markdown",
   "id": "01023109-244c-4c86-8c4b-8a28e343bd4a",
   "metadata": {},
   "source": [
    "# Converting Bounds to Points\n",
    "\n",
    "CROWN only gives us **bounds** for linear combinations of neuron inputs that we specified in the matrix `C`. \n",
    "However, we need **points** - not the bounds.\n",
    "Therefore, we also save the parameters of the backsubstituted inequalities and obtain the points in the input space that maximize/minimize the corresponding linear inequalities.\n",
    "These maximizers/minimizers are then substituted into the inequalities for the neuron-inputs.\n",
    "\n",
    "To obtain the coefficients of the inequalities, we need to set \n",
    "- `return_A = True` and also specify which coefficients we need by setting\n",
    "- `needed_A_dict = {<layer_i> : [<layer_j>, <layer_k>]}` which will return the matrix of coefficients when substituting back from `layer_i` to `layer_j` and the matrix when substituting back from `layer_i` to `layer_k`"
   ]
  },
  {
   "cell_type": "code",
   "execution_count": 77,
   "id": "10414ae8-19dd-4ae4-b465-e58700244672",
   "metadata": {
    "tags": []
   },
   "outputs": [],
   "source": [
    "lbs11crown, ubs11crown, A_dict = model.compute_bounds(x=(x,), final_node_name='/input.11', method='alpha-crown', return_A=True, needed_A_dict={'/input.11': ['/0']})"
   ]
  },
  {
   "cell_type": "markdown",
   "id": "6dd6119d-76e1-4bab-96ba-96f9addb94c8",
   "metadata": {},
   "source": [
    "The stored coefficients have shape `(batch, spec, *input_size)`. \n",
    "\n",
    "So if the input had shape `(1,1,1,784)` (which is `(batch, input_size1, input_size2, input_size3)`) and the matrix of specifications had `5` inequalities, the stored coefficients will have shape `(1, 5, 1, 1, 784)` (which is `(batch, spec, input_size1, input_size2, input_size3)`.\n",
    "\n",
    "If no matrix of specifications is given, the `spec` dimension just has the shape of the layer (i.e. if it has 256 neurons, we have `spec = 256`)"
   ]
  },
  {
   "cell_type": "code",
   "execution_count": 78,
   "id": "649cba12-ada4-49d3-a8c4-de90131efa65",
   "metadata": {
    "tags": []
   },
   "outputs": [
    {
     "name": "stdout",
     "output_type": "stream",
     "text": [
      "A.shape =  torch.Size([1, 256, 1, 1, 784])\n"
     ]
    }
   ],
   "source": [
    "lA_neurons = A_dict['/input.11']['/0']['lA']\n",
    "lb_neurons = A_dict['/input.11']['/0']['lbias']\n",
    "\n",
    "uA_neurons = A_dict['/input.11']['/0']['uA']\n",
    "ub_neurons = A_dict['/input.11']['/0']['ubias']\n",
    "\n",
    "print(\"A.shape = \", lA_neurons.shape)"
   ]
  },
  {
   "cell_type": "markdown",
   "id": "b0feb7d7-8994-49f0-96b6-e0f3e809a6b6",
   "metadata": {},
   "source": [
    "After obtaining the coefficients for the **neurons**, we now obtain the coefficients for the sampled **directions**."
   ]
  },
  {
   "cell_type": "code",
   "execution_count": 62,
   "id": "46372323-d51a-4268-b973-6e4cbd71353b",
   "metadata": {
    "tags": []
   },
   "outputs": [],
   "source": [
    "lbs11crown, ubs11crown, A_dict = model.compute_bounds(x=(x,), final_node_name='/input.11', C=C, method='alpha-crown', return_A=True, needed_A_dict={'/input.11': ['/0']})"
   ]
  },
  {
   "cell_type": "code",
   "execution_count": 64,
   "id": "2a3771fc-0a8f-4d5c-aadd-cb023d368776",
   "metadata": {
    "tags": []
   },
   "outputs": [
    {
     "name": "stdout",
     "output_type": "stream",
     "text": [
      "A.shape =  torch.Size([1, 5, 1, 1, 784])\n"
     ]
    }
   ],
   "source": [
    "lA = A_dict['/input.11']['/0']['lA']\n",
    "lb = A_dict['/input.11']['/0']['lbias']\n",
    "\n",
    "uA = A_dict['/input.11']['/0']['uA']\n",
    "ub = A_dict['/input.11']['/0']['ubias']\n",
    "\n",
    "print(\"A.shape = \", lA.shape)"
   ]
  },
  {
   "cell_type": "code",
   "execution_count": 65,
   "id": "a49a3d5f-a77a-4f60-8c16-52dbfd3e15a5",
   "metadata": {},
   "outputs": [],
   "source": [
    "def flatten2matrix(A_tensor, batch_id=0):\n",
    "    \"\"\"\n",
    "    Returns matrix of shape (spec, input_flat) corresponding to batch_id of the A_tensor.\n",
    "    \"\"\"\n",
    "    # reshape to (batch, spec, input_flat), then take specific batch (0th batch)\n",
    "    A_mat = A_tensor.reshape(A_tensor.shape[0], A_tensor.shape[1], -1)[batch_id, :]    \n",
    "    return A_mat\n",
    "\n",
    "def flatten2vector(b_tensor, batch_id=0):\n",
    "    \"\"\"\n",
    "    Returns flat input vector corresponding to the specified batch.\n",
    "    \"\"\"\n",
    "    b_vec = b_tensor.reshape(b_tensor.shape[0], -1)[batch_id, :]\n",
    "    return b_vec"
   ]
  },
  {
   "cell_type": "markdown",
   "id": "4dbf0208-141b-4fb5-bbee-0f5dff32a142",
   "metadata": {},
   "source": [
    "The following cell is just to demonstrate that we get the same bounds as for the specification, if we calculate them by hand.\n",
    "(minor differences are expected due to randomization in the SGD procedure)"
   ]
  },
  {
   "cell_type": "code",
   "execution_count": 79,
   "id": "ebbd482d-1c93-4222-a099-96ff45f52e0a",
   "metadata": {
    "tags": []
   },
   "outputs": [
    {
     "name": "stdout",
     "output_type": "stream",
     "text": [
      "tensor([ -2.8642,  18.5939,   0.2207,   5.4452, -68.6601])\n"
     ]
    }
   ],
   "source": [
    "lA_mat = flatten2matrix(lA)\n",
    "lb_vec = flatten2vector(lb)\n",
    "\n",
    "uA_mat = flatten2matrix(uA)\n",
    "ub_vec = flatten2vector(ub)\n",
    "\n",
    "x_L_vec = flatten2vector(x.ptb.x_L)\n",
    "x_U_vec = flatten2vector(x.ptb.x_U)\n",
    "\n",
    "lA_neg = torch.minimum(torch.zeros(1), lA_mat)\n",
    "lA_pos = torch.maximum(torch.zeros(1), lA_mat)\n",
    "\n",
    "uA_neg = torch.minimum(torch.zeros(1), uA_mat)\n",
    "uA_pos = torch.maximum(torch.zeros(1), uA_mat)\n",
    "\n",
    "lo = lA_pos.matmul(x_L_vec) + lA_neg.matmul(x_U_vec) + lb_vec\n",
    "\n",
    "print(lo)"
   ]
  },
  {
   "cell_type": "markdown",
   "id": "62aa1783-5563-4b76-8fe9-18151b9e39f4",
   "metadata": {},
   "source": [
    "Now get the inputs that are used to calculate the lower bound of the output.\n",
    "\n",
    "For computation of lower bounds:\n",
    "- if the coefficient of input $x_i$ is negative, we take the *upper* bound of $x_i$\n",
    "- if the coefficient of input $x_i$ is positive, we take the *lower* bound of the input\n",
    "\n",
    "to calculate the lower bound of the specification output\n",
    "\n",
    "Vice-versa for computation of the upper bound on the specification output."
   ]
  },
  {
   "cell_type": "code",
   "execution_count": 81,
   "id": "78d70273-f627-4bae-bce6-1291e39b07b1",
   "metadata": {
    "tags": []
   },
   "outputs": [],
   "source": [
    "x_lo = x_L_vec * (lA_mat > 0) + x_U_vec * (lA_mat < 0)\n",
    "x_up = x_U_vec * (uA_mat > 0) + x_L_vec * (uA_mat < 0)"
   ]
  },
  {
   "cell_type": "markdown",
   "id": "d3c979a3-ff11-4b74-8b21-f11675fb6996",
   "metadata": {},
   "source": [
    "Then calculate bounds of the neuron inputs using these obtained values of the $x_i$"
   ]
  },
  {
   "cell_type": "code",
   "execution_count": 82,
   "id": "9a4dc14b-a0dd-4ba2-b997-e6bcd93cc003",
   "metadata": {},
   "outputs": [],
   "source": [
    "lA_neurons_mat = flatten2matrix(lA_neurons)\n",
    "lb_neurons_vec = flatten2vector(lb_neurons)\n",
    "\n",
    "uA_neurons_mat = flatten2matrix(uA_neurons)\n",
    "ub_neurons_vec = flatten2vector(ub_neurons)"
   ]
  },
  {
   "cell_type": "code",
   "execution_count": 83,
   "id": "22718fed-07ad-4be5-8ee3-5546d77fdb7f",
   "metadata": {},
   "outputs": [],
   "source": [
    "l_neurons_subs = x_lo.matmul(lA_neurons_mat.T) + lb_neurons_vec\n",
    "u_neurons_subs = x_lo.matmul(uA_neurons_mat.T) + ub_neurons_vec"
   ]
  },
  {
   "cell_type": "code",
   "execution_count": 84,
   "id": "380ccade-f427-4fd7-8dcc-e191fefa1641",
   "metadata": {},
   "outputs": [
    {
     "data": {
      "text/plain": [
       "tensor([[-0.8823, -1.9052, -1.3219,  ..., -6.1794, -2.7905, -0.5578],\n",
       "        [-0.8823, -1.9052, -1.3219,  ..., -6.1794, -2.7905, -0.5578],\n",
       "        [-0.8823, -1.9052, -1.3219,  ..., -6.1794, -2.7905, -0.5578],\n",
       "        [-0.8807, -1.8992, -1.3147,  ..., -6.1559, -2.7797, -0.5579],\n",
       "        [-0.9500, -2.4437, -1.9653,  ..., -8.3334, -3.7501, -0.4112]])"
      ]
     },
     "execution_count": 84,
     "metadata": {},
     "output_type": "execute_result"
    }
   ],
   "source": [
    "l_neurons_subs"
   ]
  },
  {
   "cell_type": "code",
   "execution_count": 85,
   "id": "f92ed381-642f-4458-9afe-5d6a9f536a31",
   "metadata": {
    "tags": []
   },
   "outputs": [
    {
     "data": {
      "text/plain": [
       "tensor([[-0.3018, -0.5380,  0.0490,  ..., -1.9711, -0.6990, -0.1242],\n",
       "        [-0.3018, -0.5380,  0.0490,  ..., -1.9711, -0.6990, -0.1242],\n",
       "        [-0.3018, -0.5380,  0.0490,  ..., -1.9711, -0.6990, -0.1242],\n",
       "        [-0.3014, -0.5367,  0.0505,  ..., -1.9666, -0.6968, -0.1245],\n",
       "        [-0.4520, -1.0317, -0.4799,  ..., -3.6531, -1.4987, -0.1012]])"
      ]
     },
     "execution_count": 85,
     "metadata": {},
     "output_type": "execute_result"
    }
   ],
   "source": [
    "u_neurons_subs"
   ]
  },
  {
   "cell_type": "code",
   "execution_count": 101,
   "id": "c6ff1dc6-db54-4650-a098-28ecad405dfe",
   "metadata": {
    "tags": []
   },
   "outputs": [
    {
     "data": {
      "text/plain": [
       "tensor([[-154.4405, -154.4405, -154.4405, -153.7955, -165.0589],\n",
       "        [-122.0603, -122.0603, -122.0603, -121.5373, -109.7246],\n",
       "        [-171.8250, -171.8250, -171.8250, -171.0766, -185.8952],\n",
       "        [-154.2048, -154.2048, -154.2048, -153.5711, -156.8310],\n",
       "        [-200.7205, -200.7205, -200.7205, -199.8855, -230.7391]])"
      ]
     },
     "execution_count": 101,
     "metadata": {},
     "output_type": "execute_result"
    }
   ],
   "source": [
    "C_mat = flatten2matrix(C)\n",
    "\n",
    "# multiply each row of the specification (i.e. each direction) with each column of l_neurons_subs.T\n",
    "# (i.e. the rows of l_neurons_subs, which are the minimizers of the respective directions).\n",
    "torch.maximum(torch.zeros(1), C_mat).matmul(l_neurons_subs.T) + torch.minimum(torch.zeros(1), C_mat).matmul(u_neurons_subs.T)"
   ]
  },
  {
   "cell_type": "code",
   "execution_count": 97,
   "id": "06ba861d-e084-4991-90b9-f9ccd8b9b9a5",
   "metadata": {},
   "outputs": [
    {
     "data": {
      "text/plain": [
       "torch.Size([5, 256])"
      ]
     },
     "execution_count": 97,
     "metadata": {},
     "output_type": "execute_result"
    }
   ],
   "source": [
    "C_mat.shape"
   ]
  },
  {
   "cell_type": "code",
   "execution_count": 98,
   "id": "273678cb-2076-4b59-b59d-ae2d0341b66b",
   "metadata": {
    "tags": []
   },
   "outputs": [
    {
     "data": {
      "text/plain": [
       "torch.Size([5, 256])"
      ]
     },
     "execution_count": 98,
     "metadata": {},
     "output_type": "execute_result"
    }
   ],
   "source": [
    "l_neurons_subs.shape"
   ]
  },
  {
   "cell_type": "code",
   "execution_count": null,
   "id": "bf75f87b-7619-4dcb-be07-9dd69df5a779",
   "metadata": {},
   "outputs": [],
   "source": []
  },
  {
   "cell_type": "code",
   "execution_count": null,
   "id": "ac242f06-5fcb-439e-b427-1df802612528",
   "metadata": {},
   "outputs": [],
   "source": []
  },
  {
   "cell_type": "code",
   "execution_count": 56,
   "id": "a79a531d-69b5-4305-9d49-b978047e153d",
   "metadata": {
    "tags": []
   },
   "outputs": [
    {
     "data": {
      "text/plain": [
       "tensor([[ -4.4035, -44.7540, -81.8630, -27.9624,   2.5924]])"
      ]
     },
     "execution_count": 56,
     "metadata": {},
     "output_type": "execute_result"
    }
   ],
   "source": [
    "model.roots()[0].perturbation.concretize(x, A, sign=-1) + A_dict['/input.11']['/0']['lbias']"
   ]
  },
  {
   "cell_type": "code",
   "execution_count": null,
   "id": "ce60929f-8bd9-4e58-83b2-4438b66aec45",
   "metadata": {},
   "outputs": [],
   "source": []
  },
  {
   "cell_type": "code",
   "execution_count": null,
   "id": "84f3f461-9dd2-4107-9e84-f639d6d8dd20",
   "metadata": {},
   "outputs": [],
   "source": []
  },
  {
   "cell_type": "markdown",
   "id": "b1bb7905-d221-4ce7-ad3e-1dd276037107",
   "metadata": {},
   "source": [
    "# Building LP Model\n",
    "\n",
    "There is at least some code available to build LP and MILP models, but it doesn't seem to be maintained/is broken now. Maybe we can repair and use it."
   ]
  },
  {
   "cell_type": "code",
   "execution_count": 89,
   "id": "15fab111-98b9-4717-8725-92b94fced7b5",
   "metadata": {
    "tags": []
   },
   "outputs": [
    {
     "ename": "AttributeError",
     "evalue": "'function' object has no attribute 'CONTINUOUS'",
     "output_type": "error",
     "traceback": [
      "\u001b[0;31m---------------------------------------------------------------------------\u001b[0m",
      "\u001b[0;31mAttributeError\u001b[0m                            Traceback (most recent call last)",
      "Cell \u001b[0;32mIn[89], line 1\u001b[0m\n\u001b[0;32m----> 1\u001b[0m \u001b[43mmodel\u001b[49m\u001b[38;5;241;43m.\u001b[39;49m\u001b[43mbuild_solver_module\u001b[49m\u001b[43m(\u001b[49m\u001b[43mmodel_type\u001b[49m\u001b[38;5;241;43m=\u001b[39;49m\u001b[38;5;124;43m'\u001b[39;49m\u001b[38;5;124;43mlp\u001b[39;49m\u001b[38;5;124;43m'\u001b[39;49m\u001b[43m)\u001b[49m\n",
      "File \u001b[0;32m~/anaconda3/envs/autoLiRPA/lib/python3.10/site-packages/auto_LiRPA-0.4.0-py3.10.egg/auto_LiRPA/solver_module.py:50\u001b[0m, in \u001b[0;36mbuild_solver_module\u001b[0;34m(self, x, C, interm_bounds, final_node_name, model_type, solver_pkg)\u001b[0m\n\u001b[1;32m     47\u001b[0m \u001b[38;5;66;03m# if isinstance(root[i], BoundInput) and not isinstance(root[i], BoundParams):\u001b[39;00m\n\u001b[1;32m     48\u001b[0m \u001b[38;5;28;01mif\u001b[39;00m \u001b[38;5;28mtype\u001b[39m(roots[i]) \u001b[38;5;129;01mis\u001b[39;00m BoundInput:\n\u001b[1;32m     49\u001b[0m     \u001b[38;5;66;03m# create input vars for gurobi self.model\u001b[39;00m\n\u001b[0;32m---> 50\u001b[0m     inp_gurobi_vars \u001b[38;5;241m=\u001b[39m \u001b[38;5;28;43mself\u001b[39;49m\u001b[38;5;241;43m.\u001b[39;49m\u001b[43m_build_solver_input\u001b[49m\u001b[43m(\u001b[49m\u001b[43mroots\u001b[49m\u001b[43m[\u001b[49m\u001b[43mi\u001b[49m\u001b[43m]\u001b[49m\u001b[43m)\u001b[49m\n\u001b[1;32m     51\u001b[0m \u001b[38;5;28;01melse\u001b[39;00m:\n\u001b[1;32m     52\u001b[0m     \u001b[38;5;66;03m# regular weights\u001b[39;00m\n\u001b[1;32m     53\u001b[0m     roots[i]\u001b[38;5;241m.\u001b[39msolver_vars \u001b[38;5;241m=\u001b[39m value\n",
      "File \u001b[0;32m~/anaconda3/envs/autoLiRPA/lib/python3.10/site-packages/auto_LiRPA-0.4.0-py3.10.egg/auto_LiRPA/solver_module.py:97\u001b[0m, in \u001b[0;36m_build_solver_input\u001b[0;34m(self, node)\u001b[0m\n\u001b[1;32m     95\u001b[0m inp_gurobi_vars \u001b[38;5;241m=\u001b[39m []\n\u001b[1;32m     96\u001b[0m \u001b[38;5;66;03m# zero var will be shared within the solver model\u001b[39;00m\n\u001b[0;32m---> 97\u001b[0m zero_var \u001b[38;5;241m=\u001b[39m \u001b[38;5;28mself\u001b[39m\u001b[38;5;241m.\u001b[39mmodel\u001b[38;5;241m.\u001b[39maddVar(lb\u001b[38;5;241m=\u001b[39m\u001b[38;5;241m0\u001b[39m, ub\u001b[38;5;241m=\u001b[39m\u001b[38;5;241m0\u001b[39m, obj\u001b[38;5;241m=\u001b[39m\u001b[38;5;241m0\u001b[39m, vtype\u001b[38;5;241m=\u001b[39m\u001b[43mgrb\u001b[49m\u001b[38;5;241;43m.\u001b[39;49m\u001b[43mGRB\u001b[49m\u001b[38;5;241;43m.\u001b[39;49m\u001b[43mCONTINUOUS\u001b[49m, name\u001b[38;5;241m=\u001b[39m\u001b[38;5;124m'\u001b[39m\u001b[38;5;124mzero\u001b[39m\u001b[38;5;124m'\u001b[39m)\n\u001b[1;32m     98\u001b[0m one_var \u001b[38;5;241m=\u001b[39m \u001b[38;5;28mself\u001b[39m\u001b[38;5;241m.\u001b[39mmodel\u001b[38;5;241m.\u001b[39maddVar(lb\u001b[38;5;241m=\u001b[39m\u001b[38;5;241m1\u001b[39m, ub\u001b[38;5;241m=\u001b[39m\u001b[38;5;241m1\u001b[39m, obj\u001b[38;5;241m=\u001b[39m\u001b[38;5;241m0\u001b[39m, vtype\u001b[38;5;241m=\u001b[39mgrb\u001b[38;5;241m.\u001b[39mGRB\u001b[38;5;241m.\u001b[39mCONTINUOUS, name\u001b[38;5;241m=\u001b[39m\u001b[38;5;124m'\u001b[39m\u001b[38;5;124mone\u001b[39m\u001b[38;5;124m'\u001b[39m)\n\u001b[1;32m     99\u001b[0m neg_one_var \u001b[38;5;241m=\u001b[39m \u001b[38;5;28mself\u001b[39m\u001b[38;5;241m.\u001b[39mmodel\u001b[38;5;241m.\u001b[39maddVar(lb\u001b[38;5;241m=\u001b[39m\u001b[38;5;241m-\u001b[39m\u001b[38;5;241m1\u001b[39m, ub\u001b[38;5;241m=\u001b[39m\u001b[38;5;241m-\u001b[39m\u001b[38;5;241m1\u001b[39m, obj\u001b[38;5;241m=\u001b[39m\u001b[38;5;241m0\u001b[39m, vtype\u001b[38;5;241m=\u001b[39mgrb\u001b[38;5;241m.\u001b[39mGRB\u001b[38;5;241m.\u001b[39mCONTINUOUS, name\u001b[38;5;241m=\u001b[39m\u001b[38;5;124m'\u001b[39m\u001b[38;5;124mneg_one\u001b[39m\u001b[38;5;124m'\u001b[39m)\n",
      "\u001b[0;31mAttributeError\u001b[0m: 'function' object has no attribute 'CONTINUOUS'"
     ]
    }
   ],
   "source": [
    "model.build_solver_module(model_type='lp')"
   ]
  },
  {
   "cell_type": "code",
   "execution_count": 86,
   "id": "cd596ff5-2235-431d-afc4-e2cc608ce858",
   "metadata": {
    "tags": []
   },
   "outputs": [],
   "source": [
    "import gurobipy as grb"
   ]
  },
  {
   "cell_type": "code",
   "execution_count": 88,
   "id": "be9cf783-6807-4e40-991e-6974109ad9ec",
   "metadata": {
    "tags": []
   },
   "outputs": [
    {
     "name": "stdout",
     "output_type": "stream",
     "text": [
      "Set parameter Username\n",
      "Academic license - for non-commercial use only - expires 2024-11-27\n"
     ]
    }
   ],
   "source": [
    "model.model = grb.Model()"
   ]
  },
  {
   "cell_type": "code",
   "execution_count": null,
   "id": "d179d2d7-87f3-448a-a1ca-f3552ff0fa5b",
   "metadata": {},
   "outputs": [],
   "source": []
  }
 ],
 "metadata": {
  "kernelspec": {
   "display_name": "autoLiRPA",
   "language": "python",
   "name": "autolirpa"
  },
  "language_info": {
   "codemirror_mode": {
    "name": "ipython",
    "version": 3
   },
   "file_extension": ".py",
   "mimetype": "text/x-python",
   "name": "python",
   "nbconvert_exporter": "python",
   "pygments_lexer": "ipython3",
   "version": "3.10.13"
  }
 },
 "nbformat": 4,
 "nbformat_minor": 5
}
