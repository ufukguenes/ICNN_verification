{
 "cells": [
  {
   "cell_type": "code",
   "execution_count": 1,
   "metadata": {},
   "outputs": [],
   "source": [
    "import matplotlib.pyplot as plt\n",
    "\n",
    "import torch\n",
    "import torch.nn as nn\n",
    "\n",
    "from script.NeuralNets.Networks import SequentialNN\n",
    "from script.ZonotopePropagation.Zonotope import Zonotope\n",
    "from script.ZonotopePropagation.ZonotopePropagation import ZonotopePropagator\n",
    "from script.DHOV.Sampling.SamplingStrategy import SamplingStrategy\n",
    "from script.DHOV.Sampling.PerGroupSamplingStrategy import PerGroupSamplingStrategy\n",
    "from script.DHOV.Sampling.PropagateSamplingStrategy import UniformSamplingStrategy\n",
    "from script.settings import data_type, device\n",
    "\n",
    "from script.DHOV.Sampling.ZonotopeSamplingStrategy import ZonotopeSamplingStrategy as ZS\n",
    "\n",
    "import script.DHOV.DataSampling as ds\n",
    "\n",
    "import numpy as np\n"
   ]
  },
  {
   "cell_type": "code",
   "execution_count": 2,
   "metadata": {},
   "outputs": [
    {
     "data": {
      "text/plain": [
       "SequentialNN(\n",
       "  (0): Linear(in_features=2, out_features=2, bias=True)\n",
       "  (1): ReLU()\n",
       "  (2): Linear(in_features=2, out_features=2, bias=True)\n",
       "  (3): ReLU()\n",
       "  (4): Linear(in_features=2, out_features=2, bias=True)\n",
       ")"
      ]
     },
     "execution_count": 2,
     "metadata": {},
     "output_type": "execute_result"
    }
   ],
   "source": [
    "# input_dim, hidden_dim1, hidden_dim2, ..., output_dim\n",
    "model = SequentialNN([2, 2, 2, 2])\n",
    "model"
   ]
  },
  {
   "cell_type": "code",
   "execution_count": 3,
   "metadata": {},
   "outputs": [],
   "source": [
    "with torch.no_grad():\n",
    "    model[0].weight = nn.Parameter(torch.tensor([[1, 1], [1, -1.]], dtype=data_type))\n",
    "    model[0].bias   = nn.Parameter(torch.zeros(2, dtype=data_type))\n",
    "\n",
    "    model[2].weight = nn.Parameter(torch.tensor([[1, 1], [1, -1.]], dtype=data_type))\n",
    "    model[2].bias   = nn.Parameter(torch.tensor([-0.5, 0], dtype=data_type))\n",
    "\n",
    "    model[4].weight = nn.Parameter(torch.tensor([[-1, 1], [0, 1.]], dtype=data_type))\n",
    "    model[4].bias   = nn.Parameter(torch.tensor([3., 0], dtype=data_type))"
   ]
  },
  {
   "cell_type": "code",
   "execution_count": 4,
   "metadata": {},
   "outputs": [],
   "source": [
    "zp = ZonotopePropagator(model)"
   ]
  },
  {
   "cell_type": "code",
   "execution_count": 5,
   "metadata": {},
   "outputs": [
    {
     "name": "stdout",
     "output_type": "stream",
     "text": [
      "propagating linear layer\n",
      "propagating ReLU layer\n",
      "propagating linear layer\n",
      "propagating ReLU layer\n",
      "propagating linear layer\n",
      "tensor([2.7188, 0.5000], dtype=torch.float64, grad_fn=<AddBackward0>)\n"
     ]
    },
    {
     "data": {
      "text/plain": [
       "tensor([[-0.6250,  0.5000, -0.0625, -0.5625, -0.4688,  0.5000],\n",
       "        [ 0.0000,  0.5000,  0.2500, -0.2500,  0.0000,  0.5000]],\n",
       "       dtype=torch.float64, grad_fn=<PermuteBackward0>)"
      ]
     },
     "execution_count": 5,
     "metadata": {},
     "output_type": "execute_result"
    }
   ],
   "source": [
    "lbs = torch.tensor([-1., -1], dtype=data_type)\n",
    "ubs = torch.tensor([1., 1], dtype=data_type)\n",
    "z = zp.propagate(lbs, ubs, dtype=data_type)\n",
    "\n",
    "print(z.center)\n",
    "z.generators.T"
   ]
  },
  {
   "cell_type": "markdown",
   "metadata": {},
   "source": [
    "# Sampling Methods"
   ]
  },
  {
   "cell_type": "code",
   "execution_count": 6,
   "metadata": {},
   "outputs": [],
   "source": [
    "def sample_direction(d, z):\n",
    "    \"\"\"\n",
    "    Finds point that maximizes d^T x for x in zonotope z.\n",
    "\n",
    "    Just linearly transforms the zonotope in direction d,\n",
    "    then calculates the maximizer for that 1d zonotope and \n",
    "    applies that maximizer to the original zonotope z.\n",
    "\n",
    "    args:\n",
    "        d - an (n x 1) tensor for an n dimensional zonotope z \n",
    "            the direction to maximize in\n",
    "        z - the zonotope to maximize over\n",
    "\n",
    "    returns:\n",
    "        p_out - (n x 1) tensor, point in z that maximizes d^T x for x in z\n",
    "    \"\"\"\n",
    "    z_sample = zp.propagate_linear(d.T, torch.tensor([0.], dtype=data_type), z)\n",
    "    x_hat = torch.where(z_sample.generators > 0, torch.tensor(1., dtype=data_type), torch.tensor(-1., dtype=data_type))\n",
    "    p_out = x_hat.T @ z.generators + z.center\n",
    "\n",
    "    return p_out.reshape(-1, 1)"
   ]
  },
  {
   "cell_type": "code",
   "execution_count": 7,
   "metadata": {},
   "outputs": [],
   "source": [
    "def sample_directions(D, z):\n",
    "    \"\"\"\n",
    "    Finds points that maximize d^T x for x in zonotope z and d = D[i,:]\n",
    "\n",
    "    returns:\n",
    "        P - (n x d) one column for each sample point\n",
    "    \"\"\"\n",
    "    n_samples = D.shape[0]\n",
    "    z_sample = zp.propagate_linear(D, torch.zeros(n_samples, dtype=data_type), z)\n",
    "    X_hat = torch.where(z_sample.generators > 0, torch.tensor(1., dtype=data_type), torch.tensor(-1., dtype=data_type))\n",
    "\n",
    "    P = z.generators.T @ X_hat + z.center.reshape(-1, 1)\n",
    "    return P"
   ]
  },
  {
   "cell_type": "markdown",
   "metadata": {},
   "source": [
    "## Sampling Single Points"
   ]
  },
  {
   "cell_type": "code",
   "execution_count": 8,
   "metadata": {},
   "outputs": [],
   "source": [
    "n_samples = 100\n",
    "dirs = torch.randn((2, n_samples), dtype=data_type)\n",
    "ps = []\n",
    "for i in range(n_samples):\n",
    "    d = dirs[:,i].reshape(-1, 1)\n",
    "    p = sample_direction(d, z)\n",
    "    ps.append(p)"
   ]
  },
  {
   "cell_type": "code",
   "execution_count": 9,
   "metadata": {},
   "outputs": [
    {
     "data": {
      "text/plain": [
       "<matplotlib.collections.PathCollection at 0x7f8437f6f850>"
      ]
     },
     "execution_count": 9,
     "metadata": {},
     "output_type": "execute_result"
    },
    {
     "data": {
      "image/png": "[encoded data removed]",
      "text/plain": [
       "<Figure size 640x480 with 1 Axes>"
      ]
     },
     "metadata": {},
     "output_type": "display_data"
    }
   ],
   "source": [
    "xs = [p[0,0].detach().numpy() for p in ps]\n",
    "ys = [p[1,0].detach().numpy() for p in ps]\n",
    "\n",
    "plt.scatter(xs, ys)"
   ]
  },
  {
   "cell_type": "markdown",
   "metadata": {},
   "source": [
    "## Simultaneously Sampling Many Points"
   ]
  },
  {
   "cell_type": "code",
   "execution_count": 10,
   "metadata": {},
   "outputs": [],
   "source": [
    "D = torch.randn((100, 2), dtype=data_type)\n",
    "\n",
    "P = sample_directions(D, z)"
   ]
  },
  {
   "cell_type": "code",
   "execution_count": 11,
   "metadata": {},
   "outputs": [
    {
     "data": {
      "text/plain": [
       "<matplotlib.collections.PathCollection at 0x7f8435141790>"
      ]
     },
     "execution_count": 11,
     "metadata": {},
     "output_type": "execute_result"
    },
    {
     "data": {
      "image/png": "[encoded data removed]",
      "text/plain": [
       "<Figure size 640x480 with 1 Axes>"
      ]
     },
     "metadata": {},
     "output_type": "display_data"
    }
   ],
   "source": [
    "xs = P[0,:].detach().numpy()\n",
    "ys = P[1,:].detach().numpy()\n",
    "\n",
    "plt.scatter(xs, ys)"
   ]
  },
  {
   "cell_type": "markdown",
   "metadata": {},
   "source": [
    "Now integrated into the `Zonotope` class"
   ]
  },
  {
   "cell_type": "code",
   "execution_count": 12,
   "metadata": {},
   "outputs": [
    {
     "data": {
      "text/plain": [
       "<matplotlib.collections.PathCollection at 0x7f8438aca410>"
      ]
     },
     "execution_count": 12,
     "metadata": {},
     "output_type": "execute_result"
    },
    {
     "data": {
      "image/png": "[encoded data removed]",
      "text/plain": [
       "<Figure size 640x480 with 1 Axes>"
      ]
     },
     "metadata": {},
     "output_type": "display_data"
    }
   ],
   "source": [
    "P = z.sample_boundary()\n",
    "\n",
    "xs = P[0,:].detach().numpy()\n",
    "ys = P[1,:].detach().numpy()\n",
    "\n",
    "plt.scatter(xs, ys)"
   ]
  },
  {
   "cell_type": "code",
   "execution_count": 13,
   "metadata": {},
   "outputs": [
    {
     "data": {
      "text/plain": [
       "Zonotope(center=tensor([2.7188, 0.5000], dtype=torch.float64, grad_fn=<SliceBackward0>), generators=tensor([[-0.6250,  0.0000],\n",
       "        [ 0.5000,  0.5000],\n",
       "        [-0.0625,  0.2500],\n",
       "        [-0.5625, -0.2500],\n",
       "        [-0.4688,  0.0000],\n",
       "        [ 0.5000,  0.5000]], dtype=torch.float64, grad_fn=<SliceBackward0>))"
      ]
     },
     "execution_count": 13,
     "metadata": {},
     "output_type": "execute_result"
    }
   ],
   "source": [
    "z[0:2]"
   ]
  },
  {
   "cell_type": "markdown",
   "metadata": {},
   "source": [
    "# Implement SamplingStrategy Interface"
   ]
  },
  {
   "cell_type": "code",
   "execution_count": 42,
   "metadata": {},
   "outputs": [],
   "source": [
    "class ZonotopeSamplingStrategy(SamplingStrategy):\n",
    "\n",
    "    def __init__(self, *args, use_intermediate_bounds=True, **kwargs):\n",
    "        super().__init__(*args, **kwargs)\n",
    "\n",
    "        in_lbs = self.center - self.eps\n",
    "        in_ubs = self.center + self.eps\n",
    "        self.zono = Zonotope.from_bounds(in_lbs, in_ubs, shape=(len(in_lbs),), dtype=data_type)\n",
    "        self.use_intermediate_bounds = use_intermediate_bounds\n",
    "\n",
    "        self.sampling_eps = self.eps\n",
    "\n",
    "    def sampling_by_round(self, affine_w, affine_b, group_indices, gurobi_model, current_layer_index, bounds_affine_out,\n",
    "                          bounds_layer_out, list_of_icnns):\n",
    "        \"\"\"\n",
    "        Use this method to sample data points for one layer for all groups.\n",
    "        Args:\n",
    "         list_of_icnns:\n",
    "            affine_w: the weight matrix of the current layer\n",
    "            affine_b: the bias vector of the current layer\n",
    "            group_indices: the index of the neuron to be sampled, for all groups\n",
    "            gurobi_model: the gurobi model to be used for sampling\n",
    "            current_layer_index: the index of the current layer\n",
    "            bounds_affine_out: the bounds of the affine output space of the all layers\n",
    "            bounds_layer_out: the bounds of the activation output space of the all layers\n",
    "\n",
    "        Returns: list of tuple of included_space, ambient_space\n",
    "\n",
    "        \"\"\"\n",
    "        z = ZonotopePropagator.propagate_linear(affine_w, affine_b, self.zono)\n",
    "\n",
    "        \n",
    "        current_bounds_affine_out = bounds_affine_out[current_layer_index]\n",
    "        current_bounds_layer_out  = bounds_layer_out[current_layer_index]\n",
    "\n",
    "        n_included, n_ambient = self.get_num_of_samples()\n",
    "        included_samples = []\n",
    "        ambient_samples = []\n",
    "        for group in group_indices[current_layer_index]:\n",
    "            z_group = z[group]\n",
    "            P = z_group.sample_boundary(n_samples=n_included)\n",
    "            #samples = torch.zeros((n_included, affine_b.shape[0]), dtype=data_type)\n",
    "            #samples[:,group] = nn.functional.relu(P.T)\n",
    "            samples = nn.functional.relu(P.T)\n",
    "            included_samples.append(samples)\n",
    "\n",
    "            new_amb_space = ds.samples_uniform_over(torch.zeros((n_ambient, affine_b.shape[0])), n_ambient,\n",
    "                                                        current_bounds_layer_out,\n",
    "                                                        padding=self.sampling_eps, keep_samples=False)\n",
    "            new_amb_space = torch.index_select(new_amb_space, 1, torch.tensor(group))\n",
    "\n",
    "            ambient_samples.append(new_amb_space)\n",
    "\n",
    "        lb = current_bounds_affine_out[0] if self.use_intermediate_bounds else None\n",
    "        ub = current_bounds_affine_out[1] if self.use_intermediate_bounds else None\n",
    "        self.zono = ZonotopePropagator.propagate_relu(z, lb=lb, ub=ub)\n",
    "\n",
    "        return included_samples, ambient_samples\n"
   ]
  },
  {
   "cell_type": "code",
   "execution_count": 15,
   "metadata": {},
   "outputs": [],
   "source": [
    "center = 0.5 * (lbs + ubs)\n",
    "eps = 0.5 * (ubs - lbs)\n",
    "\n",
    "# group_indices is of type list of (list of indices per group) per layer\n",
    "group_indices = [[[0, 1], [1, 0]], [[0,1], [1,0]], [[0,1], [1,0]]]\n",
    "current_layer_index = 0\n",
    "simple_bounds_affine_out, simple_bounds_layer_out = model.calculate_box_bounds([lbs, ubs])"
   ]
  },
  {
   "cell_type": "code",
   "execution_count": 16,
   "metadata": {},
   "outputs": [],
   "source": [
    "zono_strategy = ZonotopeSamplingStrategy(center, eps, model, sample_count=200, use_intermediate_bounds=False)\n",
    "\n",
    "current_layer_index = 0\n",
    "zono_strategy.sampling_by_round(model[0].weight, model[0].bias, group_indices, None, current_layer_index, simple_bounds_affine_out, simple_bounds_layer_out, [])\n",
    "\n",
    "current_layer_index = 1\n",
    "zono_strategy.sampling_by_round(model[2].weight, model[2].bias, group_indices, None, current_layer_index, simple_bounds_affine_out, simple_bounds_layer_out, [])\n",
    "\n",
    "current_layer_index = 2\n",
    "included_samples, ambient_samples = zono_strategy.sampling_by_round(model[4].weight, model[4].bias, group_indices, None, current_layer_index, simple_bounds_affine_out, simple_bounds_layer_out, [])"
   ]
  },
  {
   "cell_type": "code",
   "execution_count": 17,
   "metadata": {},
   "outputs": [
    {
     "data": {
      "text/plain": [
       "<matplotlib.legend.Legend at 0x7f84351e6d90>"
      ]
     },
     "execution_count": 17,
     "metadata": {},
     "output_type": "execute_result"
    },
    {
     "data": {
      "image/png": "[encoded data removed]",
      "text/plain": [
       "<Figure size 640x480 with 1 Axes>"
      ]
     },
     "metadata": {},
     "output_type": "display_data"
    }
   ],
   "source": [
    "P = z.sample_boundary()\n",
    "\n",
    "xs = P[0,:].detach().numpy()\n",
    "ys = P[1,:].detach().numpy()\n",
    "\n",
    "plt.scatter(xs, ys, label=\"zono_out\")\n",
    "\n",
    "plt.scatter(np.maximum(0, xs), np.maximum(0, ys), label=\"ReLU(zono)\")\n",
    "\n",
    "xs = included_samples[0][:,0].detach().numpy()\n",
    "ys = included_samples[0][:,1].detach().numpy()\n",
    "\n",
    "plt.scatter(xs, ys, label=\"samples ReLU(zono)\")\n",
    "plt.legend(loc='upper left')"
   ]
  },
  {
   "cell_type": "markdown",
   "metadata": {},
   "source": [
    "Sampling with zonotopes seems to work, if we set `use_intermediate_bounds=True`, we get a little different results, but that is to be expected, if different bounds are used throughout."
   ]
  },
  {
   "cell_type": "code",
   "execution_count": 18,
   "metadata": {},
   "outputs": [],
   "source": [
    "zs = ZS(center, eps, model, sample_count=200, use_intermediate_bounds=True)\n",
    "\n",
    "current_layer_index = 0\n",
    "zs.sampling_by_round(model[0].weight, model[0].bias, group_indices, None, current_layer_index, simple_bounds_affine_out, simple_bounds_layer_out, [])\n",
    "\n",
    "current_layer_index = 1\n",
    "zs.sampling_by_round(model[2].weight, model[2].bias, group_indices, None, current_layer_index, simple_bounds_affine_out, simple_bounds_layer_out, [])\n",
    "\n",
    "current_layer_index = 2\n",
    "included_samples, ambient_samples = zs.sampling_by_round(model[4].weight, model[4].bias, group_indices, None, current_layer_index, simple_bounds_affine_out, simple_bounds_layer_out, [])"
   ]
  },
  {
   "cell_type": "code",
   "execution_count": 19,
   "metadata": {},
   "outputs": [
    {
     "data": {
      "text/plain": [
       "<matplotlib.legend.Legend at 0x7f842939a8d0>"
      ]
     },
     "execution_count": 19,
     "metadata": {},
     "output_type": "execute_result"
    },
    {
     "data": {
      "image/png": "[encoded data removed]",
      "text/plain": [
       "<Figure size 640x480 with 1 Axes>"
      ]
     },
     "metadata": {},
     "output_type": "display_data"
    }
   ],
   "source": [
    "P = z.sample_boundary()\n",
    "\n",
    "xs = P[0,:].detach().numpy()\n",
    "ys = P[1,:].detach().numpy()\n",
    "\n",
    "plt.scatter(xs, ys, label=\"zono_out\")\n",
    "\n",
    "plt.scatter(np.maximum(0, xs), np.maximum(0, ys), label=\"ReLU(zono)\")\n",
    "\n",
    "xs = included_samples[0][:,0].detach().numpy()\n",
    "ys = included_samples[0][:,1].detach().numpy()\n",
    "\n",
    "plt.scatter(xs, ys, label=\"samples ReLU(zono)\")\n",
    "plt.legend(loc='upper left')"
   ]
  },
  {
   "cell_type": "code",
   "execution_count": null,
   "metadata": {},
   "outputs": [],
   "source": []
  },
  {
   "cell_type": "code",
   "execution_count": 43,
   "metadata": {},
   "outputs": [
    {
     "data": {
      "text/plain": [
       "SequentialNN(\n",
       "  (0): Linear(in_features=2, out_features=4, bias=True)\n",
       "  (1): ReLU()\n",
       "  (2): Linear(in_features=4, out_features=4, bias=True)\n",
       "  (3): ReLU()\n",
       "  (4): Linear(in_features=4, out_features=4, bias=True)\n",
       ")"
      ]
     },
     "execution_count": 43,
     "metadata": {},
     "output_type": "execute_result"
    }
   ],
   "source": [
    "model = SequentialNN([2, 4, 4, 4])\n",
    "model"
   ]
  },
  {
   "cell_type": "code",
   "execution_count": 44,
   "metadata": {},
   "outputs": [],
   "source": [
    "center = 0.5 * (lbs + ubs)\n",
    "eps = 0.5 * (ubs - lbs)[0]\n",
    "\n",
    "# group_indices is of type list of (list of indices per group) per layer\n",
    "group_indices = [[[0, 1], [2, 3]], [[0,1], [2, 3]], [[0,1], [2, 3]]]\n",
    "current_layer_index = 0\n",
    "simple_bounds_affine_out, simple_bounds_layer_out = model.calculate_box_bounds([lbs, ubs])\n",
    "\n",
    "zono_strategy = ZonotopeSamplingStrategy(center, eps, model, sample_count=200, use_intermediate_bounds=False)\n",
    "\n",
    "current_layer_index = 0\n",
    "zono_strategy.sampling_by_round(model[0].weight, model[0].bias, group_indices, None, current_layer_index, simple_bounds_affine_out, simple_bounds_layer_out, [])\n",
    "\n",
    "current_layer_index = 1\n",
    "zono_strategy.sampling_by_round(model[2].weight, model[2].bias, group_indices, None, current_layer_index, simple_bounds_affine_out, simple_bounds_layer_out, [])\n",
    "\n",
    "current_layer_index = 2\n",
    "included_samples, ambient_samples = zono_strategy.sampling_by_round(model[4].weight, model[4].bias, group_indices, None, current_layer_index, simple_bounds_affine_out, simple_bounds_layer_out, [])"
   ]
  },
  {
   "cell_type": "code",
   "execution_count": null,
   "metadata": {},
   "outputs": [],
   "source": []
  }
 ],
 "metadata": {
  "kernelspec": {
   "display_name": "icnn-verification",
   "language": "python",
   "name": "python3"
  },
  "language_info": {
   "codemirror_mode": {
    "name": "ipython",
    "version": 3
   },
   "file_extension": ".py",
   "mimetype": "text/x-python",
   "name": "python",
   "nbconvert_exporter": "python",
   "pygments_lexer": "ipython3",
   "version": "3.11.8"
  }
 },
 "nbformat": 4,
 "nbformat_minor": 2
}
